{
 "cells": [
  {
   "cell_type": "code",
   "execution_count": null,
   "id": "662e8e2a",
   "metadata": {},
   "outputs": [],
   "source": []
  },
  {
   "cell_type": "code",
   "execution_count": 1,
   "id": "aeb08331",
   "metadata": {},
   "outputs": [],
   "source": [
    "import sys\n",
    "import os\n",
    "import struct\n",
    "import time\n",
    "import numpy as np\n",
    "import h5py\n",
    "from scipy.io import loadmat\n",
    "from scipy.stats import pearsonr\n",
    "from tqdm import tqdm\n",
    "import pickle\n",
    "import math\n",
    "import matplotlib.pyplot as plt\n",
    "from matplotlib import cm\n",
    "import seaborn as sns\n",
    "%matplotlib inline\n",
    "\n",
    "fpX = np.float32\n",
    "\n",
    "import torch \n",
    "sys.path.append('/user_data/mmhender/llorg/fwrf_code_from_osf/')\n",
    "import src.numpy_utility as pnu\n",
    "from src.file_utility import save_stuff, flatten_dict, embed_dict\n",
    "from src.gabor_feature_extractor import Gaborizer\n",
    "from src.torch_fwrf import get_value, set_value\n",
    "from src.rf_grid import linspace, logspace\n",
    "import src.numpy_utility as pnu\n",
    "from src.file_utility import save_stuff, flatten_dict, embed_dict\n",
    "from src.load_nsd import image_uncolorize_fn"
   ]
  },
  {
   "cell_type": "code",
   "execution_count": 2,
   "id": "32fdf4a8",
   "metadata": {
    "scrolled": true
   },
   "outputs": [
    {
     "name": "stdout",
     "output_type": "stream",
     "text": [
      "#device: 1\n",
      "device#: 0\n",
      "device name: GeForce RTX 3090\n",
      "\n",
      "torch: 1.8.1+cu111\n",
      "cuda:  11.1\n",
      "cudnn: 8005\n",
      "dtype: torch.float32\n"
     ]
    }
   ],
   "source": [
    "import torch\n",
    "print ('#device:', torch.cuda.device_count())\n",
    "print ('device#:', torch.cuda.current_device())\n",
    "print ('device name:', torch.cuda.get_device_name(torch.cuda.current_device()))\n",
    "\n",
    "torch.manual_seed(time.time())\n",
    "device = torch.device(\"cuda:0\") #cuda\n",
    "torch.backends.cudnn.enabled=True\n",
    "\n",
    "print ('\\ntorch:', torch.__version__)\n",
    "print ('cuda: ', torch.version.cuda)\n",
    "print ('cudnn:', torch.backends.cudnn.version())\n",
    "print ('dtype:', torch.get_default_dtype())\n",
    "#torch.set_default_dtype(torch.float64)"
   ]
  },
  {
   "cell_type": "code",
   "execution_count": 3,
   "id": "594e044d",
   "metadata": {},
   "outputs": [],
   "source": [
    "sns.axes_style()\n",
    "sns.set_style(\"white\")\n",
    "sns.set_context(\"notebook\", rc={'axes.labelsize': 12.0, 'axes.titlesize': 14.0, 'legend.fontsize': 12.0, 'xtick.labelsize': 12.0, 'ytick.labelsize': 12.0})\n",
    "sns.set_palette(\"deep\")"
   ]
  },
  {
   "cell_type": "code",
   "execution_count": 3,
   "id": "52ba146e",
   "metadata": {},
   "outputs": [],
   "source": [
    "nsd_root = \"/lab_data/tarrlab/common/datasets/NSD/\"\n",
    "stim_root = '/user_data/mmhender/nsd_stimuli/stimuli/nsd/'\n",
    "mask_root = nsd_root + \"nsddata/ppdata/\"\n",
    "\n",
    "subject = 1\n",
    "saveext = \".png\"\n",
    "savearg = {'format':'png', 'dpi': 120, 'facecolor': None}\n",
    "# timestamp = 'May-03-2021_0134'\n",
    "timestamp = 'May-04-2021_0340'\n",
    "# timestamp = time.strftime('%b-%d-%Y_%H%M', time.localtime())\n",
    "model_name = 'gabor_fwrf'\n",
    "\n",
    "root_dir   = os.path.dirname(os.getcwd())\n",
    "net_dir    = root_dir + \"net/\" \n",
    "\n",
    "# input_dir  = '/home/styvesg/repo.data/results/nsd/torch_fwrf_full_brain/S%02d/dnn_fwrf_May-10-2020_1814/'\n",
    "output_dir = os.path.join(root_dir, 'gabor_model_fits','S%02d'%subject,'%s_%s/'% (model_name,timestamp) )"
   ]
  },
  {
   "cell_type": "code",
   "execution_count": 4,
   "id": "e18e6554",
   "metadata": {},
   "outputs": [
    {
     "name": "stdout",
     "output_type": "stream",
     "text": [
      "['model_params_allROIs', 'val_cc.nii', 'rf_ecc.nii', 'rf_ang.nii', 'rf_size.nii']\n",
      "dict_keys(['lmask', 'fmask', 'tuning_masks', 'ori_tuning_masks', 'cyc_per_stim', 'orients_deg', 'aperture', 'voxel_mask', 'brain_nii_shape', 'image_order', 'voxel_index', 'voxel_roi', 'best_params', 'lambdas', 'best_lambdas', 'val_cc', 'best_losses', 'partition_val_sf', 'partition_val_orient'])\n",
      "(11694, 3)\n",
      "(11694, 432)\n"
     ]
    }
   ],
   "source": [
    "# Loading the results of model fitting performed with fit_model.py\n",
    "\n",
    "fns = os.listdir(output_dir)\n",
    "print(fns)\n",
    "out = torch.load(os.path.join(output_dir, fns[0]))\n",
    "print(out.keys())\n",
    "\n",
    "aperture = out['aperture']\n",
    "cyc_per_stim  = out['cyc_per_stim']\n",
    "orients_deg = out['orients_deg']\n",
    "\n",
    "sf_tuning_masks = out['tuning_masks']\n",
    "ori_tuning_masks = out['ori_tuning_masks']\n",
    "\n",
    "voxel_mask = out['voxel_mask']\n",
    "brain_nii_shape = out['brain_nii_shape']\n",
    "image_order = out['image_order']\n",
    "voxel_idx = out['voxel_index']\n",
    "voxel_roi = out['voxel_roi']\n",
    "\n",
    "val_cc = out['val_cc']\n",
    "best_params = out['best_params']\n",
    "best_lambdas = out['best_lambdas']\n",
    "best_losses = out['best_losses']\n",
    "lambdas = out['lambdas']\n",
    "\n",
    "partition_cc_sf = out['partition_val_sf']\n",
    "partition_cc_ori = out['partition_val_orient']\n",
    "\n",
    "# Best params[0] = x,y,sigma for pRF estimates [n_voxels x 3]\n",
    "print(np.shape(best_params[0]))\n",
    "# Best params[1] = best weights [n_voxels x nFeatures]\n",
    "print(np.shape(best_params[1]))\n",
    "\n",
    "best_models = best_params[0]\n",
    "best_ecc  = np.sqrt(np.square(best_models[:,0]) + np.square(best_models[:,1]))\n",
    "best_ang  = np.arctan2(best_models[:,1], best_models[:,0])\n",
    "best_size = best_models[:,2]\n",
    "\n",
    "feature_weights = best_params[1]\n",
    "\n",
    "n_sf = len(cyc_per_stim)\n",
    "n_ori = len(orients_deg)\n",
    "n_voxels = np.shape(feature_weights)[0]\n",
    "n_features_total = np.shape(feature_weights)[1]"
   ]
  }
 ],
 "metadata": {
  "kernelspec": {
   "display_name": "Python 3",
   "language": "python",
   "name": "python3"
  },
  "language_info": {
   "codemirror_mode": {
    "name": "ipython",
    "version": 3
   },
   "file_extension": ".py",
   "mimetype": "text/x-python",
   "name": "python",
   "nbconvert_exporter": "python",
   "pygments_lexer": "ipython3",
   "version": "3.7.1"
  }
 },
 "nbformat": 4,
 "nbformat_minor": 5
}
