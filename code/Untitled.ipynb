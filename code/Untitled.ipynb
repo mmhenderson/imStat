{
 "cells": [
  {
   "cell_type": "code",
   "execution_count": 16,
   "id": "f85b1f45",
   "metadata": {},
   "outputs": [
    {
     "data": {
      "text/plain": [
       "'/user_data/mmhender/llorg'"
      ]
     },
     "execution_count": 16,
     "metadata": {},
     "output_type": "execute_result"
    }
   ],
   "source": [
    "import os\n",
    "import numpy as np\n",
    "segments = os.getcwd().split('/')[0:-1]\n",
    "os.path.dirname(os.getcwd())"
   ]
  },
  {
   "cell_type": "code",
   "execution_count": 30,
   "id": "dcd29696",
   "metadata": {},
   "outputs": [
    {
     "data": {
      "text/plain": [
       "array([ True,  True,  True,  True, False, False, False])"
      ]
     },
     "execution_count": 30,
     "metadata": {},
     "output_type": "execute_result"
    }
   ],
   "source": [
    "groupind = np.arange(0,11,1)\n",
    "group = [[1,2],[3,4],[5,6], [7], [16, 17], [14, 15], [18,19,20,21,22,23], [8, 9], [10,11], [13], [12], [24,25,0]]\n",
    "\n",
    "voxel_joined_roi_full = np.array([1,2,3,16,0,24, -1],dtype=int)\n",
    "np.isin(voxel_joined_roi_full,np.concatenate(group[0:11],axis=0))"
   ]
  },
  {
   "cell_type": "code",
   "execution_count": 34,
   "id": "ca8fe6d5",
   "metadata": {},
   "outputs": [
    {
     "name": "stdout",
     "output_type": "stream",
     "text": [
      "dict_keys(['lmask', 'fmask', 'tuning_masks', 'ori_tuning_masks', 'cyc_per_stim', 'orients_deg', 'aperture', 'voxel_mask', 'brain_nii_shape', 'image_order', 'voxel_index', 'voxel_roi', 'best_params', 'lambdas', 'best_lambdas', 'val_cc', 'best_losses', 'partition_val_sf', 'partition_val_orient'])\n"
     ]
    }
   ],
   "source": [
    "import torch\n",
    "out = torch.load('/user_data/mmhender/llorg/gabor_model_fits/S02/gabor_fwrf_May-04-2021_0312/model_params_allROIs')\n",
    "print(out.keys())"
   ]
  },
  {
   "cell_type": "code",
   "execution_count": 39,
   "id": "128a12da",
   "metadata": {},
   "outputs": [
    {
     "data": {
      "text/plain": [
       "(2, 9987)"
      ]
     },
     "execution_count": 39,
     "metadata": {},
     "output_type": "execute_result"
    }
   ],
   "source": [
    "np.shape(out['partition_val_orient'])"
   ]
  },
  {
   "cell_type": "code",
   "execution_count": 42,
   "id": "ab51c55f",
   "metadata": {},
   "outputs": [
    {
     "data": {
      "text/plain": [
       "array([42.54773 , 75.515915, 31.85236 , ..., 65.04051 , 59.663685,\n",
       "       54.58349 ], dtype=float32)"
      ]
     },
     "execution_count": 42,
     "metadata": {},
     "output_type": "execute_result"
    }
   ],
   "source": [
    "out['best_losses']"
   ]
  },
  {
   "cell_type": "code",
   "execution_count": 26,
   "id": "bd0ae293",
   "metadata": {},
   "outputs": [
    {
     "data": {
      "text/plain": [
       "array([ 1,  2,  3,  4,  5,  6,  7, 16, 17, 14, 15, 18, 19, 20, 21, 22, 23,\n",
       "        8,  9, 10, 11, 13, 12, 24, 25,  0])"
      ]
     },
     "execution_count": 26,
     "metadata": {},
     "output_type": "execute_result"
    }
   ],
   "source": [
    "np.concatenate([group[ii][:] for ii in range(11)])\n",
    "np.concatenate(group, axis=0)"
   ]
  },
  {
   "cell_type": "code",
   "execution_count": 43,
   "id": "e3ec6fcd",
   "metadata": {},
   "outputs": [],
   "source": [
    "import sys\n",
    "import os\n",
    "import struct\n",
    "import time\n",
    "import numpy as np\n",
    "import h5py\n",
    "from scipy.io import loadmat\n",
    "from scipy.stats import pearsonr\n",
    "from tqdm import tqdm\n",
    "import pickle\n",
    "import math\n",
    "import matplotlib.pyplot as plt\n",
    "from matplotlib import cm\n",
    "import seaborn as sns\n",
    "%matplotlib inline\n",
    "\n",
    "fpX = np.float32\n",
    "\n",
    "import torch \n",
    "sys.path.append('/user_data/mmhender/llorg/fwrf_code_from_osf/')\n",
    "import src.numpy_utility as pnu\n",
    "from src.file_utility import save_stuff, flatten_dict, embed_dict\n",
    "from src.gabor_feature_extractor import Gaborizer\n",
    "from src.torch_fwrf import get_value, set_value\n",
    "from src.rf_grid import linspace, logspace\n",
    "import src.numpy_utility as pnu\n",
    "from src.file_utility import save_stuff, flatten_dict, embed_dict\n",
    "from src.load_nsd import image_uncolorize_fn\n",
    "from src.roi import roi_map, iterate_roi"
   ]
  },
  {
   "cell_type": "code",
   "execution_count": 46,
   "id": "b652512c",
   "metadata": {},
   "outputs": [],
   "source": [
    "nsd_root = \"/lab_data/tarrlab/common/datasets/NSD/\"\n",
    "stim_root = '/user_data/mmhender/nsd_stimuli/stimuli/nsd/'\n",
    "mask_root = nsd_root + \"nsddata/ppdata/\"\n",
    "beta_root = nsd_root + \"nsddata_betas/ppdata/\"\n",
    "\n",
    "subject = 1\n",
    "saveext = \".png\"\n",
    "savearg = {'format':'png', 'dpi': 120, 'facecolor': None}\n",
    "timestamp = 'May-03-2021_0134'\n",
    "# timestamp = time.strftime('%b-%d-%Y_%H%M', time.localtime())\n",
    "model_name = 'gabor_fwrf'\n",
    "\n",
    "root_dir = '/user_data/mmhender/nsd-master/'\n",
    "# root_dir   = os.getcwd() + '/'\n",
    "net_dir    = root_dir + \"net/\" \n",
    "\n",
    "# input_dir  = '/home/styvesg/repo.data/results/nsd/torch_fwrf_full_brain/S%02d/dnn_fwrf_May-10-2020_1814/'\n",
    "output_dir = root_dir+\"output/S%02d/%s_%s/\" % (subject,model_name,timestamp) "
   ]
  },
  {
   "cell_type": "code",
   "execution_count": 47,
   "id": "29e48539",
   "metadata": {},
   "outputs": [
    {
     "name": "stdout",
     "output_type": "stream",
     "text": [
      "\n",
      "Sizes of all defined ROIs in this subject:\n",
      "2392 \t: V1\n",
      "2096 \t: V2\n",
      "1674 \t: V3\n",
      "721 \t: hV4\n",
      "965 \t: V3ab\n",
      "488 \t: LO\n",
      "2155 \t: IPS\n",
      "482 \t: VO\n",
      "382 \t: PHC\n",
      "284 \t: MT\n",
      "55 \t: MST\n",
      "0 \t: other\n",
      "11694 \t: Total\n",
      "\n",
      "Running model for allROIs, 11694 voxels\n",
      "\n"
     ]
    }
   ],
   "source": [
    "## DEFINE ROIS/VOXELS TO USE HERE ##\n",
    "from src.file_utility import load_mask_from_nii\n",
    "from src.roi import roi_map, iterate_roi\n",
    "roi=None\n",
    "group_names = ['V1', 'V2', 'V3', 'hV4', 'V3ab', 'LO', 'IPS', 'VO', 'PHC', 'MT', 'MST', 'other']\n",
    "group = [[1,2],[3,4],[5,6], [7], [16, 17], [14, 15], [18,19,20,21,22,23], [8, 9], [10,11], [13], [12], [24,25,0]]\n",
    "\n",
    "#voxel_mask_full = load_mask_from_nii(mask_root + \"subj%02d/func1pt8mm/brainmask_inflated_1.0.nii\"%subject)\n",
    "# voxel_mask_full = load_mask_from_nii(mask_root + \"subj%02d/func1pt8mm/brainmask_vcventral_1.0.nii\"%subject)\n",
    "\n",
    "# note we don't seem to have the vcventral mask  - using full brain mask.\n",
    "voxel_mask_full = load_mask_from_nii(mask_root + \"subj%02d/func1pt8mm/brainmask.nii.gz\"%subject)\n",
    "voxel_roi_full  = load_mask_from_nii(mask_root + \"subj%02d/func1pt8mm/roi/prf-visualrois.nii.gz\"%subject)\n",
    "voxel_kast_full = load_mask_from_nii(mask_root + \"subj%02d/func1pt8mm/roi/Kastner2015.nii.gz\"%(subject))\n",
    "general_mask_full  = load_mask_from_nii(mask_root + \"subj%02d/func1pt8mm/roi/nsdgeneral.nii.gz\"%(subject))\n",
    "ncsnr_full = load_mask_from_nii(beta_root + \"subj%02d/func1pt8mm/betas_fithrf_GLMdenoise_RR/ncsnr.nii.gz\"%subject)\n",
    "###\n",
    "brain_nii_shape = voxel_roi_full.shape\n",
    "#     print (brain_nii_shape)\n",
    "###\n",
    "voxel_roi_mask_full = (voxel_roi_full>0).flatten().astype(bool)\n",
    "voxel_joined_roi_full = np.copy(voxel_kast_full.flatten())  # load kastner rois\n",
    "voxel_joined_roi_full[voxel_roi_mask_full] = voxel_roi_full.flatten()[voxel_roi_mask_full] # overwrite with prf rois\n",
    "# the ROIs defined here are mostly based on pRF mapping - but any voxels which weren't given an ROI definition during the \n",
    "# prf mapping, will be given a definition based on Kastner atlas.\n",
    "\n",
    "###\n",
    "voxel_mask  = np.nan_to_num(voxel_mask_full).flatten().astype(bool)\n",
    "# taking out the voxels in \"other\" to reduce the size a bit\n",
    "voxel_mask_adj = np.copy(voxel_mask)\n",
    "voxel_mask_adj[np.isin(voxel_joined_roi_full, group[-1])] = False\n",
    "voxel_mask_adj[np.isin(voxel_joined_roi_full, [-1])] = False\n",
    "\n",
    "voxel_mask  = voxel_mask_adj\n",
    "\n",
    "voxel_idx   = np.arange(len(voxel_mask))[voxel_mask]\n",
    "voxel_roi   = voxel_joined_roi_full[voxel_mask]\n",
    "voxel_ncsnr = ncsnr_full.flatten()[voxel_mask]\n",
    "\n",
    "#     print ('full mask length = %d'%len(voxel_mask))\n",
    "#     print ('selection length = %d'%np.sum(voxel_mask))\n",
    "print('\\nSizes of all defined ROIs in this subject:')\n",
    "vox_total = 0\n",
    "for roi_mask, roi_name in iterate_roi(group, voxel_roi, roi_map, group_name=group_names):\n",
    "    vox_total = vox_total + np.sum(roi_mask)\n",
    "    print (\"%d \\t: %s\" % (np.sum(roi_mask), roi_name))\n",
    "\n",
    "print (\"%d \\t: Total\" % (vox_total))\n",
    "\n",
    "## DEFINE WHICH VOXEL GROUPS TO ANALYZE HERE #####\n",
    "voxel_mask_this_roi = np.zeros(np.shape(voxel_mask)).astype('bool')\n",
    "if roi==None:     \n",
    "    voxel_mask_this_roi[np.isin(voxel_joined_roi_full,np.concatenate(group[0:11],axis=0))] = True\n",
    "    roi2print = 'allROIs'        \n",
    "else:\n",
    "    groupind = [ii for ii in range(len(group_names)) if group_names[ii]==roi]\n",
    "    groupind = groupind[0]\n",
    "    voxel_mask_this_roi[np.isin(voxel_joined_roi_full, group[groupind])] = True\n",
    "    roi2print = roi\n",
    "\n",
    "print('\\nRunning model for %s, %d voxels\\n'%(roi2print, np.sum(voxel_mask_this_roi)))\n",
    "\n",
    "voxel_idx_this_roi = np.arange(len(voxel_mask_this_roi))[voxel_mask_this_roi]"
   ]
  },
  {
   "cell_type": "code",
   "execution_count": 52,
   "id": "cbffb403",
   "metadata": {},
   "outputs": [
    {
     "data": {
      "text/plain": [
       "(11694,)"
      ]
     },
     "execution_count": 52,
     "metadata": {},
     "output_type": "execute_result"
    }
   ],
   "source": [
    "np.shape(voxel_ncsnr)"
   ]
  }
 ],
 "metadata": {
  "kernelspec": {
   "display_name": "Python 3",
   "language": "python",
   "name": "python3"
  },
  "language_info": {
   "codemirror_mode": {
    "name": "ipython",
    "version": 3
   },
   "file_extension": ".py",
   "mimetype": "text/x-python",
   "name": "python",
   "nbconvert_exporter": "python",
   "pygments_lexer": "ipython3",
   "version": "3.7.1"
  }
 },
 "nbformat": 4,
 "nbformat_minor": 5
}
