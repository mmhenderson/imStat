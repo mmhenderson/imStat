{
 "cells": [
  {
   "cell_type": "code",
   "execution_count": 9,
   "id": "8e7575b2",
   "metadata": {},
   "outputs": [],
   "source": [
    "# import basic modules\n",
    "import sys\n",
    "import os\n",
    "import numpy as np\n",
    "\n",
    "import torch\n",
    "\n",
    "import matplotlib.pyplot as plt\n",
    "from copy import deepcopy\n",
    "\n",
    "# import custom modules\n",
    "root_dir   = os.path.dirname(os.path.dirname(os.getcwd()))\n",
    "sys.path.append(os.path.join(root_dir, 'code'))\n",
    "from model_src import fwrf_fit, fwrf_predict\n",
    "from model_fitting import initialize_fitting\n",
    "from utils import numpy_utility"
   ]
  },
  {
   "cell_type": "code",
   "execution_count": 5,
   "id": "d45adf44",
   "metadata": {},
   "outputs": [],
   "source": [
    "subject=1\n",
    "roi=None\n",
    "\n",
    "ridge=1\n",
    "\n",
    "shuffle_images=False\n",
    "random_images=False\n",
    "random_voxel_data=False\n",
    "\n",
    "zscore_features=True\n",
    "nonlin_fn=False\n",
    "padding_mode='circular'\n",
    "\n",
    "n_ori=8\n",
    "n_sf=4\n",
    "up_to_sess=1\n",
    "debug=True\n",
    "\n",
    "fitting_type='simple_complex'\n",
    "include_crosscorrs=True\n",
    "include_autocorrs=False\n"
   ]
  },
  {
   "cell_type": "code",
   "execution_count": 6,
   "id": "67af2e60",
   "metadata": {},
   "outputs": [],
   "source": [
    "device = initialize_fitting.init_cuda()\n",
    "nsd_root, stim_root, beta_root, mask_root = initialize_fitting.get_paths()\n",
    "\n",
    "if ridge==True:       \n",
    "    # ridge regression, testing several positive lambda values (default)\n",
    "    model_name = 'texture_ridge_%dori_%dsf'%(n_ori, n_sf)\n",
    "else:        \n",
    "    # fixing lambda at zero, so it turns into ordinary least squares\n",
    "    model_name = 'texture_OLS_%dori_%dsf'%(n_ori, n_sf)\n",
    "\n",
    "if include_autocorrs==False:\n",
    "    print('Skipping autocorrs\\n')\n",
    "    model_name = model_name+'_no_autocorrelations'\n",
    "else:\n",
    "    print('Will compute autocorrs\\n')\n",
    "\n",
    "if include_crosscorrs==False:\n",
    "    print('Skipping crosscorrs\\n')\n",
    "    model_name = model_name+'_no_crosscorrelations'\n",
    "else:\n",
    "    print('Will compute crosscorrs\\n')   \n",
    "\n",
    "output_dir, fn2save = initialize_fitting.get_save_path(root_dir, subject, model_name, shuffle_images, random_images, random_voxel_data, debug)\n",
    "\n",
    "# decide what voxels to use  \n",
    "voxel_mask, voxel_index, voxel_roi, voxel_ncsnr, brain_nii_shape = initialize_fitting.get_voxel_info(mask_root, beta_root, subject, roi)\n",
    "\n",
    "# get all data and corresponding images, in two splits. always fixed set that gets left out\n",
    "trn_stim_data, trn_voxel_data, val_stim_single_trial_data, val_voxel_single_trial_data, \\\n",
    "    n_voxels, n_trials_val, image_order = initialize_fitting.get_data_splits(nsd_root, beta_root, stim_root, subject, voxel_mask, up_to_sess, \n",
    "                                                                             shuffle_images=shuffle_images, random_images=random_images, random_voxel_data=random_voxel_data)\n",
    "\n",
    "# Set up the filters\n",
    "_gaborizer_complex, _gaborizer_simple, _fmaps_fn_complex, _fmaps_fn_simple = initialize_fitting.get_feature_map_simple_complex_fn(n_ori, n_sf, padding_mode=padding_mode, device=device, nonlin_fn=nonlin_fn)\n",
    "\n",
    "# Params for the spatial aspect of the model (possible pRFs)\n",
    "#     aperture_rf_range=0.8 # using smaller range here because not sure what to do with RFs at edges...\n",
    "aperture_rf_range = 1.1\n",
    "aperture, models = initialize_fitting.get_prf_models(aperture_rf_range=aperture_rf_range)    "
   ]
  },
  {
   "cell_type": "code",
   "execution_count": 7,
   "id": "23e16a70",
   "metadata": {},
   "outputs": [],
   "source": [
    "images =trn_stim_data\n",
    "sample_batch_size=10\n",
    "n_features_complex, fmaps_rez = fwrf_fit.get_fmaps_sizes(_fmaps_fn_complex, images[0:sample_batch_size], device)"
   ]
  },
  {
   "cell_type": "code",
   "execution_count": 13,
   "id": "cdf7a41c",
   "metadata": {},
   "outputs": [
    {
     "name": "stdout",
     "output_type": "stream",
     "text": [
      "[13, 37, 104, 298]\n"
     ]
    }
   ],
   "source": [
    "print(fmaps_rez)"
   ]
  },
  {
   "cell_type": "code",
   "execution_count": 14,
   "id": "21f5435d",
   "metadata": {},
   "outputs": [
    {
     "name": "stdout",
     "output_type": "stream",
     "text": [
      "[0.04       0.05557982 0.07722791 0.10730783 0.14910375 0.207179\n",
      " 0.28787428 0.40000001]\n"
     ]
    }
   ],
   "source": [
    "print(np.unique(models[:,2]))"
   ]
  },
  {
   "cell_type": "code",
   "execution_count": 36,
   "id": "26507921",
   "metadata": {},
   "outputs": [
    {
     "name": "stdout",
     "output_type": "stream",
     "text": [
      "[-0.55       -0.49210526 -0.47142857 -0.44       -0.43421053 -0.39285714\n",
      " -0.37631579 -0.33       -0.31842105 -0.31428571 -0.26052632 -0.23571429\n",
      " -0.22       -0.20263158 -0.18333333 -0.15714286 -0.14473684 -0.11\n",
      " -0.08684211 -0.07857143 -0.02894737  0.          0.02894737  0.07857143\n",
      "  0.08684211  0.11        0.14473684  0.15714286  0.18333333  0.20263158\n",
      "  0.22        0.23571429  0.26052632  0.31428571  0.31842105  0.33\n",
      "  0.37631579  0.39285714  0.43421053  0.44        0.47142857  0.49210526\n",
      "  0.55      ]\n"
     ]
    }
   ],
   "source": [
    "print(np.unique(models[:,0]))"
   ]
  },
  {
   "cell_type": "code",
   "execution_count": 83,
   "id": "63d8a321",
   "metadata": {},
   "outputs": [
    {
     "name": "stdout",
     "output_type": "stream",
     "text": [
      "[ 3.9 11.7]\n",
      "[1, 6, 9, 14]\n",
      "trimming bbox to make it square\n",
      "original bbox was:\n",
      "[1, 6, 9, 13]\n",
      "[0, 1]\n",
      "final bbox was:\n",
      "[1, 5, 9, 13]\n",
      "[1, 5, 9, 13]\n"
     ]
    },
    {
     "data": {
      "text/plain": [
       "<matplotlib.colorbar.Colorbar at 0x7f7451e92cc0>"
      ]
     },
     "execution_count": 83,
     "metadata": {},
     "output_type": "execute_result"
    },
    {
     "data": {
      "image/png": "[encoded data removed]",
      "text/plain": [
       "<Figure size 1296x432 with 3 Axes>"
      ]
     },
     "metadata": {
      "needs_background": "light"
     },
     "output_type": "display_data"
    }
   ],
   "source": [
    "ff=0\n",
    "\n",
    "# prf_params = [-0.55, -0.55, 0.04]\n",
    "# prf_params = [-0.55, 0.55, 0.04]\n",
    "prf_params = [0.4, 0.2, 0.04]\n",
    "# prf_params = [0.55, -0.12, 0.07]\n",
    "\n",
    "# prf_params = [0.4, 0.0, 0.2]\n",
    "\n",
    "# prf_params = [5/13/2+0.01, 0.02, 0.04]\n",
    "# prf_params = [0.5, 0.5, 0.04]\n",
    "# prf_params = [-0.3, 0.3, 0.1]\n",
    "# prf_params = [-0.25, -0.25, 0.04]\n",
    "# prf_params = [0,0,0.04]\n",
    "\n",
    "\n",
    "\n",
    "x,y,sigma = prf_params\n",
    "\n",
    "# Scale specific things - get the prf at this resolution of interest\n",
    "n_pix = fmaps_rez[ff]\n",
    "g = numpy_utility.make_gaussian_mass_stack([x], [y], [sigma], n_pix=n_pix, size=aperture, dtype=np.float32)\n",
    "spatial_weights = g[2][0]\n",
    "n_prf_sd_out=2\n",
    "patch_bbox = get_bbox_from_prf(prf_params, spatial_weights.shape, n_prf_sd_out, verbose=True, force_square=True)\n",
    "print(patch_bbox)\n",
    "[xmin, xmax, ymin, ymax] = patch_bbox\n",
    "\n",
    "\n",
    "\n",
    "plt.figure(figsize=(18,6));\n",
    "plt.subplot(1,2,1)\n",
    "plt.pcolormesh(spatial_weights)\n",
    "plt.axis('square')\n",
    "plt.xticks(np.arange(0,n_pix)+0.5,np.arange(0,n_pix))\n",
    "plt.yticks(np.arange(0,n_pix)+0.5,np.arange(0,n_pix))\n",
    "plt.subplot(1,2,2)\n",
    "tmp = deepcopy(spatial_weights)\n",
    "tmp[xmin:xmax, ymin:ymax] = 10\n",
    "plt.pcolormesh(tmp)\n",
    "plt.axis('square')\n",
    "plt.colorbar()"
   ]
  },
  {
   "cell_type": "code",
   "execution_count": 50,
   "id": "b7baeb63",
   "metadata": {},
   "outputs": [
    {
     "name": "stdout",
     "output_type": "stream",
     "text": [
      "[0, 12, 5, 13]\n",
      "[8, 12]\n",
      "[2, 2]\n",
      "[2, 10, 5, 13]\n"
     ]
    }
   ],
   "source": [
    "image_size = spatial_weights.shape\n",
    "x,y,sigma = prf_params\n",
    "n_pix = image_size[0]\n",
    "assert(image_size[1]==n_pix)\n",
    "assert(sigma>0 and n_prf_sd_out>0)\n",
    "\n",
    "# decide on the window to use for correlations, based on prf parameters. Patch goes # SD from the center (2 by default).\n",
    "# note this can't be < 1, even for the smallest choice of parameters (since rounding up). this way it won't be too small.\n",
    "pix_from_center = int(np.ceil(sigma*n_prf_sd_out*n_pix))\n",
    "\n",
    "# center goes [row ind, col ind]\n",
    "center = np.array((n_pix/2  - y*n_pix, x*n_pix + n_pix/2)) # note that the x/y dims get swapped here because of how pRF parameters are defined.\n",
    "\n",
    "# now defining the extent of the bbox. want to err on the side of making it too big, so taking floor/ceiling...\n",
    "xmin = int(np.floor(center[0]-pix_from_center))\n",
    "xmax = int(np.ceil(center[0]+pix_from_center))\n",
    "ymin = int(np.floor(center[1]-pix_from_center))\n",
    "ymax = int(np.ceil(center[1]+pix_from_center))\n",
    "\n",
    "# cropping it to within the image bounds. Can end up being a rectangle rather than square.\n",
    "[xmin, xmax, ymin, ymax] = np.maximum(np.minimum([xmin, xmax, ymin, ymax], n_pix), 0)\n",
    "print([xmin, xmax, ymin, ymax])\n",
    "\n",
    "\n",
    "minside = np.min([xmax-xmin, ymax-ymin])\n",
    "maxside = np.max([xmax-xmin, ymax-ymin])\n",
    "\n",
    "if minside!=maxside:\n",
    "    print([minside, maxside])\n",
    "    n2trim = [int(np.floor((maxside-minside)/2)), int(np.ceil((maxside-minside)/2))]\n",
    "    print(n2trim)\n",
    "\n",
    "    if np.argmin([xmax-xmin, ymax-ymin])==0:\n",
    "        ymin = ymin+n2trim[0]\n",
    "        ymax = ymax-n2trim[1]\n",
    "    else:\n",
    "        xmin = xmin+n2trim[0]\n",
    "        xmax = xmax-n2trim[1]\n",
    "\n",
    "    print([xmin, xmax, ymin, ymax])   \n",
    "    \n",
    "assert((xmax-xmin)==(ymax-ymin))"
   ]
  },
  {
   "cell_type": "code",
   "execution_count": 82,
   "id": "8ebc0e0f",
   "metadata": {},
   "outputs": [],
   "source": [
    "def get_bbox_from_prf(prf_params, image_size, n_prf_sd_out=2, verbose=False, force_square=False):\n",
    "    \"\"\"\n",
    "    For a given pRF center and size, calculate the square bounding box that captures a specified number of SDs from the center (default=2 SD)\n",
    "    Returns [xmin, xmax, ymin, ymax]\n",
    "    \"\"\"\n",
    "    x,y,sigma = prf_params\n",
    "    n_pix = image_size[0]\n",
    "    assert(image_size[1]==n_pix)\n",
    "    assert(sigma>0 and n_prf_sd_out>0)\n",
    "    \n",
    "    # decide on the window to use for correlations, based on prf parameters. Patch goes # SD from the center (2 by default).\n",
    "    # note this can't be < 1, even for the smallest choice of parameters (since rounding up). this way it won't be too small.\n",
    "    pix_from_center = int(np.ceil(sigma*n_prf_sd_out*n_pix))\n",
    "\n",
    "    # center goes [row ind, col ind]\n",
    "    center = np.array((n_pix/2  - y*n_pix, x*n_pix + n_pix/2)) # note that the x/y dims get swapped here because of how pRF parameters are defined.\n",
    "    print(center)\n",
    "    # now defining the extent of the bbox. want to err on the side of making it too big, so taking floor/ceiling...\n",
    "    xmin = int(np.floor(center[0]-pix_from_center))\n",
    "    xmax = int(np.ceil(center[0]+pix_from_center))\n",
    "    ymin = int(np.floor(center[1]-pix_from_center))\n",
    "    ymax = int(np.ceil(center[1]+pix_from_center))\n",
    "\n",
    "    print([xmin, xmax, ymin, ymax])\n",
    "    # cropping it to within the image bounds. Can end up being a rectangle rather than square.\n",
    "    [xmin, xmax, ymin, ymax] = np.maximum(np.minimum([xmin, xmax, ymin, ymax], n_pix), 0)\n",
    "\n",
    "    # decide if we want square or are ok with the rectangle\n",
    "    if force_square:\n",
    "        minside = np.min([xmax-xmin, ymax-ymin])\n",
    "        maxside = np.max([xmax-xmin, ymax-ymin])\n",
    "        if minside!=maxside:\n",
    "\n",
    "            if verbose:\n",
    "                print('trimming bbox to make it square')\n",
    "                print('original bbox was:')\n",
    "                print([xmin, xmax, ymin, ymax])\n",
    "\n",
    "            n2trim = [int(np.floor((maxside-minside)/2)), int(np.ceil((maxside-minside)/2))]\n",
    "            print(n2trim)\n",
    "            \n",
    "            if np.argmin([xmax-xmin, ymax-ymin])==0:\n",
    "                ymin = ymin+n2trim[0]\n",
    "                ymax = ymax-n2trim[1]\n",
    "            else:\n",
    "                xmin = xmin+n2trim[0]\n",
    "                xmax = xmax-n2trim[1]\n",
    "\n",
    "        assert((xmax-xmin)==(ymax-ymin))\n",
    "\n",
    "    if verbose:\n",
    "        print('final bbox was:')\n",
    "        print([xmin, xmax, ymin, ymax])\n",
    "        \n",
    "    # checking to see if the patch has become just one pixel. this can happen due to the cropping.\n",
    "    # if this happens, cross-correlations will give zero.\n",
    "    if ((xmax-xmin)<2 or (ymax-ymin)<2):\n",
    "        print('Warning: your patch only has one pixel (for n_pix: %d and prf params: [%.2f, %.2f, %.2f])\\n'%(n_pix,x,y,sigma))      \n",
    "        \n",
    "    return [xmin, xmax, ymin, ymax]"
   ]
  }
 ],
 "metadata": {
  "kernelspec": {
   "display_name": "Python 3",
   "language": "python",
   "name": "python3"
  },
  "language_info": {
   "codemirror_mode": {
    "name": "ipython",
    "version": 3
   },
   "file_extension": ".py",
   "mimetype": "text/x-python",
   "name": "python",
   "nbconvert_exporter": "python",
   "pygments_lexer": "ipython3",
   "version": "3.7.1"
  }
 },
 "nbformat": 4,
 "nbformat_minor": 5
}
