{
 "cells": [
  {
   "cell_type": "code",
   "execution_count": 1,
   "id": "b448e5ef",
   "metadata": {},
   "outputs": [],
   "source": [
    "import numpy as np\n",
    "import sys, os\n",
    "import argparse\n",
    "import gc\n",
    "import torch\n",
    "import time\n",
    "import h5py\n",
    "import copy\n",
    "import torchvision.models as models\n",
    "import torch.nn as nn\n",
    "\n",
    "#import custom modules\n",
    "code_dir = '/user_data/mmhender/imStat/code/'\n",
    "sys.path.append(code_dir)\n",
    "from utils import prf_utils, torch_utils, texture_utils, default_paths, nsd_utils\n",
    "from model_fitting import initialize_fitting\n",
    "\n",
    "\n",
    "dtype=np.float32"
   ]
  },
  {
   "cell_type": "code",
   "execution_count": 86,
   "id": "70a027c4",
   "metadata": {},
   "outputs": [],
   "source": [
    "fn = '/user_data/mmhender/features/alexnet/S1_Conv5_ReLU_reflect_features_each_prf_grid3.h5py'"
   ]
  },
  {
   "cell_type": "code",
   "execution_count": 87,
   "id": "0db530fc",
   "metadata": {},
   "outputs": [
    {
     "name": "stdout",
     "output_type": "stream",
     "text": [
      "Took 36.43813 seconds to load file\n"
     ]
    }
   ],
   "source": [
    "t = time.time()\n",
    "with h5py.File(fn, 'r') as data_set:\n",
    "    values = np.copy(data_set['/features'][:,:,800:810])\n",
    "    data_set.close() \n",
    "elapsed = time.time() - t\n",
    "print('Took %.5f seconds to load file'%elapsed)"
   ]
  },
  {
   "cell_type": "code",
   "execution_count": 88,
   "id": "4d0dd53d",
   "metadata": {},
   "outputs": [
    {
     "data": {
      "text/plain": [
       "'/user_data/mmhender/features/alexnet/S1_Conv5_ReLU_reflect_features_each_prf_grid3.h5py'"
      ]
     },
     "execution_count": 88,
     "metadata": {},
     "output_type": "execute_result"
    }
   ],
   "source": [
    "fn"
   ]
  },
  {
   "cell_type": "code",
   "execution_count": 89,
   "id": "0b236e84",
   "metadata": {},
   "outputs": [
    {
     "data": {
      "text/plain": [
       "(10000, 256, 10)"
      ]
     },
     "execution_count": 89,
     "metadata": {},
     "output_type": "execute_result"
    }
   ],
   "source": [
    "values.shape"
   ]
  },
  {
   "cell_type": "code",
   "execution_count": 90,
   "id": "9c29cf87",
   "metadata": {},
   "outputs": [
    {
     "data": {
      "text/plain": [
       "array([1.10019243e-03, 1.99753486e-04, 1.05832896e-05, 1.63614089e-07,\n",
       "       7.82626797e-10, 2.63120933e-06, 5.53060818e-05, 3.90983565e-04,\n",
       "       8.50546348e-04, 5.56515763e-04])"
      ]
     },
     "execution_count": 90,
     "metadata": {},
     "output_type": "execute_result"
    }
   ],
   "source": [
    "values[5000,50,:]"
   ]
  },
  {
   "cell_type": "code",
   "execution_count": 2,
   "id": "9e554938",
   "metadata": {},
   "outputs": [],
   "source": [
    "# Define sets of alexnet layers\n",
    "alexnet_conv_layer_names = ['Conv1','Conv1_ReLU','Conv1_MaxPool', \\\n",
    "                       'Conv2','Conv2_ReLU','Conv2_MaxPool', \\\n",
    "                       'Conv3','Conv3_ReLU', \\\n",
    "                       'Conv4','Conv4_ReLU', \\\n",
    "                       'Conv5','Conv5_ReLU','Conv5_MaxPool']\n",
    "\n",
    "alexnet_fc_layer_names = ['Dropout6','FC6','FC6_ReLU','Dropout7','FC7','FC7_ReLU','FC8']\n",
    "\n",
    "n_feature_layers = len(alexnet_conv_layer_names)\n",
    "n_classif_layers = len(alexnet_fc_layer_names)\n",
    "n_total_layers = n_feature_layers + n_classif_layers\n",
    "alexnet_layer_names = copy.deepcopy(alexnet_conv_layer_names)\n",
    "alexnet_layer_names.extend(alexnet_fc_layer_names)\n",
    "\n",
    "n_features_each_layer = [64,64,64, 192,192,192, 384,384, 256,256, 256,256]"
   ]
  },
  {
   "cell_type": "code",
   "execution_count": 4,
   "id": "2f305dc0",
   "metadata": {},
   "outputs": [],
   "source": [
    "subject = 1; \n",
    "use_node_storage = 0;\n",
    "debug = 0;\n",
    "which_prf_grid = 4;"
   ]
  },
  {
   "cell_type": "code",
   "execution_count": null,
   "id": "eaa96de0",
   "metadata": {},
   "outputs": [],
   "source": []
  },
  {
   "cell_type": "code",
   "execution_count": 6,
   "id": "3bdf0901",
   "metadata": {},
   "outputs": [
    {
     "name": "stdout",
     "output_type": "stream",
     "text": [
      "\n",
      "Loading images for subject 1\n",
      "\n",
      "image data size: (10000, 3, 240, 240) , dtype: uint8 , value range: 0 255\n",
      "number of pRFs: 1684\n",
      "most extreme RF positions:\n",
      "[0.   0.   0.04]\n",
      "[ 1.2934314  -0.53575677  1.        ]\n"
     ]
    }
   ],
   "source": [
    "# def get_features_each_prf(subject, use_node_storage=False, debug=False, which_prf_grid=1):\n",
    "\"\"\"\n",
    "Extract the portion of CNN feature maps corresponding to pRF defined in \"models\"\n",
    "Return list of the features in each pRF, for each layer of interest.\n",
    "\"\"\"\n",
    "    \n",
    "device = 'cpu:0'\n",
    "# device = initialize_fitting.init_cuda()\n",
    "\n",
    "if use_node_storage:\n",
    "    alexnet_feat_path = default_paths.alexnet_feat_path_localnode\n",
    "else:\n",
    "    alexnet_feat_path = default_paths.alexnet_feat_path\n",
    "\n",
    "# Load and prepare the image set to work with (all images for the current subject, 10,000 ims)\n",
    "stim_root = default_paths.stim_root\n",
    "image_data = nsd_utils.get_image_data(subject)  \n",
    "image_data = nsd_utils.image_uncolorize_fn(image_data)\n",
    "\n",
    "n_images = image_data.shape[0]\n",
    "\n",
    "# Params for the spatial aspect of the model (possible pRFs)\n",
    "aperture = 1.0\n",
    "aperture_rf_range = 1.1\n",
    "aperture, prf_models = initialize_fitting.get_prf_models(aperture_rf_range=aperture_rf_range, \\\n",
    "                                                         which_grid=which_prf_grid)    \n",
    "\n",
    "# Fix these params\n",
    "n_prf_sd_out = 2\n",
    "batch_size = 50\n",
    "mult_patch_by_prf = True\n",
    "do_avg_pool = True\n",
    "\n",
    "layers_to_return = ['Conv1_ReLU', 'Conv2_ReLU','Conv3_ReLU','Conv4_ReLU','Conv5_ReLU']\n",
    "n_layers = len(layers_to_return)\n",
    "layer_inds = [ll for ll in range(len(alexnet_layer_names)) \\\n",
    "                  if alexnet_layer_names[ll] in layers_to_return]\n",
    "\n",
    "n_prfs = len(prf_models)\n",
    "features_each_prf = [np.zeros((n_images, n_features_each_layer[ll], n_prfs),dtype=dtype) for ll in layer_inds]\n",
    "\n",
    "n_batches = int(np.ceil(n_images/batch_size))"
   ]
  },
  {
   "cell_type": "code",
   "execution_count": null,
   "id": "0543b53e",
   "metadata": {},
   "outputs": [],
   "source": []
  },
  {
   "cell_type": "code",
   "execution_count": 82,
   "id": "15d8097f",
   "metadata": {},
   "outputs": [
    {
     "name": "stdout",
     "output_type": "stream",
     "text": [
      "Processing images for batch 50 of 200\n",
      "Conv2d(3, 64, kernel_size=(11, 11), stride=(4, 4), padding=(2, 2))\n",
      "changed padding mode to zeros\n",
      "Conv2d(64, 192, kernel_size=(5, 5), stride=(1, 1), padding=(2, 2))\n",
      "changed padding mode to zeros\n",
      "Conv2d(192, 384, kernel_size=(3, 3), stride=(1, 1), padding=(1, 1))\n",
      "changed padding mode to zeros\n",
      "Conv2d(384, 256, kernel_size=(3, 3), stride=(1, 1), padding=(1, 1))\n",
      "changed padding mode to zeros\n",
      "Conv2d(256, 256, kernel_size=(3, 3), stride=(1, 1), padding=(1, 1))\n",
      "changed padding mode to zeros\n",
      "hook for Conv1_ReLU\n",
      "torch.Size([50, 64, 59, 59])\n",
      "hook for Conv2_ReLU\n",
      "torch.Size([50, 192, 29, 29])\n",
      "hook for Conv3_ReLU\n",
      "torch.Size([50, 384, 14, 14])\n",
      "hook for Conv4_ReLU\n",
      "torch.Size([50, 256, 14, 14])\n",
      "hook for Conv5_ReLU\n",
      "torch.Size([50, 256, 14, 14])\n",
      "torch.Size([50, 64, 59, 59])\n",
      "torch.Size([50, 192, 29, 29])\n",
      "torch.Size([50, 384, 14, 14])\n",
      "torch.Size([50, 256, 14, 14])\n",
      "torch.Size([50, 256, 14, 14])\n",
      "Conv2d(3, 64, kernel_size=(11, 11), stride=(4, 4), padding=(2, 2), padding_mode=circular)\n",
      "changed padding mode to circular\n",
      "Conv2d(64, 192, kernel_size=(5, 5), stride=(1, 1), padding=(2, 2), padding_mode=circular)\n",
      "changed padding mode to circular\n",
      "Conv2d(192, 384, kernel_size=(3, 3), stride=(1, 1), padding=(1, 1), padding_mode=circular)\n",
      "changed padding mode to circular\n",
      "Conv2d(384, 256, kernel_size=(3, 3), stride=(1, 1), padding=(1, 1), padding_mode=circular)\n",
      "changed padding mode to circular\n",
      "Conv2d(256, 256, kernel_size=(3, 3), stride=(1, 1), padding=(1, 1), padding_mode=circular)\n",
      "changed padding mode to circular\n",
      "hook for Conv1_ReLU\n",
      "torch.Size([50, 64, 59, 59])\n",
      "hook for Conv2_ReLU\n",
      "torch.Size([50, 192, 29, 29])\n",
      "hook for Conv3_ReLU\n",
      "torch.Size([50, 384, 14, 14])\n",
      "hook for Conv4_ReLU\n",
      "torch.Size([50, 256, 14, 14])\n",
      "hook for Conv5_ReLU\n",
      "torch.Size([50, 256, 14, 14])\n",
      "torch.Size([50, 64, 59, 59])\n",
      "torch.Size([50, 192, 29, 29])\n",
      "torch.Size([50, 384, 14, 14])\n",
      "torch.Size([50, 256, 14, 14])\n",
      "torch.Size([50, 256, 14, 14])\n",
      "Conv2d(3, 64, kernel_size=(11, 11), stride=(4, 4), padding=(2, 2), padding_mode=reflect)\n",
      "changed padding mode to reflect\n",
      "Conv2d(64, 192, kernel_size=(5, 5), stride=(1, 1), padding=(2, 2), padding_mode=reflect)\n",
      "changed padding mode to reflect\n",
      "Conv2d(192, 384, kernel_size=(3, 3), stride=(1, 1), padding=(1, 1), padding_mode=reflect)\n",
      "changed padding mode to reflect\n",
      "Conv2d(384, 256, kernel_size=(3, 3), stride=(1, 1), padding=(1, 1), padding_mode=reflect)\n",
      "changed padding mode to reflect\n",
      "Conv2d(256, 256, kernel_size=(3, 3), stride=(1, 1), padding=(1, 1), padding_mode=reflect)\n",
      "changed padding mode to reflect\n",
      "hook for Conv1_ReLU\n",
      "torch.Size([50, 64, 59, 59])\n",
      "hook for Conv2_ReLU\n",
      "torch.Size([50, 192, 29, 29])\n",
      "hook for Conv3_ReLU\n",
      "torch.Size([50, 384, 14, 14])\n",
      "hook for Conv4_ReLU\n",
      "torch.Size([50, 256, 14, 14])\n",
      "hook for Conv5_ReLU\n",
      "torch.Size([50, 256, 14, 14])\n",
      "torch.Size([50, 64, 59, 59])\n",
      "torch.Size([50, 192, 29, 29])\n",
      "torch.Size([50, 384, 14, 14])\n",
      "torch.Size([50, 256, 14, 14])\n",
      "torch.Size([50, 256, 14, 14])\n"
     ]
    }
   ],
   "source": [
    "#     with torch.no_grad():\n",
    "\n",
    "#         for bb in range(n_batches):\n",
    "\n",
    "#             if debug and bb>1:\n",
    "#                 continue\n",
    "bb=50\n",
    "\n",
    "print('Processing images for batch %d of %d'%(bb, n_batches))\n",
    "\n",
    "batch_inds = np.arange(batch_size * bb, np.min([batch_size * (bb+1), n_images]))\n",
    "\n",
    "# using grayscale images for better comparison w my other models.\n",
    "# need to tile to 3 so alexnet weights will be right size\n",
    "image_batch = np.tile(image_data[batch_inds,:,:,:], [1,3,1,1])\n",
    "\n",
    "gc.collect()\n",
    "torch.cuda.empty_cache()\n",
    "\n",
    "# activ_batch_none = get_alexnet_activations_batch(image_batch, layer_inds, \\\n",
    "#                                             device=device, padding_mode=none)\n",
    "activ_batch_zero = get_alexnet_activations_batch(image_batch, layer_inds, \\\n",
    "                                            device=device, padding_mode='zeros')\n",
    "activ_batch_circ = get_alexnet_activations_batch(image_batch, layer_inds, \\\n",
    "                                            device=device, padding_mode='circular')\n",
    "activ_batch_refl = get_alexnet_activations_batch(image_batch, layer_inds, \\\n",
    "                                            device=device, padding_mode='reflect')\n",
    "\n"
   ]
  },
  {
   "cell_type": "code",
   "execution_count": 59,
   "id": "546efce0",
   "metadata": {},
   "outputs": [],
   "source": [
    "activ_batch_none = activ_batch"
   ]
  },
  {
   "cell_type": "code",
   "execution_count": 61,
   "id": "f91c2481",
   "metadata": {},
   "outputs": [
    {
     "data": {
      "text/plain": [
       "<matplotlib.colorbar.Colorbar at 0x7fc694b38240>"
      ]
     },
     "execution_count": 61,
     "metadata": {},
     "output_type": "execute_result"
    },
    {
     "data": {
      "image/png": "[encoded data removed]",
      "text/plain": [
       "<Figure size 432x288 with 2 Axes>"
      ]
     },
     "metadata": {
      "needs_background": "light"
     },
     "output_type": "display_data"
    }
   ],
   "source": [
    "import matplotlib.pyplot as plt\n",
    "plt.figure()\n",
    "m = activ_batch_none[4][10,42,:,:].detach().cpu().numpy()\n",
    "plt.pcolormesh(m)\n",
    "plt.colorbar()"
   ]
  },
  {
   "cell_type": "code",
   "execution_count": 64,
   "id": "51befc8d",
   "metadata": {},
   "outputs": [
    {
     "data": {
      "text/plain": [
       "<matplotlib.colorbar.Colorbar at 0x7fc685affa90>"
      ]
     },
     "execution_count": 64,
     "metadata": {},
     "output_type": "execute_result"
    },
    {
     "data": {
      "image/png": "[encoded data removed]",
      "text/plain": [
       "<Figure size 432x288 with 2 Axes>"
      ]
     },
     "metadata": {
      "needs_background": "light"
     },
     "output_type": "display_data"
    }
   ],
   "source": [
    "import matplotlib.pyplot as plt\n",
    "plt.figure()\n",
    "m = activ_batch_circ[4][10,42,:,:].detach().cpu().numpy()\n",
    "plt.pcolormesh(m)\n",
    "plt.colorbar()"
   ]
  },
  {
   "cell_type": "code",
   "execution_count": 68,
   "id": "69420817",
   "metadata": {},
   "outputs": [
    {
     "data": {
      "text/plain": [
       "<matplotlib.colorbar.Colorbar at 0x7fc685982860>"
      ]
     },
     "execution_count": 68,
     "metadata": {},
     "output_type": "execute_result"
    },
    {
     "data": {
      "image/png": "[encoded data removed]",
      "text/plain": [
       "<Figure size 432x288 with 2 Axes>"
      ]
     },
     "metadata": {
      "needs_background": "light"
     },
     "output_type": "display_data"
    }
   ],
   "source": [
    "import matplotlib.pyplot as plt\n",
    "plt.figure()\n",
    "m = activ_batch_refl[4][10,42,:,:].detach().cpu().numpy()\n",
    "plt.pcolormesh(m)\n",
    "plt.colorbar()"
   ]
  },
  {
   "cell_type": "code",
   "execution_count": 85,
   "id": "7eb55fad",
   "metadata": {},
   "outputs": [
    {
     "data": {
      "text/plain": [
       "Text(0.5, 1.0, 'reflected padding')"
      ]
     },
     "execution_count": 85,
     "metadata": {},
     "output_type": "execute_result"
    },
    {
     "data": {
      "image/png": "[encoded data removed]",
      "text/plain": [
       "<Figure size 1296x432 with 6 Axes>"
      ]
     },
     "metadata": {
      "needs_background": "light"
     },
     "output_type": "display_data"
    }
   ],
   "source": [
    "\n",
    "ll = 4\n",
    "\n",
    "plt.figure(figsize=(18,6))\n",
    "\n",
    "ab = activ_batch_zero[ll].detach().cpu().numpy()\n",
    "edges_avg = np.mean(np.mean(ab,axis=0),axis=0);\n",
    "plt.subplot(1,3,1)\n",
    "plt.pcolormesh(edges_avg)\n",
    "plt.colorbar()\n",
    "plt.axis('square')\n",
    "plt.title('zero padding')\n",
    "\n",
    "ab = activ_batch_circ[ll].detach().cpu().numpy()\n",
    "edges_avg = np.mean(np.mean(ab,axis=0),axis=0);\n",
    "plt.subplot(1,3,2)\n",
    "plt.pcolormesh(edges_avg)\n",
    "plt.colorbar()\n",
    "plt.axis('square')\n",
    "plt.title('circular padding')\n",
    "\n",
    "ab = activ_batch_refl[ll].detach().cpu().numpy()\n",
    "edges_avg = np.mean(np.mean(ab,axis=0),axis=0);\n",
    "plt.subplot(1,3,3)\n",
    "plt.pcolormesh(edges_avg)\n",
    "plt.colorbar()\n",
    "plt.axis('square')\n",
    "plt.title('reflected padding')\n"
   ]
  },
  {
   "cell_type": "code",
   "execution_count": 26,
   "id": "b3aae2d2",
   "metadata": {},
   "outputs": [],
   "source": [
    "def get_alexnet_activations_batch(image_batch, layer_inds, device=None, padding_mode=None):\n",
    "\n",
    "    \"\"\"\n",
    "    Get activations for images in NSD, passed through pretrained AlexNet.\n",
    "    Specify which NSD images to look at, and which layers to return.\n",
    "    \"\"\"\n",
    "\n",
    "    if device is None:\n",
    "        device = torch.device('cpu:0')\n",
    "       \n",
    "    # first loading pre-trained model from torch model zoo\n",
    "    model = models.alexnet(pretrained=True).float().to(device)\n",
    "    if padding_mode is not None:\n",
    "        for ff in model.features:\n",
    "            if hasattr(ff, 'padding_mode'):\n",
    "                ff.padding_mode=padding_mode\n",
    "                print(ff)\n",
    "                print('changed padding mode to %s'%padding_mode)\n",
    "                \n",
    "    model.eval()\n",
    "    model_name='AlexNet'\n",
    "\n",
    "    is_fc = [('FC' in alexnet_layer_names[ll] or 'fc' in alexnet_layer_names[ll]) for ll in layer_inds]\n",
    "    \n",
    "    if len(layer_inds)==0:\n",
    "        raise ValueError('your layer names do not match any of those specified in alexnet_features.py')\n",
    "\n",
    "    \n",
    "    # first making this subfunction that is needed to get the activation on a forward pass\n",
    "    def get_activ_fwd_hook(ii,ll):\n",
    "        def hook(self, input, output):            \n",
    "            print('hook for %s'%alexnet_layer_names[ll])           \n",
    "            activ[ii] = output\n",
    "            print(output.shape)\n",
    "        return hook\n",
    "   \n",
    "    # get image and labels for this batch\n",
    "    # image_tensors is [batch_size x 3 x 224 x 224]\n",
    "    image_tensors =  torch_utils._to_torch(image_batch, device=device).float()\n",
    "    activ = [[] for ll in layer_inds]\n",
    "    hook = [[] for ll in layer_inds]\n",
    "    \n",
    "    model.eval()\n",
    "\n",
    "    # adding this \"hook\" to the module corresponding to each layer, so we'll save activations at each layer\n",
    "    # this only modifies the \"graph\" e.g. what the model code does when run, but doesn't actually run it yet.\n",
    "    for ii, ll in enumerate(layer_inds):\n",
    "        if not is_fc[ii]:\n",
    "            h = model.features[ll].register_forward_hook(get_activ_fwd_hook(ii,ll))\n",
    "        else:\n",
    "            h = model.classifier[ll-n_feature_layers].register_forward_hook(get_activ_fwd_hook(ii,ll))\n",
    "        hook[ii] = h\n",
    "\n",
    "    # do the forward pass of model, which now includes the forward hooks\n",
    "    # now the \"activ\" variable will get modified, because it gets altered during the hook function\n",
    "    model(image_tensors)\n",
    "    \n",
    "    # Now remove all the hooks\n",
    "    for ii, ll in enumerate(layer_inds):\n",
    "        print(activ[ii].shape)\n",
    "        hook[ii].remove\n",
    "\n",
    "    return activ\n",
    "\n",
    "\n",
    "    "
   ]
  },
  {
   "cell_type": "code",
   "execution_count": 8,
   "id": "b0238fdc",
   "metadata": {},
   "outputs": [],
   "source": [
    "if device is None:\n",
    "    device = torch.device('cpu:0')\n",
    "\n",
    "# first loading pre-trained model from torch model zoo\n",
    "model = models.alexnet(pretrained=True).float().to(device)\n",
    "model.eval()\n",
    "model_name='AlexNet'"
   ]
  },
  {
   "cell_type": "code",
   "execution_count": 16,
   "id": "39b49186",
   "metadata": {},
   "outputs": [
    {
     "data": {
      "text/plain": [
       "'circular'"
      ]
     },
     "execution_count": 16,
     "metadata": {},
     "output_type": "execute_result"
    }
   ],
   "source": [
    "model.features[0].padding_mode = 'circular'\n",
    "model.features[0].padding_mode"
   ]
  },
  {
   "cell_type": "code",
   "execution_count": 23,
   "id": "65a496dc",
   "metadata": {},
   "outputs": [
    {
     "data": {
      "text/plain": [
       "[True,\n",
       " False,\n",
       " False,\n",
       " True,\n",
       " False,\n",
       " False,\n",
       " True,\n",
       " False,\n",
       " True,\n",
       " False,\n",
       " True,\n",
       " False,\n",
       " False]"
      ]
     },
     "execution_count": 23,
     "metadata": {},
     "output_type": "execute_result"
    }
   ],
   "source": [
    "[hasattr(model.features[ii],'padding_mode') for ii in range(len(model.features))]"
   ]
  },
  {
   "cell_type": "code",
   "execution_count": null,
   "id": "05c84288",
   "metadata": {},
   "outputs": [],
   "source": [
    "    is_fc = [('FC' in alexnet_layer_names[ll] or 'fc' in alexnet_layer_names[ll]) for ll in layer_inds]\n",
    "    \n",
    "    if len(layer_inds)==0:\n",
    "        raise ValueError('your layer names do not match any of those specified in alexnet_features.py')\n",
    "\n",
    "    \n",
    "    # first making this subfunction that is needed to get the activation on a forward pass\n",
    "    def get_activ_fwd_hook(ii,ll):\n",
    "        def hook(self, input, output):            \n",
    "            print('hook for %s'%alexnet_layer_names[ll])           \n",
    "            activ[ii] = output\n",
    "            print(output.shape)\n",
    "        return hook\n",
    "   \n",
    "    # get image and labels for this batch\n",
    "    # image_tensors is [batch_size x 3 x 224 x 224]\n",
    "    image_tensors =  torch_utils._to_torch(image_batch, device=device).float()\n",
    "    activ = [[] for ll in layer_inds]\n",
    "    hook = [[] for ll in layer_inds]\n",
    "    \n",
    "    model.eval()\n",
    "\n",
    "    # adding this \"hook\" to the module corresponding to each layer, so we'll save activations at each layer\n",
    "    # this only modifies the \"graph\" e.g. what the model code does when run, but doesn't actually run it yet.\n",
    "    for ii, ll in enumerate(layer_inds):\n",
    "        if not is_fc[ii]:\n",
    "            h = model.features[ll].register_forward_hook(get_activ_fwd_hook(ii,ll))\n",
    "        else:\n",
    "            h = model.classifier[ll-n_feature_layers].register_forward_hook(get_activ_fwd_hook(ii,ll))\n",
    "        hook[ii] = h\n",
    "\n",
    "    # do the forward pass of model, which now includes the forward hooks\n",
    "    # now the \"activ\" variable will get modified, because it gets altered during the hook function\n",
    "    model(image_tensors)\n",
    "    \n",
    "    # Now remove all the hooks\n",
    "    for ii, ll in enumerate(layer_inds):\n",
    "        print(activ[ii].shape)\n",
    "        hook[ii].remove"
   ]
  },
  {
   "cell_type": "code",
   "execution_count": 25,
   "id": "2a518f78",
   "metadata": {},
   "outputs": [],
   "source": [
    "#             for ll in range(n_layers):\n",
    "\n",
    "#                 print('Getting prf-specific activations for layer %s'%alexnet_layer_names[layer_inds[ll]])\n",
    "\n",
    "#                 maps_full_field = torch.moveaxis(activ_batch[ll], [0,1,2,3], [0,3,1,2])\n",
    "\n",
    "#                 for mm in range(n_prfs):\n",
    "\n",
    "#                     if debug and mm>1:\n",
    "#                         continue\n",
    "\n",
    "#                     prf_params = prf_models[mm,:]\n",
    "#                     x,y,sigma = prf_params\n",
    "#                     print('Getting features for pRF [x,y,sigma]:')\n",
    "#                     print([x,y,sigma])\n",
    "#                     n_pix = maps_full_field.shape[1]\n",
    "\n",
    "#                     # Define the RF for this \"model\" version\n",
    "#                     prf = torch_utils._to_torch(prf_utils.gauss_2d(center=[x,y], sd=sigma, \\\n",
    "#                                patch_size=n_pix, aperture=aperture, dtype=np.float32), device=device)\n",
    "#                     minval = torch.min(prf)\n",
    "#                     maxval = torch.max(prf-minval)\n",
    "#                     prf_scaled = (prf - minval)/maxval\n",
    "\n",
    "#                     if sigma==10:\n",
    "#                         # creating a \"flat\" pRF here which will average across entire feature map.\n",
    "#                         prf_scaled = torch.ones(prf_scaled.shape)\n",
    "#                         prf_scaled = prf_scaled/torch.sum(prf_scaled)\n",
    "#                         prf_scaled = prf_scaled.to(device)\n",
    "\n",
    "#                     if mult_patch_by_prf:\n",
    "#                         # This effectively restricts the spatial location, so no need to crop\n",
    "#                         maps = maps_full_field * prf_scaled.view([1,n_pix, n_pix,1])\n",
    "#                     else:\n",
    "#                         # This is a coarser way of choosing which spatial region to look at\n",
    "#                         # Crop the patch +/- n SD away from center\n",
    "#                         bbox = texture_utils.get_bbox_from_prf(prf_params, prf.shape, n_prf_sd_out, \\\n",
    "#                                                        min_pix=None, verbose=False, force_square=False)\n",
    "#                         print('bbox to crop is:')\n",
    "#                         print(bbox)\n",
    "#                         maps = maps_full_field[:,bbox[0]:bbox[1], bbox[2]:bbox[3],:]\n",
    "\n",
    "#                     if do_avg_pool:\n",
    "#                         features_batch = torch.mean(maps, dim=(1,2))\n",
    "#                     else:\n",
    "#                         features_batch = torch.max(maps, dim=(1,2))\n",
    "\n",
    "#                     print('model %d, min/max of features in batch: [%s, %s]'%(mm, \\\n",
    "#                                                   torch.min(features_batch), torch.max(features_batch))) \n",
    "\n",
    "#                     features_each_prf[ll][batch_inds,:,mm] = torch_utils.get_value(features_batch)\n",
    "\n",
    "#         # Now save the results, one file for each alexnet layer \n",
    "#         for ii, ll in enumerate(layer_inds):\n",
    "#             if which_prf_grid==1:\n",
    "#                 fn2save = os.path.join(alexnet_feat_path, 'S%d_%s_features_each_prf.h5py'%(subject, \\\n",
    "#                                                                                    alexnet_layer_names[ll]))\n",
    "#             else:\n",
    "#                 fn2save = os.path.join(alexnet_feat_path, 'S%d_%s_features_each_prf_grid%d.h5py'%(subject, \\\n",
    "#                                                                       alexnet_layer_names[ll], which_prf_grid))\n",
    "#             print('Writing prf features to %s\\n'%fn2save)\n",
    "\n",
    "#             t = time.time()\n",
    "#             with h5py.File(fn2save, 'w') as data_set:\n",
    "#                 dset = data_set.create_dataset(\"features\", np.shape(features_each_prf[ii]), dtype=np.float64)\n",
    "#                 data_set['/features'][:,:,:] = features_each_prf[ii]\n",
    "#                 data_set.close()  \n",
    "#             elapsed = time.time() - t\n",
    "\n",
    "#             print('Took %.5f sec to write file'%elapsed)"
   ]
  }
 ],
 "metadata": {
  "kernelspec": {
   "display_name": "Python 3",
   "language": "python",
   "name": "python3"
  },
  "language_info": {
   "codemirror_mode": {
    "name": "ipython",
    "version": 3
   },
   "file_extension": ".py",
   "mimetype": "text/x-python",
   "name": "python",
   "nbconvert_exporter": "python",
   "pygments_lexer": "ipython3",
   "version": "3.7.1"
  }
 },
 "nbformat": 4,
 "nbformat_minor": 5
}
