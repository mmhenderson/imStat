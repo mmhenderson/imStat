{
 "cells": [
  {
   "cell_type": "code",
   "execution_count": 1,
   "id": "0c42be4d",
   "metadata": {},
   "outputs": [],
   "source": [
    "\n",
    "# import basic modules\n",
    "import sys\n",
    "import os\n",
    "import time\n",
    "import numpy as np\n",
    "from tqdm import tqdm\n",
    "import gc\n",
    "import torch\n",
    "import argparse\n",
    "import skimage.transform\n",
    "\n",
    "# import custom modules\n",
    "code_dir = '/user_data/mmhender/imStat/code/'\n",
    "sys.path.append(code_dir)\n",
    "from feature_extraction import texture_statistics_gabor, bdcn_features, sketch_token_features\n",
    "from feature_extraction import texture_statistics_pyramid, alexnet_features\n",
    "from utils import nsd_utils, roi_utils, default_paths\n",
    "\n",
    "from model_fitting import initialize_fitting as initialize_fitting\n",
    "from model_fitting import arg_parser as arg_parser\n",
    "from model_fitting import merge_features, fwrf_fit, fwrf_predict, reconstruct\n",
    "\n",
    "fpX = np.float32\n",
    "# device = initialize_fitting.init_cuda()\n",
    "device = 'cpu:0'\n",
    "# device = initialize_fitting.init_cuda()"
   ]
  },
  {
   "cell_type": "code",
   "execution_count": 236,
   "id": "3cdf134b",
   "metadata": {},
   "outputs": [
    {
     "data": {
      "text/plain": [
       "array([[-0.55      , -0.55      , -0.55      , -0.55      , -0.55      ,\n",
       "        -0.55      , -0.55      ],\n",
       "       [-0.36666667, -0.36666667, -0.36666667, -0.36666667, -0.36666667,\n",
       "        -0.36666667, -0.36666667],\n",
       "       [-0.18333333, -0.18333333, -0.18333333, -0.18333333, -0.18333333,\n",
       "        -0.18333333, -0.18333333],\n",
       "       [ 0.        ,  0.        ,  0.        ,  0.        ,  0.        ,\n",
       "         0.        ,  0.        ],\n",
       "       [ 0.18333333,  0.18333333,  0.18333333,  0.18333333,  0.18333333,\n",
       "         0.18333333,  0.18333333],\n",
       "       [ 0.36666667,  0.36666667,  0.36666667,  0.36666667,  0.36666667,\n",
       "         0.36666667,  0.36666667],\n",
       "       [ 0.55      ,  0.55      ,  0.55      ,  0.55      ,  0.55      ,\n",
       "         0.55      ,  0.55      ]])"
      ]
     },
     "execution_count": 236,
     "metadata": {},
     "output_type": "execute_result"
    }
   ],
   "source": [
    "Y"
   ]
  },
  {
   "cell_type": "code",
   "execution_count": 217,
   "id": "fcdb0444",
   "metadata": {},
   "outputs": [
    {
     "data": {
      "text/plain": [
       "20"
      ]
     },
     "execution_count": 217,
     "metadata": {},
     "output_type": "execute_result"
    }
   ],
   "source": [
    "int(np.ceil(aperture/(s * min_spacing)))"
   ]
  },
  {
   "cell_type": "code",
   "execution_count": 215,
   "id": "d353d3b4",
   "metadata": {},
   "outputs": [
    {
     "data": {
      "text/plain": [
       "1.0"
      ]
     },
     "execution_count": 215,
     "metadata": {},
     "output_type": "execute_result"
    }
   ],
   "source": []
  },
  {
   "cell_type": "code",
   "execution_count": 94,
   "id": "07e47118",
   "metadata": {},
   "outputs": [],
   "source": [
    "out2 =torch.load('/user_data/mmhender/imStat/model_fits/S01/sketch_tokens/Oct-19-2021_1224_16/all_fit_params')\n",
    "                  "
   ]
  },
  {
   "cell_type": "code",
   "execution_count": 96,
   "id": "9193e457",
   "metadata": {},
   "outputs": [
    {
     "name": "stdout",
     "output_type": "stream",
     "text": [
      "(array([ 23, 735, 809]),)\n",
      "866\n"
     ]
    },
    {
     "data": {
      "text/plain": [
       "array([0.        , 0.        , 0.28787428])"
      ]
     },
     "execution_count": 96,
     "metadata": {},
     "output_type": "execute_result"
    }
   ],
   "source": [
    "counts2 = np.array([np.sum(out2['best_params'][5][:,0]==mm) for mm in range(875)])\n",
    "print(np.where(counts2==0))\n",
    "badmodels2 = np.where(counts2==0)\n",
    "print(np.argmax(counts2))\n",
    "# prf_models[counts==0,:]\n",
    "prf_models[np.argmax(counts2),:]"
   ]
  },
  {
   "cell_type": "code",
   "execution_count": 99,
   "id": "de7b2502",
   "metadata": {},
   "outputs": [],
   "source": [
    "bm1 = out['best_params'][5][:,0]\n",
    "bm2 = out2['best_params'][5][:,0]"
   ]
  },
  {
   "cell_type": "code",
   "execution_count": 103,
   "id": "74dcec38",
   "metadata": {},
   "outputs": [
    {
     "data": {
      "text/plain": [
       "4373"
      ]
     },
     "execution_count": 103,
     "metadata": {},
     "output_type": "execute_result"
    }
   ],
   "source": [
    "np.sum((bm1==866) & (bm2!=866))"
   ]
  },
  {
   "cell_type": "code",
   "execution_count": 105,
   "id": "102d814d",
   "metadata": {},
   "outputs": [],
   "source": [
    "changed = (bm1==866) & (bm2!=866)"
   ]
  },
  {
   "cell_type": "code",
   "execution_count": 119,
   "id": "9251dd0a",
   "metadata": {},
   "outputs": [
    {
     "data": {
      "text/plain": [
       "array([    0,     2,     5, ..., 19730, 19731, 19732])"
      ]
     },
     "execution_count": 119,
     "metadata": {},
     "output_type": "execute_result"
    }
   ],
   "source": [
    "vinds_changed = np.where(changed)[0]\n",
    "vinds_changed"
   ]
  },
  {
   "cell_type": "code",
   "execution_count": 168,
   "id": "a9f61987",
   "metadata": {},
   "outputs": [
    {
     "data": {
      "text/plain": [
       "Text(0, 0.5, 'ST')"
      ]
     },
     "execution_count": 168,
     "metadata": {},
     "output_type": "execute_result"
    },
    {
     "data": {
      "image/png": "[encoded data removed]",
      "text/plain": [
       "<Figure size 432x288 with 1 Axes>"
      ]
     },
     "metadata": {
      "needs_background": "light"
     },
     "output_type": "display_data"
    }
   ],
   "source": [
    "rsq1 = out['val_r2'][changed,0]\n",
    "rsq2 = out2['val_r2'][changed,0]\n",
    "\n",
    "plt.figure();\n",
    "plt.plot(rsq1, rsq2, '.')\n",
    "plt.axis('square')\n",
    "plt.xlabel('conv5')\n",
    "plt.ylabel('ST')"
   ]
  },
  {
   "cell_type": "code",
   "execution_count": 177,
   "id": "a28a93e3",
   "metadata": {},
   "outputs": [
    {
     "data": {
      "text/plain": [
       "391"
      ]
     },
     "execution_count": 177,
     "metadata": {},
     "output_type": "execute_result"
    }
   ],
   "source": [
    "np.flip(np.argsort(rsq1))[1]\n"
   ]
  },
  {
   "cell_type": "code",
   "execution_count": 179,
   "id": "a5c90884",
   "metadata": {},
   "outputs": [
    {
     "data": {
      "text/plain": [
       "907"
      ]
     },
     "execution_count": 179,
     "metadata": {},
     "output_type": "execute_result"
    }
   ],
   "source": [
    "np.where(changed)[0][391]"
   ]
  },
  {
   "cell_type": "code",
   "execution_count": 180,
   "id": "27a2cc6f",
   "metadata": {},
   "outputs": [
    {
     "data": {
      "text/plain": [
       "866"
      ]
     },
     "execution_count": 180,
     "metadata": {},
     "output_type": "execute_result"
    }
   ],
   "source": [
    "bm1[907]"
   ]
  },
  {
   "cell_type": "code",
   "execution_count": 182,
   "id": "f992a56f",
   "metadata": {},
   "outputs": [
    {
     "data": {
      "text/plain": [
       "825"
      ]
     },
     "execution_count": 182,
     "metadata": {},
     "output_type": "execute_result"
    }
   ],
   "source": [
    "bm2[907]"
   ]
  },
  {
   "cell_type": "code",
   "execution_count": 183,
   "id": "3a909c18",
   "metadata": {},
   "outputs": [
    {
     "data": {
      "text/plain": [
       "array([ 0.11      , -0.11      ,  0.14910375])"
      ]
     },
     "execution_count": 183,
     "metadata": {},
     "output_type": "execute_result"
    }
   ],
   "source": [
    "prf_models[825,:]"
   ]
  },
  {
   "cell_type": "code",
   "execution_count": 123,
   "id": "457bd201",
   "metadata": {},
   "outputs": [
    {
     "data": {
      "text/plain": [
       "array([3374,  391, 4148, ..., 3977, 3452, 3451])"
      ]
     },
     "execution_count": 123,
     "metadata": {},
     "output_type": "execute_result"
    }
   ],
   "source": [
    "np.flip(np.argsort(out['val_r2'][vinds_changed,0]))"
   ]
  },
  {
   "cell_type": "code",
   "execution_count": 133,
   "id": "7f4a0f1d",
   "metadata": {},
   "outputs": [
    {
     "data": {
      "text/plain": [
       "array([ 391, 1835,  397, ...,  260, 4303, 2334])"
      ]
     },
     "execution_count": 133,
     "metadata": {},
     "output_type": "execute_result"
    }
   ],
   "source": [
    "np.flip(np.argsort(out2['val_r2'][vinds_changed,0]))"
   ]
  },
  {
   "cell_type": "code",
   "execution_count": 128,
   "id": "cbd487e1",
   "metadata": {},
   "outputs": [],
   "source": [
    "vind = vinds_changed[3374]"
   ]
  },
  {
   "cell_type": "code",
   "execution_count": 134,
   "id": "5018c667",
   "metadata": {},
   "outputs": [],
   "source": [
    "vind = vinds_changed[391]"
   ]
  },
  {
   "cell_type": "code",
   "execution_count": 126,
   "id": "c8d88bb5",
   "metadata": {},
   "outputs": [
    {
     "data": {
      "text/plain": [
       "array([0.3389395 , 0.31804055, 0.30984104], dtype=float32)"
      ]
     },
     "execution_count": 126,
     "metadata": {},
     "output_type": "execute_result"
    }
   ],
   "source": [
    "out['val_r2'][vinds_changed[[3374, 391, 4148]],0]"
   ]
  },
  {
   "cell_type": "code",
   "execution_count": 135,
   "id": "3d27a4aa",
   "metadata": {},
   "outputs": [
    {
     "data": {
      "text/plain": [
       "0.21275757"
      ]
     },
     "execution_count": 135,
     "metadata": {},
     "output_type": "execute_result"
    }
   ],
   "source": [
    "out2['val_r2'][vind,0]"
   ]
  },
  {
   "cell_type": "code",
   "execution_count": 130,
   "id": "3519ea10",
   "metadata": {},
   "outputs": [
    {
     "data": {
      "text/plain": [
       "array([866])"
      ]
     },
     "execution_count": 130,
     "metadata": {},
     "output_type": "execute_result"
    }
   ],
   "source": [
    "out['best_params'][5][vind]"
   ]
  },
  {
   "cell_type": "code",
   "execution_count": 131,
   "id": "0ff62d01",
   "metadata": {},
   "outputs": [
    {
     "data": {
      "text/plain": [
       "array([855])"
      ]
     },
     "execution_count": 131,
     "metadata": {},
     "output_type": "execute_result"
    }
   ],
   "source": [
    "out2['best_params'][5][vind]"
   ]
  },
  {
   "cell_type": "code",
   "execution_count": 109,
   "id": "473926bc",
   "metadata": {},
   "outputs": [
    {
     "data": {
      "image/png": "[encoded data removed]",
      "text/plain": [
       "<Figure size 432x288 with 1 Axes>"
      ]
     },
     "metadata": {
      "needs_background": "light"
     },
     "output_type": "display_data"
    }
   ],
   "source": [
    "plt.figure();\n",
    "plt.hist(out2['val_r2'][changed,0], 100);"
   ]
  },
  {
   "cell_type": "code",
   "execution_count": 112,
   "id": "86b719a1",
   "metadata": {},
   "outputs": [
    {
     "data": {
      "image/png": "[encoded data removed]",
      "text/plain": [
       "<Figure size 432x288 with 1 Axes>"
      ]
     },
     "metadata": {
      "needs_background": "light"
     },
     "output_type": "display_data"
    }
   ],
   "source": [
    "plt.figure();\n",
    "plt.hist(out2['val_r2'][changed==0,0], 100);"
   ]
  },
  {
   "cell_type": "code",
   "execution_count": 4,
   "id": "8f29055b",
   "metadata": {},
   "outputs": [],
   "source": [
    "out = torch.load('/user_data/mmhender/imStat/model_fits/S01/alexnet_Conv5/Oct-22-2021_1919_16/all_fit_params')\n"
   ]
  },
  {
   "cell_type": "code",
   "execution_count": 7,
   "id": "5596cd1f",
   "metadata": {},
   "outputs": [
    {
     "data": {
      "text/plain": [
       "array([    0,     2,     4, ..., 19732, 19736, 19737])"
      ]
     },
     "execution_count": 7,
     "metadata": {},
     "output_type": "execute_result"
    }
   ],
   "source": [
    "prf_pars = out['best_params'][0][:,0,:]\n",
    "zeros = (prf_pars[:,0]==0.0) & (prf_pars[:,1]==0.0)\n",
    "bad = np.where((prf_pars[:,0]==0.0) & (prf_pars[:,1]==0.0))[0]\n",
    "bad"
   ]
  },
  {
   "cell_type": "code",
   "execution_count": 11,
   "id": "cc2f604b",
   "metadata": {},
   "outputs": [
    {
     "name": "stdout",
     "output_type": "stream",
     "text": [
      "(array([ 21,  23,  32,  38, 357, 358, 361, 377, 378, 414, 416, 417, 428,\n",
      "       439, 445, 518, 578, 592, 595, 596, 605, 609, 611, 620, 624, 635,\n",
      "       690, 733, 734, 743]),)\n",
      "866\n"
     ]
    },
    {
     "data": {
      "text/plain": [
       "array([0.        , 0.        , 0.28787428])"
      ]
     },
     "execution_count": 11,
     "metadata": {},
     "output_type": "execute_result"
    }
   ],
   "source": [
    "counts = np.array([np.sum(out['best_params'][5][:,0]==mm) for mm in range(875)])\n",
    "print(np.where(counts==0))\n",
    "badmodels = np.where(counts==0)\n",
    "print(np.argmax(counts))\n",
    "# prf_models[counts==0,:]\n",
    "prf_models[np.argmax(counts),:]"
   ]
  },
  {
   "cell_type": "code",
   "execution_count": 104,
   "id": "f13fe5a8",
   "metadata": {},
   "outputs": [
    {
     "data": {
      "text/plain": [
       "5693"
      ]
     },
     "execution_count": 104,
     "metadata": {},
     "output_type": "execute_result"
    }
   ],
   "source": [
    "counts[866]"
   ]
  },
  {
   "cell_type": "code",
   "execution_count": 60,
   "id": "0cf9d096",
   "metadata": {},
   "outputs": [
    {
     "data": {
      "text/plain": [
       "array([0.04      , 0.05557982, 0.07722791, 0.10730783, 0.14910375,\n",
       "       0.207179  , 0.28787428, 0.40000001])"
      ]
     },
     "execution_count": 60,
     "metadata": {},
     "output_type": "execute_result"
    }
   ],
   "source": [
    "np.unique(prf_models[:,2])"
   ]
  },
  {
   "cell_type": "code",
   "execution_count": 152,
   "id": "1b5ef599",
   "metadata": {},
   "outputs": [
    {
     "data": {
      "text/plain": [
       "array([[-0.55      , -0.55      ,  0.40000001],\n",
       "       [ 0.55      , -0.55      ,  0.40000001],\n",
       "       [-0.55      ,  0.55      ,  0.40000001],\n",
       "       [ 0.55      ,  0.55      ,  0.40000001]])"
      ]
     },
     "execution_count": 152,
     "metadata": {},
     "output_type": "execute_result"
    }
   ],
   "source": [
    "prf_models[np.where(np.round(prf_models[:,2],2)==0.40)[0],:]"
   ]
  },
  {
   "cell_type": "code",
   "execution_count": 153,
   "id": "58f70716",
   "metadata": {},
   "outputs": [
    {
     "data": {
      "text/plain": [
       "array([871, 872, 873, 874])"
      ]
     },
     "execution_count": 153,
     "metadata": {},
     "output_type": "execute_result"
    }
   ],
   "source": [
    "np.where(np.round(prf_models[:,2],2)==0.40)[0]"
   ]
  },
  {
   "cell_type": "code",
   "execution_count": 150,
   "id": "676d5296",
   "metadata": {},
   "outputs": [
    {
     "data": {
      "text/plain": [
       "(array([], dtype=int64),)"
      ]
     },
     "execution_count": 150,
     "metadata": {},
     "output_type": "execute_result"
    }
   ],
   "source": [
    "np.where((np.round(prf_models[:,1],2)==0.00) & (np.round(prf_models[:,2],2)==0.40) & \\\n",
    "             (np.round(prf_models[:,0],2)==0.00))"
   ]
  },
  {
   "cell_type": "code",
   "execution_count": 66,
   "id": "4f1c1ccc",
   "metadata": {},
   "outputs": [
    {
     "data": {
      "text/plain": [
       "array([[0.        , 0.        , 0.05557982],\n",
       "       [0.        , 0.        , 0.07722791],\n",
       "       [0.        , 0.        , 0.28787428]])"
      ]
     },
     "execution_count": 66,
     "metadata": {},
     "output_type": "execute_result"
    }
   ],
   "source": [
    "prf_models[(np.round(prf_models[:,1],2)==0.00) & (np.round(prf_models[:,0],2)==0.00),:]"
   ]
  },
  {
   "cell_type": "code",
   "execution_count": 74,
   "id": "5f55c1b5",
   "metadata": {},
   "outputs": [
    {
     "data": {
      "text/plain": [
       "array([[-0.55      , -0.55      ,  0.207179  ],\n",
       "       [-0.18333333, -0.55      ,  0.207179  ],\n",
       "       [ 0.18333333, -0.55      ,  0.207179  ],\n",
       "       [ 0.55      , -0.55      ,  0.207179  ],\n",
       "       [-0.55      , -0.18333333,  0.207179  ],\n",
       "       [-0.18333333, -0.18333333,  0.207179  ],\n",
       "       [ 0.18333333, -0.18333333,  0.207179  ],\n",
       "       [ 0.55      , -0.18333333,  0.207179  ],\n",
       "       [-0.55      ,  0.18333333,  0.207179  ],\n",
       "       [-0.18333333,  0.18333333,  0.207179  ],\n",
       "       [ 0.18333333,  0.18333333,  0.207179  ],\n",
       "       [ 0.55      ,  0.18333333,  0.207179  ],\n",
       "       [-0.55      ,  0.55      ,  0.207179  ],\n",
       "       [-0.18333333,  0.55      ,  0.207179  ],\n",
       "       [ 0.18333333,  0.55      ,  0.207179  ],\n",
       "       [ 0.55      ,  0.55      ,  0.207179  ]])"
      ]
     },
     "execution_count": 74,
     "metadata": {},
     "output_type": "execute_result"
    }
   ],
   "source": [
    "prf_models[(np.round(prf_models[:,2],2)==0.21),:]"
   ]
  },
  {
   "cell_type": "code",
   "execution_count": 75,
   "id": "641be26f",
   "metadata": {},
   "outputs": [
    {
     "data": {
      "text/plain": [
       "(array([846, 847, 848, 849, 850, 851, 852, 853, 854, 855, 856, 857, 858,\n",
       "        859, 860, 861]),)"
      ]
     },
     "execution_count": 75,
     "metadata": {},
     "output_type": "execute_result"
    }
   ],
   "source": [
    "np.where((np.round(prf_models[:,2],2)==0.21))"
   ]
  },
  {
   "cell_type": "code",
   "execution_count": 76,
   "id": "5905af77",
   "metadata": {},
   "outputs": [
    {
     "data": {
      "text/plain": [
       "array([-0.18333333, -0.18333333,  0.207179  ])"
      ]
     },
     "execution_count": 76,
     "metadata": {},
     "output_type": "execute_result"
    }
   ],
   "source": [
    "prf_models[851,:]"
   ]
  },
  {
   "cell_type": "code",
   "execution_count": 77,
   "id": "8ea32107",
   "metadata": {},
   "outputs": [
    {
     "data": {
      "text/plain": [
       "276"
      ]
     },
     "execution_count": 77,
     "metadata": {},
     "output_type": "execute_result"
    }
   ],
   "source": [
    "counts[851]"
   ]
  },
  {
   "cell_type": "code",
   "execution_count": 84,
   "id": "c608045f",
   "metadata": {},
   "outputs": [
    {
     "data": {
      "text/plain": [
       "array([[ 0.        ,  0.        ,  0.28787428],\n",
       "       [-0.18333333,  0.18333333,  0.207179  ],\n",
       "       [ 0.18333333,  0.18333333,  0.207179  ],\n",
       "       [ 0.18333333, -0.18333333,  0.207179  ],\n",
       "       [ 0.11      ,  0.11      ,  0.14910375],\n",
       "       [-0.18333333, -0.18333333,  0.207179  ],\n",
       "       [-0.11      ,  0.11      ,  0.14910375],\n",
       "       [ 0.55      ,  0.        ,  0.28787428],\n",
       "       [-0.55      ,  0.        ,  0.28787428],\n",
       "       [ 0.11      , -0.11      ,  0.14910375]])"
      ]
     },
     "execution_count": 84,
     "metadata": {},
     "output_type": "execute_result"
    }
   ],
   "source": [
    "prf_models[np.flip(np.argsort(counts))[0:10]]"
   ]
  },
  {
   "cell_type": "code",
   "execution_count": 85,
   "id": "da7714d6",
   "metadata": {},
   "outputs": [
    {
     "data": {
      "text/plain": [
       "array([866, 855, 856, 852, 831, 851, 830, 867, 865, 825])"
      ]
     },
     "execution_count": 85,
     "metadata": {},
     "output_type": "execute_result"
    }
   ],
   "source": [
    "np.flip(np.argsort(counts))[0:10]"
   ]
  },
  {
   "cell_type": "code",
   "execution_count": 143,
   "id": "99a4a684",
   "metadata": {},
   "outputs": [
    {
     "data": {
      "text/plain": [
       "array([[ 0.39285714,  0.39285714,  0.05557982],\n",
       "       [ 0.55      , -0.55      ,  0.05557982],\n",
       "       [-0.49210526, -0.49210526,  0.04      ],\n",
       "       [-0.47142857,  0.47142857,  0.05557982],\n",
       "       [-0.37631579, -0.49210526,  0.04      ],\n",
       "       [-0.55      ,  0.47142857,  0.05557982],\n",
       "       [ 0.43421053,  0.49210526,  0.04      ],\n",
       "       [ 0.47142857,  0.        ,  0.05557982],\n",
       "       [-0.49210526,  0.49210526,  0.04      ],\n",
       "       [ 0.55      ,  0.        ,  0.07722791]])"
      ]
     },
     "execution_count": 143,
     "metadata": {},
     "output_type": "execute_result"
    }
   ],
   "source": [
    "prf_models[np.argsort(counts)[0:10]]"
   ]
  },
  {
   "cell_type": "code",
   "execution_count": 144,
   "id": "9f277f7a",
   "metadata": {},
   "outputs": [
    {
     "data": {
      "text/plain": [
       "array([592, 414,  21, 596,  23, 595, 377, 518, 361, 690])"
      ]
     },
     "execution_count": 144,
     "metadata": {},
     "output_type": "execute_result"
    }
   ],
   "source": [
    "np.argsort(counts)[0:10]"
   ]
  },
  {
   "cell_type": "code",
   "execution_count": 86,
   "id": "fc61d9ae",
   "metadata": {},
   "outputs": [
    {
     "data": {
      "text/plain": [
       "251"
      ]
     },
     "execution_count": 86,
     "metadata": {},
     "output_type": "execute_result"
    }
   ],
   "source": [
    "counts[867]"
   ]
  },
  {
   "cell_type": "code",
   "execution_count": 87,
   "id": "0357aa81",
   "metadata": {},
   "outputs": [
    {
     "data": {
      "text/plain": [
       "array([0.55      , 0.        , 0.28787428])"
      ]
     },
     "execution_count": 87,
     "metadata": {},
     "output_type": "execute_result"
    }
   ],
   "source": [
    "prf_models[867]"
   ]
  },
  {
   "cell_type": "code",
   "execution_count": 261,
   "id": "c772ac30",
   "metadata": {},
   "outputs": [
    {
     "name": "stdout",
     "output_type": "stream",
     "text": [
      "#device: 1\n",
      "device#: 0\n",
      "device name: GeForce GTX TITAN X\n",
      "\n",
      "torch: 1.8.1+cu111\n",
      "cuda:  11.1\n",
      "cudnn: 8005\n",
      "dtype: torch.float32\n",
      "\n",
      "Loading images for subject 1\n",
      "\n",
      "image data size: (10000, 3, 240, 240) , dtype: uint8 , value range: 0 255\n",
      "number of pRFs: 961\n",
      "most extreme RF positions:\n",
      "[-0.55 -0.55  0.04]\n",
      "[0. 0. 1.]\n"
     ]
    }
   ],
   "source": [
    "subject = 1\n",
    "debug = True\n",
    "use_node_storage = False\n",
    "\n",
    "device = initialize_fitting.init_cuda()\n",
    "\n",
    "if use_node_storage:\n",
    "    alexnet_feat_path = default_paths.alexnet_feat_path_localnode\n",
    "else:\n",
    "    alexnet_feat_path = default_paths.alexnet_feat_path\n",
    "\n",
    "# Load and prepare the image set to work with (all images for the current subject, 10,000 ims)\n",
    "stim_root = default_paths.stim_root\n",
    "image_data = nsd_utils.get_image_data(subject)  \n",
    "image_data = nsd_utils.image_uncolorize_fn(image_data)\n",
    "\n",
    "n_images = image_data.shape[0]\n",
    "\n",
    "# Params for the spatial aspect of the model (possible pRFs)\n",
    "aperture = 1.0\n",
    "aperture_rf_range = 1.1\n",
    "aperture, prf_models = get_prf_models(aperture_rf_range=aperture_rf_range, orig_grid=False)    \n",
    "# aperture, prf_models = get_prf_models2(aperture_rf_range=aperture_rf_range)    \n",
    "\n",
    "# Fix these params\n",
    "n_prf_sd_out = 2\n",
    "batch_size = 100\n",
    "mult_patch_by_prf = True\n",
    "do_avg_pool = True\n",
    "\n",
    "layers_to_return = ['Conv1_ReLU', 'Conv2_ReLU','Conv3_ReLU','Conv4_ReLU','Conv5_ReLU']\n",
    "n_layers = len(layers_to_return)\n",
    "layer_inds = [ll for ll in range(len(alexnet_layer_names)) \\\n",
    "                  if alexnet_layer_names[ll] in layers_to_return]\n",
    "\n",
    "n_prfs = len(prf_models)\n",
    "features_each_prf = [np.zeros((n_images, n_features_each_layer[ll], n_prfs),dtype=dtype) for ll in layer_inds]\n",
    "\n",
    "batch_size=100    \n",
    "n_batches = int(np.ceil(n_images/batch_size))\n"
   ]
  },
  {
   "cell_type": "code",
   "execution_count": null,
   "id": "71dfbbfc",
   "metadata": {},
   "outputs": [],
   "source": [
    "features_each_prf[4].shape"
   ]
  },
  {
   "cell_type": "code",
   "execution_count": 21,
   "id": "e90833e8",
   "metadata": {},
   "outputs": [
    {
     "data": {
      "text/plain": [
       "<matplotlib.colorbar.Colorbar at 0x7f36708bf470>"
      ]
     },
     "execution_count": 21,
     "metadata": {},
     "output_type": "execute_result"
    },
    {
     "data": {
      "image/png": "[encoded data removed]",
      "text/plain": [
       "<Figure size 432x288 with 2 Axes>"
      ]
     },
     "metadata": {
      "needs_background": "light"
     },
     "output_type": "display_data"
    }
   ],
   "source": [
    "import matplotlib.pyplot as plt\n",
    "plt.figure();\n",
    "plt.pcolormesh(features_each_prf[4][batch_inds,:,1])\n",
    "plt.colorbar()"
   ]
  },
  {
   "cell_type": "code",
   "execution_count": 12,
   "id": "da7b666d",
   "metadata": {},
   "outputs": [],
   "source": [
    "bb = 0\n",
    "debug = True\n",
    "\n",
    "batch_inds = np.arange(batch_size * bb, np.min([batch_size * (bb+1), n_images]))\n",
    "\n",
    "# using grayscale images for better comparison w my other models.\n",
    "# need to tile to 3 so alexnet weights will be right size\n",
    "image_batch = np.tile(image_data[batch_inds,:,:,:], [1,3,1,1])\n",
    "\n",
    "activ_batch = get_alexnet_activations_batch(image_batch, layer_inds, device=device)"
   ]
  },
  {
   "cell_type": "code",
   "execution_count": 262,
   "id": "14c73e79",
   "metadata": {},
   "outputs": [
    {
     "name": "stdout",
     "output_type": "stream",
     "text": [
      "Getting prf-specific activations for layer Conv5_ReLU\n",
      "Getting features for pRF [x,y,sigma]:\n",
      "[0.0, 0.0, 1.0]\n",
      "model 960, min/max of features in batch: [tensor(0., device='cuda:0', grad_fn=<MinBackward1>), tensor(1.6445, device='cuda:0', grad_fn=<MaxBackward1>)]\n"
     ]
    }
   ],
   "source": [
    "ll = 4\n",
    "\n",
    "# for ll in range(n_layers):\n",
    "\n",
    "print('Getting prf-specific activations for layer %s'%alexnet_layer_names[layer_inds[ll]])\n",
    "\n",
    "maps_full_field = torch.moveaxis(activ_batch[ll], [0,1,2,3], [0,3,1,2])\n",
    "\n",
    "# mm = 866\n",
    "\n",
    "# mm = 871\n",
    "# mm = 825\n",
    "# mm = 855\n",
    "# mm = 592\n",
    "# mm = 21\n",
    "mm = 960\n",
    "# mm = 866\n",
    "#     for mm in range(n_prfs):\n",
    "\n",
    "#         if debug and mm>1:\n",
    "#             continue\n",
    "\n",
    "prf_params = prf_models[mm,:]\n",
    "x,y,sigma = prf_params\n",
    "print('Getting features for pRF [x,y,sigma]:')\n",
    "print([x,y,sigma])\n",
    "n_pix = maps_full_field.shape[1]\n",
    "\n",
    " # Define the RF for this \"model\" version\n",
    "prf = torch_utils._to_torch(prf_utils.make_gaussian_mass(x, y, sigma, n_pix, size=aperture, \\\n",
    "                          dtype=np.float32)[2], device=device)\n",
    "minval = torch.min(prf)\n",
    "maxval = torch.max(prf-minval)\n",
    "prf_scaled = (prf - minval)/maxval\n",
    "\n",
    "if mult_patch_by_prf:\n",
    "    # This effectively restricts the spatial location, so no need to crop\n",
    "    maps = maps_full_field * prf_scaled.view([1,n_pix, n_pix,1])\n",
    "else:\n",
    "    # This is a coarser way of choosing which spatial region to look at\n",
    "    # Crop the patch +/- n SD away from center\n",
    "    n_pf_sd_out = 2\n",
    "    bbox = texture_utils.get_bbox_from_prf(prf_params, prf.shape, n_prf_sd_out, \\\n",
    "                                   min_pix=None, verbose=False, force_square=False)\n",
    "    print('bbox to crop is:')\n",
    "    print(bbox)\n",
    "    maps = maps_full_field[:,bbox[0]:bbox[1], bbox[2]:bbox[3],:]\n",
    "\n",
    "if do_avg_pool:\n",
    "    features_batch = torch.mean(maps, dim=(1,2))\n",
    "else:\n",
    "    features_batch = torch.max(maps, dim=(1,2))\n",
    "\n",
    "print('model %d, min/max of features in batch: [%s, %s]'%(mm, \\\n",
    "                              torch.min(features_batch), torch.max(features_batch))) \n",
    "\n",
    "features_each_prf[ll][batch_inds,:,mm] = torch_utils.get_value(features_batch)"
   ]
  },
  {
   "cell_type": "code",
   "execution_count": 198,
   "id": "bbe09b9f",
   "metadata": {},
   "outputs": [
    {
     "data": {
      "text/plain": [
       "[<matplotlib.lines.Line2D at 0x7f365fcdfb00>]"
      ]
     },
     "execution_count": 198,
     "metadata": {},
     "output_type": "execute_result"
    },
    {
     "data": {
      "image/png": "[encoded data removed]",
      "text/plain": [
       "<Figure size 432x288 with 1 Axes>"
      ]
     },
     "metadata": {
      "needs_background": "light"
     },
     "output_type": "display_data"
    }
   ],
   "source": [
    "plt.figure();\n",
    "fb1 = features_batch.detach().cpu().numpy()\n",
    "plt.plot(np.mean(fb1, axis=0))"
   ]
  },
  {
   "cell_type": "code",
   "execution_count": 201,
   "id": "bdd0c4d1",
   "metadata": {},
   "outputs": [
    {
     "data": {
      "text/plain": [
       "[<matplotlib.lines.Line2D at 0x7f34462f2a20>]"
      ]
     },
     "execution_count": 201,
     "metadata": {},
     "output_type": "execute_result"
    },
    {
     "data": {
      "image/png": "[encoded data removed]",
      "text/plain": [
       "<Figure size 432x288 with 1 Axes>"
      ]
     },
     "metadata": {
      "needs_background": "light"
     },
     "output_type": "display_data"
    }
   ],
   "source": [
    "plt.figure();\n",
    "fb2 = features_batch.detach().cpu().numpy()\n",
    "plt.plot(np.mean(fb2, axis=0))"
   ]
  },
  {
   "cell_type": "code",
   "execution_count": 203,
   "id": "75d9a106",
   "metadata": {},
   "outputs": [
    {
     "data": {
      "text/plain": [
       "[<matplotlib.lines.Line2D at 0x7f3446740d68>]"
      ]
     },
     "execution_count": 203,
     "metadata": {},
     "output_type": "execute_result"
    },
    {
     "data": {
      "image/png": "[encoded data removed]",
      "text/plain": [
       "<Figure size 432x288 with 1 Axes>"
      ]
     },
     "metadata": {
      "needs_background": "light"
     },
     "output_type": "display_data"
    }
   ],
   "source": [
    "plt.figure();\n",
    "fb3 = features_batch.detach().cpu().numpy()\n",
    "plt.plot(np.mean(fb3, axis=0))"
   ]
  },
  {
   "cell_type": "code",
   "execution_count": 264,
   "id": "c64990b7",
   "metadata": {},
   "outputs": [],
   "source": [
    "fullmaps = maps_full_field.detach().cpu().numpy()\n",
    "\n",
    "p = prf_scaled.detach().cpu().numpy()\n"
   ]
  },
  {
   "cell_type": "code",
   "execution_count": 265,
   "id": "e8c54160",
   "metadata": {},
   "outputs": [
    {
     "data": {
      "image/png": "[encoded data removed]",
      "text/plain": [
       "<Figure size 1296x864 with 7 Axes>"
      ]
     },
     "metadata": {
      "needs_background": "light"
     },
     "output_type": "display_data"
    }
   ],
   "source": [
    "plt.figure(figsize=(18,12))\n",
    "ii = 50\n",
    "ff = 113\n",
    "plt.subplot(2,3,1)\n",
    "plt.pcolormesh(fullmaps[ii,:,:,ff])\n",
    "plt.colorbar()\n",
    "plt.axis('square')\n",
    "\n",
    "plt.subplot(2,3,2);\n",
    "plt.pcolormesh(p);\n",
    "plt.colorbar()\n",
    "plt.axis('square')\n",
    "\n",
    "plt.subplot(2,3,3);\n",
    "plt.pcolormesh(fullmaps[ii,:,:,ff] * p);\n",
    "plt.colorbar()\n",
    "plt.axis('square')\n",
    "\n",
    "\n",
    "\n",
    "plt.subplot(2,3,4)\n",
    "vals = features_each_prf[ll][ii,:,mm]\n",
    "plt.plot(vals);"
   ]
  },
  {
   "cell_type": "code",
   "execution_count": 189,
   "id": "7daf6cee",
   "metadata": {},
   "outputs": [
    {
     "data": {
      "text/plain": [
       "125"
      ]
     },
     "execution_count": 189,
     "metadata": {},
     "output_type": "execute_result"
    }
   ],
   "source": [
    "np.argmax(vals)"
   ]
  },
  {
   "cell_type": "code",
   "execution_count": 43,
   "id": "9ac9751b",
   "metadata": {},
   "outputs": [
    {
     "data": {
      "image/png": "[encoded data removed]",
      "text/plain": [
       "<Figure size 1296x864 with 7 Axes>"
      ]
     },
     "metadata": {
      "needs_background": "light"
     },
     "output_type": "display_data"
    }
   ],
   "source": [
    "plt.figure(figsize=(18,12))\n",
    "plt.subplot(2,3,1)\n",
    "plt.pcolormesh(fullmaps[0,:,:,100])\n",
    "plt.colorbar()\n",
    "plt.axis('square')\n",
    "\n",
    "plt.subplot(2,3,2);\n",
    "plt.pcolormesh(p);\n",
    "plt.colorbar()\n",
    "plt.axis('square')\n",
    "\n",
    "plt.subplot(2,3,3);\n",
    "plt.pcolormesh(fullmaps[0,:,:,100] * p);\n",
    "plt.colorbar()\n",
    "plt.axis('square')\n",
    "\n",
    "\n",
    "\n",
    "plt.subplot(2,3,4)\n",
    "vals = features_each_prf[ll][0,:,mm]\n",
    "plt.plot(vals);"
   ]
  },
  {
   "cell_type": "code",
   "execution_count": 2,
   "id": "935633db",
   "metadata": {},
   "outputs": [],
   "source": [
    "import numpy as np\n",
    "import sys, os\n",
    "import argparse\n",
    "import torch\n",
    "import time\n",
    "import h5py\n",
    "import copy\n",
    "import torchvision.models as models\n",
    "import torch.nn as nn\n",
    "\n",
    "#import custom modules\n",
    "code_dir = '/user_data/mmhender/imStat/code/'\n",
    "sys.path.append(code_dir)\n",
    "from utils import prf_utils, torch_utils, texture_utils, default_paths, nsd_utils\n",
    "from model_fitting import initialize_fitting\n",
    "\n",
    "\n",
    "dtype=np.float32\n",
    "\n",
    "# Define sets of alexnet layers\n",
    "alexnet_conv_layer_names = ['Conv1','Conv1_ReLU','Conv1_MaxPool', \\\n",
    "                       'Conv2','Conv2_ReLU','Conv2_MaxPool', \\\n",
    "                       'Conv3','Conv3_ReLU', \\\n",
    "                       'Conv4','Conv4_ReLU', \\\n",
    "                       'Conv5','Conv5_ReLU','Conv5_MaxPool']\n",
    "\n",
    "alexnet_fc_layer_names = ['Dropout6','FC6','FC6_ReLU','Dropout7','FC7','FC7_ReLU','FC8']\n",
    "\n",
    "n_feature_layers = len(alexnet_conv_layer_names)\n",
    "n_classif_layers = len(alexnet_fc_layer_names)\n",
    "n_total_layers = n_feature_layers + n_classif_layers\n",
    "alexnet_layer_names = copy.deepcopy(alexnet_conv_layer_names)\n",
    "alexnet_layer_names.extend(alexnet_fc_layer_names)\n",
    "\n",
    "n_features_each_layer = [64,64,64, 192,192,192, 384,384, 256,256, 256,256]\n",
    "\n",
    "def get_features_each_prf(subject, use_node_storage=False, debug=False):\n",
    "    \"\"\"\n",
    "    Extract the portion of CNN feature maps corresponding to pRF defined in \"models\"\n",
    "    Return list of the features in each pRF, for each layer of interest.\n",
    "    \"\"\"\n",
    "    \n",
    "    device = initialize_fitting.init_cuda()\n",
    "    \n",
    "    if use_node_storage:\n",
    "        alexnet_feat_path = default_paths.alexnet_feat_path_localnode\n",
    "    else:\n",
    "        alexnet_feat_path = default_paths.alexnet_feat_path\n",
    "\n",
    "    # Load and prepare the image set to work with (all images for the current subject, 10,000 ims)\n",
    "    stim_root = default_paths.stim_root\n",
    "    image_data = nsd_utils.get_image_data(subject)  \n",
    "    image_data = nsd_utils.image_uncolorize_fn(image_data)\n",
    "   \n",
    "    n_images = image_data.shape[0]\n",
    "    \n",
    "    # Params for the spatial aspect of the model (possible pRFs)\n",
    "    aperture = 1.0\n",
    "    aperture_rf_range = 1.1\n",
    "    aperture, prf_models = initialize_fitting.get_prf_models(aperture_rf_range=aperture_rf_range)    \n",
    "\n",
    "    # Fix these params\n",
    "    n_prf_sd_out = 2\n",
    "    batch_size = 100\n",
    "    mult_patch_by_prf = True\n",
    "    do_avg_pool = True\n",
    "    \n",
    "    layers_to_return = ['Conv1_ReLU', 'Conv2_ReLU','Conv3_ReLU','Conv4_ReLU','Conv5_ReLU']\n",
    "    n_layers = len(layers_to_return)\n",
    "    layer_inds = [ll for ll in range(len(alexnet_layer_names)) \\\n",
    "                      if alexnet_layer_names[ll] in layers_to_return]\n",
    "\n",
    "    n_prfs = len(prf_models)\n",
    "    features_each_prf = [np.zeros((n_images, n_features_each_layer[ll], n_prfs),dtype=dtype) for ll in layer_inds]\n",
    "\n",
    "    batch_size=100    \n",
    "    n_batches = int(np.ceil(n_images/batch_size))\n",
    "\n",
    "    with torch.no_grad():\n",
    "\n",
    "        for bb in range(n_batches):\n",
    "\n",
    "            if debug and bb>1:\n",
    "                continue\n",
    "            print('Processing images for batch %d of %d'%(bb, n_batches))\n",
    "\n",
    "            batch_inds = np.arange(batch_size * bb, np.min([batch_size * (bb+1), n_images]))\n",
    "\n",
    "            # using grayscale images for better comparison w my other models.\n",
    "            # need to tile to 3 so alexnet weights will be right size\n",
    "            image_batch = np.tile(image_data[batch_inds,:,:,:], [1,3,1,1])\n",
    "\n",
    "\n",
    "            activ_batch = get_alexnet_activations_batch(image_batch, layer_inds, device=device)\n",
    "\n",
    "            for ll in range(n_layers):\n",
    "\n",
    "                print('Getting prf-specific activations for layer %s'%alexnet_layer_names[layer_inds[ll]])\n",
    "\n",
    "                maps_full_field = torch.moveaxis(activ_batch[ll], [0,1,2,3], [0,3,1,2])\n",
    "\n",
    "                for mm in range(n_prfs):\n",
    "\n",
    "                    if debug and mm>1:\n",
    "                        continue\n",
    "\n",
    "                    prf_params = prf_models[mm,:]\n",
    "                    x,y,sigma = prf_params\n",
    "                    print('Getting features for pRF [x,y,sigma]:')\n",
    "                    print([x,y,sigma])\n",
    "                    n_pix = maps_full_field.shape[1]\n",
    "\n",
    "                     # Define the RF for this \"model\" version\n",
    "                    prf = torch_utils._to_torch(prf_utils.make_gaussian_mass(x, y, sigma, n_pix, size=aperture, \\\n",
    "                                              dtype=np.float32)[2], device=device)\n",
    "                    minval = torch.min(prf)\n",
    "                    maxval = torch.max(prf-minval)\n",
    "                    prf_scaled = (prf - minval)/maxval\n",
    "\n",
    "                    if mult_patch_by_prf:\n",
    "                        # This effectively restricts the spatial location, so no need to crop\n",
    "                        maps = maps_full_field * prf_scaled.view([1,n_pix, n_pix,1])\n",
    "                    else:\n",
    "                        # This is a coarser way of choosing which spatial region to look at\n",
    "                        # Crop the patch +/- n SD away from center\n",
    "                        n_pf_sd_out = 2\n",
    "                        bbox = texture_utils.get_bbox_from_prf(prf_params, prf.shape, n_prf_sd_out, \\\n",
    "                                                       min_pix=None, verbose=False, force_square=False)\n",
    "                        print('bbox to crop is:')\n",
    "                        print(bbox)\n",
    "                        maps = maps_full_field[:,bbox[0]:bbox[1], bbox[2]:bbox[3],:]\n",
    "\n",
    "                    if do_avg_pool:\n",
    "                        features_batch = torch.mean(maps, dim=(1,2))\n",
    "                    else:\n",
    "                        features_batch = torch.max(maps, dim=(1,2))\n",
    "\n",
    "                    print('model %d, min/max of features in batch: [%s, %s]'%(mm, \\\n",
    "                                                  torch.min(features_batch), torch.max(features_batch))) \n",
    "\n",
    "                    features_each_prf[ll][batch_inds,:,mm] = torch_utils.get_value(features_batch)\n",
    "\n",
    "        # Now save the results, one file for each alexnet layer \n",
    "        for ii, ll in enumerate(layer_inds):\n",
    "            fn2save = os.path.join(alexnet_feat_path, 'S%d_%s_features_each_prf.h5py'%(subject, alexnet_layer_names[ll]))\n",
    "            print('Writing prf features to %s\\n'%fn2save)\n",
    "\n",
    "            t = time.time()\n",
    "            with h5py.File(fn2save, 'w') as data_set:\n",
    "                dset = data_set.create_dataset(\"features\", np.shape(features_each_prf[ii]), dtype=np.float64)\n",
    "                data_set['/features'][:,:,:] = features_each_prf[ii]\n",
    "                data_set.close()  \n",
    "            elapsed = time.time() - t\n",
    "\n",
    "            print('Took %.5f sec to write file'%elapsed)\n",
    "\n",
    "\n",
    "def get_alexnet_activations_batch(image_batch, layer_inds, device=None):\n",
    "\n",
    "    \"\"\"\n",
    "    Get activations for images in NSD, passed through pretrained AlexNet.\n",
    "    Specify which NSD images to look at, and which layers to return.\n",
    "    \"\"\"\n",
    "\n",
    "    if device is None:\n",
    "        device = torch.device('cpu:0')\n",
    "       \n",
    "    # first loading pre-trained model from torch model zoo\n",
    "    model = models.alexnet(pretrained=True).float().to(device)\n",
    "    model.eval()\n",
    "    model_name='AlexNet'\n",
    "\n",
    "    is_fc = [('FC' in alexnet_layer_names[ll] or 'fc' in alexnet_layer_names[ll]) for ll in layer_inds]\n",
    "    \n",
    "    if len(layer_inds)==0:\n",
    "        raise ValueError('your layer names do not match any of those specified in alexnet_features.py')\n",
    "\n",
    "    \n",
    "    # first making this subfunction that is needed to get the activation on a forward pass\n",
    "    def get_activ_fwd_hook(ii,ll):\n",
    "        def hook(self, input, output):            \n",
    "            print('hook for %s'%alexnet_layer_names[ll])           \n",
    "            activ[ii] = output\n",
    "            print(output.shape)\n",
    "        return hook\n",
    "   \n",
    "    # get image and labels for this batch\n",
    "    # image_tensors is [batch_size x 3 x 224 x 224]\n",
    "    image_tensors =  torch_utils._to_torch(image_batch, device=device).float()\n",
    "    activ = [[] for ll in layer_inds]\n",
    "    hook = [[] for ll in layer_inds]\n",
    "    \n",
    "    model.eval()\n",
    "\n",
    "    # adding this \"hook\" to the module corresponding to each layer, so we'll save activations at each layer\n",
    "    # this only modifies the \"graph\" e.g. what the model code does when run, but doesn't actually run it yet.\n",
    "    for ii, ll in enumerate(layer_inds):\n",
    "        if not is_fc[ii]:\n",
    "            h = model.features[ll].register_forward_hook(get_activ_fwd_hook(ii,ll))\n",
    "        else:\n",
    "            h = model.classifier[ll-n_feature_layers].register_forward_hook(get_activ_fwd_hook(ii,ll))\n",
    "        hook[ii] = h\n",
    "\n",
    "    # do the forward pass of model, which now includes the forward hooks\n",
    "    # now the \"activ\" variable will get modified, because it gets altered during the hook function\n",
    "    model(image_tensors)\n",
    "    \n",
    "    # Now remove all the hooks\n",
    "    for ii, ll in enumerate(layer_inds):\n",
    "        print(activ[ii].shape)\n",
    "        hook[ii].remove\n",
    "\n",
    "    return activ\n"
   ]
  }
 ],
 "metadata": {
  "kernelspec": {
   "display_name": "Python 3",
   "language": "python",
   "name": "python3"
  },
  "language_info": {
   "codemirror_mode": {
    "name": "ipython",
    "version": 3
   },
   "file_extension": ".py",
   "mimetype": "text/x-python",
   "name": "python",
   "nbconvert_exporter": "python",
   "pygments_lexer": "ipython3",
   "version": "3.7.1"
  }
 },
 "nbformat": 4,
 "nbformat_minor": 5
}
