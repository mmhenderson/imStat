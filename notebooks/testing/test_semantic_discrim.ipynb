{
 "cells": [
  {
   "cell_type": "code",
   "execution_count": 1,
   "id": "b98779a6",
   "metadata": {},
   "outputs": [
    {
     "name": "stdout",
     "output_type": "stream",
     "text": [
      "Initializing coco api...\n",
      "loading annotations into memory...\n",
      "Done (t=0.62s)\n",
      "creating index...\n",
      "index created!\n",
      "loading annotations into memory...\n",
      "Done (t=15.86s)\n",
      "creating index...\n",
      "index created!\n",
      "Initializing coco api...\n",
      "loading annotations into memory...\n",
      "Done (t=0.48s)\n",
      "creating index...\n",
      "index created!\n",
      "loading annotations into memory...\n",
      "Done (t=12.41s)\n",
      "creating index...\n",
      "index created!\n"
     ]
    }
   ],
   "source": [
    "\n",
    "# import basic modules\n",
    "import sys\n",
    "import os\n",
    "import time\n",
    "import numpy as np\n",
    "from tqdm import tqdm\n",
    "import gc\n",
    "import torch\n",
    "import argparse\n",
    "import skimage.transform\n",
    "\n",
    "# import custom modules\n",
    "code_dir = '/user_data/mmhender/imStat/code/'\n",
    "sys.path.append(code_dir)\n",
    "from feature_extraction import texture_statistics_gabor, sketch_token_features, \\\n",
    "                texture_statistics_pyramid, alexnet_features\n",
    "from utils import nsd_utils, roi_utils, default_paths, coco_utils\n",
    "\n",
    "from model_fitting import initialize_fitting, arg_parser, merge_features\n",
    "from model_fitting import fwrf_fit, fwrf_predict, reconstruct\n",
    "\n",
    "fpX = np.float32\n",
    "# device = initialize_fitting.init_cuda()\n",
    "device = 'cpu:0'\n",
    "\n",
    "os.environ[\"HDF5_USE_FILE_LOCKING\"] = \"FALSE\"\n"
   ]
  },
  {
   "cell_type": "code",
   "execution_count": 2,
   "id": "22c6796d",
   "metadata": {},
   "outputs": [],
   "source": [
    "subject = 1\n",
    "volume_space=True\n",
    "up_to_sess = 1\n",
    "single_sess = None\n",
    "ridge = 1\n",
    "gabor_nonlin_fn=False\n",
    "which_prf_grid=5\n"
   ]
  },
  {
   "cell_type": "code",
   "execution_count": 4,
   "id": "22916740",
   "metadata": {},
   "outputs": [],
   "source": [
    "# decide what voxels to use  \n",
    "voxel_mask, voxel_index, voxel_roi, voxel_ncsnr, brain_nii_shape = roi_utils.get_voxel_roi_info(subject, \\\n",
    "                                                        volume_space, include_all=True, include_body=True)\n",
    "\n",
    "if single_sess is not None:\n",
    "    sessions = np.array([single_sess])\n",
    "else:\n",
    "    sessions = np.arange(0,up_to_sess)\n",
    "zscore_betas_within_sess = True\n",
    "image_inds_only = True\n",
    "# get all data and corresponding images, in two splits. always fixed set that gets left out\n",
    "trn_stim_data, trn_voxel_data, val_stim_data, val_voxel_data, \\\n",
    "        image_order, image_order_trn, image_order_val = nsd_utils.get_data_splits(subject, \\\n",
    "                                  sessions=sessions, image_inds_only = image_inds_only, \\\n",
    "                                  voxel_mask=voxel_mask, volume_space=volume_space, \\\n",
    "                                  zscore_betas_within_sess=zscore_betas_within_sess)\n",
    "\n",
    "if image_inds_only==True:\n",
    "    # For this model, the features are pre-computed, so we will just load them rather than passing in images.\n",
    "    # Going to pass the image indices (into 10,000 dim array) instead of images to fitting and val functions, \n",
    "    # which will tell which features to load.\n",
    "    trn_stim_data = image_order_trn\n",
    "    val_stim_data = image_order_val"
   ]
  },
  {
   "cell_type": "code",
   "execution_count": 4,
   "id": "5f973b19",
   "metadata": {},
   "outputs": [
    {
     "name": "stdout",
     "output_type": "stream",
     "text": [
      "number of pRFs: 1456\n",
      "most extreme RF positions:\n",
      "[2.7755576e-17 0.0000000e+00 2.0000000e-02]\n",
      "[ 0.7698996  -0.31890285  1.        ]\n"
     ]
    }
   ],
   "source": [
    "# zscore_features=True\n",
    "# # More params for fitting\n",
    "# holdout_size, lambdas = initialize_fitting.get_fitting_pars(trn_voxel_data, zscore_features, ridge=ridge, gabor_nonlin_fn=gabor_nonlin_fn)\n",
    "# Params for the spatial aspect of the model (possible pRFs)\n",
    "aperture_rf_range = 1.1\n",
    "aperture, models = initialize_fitting.get_prf_models(aperture_rf_range=aperture_rf_range, which_grid=which_prf_grid) "
   ]
  },
  {
   "cell_type": "code",
   "execution_count": null,
   "id": "2543ef46",
   "metadata": {},
   "outputs": [],
   "source": [
    "use_pca_st_feats=0\n",
    "min_pct_var=None\n",
    "max_pc_to_retain=None\n",
    "use_lda_st_feats=0\n",
    "lda_discrim_type=None\n",
    "zscore_in_groups=0\n",
    "_feature_extractor = sketch_token_features.sketch_token_feature_extractor(subject=subject, device=device,\\\n",
    "             which_prf_grid=which_prf_grid, \\\n",
    "             use_pca_feats = use_pca_st_feats, min_pct_var = min_pct_var, max_pc_to_retain = max_pc_to_retain, \\\n",
    "             use_lda_feats = use_lda_st_feats, lda_discrim_type = lda_discrim_type, zscore_in_groups = zscore_in_groups)"
   ]
  },
  {
   "cell_type": "code",
   "execution_count": 5,
   "id": "1f5e0d4e",
   "metadata": {},
   "outputs": [],
   "source": [
    "fn2save = '/user_data/mmhender/imStat/model_fits/S01/sketch_tokens/Nov-11-2021_1659_27/all_fit_params'\n",
    "\n",
    "out = torch.load(fn2save)\n",
    "best_losses = out['best_losses']\n",
    "best_lambdas = out['best_lambdas']\n",
    "best_params = out['best_params']\n",
    "val_cc = out['val_cc']\n",
    "val_r2 = out['val_r2']\n",
    "val_voxel_data_pred = out['val_voxel_data_pred']\n",
    "val_voxel_data = out['val_voxel_data']\n",
    "val_stim_data = out['val_stim_data']"
   ]
  },
  {
   "cell_type": "code",
   "execution_count": null,
   "id": "8b21149d",
   "metadata": {},
   "outputs": [
    {
     "name": "stdout",
     "output_type": "stream",
     "text": [
      "Initializing for fitting\n",
      "Clearing features from memory\n",
      "will z-score each column\n",
      "Clearing features from memory\n",
      "Getting features for prf 0: [x,y,sigma] is [0.00 0.00 0.0200]\n",
      "Loading pre-computed features from /user_data/mmhender/features/sketch_tokens/S1_features_each_prf_grid5.h5py\n"
     ]
    }
   ],
   "source": [
    "sample_batch_size=100\n",
    "voxel_batch_size=100\n",
    "debug=False\n",
    "image_size = None\n",
    "_feature_extractor.init_for_fitting(image_size=image_size, models=models, dtype=fpX)\n",
    "val_cc, val_r2, val_voxel_data_pred, features_each_prf = \\\n",
    "            fwrf_predict.validate_fwrf_model(best_params, models, val_voxel_data, val_stim_data, \\\n",
    "                     _feature_extractor, zscore=zscore_features, sample_batch_size=sample_batch_size, \\\n",
    "                                         voxel_batch_size=voxel_batch_size, debug=debug, dtype=fpX)\n",
    "                  "
   ]
  },
  {
   "cell_type": "code",
   "execution_count": 6,
   "id": "04293873",
   "metadata": {},
   "outputs": [
    {
     "name": "stdout",
     "output_type": "stream",
     "text": [
      "loading labels from folders at /user_data/mmhender/nsd_stimuli/labels/ and /user_data/mmhender/nsd_stimuli/labels/S1_within_prf_grid5 (will be slow...)\n"
     ]
    }
   ],
   "source": [
    "labels_all = coco_utils.load_labels_each_prf(subject, which_prf_grid, \\\n",
    "                                                 image_inds=val_stim_data, models=models,verbose=False)\n",
    "# discrim_each_axis = fwrf_predict.get_semantic_discrim(best_params, labels_all, \\\n",
    "#                                           val_voxel_data_pred, debug=debug)\n"
   ]
  },
  {
   "cell_type": "code",
   "execution_count": 8,
   "id": "241d2d34",
   "metadata": {},
   "outputs": [],
   "source": [
    "best_models, weights, bias, features_mt, features_st, best_model_inds = best_params\n",
    "n_voxels = val_voxel_data_pred.shape[1]\n",
    "\n",
    "n_sem_axes = labels_all.shape[1]\n",
    "discrim_each_axis = np.zeros((n_voxels, n_sem_axes))"
   ]
  },
  {
   "cell_type": "code",
   "execution_count": 104,
   "id": "b740473b",
   "metadata": {},
   "outputs": [],
   "source": [
    "# vv = np.argmax(val_cc)\n",
    "discrim_type_list = ['indoor_outdoor','animacy','person','food','vehicle','animal']\n",
    "aa = 5\n",
    "vv = np.argmax(out['discrim_each_axis'][:,aa])\n",
    "# vv = np.argmax(out['discrim_each_axis'][:,aa])\n",
    "resp_pred = val_voxel_data_pred[:,vv,0]\n",
    "resp_raw = val_voxel_data[:,vv]"
   ]
  },
  {
   "cell_type": "code",
   "execution_count": 105,
   "id": "0992abf0",
   "metadata": {},
   "outputs": [
    {
     "data": {
      "text/plain": [
       "array([[1.        , 0.04475119],\n",
       "       [0.04475119, 1.        ]])"
      ]
     },
     "execution_count": 105,
     "metadata": {},
     "output_type": "execute_result"
    }
   ],
   "source": [
    "np.corrcoef(val_voxel_data[:,vv], val_voxel_data_pred[:,vv,0])"
   ]
  },
  {
   "cell_type": "code",
   "execution_count": 106,
   "id": "5a4e88bf",
   "metadata": {},
   "outputs": [
    {
     "data": {
      "text/plain": [
       "0.04475119"
      ]
     },
     "execution_count": 106,
     "metadata": {},
     "output_type": "execute_result"
    }
   ],
   "source": [
    "out['val_cc'][vv,0]"
   ]
  },
  {
   "cell_type": "code",
   "execution_count": 107,
   "id": "c4d5d44b",
   "metadata": {},
   "outputs": [
    {
     "name": "stdout",
     "output_type": "stream",
     "text": [
      "[1481, 10]\n"
     ]
    }
   ],
   "source": [
    "# aa=0\n",
    "labels = labels_all[:,aa,best_model_inds[vv,0]]\n",
    "inds2use = ~np.isnan(labels)\n",
    "inds1 = (labels==0) & inds2use\n",
    "inds2 = (labels==1) & inds2use\n",
    "\n",
    "print([np.sum(inds1), np.sum(inds2)])"
   ]
  },
  {
   "cell_type": "code",
   "execution_count": 108,
   "id": "ca8d5f4c",
   "metadata": {},
   "outputs": [
    {
     "data": {
      "text/plain": [
       "1.8989944"
      ]
     },
     "execution_count": 108,
     "metadata": {},
     "output_type": "execute_result"
    }
   ],
   "source": [
    "(np.mean(resp_pred[inds1]) - np.mean(resp_pred[inds2]))/ \\\n",
    "                                                    np.std(resp_pred[inds2use]) "
   ]
  },
  {
   "cell_type": "code",
   "execution_count": 109,
   "id": "9dfbfe39",
   "metadata": {},
   "outputs": [],
   "source": [
    "sd1 = np.std(resp_pred[inds1])\n",
    "sd2 = np.std(resp_pred[inds2])\n",
    "n1 = np.sum(inds1)\n",
    "n2 = np.sum(inds2)\n",
    "pooled_sd = np.sqrt(((n1-1)*sd1**2 + (n2-1)*sd2**2)/(n1+n2-2))"
   ]
  },
  {
   "cell_type": "code",
   "execution_count": 110,
   "id": "273cd47a",
   "metadata": {},
   "outputs": [
    {
     "data": {
      "text/plain": [
       "1.9229551177996542"
      ]
     },
     "execution_count": 110,
     "metadata": {},
     "output_type": "execute_result"
    }
   ],
   "source": [
    "(np.mean(resp_pred[inds1]) - np.mean(resp_pred[inds2]))/pooled_sd"
   ]
  },
  {
   "cell_type": "code",
   "execution_count": 111,
   "id": "63d045ef",
   "metadata": {},
   "outputs": [],
   "source": [
    "sd1 = np.std(resp_raw[inds1])\n",
    "sd2 = np.std(resp_raw[inds2])\n",
    "n1 = np.sum(inds1)\n",
    "n2 = np.sum(inds2)\n",
    "pooled_sd = np.sqrt(((n1-1)*sd1**2 + (n2-1)*sd2**2)/(n1+n2-2))"
   ]
  },
  {
   "cell_type": "code",
   "execution_count": 112,
   "id": "5adb802a",
   "metadata": {},
   "outputs": [
    {
     "data": {
      "text/plain": [
       "1.0038143109352924"
      ]
     },
     "execution_count": 112,
     "metadata": {},
     "output_type": "execute_result"
    }
   ],
   "source": [
    "pooled_sd"
   ]
  },
  {
   "cell_type": "code",
   "execution_count": 113,
   "id": "cda2d97b",
   "metadata": {},
   "outputs": [
    {
     "data": {
      "text/plain": [
       "1.0040582631256023"
      ]
     },
     "execution_count": 113,
     "metadata": {},
     "output_type": "execute_result"
    }
   ],
   "source": [
    "np.std(resp_raw[inds2use])"
   ]
  },
  {
   "cell_type": "code",
   "execution_count": 114,
   "id": "905f83f0",
   "metadata": {},
   "outputs": [
    {
     "data": {
      "text/plain": [
       "0.3427737163195587"
      ]
     },
     "execution_count": 114,
     "metadata": {},
     "output_type": "execute_result"
    }
   ],
   "source": [
    "(np.mean(resp_raw[inds1]) - np.mean(resp_raw[inds2]))/pooled_sd"
   ]
  },
  {
   "cell_type": "code",
   "execution_count": 70,
   "id": "60264859",
   "metadata": {},
   "outputs": [
    {
     "name": "stdout",
     "output_type": "stream",
     "text": [
      "[0.07810927, 0.09639264]\n"
     ]
    }
   ],
   "source": [
    "print([np.std(resp_pred[inds1]), np.std(resp_pred[inds2])])"
   ]
  },
  {
   "cell_type": "code",
   "execution_count": 117,
   "id": "20447ac9",
   "metadata": {},
   "outputs": [
    {
     "name": "stdout",
     "output_type": "stream",
     "text": [
      "[-4.619557e-05, -0.087824784, 0.046223722]\n"
     ]
    }
   ],
   "source": [
    "print([np.mean(resp_pred[inds1]), np.mean(resp_pred[inds2]), np.std(resp_pred[inds2use])])"
   ]
  },
  {
   "cell_type": "code",
   "execution_count": 116,
   "id": "34f1b096",
   "metadata": {},
   "outputs": [
    {
     "name": "stdout",
     "output_type": "stream",
     "text": [
      "[0.010675885466117334, -0.33340527638792994, 1.0040582631256023]\n"
     ]
    }
   ],
   "source": [
    "print([np.mean(resp_raw[inds1]), np.mean(resp_raw[inds2]), np.std(resp_raw[inds2use])])"
   ]
  },
  {
   "cell_type": "code",
   "execution_count": 115,
   "id": "4fdf9d06",
   "metadata": {},
   "outputs": [
    {
     "data": {
      "text/plain": [
       "0.3426904339026435"
      ]
     },
     "execution_count": 115,
     "metadata": {},
     "output_type": "execute_result"
    }
   ],
   "source": [
    "(np.mean(resp_raw[inds1]) - np.mean(resp_raw[inds2]))/ \\\n",
    "                                                    np.std(resp_raw[inds2use]) "
   ]
  },
  {
   "cell_type": "code",
   "execution_count": 118,
   "id": "21d45656",
   "metadata": {},
   "outputs": [
    {
     "data": {
      "text/plain": [
       "Text(0, 0.5, 'prediction of sketch tokens fit')"
      ]
     },
     "execution_count": 118,
     "metadata": {},
     "output_type": "execute_result"
    },
    {
     "data": {
      "image/png": "[encoded data removed]",
      "text/plain": [
       "<Figure size 432x288 with 1 Axes>"
      ]
     },
     "metadata": {
      "needs_background": "light"
     },
     "output_type": "display_data"
    }
   ],
   "source": [
    "import matplotlib.pyplot as plt\n",
    "plt.figure();\n",
    "plt.plot(resp_raw[inds1], resp_pred[inds1],'.')\n",
    "plt.plot(resp_raw[inds2], resp_pred[inds2],'.')\n",
    "plt.axis('square')\n",
    "plt.xlim([-3.5, 3.5])\n",
    "plt.ylim([-3.5, 3.5])\n",
    "plt.xlabel('raw activ')\n",
    "plt.ylabel('prediction of sketch tokens fit')"
   ]
  },
  {
   "cell_type": "code",
   "execution_count": 120,
   "id": "5930bfd4",
   "metadata": {},
   "outputs": [
    {
     "data": {
      "image/png": "[encoded data removed]",
      "text/plain": [
       "<Figure size 432x288 with 1 Axes>"
      ]
     },
     "metadata": {
      "needs_background": "light"
     },
     "output_type": "display_data"
    }
   ],
   "source": [
    "plt.figure();\n",
    "plt.hist(resp_pred[inds1]);\n",
    "plt.hist(resp_pred[inds2]);"
   ]
  },
  {
   "cell_type": "code",
   "execution_count": 102,
   "id": "a107340c",
   "metadata": {},
   "outputs": [
    {
     "data": {
      "text/plain": [
       "-0.2348313182592392"
      ]
     },
     "execution_count": 102,
     "metadata": {},
     "output_type": "execute_result"
    }
   ],
   "source": [
    "out['discrim_each_axis'][vv,aa]"
   ]
  },
  {
   "cell_type": "code",
   "execution_count": 123,
   "id": "a8d2c6c3",
   "metadata": {},
   "outputs": [
    {
     "data": {
      "text/html": [
       "<div>\n",
       "<style scoped>\n",
       "    .dataframe tbody tr th:only-of-type {\n",
       "        vertical-align: middle;\n",
       "    }\n",
       "\n",
       "    .dataframe tbody tr th {\n",
       "        vertical-align: top;\n",
       "    }\n",
       "\n",
       "    .dataframe thead th {\n",
       "        text-align: right;\n",
       "    }\n",
       "</style>\n",
       "<table border=\"1\" class=\"dataframe\">\n",
       "  <thead>\n",
       "    <tr style=\"text-align: right;\">\n",
       "      <th></th>\n",
       "      <th>nsdId</th>\n",
       "      <th>cvatId</th>\n",
       "      <th>cocoId</th>\n",
       "      <th>cocoSplit</th>\n",
       "      <th>food_object_card_ratio</th>\n",
       "      <th>food_space_ratio_cmp_objects</th>\n",
       "      <th>food_space_ratio_cmp_image</th>\n",
       "      <th>food_centrality</th>\n",
       "      <th>food_relevance_caption</th>\n",
       "      <th>indoor</th>\n",
       "      <th>...</th>\n",
       "      <th>animal-face</th>\n",
       "      <th>animal-body</th>\n",
       "      <th>food</th>\n",
       "      <th>drink</th>\n",
       "      <th>food-related</th>\n",
       "      <th>faux-food</th>\n",
       "      <th>zoom</th>\n",
       "      <th>reach</th>\n",
       "      <th>large-scale-scene</th>\n",
       "      <th>object</th>\n",
       "    </tr>\n",
       "  </thead>\n",
       "  <tbody>\n",
       "    <tr>\n",
       "      <th>0</th>\n",
       "      <td>23993</td>\n",
       "      <td>300</td>\n",
       "      <td>65400</td>\n",
       "      <td>train2017</td>\n",
       "      <td>0.870968</td>\n",
       "      <td>0.413685</td>\n",
       "      <td>0.031989</td>\n",
       "      <td>1</td>\n",
       "      <td>0</td>\n",
       "      <td>0</td>\n",
       "      <td>...</td>\n",
       "      <td>0</td>\n",
       "      <td>1</td>\n",
       "      <td>1</td>\n",
       "      <td>0</td>\n",
       "      <td>1</td>\n",
       "      <td>0</td>\n",
       "      <td>0</td>\n",
       "      <td>0</td>\n",
       "      <td>0</td>\n",
       "      <td>0</td>\n",
       "    </tr>\n",
       "    <tr>\n",
       "      <th>1</th>\n",
       "      <td>23883</td>\n",
       "      <td>299</td>\n",
       "      <td>327191</td>\n",
       "      <td>train2017</td>\n",
       "      <td>0.000000</td>\n",
       "      <td>0.000000</td>\n",
       "      <td>0.000000</td>\n",
       "      <td>0</td>\n",
       "      <td>0</td>\n",
       "      <td>1</td>\n",
       "      <td>...</td>\n",
       "      <td>0</td>\n",
       "      <td>0</td>\n",
       "      <td>0</td>\n",
       "      <td>0</td>\n",
       "      <td>0</td>\n",
       "      <td>0</td>\n",
       "      <td>0</td>\n",
       "      <td>0</td>\n",
       "      <td>1</td>\n",
       "      <td>1</td>\n",
       "    </tr>\n",
       "    <tr>\n",
       "      <th>2</th>\n",
       "      <td>23876</td>\n",
       "      <td>298</td>\n",
       "      <td>65029</td>\n",
       "      <td>train2017</td>\n",
       "      <td>0.090909</td>\n",
       "      <td>0.043605</td>\n",
       "      <td>0.004750</td>\n",
       "      <td>0</td>\n",
       "      <td>0</td>\n",
       "      <td>1</td>\n",
       "      <td>...</td>\n",
       "      <td>0</td>\n",
       "      <td>0</td>\n",
       "      <td>0</td>\n",
       "      <td>0</td>\n",
       "      <td>0</td>\n",
       "      <td>0</td>\n",
       "      <td>0</td>\n",
       "      <td>0</td>\n",
       "      <td>1</td>\n",
       "      <td>1</td>\n",
       "    </tr>\n",
       "    <tr>\n",
       "      <th>3</th>\n",
       "      <td>23871</td>\n",
       "      <td>297</td>\n",
       "      <td>65012</td>\n",
       "      <td>train2017</td>\n",
       "      <td>0.000000</td>\n",
       "      <td>0.000000</td>\n",
       "      <td>0.000000</td>\n",
       "      <td>0</td>\n",
       "      <td>0</td>\n",
       "      <td>0</td>\n",
       "      <td>...</td>\n",
       "      <td>0</td>\n",
       "      <td>0</td>\n",
       "      <td>0</td>\n",
       "      <td>0</td>\n",
       "      <td>0</td>\n",
       "      <td>0</td>\n",
       "      <td>1</td>\n",
       "      <td>0</td>\n",
       "      <td>0</td>\n",
       "      <td>1</td>\n",
       "    </tr>\n",
       "    <tr>\n",
       "      <th>4</th>\n",
       "      <td>23729</td>\n",
       "      <td>296</td>\n",
       "      <td>64534</td>\n",
       "      <td>train2017</td>\n",
       "      <td>0.000000</td>\n",
       "      <td>0.000000</td>\n",
       "      <td>0.000000</td>\n",
       "      <td>0</td>\n",
       "      <td>0</td>\n",
       "      <td>0</td>\n",
       "      <td>...</td>\n",
       "      <td>0</td>\n",
       "      <td>0</td>\n",
       "      <td>0</td>\n",
       "      <td>0</td>\n",
       "      <td>0</td>\n",
       "      <td>0</td>\n",
       "      <td>1</td>\n",
       "      <td>0</td>\n",
       "      <td>0</td>\n",
       "      <td>1</td>\n",
       "    </tr>\n",
       "    <tr>\n",
       "      <th>...</th>\n",
       "      <td>...</td>\n",
       "      <td>...</td>\n",
       "      <td>...</td>\n",
       "      <td>...</td>\n",
       "      <td>...</td>\n",
       "      <td>...</td>\n",
       "      <td>...</td>\n",
       "      <td>...</td>\n",
       "      <td>...</td>\n",
       "      <td>...</td>\n",
       "      <td>...</td>\n",
       "      <td>...</td>\n",
       "      <td>...</td>\n",
       "      <td>...</td>\n",
       "      <td>...</td>\n",
       "      <td>...</td>\n",
       "      <td>...</td>\n",
       "      <td>...</td>\n",
       "      <td>...</td>\n",
       "      <td>...</td>\n",
       "      <td>...</td>\n",
       "    </tr>\n",
       "    <tr>\n",
       "      <th>995</th>\n",
       "      <td>44412</td>\n",
       "      <td>605</td>\n",
       "      <td>406595</td>\n",
       "      <td>train2017</td>\n",
       "      <td>0.000000</td>\n",
       "      <td>0.000000</td>\n",
       "      <td>0.000000</td>\n",
       "      <td>0</td>\n",
       "      <td>0</td>\n",
       "      <td>0</td>\n",
       "      <td>...</td>\n",
       "      <td>0</td>\n",
       "      <td>0</td>\n",
       "      <td>0</td>\n",
       "      <td>0</td>\n",
       "      <td>0</td>\n",
       "      <td>0</td>\n",
       "      <td>0</td>\n",
       "      <td>0</td>\n",
       "      <td>1</td>\n",
       "      <td>1</td>\n",
       "    </tr>\n",
       "    <tr>\n",
       "      <th>996</th>\n",
       "      <td>44369</td>\n",
       "      <td>604</td>\n",
       "      <td>406445</td>\n",
       "      <td>train2017</td>\n",
       "      <td>0.000000</td>\n",
       "      <td>0.000000</td>\n",
       "      <td>0.000000</td>\n",
       "      <td>0</td>\n",
       "      <td>0</td>\n",
       "      <td>0</td>\n",
       "      <td>...</td>\n",
       "      <td>0</td>\n",
       "      <td>0</td>\n",
       "      <td>0</td>\n",
       "      <td>0</td>\n",
       "      <td>0</td>\n",
       "      <td>0</td>\n",
       "      <td>0</td>\n",
       "      <td>0</td>\n",
       "      <td>1</td>\n",
       "      <td>0</td>\n",
       "    </tr>\n",
       "    <tr>\n",
       "      <th>997</th>\n",
       "      <td>44339</td>\n",
       "      <td>603</td>\n",
       "      <td>144193</td>\n",
       "      <td>train2017</td>\n",
       "      <td>0.000000</td>\n",
       "      <td>0.000000</td>\n",
       "      <td>0.000000</td>\n",
       "      <td>0</td>\n",
       "      <td>0</td>\n",
       "      <td>0</td>\n",
       "      <td>...</td>\n",
       "      <td>1</td>\n",
       "      <td>1</td>\n",
       "      <td>0</td>\n",
       "      <td>0</td>\n",
       "      <td>0</td>\n",
       "      <td>0</td>\n",
       "      <td>0</td>\n",
       "      <td>0</td>\n",
       "      <td>1</td>\n",
       "      <td>0</td>\n",
       "    </tr>\n",
       "    <tr>\n",
       "      <th>998</th>\n",
       "      <td>44324</td>\n",
       "      <td>602</td>\n",
       "      <td>406292</td>\n",
       "      <td>train2017</td>\n",
       "      <td>0.000000</td>\n",
       "      <td>0.000000</td>\n",
       "      <td>0.000000</td>\n",
       "      <td>0</td>\n",
       "      <td>0</td>\n",
       "      <td>0</td>\n",
       "      <td>...</td>\n",
       "      <td>0</td>\n",
       "      <td>1</td>\n",
       "      <td>0</td>\n",
       "      <td>0</td>\n",
       "      <td>0</td>\n",
       "      <td>0</td>\n",
       "      <td>0</td>\n",
       "      <td>0</td>\n",
       "      <td>1</td>\n",
       "      <td>0</td>\n",
       "    </tr>\n",
       "    <tr>\n",
       "      <th>999</th>\n",
       "      <td>44184</td>\n",
       "      <td>601</td>\n",
       "      <td>143594</td>\n",
       "      <td>train2017</td>\n",
       "      <td>0.000000</td>\n",
       "      <td>0.000000</td>\n",
       "      <td>0.000000</td>\n",
       "      <td>0</td>\n",
       "      <td>0</td>\n",
       "      <td>0</td>\n",
       "      <td>...</td>\n",
       "      <td>0</td>\n",
       "      <td>1</td>\n",
       "      <td>0</td>\n",
       "      <td>0</td>\n",
       "      <td>0</td>\n",
       "      <td>0</td>\n",
       "      <td>0</td>\n",
       "      <td>0</td>\n",
       "      <td>1</td>\n",
       "      <td>1</td>\n",
       "    </tr>\n",
       "  </tbody>\n",
       "</table>\n",
       "<p>1000 rows × 25 columns</p>\n",
       "</div>"
      ],
      "text/plain": [
       "     nsdId  cvatId  cocoId  cocoSplit  food_object_card_ratio  \\\n",
       "0    23993     300   65400  train2017                0.870968   \n",
       "1    23883     299  327191  train2017                0.000000   \n",
       "2    23876     298   65029  train2017                0.090909   \n",
       "3    23871     297   65012  train2017                0.000000   \n",
       "4    23729     296   64534  train2017                0.000000   \n",
       "..     ...     ...     ...        ...                     ...   \n",
       "995  44412     605  406595  train2017                0.000000   \n",
       "996  44369     604  406445  train2017                0.000000   \n",
       "997  44339     603  144193  train2017                0.000000   \n",
       "998  44324     602  406292  train2017                0.000000   \n",
       "999  44184     601  143594  train2017                0.000000   \n",
       "\n",
       "     food_space_ratio_cmp_objects  food_space_ratio_cmp_image  \\\n",
       "0                        0.413685                    0.031989   \n",
       "1                        0.000000                    0.000000   \n",
       "2                        0.043605                    0.004750   \n",
       "3                        0.000000                    0.000000   \n",
       "4                        0.000000                    0.000000   \n",
       "..                            ...                         ...   \n",
       "995                      0.000000                    0.000000   \n",
       "996                      0.000000                    0.000000   \n",
       "997                      0.000000                    0.000000   \n",
       "998                      0.000000                    0.000000   \n",
       "999                      0.000000                    0.000000   \n",
       "\n",
       "     food_centrality  food_relevance_caption  indoor  ...  animal-face  \\\n",
       "0                  1                       0       0  ...            0   \n",
       "1                  0                       0       1  ...            0   \n",
       "2                  0                       0       1  ...            0   \n",
       "3                  0                       0       0  ...            0   \n",
       "4                  0                       0       0  ...            0   \n",
       "..               ...                     ...     ...  ...          ...   \n",
       "995                0                       0       0  ...            0   \n",
       "996                0                       0       0  ...            0   \n",
       "997                0                       0       0  ...            1   \n",
       "998                0                       0       0  ...            0   \n",
       "999                0                       0       0  ...            0   \n",
       "\n",
       "     animal-body  food  drink  food-related  faux-food  zoom  reach  \\\n",
       "0              1     1      0             1          0     0      0   \n",
       "1              0     0      0             0          0     0      0   \n",
       "2              0     0      0             0          0     0      0   \n",
       "3              0     0      0             0          0     1      0   \n",
       "4              0     0      0             0          0     1      0   \n",
       "..           ...   ...    ...           ...        ...   ...    ...   \n",
       "995            0     0      0             0          0     0      0   \n",
       "996            0     0      0             0          0     0      0   \n",
       "997            1     0      0             0          0     0      0   \n",
       "998            1     0      0             0          0     0      0   \n",
       "999            1     0      0             0          0     0      0   \n",
       "\n",
       "     large-scale-scene  object  \n",
       "0                    0       0  \n",
       "1                    1       1  \n",
       "2                    1       1  \n",
       "3                    0       1  \n",
       "4                    0       1  \n",
       "..                 ...     ...  \n",
       "995                  1       1  \n",
       "996                  1       0  \n",
       "997                  1       0  \n",
       "998                  1       0  \n",
       "999                  1       1  \n",
       "\n",
       "[1000 rows x 25 columns]"
      ]
     },
     "execution_count": 123,
     "metadata": {},
     "output_type": "execute_result"
    }
   ],
   "source": [
    "import pandas as pd\n",
    "labels = pd.read_csv(os.path.join(default_paths.stim_labels_root,'shared_1000_all_labels_matrix.csv'))\n",
    "labels"
   ]
  }
 ],
 "metadata": {
  "kernelspec": {
   "display_name": "Python 3",
   "language": "python",
   "name": "python3"
  },
  "language_info": {
   "codemirror_mode": {
    "name": "ipython",
    "version": 3
   },
   "file_extension": ".py",
   "mimetype": "text/x-python",
   "name": "python",
   "nbconvert_exporter": "python",
   "pygments_lexer": "ipython3",
   "version": "3.7.1"
  }
 },
 "nbformat": 4,
 "nbformat_minor": 5
}
