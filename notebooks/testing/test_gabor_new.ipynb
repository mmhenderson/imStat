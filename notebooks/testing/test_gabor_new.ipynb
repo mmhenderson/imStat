{
 "cells": [
  {
   "cell_type": "code",
   "execution_count": 16,
   "id": "43c32d52",
   "metadata": {},
   "outputs": [],
   "source": [
    "# import basic modules\n",
    "import sys\n",
    "import os\n",
    "import time\n",
    "import numpy as np\n",
    "from tqdm import tqdm\n",
    "import gc\n",
    "import torch\n",
    "import argparse\n",
    "import skimage.transform\n",
    "\n",
    "# import custom modules\n",
    "root_dir   = '/user_data/mmhender/imStat/'\n",
    "sys.path.append(os.path.join(root_dir,'code'))\n",
    "from model_src import fwrf_fit as fwrf_fit\n",
    "from model_src import fwrf_predict as fwrf_predict\n",
    "from model_src import texture_statistics_gabor, texture_statistics_pyramid, bdcn_features\n",
    "from utils import nsd_utils, roi_utils\n",
    "\n",
    "bdcn_path = '/user_data/mmhender/toolboxes/BDCN/'\n",
    "\n",
    "from model_fitting import initialize_fitting2 as initialize_fitting\n",
    "from model_fitting import merge_features, arg_parser\n",
    "\n",
    "fpX = np.float32\n",
    "device = 'cpu:0'\n",
    "# device = initialize_fitting.init_cuda()\n",
    "\n",
    "# fitting_type='gabor_solo'\n",
    "fitting_type = 'texture_gabor'\n",
    "# fitting_type='pyramid'\n",
    "subject=1\n",
    "volume_space = False\n",
    "up_to_sess = 1\n",
    "n_ori = 4\n",
    "n_sf = 4\n",
    "nonlin_fn = False\n",
    "padding_mode = 'circular'\n",
    "group_all_hl_feats = False; \\\n",
    "sample_batch_size = 50; voxel_batch_size = 100; \\\n",
    "zscore_features = True; ridge = True; \\\n",
    "shuffle_images = False; random_images = False; random_voxel_data = False; \\\n",
    "do_fitting = True; do_val = True; do_varpart = True; date_str = None;\n",
    "shuff_rnd_seed = 0; debug = True; \\\n",
    "do_pca = False; min_pct_var = 99; max_pc_to_retain = 400; map_ind = -1; \\\n",
    "n_prf_sd_out = 2; mult_patch_by_prf = True; \\\n",
    "downsample_factor = 1.0; do_nms = False"
   ]
  },
  {
   "cell_type": "code",
   "execution_count": 17,
   "id": "4b8a31a6",
   "metadata": {},
   "outputs": [],
   "source": [
    "if 'pyramid' in fitting_type:\n",
    "    model_name, feature_types_exclude = initialize_fitting.get_pyramid_model_name(ridge, n_ori, n_sf)\n",
    "\n",
    "    if 'plus_bdcn' in fitting_type:\n",
    "        model_name2 = initialize_fitting.get_bdcn_model_name(do_pca, map_ind)\n",
    "        model_name = model_name + '_plus_' + model_name2\n",
    "\n",
    "elif 'bdcn' in fitting_type:\n",
    "    model_name = initialize_fitting.get_bdcn_model_name(do_pca, map_ind)\n",
    "\n",
    "elif 'texture_gabor' in fitting_type:\n",
    "\n",
    "    model_name = initialize_fitting.get_gabor_texture_model_name(ridge, n_ori, n_sf)\n",
    "    feature_types_exclude = []\n",
    "\n",
    "elif 'gabor_solo' in fitting_type:\n",
    "\n",
    "    model_name = initialize_fitting.get_gabor_solo_model_name(ridge, n_ori, n_sf)\n",
    "    feature_types_exclude = ['pixel', 'simple_feature_means', 'autocorrs', 'crosscorrs']\n",
    "else:     \n",
    "    raise ValueError('your string for fitting_type was not recognized')"
   ]
  },
  {
   "cell_type": "code",
   "execution_count": 3,
   "id": "6f348717",
   "metadata": {},
   "outputs": [
    {
     "name": "stdout",
     "output_type": "stream",
     "text": [
      "\n",
      "Surface space: ROI defs are located at: /lab_data/tarrlab/common/datasets/NSD/nsddata/freesurfer/subj01/label\n",
      "\n",
      "18511 voxels of overlap between kastner and prf definitions, using prf defs\n",
      "unique values in retino labels:\n",
      "[ 0.  1.  2.  3.  4.  5.  6.  7.  8.  9. 10. 11. 12. 13. 14. 15. 16. 17.\n",
      " 18. 19. 20. 21. 22. 23. 24. 25.]\n",
      "0 voxels of overlap between face and place definitions, using place defs\n",
      "unique values in categ labels:\n",
      "[ 0. 26. 27. 28. 30. 31. 32. 33.]\n",
      "7047 voxels are defined (differently) in both retinotopic areas and category areas\n",
      "\n",
      "66545 voxels are defined across all areas, and will be used for analysis\n",
      "\n",
      "Loading numerical label/name mappings for all ROIs:\n",
      "[1, 2, 3, 4, 5, 6, 7]\n",
      "['V1v', 'V1d', 'V2v', 'V2d', 'V3v', 'V3d', 'hV4']\n",
      "[1, 2, 3, 4, 5, 6, 7, 8, 9, 10, 11, 12, 13, 14, 15, 16, 17, 18, 19, 20, 21, 22, 23, 24, 25]\n",
      "['V1v', 'V1d', 'V2v', 'V2d', 'V3v', 'V3d', 'hV4', 'VO1', 'VO2', 'PHC1', 'PHC2', 'TO2', 'TO1', 'LO2', 'LO1', 'V3B', 'V3A', 'IPS0', 'IPS1', 'IPS2', 'IPS3', 'IPS4', 'IPS5', 'SPL1', 'FEF']\n",
      "[1, 2, 3, 4, 5]\n",
      "['OFA', 'FFA-1', 'FFA-2', 'mTL-faces', 'aTL-faces']\n",
      "[1, 2, 3]\n",
      "['OPA', 'PPA', 'RSC']\n",
      "\n",
      "Sizes of all defined ROIs in this subject:\n",
      "Region V1 has 11524 voxels. Includes subregions:\n",
      "['V1v', 'V1d']\n",
      "Region V2 has 10270 voxels. Includes subregions:\n",
      "['V2v', 'V2d']\n",
      "Region V3 has 7304 voxels. Includes subregions:\n",
      "['V3v', 'V3d']\n",
      "Region hV4 has 2897 voxels. Includes subregions:\n",
      "['hV4']\n",
      "Region VO1-2 has 2162 voxels. Includes subregions:\n",
      "['VO1', 'VO2']\n",
      "Region PHC1-2 has 1662 voxels. Includes subregions:\n",
      "['PHC1', 'PHC2']\n",
      "Region LO1-2 has 2384 voxels. Includes subregions:\n",
      "['LO2', 'LO1']\n",
      "Region TO1-2 has 1426 voxels. Includes subregions:\n",
      "['TO2', 'TO1']\n",
      "Region V3ab has 4150 voxels. Includes subregions:\n",
      "['V3B', 'V3A']\n",
      "Region IPS0-5 has 9728 voxels. Includes subregions:\n",
      "['IPS0', 'IPS1', 'IPS2', 'IPS3', 'IPS4', 'IPS5']\n",
      "Region SPL1 has 688 voxels. Includes subregions:\n",
      "['SPL1']\n",
      "Region FEF has 421 voxels. Includes subregions:\n",
      "['FEF']\n",
      "\n",
      "\n",
      "Region OFA has 1326 voxels.\n",
      "Region FFA-1 has 1550 voxels.\n",
      "Region FFA-2 has 1416 voxels.\n",
      "Region mTL-faces has 0 voxels.\n",
      "Region aTL-faces has 781 voxels.\n",
      "Region OPA has 7315 voxels.\n",
      "Region PPA has 3913 voxels.\n",
      "Region RSC has 2675 voxels.\n",
      "\n",
      "Loading images for subject 1\n",
      "\n",
      "image data size: (10000, 3, 227, 227) , dtype: uint8 , value range: 0 255\n",
      "Loading data for sessions:\n",
      "[1]\n",
      "Data is located in: /lab_data/tarrlab/common/datasets/NSD/nsddata_betas/ppdata/subj01/nativesurface/betas_fithrf_GLMdenoise_RR...\n",
      "Loading from /lab_data/tarrlab/common/datasets/NSD/nsddata_betas/ppdata/subj01/nativesurface/betas_fithrf_GLMdenoise_RR/lh.betas_session01.hdf5...\n",
      "Raw data:\n",
      "int16 -21132 24066 (750, 227021)\n",
      "Loading from /lab_data/tarrlab/common/datasets/NSD/nsddata_betas/ppdata/subj01/nativesurface/betas_fithrf_GLMdenoise_RR/rh.betas_session01.hdf5...\n",
      "Raw data:\n",
      "int16 -24188 23889 (750, 226601)\n",
      "Adjusted data (divided by 300):\n",
      "float32 -80.62666 80.22 (750, 453622)\n",
      "z-scoring beta weights within this session...\n",
      "mean = 1.399, sigma = 1.240\n",
      "\n",
      "Size of full data set [nTrials x nVoxels] is:\n",
      "(750, 66545)\n"
     ]
    }
   ],
   "source": [
    "# decide what voxels to use  \n",
    "voxel_mask, voxel_index, voxel_roi, voxel_ncsnr, brain_nii_shape = roi_utils.get_voxel_roi_info(subject, volume_space)\n",
    "\n",
    "sessions = np.arange(0,up_to_sess)\n",
    "zscore_betas_within_sess = True\n",
    "# get all data and corresponding images, in two splits. always fixed set that gets left out\n",
    "trn_stim_data, trn_voxel_data, val_stim_data, val_voxel_data, image_order = nsd_utils.get_data_splits(subject, sessions=sessions, \\\n",
    "                                                                     voxel_mask=voxel_mask, volume_space=volume_space, \\\n",
    "                                                                      zscore_betas_within_sess=zscore_betas_within_sess, \\\n",
    "                                                                      shuffle_images=shuffle_images, random_images=random_images, \\\n",
    "                                                                                         random_voxel_data=random_voxel_data)\n"
   ]
  },
  {
   "cell_type": "code",
   "execution_count": 4,
   "id": "78f18b15",
   "metadata": {},
   "outputs": [
    {
     "name": "stdout",
     "output_type": "stream",
     "text": [
      "\n",
      "Possible lambda values are:\n",
      "[1.0000000e+00 4.2169652e+00 1.7782795e+01 7.4989418e+01 3.1622775e+02\n",
      " 1.3335215e+03 5.6234131e+03 2.3713736e+04 1.0000000e+05]\n",
      "most extreme RF positions:\n",
      "[-0.55 -0.55  0.04]\n",
      "[0.55       0.55       0.40000001]\n"
     ]
    }
   ],
   "source": [
    "\n",
    "if 'pyramid' in fitting_type:\n",
    "    # Need a multiple of 8\n",
    "    process_at_size=240\n",
    "    trn_stim_data = skimage.transform.resize(trn_stim_data, output_shape=(trn_stim_data.shape[0],1,process_at_size, process_at_size))\n",
    "    val_stim_data = skimage.transform.resize(val_stim_data, output_shape=(val_stim_data.shape[0],1,process_at_size, process_at_size))\n",
    "\n",
    "# More params for fitting\n",
    "holdout_size, lambdas = initialize_fitting.get_fitting_pars(trn_voxel_data, zscore_features, ridge=ridge)\n",
    "# Params for the spatial aspect of the model (possible pRFs)\n",
    "aperture_rf_range = 1.1\n",
    "aperture, models = initialize_fitting.get_prf_models(aperture_rf_range=aperture_rf_range)    \n"
   ]
  },
  {
   "cell_type": "code",
   "execution_count": 41,
   "id": "8177c36c",
   "metadata": {},
   "outputs": [
    {
     "data": {
      "text/plain": [
       "device(type='cpu')"
      ]
     },
     "execution_count": 41,
     "metadata": {},
     "output_type": "execute_result"
    }
   ],
   "source": [
    "_gabor_ext_complex.real_filters_tnsr.device"
   ]
  },
  {
   "cell_type": "code",
   "execution_count": 18,
   "id": "d40b758a",
   "metadata": {},
   "outputs": [],
   "source": [
    "# Set up the Gabor filtering modules\n",
    "_gabor_ext_complex, _gabor_ext_simple, _fmaps_fn_complex, _fmaps_fn_simple = \\\n",
    "        initialize_fitting.get_gabor_feature_map_fn(n_ori, n_sf, padding_mode=padding_mode, device=device, \\\n",
    "                                                             nonlin_fn=nonlin_fn);    \n",
    "# Initialize the \"texture\" model which builds on first level feature maps\n",
    "autocorr_output_pix=5\n",
    "_feature_extractor = texture_statistics_gabor.texture_feature_extractor(_fmaps_fn_complex, _fmaps_fn_simple, \\\n",
    "                                        sample_batch_size=sample_batch_size, autocorr_output_pix=autocorr_output_pix, \\\n",
    "                                        n_prf_sd_out=n_prf_sd_out, aperture=aperture, \\\n",
    "                                        feature_types_exclude=feature_types_exclude, do_varpart=do_varpart, \\\n",
    "                                        group_all_hl_feats=group_all_hl_feats, device=device)      \n",
    "feature_info = [_feature_extractor.feature_column_labels, _feature_extractor.feature_types_include]\n"
   ]
  },
  {
   "cell_type": "code",
   "execution_count": 50,
   "id": "4ca5f7b9",
   "metadata": {},
   "outputs": [
    {
     "data": {
      "text/plain": [
       "[array([1, 1, 1, 1, 1, 1, 1, 1, 1, 1, 1, 1, 1, 1, 1, 1]),\n",
       " ['complex_feature_means']]"
      ]
     },
     "execution_count": 50,
     "metadata": {},
     "output_type": "execute_result"
    }
   ],
   "source": [
    "feature_info"
   ]
  },
  {
   "cell_type": "code",
   "execution_count": 30,
   "id": "a6c5dc9f",
   "metadata": {},
   "outputs": [
    {
     "name": "stdout",
     "output_type": "stream",
     "text": [
      "[]\n"
     ]
    }
   ],
   "source": [
    "\n",
    "# Set up the pyramid\n",
    "_fmaps_fn = texture_statistics_pyramid.steerable_pyramid_extractor(pyr_height = n_sf, n_ori = n_ori)\n",
    "# Initialize the \"texture\" model which builds on first level feature maps\n",
    "_feature_extractor2 = texture_statistics_pyramid.texture_feature_extractor(_fmaps_fn,sample_batch_size=sample_batch_size, feature_types_exclude=feature_types_exclude, n_prf_sd_out=n_prf_sd_out, aperture=aperture, do_varpart = do_varpart, \\\n",
    "                          group_all_hl_feats = group_all_hl_feats, device=device)\n",
    "\n",
    "_feature_extractor = combined_feature_extractor([_feature_extractor, _feature_extractor2], \\\n",
    "                                                                       ['texture_gabor','texture_pyramid'], do_varpart = do_varpart)\n"
   ]
  },
  {
   "cell_type": "code",
   "execution_count": 9,
   "id": "3e498fa0",
   "metadata": {},
   "outputs": [],
   "source": [
    "# # add an intercept\n",
    "# add_bias=True\n",
    "# # determines whether to shuffle before separating the nested heldout data for lambda and param selection. \n",
    "# # always using true.\n",
    "# shuffle=True \n",
    "# best_losses, best_lambdas, best_params = fwrf_fit.fit_fwrf_model(trn_stim_data, trn_voxel_data, _feature_extractor, models, \\\n",
    "#                                                lambdas, zscore=zscore_features, add_bias=add_bias, \\\n",
    "#                                                voxel_batch_size=voxel_batch_size, holdout_size=holdout_size, \\\n",
    "#                                                shuffle=shuffle, shuff_rnd_seed=shuff_rnd_seed, device=device, \\\n",
    "#                                                                                debug=debug)\n"
   ]
  },
  {
   "cell_type": "code",
   "execution_count": 9,
   "id": "7e3a8eaa",
   "metadata": {},
   "outputs": [
    {
     "data": {
      "text/plain": [
       "['complex_feature_means']"
      ]
     },
     "execution_count": 9,
     "metadata": {},
     "output_type": "execute_result"
    }
   ],
   "source": [
    "_feature_extractor.feature_types_include"
   ]
  },
  {
   "cell_type": "code",
   "execution_count": 19,
   "id": "a3b86ca4",
   "metadata": {},
   "outputs": [],
   "source": [
    "_feature_extractor.init_for_fitting((224,224))\n",
    "partial_masks, partial_version_names = _feature_extractor.get_partial_versions()\n",
    "         "
   ]
  },
  {
   "cell_type": "code",
   "execution_count": 14,
   "id": "e10a9897",
   "metadata": {},
   "outputs": [
    {
     "data": {
      "text/plain": [
       "[combined_feature_extractor(),\n",
       " texture_feature_extractor(\n",
       "   (fmaps_fn): steerable_pyramid_extractor()\n",
       " )]"
      ]
     },
     "execution_count": 14,
     "metadata": {},
     "output_type": "execute_result"
    }
   ],
   "source": [
    "_feature_extractor.modules"
   ]
  },
  {
   "cell_type": "code",
   "execution_count": 12,
   "id": "4f3af07c",
   "metadata": {},
   "outputs": [
    {
     "data": {
      "text/plain": [
       "1"
      ]
     },
     "execution_count": 12,
     "metadata": {},
     "output_type": "execute_result"
    }
   ],
   "source": [
    "len(_feature_extractor.feature_group_names)"
   ]
  },
  {
   "cell_type": "code",
   "execution_count": 54,
   "id": "8924719d",
   "metadata": {},
   "outputs": [
    {
     "data": {
      "text/plain": [
       "['complex_feature_means']"
      ]
     },
     "execution_count": 54,
     "metadata": {},
     "output_type": "execute_result"
    }
   ],
   "source": [
    "_feature_extractor.feature_types_include"
   ]
  },
  {
   "cell_type": "code",
   "execution_count": 56,
   "id": "00047ebe",
   "metadata": {},
   "outputs": [],
   "source": [
    "_feature_extractor.feature_types_exclude = []"
   ]
  },
  {
   "cell_type": "code",
   "execution_count": 57,
   "id": "3168314e",
   "metadata": {},
   "outputs": [
    {
     "data": {
      "text/plain": [
       "0"
      ]
     },
     "execution_count": 57,
     "metadata": {},
     "output_type": "execute_result"
    }
   ],
   "source": [
    "len(_feature_extractor.feature_types_exclude )"
   ]
  },
  {
   "cell_type": "code",
   "execution_count": 20,
   "id": "b9ad65f1",
   "metadata": {},
   "outputs": [
    {
     "data": {
      "text/plain": [
       "['full_model',\n",
       " 'just_pixel_stats',\n",
       " 'just_complex_feature_means',\n",
       " 'just_simple_feature_means',\n",
       " 'just_complex_feature_autocorrs',\n",
       " 'just_simple_feature_autocorrs',\n",
       " 'just_complex_within_scale_crosscorrs',\n",
       " 'just_simple_within_scale_crosscorrs',\n",
       " 'just_complex_across_scale_crosscorrs',\n",
       " 'just_simple_across_scale_crosscorrs',\n",
       " 'leave_out_pixel_stats',\n",
       " 'leave_out_complex_feature_means',\n",
       " 'leave_out_simple_feature_means',\n",
       " 'leave_out_complex_feature_autocorrs',\n",
       " 'leave_out_simple_feature_autocorrs',\n",
       " 'leave_out_complex_within_scale_crosscorrs',\n",
       " 'leave_out_simple_within_scale_crosscorrs',\n",
       " 'leave_out_complex_across_scale_crosscorrs',\n",
       " 'leave_out_simple_across_scale_crosscorrs']"
      ]
     },
     "execution_count": 20,
     "metadata": {},
     "output_type": "execute_result"
    }
   ],
   "source": [
    "partial_version_names"
   ]
  },
  {
   "cell_type": "code",
   "execution_count": 14,
   "id": "0a49adf6",
   "metadata": {},
   "outputs": [
    {
     "name": "stdout",
     "output_type": "stream",
     "text": [
      "Clear maps fn\n",
      "Getting features for prf 0: [x,y,sigma] is [-0.55 -0.55 0.0400]\n",
      "Computing complex cell features...\n",
      "time elapsed = 3.73150\n",
      "SKIPPING HIGHER-ORDER CORRELATIONS...\n",
      "time elapsed = 0.00016\n",
      "Final size of features concatenated is [62 x 16]\n",
      "Feature types included are:\n",
      "['complex_feature_means']\n",
      "Getting features for prf 1: [x,y,sigma] is [-0.49 -0.55 0.0400]\n",
      "Computing complex cell features...\n",
      "time elapsed = 3.48273\n",
      "SKIPPING HIGHER-ORDER CORRELATIONS...\n",
      "time elapsed = 0.00010\n",
      "Final size of features concatenated is [62 x 16]\n",
      "Feature types included are:\n",
      "['complex_feature_means']\n",
      "Clear maps fn\n",
      "Getting predictions for voxels [0-99] of 66545\n",
      "\n",
      "Evaluating version 0 of 2: full_model\n",
      "Includes 16 features\n",
      "number of zeros:\n",
      "0\n",
      "size of weights is:\n",
      "torch.Size([100, 16])\n",
      "\n",
      "Evaluating version 1 of 2: just_complex_feature_means\n",
      "Includes 16 features\n",
      "number of zeros:\n",
      "0\n",
      "size of weights is:\n",
      "torch.Size([100, 16])\n",
      "Getting predictions for voxels [100-199] of 66545\n",
      "\n",
      "Evaluating version 0 of 2: full_model\n",
      "Includes 16 features\n",
      "number of zeros:\n",
      "0\n",
      "size of weights is:\n",
      "torch.Size([100, 16])\n",
      "\n",
      "Evaluating version 1 of 2: just_complex_feature_means\n",
      "Includes 16 features\n",
      "number of zeros:\n",
      "0\n",
      "size of weights is:\n",
      "torch.Size([100, 16])\n",
      "Getting predictions for voxels [200-299] of 66545\n"
     ]
    }
   ],
   "source": [
    "val_cc, val_r2 = fwrf_predict.validate_fwrf_model(best_params, models, val_voxel_data, val_stim_data, _feature_extractor, \\\n",
    "                                   sample_batch_size=sample_batch_size, voxel_batch_size=voxel_batch_size, debug=debug, dtype=fpX)\n",
    "           "
   ]
  },
  {
   "cell_type": "code",
   "execution_count": 19,
   "id": "8e0ec1ca",
   "metadata": {},
   "outputs": [
    {
     "data": {
      "text/plain": [
       "array([-0.04290649, -0.04575768, -0.06381177, ...,  0.        ,\n",
       "        0.        ,  0.        ], dtype=float32)"
      ]
     },
     "execution_count": 19,
     "metadata": {},
     "output_type": "execute_result"
    }
   ],
   "source": [
    "val_r2[:,1]"
   ]
  },
  {
   "cell_type": "code",
   "execution_count": 11,
   "id": "b3cfd4b5",
   "metadata": {},
   "outputs": [
    {
     "data": {
      "text/plain": [
       "False"
      ]
     },
     "execution_count": 11,
     "metadata": {},
     "output_type": "execute_result"
    }
   ],
   "source": [
    "'pixel' in _feature_extractor.feature_types_include"
   ]
  }
 ],
 "metadata": {
  "kernelspec": {
   "display_name": "Python 3",
   "language": "python",
   "name": "python3"
  },
  "language_info": {
   "codemirror_mode": {
    "name": "ipython",
    "version": 3
   },
   "file_extension": ".py",
   "mimetype": "text/x-python",
   "name": "python",
   "nbconvert_exporter": "python",
   "pygments_lexer": "ipython3",
   "version": "3.7.1"
  }
 },
 "nbformat": 4,
 "nbformat_minor": 5
}
