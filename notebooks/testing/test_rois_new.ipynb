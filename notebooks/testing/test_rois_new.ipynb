{
 "cells": [
  {
   "cell_type": "code",
   "execution_count": 1,
   "id": "5fe45ad3",
   "metadata": {},
   "outputs": [
    {
     "name": "stdout",
     "output_type": "stream",
     "text": [
      "\n",
      "Volume space: ROI defs are located at: /lab_data/tarrlab/common/datasets/NSD/nsddata/ppdata/subj01/func1pt8mm/roi\n",
      "\n",
      "3794 voxels of overlap between kastner and prf definitions, using prf defs\n",
      "unique values in retino labels:\n",
      "[-1.  0.  1.  2.  3.  4.  5.  6.  7.  8.  9. 10. 11. 12. 13. 14. 15. 16.\n",
      " 17. 18. 19. 20. 21. 22. 23. 24. 25.]\n",
      "0 voxels of overlap between face and place definitions, using place defs\n",
      "unique values in categ labels:\n",
      "[-1.  0. 26. 27. 28. 30. 31. 32. 33.]\n",
      "1535 voxels are defined (differently) in both retinotopic areas and category areas\n",
      "\n",
      "14913 voxels are defined across all areas, and will be used for analysis\n",
      "\n",
      "Loading numerical label/name mappings for all ROIs:\n",
      "[1, 2, 3, 4, 5, 6, 7]\n",
      "['V1v', 'V1d', 'V2v', 'V2d', 'V3v', 'V3d', 'hV4']\n",
      "[1, 2, 3, 4, 5, 6, 7, 8, 9, 10, 11, 12, 13, 14, 15, 16, 17, 18, 19, 20, 21, 22, 23, 24, 25]\n",
      "['V1v', 'V1d', 'V2v', 'V2d', 'V3v', 'V3d', 'hV4', 'VO1', 'VO2', 'PHC1', 'PHC2', 'TO2', 'TO1', 'LO2', 'LO1', 'V3B', 'V3A', 'IPS0', 'IPS1', 'IPS2', 'IPS3', 'IPS4', 'IPS5', 'SPL1', 'FEF']\n",
      "[1, 2, 3, 4, 5]\n",
      "['OFA', 'FFA-1', 'FFA-2', 'mTL-faces', 'aTL-faces']\n",
      "[1, 2, 3]\n",
      "['OPA', 'PPA', 'RSC']\n",
      "\n",
      "Sizes of all defined ROIs in this subject:\n",
      "Region V1 has 2392 voxels. Includes subregions:\n",
      "['V1v', 'V1d']\n",
      "Region V2 has 2096 voxels. Includes subregions:\n",
      "['V2v', 'V2d']\n",
      "Region V3 has 1674 voxels. Includes subregions:\n",
      "['V3v', 'V3d']\n",
      "Region hV4 has 721 voxels. Includes subregions:\n",
      "['hV4']\n",
      "Region VO1-2 has 482 voxels. Includes subregions:\n",
      "['VO1', 'VO2']\n",
      "Region PHC1-2 has 382 voxels. Includes subregions:\n",
      "['PHC1', 'PHC2']\n",
      "Region LO1-2 has 488 voxels. Includes subregions:\n",
      "['LO2', 'LO1']\n",
      "Region TO1-2 has 339 voxels. Includes subregions:\n",
      "['TO2', 'TO1']\n",
      "Region V3ab has 965 voxels. Includes subregions:\n",
      "['V3B', 'V3A']\n",
      "Region IPS0-5 has 2155 voxels. Includes subregions:\n",
      "['IPS0', 'IPS1', 'IPS2', 'IPS3', 'IPS4', 'IPS5']\n",
      "Region SPL1 has 164 voxels. Includes subregions:\n",
      "['SPL1']\n",
      "Region FEF has 72 voxels. Includes subregions:\n",
      "['FEF']\n",
      "\n",
      "\n",
      "Region OFA has 355 voxels.\n",
      "Region FFA-1 has 484 voxels.\n",
      "Region FFA-2 has 310 voxels.\n",
      "Region mTL-faces has 0 voxels.\n",
      "Region aTL-faces has 159 voxels.\n",
      "Region OPA has 1611 voxels.\n",
      "Region PPA has 1033 voxels.\n",
      "Region RSC has 566 voxels.\n"
     ]
    }
   ],
   "source": [
    "import sys, os\n",
    "sys.path.append('/user_data/mmhender/imStat/code/')\n",
    "from utils import roi_utils, nsd_utils\n",
    "subject = 1\n",
    "volume_space = True\n",
    "voxel_mask, voxel_index, voxel_roi, voxel_ncsnr, brain_nii_shape = roi_utils.get_voxel_roi_info(subject, volume_space)"
   ]
  },
  {
   "cell_type": "code",
   "execution_count": 8,
   "id": "03820686",
   "metadata": {},
   "outputs": [
    {
     "name": "stdout",
     "output_type": "stream",
     "text": [
      "/lab_data/tarrlab/common/datasets/NSD/nsddata/freesurfer/subj01/label/Kastner2015.mgz.ctab\n"
     ]
    },
    {
     "data": {
      "text/plain": [
       "array([['1 V1v\\t    '],\n",
       "       ['2 V1d\\t   '],\n",
       "       ['3 V2v\\t   '],\n",
       "       ['4 V2d\\t   '],\n",
       "       ['5 V3v\\t    '],\n",
       "       ['6 V3d\\t    '],\n",
       "       ['7 hV4\\t  '],\n",
       "       ['8 VO1\\t    '],\n",
       "       ['9 VO2\\t    '],\n",
       "       ['10 PHC1\\t    '],\n",
       "       ['11 PHC2\\t    '],\n",
       "       ['12 TO2\\t    '],\n",
       "       ['13 TO1\\t   '],\n",
       "       ['14 LO2\\t    '],\n",
       "       ['15 LO1\\t   '],\n",
       "       ['16 V3B\\t    '],\n",
       "       ['17 V3A\\t  '],\n",
       "       ['18 IPS0\\t   '],\n",
       "       ['19 IPS1\\t    '],\n",
       "       ['20 IPS2\\t    '],\n",
       "       ['21 IPS3\\t  '],\n",
       "       ['22 IPS4\\t  '],\n",
       "       ['23 IPS5\\t  '],\n",
       "       ['24 SPL1\\t '],\n",
       "       ['25 FEF\\t']], dtype=object)"
      ]
     },
     "execution_count": 8,
     "metadata": {},
     "output_type": "execute_result"
    }
   ],
   "source": [
    "import numpy as np\n",
    "import pandas as pd\n",
    "nsd_root = '/lab_data/tarrlab/common/datasets/NSD'\n",
    "subject=1\n",
    "filename_ret = os.path.join(nsd_root,'nsddata','freesurfer','subj%02d'%subject, 'label', 'Kastner2015.mgz.ctab')\n",
    "print(filename_ret)\n",
    "names = np.array(pd.read_csv(filename_ret))\n",
    "\n",
    "names"
   ]
  },
  {
   "cell_type": "code",
   "execution_count": 6,
   "id": "ab01a55d",
   "metadata": {},
   "outputs": [
    {
     "name": "stdout",
     "output_type": "stream",
     "text": [
      "/lab_data/tarrlab/common/datasets/NSD/nsddata/freesurfer/subj01/label/Kastner2015.mgz.ctab\n",
      "[1, 2, 3, 4, 5, 6, 7, 8, 9, 10, 11, 12, 13, 14, 15, 16, 17, 18, 19, 20, 21, 22, 23, 24, 25]\n",
      "['V1v', 'V1d', 'V2v', 'V2d', 'V3v', 'V3d', 'hV4', 'VO1', 'VO2', 'PHC1', 'PHC2', 'TO2', 'TO1', 'LO2', 'LO1', 'V3B', 'V3A', 'IPS0', 'IPS1', 'IPS2', 'IPS3', 'IPS4', 'IPS5', 'SPL1', 'FEF']\n"
     ]
    }
   ],
   "source": [
    "names = [str(name) for name in names]\n",
    "ret_num_labels = [int(name[2:np.char.find(name,' ')]) for name in names]\n",
    "ret_text_labels=[]\n",
    "for name in names:\n",
    "    if np.char.find(name,'\\\\')>-1:\n",
    "        ret_text_labels.append(name[np.char.find(name,' ')+1:np.char.find(name,'\\\\')])\n",
    "    else:\n",
    "        ret_text_labels.append(name[np.char.find(name,' ')+1:np.char.find(name,\"'\",2)])\n",
    "\n",
    "print(ret_num_labels)\n",
    "print(ret_text_labels)"
   ]
  },
  {
   "cell_type": "raw",
   "id": "268ab13f",
   "metadata": {},
   "source": []
  },
  {
   "cell_type": "code",
   "execution_count": 9,
   "id": "a3099c2c",
   "metadata": {},
   "outputs": [],
   "source": [
    "import torch\n",
    "out =torch.load('/user_data/mmhender/imStat/model_fits/S01_surface/texture_pyramid_ridge_4ori_4sf/Aug-31-2021_1818_12_DEBUG/all_fit_params')"
   ]
  },
  {
   "cell_type": "code",
   "execution_count": 19,
   "id": "2149f58c",
   "metadata": {},
   "outputs": [
    {
     "data": {
      "text/plain": [
       "dict_keys(['aperture', 'aperture_rf_range', 'models', 'feature_info', 'voxel_mask', 'brain_nii_shape', 'image_order', 'voxel_index', 'voxel_roi', 'voxel_ncsnr', 'best_params', 'lambdas', 'best_lambdas', 'best_losses', 'val_cc', 'val_r2', 'zscore_features', 'nonlin_fn', 'n_prf_sd_out', 'debug', 'up_to_sess', 'shuff_rnd_seed'])"
      ]
     },
     "execution_count": 19,
     "metadata": {},
     "output_type": "execute_result"
    }
   ],
   "source": [
    "out.keys()"
   ]
  },
  {
   "cell_type": "code",
   "execution_count": 25,
   "id": "f011d193",
   "metadata": {},
   "outputs": [
    {
     "data": {
      "text/plain": [
       "(66545,)"
      ]
     },
     "execution_count": 25,
     "metadata": {},
     "output_type": "execute_result"
    }
   ],
   "source": [
    "import numpy as np\n",
    "out['voxel_index'][0].shape"
   ]
  },
  {
   "cell_type": "code",
   "execution_count": 26,
   "id": "3c638802",
   "metadata": {},
   "outputs": [
    {
     "data": {
      "text/plain": [
       "(66545, 641, 15)"
      ]
     },
     "execution_count": 26,
     "metadata": {},
     "output_type": "execute_result"
    }
   ],
   "source": [
    "out['best_params'][1].shape"
   ]
  },
  {
   "cell_type": "code",
   "execution_count": 7,
   "id": "84f3bba0",
   "metadata": {},
   "outputs": [
    {
     "name": "stdout",
     "output_type": "stream",
     "text": [
      "\n",
      "Loading images for subject 1\n",
      "\n",
      "image data size: (10000, 3, 227, 227) , dtype: uint8 , value range: 0 255\n",
      "Loading data for sessions:\n",
      "[1]\n",
      "Data is located in: /lab_data/tarrlab/common/datasets/NSD/nsddata_betas/ppdata/subj01/func1pt8mm/betas_fithrf_GLMdenoise_RR...\n",
      "Loading from /lab_data/tarrlab/common/datasets/NSD/nsddata_betas/ppdata/subj01/func1pt8mm/betas_fithrf_GLMdenoise_RR/betas_session01.nii.gz...\n",
      "Raw data:\n",
      "float64 -32768.0 32767.0 (750, 81, 104, 83)\n",
      "Adjusted data (divided by 300):\n",
      "float32 -109.22667 109.223335 (750, 699192)\n",
      "z-scoring beta weights within this session...\n",
      "mean = 1.237, sigma = 1.391\n",
      "\n",
      "Size of full data set [nTrials x nVoxels] is:\n",
      "(750, 14913)\n"
     ]
    }
   ],
   "source": [
    "shuffle_images=False;\n",
    "random_images=False;\n",
    "random_voxel_data=False;\n",
    "zscore_betas_within_sess = True\n",
    "sessions =[0]\n",
    "trn_stim_data, trn_voxel_data, val_stim_data, val_voxel_data = nsd_utils.get_data_splits(subject, sessions=sessions, voxel_mask=voxel_mask, volume_space=volume_space, \\\n",
    "                                                                              zscore_betas_within_sess=zscore_betas_within_sess, \\\n",
    "                                                                              shuffle_images=shuffle_images, random_images=random_images, random_voxel_data=random_voxel_data)\n"
   ]
  },
  {
   "cell_type": "code",
   "execution_count": 8,
   "id": "921e8402",
   "metadata": {},
   "outputs": [
    {
     "name": "stdout",
     "output_type": "stream",
     "text": [
      "[0.6295412  0.08017726 0.5671694  0.7215106  0.09887294 0.6920259\n",
      " 0.66238123 0.15907294 0.18663843 0.        ]\n",
      "[-1.17288005  0.78245544 -0.50469917 -1.41891551 -0.11104225 -0.95274293\n",
      " -1.22985661 -1.69861913 -0.52541792 -0.20168695]\n",
      "[0.19799608 0.18083689 0.5912581  0.7458314  0.48001334 0.14401256\n",
      " 0.7458314  0.29760784 0.6879035  0.7250235 ]\n",
      "[-0.13953055 -0.01262802  2.31305575  0.0055009  -0.39333573 -0.48139057\n",
      "  0.55972856  0.33959126 -0.06183509 -0.61606264]\n"
     ]
    }
   ],
   "source": [
    "print(trn_stim_data[0:10,0,100,100])\n",
    "print(trn_voxel_data[0:10,100])\n",
    "\n",
    "print(val_stim_data[0:10,0,100,100])\n",
    "print(val_voxel_data[0:10,100])"
   ]
  }
 ],
 "metadata": {
  "kernelspec": {
   "display_name": "Python 3",
   "language": "python",
   "name": "python3"
  },
  "language_info": {
   "codemirror_mode": {
    "name": "ipython",
    "version": 3
   },
   "file_extension": ".py",
   "mimetype": "text/x-python",
   "name": "python",
   "nbconvert_exporter": "python",
   "pygments_lexer": "ipython3",
   "version": "3.7.1"
  }
 },
 "nbformat": 4,
 "nbformat_minor": 5
}
