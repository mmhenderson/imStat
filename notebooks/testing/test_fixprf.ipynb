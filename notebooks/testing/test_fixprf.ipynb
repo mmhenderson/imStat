{
 "cells": [
  {
   "cell_type": "code",
   "execution_count": 1,
   "id": "1a8d4874",
   "metadata": {},
   "outputs": [
    {
     "name": "stdout",
     "output_type": "stream",
     "text": [
      "#device: 1\n",
      "device#: 0\n",
      "device name: GeForce RTX 2080 Ti\n",
      "\n",
      "torch: 1.8.1+cu111\n",
      "cuda:  11.1\n",
      "cudnn: 8005\n",
      "dtype: torch.float32\n"
     ]
    }
   ],
   "source": [
    "# import basic modules\n",
    "import sys\n",
    "import os\n",
    "import time\n",
    "import numpy as np\n",
    "from tqdm import tqdm\n",
    "import gc\n",
    "import torch\n",
    "import argparse\n",
    "import skimage.transform\n",
    "\n",
    "# import custom modules\n",
    "root_dir   = '/user_data/mmhender/imStat'\n",
    "sys.path.append(os.path.join(root_dir,'code'))\n",
    "from model_src import fwrf_fit as fwrf_fit\n",
    "from model_src import fwrf_fit_old\n",
    "from model_src import fwrf_predict as fwrf_predict\n",
    "from model_src import fwrf_predict_old\n",
    "from model_src import texture_statistics_gabor, texture_statistics_pyramid, bdcn_features\n",
    "from model_src import texture_statistics_pyramid_old, bdcn_features_old\n",
    "from utils import nsd_utils, roi_utils\n",
    "\n",
    "bdcn_path = '/user_data/mmhender/toolboxes/BDCN/'\n",
    "\n",
    "from model_fitting import initialize_fitting, merge_features\n",
    "\n",
    "fpX = np.float32\n",
    "device = initialize_fitting.init_cuda()"
   ]
  },
  {
   "cell_type": "code",
   "execution_count": 24,
   "id": "68012868",
   "metadata": {},
   "outputs": [],
   "source": [
    "fitting_type='bdcn'\n",
    "# fitting_type='pyramid'\n",
    "subject=1\n",
    "volume_space = False\n",
    "up_to_sess = 1\n",
    "n_ori = 4\n",
    "n_sf = 4\n",
    "nonlin_fn = False\n",
    "padding_mode = 'circular'\n",
    "include_simple = True;include_complex = True; \\\n",
    "include_autocorrs = True; include_crosscorrs = True; group_all_hl_feats = False; \\\n",
    "sample_batch_size = 50; voxel_batch_size = 100; \\\n",
    "zscore_features = True; ridge = True; \\\n",
    "shuffle_images = False; random_images = False; random_voxel_data = False; \\\n",
    "do_fitting = True; do_val = True; do_varpart = True; date_str = None;\n",
    "shuff_rnd_seed = 0; debug = True; \\\n",
    "do_pca = False; min_pct_var = 99; max_pc_to_retain = 400; map_ind = -1; \\\n",
    "n_prf_sd_out = 2; mult_patch_by_prf = True; \\\n",
    "downsample_factor = 1.0; do_nms = False"
   ]
  },
  {
   "cell_type": "code",
   "execution_count": null,
   "id": "85baba3d",
   "metadata": {},
   "outputs": [],
   "source": []
  },
  {
   "cell_type": "code",
   "execution_count": 25,
   "id": "5f619d32",
   "metadata": {},
   "outputs": [
    {
     "name": "stdout",
     "output_type": "stream",
     "text": [
      "Time Stamp: Sep-07-2021_2351_32\n",
      "\n",
      "Will save final output file to /user_data/mmhender/model_fits/S01_surface/bdcn_fused/Sep-07-2021_2351_32_DEBUG/\n",
      "\n",
      "\n",
      "Surface space: ROI defs are located at: /lab_data/tarrlab/common/datasets/NSD/nsddata/freesurfer/subj01/label\n",
      "\n",
      "18511 voxels of overlap between kastner and prf definitions, using prf defs\n",
      "unique values in retino labels:\n",
      "[ 0.  1.  2.  3.  4.  5.  6.  7.  8.  9. 10. 11. 12. 13. 14. 15. 16. 17.\n",
      " 18. 19. 20. 21. 22. 23. 24. 25.]\n",
      "0 voxels of overlap between face and place definitions, using place defs\n",
      "unique values in categ labels:\n",
      "[ 0. 26. 27. 28. 30. 31. 32. 33.]\n",
      "7047 voxels are defined (differently) in both retinotopic areas and category areas\n",
      "\n",
      "66545 voxels are defined across all areas, and will be used for analysis\n",
      "\n",
      "Loading numerical label/name mappings for all ROIs:\n",
      "[1, 2, 3, 4, 5, 6, 7]\n",
      "['V1v', 'V1d', 'V2v', 'V2d', 'V3v', 'V3d', 'hV4']\n",
      "[1, 2, 3, 4, 5, 6, 7, 8, 9, 10, 11, 12, 13, 14, 15, 16, 17, 18, 19, 20, 21, 22, 23, 24, 25]\n",
      "['V1v', 'V1d', 'V2v', 'V2d', 'V3v', 'V3d', 'hV4', 'VO1', 'VO2', 'PHC1', 'PHC2', 'TO2', 'TO1', 'LO2', 'LO1', 'V3B', 'V3A', 'IPS0', 'IPS1', 'IPS2', 'IPS3', 'IPS4', 'IPS5', 'SPL1', 'FEF']\n",
      "[1, 2, 3, 4, 5]\n",
      "['OFA', 'FFA-1', 'FFA-2', 'mTL-faces', 'aTL-faces']\n",
      "[1, 2, 3]\n",
      "['OPA', 'PPA', 'RSC']\n",
      "\n",
      "Sizes of all defined ROIs in this subject:\n",
      "Region V1 has 11524 voxels. Includes subregions:\n",
      "['V1v', 'V1d']\n",
      "Region V2 has 10270 voxels. Includes subregions:\n",
      "['V2v', 'V2d']\n",
      "Region V3 has 7304 voxels. Includes subregions:\n",
      "['V3v', 'V3d']\n",
      "Region hV4 has 2897 voxels. Includes subregions:\n",
      "['hV4']\n",
      "Region VO1-2 has 2162 voxels. Includes subregions:\n",
      "['VO1', 'VO2']\n",
      "Region PHC1-2 has 1662 voxels. Includes subregions:\n",
      "['PHC1', 'PHC2']\n",
      "Region LO1-2 has 2384 voxels. Includes subregions:\n",
      "['LO2', 'LO1']\n",
      "Region TO1-2 has 1426 voxels. Includes subregions:\n",
      "['TO2', 'TO1']\n",
      "Region V3ab has 4150 voxels. Includes subregions:\n",
      "['V3B', 'V3A']\n",
      "Region IPS0-5 has 9728 voxels. Includes subregions:\n",
      "['IPS0', 'IPS1', 'IPS2', 'IPS3', 'IPS4', 'IPS5']\n",
      "Region SPL1 has 688 voxels. Includes subregions:\n",
      "['SPL1']\n",
      "Region FEF has 421 voxels. Includes subregions:\n",
      "['FEF']\n",
      "\n",
      "\n",
      "Region OFA has 1326 voxels.\n",
      "Region FFA-1 has 1550 voxels.\n",
      "Region FFA-2 has 1416 voxels.\n",
      "Region mTL-faces has 0 voxels.\n",
      "Region aTL-faces has 781 voxels.\n",
      "Region OPA has 7315 voxels.\n",
      "Region PPA has 3913 voxels.\n",
      "Region RSC has 2675 voxels.\n",
      "\n",
      "Loading images for subject 1\n",
      "\n",
      "image data size: (10000, 3, 227, 227) , dtype: uint8 , value range: 0 255\n",
      "Loading data for sessions:\n",
      "[1]\n",
      "Data is located in: /lab_data/tarrlab/common/datasets/NSD/nsddata_betas/ppdata/subj01/nativesurface/betas_fithrf_GLMdenoise_RR...\n",
      "Loading from /lab_data/tarrlab/common/datasets/NSD/nsddata_betas/ppdata/subj01/nativesurface/betas_fithrf_GLMdenoise_RR/lh.betas_session01.hdf5...\n",
      "Raw data:\n",
      "int16 -21132 24066 (750, 227021)\n",
      "Loading from /lab_data/tarrlab/common/datasets/NSD/nsddata_betas/ppdata/subj01/nativesurface/betas_fithrf_GLMdenoise_RR/rh.betas_session01.hdf5...\n",
      "Raw data:\n",
      "int16 -24188 23889 (750, 226601)\n",
      "Adjusted data (divided by 300):\n",
      "float32 -80.62666 80.22 (750, 453622)\n",
      "z-scoring beta weights within this session...\n",
      "mean = 1.399, sigma = 1.240\n",
      "\n",
      "Size of full data set [nTrials x nVoxels] is:\n",
      "(750, 66545)\n"
     ]
    }
   ],
   "source": [
    "\n",
    "if 'pyramid' in fitting_type:\n",
    "    model_name, feature_types_exclude = initialize_fitting.get_pyramid_model_name(ridge, n_ori, n_sf)\n",
    "\n",
    "    if 'plus_bdcn' in fitting_type:\n",
    "        model_name2 = initialize_fitting.get_bdcn_model_name(do_pca, map_ind)\n",
    "        model_name = model_name + '_plus_' + model_name2\n",
    "#         save_all = save_fn_pyramid_bdcn\n",
    "#     else:\n",
    "#         save_all = save_fn_pyramid\n",
    "\n",
    "elif 'bdcn' in fitting_type:\n",
    "    model_name = initialize_fitting.get_bdcn_model_name(do_pca, map_ind)\n",
    "#     save_all = save_fn_bdcn\n",
    "\n",
    "elif 'gabor' in fitting_type:\n",
    "    model_name, feature_types_exclude = initialize_fitting.get_model_name(ridge, n_ori, n_sf, include_pixel, include_simple, include_complex, include_autocorrs, include_crosscorrs)\n",
    "#     save_all = save_fn_gabor\n",
    "\n",
    "\n",
    "output_dir, fn2save = initialize_fitting.get_save_path(root_dir, subject, volume_space, model_name, shuffle_images, random_images, random_voxel_data, debug, date_str)\n",
    "\n",
    "# decide what voxels to use  \n",
    "voxel_mask, voxel_index, voxel_roi, voxel_ncsnr, brain_nii_shape = roi_utils.get_voxel_roi_info(subject, volume_space)\n",
    "\n",
    "sessions = np.arange(0,up_to_sess)\n",
    "zscore_betas_within_sess = True\n",
    "# get all data and corresponding images, in two splits. always fixed set that gets left out\n",
    "trn_stim_data, trn_voxel_data, val_stim_data, val_voxel_data, image_order = nsd_utils.get_data_splits(subject, sessions=sessions, \\\n",
    "                                                                     voxel_mask=voxel_mask, volume_space=volume_space, \\\n",
    "                                                                      zscore_betas_within_sess=zscore_betas_within_sess, \\\n",
    "                                                                      shuffle_images=shuffle_images, random_images=random_images, \\\n",
    "                                                                                         random_voxel_data=random_voxel_data)\n",
    "    "
   ]
  },
  {
   "cell_type": "code",
   "execution_count": 4,
   "id": "d2811ddf",
   "metadata": {},
   "outputs": [],
   "source": [
    "if 'pyramid' in fitting_type:\n",
    "    # Need a multiple of 8\n",
    "    process_at_size=240\n",
    "    trn_stim_data = skimage.transform.resize(trn_stim_data, output_shape=(trn_stim_data.shape[0],1,process_at_size, process_at_size))\n",
    "    val_stim_data = skimage.transform.resize(val_stim_data, output_shape=(val_stim_data.shape[0],1,process_at_size, process_at_size))"
   ]
  },
  {
   "cell_type": "code",
   "execution_count": 5,
   "id": "83a40685",
   "metadata": {},
   "outputs": [
    {
     "name": "stdout",
     "output_type": "stream",
     "text": [
      "\n",
      "Possible lambda values are:\n",
      "[1.0000000e+00 4.2169652e+00 1.7782795e+01 7.4989418e+01 3.1622775e+02\n",
      " 1.3335215e+03 5.6234131e+03 2.3713736e+04 1.0000000e+05]\n",
      "most extreme RF positions:\n",
      "[-0.55 -0.55  0.04]\n",
      "[0.55       0.55       0.40000001]\n"
     ]
    }
   ],
   "source": [
    "# More params for fitting\n",
    "holdout_size, lambdas = initialize_fitting.get_fitting_pars(trn_voxel_data, zscore_features, ridge=ridge)\n",
    "# Params for the spatial aspect of the model (possible pRFs)\n",
    "aperture_rf_range = 1.1\n",
    "aperture, models = initialize_fitting.get_prf_models(aperture_rf_range=aperture_rf_range)    \n"
   ]
  },
  {
   "cell_type": "code",
   "execution_count": 6,
   "id": "bb7f1a74",
   "metadata": {},
   "outputs": [
    {
     "name": "stderr",
     "output_type": "stream",
     "text": [
      "/user_data/mmhender/toolboxes/BDCN/bdcn.py:232: UserWarning: nn.init.constant is now deprecated in favor of nn.init.constant_.\n",
      "  nn.init.constant(param, 0.080)\n"
     ]
    }
   ],
   "source": [
    "# Set up the contour feature extractor\n",
    "pretrained_model_file = os.path.join(bdcn_path,'params','bdcn_pretrained_on_bsds500.pth')\n",
    "_feature_extractor = bdcn_features.bdcn_feature_extractor(pretrained_model_file, device, aperture_rf_range, n_prf_sd_out, \\\n",
    "                                           batch_size=10, map_ind=map_ind, mult_patch_by_prf=mult_patch_by_prf,\n",
    "                                        downsample_factor = downsample_factor, do_nms = do_nms, \\\n",
    "                                             do_pca = do_pca, min_pct_var = min_pct_var, max_pc_to_retain = max_pc_to_retain)"
   ]
  },
  {
   "cell_type": "code",
   "execution_count": 7,
   "id": "b113216c",
   "metadata": {},
   "outputs": [],
   "source": [
    "_feature_extractor_old = bdcn_features_old.bdcn_feature_extractor(pretrained_model_file, device, aperture_rf_range, n_prf_sd_out, \\\n",
    "                                           batch_size=10, map_ind=map_ind, mult_patch_by_prf=mult_patch_by_prf,\n",
    "                                        downsample_factor = downsample_factor, do_nms = do_nms, \\\n",
    "                                             )"
   ]
  },
  {
   "cell_type": "code",
   "execution_count": 8,
   "id": "9151bc3a",
   "metadata": {},
   "outputs": [],
   "source": [
    "# add an intercept\n",
    "add_bias=True\n",
    "# determines whether to shuffle before separating the nested heldout data for lambda and param selection. \n",
    "# always using true.\n",
    "shuffle=True "
   ]
  },
  {
   "cell_type": "code",
   "execution_count": 10,
   "id": "65163bbb",
   "metadata": {},
   "outputs": [
    {
     "name": "stdout",
     "output_type": "stream",
     "text": [
      "dtype = <class 'numpy.float32'>\n",
      "device = cuda:0\n",
      "trn_size = 619 (90.0%)\n",
      "Seeding random number generator: seed is 92207\n",
      "Initializing for fitting: finding the size of feature matrix for each candidate prf\n",
      "Clearing BDCN contour features from memory.\n",
      "---------------------------------------\n",
      "\n",
      "\n",
      "Getting features for prf 0: [x,y,sigma] is [-0.55 -0.55 0.0400]\n",
      "Running BDCN contour feature extraction...\n",
      "Images array shape is:\n",
      "(688, 1, 227, 227)\n",
      "Final array shape is:\n",
      "torch.Size([688, 1, 227, 227])\n",
      "time elapsed = 9.38513\n",
      "Getting features for pRF [x,y,sigma]:\n",
      "[-0.55, -0.55, 0.03999999910593033]\n",
      "bbox to crop is:\n",
      "[219, 227, 0, 8]\n",
      "[min max] of first image patch is:\n",
      "[tensor(0.0199, device='cuda:0'), tensor(0.5242, device='cuda:0')]\n",
      "\n",
      "Fitting version 0 of 1: full_model, \n",
      "fitting model    0 of 875 , voxels [ 14900:14912 ] of 14913\n",
      "Getting features for prf 1: [x,y,sigma] is [-0.49 -0.55 0.0400]\n",
      "Getting features for pRF [x,y,sigma]:\n",
      "[-0.49210526315789477, -0.55, 0.03999999910593033]\n",
      "bbox to crop is:\n",
      "[219, 227, 0, 21]\n",
      "[min max] of first image patch is:\n",
      "[tensor(0.0260, device='cuda:0'), tensor(0.3674, device='cuda:0')]\n",
      "\n",
      "Fitting version 0 of 1: full_model, \n",
      "fitting model    1 of 875 , voxels [ 14900:14912 ] of 14913\n",
      "---------------------------------------\n",
      "total time = 44.388439s\n",
      "total throughput = 0.002976s/voxel\n",
      "voxel throughput = 0.002336s/voxel\n",
      "setup throughput = 0.010910s/model\n",
      "Clearing BDCN contour features from memory.\n"
     ]
    }
   ],
   "source": [
    "shuff_rnd_seed = 92207\n",
    "best_losses, best_lambdas, best_params = fwrf_fit.fit_fwrf_model(trn_stim_data, trn_voxel_data, _feature_extractor, models, \\\n",
    "                                               lambdas, zscore=zscore_features, add_bias=add_bias, \\\n",
    "                                               voxel_batch_size=voxel_batch_size, holdout_size=holdout_size, \\\n",
    "                                               shuffle=shuffle, shuff_rnd_seed=shuff_rnd_seed, device=device, \\\n",
    "                                                                               debug=debug)"
   ]
  },
  {
   "cell_type": "code",
   "execution_count": 11,
   "id": "cacdac00",
   "metadata": {},
   "outputs": [
    {
     "name": "stdout",
     "output_type": "stream",
     "text": [
      "trn_size = 619 (90.0%)\n",
      "dtype = <class 'numpy.float32'>\n",
      "device = cuda:0\n",
      "---------------------------------------\n",
      "Seeding random number generator: seed is 92207\n",
      "Clearing BDCN contour features from memory.\n",
      "\n",
      "\n",
      "Getting features for prf 0: [x,y,sigma] is [-0.55 -0.55 0.0400]\n",
      "Running BDCN contour feature extraction...\n",
      "Images array shape is:\n",
      "(688, 1, 227, 227)\n",
      "Final array shape is:\n",
      "torch.Size([688, 1, 227, 227])\n",
      "time elapsed = 8.72670\n",
      "pRF [x,y,sigma]:\n",
      "[-0.55, -0.55, 0.03999999910593033]\n",
      "bbox to crop is:\n",
      "[219, 227, 0, 8]\n",
      "[min max] of first image patch is:\n",
      "[tensor(0.0199, device='cuda:0'), tensor(0.5242, device='cuda:0')]\n",
      "Original dims of training features:\n",
      "(619, 64)\n",
      "fitting model    0 of 875 , voxels [ 14900:14912 ] of 14913\n",
      "Getting features for prf 1: [x,y,sigma] is [-0.49 -0.55 0.0400]\n",
      "pRF [x,y,sigma]:\n",
      "[-0.49210526315789477, -0.55, 0.03999999910593033]\n",
      "bbox to crop is:\n",
      "[219, 227, 0, 21]\n",
      "[min max] of first image patch is:\n",
      "[tensor(0.0260, device='cuda:0'), tensor(0.3674, device='cuda:0')]\n",
      "Original dims of training features:\n",
      "(619, 168)\n",
      "fitting model    1 of 875 , voxels [ 14900:14912 ] of 14913\n",
      "---------------------------------------\n",
      "total time = 13.332337s\n",
      "total throughput = 0.000894s/voxel\n",
      "voxel throughput = 0.000305s/voxel\n",
      "setup throughput = 0.010034s/model\n",
      "clearing maps\n",
      "Clearing BDCN contour features from memory.\n",
      "maps cleared\n",
      "about to return from fitting\n"
     ]
    }
   ],
   "source": [
    "shuff_rnd_seed = 92207\n",
    "best_losses_old, best_lambdas_old, best_params_old, pc = fwrf_fit_old.fit_bdcn_model(trn_stim_data, trn_voxel_data, _feature_extractor_old, models, \\\n",
    "                                               lambdas, zscore=zscore_features, add_bias=add_bias, \\\n",
    "                                               voxel_batch_size=voxel_batch_size, holdout_size=holdout_size, \\\n",
    "                                               shuffle=shuffle, shuff_rnd_seed=shuff_rnd_seed, device=device, \\\n",
    "                                                                                 debug=debug, \\\n",
    "                                            do_pca = do_pca, min_pct_var = min_pct_var, max_pc_to_retain = max_pc_to_retain)\n"
   ]
  },
  {
   "cell_type": "code",
   "execution_count": 12,
   "id": "0fd015e0",
   "metadata": {},
   "outputs": [
    {
     "name": "stdout",
     "output_type": "stream",
     "text": [
      "Clearing BDCN contour features from memory.\n",
      "Getting features for prf 0: [x,y,sigma] is [-0.55 -0.55 0.0400]\n",
      "Running BDCN contour feature extraction...\n",
      "Images array shape is:\n",
      "(62, 1, 227, 227)\n",
      "Final array shape is:\n",
      "torch.Size([62, 1, 227, 227])\n",
      "time elapsed = 0.58118\n",
      "Getting features for pRF [x,y,sigma]:\n",
      "[-0.55, -0.55, 0.03999999910593033]\n",
      "bbox to crop is:\n",
      "[219, 227, 0, 8]\n",
      "[min max] of first image patch is:\n",
      "[tensor(0.0335, device='cuda:0'), tensor(0.3218, device='cuda:0')]\n",
      "Getting features for prf 1: [x,y,sigma] is [-0.49 -0.55 0.0400]\n",
      "Getting features for pRF [x,y,sigma]:\n",
      "[-0.49210526315789477, -0.55, 0.03999999910593033]\n",
      "bbox to crop is:\n",
      "[219, 227, 0, 21]\n",
      "[min max] of first image patch is:\n",
      "[tensor(0.0378, device='cuda:0'), tensor(0.1918, device='cuda:0')]\n",
      "Clearing BDCN contour features from memory.\n",
      "Getting predictions for voxels [0-99] of 14913\n",
      "\n",
      "Evaluating version 0 of 1: full_model\n",
      "Includes 51529 features\n",
      "number of zeros:\n",
      "51465\n",
      "size of weights is:\n",
      "torch.Size([100, 51529])\n",
      "Getting predictions for voxels [100-199] of 14913\n",
      "\n",
      "Evaluating version 0 of 1: full_model\n",
      "Includes 51529 features\n",
      "number of zeros:\n",
      "51361\n",
      "size of weights is:\n",
      "torch.Size([100, 51529])\n",
      "Getting predictions for voxels [200-299] of 14913\n"
     ]
    }
   ],
   "source": [
    "val_cc, val_r2 = fwrf_predict.validate_fwrf_model(best_params, models, val_voxel_data, val_stim_data, _feature_extractor, \\\n",
    "                                   sample_batch_size=sample_batch_size, voxel_batch_size=voxel_batch_size, debug=debug, dtype=fpX)\n",
    "\n",
    "\n"
   ]
  },
  {
   "cell_type": "code",
   "execution_count": 23,
   "id": "713944d4",
   "metadata": {},
   "outputs": [
    {
     "data": {
      "text/plain": [
       "{'a': 2, 'b': 3, 'c': 5, 'd': 60}"
      ]
     },
     "execution_count": 23,
     "metadata": {},
     "output_type": "execute_result"
    }
   ],
   "source": [
    "thing = {'a': 2, 'b': 3}\n",
    "thing2 = {'c': 5, 'd':60}\n",
    "\n",
    "thing.update(thing2)\n",
    "\n",
    "thing"
   ]
  },
  {
   "cell_type": "code",
   "execution_count": 14,
   "id": "14132c64",
   "metadata": {},
   "outputs": [
    {
     "name": "stdout",
     "output_type": "stream",
     "text": [
      "starting validation function\n",
      "starting to initialize big arrays\n",
      "about to start loop\n",
      "Clearing BDCN contour features from memory.\n",
      "Getting features for prf 0: [x,y,sigma] is [-0.55 -0.55 0.0400]\n",
      "Running BDCN contour feature extraction...\n",
      "Images array shape is:\n",
      "(62, 1, 227, 227)\n",
      "Final array shape is:\n",
      "torch.Size([62, 1, 227, 227])\n",
      "time elapsed = 0.54893\n",
      "pRF [x,y,sigma]:\n",
      "[-0.55, -0.55, 0.03999999910593033]\n",
      "bbox to crop is:\n",
      "[219, 227, 0, 8]\n",
      "[min max] of first image patch is:\n",
      "[tensor(0.0335, device='cuda:0'), tensor(0.3218, device='cuda:0')]\n",
      "Getting features for prf 1: [x,y,sigma] is [-0.49 -0.55 0.0400]\n",
      "pRF [x,y,sigma]:\n",
      "[-0.49210526315789477, -0.55, 0.03999999910593033]\n",
      "bbox to crop is:\n",
      "[219, 227, 0, 21]\n",
      "[min max] of first image patch is:\n",
      "[tensor(0.0378, device='cuda:0'), tensor(0.1918, device='cuda:0')]\n",
      "Clearing BDCN contour features from memory.\n",
      "Getting predictions for voxels [0-99] of 14913\n",
      "size of feature matrix to use is:\n",
      "(62, 168, 100)\n",
      "Getting predictions for voxels [100-199] of 14913\n",
      "size of feature matrix to use is:\n",
      "(62, 168, 100)\n",
      "Getting predictions for voxels [200-299] of 14913\n"
     ]
    }
   ],
   "source": [
    "val_cc_old, val_r2_old = fwrf_predict_old.validate_bdcn_model(best_params_old, models, val_voxel_data, val_stim_data, _feature_extractor_old, \\\n",
    "                                   sample_batch_size=sample_batch_size, voxel_batch_size=voxel_batch_size, debug=debug, dtype=fpX)\n"
   ]
  },
  {
   "cell_type": "code",
   "execution_count": 17,
   "id": "622cc5b4",
   "metadata": {},
   "outputs": [
    {
     "data": {
      "text/plain": [
       "array([[-0.21275681],\n",
       "       [ 0.1307291 ],\n",
       "       [ 0.20311193],\n",
       "       [-0.14022963],\n",
       "       [ 0.16126229],\n",
       "       [ 0.17579162],\n",
       "       [ 0.19388685],\n",
       "       [ 0.32910824],\n",
       "       [ 0.05345447],\n",
       "       [-0.07433432]], dtype=float32)"
      ]
     },
     "execution_count": 17,
     "metadata": {},
     "output_type": "execute_result"
    }
   ],
   "source": [
    "val_cc[0:10]"
   ]
  },
  {
   "cell_type": "code",
   "execution_count": 18,
   "id": "022d8929",
   "metadata": {},
   "outputs": [
    {
     "data": {
      "text/plain": [
       "array([[-0.21275684],\n",
       "       [ 0.13072911],\n",
       "       [ 0.20311193],\n",
       "       [-0.14022975],\n",
       "       [ 0.1612623 ],\n",
       "       [ 0.17579159],\n",
       "       [ 0.19388682],\n",
       "       [ 0.3291083 ],\n",
       "       [ 0.05345447],\n",
       "       [-0.07433435]], dtype=float32)"
      ]
     },
     "execution_count": 18,
     "metadata": {},
     "output_type": "execute_result"
    }
   ],
   "source": [
    "val_cc_old[0:10]"
   ]
  },
  {
   "cell_type": "code",
   "execution_count": 19,
   "id": "76d4fbff",
   "metadata": {},
   "outputs": [
    {
     "data": {
      "text/plain": [
       "array([[-0.08576927],\n",
       "       [ 0.01187935],\n",
       "       [-0.03130872],\n",
       "       [-0.41322434],\n",
       "       [ 0.02266493],\n",
       "       [-0.00404857],\n",
       "       [-0.00952173],\n",
       "       [ 0.05535273],\n",
       "       [ 0.00231291],\n",
       "       [-0.07745466]], dtype=float32)"
      ]
     },
     "execution_count": 19,
     "metadata": {},
     "output_type": "execute_result"
    }
   ],
   "source": [
    "val_r2[0:10]"
   ]
  },
  {
   "cell_type": "code",
   "execution_count": 20,
   "id": "37dc102e",
   "metadata": {},
   "outputs": [
    {
     "data": {
      "text/plain": [
       "array([[-0.0857693 ],\n",
       "       [ 0.01187936],\n",
       "       [-0.03130872],\n",
       "       [-0.41322443],\n",
       "       [ 0.02266494],\n",
       "       [-0.00404855],\n",
       "       [-0.00952173],\n",
       "       [ 0.05535276],\n",
       "       [ 0.00231291],\n",
       "       [-0.07745465]], dtype=float32)"
      ]
     },
     "execution_count": 20,
     "metadata": {},
     "output_type": "execute_result"
    }
   ],
   "source": [
    "val_r2_old[0:10]"
   ]
  },
  {
   "cell_type": "code",
   "execution_count": 6,
   "id": "3f66179b",
   "metadata": {},
   "outputs": [
    {
     "name": "stdout",
     "output_type": "stream",
     "text": [
      "[]\n"
     ]
    }
   ],
   "source": [
    "# Set up the pyramid\n",
    "_fmaps_fn = texture_statistics_pyramid.steerable_pyramid_extractor(pyr_height=n_sf, n_ori = n_ori)\n",
    "# Initialize the \"texture\" model which builds on first level feature maps\n",
    "_feature_extractor = texture_statistics_pyramid.texture_feature_extractor(_fmaps_fn,sample_batch_size=sample_batch_size, feature_types_exclude=feature_types_exclude, n_prf_sd_out=n_prf_sd_out, aperture=aperture, device=device, \\\n",
    "                              group_all_hl_feats = group_all_hl_feats, do_varpart = do_varpart)\n",
    "feature_info = [_feature_extractor.feature_column_labels, _feature_extractor.feature_types_include]\n"
   ]
  },
  {
   "cell_type": "code",
   "execution_count": 8,
   "id": "aa0b0c00",
   "metadata": {},
   "outputs": [
    {
     "name": "stdout",
     "output_type": "stream",
     "text": [
      "[]\n"
     ]
    }
   ],
   "source": [
    "# Set up the pyramid\n",
    "_fmaps_fn = texture_statistics_pyramid_old.steerable_pyramid_extractor(pyr_height=n_sf, n_ori = n_ori)\n",
    "# Initialize the \"texture\" model which builds on first level feature maps\n",
    "_feature_extractor_old = texture_statistics_pyramid_old.texture_feature_extractor(_fmaps_fn,sample_batch_size=sample_batch_size, \\\n",
    "                                                                                  feature_types_exclude=feature_types_exclude, \\\n",
    "                                                                                  n_prf_sd_out=n_prf_sd_out, aperture=aperture, \\\n",
    "                                                                                  device=device)"
   ]
  },
  {
   "cell_type": "code",
   "execution_count": 19,
   "id": "b2436168",
   "metadata": {},
   "outputs": [
    {
     "data": {
      "text/plain": [
       "array([ 6.4805418e-04, -4.2727246e-05,  2.0694181e-03,  4.6552962e-04,\n",
       "        1.5816985e-03, -8.3285588e-04,  4.8995239e-04, -1.8527535e-04,\n",
       "       -1.3699161e-04,  5.1099481e-04], dtype=float32)"
      ]
     },
     "execution_count": 19,
     "metadata": {},
     "output_type": "execute_result"
    }
   ],
   "source": [
    "best_params[1].shape\n",
    "best_params[1][0,0:10,0]"
   ]
  },
  {
   "cell_type": "code",
   "execution_count": 23,
   "id": "d3b6dedf",
   "metadata": {},
   "outputs": [
    {
     "data": {
      "text/plain": [
       "array([ 0.00049042,  0.00017432,  0.00223572,  0.00060843,  0.00142537,\n",
       "       -0.00067342,  0.        ,  0.        ,  0.        ,  0.        ],\n",
       "      dtype=float32)"
      ]
     },
     "execution_count": 23,
     "metadata": {},
     "output_type": "execute_result"
    }
   ],
   "source": [
    "best_params[1].shape\n",
    "best_params[1][0,0:10,1]"
   ]
  },
  {
   "cell_type": "code",
   "execution_count": 21,
   "id": "d4214e8e",
   "metadata": {},
   "outputs": [
    {
     "data": {
      "text/plain": [
       "array([ 6.4805418e-04, -4.2727246e-05,  2.0694181e-03,  4.6552962e-04,\n",
       "        1.5816985e-03, -8.3285588e-04,  4.8995239e-04, -1.8527535e-04,\n",
       "       -1.3699161e-04,  5.1099481e-04], dtype=float32)"
      ]
     },
     "execution_count": 21,
     "metadata": {},
     "output_type": "execute_result"
    }
   ],
   "source": [
    "best_params_old[1].shape\n",
    "best_params_old[1][0,0:10,0]"
   ]
  },
  {
   "cell_type": "code",
   "execution_count": 27,
   "id": "9846fe6f",
   "metadata": {},
   "outputs": [
    {
     "data": {
      "text/plain": [
       "array([ 0.00304986, -0.00044732,  0.00770182,  0.0013891 ,  0.00638007,\n",
       "       -0.00309239,  0.0003045 , -0.0017243 , -0.00039225,  0.00087905],\n",
       "      dtype=float32)"
      ]
     },
     "execution_count": 27,
     "metadata": {},
     "output_type": "execute_result"
    }
   ],
   "source": [
    "best_params_old[1][0,0:10,4]"
   ]
  },
  {
   "cell_type": "code",
   "execution_count": 29,
   "id": "62f3bffb",
   "metadata": {},
   "outputs": [
    {
     "data": {
      "text/plain": [
       "array([38.840324, 56.365883, 64.80278 , 82.17668 , 57.838043, 80.0087  ,\n",
       "       69.31924 , 69.64662 , 59.50539 , 73.70018 ], dtype=float32)"
      ]
     },
     "execution_count": 29,
     "metadata": {},
     "output_type": "execute_result"
    }
   ],
   "source": [
    "best_losses[0:10,0]"
   ]
  },
  {
   "cell_type": "code",
   "execution_count": 31,
   "id": "b109a704",
   "metadata": {},
   "outputs": [
    {
     "data": {
      "text/plain": [
       "array([38.840324, 56.365883, 64.80278 , 82.17668 , 57.838043, 80.0087  ,\n",
       "       69.31924 , 69.64662 , 59.50539 , 73.70018 ], dtype=float32)"
      ]
     },
     "execution_count": 31,
     "metadata": {},
     "output_type": "execute_result"
    }
   ],
   "source": [
    "best_losses_old[0:10,0]"
   ]
  },
  {
   "cell_type": "code",
   "execution_count": 32,
   "id": "5d771e1e",
   "metadata": {},
   "outputs": [
    {
     "data": {
      "text/plain": [
       "array([7, 8, 5, 8, 4, 3, 4, 4, 4, 6])"
      ]
     },
     "execution_count": 32,
     "metadata": {},
     "output_type": "execute_result"
    }
   ],
   "source": [
    "best_lambdas[0:10,0]"
   ]
  },
  {
   "cell_type": "code",
   "execution_count": 34,
   "id": "3693db42",
   "metadata": {},
   "outputs": [
    {
     "data": {
      "text/plain": [
       "array([7, 8, 5, 8, 4, 3, 4, 4, 4, 6])"
      ]
     },
     "execution_count": 34,
     "metadata": {},
     "output_type": "execute_result"
    }
   ],
   "source": [
    "best_lambdas_old[0:10,0]"
   ]
  },
  {
   "cell_type": "code",
   "execution_count": 15,
   "id": "91d63851",
   "metadata": {},
   "outputs": [
    {
     "data": {
      "text/plain": [
       "array([38.542297, 54.950672, 66.98472 , 77.628006, 56.934196, 87.33652 ,\n",
       "       74.53955 , 70.959175, 61.502754, 72.14632 ], dtype=float32)"
      ]
     },
     "execution_count": 15,
     "metadata": {},
     "output_type": "execute_result"
    }
   ],
   "source": [
    "best_losses_old[0:10]"
   ]
  },
  {
   "cell_type": "code",
   "execution_count": 39,
   "id": "1b572ede",
   "metadata": {},
   "outputs": [
    {
     "data": {
      "text/plain": [
       "(14913, 15)"
      ]
     },
     "execution_count": 39,
     "metadata": {},
     "output_type": "execute_result"
    }
   ],
   "source": [
    "best_params_old[5].shape"
   ]
  },
  {
   "cell_type": "code",
   "execution_count": 36,
   "id": "d8040a4a",
   "metadata": {},
   "outputs": [
    {
     "data": {
      "text/plain": [
       "array([1, 1, 0, 1, 1, 0, 0, 0, 1, 0])"
      ]
     },
     "execution_count": 36,
     "metadata": {},
     "output_type": "execute_result"
    }
   ],
   "source": [
    "best_params[5][0:10,0]"
   ]
  },
  {
   "cell_type": "code",
   "execution_count": 37,
   "id": "81b0eb69",
   "metadata": {},
   "outputs": [
    {
     "data": {
      "text/plain": [
       "array([1, 1, 0, 1, 1, 0, 0, 0, 1, 0])"
      ]
     },
     "execution_count": 37,
     "metadata": {},
     "output_type": "execute_result"
    }
   ],
   "source": [
    "best_params_old[5][0:10,0]"
   ]
  },
  {
   "cell_type": "code",
   "execution_count": 40,
   "id": "82c9379b",
   "metadata": {},
   "outputs": [
    {
     "data": {
      "text/plain": [
       "array([ 4.1831576e-05, -8.7276574e-05,  2.4075587e-03,  3.4289420e-05,\n",
       "        1.7660893e-03,  1.9703126e-03, -1.7527193e-03, -2.4655187e-03,\n",
       "       -5.8551114e-03,  1.7888251e-03], dtype=float32)"
      ]
     },
     "execution_count": 40,
     "metadata": {},
     "output_type": "execute_result"
    }
   ],
   "source": [
    "best_params[2][0:10,0]"
   ]
  },
  {
   "cell_type": "code",
   "execution_count": 42,
   "id": "a33ee7fb",
   "metadata": {},
   "outputs": [
    {
     "data": {
      "text/plain": [
       "array([ 4.1831576e-05, -8.7276574e-05,  2.4075587e-03,  3.4289420e-05,\n",
       "        1.7660893e-03,  1.9703126e-03, -1.7527193e-03, -2.4655187e-03,\n",
       "       -5.8551114e-03,  1.7888251e-03], dtype=float32)"
      ]
     },
     "execution_count": 42,
     "metadata": {},
     "output_type": "execute_result"
    }
   ],
   "source": [
    "best_params_old[2][0:10,0]"
   ]
  },
  {
   "cell_type": "code",
   "execution_count": 43,
   "id": "405fa464",
   "metadata": {},
   "outputs": [
    {
     "data": {
      "text/plain": [
       "array([[-0.49210526, -0.55      ,  0.04      ],\n",
       "       [-0.49210526, -0.55      ,  0.04      ],\n",
       "       [-0.55      , -0.55      ,  0.04      ],\n",
       "       [-0.49210526, -0.55      ,  0.04      ],\n",
       "       [-0.49210526, -0.55      ,  0.04      ],\n",
       "       [-0.55      , -0.55      ,  0.04      ],\n",
       "       [-0.55      , -0.55      ,  0.04      ],\n",
       "       [-0.55      , -0.55      ,  0.04      ],\n",
       "       [-0.49210526, -0.55      ,  0.04      ],\n",
       "       [-0.55      , -0.55      ,  0.04      ]])"
      ]
     },
     "execution_count": 43,
     "metadata": {},
     "output_type": "execute_result"
    }
   ],
   "source": [
    "best_params[0][0:10,0,:]"
   ]
  },
  {
   "cell_type": "code",
   "execution_count": 44,
   "id": "28a450ac",
   "metadata": {},
   "outputs": [
    {
     "data": {
      "text/plain": [
       "array([[-0.49210526, -0.55      ,  0.04      ],\n",
       "       [-0.49210526, -0.55      ,  0.04      ],\n",
       "       [-0.55      , -0.55      ,  0.04      ],\n",
       "       [-0.49210526, -0.55      ,  0.04      ],\n",
       "       [-0.49210526, -0.55      ,  0.04      ],\n",
       "       [-0.55      , -0.55      ,  0.04      ],\n",
       "       [-0.55      , -0.55      ,  0.04      ],\n",
       "       [-0.55      , -0.55      ,  0.04      ],\n",
       "       [-0.49210526, -0.55      ,  0.04      ],\n",
       "       [-0.55      , -0.55      ,  0.04      ]])"
      ]
     },
     "execution_count": 44,
     "metadata": {},
     "output_type": "execute_result"
    }
   ],
   "source": [
    "best_params_old[0][0:10,0,:]"
   ]
  },
  {
   "cell_type": "code",
   "execution_count": 45,
   "id": "5d3c8483",
   "metadata": {},
   "outputs": [
    {
     "data": {
      "text/plain": [
       "array([2.3927572e-01, 1.7860206e-02, 3.0109861e+00, 1.1965325e+02,\n",
       "       3.3682201e-02, 5.7449959e-02, 2.5761364e+00, 1.9755992e+00,\n",
       "       2.8495173e+00, 1.8524592e+00], dtype=float32)"
      ]
     },
     "execution_count": 45,
     "metadata": {},
     "output_type": "execute_result"
    }
   ],
   "source": [
    "best_params[4][0,0:10]"
   ]
  },
  {
   "cell_type": "code",
   "execution_count": 46,
   "id": "f4891aa0",
   "metadata": {},
   "outputs": [
    {
     "data": {
      "text/plain": [
       "array([2.3927572e-01, 1.7860206e-02, 3.0109861e+00, 1.1965325e+02,\n",
       "       3.3682201e-02, 5.7449959e-02, 2.5761364e+00, 1.9755992e+00,\n",
       "       2.8495173e+00, 1.8524592e+00], dtype=float32)"
      ]
     },
     "execution_count": 46,
     "metadata": {},
     "output_type": "execute_result"
    }
   ],
   "source": [
    "best_params_old[4][0,0:10]"
   ]
  },
  {
   "cell_type": "code",
   "execution_count": 14,
   "id": "c11e2e8d",
   "metadata": {},
   "outputs": [
    {
     "name": "stdout",
     "output_type": "stream",
     "text": [
      "trn_size = 619 (90.0%)\n",
      "dtype = <class 'numpy.float32'>\n",
      "device = cuda:0\n",
      "---------------------------------------\n",
      "Seeding random number generator: seed is 92207\n",
      "Clearing steerable pyramid features from memory.\n",
      "\n",
      "\n",
      "Getting features for prf 0: [x,y,sigma] is [-0.55 -0.55 0.0400]\n",
      "Running steerable pyramid feature extraction...\n",
      "Images array shape is:\n",
      "(688, 1, 240, 240)\n",
      "time elapsed = 123.10804\n",
      "Computing higher order correlations...\n",
      "time elapsed = 8.82800\n",
      "Final size of features concatenated is [688 x 641]\n",
      "Feature types included are:\n",
      "['pixel_stats', 'mean_magnitudes', 'mean_realparts', 'marginal_stats_lowpass_recons', 'variance_highpass_resid', 'magnitude_feature_autocorrs', 'lowpass_recon_autocorrs', 'highpass_resid_autocorrs', 'magnitude_within_scale_crosscorrs', 'real_within_scale_crosscorrs', 'magnitude_across_scale_crosscorrs', 'real_imag_across_scale_crosscorrs', 'real_spatshift_within_scale_crosscorrs', 'real_spatshift_across_scale_crosscorrs']\n",
      "\n",
      "Fitting version 0 of 15: full_model, \n",
      "Voxels [ 14900:14912 ] of 14913\n",
      "Fitting version 1 of 15: leave_out_pixel_stats, \n",
      "Voxels [ 14900:14912 ] of 14913\n",
      "Fitting version 2 of 15: leave_out_mean_magnitudes, \n",
      "Voxels [ 14900:14912 ] of 14913\n",
      "Fitting version 3 of 15: leave_out_mean_realparts, \n",
      "Voxels [ 14900:14912 ] of 14913\n",
      "Fitting version 4 of 15: leave_out_marginal_stats_lowpass_recons, \n",
      "Voxels [ 14900:14912 ] of 14913\n",
      "Fitting version 5 of 15: leave_out_variance_highpass_resid, \n",
      "Voxels [ 14900:14912 ] of 14913\n",
      "Fitting version 6 of 15: leave_out_magnitude_feature_autocorrs, \n",
      "Voxels [ 14900:14912 ] of 14913\n",
      "Fitting version 7 of 15: leave_out_lowpass_recon_autocorrs, \n",
      "Voxels [ 14900:14912 ] of 14913\n",
      "Fitting version 8 of 15: leave_out_highpass_resid_autocorrs, \n",
      "Voxels [ 14900:14912 ] of 14913\n",
      "Fitting version 9 of 15: leave_out_magnitude_within_scale_crosscorrs, \n",
      "Voxels [ 14900:14912 ] of 14913\n",
      "Fitting version 10 of 15: leave_out_real_within_scale_crosscorrs, \n",
      "Voxels [ 14900:14912 ] of 14913\n",
      "Fitting version 11 of 15: leave_out_magnitude_across_scale_crosscorrs, \n",
      "Voxels [ 14900:14912 ] of 14913\n",
      "Fitting version 12 of 15: leave_out_real_imag_across_scale_crosscorrs, \n",
      "Voxels [ 14900:14912 ] of 14913\n",
      "Fitting version 13 of 15: leave_out_real_spatshift_within_scale_crosscorrs, \n",
      "Voxels [ 14900:14912 ] of 14913\n",
      "Fitting version 14 of 15: leave_out_real_spatshift_across_scale_crosscorrs, \n",
      "Voxels [ 14900:14912 ] of 14913\n",
      "Getting features for prf 1: [x,y,sigma] is [-0.49 -0.55 0.0400]\n",
      "Computing higher order correlations...\n",
      "time elapsed = 8.84072\n",
      "Final size of features concatenated is [688 x 641]\n",
      "Feature types included are:\n",
      "['pixel_stats', 'mean_magnitudes', 'mean_realparts', 'marginal_stats_lowpass_recons', 'variance_highpass_resid', 'magnitude_feature_autocorrs', 'lowpass_recon_autocorrs', 'highpass_resid_autocorrs', 'magnitude_within_scale_crosscorrs', 'real_within_scale_crosscorrs', 'magnitude_across_scale_crosscorrs', 'real_imag_across_scale_crosscorrs', 'real_spatshift_within_scale_crosscorrs', 'real_spatshift_across_scale_crosscorrs']\n",
      "\n",
      "Fitting version 0 of 15: full_model, \n",
      "Voxels [ 14900:14912 ] of 14913\n",
      "Fitting version 1 of 15: leave_out_pixel_stats, \n",
      "Voxels [ 14900:14912 ] of 14913\n",
      "Fitting version 2 of 15: leave_out_mean_magnitudes, \n",
      "Voxels [ 14900:14912 ] of 14913\n",
      "Fitting version 3 of 15: leave_out_mean_realparts, \n",
      "Voxels [ 14900:14912 ] of 14913\n",
      "Fitting version 4 of 15: leave_out_marginal_stats_lowpass_recons, \n",
      "Voxels [ 14900:14912 ] of 14913\n",
      "Fitting version 5 of 15: leave_out_variance_highpass_resid, \n",
      "Voxels [ 14900:14912 ] of 14913\n",
      "Fitting version 6 of 15: leave_out_magnitude_feature_autocorrs, \n",
      "Voxels [ 14900:14912 ] of 14913\n",
      "Fitting version 7 of 15: leave_out_lowpass_recon_autocorrs, \n",
      "Voxels [ 14900:14912 ] of 14913\n",
      "Fitting version 8 of 15: leave_out_highpass_resid_autocorrs, \n",
      "Voxels [ 14900:14912 ] of 14913\n",
      "Fitting version 9 of 15: leave_out_magnitude_within_scale_crosscorrs, \n",
      "Voxels [ 14900:14912 ] of 14913\n",
      "Fitting version 10 of 15: leave_out_real_within_scale_crosscorrs, \n",
      "Voxels [ 14900:14912 ] of 14913\n",
      "Fitting version 11 of 15: leave_out_magnitude_across_scale_crosscorrs, \n",
      "Voxels [ 14900:14912 ] of 14913\n",
      "Fitting version 12 of 15: leave_out_real_imag_across_scale_crosscorrs, \n",
      "Voxels [ 14900:14912 ] of 14913\n",
      "Fitting version 13 of 15: leave_out_real_spatshift_within_scale_crosscorrs, \n",
      "Voxels [ 14900:14912 ] of 14913\n",
      "Fitting version 14 of 15: leave_out_real_spatshift_across_scale_crosscorrs, \n",
      "Voxels [ 14900:14912 ] of 14913\n",
      "---------------------------------------\n",
      "total time = 171.402168s\n",
      "total throughput = 0.011493s/voxel\n",
      "voxel throughput = 0.001299s/voxel\n",
      "setup throughput = 0.173746s/model\n",
      "Clearing steerable pyramid features from memory.\n"
     ]
    }
   ],
   "source": [
    "shuff_rnd_seed = 92207\n",
    "best_losses_old, best_lambdas_old, best_params_old, pc = fwrf_fit_old.fit_texture_model_ridge(trn_stim_data, trn_voxel_data, _feature_extractor_old, models, \\\n",
    "                                               lambdas, zscore=zscore_features, add_bias=add_bias, \\\n",
    "                                               voxel_batch_size=voxel_batch_size, holdout_size=holdout_size, \\\n",
    "                                               shuffle=shuffle, shuff_rnd_seed=shuff_rnd_seed, device=device, \\\n",
    "                                                                                 debug=debug, do_varpart=True)\n"
   ]
  },
  {
   "cell_type": "code",
   "execution_count": 22,
   "id": "1326ca12",
   "metadata": {},
   "outputs": [
    {
     "data": {
      "text/plain": [
       "array([ 0,  0,  0,  0,  0,  0,  1,  1,  1,  1,  1,  1,  1,  1,  1,  1,  1,\n",
       "        1,  1,  1,  1,  1,  2,  2,  2,  2,  2,  2,  2,  2,  2,  2,  2,  2,\n",
       "        2,  2,  2,  2,  3,  3,  3,  3,  3,  3,  3,  3,  3,  3,  4,  5,  5,\n",
       "        5,  5,  5,  5,  5,  5,  5,  5,  5,  5,  5,  5,  5,  5,  5,  5,  5,\n",
       "        5,  5,  5,  5,  5,  5,  5,  5,  5,  5,  5,  5,  5,  5,  5,  5,  5,\n",
       "        5,  5,  5,  5,  5,  5,  5,  5,  5,  5,  5,  5,  5,  5,  5,  5,  5,\n",
       "        5,  5,  5,  5,  5,  5,  5,  5,  5,  5,  5,  5,  5,  5,  5,  5,  5,\n",
       "        5,  5,  5,  5,  5,  5,  5,  5,  5,  5,  5,  5,  5,  5,  5,  5,  5,\n",
       "        5,  5,  5,  5,  5,  5,  5,  5,  5,  5,  5,  5,  5,  5,  5,  5,  5,\n",
       "        5,  5,  5,  5,  5,  5,  5,  5,  5,  5,  5,  5,  5,  5,  5,  5,  5,\n",
       "        5,  5,  5,  5,  5,  5,  5,  5,  5,  5,  5,  5,  5,  5,  5,  5,  5,\n",
       "        5,  5,  5,  5,  5,  5,  5,  5,  5,  5,  5,  5,  5,  5,  5,  5,  5,\n",
       "        5,  5,  5,  5,  5,  5,  5,  5,  5,  5,  5,  5,  5,  5,  5,  5,  5,\n",
       "        5,  5,  5,  5,  5,  5,  5,  5,  5,  5,  5,  5,  5,  5,  5,  5,  5,\n",
       "        5,  5,  5,  5,  5,  5,  5,  5,  5,  5,  5,  5,  5,  5,  5,  5,  5,\n",
       "        5,  5,  5,  5,  5,  5,  5,  5,  5,  5,  5,  5,  5,  5,  5,  5,  5,\n",
       "        5,  5,  5,  5,  5,  5,  5,  5,  5,  5,  5,  5,  5,  5,  5,  5,  5,\n",
       "        5,  5,  5,  5,  5,  5,  5,  5,  5,  5,  5,  5,  5,  5,  5,  5,  5,\n",
       "        5,  5,  5,  5,  5,  5,  5,  5,  5,  5,  5,  5,  5,  5,  5,  6,  6,\n",
       "        6,  6,  6,  6,  6,  6,  6,  6,  6,  6,  6,  6,  6,  6,  6,  6,  6,\n",
       "        6,  6,  6,  6,  6,  6,  6,  6,  6,  6,  6,  6,  6,  6,  6,  6,  6,\n",
       "        6,  6,  6,  6,  6,  6,  6,  6,  6,  6,  6,  6,  6,  6,  6,  6,  6,\n",
       "        6,  6,  6,  6,  6,  6,  6,  6,  6,  6,  6,  6,  6,  6,  6,  6,  6,\n",
       "        6,  6,  6,  7,  7,  7,  7,  7,  7,  7,  7,  7,  7,  7,  7,  7,  7,\n",
       "        7,  7,  7,  7,  7,  7,  7,  7,  7,  7,  7,  8,  8,  8,  8,  8,  8,\n",
       "        8,  8,  8,  8,  8,  8,  8,  8,  8,  8,  8,  8,  8,  8,  8,  8,  8,\n",
       "        8,  9,  9,  9,  9,  9,  9,  9,  9,  9,  9,  9,  9,  9,  9,  9,  9,\n",
       "        9,  9,  9,  9,  9,  9,  9,  9, 10, 10, 10, 10, 10, 10, 10, 10, 10,\n",
       "       10, 10, 10, 10, 10, 10, 10, 10, 10, 10, 10, 10, 10, 10, 10, 10, 10,\n",
       "       10, 10, 10, 10, 10, 10, 10, 10, 10, 10, 10, 10, 10, 10, 10, 10, 10,\n",
       "       10, 10, 10, 10, 10, 11, 11, 11, 11, 11, 11, 11, 11, 11, 11, 11, 11,\n",
       "       11, 11, 11, 11, 11, 11, 11, 11, 11, 11, 11, 11, 11, 11, 11, 11, 11,\n",
       "       11, 11, 11, 11, 11, 11, 11, 11, 11, 11, 11, 11, 11, 11, 11, 11, 11,\n",
       "       11, 11, 11, 11, 11, 11, 11, 11, 11, 11, 11, 11, 11, 11, 11, 11, 11,\n",
       "       11, 11, 11, 11, 11, 11, 11, 11, 11, 11, 11, 11, 11, 11, 11, 11, 11,\n",
       "       11, 11, 11, 11, 11, 11, 11, 11, 11, 11, 11, 11, 11, 11, 11, 11, 12,\n",
       "       12, 12, 12, 12, 12, 12, 12, 12, 12, 13, 13, 13, 13, 13, 13, 13, 13,\n",
       "       13, 13, 13, 13, 13, 13, 13, 13, 13, 13, 13, 13])"
      ]
     },
     "execution_count": 22,
     "metadata": {},
     "output_type": "execute_result"
    }
   ],
   "source": [
    "pc[0]"
   ]
  }
 ],
 "metadata": {
  "kernelspec": {
   "display_name": "Python 3",
   "language": "python",
   "name": "python3"
  },
  "language_info": {
   "codemirror_mode": {
    "name": "ipython",
    "version": 3
   },
   "file_extension": ".py",
   "mimetype": "text/x-python",
   "name": "python",
   "nbconvert_exporter": "python",
   "pygments_lexer": "ipython3",
   "version": "3.7.1"
  }
 },
 "nbformat": 4,
 "nbformat_minor": 5
}
