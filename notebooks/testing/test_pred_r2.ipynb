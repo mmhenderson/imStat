{
 "cells": [
  {
   "cell_type": "code",
   "execution_count": 78,
   "id": "75a665a3",
   "metadata": {},
   "outputs": [],
   "source": [
    "# import basic modules\n",
    "import sys\n",
    "import os\n",
    "import time\n",
    "import numpy as np\n",
    "from tqdm import tqdm\n",
    "import gc\n",
    "import torch\n",
    "import argparse\n",
    "\n",
    "# import custom modules\n",
    "root_dir   = os.path.dirname(os.path.dirname(os.getcwd()))\n",
    "sys.path.append(os.path.join(root_dir,'code'))\n",
    "from model_src import fwrf_fit as fwrf_fit\n",
    "from model_src import fwrf_predict as fwrf_predict\n",
    "from model_src import texture_statistics as texture_statistics\n",
    "\n",
    "from model_fitting import initialize_fitting\n",
    "\n",
    "fpX = np.float32\n"
   ]
  },
  {
   "cell_type": "code",
   "execution_count": 2,
   "id": "c2159a2d",
   "metadata": {},
   "outputs": [
    {
     "data": {
      "text/plain": [
       "'/user_data/mmhender/imStat/notebooks'"
      ]
     },
     "execution_count": 2,
     "metadata": {},
     "output_type": "execute_result"
    }
   ],
   "source": [
    "root_dir"
   ]
  },
  {
   "cell_type": "code",
   "execution_count": 96,
   "id": "4e2674d3",
   "metadata": {},
   "outputs": [],
   "source": [
    "subject=1; roi=None; up_to_sess=1; n_ori=8; n_sf=4; sample_batch_size=50; voxel_batch_size=100; \n",
    "\n",
    "include_pixel=False\n",
    "include_simple=False \n",
    "include_complex=True\n",
    "include_autocorrs=False\n",
    "include_crosscorrs=False\n",
    "\n",
    "zscore_features=False\n",
    "\n",
    "nonlin_fn=False; \n",
    "\n",
    "ridge=False\n",
    "\n",
    "padding_mode = 'circular'; \n",
    "debug=False; shuffle_images=False; random_images=False; random_voxel_data=False; do_fitting=True; do_val=True; do_partial=True; date_str=None; shuff_rnd_seed=0"
   ]
  },
  {
   "cell_type": "code",
   "execution_count": 97,
   "id": "2567fba8",
   "metadata": {},
   "outputs": [
    {
     "name": "stdout",
     "output_type": "stream",
     "text": [
      "#device: 1\n",
      "device#: 0\n",
      "device name: GeForce RTX 2080 Ti\n",
      "\n",
      "torch: 1.8.1+cu111\n",
      "cuda:  11.1\n",
      "cudnn: 8005\n",
      "dtype: torch.float32\n"
     ]
    }
   ],
   "source": [
    "device = initialize_fitting.init_cuda()\n",
    "nsd_root, stim_root, beta_root, mask_root = initialize_fitting.get_paths()\n",
    "model_name, feature_types_exclude = initialize_fitting.get_model_name(ridge, n_ori, n_sf, include_pixel, include_simple, include_complex, include_autocorrs, include_crosscorrs)"
   ]
  },
  {
   "cell_type": "code",
   "execution_count": 98,
   "id": "e9e1e4be",
   "metadata": {},
   "outputs": [
    {
     "name": "stdout",
     "output_type": "stream",
     "text": [
      "Time Stamp: Jul-13-2021_1609\n",
      "\n",
      "Will save final output file to /user_data/mmhender/model_fits/S01/texture_OLS_8ori_4sf_no_pixel_no_simple_no_autocorrelations_no_crosscorrelations/Jul-13-2021_1609/\n",
      "\n",
      "3794 voxels of overlap between kastner and prf definitions, using prf defs\n",
      "unique values in retino labels:\n",
      "[-1.  0.  1.  2.  3.  4.  5.  6.  7.  8.  9. 10. 11. 12. 13. 14. 15. 16.\n",
      " 17. 18. 19. 20. 21. 22. 23. 24. 25.]\n",
      "0 voxels of overlap between face and place definitions, using place defs\n",
      "unique values in categ labels:\n",
      "[-1.  0. 26. 27. 28. 30. 31. 32. 33.]\n",
      "1535 voxels are defined (differently) in both retinotopic areas and category areas\n",
      "\n",
      "14913 voxels are defined across all areas, and will be used for analysis\n",
      "\n",
      "Loading numerical label/name mappings for all ROIs:\n",
      "[1, 2, 3, 4, 5, 6, 7]\n",
      "['V1v', 'V1d', 'V2v', 'V2d', 'V3v', 'V3d', 'hV4']\n",
      "[1, 2, 3, 4, 5, 6, 7, 8, 9, 10, 11, 12, 13, 14, 15, 16, 17, 18, 19, 20, 21, 22, 23, 24, 25]\n",
      "['V1v', 'V1d', 'V2v', 'V2d', 'V3v', 'V3d', 'hV4', 'VO1', 'VO2', 'PHC1', 'PHC2', 'TO2', 'TO1', 'LO2', 'LO1', 'V3B', 'V3A', 'IPS0', 'IPS1', 'IPS2', 'IPS3', 'IPS4', 'IPS5', 'SPL1', 'FEF']\n",
      "[1, 2, 3, 4, 5]\n",
      "['OFA', 'FFA-1', 'FFA-2', 'mTL-faces', 'aTL-faces']\n",
      "[1, 2, 3]\n",
      "['OPA', 'PPA', 'RSC']\n",
      "\n",
      "Sizes of all defined ROIs in this subject:\n",
      "Region V1 has 2392 voxels. Includes subregions:\n",
      "['V1v', 'V1d']\n",
      "Region V2 has 2096 voxels. Includes subregions:\n",
      "['V2v', 'V2d']\n",
      "Region V3 has 1674 voxels. Includes subregions:\n",
      "['V3v', 'V3d']\n",
      "Region hV4 has 721 voxels. Includes subregions:\n",
      "['hV4']\n",
      "Region VO1-2 has 482 voxels. Includes subregions:\n",
      "['VO1', 'VO2']\n",
      "Region PHC1-2 has 382 voxels. Includes subregions:\n",
      "['PHC1', 'PHC2']\n",
      "Region LO1-2 has 488 voxels. Includes subregions:\n",
      "['LO2', 'LO1']\n",
      "Region TO1-2 has 339 voxels. Includes subregions:\n",
      "['TO2', 'TO1']\n",
      "Region V3ab has 965 voxels. Includes subregions:\n",
      "['V3B', 'V3A']\n",
      "Region IPS0-5 has 2155 voxels. Includes subregions:\n",
      "['IPS0', 'IPS1', 'IPS2', 'IPS3', 'IPS4', 'IPS5']\n",
      "Region SPL1 has 164 voxels. Includes subregions:\n",
      "['SPL1']\n",
      "Region FEF has 72 voxels. Includes subregions:\n",
      "['FEF']\n",
      "\n",
      "\n",
      "Region OFA has 355 voxels.\n",
      "Region FFA-1 has 484 voxels.\n",
      "Region FFA-2 has 310 voxels.\n",
      "Region mTL-faces has 0 voxels.\n",
      "Region aTL-faces has 159 voxels.\n",
      "Region OPA has 1611 voxels.\n",
      "Region PPA has 1033 voxels.\n",
      "Region RSC has 566 voxels.\n",
      "\n",
      "Loading images for subject 1\n",
      "\n",
      "image data size: (10000, 3, 227, 227) , dtype: uint8 , value range: 0 255\n",
      "Loading data for sessions 1:1...\n",
      "/lab_data/tarrlab/common/datasets/NSD/nsddata_betas/ppdata/subj01/func1pt8mm/betas_fithrf_GLMdenoise_RR\n",
      "/lab_data/tarrlab/common/datasets/NSD/nsddata_betas/ppdata/subj01/func1pt8mm/betas_fithrf_GLMdenoise_RR\n",
      "324\n",
      "/lab_data/tarrlab/common/datasets/NSD/nsddata_betas/ppdata/subj01/func1pt8mm/betas_fithrf_GLMdenoise_RR/betas_session01.nii.gz\n",
      "int16 -32768 32767 (750, 81, 104, 83)\n",
      "<beta> = 1.237, <sigma> = 1.391\n",
      "\n",
      "Size of full data set [nTrials x nVoxels] is:\n",
      "(750, 14913)\n",
      "Total number of voxels = 14913\n"
     ]
    }
   ],
   "source": [
    "if do_fitting==False and date_str is None:\n",
    "    raise ValueError('if you want to start midway through the process (--do_fitting=False), then specify the date when training result was saved (--date_str).')\n",
    "\n",
    "if do_fitting==True and date_str is not None:\n",
    "    raise ValueError('if you want to do fitting from scratch (--do_fitting=True), specify --date_str=None (rather than entering a date)')\n",
    "\n",
    "output_dir, fn2save = initialize_fitting.get_save_path(root_dir, subject, model_name, shuffle_images, random_images, random_voxel_data, debug, date_str)\n",
    "\n",
    "def save_all():\n",
    "    print('\\nSaving to %s\\n'%fn2save)\n",
    "    torch.save({\n",
    "    'feature_table_simple': _gaborizer_simple.feature_table,\n",
    "    'sf_tuning_masks_simple': _gaborizer_simple.sf_tuning_masks, \n",
    "    'ori_tuning_masks_simple': _gaborizer_simple.ori_tuning_masks,\n",
    "    'cyc_per_stim_simple': _gaborizer_simple.cyc_per_stim,\n",
    "    'orients_deg_simple': _gaborizer_simple.orients_deg,\n",
    "    'orient_filters_simple': _gaborizer_simple.orient_filters,  \n",
    "    'feature_table_complex': _gaborizer_complex.feature_table,\n",
    "    'sf_tuning_masks_complex': _gaborizer_complex.sf_tuning_masks, \n",
    "    'ori_tuning_masks_complex': _gaborizer_complex.ori_tuning_masks,\n",
    "    'cyc_per_stim_complex': _gaborizer_complex.cyc_per_stim,\n",
    "    'orients_deg_complex': _gaborizer_complex.orients_deg,\n",
    "    'orient_filters_complex': _gaborizer_complex.orient_filters,  \n",
    "    'aperture': aperture,\n",
    "    'aperture_rf_range': aperture_rf_range,\n",
    "    'models': models,\n",
    "    'include_autocorrs': include_autocorrs,\n",
    "    'feature_info':feature_info,\n",
    "    'voxel_mask': voxel_mask,\n",
    "    'brain_nii_shape': brain_nii_shape,\n",
    "    'image_order': image_order,\n",
    "    'voxel_index': voxel_index,\n",
    "    'voxel_roi': voxel_roi,\n",
    "    'voxel_ncsnr': voxel_ncsnr, \n",
    "    'best_params': best_params,\n",
    "    'lambdas': lambdas, \n",
    "    'best_lambdas': best_lambdas,\n",
    "    'best_losses': best_losses,\n",
    "    'val_cc': val_cc,\n",
    "    'val_r2': val_r2,   \n",
    "    'val_cc_partial': val_cc_partial,\n",
    "    'val_r2_partial': val_r2_partial,   \n",
    "    'features_each_model_val': features_each_model_val,\n",
    "    'voxel_feature_correlations_val': voxel_feature_correlations_val,\n",
    "    'zscore_features': zscore_features,\n",
    "    'nonlin_fn': nonlin_fn,\n",
    "    'padding_mode': padding_mode,\n",
    "    'n_prf_sd_out': n_prf_sd_out,\n",
    "    'autocorr_output_pix': autocorr_output_pix,\n",
    "    'debug': debug,\n",
    "    'up_to_sess': up_to_sess,\n",
    "    'shuff_rnd_seed': shuff_rnd_seed\n",
    "    }, fn2save, pickle_protocol=4)\n",
    "\n",
    "\n",
    "# decide what voxels to use  \n",
    "voxel_mask, voxel_index, voxel_roi, voxel_ncsnr, brain_nii_shape = initialize_fitting.get_voxel_info(mask_root, beta_root, subject, roi)\n",
    "\n",
    "# get all data and corresponding images, in two splits. always fixed set that gets left out\n",
    "trn_stim_data, trn_voxel_data, val_stim_single_trial_data, val_voxel_single_trial_data, \\\n",
    "    n_voxels, n_trials_val, image_order = initialize_fitting.get_data_splits(nsd_root, beta_root, stim_root, subject, voxel_mask, up_to_sess, \n",
    "                                                                             shuffle_images=shuffle_images, random_images=random_images, random_voxel_data=random_voxel_data)"
   ]
  },
  {
   "cell_type": "code",
   "execution_count": 99,
   "id": "0eaaeb72",
   "metadata": {},
   "outputs": [
    {
     "name": "stdout",
     "output_type": "stream",
     "text": [
      "most extreme RF positions:\n",
      "[-0.55 -0.55  0.04]\n",
      "[0.55       0.55       0.40000001]\n",
      "\n",
      "Possible lambda values are:\n",
      "[0. 0.]\n"
     ]
    }
   ],
   "source": [
    "# Set up the filters\n",
    "_gaborizer_complex, _gaborizer_simple, _fmaps_fn_complex, _fmaps_fn_simple = initialize_fitting.get_feature_map_simple_complex_fn(n_ori, n_sf, padding_mode=padding_mode, device=device, nonlin_fn=nonlin_fn)\n",
    "\n",
    "# Params for the spatial aspect of the model (possible pRFs)\n",
    "#     aperture_rf_range=0.8 # using smaller range here because not sure what to do with RFs at edges...\n",
    "aperture_rf_range = 1.1\n",
    "aperture, models = initialize_fitting.get_prf_models(aperture_rf_range=aperture_rf_range)    \n",
    "\n",
    " # Initialize the \"texture\" model which builds on first level feature maps\n",
    "autocorr_output_pix=5\n",
    "n_prf_sd_out=2\n",
    "_texture_fn = texture_statistics.texture_feature_extractor(_fmaps_fn_complex, _fmaps_fn_simple, sample_batch_size=sample_batch_size, feature_types_exclude=feature_types_exclude, autocorr_output_pix=autocorr_output_pix, n_prf_sd_out=n_prf_sd_out, aperture=aperture, device=device)\n",
    "\n",
    "# More params for fitting\n",
    "holdout_size, lambdas = initialize_fitting.get_fitting_pars(trn_voxel_data, zscore_features, ridge=ridge)"
   ]
  },
  {
   "cell_type": "code",
   "execution_count": 100,
   "id": "375e71a0",
   "metadata": {},
   "outputs": [
    {
     "name": "stdout",
     "output_type": "stream",
     "text": [
      "\n",
      "Starting training...\n",
      "\n",
      "trn_size = 619 (90.0%)\n",
      "dtype = <class 'numpy.float32'>\n",
      "device = cuda:0\n",
      "---------------------------------------\n",
      "Seeding random number generator: seed is 91613\n",
      "\n",
      "\n",
      "model 0\n",
      "\n",
      "Computing pixel-level statistics...\n",
      "time elapsed = 0.03236\n",
      "Computing complex cell features...\n",
      "time elapsed = 0.48768\n",
      "Computing simple cell features...\n",
      "time elapsed = 0.40574\n",
      "SKIPPING HIGHER-ORDER CORRELATIONS...\n",
      "time elapsed = 0.04502\n",
      "Final size of features concatenated is [688 x 32]\n",
      "Feature types included are:\n",
      "['complex_feature_means']\n",
      "fitting model    0 of 875 , voxels [ 14900:14912 ] of 14913\n",
      "model 1\n",
      "\n",
      "Computing pixel-level statistics...\n",
      "time elapsed = 0.03012\n",
      "Computing complex cell features...\n",
      "time elapsed = 0.46776\n",
      "Computing simple cell features...\n",
      "time elapsed = 0.40706\n",
      "SKIPPING HIGHER-ORDER CORRELATIONS...\n",
      "time elapsed = 0.04583\n",
      "Final size of features concatenated is [688 x 32]\n",
      "Feature types included are:\n",
      "['complex_feature_means']\n",
      "fitting model    1 of 875 , voxels [ 14900:14912 ] of 14913\n",
      "---------------------------------------\n",
      "total time = 2.265089s\n",
      "total throughput = 0.000152s/voxel\n",
      "voxel throughput = 0.000021s/voxel\n",
      "setup throughput = 0.002227s/model\n",
      "\n",
      "Done with training\n",
      "\n"
     ]
    }
   ],
   "source": [
    "debug=True\n",
    "gc.collect()\n",
    "torch.cuda.empty_cache()\n",
    "print('\\nStarting training...\\n')\n",
    "if shuff_rnd_seed==0:\n",
    "    shuff_rnd_seed = int(time.strftime('%M%H%d', time.localtime()))\n",
    "best_losses, best_lambdas, best_params, feature_info = fwrf_fit.fit_texture_model_ridge(trn_stim_data, trn_voxel_data, _texture_fn, models, lambdas, \\\n",
    "    zscore=zscore_features, voxel_batch_size=voxel_batch_size, holdout_size=holdout_size, shuffle=True, add_bias=True, debug=debug, shuff_rnd_seed=shuff_rnd_seed)\n",
    "# note there's also a shuffle param in the above fn call, that determines the nested heldout data for lambda and param selection. always using true.\n",
    "print('\\nDone with training\\n')\n",
    "\n",
    "val_cc=None\n",
    "val_r2=None\n",
    "val_cc_partial=None\n",
    "val_r2_partial=None\n",
    "features_each_model_val=None;\n",
    "voxel_feature_correlations_val=None;"
   ]
  },
  {
   "cell_type": "code",
   "execution_count": 105,
   "id": "55858b87",
   "metadata": {},
   "outputs": [
    {
     "name": "stdout",
     "output_type": "stream",
     "text": [
      "\n",
      "Getting model predictions on validation set...\n",
      "\n",
      "Getting features for prf 0: [x,y,sigma] is [-0.55 -0.55 0.0400]\n",
      "Computing pixel-level statistics...\n",
      "time elapsed = 0.04009\n",
      "Computing complex cell features...\n",
      "time elapsed = 0.10671\n",
      "Computing simple cell features...\n",
      "time elapsed = 0.08864\n",
      "SKIPPING HIGHER-ORDER CORRELATIONS...\n",
      "time elapsed = 0.04970\n",
      "Final size of features concatenated is [62 x 32]\n",
      "Feature types included are:\n",
      "['complex_feature_means']\n",
      "Getting features for prf 1: [x,y,sigma] is [-0.49 -0.55 0.0400]\n",
      "Computing pixel-level statistics...\n",
      "time elapsed = 0.00574\n",
      "Computing complex cell features...\n",
      "time elapsed = 0.08471\n",
      "Computing simple cell features...\n",
      "time elapsed = 0.07020\n",
      "SKIPPING HIGHER-ORDER CORRELATIONS...\n",
      "time elapsed = 0.04634\n",
      "Final size of features concatenated is [62 x 32]\n",
      "Feature types included are:\n",
      "['complex_feature_means']\n",
      "Getting predictions for voxels [0-99] of 14913\n",
      "Getting predictions for voxels [100-199] of 14913\n",
      "Getting predictions for voxels [200-299] of 14913\n",
      "\n",
      "---------------------------------------\n",
      "total time = 0.523495s\n",
      "sample throughput = 0.008443s/sample\n",
      "voxel throughput = 0.000035s/voxel\n"
     ]
    },
    {
     "name": "stderr",
     "output_type": "stream",
     "text": [
      "  0%|          | 0/14913 [00:00<?, ?it/s]/home/mmhender/myenv/lib/python3.7/site-packages/numpy/lib/function_base.py:2642: RuntimeWarning: invalid value encountered in true_divide\n",
      "  c /= stddev[:, None]\n",
      "/home/mmhender/myenv/lib/python3.7/site-packages/numpy/lib/function_base.py:2643: RuntimeWarning: invalid value encountered in true_divide\n",
      "  c /= stddev[None, :]\n",
      "  3%|▎         | 399/14913 [00:00<00:03, 3988.74it/s]"
     ]
    },
    {
     "name": "stdout",
     "output_type": "stream",
     "text": [
      "\n",
      "Evaluating correlation coefficient on validation set...\n",
      "\n"
     ]
    },
    {
     "name": "stderr",
     "output_type": "stream",
     "text": [
      "100%|██████████| 14913/14913 [00:03<00:00, 4458.90it/s]"
     ]
    },
    {
     "name": "stdout",
     "output_type": "stream",
     "text": [
      "elapsed time for val: 3.87481\n"
     ]
    },
    {
     "name": "stderr",
     "output_type": "stream",
     "text": [
      "\n"
     ]
    }
   ],
   "source": [
    "debug=True\n",
    "# _texture_fn = texture_statistics.texture_feature_extractor(_fmaps_fn_complex, _fmaps_fn_simple, sample_batch_size=sample_batch_size, feature_types_exclude=feature_types_exclude, autocorr_output_pix=autocorr_output_pix, n_prf_sd_out=n_prf_sd_out, aperture=aperture, device=device)\n",
    "gc.collect()\n",
    "torch.cuda.empty_cache()\n",
    "t = time.time()\n",
    "val_cc, val_r2 = validate_texture_model(best_params, models, val_voxel_single_trial_data, val_stim_single_trial_data, _texture_fn, sample_batch_size=sample_batch_size, voxel_batch_size=voxel_batch_size, debug=debug, dtype=fpX)\n",
    "# val_cc, val_r2 = validate_texture_model(best_params, models, trn_voxel_data, trn_stim_data, _texture_fn, sample_batch_size=sample_batch_size, voxel_batch_size=voxel_batch_size, debug=debug, dtype=fpX)\n",
    "           \n",
    "elapsed = time.time() - t\n",
    "print('elapsed time for val: %.5f'%elapsed)"
   ]
  },
  {
   "cell_type": "code",
   "execution_count": 90,
   "id": "52401b99",
   "metadata": {},
   "outputs": [],
   "source": [
    "def get_corr(dat1, dat2):\n",
    "    \n",
    "    dat1 = np.squeeze(dat1)\n",
    "    dat2 = np.squeeze(dat2)\n",
    "    assert(len(dat1.shape)==1)\n",
    "    assert(len(dat2.shape)==1)\n",
    "    assert(len(dat1)==len(dat2))\n",
    "    n=len(dat1)\n",
    "    \n",
    "    m1 = np.sum(dat1)/n\n",
    "    m2 = np.sum(dat2)/n\n",
    "    \n",
    "    cov = np.sum((dat1-m1)*(dat2-m2))/(n-1)\n",
    "    \n",
    "    sd1 = np.sqrt(np.sum((dat1-m1)**2)/(n-1))\n",
    "    sd2 = np.sqrt(np.sum((dat2-m2)**2)/(n-1))\n",
    "    \n",
    "    corr = cov/(sd1*sd2)\n",
    "    \n",
    "    return corr"
   ]
  },
  {
   "cell_type": "code",
   "execution_count": 91,
   "id": "9eb3dbe7",
   "metadata": {},
   "outputs": [],
   "source": [
    "def get_r2(actual,predicted):\n",
    "  \n",
    "    actual = np.squeeze(actual)\n",
    "    predicted = np.squeeze(predicted)\n",
    "    assert(len(actual.shape)==1)\n",
    "    assert(len(predicted.shape)==1)\n",
    "    assert(len(actual)==len(predicted))\n",
    "  \n",
    "    # calculate r2 for this fit.\n",
    "    ssres = np.sum((predicted - actual)**2);\n",
    "    sstot = np.sum((actual - np.mean(actual))**2);\n",
    "    \n",
    "    r2 = 1-(ssres/sstot)\n",
    "    \n",
    "    return r2"
   ]
  },
  {
   "cell_type": "code",
   "execution_count": 106,
   "id": "4a2f5fcf",
   "metadata": {},
   "outputs": [
    {
     "data": {
      "text/plain": [
       "Text(0.5, 0.98, 'texture_OLS_8ori_4sf_no_pixel_no_simple_no_autocorrelations_no_crosscorrelations')"
      ]
     },
     "execution_count": 106,
     "metadata": {},
     "output_type": "execute_result"
    },
    {
     "data": {
      "image/png": "[encoded data removed]",
      "text/plain": [
       "<Figure size 1152x432 with 2 Axes>"
      ]
     },
     "metadata": {
      "needs_background": "light"
     },
     "output_type": "display_data"
    }
   ],
   "source": [
    "import matplotlib.pyplot as plt\n",
    "\n",
    "\n",
    "\n",
    "plt.figure(figsize=(16,6));\n",
    "plt.subplot(1,2,1)\n",
    "plt.plot(val_cc, val_r2, '.')\n",
    "plt.axhline(0,color='k')\n",
    "plt.axvline(0,color='k')\n",
    "# plt.plot([-1,1],[-1,1],color='k')\n",
    "plt.axis('square')\n",
    "plt.xlabel('corr coef')\n",
    "plt.ylabel('1-SSE/SST')\n",
    "# plt.ylim([-1,1]); plt.xlim([-1,1])\n",
    "\n",
    "\n",
    "plt.subplot(1,2,2)\n",
    "plt.plot(np.sign(val_cc)*val_cc**2, val_r2,'.')\n",
    "plt.axhline(0,color='k')\n",
    "plt.axvline(0,color='k')\n",
    "# plt.plot([-1,1],[-1,1],color='k')\n",
    "plt.axis('square')\n",
    "plt.xlabel('corr coef squared (retain sign)')\n",
    "plt.ylabel('1-SSE/SST')\n",
    "# plt.ylim([-1,1]); plt.xlim([-1,1])\n",
    "\n",
    "plt.suptitle(model_name)"
   ]
  },
  {
   "cell_type": "code",
   "execution_count": null,
   "id": "c3589491",
   "metadata": {},
   "outputs": [],
   "source": []
  },
  {
   "cell_type": "code",
   "execution_count": 77,
   "id": "86b5df9f",
   "metadata": {},
   "outputs": [
    {
     "name": "stdout",
     "output_type": "stream",
     "text": [
      "[0.2343393607719877, 0.23433936077198764, -0.7006184145670962, -0.7006184145670962, -0.3981002534507645, -0.3981002534507645]\n",
      "[0.2343393607719877, 0.0549149360070238, -0.7006184145670962]\n"
     ]
    }
   ],
   "source": [
    "import scipy\n",
    "import sklearn\n",
    "\n",
    "np.random.seed(858459)\n",
    "dat1 = np.random.normal(0,1,[100])\n",
    "dat2 = np.random.normal(0,1,[100])\n",
    "\n",
    "vc = get_corr(dat1, dat2)\n",
    "vc2 = scipy.stats.pearsonr(dat1, dat2)[0]\n",
    "vr = get_r2(dat1, dat2)\n",
    "vr2 = sklearn.metrics.r2_score(dat1, dat2)\n",
    "vr3 = get_r2(dat2, dat1)\n",
    "vr4 = sklearn.metrics.r2_score(dat2, dat1)\n",
    "print([vc, vc2, vr, vr2, vr3, vr4])\n",
    "\n",
    "print([vc, vc**2, vr])\n"
   ]
  },
  {
   "cell_type": "code",
   "execution_count": 76,
   "id": "5be74acc",
   "metadata": {},
   "outputs": [
    {
     "name": "stdout",
     "output_type": "stream",
     "text": [
      "[0.9323978554990525, 0.869365760939232, 0.869365760939232]\n",
      "[0.9323978554990524, 0.8693657609392318, 0.869365760939232]\n"
     ]
    }
   ],
   "source": [
    "np.random.seed(564555)\n",
    "X = np.random.normal(0,1,[10,5])\n",
    "X_withint = np.concatenate([X, np.ones([X.shape[0],1])], axis=1)\n",
    "Y = np.random.normal(0,1,[10,1])\n",
    "\n",
    "X_cross = X_withint.T @ np.linalg.pinv(np.matmul(X_withint, X_withint.T))\n",
    "w = X_cross @ Y\n",
    "\n",
    "Y_hat = X_withint @ w\n",
    "\n",
    "rval = get_r2(Y, Y_hat)\n",
    "rval2 = sklearn.metrics.r2_score(Y, Y_hat)\n",
    "cval = get_corr(Y, Y_hat)\n",
    "# cval2 = scipy.stats.pearsonr(np.squeeze(Y), np.squeeze(Y_hat))[0]\n",
    "cval2 = np.corrcoef(np.squeeze(Y), np.squeeze(Y_hat))[0,1]\n",
    "\n",
    "print([cval, cval**2, rval])\n",
    "print([cval2, cval2**2, rval2])"
   ]
  },
  {
   "cell_type": "code",
   "execution_count": null,
   "id": "8f0950d6",
   "metadata": {},
   "outputs": [],
   "source": []
  },
  {
   "cell_type": "code",
   "execution_count": 8,
   "id": "47896743",
   "metadata": {},
   "outputs": [
    {
     "name": "stdout",
     "output_type": "stream",
     "text": [
      "[0.25449883380559896, 0.254498833805599]\n"
     ]
    }
   ],
   "source": [
    "# cov = get_corr(dat1, dat2)\n",
    "m1 = np.mean(dat1)\n",
    "m2 = np.mean(dat2)\n",
    "\n",
    "cov = np.sum((dat1-m1)*(dat2-m2))/(len(dat1)-1)\n",
    "\n",
    "cov2 = np.cov(dat1, dat2)[0,1]\n",
    "\n",
    "print([cov, cov2])"
   ]
  },
  {
   "cell_type": "code",
   "execution_count": 12,
   "id": "c2f527b7",
   "metadata": {},
   "outputs": [
    {
     "name": "stdout",
     "output_type": "stream",
     "text": [
      "[0.9873490994804737, 0.9873490994804737]\n"
     ]
    }
   ],
   "source": [
    "sd = np.sqrt(np.sum((dat1-m1)**2)/(len(dat1)))\n",
    "sd2 = np.std(dat1)\n",
    "print([sd, sd2])"
   ]
  },
  {
   "cell_type": "code",
   "execution_count": 20,
   "id": "095d7749",
   "metadata": {},
   "outputs": [
    {
     "name": "stdout",
     "output_type": "stream",
     "text": [
      "[0.2343393607719877, 0.23433936077198764]\n"
     ]
    }
   ],
   "source": [
    "vc = get_corr(dat1, dat2)\n",
    "vc2 = scipy.stats.pearsonr(dat1, dat2)[0]\n",
    "\n",
    "print([vc, vc2])"
   ]
  },
  {
   "cell_type": "code",
   "execution_count": 64,
   "id": "b53cf50c",
   "metadata": {},
   "outputs": [
    {
     "data": {
      "text/plain": [
       "1.1857961384840074"
      ]
     },
     "execution_count": 64,
     "metadata": {},
     "output_type": "execute_result"
    }
   ],
   "source": [
    "np.var(dat2)"
   ]
  }
 ],
 "metadata": {
  "kernelspec": {
   "display_name": "Python 3",
   "language": "python",
   "name": "python3"
  },
  "language_info": {
   "codemirror_mode": {
    "name": "ipython",
    "version": 3
   },
   "file_extension": ".py",
   "mimetype": "text/x-python",
   "name": "python",
   "nbconvert_exporter": "python",
   "pygments_lexer": "ipython3",
   "version": "3.7.1"
  }
 },
 "nbformat": 4,
 "nbformat_minor": 5
}
