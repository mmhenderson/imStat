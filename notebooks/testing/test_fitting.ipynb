{
 "cells": [
  {
   "cell_type": "code",
   "execution_count": 4,
   "id": "ce7ae808",
   "metadata": {},
   "outputs": [
    {
     "name": "stdout",
     "output_type": "stream",
     "text": [
      "#device: 1\n",
      "device#: 0\n",
      "device name: GeForce GTX TITAN X\n",
      "\n",
      "torch: 1.8.1+cu111\n",
      "cuda:  11.1\n",
      "cudnn: 8005\n",
      "dtype: torch.float32\n"
     ]
    }
   ],
   "source": [
    "# import basic modules\n",
    "import sys\n",
    "import os\n",
    "import time\n",
    "import numpy as np\n",
    "from tqdm import tqdm\n",
    "import gc\n",
    "import torch\n",
    "import argparse\n",
    "import skimage.transform\n",
    "\n",
    "# import custom modules\n",
    "code_dir = '/user_data/mmhender/imStat/code/'\n",
    "sys.path.append(code_dir)\n",
    "from feature_extraction import texture_statistics_gabor,  bdcn_features, sketch_token_features\n",
    "from feature_extraction import texture_statistics_pyramid2 as texture_statistics_pyramid\n",
    "from utils import nsd_utils, roi_utils\n",
    "\n",
    "bdcn_path = '/user_data/mmhender/toolboxes/BDCN/'\n",
    "\n",
    "from model_fitting import initialize_fitting, merge_features, fwrf_fit, fwrf_predict\n",
    "\n",
    "fpX = np.float32\n",
    "# device = 'cpu:0'\n",
    "device = initialize_fitting.init_cuda()"
   ]
  },
  {
   "cell_type": "code",
   "execution_count": 5,
   "id": "387cc679",
   "metadata": {},
   "outputs": [],
   "source": [
    "fitting_type='pyramid_texture_plus_sketch_tokens'\n",
    "do_avg_pool=True\n",
    "do_stack=True\n",
    "subject=1\n",
    "volume_space = True\n",
    "up_to_sess = 1\n",
    "n_ori = 4\n",
    "n_sf = 4\n",
    "nonlin_fn = False\n",
    "padding_mode = 'circular';\n",
    "group_all_hl_feats = True; \\\n",
    "sample_batch_size = 50; voxel_batch_size = 100; \\\n",
    "zscore_features = True; ridge = True; \\\n",
    "shuffle_images = False; random_images = False; random_voxel_data = False; \\\n",
    "do_fitting = True; do_val = True; do_varpart = True; date_str = None;\n",
    "shuff_rnd_seed = 0; debug = True; \\\n",
    "do_pca_pyr_hl = False; do_pca_st=False;\n",
    "min_pct_var = 99; max_pc_to_retain = 400; map_ind = -1; \\\n",
    "n_prf_sd_out = 2; mult_patch_by_prf = True; \\\n",
    "downsample_factor = 1.0; do_nms = False"
   ]
  },
  {
   "cell_type": "code",
   "execution_count": 6,
   "id": "8bfe5ed9",
   "metadata": {},
   "outputs": [
    {
     "name": "stdout",
     "output_type": "stream",
     "text": [
      "Time Stamp: Sep-27-2021_1056_09\n",
      "\n",
      "Will save final output file to /user_data/mmhender/imStat/model_fits/S01/texture_pyramid_ridge_4ori_4sf_plus_sketch_tokens_stacked/Sep-27-2021_1056_09_DEBUG/\n",
      "\n",
      "\n",
      "Volume space: ROI defs are located at: /lab_data/tarrlab/common/datasets/NSD/nsddata/ppdata/subj01/func1pt8mm/roi\n",
      "\n",
      "3794 voxels of overlap between kastner and prf definitions, using prf defs\n",
      "unique values in retino labels:\n",
      "[-1.  0.  1.  2.  3.  4.  5.  6.  7.  8.  9. 10. 11. 12. 13. 14. 15. 16.\n",
      " 17. 18. 19. 20. 21. 22. 23. 24. 25.]\n",
      "0 voxels of overlap between face and place definitions, using place defs\n",
      "unique values in categ labels:\n",
      "[-1.  0. 26. 27. 28. 30. 31. 32. 33.]\n",
      "1535 voxels are defined (differently) in both retinotopic areas and category areas\n",
      "\n",
      "14913 voxels are defined across all areas, and will be used for analysis\n",
      "\n",
      "Loading numerical label/name mappings for all ROIs:\n",
      "[1, 2, 3, 4, 5, 6, 7]\n",
      "['V1v', 'V1d', 'V2v', 'V2d', 'V3v', 'V3d', 'hV4']\n",
      "[1, 2, 3, 4, 5, 6, 7, 8, 9, 10, 11, 12, 13, 14, 15, 16, 17, 18, 19, 20, 21, 22, 23, 24, 25]\n",
      "['V1v', 'V1d', 'V2v', 'V2d', 'V3v', 'V3d', 'hV4', 'VO1', 'VO2', 'PHC1', 'PHC2', 'TO2', 'TO1', 'LO2', 'LO1', 'V3B', 'V3A', 'IPS0', 'IPS1', 'IPS2', 'IPS3', 'IPS4', 'IPS5', 'SPL1', 'FEF']\n",
      "[1, 2, 3, 4, 5]\n",
      "['OFA', 'FFA-1', 'FFA-2', 'mTL-faces', 'aTL-faces']\n",
      "[1, 2, 3]\n",
      "['OPA', 'PPA', 'RSC']\n",
      "\n",
      "Sizes of all defined ROIs in this subject:\n",
      "Region V1 has 2392 voxels. Includes subregions:\n",
      "['V1v', 'V1d']\n",
      "Region V2 has 2096 voxels. Includes subregions:\n",
      "['V2v', 'V2d']\n",
      "Region V3 has 1674 voxels. Includes subregions:\n",
      "['V3v', 'V3d']\n",
      "Region hV4 has 721 voxels. Includes subregions:\n",
      "['hV4']\n",
      "Region VO1-2 has 482 voxels. Includes subregions:\n",
      "['VO1', 'VO2']\n",
      "Region PHC1-2 has 382 voxels. Includes subregions:\n",
      "['PHC1', 'PHC2']\n",
      "Region LO1-2 has 488 voxels. Includes subregions:\n",
      "['LO2', 'LO1']\n",
      "Region TO1-2 has 339 voxels. Includes subregions:\n",
      "['TO2', 'TO1']\n",
      "Region V3ab has 965 voxels. Includes subregions:\n",
      "['V3B', 'V3A']\n",
      "Region IPS0-5 has 2155 voxels. Includes subregions:\n",
      "['IPS0', 'IPS1', 'IPS2', 'IPS3', 'IPS4', 'IPS5']\n",
      "Region SPL1 has 164 voxels. Includes subregions:\n",
      "['SPL1']\n",
      "Region FEF has 72 voxels. Includes subregions:\n",
      "['FEF']\n",
      "\n",
      "\n",
      "Region OFA has 355 voxels.\n",
      "Region FFA-1 has 484 voxels.\n",
      "Region FFA-2 has 310 voxels.\n",
      "Region mTL-faces has 0 voxels.\n",
      "Region aTL-faces has 159 voxels.\n",
      "Region OPA has 1611 voxels.\n",
      "Region PPA has 1033 voxels.\n",
      "Region RSC has 566 voxels.\n",
      "\n",
      "Loading images for subject 1\n",
      "\n",
      "image data size: (10000, 3, 240, 240) , dtype: uint8 , value range: 0 255\n",
      "Loading data for sessions:\n",
      "[1]\n",
      "Data is located in: /lab_data/tarrlab/common/datasets/NSD/nsddata_betas/ppdata/subj01/func1pt8mm/betas_fithrf_GLMdenoise_RR...\n",
      "Loading from /lab_data/tarrlab/common/datasets/NSD/nsddata_betas/ppdata/subj01/func1pt8mm/betas_fithrf_GLMdenoise_RR/betas_session01.nii.gz...\n",
      "Raw data:\n",
      "float64 -32768.0 32767.0 (750, 81, 104, 83)\n",
      "Adjusted data (divided by 300):\n",
      "float32 -109.22667 109.223335 (750, 699192)\n",
      "z-scoring beta weights within this session...\n",
      "mean = 1.237, sigma = 1.391\n",
      "\n",
      "Size of full data set [nTrials x nVoxels] is:\n",
      "(750, 14913)\n",
      "\n",
      "Possible lambda values are:\n",
      "[1.0000000e+00 4.2169652e+00 1.7782795e+01 7.4989418e+01 3.1622775e+02\n",
      " 1.3335215e+03 5.6234131e+03 2.3713736e+04 1.0000000e+05]\n",
      "most extreme RF positions:\n",
      "[-0.55 -0.55  0.04]\n",
      "[0.55       0.55       0.40000001]\n"
     ]
    }
   ],
   "source": [
    "if 'pyramid' in fitting_type:\n",
    "    model_name = initialize_fitting.get_pyramid_model_name(ridge, n_ori, n_sf, do_pca_hl = do_pca_pyr_hl)\n",
    "    feature_types_exclude = ['pixel']        \n",
    "    name1 = 'pyramid_texture'\n",
    "\n",
    "elif 'gabor_texture' in fitting_type:        \n",
    "    model_name = initialize_fitting.get_gabor_texture_model_name(ridge, n_ori, n_sf)\n",
    "    feature_types_exclude = []\n",
    "    name1 = 'gabor_texture'\n",
    "\n",
    "elif 'gabor_solo' in fitting_type:        \n",
    "    model_name = initialize_fitting.get_gabor_solo_model_name(ridge, n_ori, n_sf)\n",
    "    feature_types_exclude = ['pixel', 'simple_feature_means', 'autocorrs', 'crosscorrs']\n",
    "    name1 = 'gabor_solo'\n",
    "\n",
    "elif 'bdcn' in fitting_type:\n",
    "    model_name = initialize_fitting.get_bdcn_model_name(do_pca_bdcn, map_ind)   \n",
    "    name1 = 'bdcn'\n",
    "\n",
    "elif 'sketch_tokens' in fitting_type:\n",
    "    model_name = initialize_fitting.get_sketch_tokens_model_name(do_pca_st)   \n",
    "    name1 = 'sketch_tokens'\n",
    "\n",
    "else:\n",
    "    raise ValueError('your string for fitting_type was not recognized')\n",
    "\n",
    "if 'plus_sketch_tokens' in fitting_type:\n",
    "    model_name2 = initialize_fitting.get_sketch_tokens_model_name(do_pca_st)\n",
    "    model_name = model_name + '_plus_' + model_name2\n",
    "elif 'plus_bdcn' in fitting_type:\n",
    "    model_name2 = initialize_fitting.get_bdcn_model_name(do_pca_bdcn, map_ind)\n",
    "    model_name = model_name + '_plus_' + model_name2\n",
    "\n",
    "if do_stack:\n",
    "    model_name += '_stacked'\n",
    "\n",
    "output_dir, fn2save = initialize_fitting.get_save_path(subject, volume_space, model_name, shuffle_images, random_images, random_voxel_data, debug, date_str)\n",
    "    \n",
    "# decide what voxels to use  \n",
    "voxel_mask, voxel_index, voxel_roi, voxel_ncsnr, brain_nii_shape = roi_utils.get_voxel_roi_info(subject, volume_space)\n",
    "\n",
    "sessions = np.arange(0,up_to_sess)\n",
    "zscore_betas_within_sess = True\n",
    "# get all data and corresponding images, in two splits. always fixed set that gets left out\n",
    "trn_stim_data, trn_voxel_data, val_stim_data, val_voxel_data, \\\n",
    "        image_order, image_order_trn, image_order_val = nsd_utils.get_data_splits(subject, sessions=sessions, \\\n",
    "                                                             voxel_mask=voxel_mask, volume_space=volume_space, \\\n",
    "                                                              zscore_betas_within_sess=zscore_betas_within_sess, \\\n",
    "                                                              shuffle_images=shuffle_images, random_images=random_images, \\\n",
    "                                                                                         random_voxel_data=random_voxel_data)\n",
    "\n",
    "\n",
    "if 'gabor' in fitting_type or 'sketch_tokens' in fitting_type or 'pyramid' in fitting_type:\n",
    "    # For this model, the features are pre-computed, so we will just load them rather than passing in images.\n",
    "    # Going to pass the image indices (into 10,000 dim array) instead of images to fitting and val functions, \n",
    "    # which will tell which features to load.\n",
    "    trn_stim_data = image_order_trn\n",
    "    val_stim_data = image_order_val\n",
    "\n",
    "# More params for fitting\n",
    "holdout_size, lambdas = initialize_fitting.get_fitting_pars(trn_voxel_data, zscore_features, ridge=ridge)\n",
    "# Params for the spatial aspect of the model (possible pRFs)\n",
    "aperture_rf_range = 1.1\n",
    "aperture, models = initialize_fitting.get_prf_models(aperture_rf_range=aperture_rf_range)    \n"
   ]
  },
  {
   "cell_type": "code",
   "execution_count": 112,
   "id": "bd1e767a",
   "metadata": {},
   "outputs": [
    {
     "name": "stdout",
     "output_type": "stream",
     "text": [
      "Feature types to exclude from the model:\n",
      "['pixel', 'autocorrs', 'magnitude_feature_autocorrs', 'lowpass_recon_autocorrs', 'highpass_resid_autocorrs', 'pixel_stats']\n",
      "[ True  True  True  True False False False False False False]\n",
      "Grouping lower level features:\n",
      "['mean_magnitudes' 'mean_realparts' 'marginal_stats_lowpass_recons'\n",
      " 'variance_highpass_resid']\n",
      "Grouping higher level features:\n",
      "['magnitude_within_scale_crosscorrs' 'real_within_scale_crosscorrs'\n",
      " 'magnitude_across_scale_crosscorrs' 'real_imag_across_scale_crosscorrs'\n",
      " 'real_spatshift_within_scale_crosscorrs'\n",
      " 'real_spatshift_across_scale_crosscorrs']\n"
     ]
    }
   ],
   "source": [
    "\n",
    "# Set up the pyramid\n",
    "compute_features = False\n",
    "\n",
    "feature_types_exclude = ['pixel','autocorrs']\n",
    "do_pca_pyr_hl = False\n",
    "_fmaps_fn = steerable_pyramid_extractor(pyr_height = n_sf, n_ori = n_ori)\n",
    "# Initialize the \"texture\" model which builds on first level feature maps\n",
    "_feature_extractor = texture_feature_extractor(_fmaps_fn,sample_batch_size=sample_batch_size, \\\n",
    "                              subject=subject, feature_types_exclude=feature_types_exclude, n_prf_sd_out=n_prf_sd_out,\\\n",
    "                              aperture=aperture, do_varpart = do_varpart, \\\n",
    "                              group_all_hl_feats = group_all_hl_feats, compute_features = compute_features, \\\n",
    "                              do_pca_hl = do_pca_pyr_hl, min_pct_var = min_pct_var, max_pc_to_retain = max_pc_to_retain, \\\n",
    "                                                                          device=device)\n",
    "feature_info = [_feature_extractor.feature_column_labels, _feature_extractor.feature_types_include]\n",
    "# map_resolution = 227\n",
    "# _feature_extractor2 = sketch_token_features.sketch_token_feature_extractor(subject, device, map_resolution=map_resolution, \\\n",
    "#                                                                            aperture = aperture, \\\n",
    "#                                                      n_prf_sd_out = n_prf_sd_out, \\\n",
    "#                                batch_size=sample_batch_size, mult_patch_by_prf=mult_patch_by_prf, do_avg_pool = do_avg_pool,\\\n",
    "#                                            do_pca = do_pca_st, min_pct_var = min_pct_var, max_pc_to_retain = max_pc_to_retain)\n",
    "# _feature_extractor = merge_features.combined_feature_extractor([_feature_extractor, _feature_extractor2], \\\n",
    "#                                                                    [name1,'sketch_tokens'], do_varpart = do_varpart)\n",
    "\n"
   ]
  },
  {
   "cell_type": "code",
   "execution_count": 113,
   "id": "40d010dc",
   "metadata": {},
   "outputs": [
    {
     "data": {
      "text/plain": [
       "[16, 16, 10, 1, 24, 24, 48, 96, 10, 20]"
      ]
     },
     "execution_count": 113,
     "metadata": {},
     "output_type": "execute_result"
    }
   ],
   "source": [
    "_feature_extractor.feature_type_dims_include"
   ]
  },
  {
   "cell_type": "code",
   "execution_count": 115,
   "id": "03914cd4",
   "metadata": {},
   "outputs": [],
   "source": [
    "# _feature_extractor.n_ll_feats, _feature_extractor.n_hl_feats"
   ]
  },
  {
   "cell_type": "code",
   "execution_count": 116,
   "id": "ce5c398b",
   "metadata": {},
   "outputs": [
    {
     "data": {
      "text/plain": [
       "222"
      ]
     },
     "execution_count": 116,
     "metadata": {},
     "output_type": "execute_result"
    }
   ],
   "source": [
    "np.sum(_feature_extractor.feature_column_labels==1)"
   ]
  },
  {
   "cell_type": "code",
   "execution_count": 117,
   "id": "82c9c45c",
   "metadata": {},
   "outputs": [
    {
     "data": {
      "text/plain": [
       "['mean_magnitudes',\n",
       " 'mean_realparts',\n",
       " 'marginal_stats_lowpass_recons',\n",
       " 'variance_highpass_resid',\n",
       " 'magnitude_within_scale_crosscorrs',\n",
       " 'real_within_scale_crosscorrs',\n",
       " 'magnitude_across_scale_crosscorrs',\n",
       " 'real_imag_across_scale_crosscorrs',\n",
       " 'real_spatshift_within_scale_crosscorrs',\n",
       " 'real_spatshift_across_scale_crosscorrs']"
      ]
     },
     "execution_count": 117,
     "metadata": {},
     "output_type": "execute_result"
    }
   ],
   "source": [
    "_feature_extractor.feature_types_include"
   ]
  },
  {
   "cell_type": "code",
   "execution_count": 107,
   "id": "59a00364",
   "metadata": {},
   "outputs": [
    {
     "data": {
      "text/plain": [
       "(265,)"
      ]
     },
     "execution_count": 107,
     "metadata": {},
     "output_type": "execute_result"
    }
   ],
   "source": [
    "_feature_extractor.feature_column_labels.shape"
   ]
  },
  {
   "cell_type": "code",
   "execution_count": 118,
   "id": "68486bdc",
   "metadata": {},
   "outputs": [
    {
     "name": "stdout",
     "output_type": "stream",
     "text": [
      "Initializing for fitting\n",
      "Clearing precomputed features from memory.\n"
     ]
    }
   ],
   "source": [
    "_feature_extractor.init_for_fitting([240,240], models, dtype=fpX)\n",
    "masks,names = _feature_extractor.get_partial_versions()"
   ]
  },
  {
   "cell_type": "code",
   "execution_count": 109,
   "id": "e226db53",
   "metadata": {},
   "outputs": [
    {
     "data": {
      "text/plain": [
       "222.0"
      ]
     },
     "execution_count": 109,
     "metadata": {},
     "output_type": "execute_result"
    }
   ],
   "source": [
    "np.sum(masks[2,:])"
   ]
  },
  {
   "cell_type": "code",
   "execution_count": 119,
   "id": "579c2364",
   "metadata": {},
   "outputs": [
    {
     "name": "stdout",
     "output_type": "stream",
     "text": [
      "Loading pre-computed features for models [0 - 49] from /user_data/mmhender/features/pyramid_texture/S1_features_each_prf_4ori_4sf_ORIG.h5py\n",
      "Took 74.35322 seconds to load file\n",
      "Index into batch for prf 0: 0\n",
      "Size of features array for this image set and prf is:\n",
      "(62, 641)\n",
      "Final size of features concatenated is [62 x 265]\n",
      "Feature types included are:\n",
      "['mean_magnitudes', 'mean_realparts', 'marginal_stats_lowpass_recons', 'variance_highpass_resid', 'magnitude_within_scale_crosscorrs', 'real_within_scale_crosscorrs', 'magnitude_across_scale_crosscorrs', 'real_imag_across_scale_crosscorrs', 'real_spatshift_within_scale_crosscorrs', 'real_spatshift_across_scale_crosscorrs']\n",
      "Final size of features concatenated is [62 x 265]\n",
      "Final size of features concatenated is [62 x 265]\n"
     ]
    }
   ],
   "source": [
    "feat, defined = _feature_extractor(val_stim_data,models[0],0)"
   ]
  },
  {
   "cell_type": "code",
   "execution_count": 120,
   "id": "debd3f45",
   "metadata": {},
   "outputs": [
    {
     "data": {
      "text/plain": [
       "torch.Size([62, 265])"
      ]
     },
     "execution_count": 120,
     "metadata": {},
     "output_type": "execute_result"
    }
   ],
   "source": [
    "feat.shape"
   ]
  },
  {
   "cell_type": "code",
   "execution_count": null,
   "id": "6a30cb35",
   "metadata": {},
   "outputs": [],
   "source": []
  },
  {
   "cell_type": "code",
   "execution_count": 87,
   "id": "70bc87df",
   "metadata": {},
   "outputs": [
    {
     "data": {
      "text/plain": [
       "array([ True,  True,  True,  True, False, False, False, False, False,\n",
       "       False, False, False, False])"
      ]
     },
     "execution_count": 87,
     "metadata": {},
     "output_type": "execute_result"
    }
   ],
   "source": [
    "_feature_extractor.feature_is_ll"
   ]
  },
  {
   "cell_type": "code",
   "execution_count": 93,
   "id": "cf88ad26",
   "metadata": {},
   "outputs": [
    {
     "data": {
      "text/plain": [
       "array(['mean_magnitudes', 'mean_realparts',\n",
       "       'marginal_stats_lowpass_recons', 'variance_highpass_resid'],\n",
       "      dtype='<U38')"
      ]
     },
     "execution_count": 93,
     "metadata": {},
     "output_type": "execute_result"
    }
   ],
   "source": [
    "np.array(_feature_extractor.feature_types_include)[_feature_extractor.feature_is_ll]"
   ]
  },
  {
   "cell_type": "code",
   "execution_count": 94,
   "id": "4d62f330",
   "metadata": {},
   "outputs": [
    {
     "data": {
      "text/plain": [
       "array(['magnitude_feature_autocorrs', 'lowpass_recon_autocorrs',\n",
       "       'highpass_resid_autocorrs', 'magnitude_within_scale_crosscorrs',\n",
       "       'real_within_scale_crosscorrs',\n",
       "       'magnitude_across_scale_crosscorrs',\n",
       "       'real_imag_across_scale_crosscorrs',\n",
       "       'real_spatshift_within_scale_crosscorrs',\n",
       "       'real_spatshift_across_scale_crosscorrs'], dtype='<U38')"
      ]
     },
     "execution_count": 94,
     "metadata": {},
     "output_type": "execute_result"
    }
   ],
   "source": [
    "np.array(_feature_extractor.feature_types_include)[~_feature_extractor.feature_is_ll]"
   ]
  },
  {
   "cell_type": "code",
   "execution_count": 95,
   "id": "5a358984",
   "metadata": {},
   "outputs": [],
   "source": [
    "import numpy as np\n",
    "import torch\n",
    "import time\n",
    "import os\n",
    "import h5py\n",
    "import gc\n",
    "from collections import OrderedDict\n",
    "import torch.nn as nn\n",
    "import pyrtools as pt\n",
    "from utils import numpy_utils, torch_utils, texture_utils, prf_utils, default_paths\n",
    "pyramid_texture_feat_path = default_paths.pyramid_texture_feat_path\n",
    "from sklearn import decomposition\n",
    "\n",
    "class texture_feature_extractor(nn.Module):\n",
    "    \n",
    "    \"\"\"\n",
    "    Module to compute higher-order texture statistics of input images (e.g. Portilla & Simoncelli 2000, IJCV)\n",
    "    Statistics are computed within a specified region of space (a voxel's pRF)\n",
    "    Can specify different subsets of features to include (i.e. pixel-level stats, simple/complex cells, cross-correlations, auto-correlations)\n",
    "    Inputs to the forward pass are images and pRF parameters of interest [x,y,sigma]\n",
    "    \"\"\"\n",
    "    \n",
    "    def __init__(self,_fmaps_fn, subject=None, sample_batch_size=100, feature_types_exclude=None, n_prf_sd_out=2, \\\n",
    "                 aperture=1.0, do_varpart=False, group_all_hl_feats=False, compute_features=True, \\\n",
    "                do_pca_hl = False, min_pct_var = 99, max_pc_to_retain = 100, device=None):\n",
    "        \n",
    "        super(texture_feature_extractor, self).__init__()\n",
    "        \n",
    "        self.fmaps_fn = _fmaps_fn   \n",
    "        self.n_sf = _fmaps_fn.pyr_height\n",
    "        self.n_ori =  _fmaps_fn.n_ori\n",
    "       \n",
    "        self.sample_batch_size = sample_batch_size       \n",
    "        self.n_prf_sd_out = n_prf_sd_out\n",
    "        self.aperture = aperture\n",
    "        self.device = device       \n",
    "        \n",
    "        self.do_varpart = do_varpart\n",
    "        self.group_all_hl_feats = group_all_hl_feats\n",
    "   \n",
    "        self.update_feature_list(feature_types_exclude)\n",
    "        self.do_pca_hl = do_pca_hl\n",
    "        if self.do_pca_hl:\n",
    "            # this only makes sense to do if these other params are set this way...\n",
    "            assert(self.group_all_hl_feats==True)\n",
    "            self.min_pct_var = min_pct_var\n",
    "            self.n_ll_feats = np.sum(np.array(self.feature_type_dims_include)[self.feature_is_ll])\n",
    "            self.n_hl_feats = np.sum(np.array(self.feature_type_dims_include)[~self.feature_is_ll])\n",
    "            self.max_pc_to_retain = np.min([self.n_hl_feats, max_pc_to_retain])\n",
    "            # trimming off the last few columns\n",
    "            self.feature_column_labels = self.feature_column_labels[0:self.max_pc_to_retain + self.n_ll_feats]\n",
    "             \n",
    "        else:\n",
    "            self.min_pct_var = None\n",
    "            self.max_pc_to_retain = None  \n",
    "        \n",
    "        # if compute features is false, this means the features are already generated, so will be looking for a \n",
    "        # saved h5py file of pre-computed features. If true, will run the extraction step now.\n",
    "        self.compute_features = compute_features\n",
    "        self.subject = subject\n",
    "        \n",
    "        if not self.compute_features:\n",
    "            self.features_file = os.path.join(pyramid_texture_feat_path, 'S%d_features_each_prf_%dori_%dsf_ORIG.h5py'%(self.subject, self.n_ori, self.n_sf))\n",
    "            if not os.path.exists(self.features_file):\n",
    "                raise RuntimeError('Looking at %s for precomputed features, not found.'%self.features_file)                \n",
    "            self.prf_batch_size=50\n",
    "            self.features_each_prf_batch = None\n",
    "            self.prf_inds_loaded = []\n",
    "        else:\n",
    "            self.fmaps = None\n",
    "    \n",
    "    def init_for_fitting(self, image_size, models, dtype):\n",
    "\n",
    "        \"\"\"\n",
    "        Additional initialization operations.\n",
    "        \"\"\"\n",
    "       \n",
    "        print('Initializing for fitting')\n",
    "        \n",
    "        if self.do_pca_hl:\n",
    "\n",
    "            print('Initializing arrays for PCA params')\n",
    "            n_prfs = len(models)\n",
    "            \n",
    "            n_hl_feat_each_prf = self.n_hl_feats * np.ones(shape=(n_prfs,),dtype=int)      \n",
    "            self.n_hl_feat_each_prf = n_hl_feat_each_prf\n",
    "\n",
    "            # will need to save pca parameters to reproduce it during validation stage\n",
    "            # max pc to retain is just to save space, otherwise the \"pca_wts\" variable becomes huge \n",
    "            # NOTE here these parameters are just for the HL/higher level features.\n",
    "            \n",
    "            self.pca_wts = [np.zeros(shape=(self.max_pc_to_retain, n_hl_feat_each_prf[mm]), dtype=dtype) for mm in range(n_prfs)] \n",
    "            self.pca_pre_z_mean = [np.zeros(shape=(n_hl_feat_each_prf[mm],), dtype=dtype) for mm in range(n_prfs)]\n",
    "            self.pca_pre_z_std = [np.zeros(shape=(n_hl_feat_each_prf[mm],), dtype=dtype) for mm in range(n_prfs)]\n",
    "            self.pca_pre_mean = [np.zeros(shape=(n_hl_feat_each_prf[mm],), dtype=dtype) for mm in range(n_prfs)]\n",
    "            self.pct_var_expl = np.zeros(shape=(self.max_pc_to_retain, n_prfs), dtype=dtype)\n",
    "            self.n_comp_needed = np.full(shape=(n_prfs), fill_value=-1, dtype=int)\n",
    "            \n",
    "            self.max_features = self.max_pc_to_retain + self.n_ll_feats\n",
    "                \n",
    "        else:\n",
    "            self.max_features = self.n_features_total    \n",
    "            \n",
    "        self.clear_big_features()\n",
    "        \n",
    "        if not self.compute_features:\n",
    "            # Prepare for loading the pre-computed features: as a compromise between speed and ram usage, will load them in\n",
    "            # batches of multiple prfs at a time. \n",
    "            n_prfs = models.shape[0]\n",
    "            n_prf_batches = int(np.ceil(n_prfs/self.prf_batch_size))          \n",
    "            self.prf_batch_inds = [np.arange(self.prf_batch_size*bb, np.min([self.prf_batch_size*(bb+1), n_prfs])) for bb in range(n_prf_batches)]\n",
    "        \n",
    "    def update_feature_list(self, feature_types_exclude):\n",
    "        \n",
    "        # First defining all the possible features and their dimensionality (fixed)\n",
    "        feature_types_all = ['pixel_stats', 'mean_magnitudes', 'mean_realparts', 'marginal_stats_lowpass_recons', 'variance_highpass_resid', \\\n",
    "            'magnitude_feature_autocorrs', 'lowpass_recon_autocorrs', 'highpass_resid_autocorrs', \\\n",
    "            'magnitude_within_scale_crosscorrs', 'real_within_scale_crosscorrs', 'magnitude_across_scale_crosscorrs', 'real_imag_across_scale_crosscorrs', \\\n",
    "            'real_spatshift_within_scale_crosscorrs', 'real_spatshift_across_scale_crosscorrs']\n",
    "        self.feature_types_all = feature_types_all\n",
    "        feature_type_dims = [6,16,16,10,1,\\\n",
    "                        272,73,25,\\\n",
    "                        24,24,48,96,\\\n",
    "                       10,20]\n",
    "        self.feature_is_ll = list(np.ones((5,))==1) + list(np.zeros((9,))==1)\n",
    "        self.feature_type_dims_all = feature_type_dims        \n",
    "         \n",
    "        # Decide which features to ignore, or use all features      \n",
    "        if feature_types_exclude is None:\n",
    "            feature_types_exclude = []\n",
    "        # a few shorthands for ignoring sets of features at a time\n",
    "        if 'crosscorrs' in feature_types_exclude:\n",
    "            feature_types_exclude.extend( [ff for ff in feature_types_all if 'crosscorrs' in ff])\n",
    "        if 'autocorrs' in feature_types_exclude:\n",
    "            feature_types_exclude.extend( [ff for ff in feature_types_all if 'autocorrs' in ff])\n",
    "        if 'pixel' in feature_types_exclude:\n",
    "            feature_types_exclude.extend(['pixel_stats'])\n",
    "        self.feature_types_exclude = feature_types_exclude\n",
    "        print('Feature types to exclude from the model:')\n",
    "        print(self.feature_types_exclude)    \n",
    "\n",
    "        # Now list all the features that we do want to use\n",
    "        self.feature_types_include  = [ff for ff in feature_types_all if not ff in self.feature_types_exclude]\n",
    "        if len(self.feature_types_include)==0:\n",
    "            raise ValueError('you have specified too many features to exclude, and now you have no features left! aborting.')\n",
    "            \n",
    "        self.feature_type_dims_include = [feature_type_dims[fi] for fi in range(len(feature_type_dims)) if not feature_types_all[fi] in self.feature_types_exclude]\n",
    "        # how many features will be needed, in total?\n",
    "        self.n_features_total = np.sum(self.feature_type_dims_include)\n",
    "        self.feature_is_ll = np.array([self.feature_is_ll[fi] for fi in range(len(feature_type_dims)) if not feature_types_all[fi] in self.feature_types_exclude])\n",
    "        print(self.feature_is_ll)\n",
    "        # Numbers that define which feature types are in which columns of final output matrix\n",
    "        self.feature_column_labels = np.squeeze(np.concatenate([fi*np.ones([1,self.feature_type_dims_include[fi]]) for fi in range(len(self.feature_type_dims_include))], axis=1).astype('int'))\n",
    "        assert(np.size(self.feature_column_labels)==self.n_features_total)\n",
    "        \n",
    "        if self.group_all_hl_feats:\n",
    "            # In this case pretend there are just two groups of features:\n",
    "            # Lower-level which includes pixel, gabor-like, and marginal stats of lowpass/highpass recons.\n",
    "            # Higher-level which includes all autocorrelations and cross-correlations. \n",
    "            # This makes it simpler to do variance partition analysis.\n",
    "            # if do_varpart=False, this does nothing.\n",
    "#             assert(len(self.feature_types_exclude)==0) # the following lines won't make sense if any features were missing, so check this\n",
    "            self.feature_column_labels[self.feature_is_ll[self.feature_column_labels]] = 0\n",
    "            self.feature_column_labels[~self.feature_is_ll[self.feature_column_labels]] = 1\n",
    "            self.feature_group_names = ['lower-level', 'higher-level']\n",
    "            \n",
    "            print('Grouping lower level features:')\n",
    "            print(np.array(self.feature_types_include)[self.feature_is_ll])\n",
    "            print('Grouping higher level features:')\n",
    "            print(np.array(self.feature_types_include)[~self.feature_is_ll])\n",
    "        else:\n",
    "            self.feature_group_names = self.feature_types_include\n",
    "            \n",
    "    def get_partial_versions(self):\n",
    "        \n",
    "        if not hasattr(self, 'max_features'):\n",
    "            raise RuntimeError('need to run init_for_fitting first')\n",
    "            \n",
    "        n_feature_types = len(self.feature_group_names)\n",
    "        partial_version_names = ['full_model'] \n",
    "        masks = np.ones([1,self.max_features])\n",
    "        \n",
    "        if self.do_varpart and n_feature_types>1:\n",
    "            \n",
    "            # \"Partial versions\" will be listed as: [full model, model w only first set of features, model w only second set, ...             \n",
    "            partial_version_names += ['just_%s'%ff for ff in self.feature_group_names]\n",
    "            masks2 = np.concatenate([np.expand_dims(np.array(self.feature_column_labels==ff).astype('int'), axis=0) for ff in np.arange(0,n_feature_types)], axis=0)\n",
    "            masks = np.concatenate((masks, masks2), axis=0)\n",
    "            \n",
    "            if n_feature_types > 2:\n",
    "                # if more than two types, also include models where we leave out first set of features, leave out second set of features...]\n",
    "                partial_version_names += ['leave_out_%s'%ff for ff in self.feature_group_names]           \n",
    "                masks3 = np.concatenate([np.expand_dims(np.array(self.feature_column_labels!=ff).astype('int'), axis=0) for ff in np.arange(0,n_feature_types)], axis=0)\n",
    "                masks = np.concatenate((masks, masks3), axis=0)           \n",
    "        \n",
    "        # masks always goes [n partial versions x n total features]\n",
    "        return masks, partial_version_names\n",
    "\n",
    "    \n",
    "    def get_maps(self, images):\n",
    "    \n",
    "        print('Running steerable pyramid feature extraction...')\n",
    "        print('Images array shape is:')\n",
    "        print(images.shape)\n",
    "        t = time.time()\n",
    "        if isinstance(images, torch.Tensor):\n",
    "            images = torch_utils.get_value(images)\n",
    "        fmaps = self.fmaps_fn(images, to_torch=False, device=self.device)        \n",
    "        self.fmaps = fmaps\n",
    "        elapsed =  time.time() - t\n",
    "        print('time elapsed = %.5f'%elapsed)\n",
    "\n",
    "    def load_precomputed_features(self, image_inds, prf_model_index):\n",
    "    \n",
    "        if prf_model_index not in self.prf_inds_loaded:\n",
    "            \n",
    "            \n",
    "            batch_to_use = np.where([prf_model_index in self.prf_batch_inds[bb] for \\\n",
    "                                     bb in range(len(self.prf_batch_inds))])[0][0]\n",
    "            assert(prf_model_index in self.prf_batch_inds[batch_to_use])\n",
    "\n",
    "            print('Loading pre-computed features for models [%d - %d] from %s'%(self.prf_batch_inds[batch_to_use][0], \\\n",
    "                                                                              self.prf_batch_inds[batch_to_use][-1], self.features_file))\n",
    "            self.features_each_prf_batch = None\n",
    "            gc.collect()\n",
    "            torch.cuda.empty_cache()\n",
    "       \n",
    "            t = time.time()\n",
    "            with h5py.File(self.features_file, 'r') as data_set:\n",
    "                values = np.copy(data_set['/features'][:,:,self.prf_batch_inds[batch_to_use]])\n",
    "                data_set.close() \n",
    "            elapsed = time.time() - t\n",
    "            print('Took %.5f seconds to load file'%elapsed)\n",
    "\n",
    "            self.prf_inds_loaded = self.prf_batch_inds[batch_to_use]\n",
    "            self.features_each_prf_batch = values[image_inds,:,:]\n",
    "            values=None\n",
    "            \n",
    "        else:\n",
    "            assert(len(image_inds)==self.features_each_prf_batch.shape[0])\n",
    "            \n",
    "        index_into_batch = np.where(prf_model_index==self.prf_inds_loaded)[0][0]\n",
    "        print('Index into batch for prf %d: %d'%(prf_model_index, index_into_batch))\n",
    "        features_in_prf = self.features_each_prf_batch[:,:,index_into_batch]\n",
    "        values=None\n",
    "        print('Size of features array for this image set and prf is:')\n",
    "        print(features_in_prf.shape)\n",
    "        \n",
    "        return features_in_prf\n",
    "        \n",
    "    \n",
    "    def clear_big_features(self):\n",
    "        \n",
    "        if self.compute_features:\n",
    "            print('Clearing steerable pyramid features from memory.')\n",
    "            self.fmaps = None\n",
    "        else:\n",
    "            print('Clearing precomputed features from memory.')\n",
    "            self.features_each_prf_batch = None\n",
    "            self.prf_inds_loaded = []\n",
    "            gc.collect()\n",
    "            torch.cuda.empty_cache()\n",
    "        \n",
    "        \n",
    "    def forward(self, images, prf_params, prf_model_index, fitting_mode=True):\n",
    "        \n",
    "        if not self.compute_features:\n",
    "            \n",
    "            # Load from file the features for this set of images\n",
    "            # In this case, the item passed in through \"images\" must actually be the indices of the images to use, not images themselves.\n",
    "            # Check to make sure this is the case.\n",
    "            assert(len(images.shape)==1)\n",
    "            image_inds = images\n",
    "            features = self.load_precomputed_features(image_inds, prf_model_index)            \n",
    "            assert(features.shape[0]==len(image_inds))\n",
    "            features = torch_utils._to_torch(features, self.device)\n",
    "            \n",
    "            # Choosing which of these columns to include in model (might be all)\n",
    "            feature_column_labels_all = np.squeeze(np.concatenate([fi*np.ones([1,self.feature_type_dims_all[fi]]) for fi in range(len(self.feature_type_dims_all))], axis=1).astype('int'))\n",
    "            all_feat = OrderedDict()\n",
    "            for fi, ff in enumerate(self.feature_types_all):\n",
    "                if ff in self.feature_types_include:\n",
    "                    all_feat[ff] = features[:,feature_column_labels_all==fi]\n",
    "                else:\n",
    "                    all_feat[ff] = None\n",
    "            \n",
    "        else:\n",
    "            \n",
    "            if self.fmaps is None:\n",
    "                self.get_maps(images)\n",
    "            else:\n",
    "                assert(images.shape[0]==self.fmaps[0][0].shape[0])\n",
    "\n",
    "            if isinstance(prf_params, torch.Tensor):\n",
    "                prf_params = torch_utils.get_value(prf_params)\n",
    "            assert(np.size(prf_params)==3)\n",
    "            prf_params = np.squeeze(prf_params)\n",
    "            if isinstance(images, torch.Tensor):\n",
    "                images = torch_utils.get_value(images)\n",
    "\n",
    "            print('Computing higher order correlations...')\n",
    "\n",
    "            t = time.time()\n",
    "            pixel_stats, mean_magnitudes, mean_realparts, marginal_stats_lowpass_recons, variance_highpass_resid, \\\n",
    "                magnitude_feature_autocorrs, lowpass_recon_autocorrs, highpass_resid_autocorrs, \\\n",
    "                magnitude_within_scale_crosscorrs, real_within_scale_crosscorrs, magnitude_across_scale_crosscorrs, real_imag_across_scale_crosscorrs, \\\n",
    "                real_spatshift_within_scale_crosscorrs, real_spatshift_across_scale_crosscorrs =  \\\n",
    "                        get_higher_order_features(self.fmaps, images, prf_params, sample_batch_size=self.sample_batch_size, n_prf_sd_out=self.n_prf_sd_out, aperture=self.aperture, device=self.device)\n",
    "\n",
    "\n",
    "            elapsed =  time.time() - t\n",
    "            print('time elapsed = %.5f'%elapsed)\n",
    "\n",
    "            all_feat = OrderedDict({'pixel_stats':pixel_stats, 'mean_magnitudes':mean_magnitudes, 'mean_realparts':mean_realparts, \\\n",
    "                                    'marginal_stats_lowpass_recons':marginal_stats_lowpass_recons, 'variance_highpass_resid':variance_highpass_resid, \\\n",
    "                'magnitude_feature_autocorrs':magnitude_feature_autocorrs, 'lowpass_recon_autocorrs':lowpass_recon_autocorrs, 'highpass_resid_autocorrs':highpass_resid_autocorrs, \\\n",
    "                'magnitude_within_scale_crosscorrs':magnitude_within_scale_crosscorrs, 'real_within_scale_crosscorrs':real_within_scale_crosscorrs, \\\n",
    "                'magnitude_across_scale_crosscorrs':magnitude_across_scale_crosscorrs, 'real_imag_across_scale_crosscorrs':real_imag_across_scale_crosscorrs, \\\n",
    "                'real_spatshift_within_scale_crosscorrs':real_spatshift_within_scale_crosscorrs, 'real_spatshift_across_scale_crosscorrs':real_spatshift_across_scale_crosscorrs})\n",
    "\n",
    "        # Now concatenating everything to a big matrix\n",
    "        feature_names_full = list(all_feat.keys())\n",
    "        feature_names = [fname for fname in feature_names_full if fname in self.feature_types_include]\n",
    "        assert(feature_names==self.feature_types_include) # double check here that the order is correct\n",
    "\n",
    "        for ff, feature_name in enumerate(feature_names):   \n",
    "            assert(all_feat[feature_name] is not None)\n",
    "            if ff==0:\n",
    "                all_feat_concat = all_feat[feature_name]\n",
    "            else:               \n",
    "                all_feat_concat = torch.cat((all_feat_concat, all_feat[feature_name]), axis=1)\n",
    "\n",
    "        assert(all_feat_concat.shape[1]==self.n_features_total)\n",
    "        print('Final size of features concatenated is [%d x %d]'%(all_feat_concat.shape[0], all_feat_concat.shape[1]))\n",
    "        print('Feature types included are:')\n",
    "        print(feature_names)\n",
    "        \n",
    "        if torch.any(torch.isnan(all_feat_concat)):\n",
    "            print('\\nWARNING THERE ARE NANS IN FEATURES MATRIX\\n')\n",
    "        if torch.any(torch.all(all_feat_concat==0, axis=0)):\n",
    "            print('\\nWARNING THERE ARE ZEROS IN FEATURES MATRIX\\n')\n",
    "            print('zeros for columns:')\n",
    "            print(np.where(torch_utils.get_value(torch.all(all_feat_concat==0, axis=0))))\n",
    "\n",
    "        print('Final size of features concatenated is [%d x %d]'%(all_feat_concat.shape[0], all_feat_concat.shape[1]))\n",
    "        \n",
    "        if self.do_pca_hl:    \n",
    "            features_ll = all_feat_concat[:,0:self.n_ll_feats]\n",
    "            features_hl = all_feat_concat[:,self.n_ll_feats:]\n",
    "            print('Running PCA on higher-level features...')\n",
    "            features_hl = self.reduce_pca(features_hl, prf_model_index, fitting_mode)\n",
    "            \n",
    "            all_feat_concat = torch.cat((features_ll, features_hl), axis=1)\n",
    "            \n",
    "            feature_inds_defined = np.zeros((self.max_features,), dtype=bool)\n",
    "            feature_inds_defined[0:all_feat_concat.shape[1]] = 1\n",
    "        else:\n",
    "            feature_inds_defined = np.ones((self.n_features_total,), dtype=bool)\n",
    "        \n",
    "        print('Final size of features concatenated is [%d x %d]'%(all_feat_concat.shape[0], all_feat_concat.shape[1]))\n",
    "        \n",
    "        return all_feat_concat, feature_inds_defined\n",
    "    \n",
    "    \n",
    "    def reduce_pca(self, features, prf_model_index, fitting_mode=True):\n",
    "        \n",
    "        if torch.is_tensor(features):\n",
    "            features = features.detach().cpu().numpy()\n",
    "            was_tensor=True\n",
    "        else:\n",
    "            was_tensor=False\n",
    "            \n",
    "        n_trials = features.shape[0]\n",
    "        n_features_actual = features.shape[1]\n",
    "        \n",
    "        assert(n_features_actual == self.n_hl_feat_each_prf[prf_model_index])\n",
    "        print('Preparing for PCA: original dims of features:')\n",
    "        print(features.shape)\n",
    "        \n",
    "        if fitting_mode:\n",
    "            \n",
    "            # Going to perform pca on the raw features\n",
    "            # First make sure it hasn't been done yet!\n",
    "            assert(self.n_comp_needed[prf_model_index]==-1) \n",
    "            print('Running PCA...')\n",
    "            pca = decomposition.PCA(n_components = np.min([np.min([self.max_pc_to_retain, n_features_actual]), n_trials]), copy=False)\n",
    "            # normalize the columns first\n",
    "            features_m = np.mean(features, axis=0, keepdims=True) #[:trn_size]\n",
    "            features_s = np.std(features, axis=0, keepdims=True) + 1e-6          \n",
    "            features -= features_m\n",
    "            features /= features_s \n",
    "            self.pca_pre_z_mean[prf_model_index][0:n_features_actual] = features_m\n",
    "            self.pca_pre_z_std[prf_model_index][0:n_features_actual] = features_s\n",
    "            \n",
    "            # Perform PCA to decorrelate feats and reduce dimensionality\n",
    "            scores = pca.fit_transform(features)           \n",
    "            features = None            \n",
    "            wts = pca.components_\n",
    "            ev = pca.explained_variance_\n",
    "            ev = ev/np.sum(ev)*100\n",
    "            # wts/components goes [ncomponents x nfeatures]. \n",
    "            # nfeatures is always actual number of raw features\n",
    "            # ncomponents is min(ntrials, nfeatures)\n",
    "            # to save space, only going to save up to some max number of components.\n",
    "            n_components_actual = np.min([wts.shape[0], self.max_pc_to_retain])\n",
    "            # save a record of the transformation to be used for validating model\n",
    "            self.pca_wts[prf_model_index][0:n_components_actual,0:n_features_actual] = wts[0:n_components_actual,:] \n",
    "            # mean of each feature, nfeatures long - needed to reproduce transformation\n",
    "            self.pca_pre_mean[prf_model_index][0:n_features_actual] = pca.mean_ \n",
    "            # max len of ev is the number of components\n",
    "            self.pct_var_expl[0:n_components_actual,prf_model_index] = ev[0:n_components_actual]  \n",
    "            n_components_reduced = int(np.where(np.cumsum(ev)>self.min_pct_var)[0][0] if np.any(np.cumsum(ev)>self.min_pct_var) else len(ev))\n",
    "            n_components_reduced = np.max([n_components_reduced, 1])\n",
    "            self.n_comp_needed[prf_model_index] = n_components_reduced\n",
    "            print('Retaining %d components to expl %d pct var'%(n_components_reduced, self.min_pct_var))\n",
    "            \n",
    "            assert(n_components_reduced<=self.max_pc_to_retain)            \n",
    "            features_reduced = scores[:,0:n_components_reduced]\n",
    "            \n",
    "        else:\n",
    "            \n",
    "            # This is a validation pass, going to use the pca pars that were computed on training set\n",
    "            # Make sure it has been done already!\n",
    "            assert(self.n_comp_needed[prf_model_index]!=-1)\n",
    "            print('Applying pre-computed PCA matrix...')\n",
    "            # Apply the PCA transformation, just as it was done during training\n",
    "            features -= np.tile(np.expand_dims(self.pca_pre_z_mean[prf_model_index][0:n_features_actual], axis=0), [n_trials, 1])\n",
    "            features /= np.tile(np.expand_dims(self.pca_pre_z_std[prf_model_index][0:n_features_actual], axis=0), [n_trials, 1])\n",
    "            \n",
    "            features_submean = features - np.tile(np.expand_dims(self.pca_pre_mean[prf_model_index][0:n_features_actual], axis=0), [n_trials, 1])\n",
    "            features_reduced = features_submean @ np.transpose(self.pca_wts[prf_model_index][0:self.n_comp_needed[prf_model_index],0:n_features_actual])               \n",
    "                       \n",
    "        features = None\n",
    "        \n",
    "        if was_tensor:\n",
    "            features_reduced = torch.tensor(features_reduced).to(self.device)\n",
    "        \n",
    "        return features_reduced\n",
    "    \n",
    "    \n",
    "    \n",
    "class steerable_pyramid_extractor(nn.Module):\n",
    "    \n",
    "    \"\"\"\n",
    "    Module that utilizes steerable pyramid ( https://pyrtools.readthedocs.io/en/latest/) to extract features.\n",
    "    For a batch of input images, will return all the pyramid coefficients, as well as additional types of feature maps\n",
    "    (i.e. partially reconstructed lowpass images at several frequency levels, upsampled feature maps).\n",
    "    These are used by 'get_higher_order_features' to extract various textural features of the image.\n",
    "    Adapted by MH from code in the library at:\n",
    "    https://github.com/freeman-lab/metamers\n",
    "    \"\"\"\n",
    "    \n",
    "    def __init__(self, pyr_height=4, n_ori=8):\n",
    "        \n",
    "        super(steerable_pyramid_extractor, self).__init__()       \n",
    "        self.n_ori = n_ori\n",
    "        self.pyr_height = pyr_height # how many spatial frequencies?\n",
    "        self.pyr = None\n",
    "        \n",
    "    def forward(self, image_batch, to_torch=False, device=None):\n",
    "        \n",
    "        batch_size = image_batch.shape[0]\n",
    "        t  = time.time()\n",
    "        for ii in range(batch_size):\n",
    "            \n",
    "            # Call the pyramid generation code here, get all features for this image.\n",
    "            pyr = pt.pyramids.SteerablePyramidFreq(image_batch[ii,0,:,:], is_complex=True, height = self.pyr_height, order = self.n_ori-1)\n",
    "            self.pyr = pyr # storing the most recently generated pyramid, in case we need its properties later\n",
    "            \n",
    "            if ii==0:  \n",
    "                \n",
    "                # Initialize all the feature maps we want to store...\n",
    "                fmaps_complex = []\n",
    "                fmaps_coarser_upsampled = []\n",
    "               \n",
    "                # Will generate several low-pass filtered representations of the image - will use these as additional feature maps for \n",
    "                # computing autocorrelations and marginal statistics.\n",
    "                fmaps_lowpass_recon = []\n",
    "                fmaps_lowpass_recon.append(np.zeros((batch_size,1,pyr.pyr_coeffs['residual_lowpass'].shape[0],pyr.pyr_coeffs['residual_lowpass'].shape[1])))\n",
    "               \n",
    "                # Feature maps will be listed from low SF to high SF. Each map stack is size [batch_size x orientations x height x width]\n",
    "                sf_reverse  = self.pyr_height  # need to go backward because pyr comes out in the opposite order from what i want\n",
    "                for sf in range(self.pyr_height):\n",
    "                    sf_reverse -= 1\n",
    "                    fmaps_complex.append(np.zeros((batch_size, self.n_ori,pyr.pyr_coeffs[sf_reverse,0].shape[0],\\\n",
    "                                                   pyr.pyr_coeffs[sf_reverse,0].shape[1]), dtype=complex))\n",
    "                    \n",
    "                    # Initialize \"parent\" representations for this level (map from the next coarsest resolution, upsampled to the finer scale)\n",
    "                    # To be used for cross-scale comparisons.\n",
    "                    if sf==0:\n",
    "                        # this will be the lowpass residual (non-oriented).\n",
    "                        fmaps_coarser_upsampled.append(np.zeros((batch_size, 1,pyr.pyr_coeffs[sf_reverse,0].shape[0],\\\n",
    "                                                   pyr.pyr_coeffs[sf_reverse,0].shape[1]), dtype=complex))                     \n",
    "                    else:\n",
    "                        fmaps_coarser_upsampled.append(np.zeros((batch_size, self.n_ori,pyr.pyr_coeffs[sf_reverse,0].shape[0],\\\n",
    "                                                   pyr.pyr_coeffs[sf_reverse,0].shape[1]), dtype=complex))     \n",
    "                        \n",
    "                    fmaps_lowpass_recon.append(np.zeros((batch_size,1,pyr.pyr_coeffs[sf_reverse,0].shape[0],\\\n",
    "                                                         pyr.pyr_coeffs[sf_reverse,0].shape[1])))\n",
    "\n",
    "                fmaps_resid = []    \n",
    "                fmaps_resid.append(np.zeros((batch_size,1,pyr.pyr_coeffs['residual_lowpass'].shape[0],pyr.pyr_coeffs['residual_lowpass'].shape[1])))\n",
    "                fmaps_resid.append(np.zeros((batch_size,1,pyr.pyr_coeffs['residual_highpass'].shape[0],pyr.pyr_coeffs['residual_highpass'].shape[1])))\n",
    "\n",
    "            # First get lowpass filtered representation of the image\n",
    "            lowpass_recon = pyr.recon_pyr(levels='residual_lowpass', bands='all', twidth=1) \n",
    "            scale_by = pyr.pyr_size[(0,0)][0]/pyr.pyr_size['residual_lowpass'][0]\n",
    "            lowpass_recon = texture_utils.shrink(lowpass_recon, scale_by)*scale_by**2\n",
    "            fmaps_lowpass_recon[0][ii,0,:,:] = lowpass_recon\n",
    "            \n",
    "            # Get the \"parent\" for lowest SF level (upsample the residual lowpass)\n",
    "#             print(pyr.pyr_coeffs['residual_lowpass'].shape)\n",
    "            upsampled = texture_utils.expand(pyr.pyr_coeffs['residual_lowpass'], factor=2)/2**2\n",
    "#             print(upsampled.shape)\n",
    "            fmaps_coarser_upsampled[0][ii,0,:,:] = upsampled\n",
    "            \n",
    "            # Feature maps will be listed from low SF to high SF. Each map stack is size [batch_size x orientations x height x width]\n",
    "            sf_reverse  = self.pyr_height # need to go backward because pyr comes out in the opposite order from what i want\n",
    "            for sf in range(self.pyr_height):\n",
    "                sf_reverse -= 1\n",
    "                for oo in range(self.n_ori):     \n",
    "\n",
    "                    # These are the main feature maps of the pyramid - one feature map per scale per orientation band.\n",
    "                    # Complex number, can take the magnitude or real/imaginary part to simulate complex or simple cell-type responses.\n",
    "                    fmaps_complex[sf][ii,oo,:,:] = pyr.pyr_coeffs[(sf_reverse,oo)]\n",
    "                    \n",
    "                    if sf<self.pyr_height-1:\n",
    "                        # Store this as a \"parent\" representation, will be used for the next most fine SF level (i.e. sf+1)\n",
    "                        upsampled = texture_utils.expand(pyr.pyr_coeffs[(sf_reverse,oo)], factor=2)/2**2\n",
    "                        # Double the phase (angle of the complex number); note this doesn't affect the magnitude. \n",
    "                        phase_doubled = texture_utils.double_phase(upsampled)\n",
    "                        fmaps_coarser_upsampled[sf+1][ii,oo,:,:] = phase_doubled\n",
    "                   \n",
    "                        \n",
    "                # Get the bandpass filtered representation for this scale\n",
    "                bandpass_image = np.real(pyr.recon_pyr(levels=sf_reverse, bands='all', twidth=1))\n",
    "                scale_by = pyr.pyr_size[(0,0)][0]/pyr.pyr_size[(sf_reverse,0)][0]\n",
    "                bandpass_image = texture_utils.shrink(bandpass_image, factor=scale_by)*scale_by**2\n",
    "                \n",
    "                # Add it onto the lowpass_recon (gets modified every loop iteration)\n",
    "                lowpass_recon = texture_utils.expand(lowpass_recon, factor=2)/2**2\n",
    "                lowpass_recon = lowpass_recon + bandpass_image\n",
    "                fmaps_lowpass_recon[sf+1][ii,0,:,:] = lowpass_recon\n",
    "            \n",
    "\n",
    "            # Grab residual feature maps, the lowest and highest levels of the pyramid\n",
    "            fmaps_resid[0][ii,0,:,:] = pyr.pyr_coeffs['residual_lowpass']\n",
    "            fmaps_resid[1][ii,0,:,:] = pyr.pyr_coeffs['residual_highpass']\n",
    "            \n",
    "            \n",
    "        elapsed = time.time() - t\n",
    "#         print('time elapsed: %.5f s'%elapsed)\n",
    "\n",
    "        if to_torch:            \n",
    "            fmaps_complex = [torch.from_numpy(fm).to(device) for fm in fmaps_complex]            \n",
    "            fmaps_resid = [torch_utils._to_torch(fm, device=device) for fm in fmaps_resid]\n",
    "            fmaps_lowpass_recon = [torch_utils._to_torch(fm, device=device) for fm in fmaps_lowpass_recon]                      \n",
    "            fmaps_coarser_upsampled = [torch.from_numpy(fm).to(device) for fm in fmaps_coarser_upsampled]\n",
    "\n",
    "        return fmaps_complex, fmaps_resid, fmaps_lowpass_recon, fmaps_coarser_upsampled\n",
    "    \n",
    "   \n",
    "\n",
    "\n",
    "def get_higher_order_features(fmaps, images, prf_params, sample_batch_size=20, n_prf_sd_out=2, aperture=1.0, device=None, keep_orig_shape=False):\n",
    "\n",
    "    \"\"\"\n",
    "    Compute higher order texture features for a batch of images.\n",
    "    Input the module that defines steerable pyramid (i.e. 'steerable_pyramid_extractor'), and desired prf parameters.\n",
    "    Returns arrays of each higher order feature.  \n",
    "    Adapted by MH from code in the library at:\n",
    "    https://github.com/freeman-lab/metamers\n",
    "    \"\"\"\n",
    "\n",
    "    fmaps_complex_all, fmaps_resid_all, fmaps_lowpass_recon_all, fmaps_coarser_upsampled_all = fmaps\n",
    "   \n",
    "    n_trials = fmaps_complex_all[0].shape[0]\n",
    "    x,y,sigma = prf_params\n",
    "\n",
    "    n_sf = len(fmaps_complex_all)\n",
    "    n_ori = fmaps_complex_all[0].shape[1]\n",
    "        \n",
    "    # all pairs of different orientation channels.\n",
    "    ori_pairs = np.vstack([[[oo1, oo2] for oo2 in np.arange(oo1+1, n_ori)] for oo1 in range(n_ori) if oo1<n_ori-1])\n",
    "    n_ori_pairs = np.shape(ori_pairs)[0]\n",
    "\n",
    "    # mean, variance, skew, kurtosis, min, max\n",
    "    pixel_stats = torch.zeros((n_trials,6), device=device)\n",
    "\n",
    "    # Mean magnitude each scale/orientation, within the prf.\n",
    "    mean_magnitudes = torch.zeros((n_trials, n_sf, n_ori), device=device)\n",
    "    mean_realparts = torch.zeros((n_trials, n_sf, n_ori), device=device)\n",
    "\n",
    "    # Store the skew and kurtosis of the lowpass reconstructions at each scale\n",
    "    marginal_stats_lowpass_recons = torch.zeros((n_trials, n_sf+1, 2), device=device)\n",
    "\n",
    "    # Variance of the highpass residual\n",
    "    variance_highpass_resid = torch.zeros((n_trials, 1), device=device)\n",
    "\n",
    "    # how many unique autocorrelation values will we get out for each feature map? These will be pre-defined, same for every pRF.\n",
    "    # but different for different scales of feature maps.\n",
    "    # note also that for bigger prfs, there will potentially be more pixels that contribute to the autocorrelation computation - \n",
    "    # but a fixed portion of the matrix is returned.\n",
    "    autocorr_output_pix=np.array([3,3,5,7,7])\n",
    "    n_autocorr_vals = ((autocorr_output_pix**2+1)/2).astype('int')\n",
    "    max_autocorr_vals = np.max(n_autocorr_vals)\n",
    "    \n",
    "    # Spatial autocorrelation of the magnitude of spectral coefficients, within each scale and orientation.\n",
    "    magnitude_feature_autocorrs = torch.zeros([n_trials, n_sf, n_ori, max_autocorr_vals], device=device) # this is ace in the matlab code\n",
    "\n",
    "    # Spatial autocorrelation of the partially-reconstructed lowpass image representation at each scale\n",
    "    lowpass_recon_autocorrs = torch.zeros([n_trials, n_sf+1, max_autocorr_vals], device=device) # this is acr in the matlab code\n",
    "\n",
    "    # Spatial autocorrelation of the highpass residual\n",
    "    highpass_resid_autocorrs = torch.zeros([n_trials, 1, max_autocorr_vals], device=device)\n",
    "\n",
    "    # Within scale correlations of feature maps: compare feature map magnitudes for different orientations.\n",
    "    magnitude_within_scale_crosscorrs = torch.zeros([n_trials, n_sf, n_ori_pairs], device=device) # this is C0 in the matlab code\n",
    "    # Using the real parts.\n",
    "    real_within_scale_crosscorrs = torch.zeros([n_trials, n_sf, n_ori_pairs], device=device) # this is Cr0 in the matlab code\n",
    "\n",
    "    # Cross-scale correlations of feature maps: always comparing each scale to an up-sampled version of the scale coarser than it.\n",
    "    magnitude_across_scale_crosscorrs = torch.zeros([n_trials, n_sf-1, n_ori, n_ori], device=device) # this is Cx0 in the matlab code\n",
    "\n",
    "    # Cross-scale correlations, using the real and imaginary parts separately. The phase (angle) of the coarser map is doubled before computing these.\n",
    "    real_imag_across_scale_crosscorrs = torch.zeros([n_trials, n_sf-1, 2, n_ori, n_ori], device=device) # this is Crx0 in the matlab code\n",
    "\n",
    "    # These are comparisons with spatially shifted versions of the lowpass residual. Not sure we need this...\n",
    "    n_spatshifts = 5;\n",
    "    real_spatshift_within_scale_crosscorrs = torch.zeros([n_trials, 1, n_spatshifts, n_spatshifts], device=device)# this is Cr0 in the matlab code\n",
    "    real_spatshift_across_scale_crosscorrs = torch.zeros([n_trials, 1, n_ori, n_spatshifts], device=device)  # this is Crx0 in the matlab code\n",
    "\n",
    "    # Looping over batches of trials to compute everything of interest.\n",
    "    bb=-1\n",
    "    for batch_inds, batch_size_actual in numpy_utils.iterate_range(0, n_trials, sample_batch_size):\n",
    "        bb=bb+1\n",
    "\n",
    "        fmaps_complex = [torch.from_numpy(fmaps_complex_all[ii][batch_inds,:,:,:]).to(device) for ii in range(len(fmaps_complex_all))]\n",
    "        fmaps_resid = [torch.from_numpy(fmaps_resid_all[ii][batch_inds,:,:,:]).float().to(device) for ii in range(len(fmaps_resid_all))]\n",
    "        fmaps_lowpass_recon = [torch.from_numpy(fmaps_lowpass_recon_all[ii][batch_inds,:,:,:]).float().to(device) for ii in range(len(fmaps_lowpass_recon_all))]\n",
    "        fmaps_coarser_upsampled = [torch.from_numpy(fmaps_coarser_upsampled_all[ii][batch_inds,:,:,:]).to(device) for ii in range(len(fmaps_coarser_upsampled_all))]\n",
    "\n",
    "        if bb==0:\n",
    "            npix_each_scale = [fmaps_complex_all[sc].shape[2] for sc in np.arange(n_sf-1,-1,-1)]\n",
    "            npix_each_scale.append(fmaps_resid_all[0].shape[2])\n",
    "            npix_each_scale.reverse()\n",
    "\n",
    "        # First working with the finest scale (original image)\n",
    "        n_pix = npix_each_scale[-1]      \n",
    "        g = prf_utils.make_gaussian_mass_stack([x], [y], [sigma], n_pix=n_pix, size=aperture, dtype=np.float32)\n",
    "        spatial_weights = g[2][0]\n",
    "        patch_bbox_square = texture_utils.get_bbox_from_prf(prf_params, spatial_weights.shape, n_prf_sd_out, force_square=True, min_pix=autocorr_output_pix[-1])\n",
    "\n",
    "        # Gather pixel-wise statistics here \n",
    "        wmean, wvar, wskew, wkurt = texture_utils.get_weighted_pixel_features(images[batch_inds], spatial_weights, device=device)\n",
    "        pixel_stats[batch_inds,0] = torch.squeeze(wmean)\n",
    "        pixel_stats[batch_inds,1] = torch.squeeze(wvar)\n",
    "        pixel_stats[batch_inds,2] = torch.squeeze(wskew)\n",
    "        pixel_stats[batch_inds,3] = torch.squeeze(wkurt)\n",
    "        pixel_stats[batch_inds,4] = torch_utils._to_torch(np.squeeze(np.min(np.min(images[batch_inds], axis=3), axis=2)), device=device)\n",
    "        pixel_stats[batch_inds,5] = torch_utils._to_torch(np.squeeze(np.max(np.max(images[batch_inds], axis=3), axis=2)), device=device)\n",
    "\n",
    "        # Autocorrs of the highpass residual\n",
    "        highpass_resid = fmaps_resid[1]\n",
    "        auto_corr = texture_utils.weighted_auto_corr_2d(highpass_resid, spatial_weights, patch_bbox=patch_bbox_square, output_pix = autocorr_output_pix[-1], subtract_patch_mean = True, enforce_size=True, device=device)       \n",
    "        highpass_resid_autocorrs[batch_inds,0,0:n_autocorr_vals[-1]] = torch.reshape(texture_utils.unique_autocorrs(auto_corr), [batch_size_actual, n_autocorr_vals[-1]])\n",
    "\n",
    "        # Variance of the highpass residual\n",
    "        m, wvar, s, k = texture_utils.get_weighted_pixel_features(highpass_resid, spatial_weights, device=device)\n",
    "        variance_highpass_resid[batch_inds,0] = torch.squeeze(wvar)\n",
    "\n",
    "        # Next work with the low-pass reconstruction (most coarse scale, smallest npix)\n",
    "        n_pix = npix_each_scale[0]       \n",
    "        g = prf_utils.make_gaussian_mass_stack([x], [y], [sigma], n_pix=n_pix, size=aperture, dtype=np.float32)\n",
    "        spatial_weights = g[2][0]\n",
    "        patch_bbox_square = texture_utils.get_bbox_from_prf(prf_params, spatial_weights.shape, n_prf_sd_out, force_square=True, min_pix=autocorr_output_pix[0])\n",
    "\n",
    "        lowpass_rec = fmaps_lowpass_recon[0]\n",
    "\n",
    "        # Marginal stats of low-pass reconstruction\n",
    "        m, v, wskew, wkurt = texture_utils.get_weighted_pixel_features(lowpass_rec, spatial_weights, device=device)\n",
    "        marginal_stats_lowpass_recons[batch_inds,0,0] = torch.squeeze(wskew)\n",
    "        marginal_stats_lowpass_recons[batch_inds,0,1] = torch.squeeze(wkurt)\n",
    "\n",
    "        # Autocorrs of low-pass reconstruction \n",
    "        auto_corr = texture_utils.weighted_auto_corr_2d(lowpass_rec, spatial_weights, patch_bbox=patch_bbox_square, output_pix = autocorr_output_pix[0], subtract_patch_mean = True, enforce_size=True, device=device)       \n",
    "        lowpass_recon_autocorrs[batch_inds,0,0:n_autocorr_vals[0]] = torch.reshape(texture_utils.unique_autocorrs(auto_corr), [batch_size_actual, n_autocorr_vals[0]])\n",
    "\n",
    "        # Looping over spatial frequency/scale\n",
    "        # Loop goes low SF (smallest npix) to higher SF (largest npix)\n",
    "        for ff in range(n_sf):\n",
    "         \n",
    "            # Scale specific things - get the prf at this resolution of interest    \n",
    "            n_pix = npix_each_scale[ff+1]           \n",
    "            g = prf_utils.make_gaussian_mass_stack([x], [y], [sigma], n_pix=n_pix, size=aperture, dtype=np.float32)\n",
    "            spatial_weights = g[2][0]\n",
    "            patch_bbox_square = texture_utils.get_bbox_from_prf(prf_params, spatial_weights.shape, n_prf_sd_out, force_square=True, min_pix=autocorr_output_pix[1+ff])\n",
    "\n",
    "            # Get the low-pass reconstruction at this scale\n",
    "            lowpass_summed = fmaps_lowpass_recon[ff+1]  # this is summed over this scale band and those below it\n",
    "            m, v, wskew, wkurt = texture_utils.get_weighted_pixel_features(lowpass_summed, spatial_weights, device=device)\n",
    "            marginal_stats_lowpass_recons[batch_inds,ff+1,0] = torch.squeeze(wskew)\n",
    "            marginal_stats_lowpass_recons[batch_inds,ff+1,1] = torch.squeeze(wkurt)\n",
    "\n",
    "            # Autocorrelations of low-pass reconstruction (at this scale)\n",
    "            auto_corr = texture_utils.weighted_auto_corr_2d(lowpass_summed, spatial_weights, patch_bbox=patch_bbox_square, output_pix = autocorr_output_pix[ff+1], subtract_patch_mean = True, enforce_size=True, device=device)       \n",
    "            lowpass_recon_autocorrs[batch_inds,ff+1,0:n_autocorr_vals[1+ff]] = torch.reshape(texture_utils.unique_autocorrs(auto_corr), [batch_size_actual, n_autocorr_vals[1+ff]])\n",
    "\n",
    "            # Loop over orientation channels\n",
    "            xx=-1\n",
    "            for oo1 in range(n_ori):       \n",
    "\n",
    "                # Magnitude of the complex coefficients; complex cell-like responses\n",
    "                mag1 = torch.abs(fmaps_complex[ff][:,oo1,:,:].view([batch_size_actual,1,n_pix,n_pix])).float()\n",
    "\n",
    "                # The mean magnitudes here are basically second-order spectral statistics, within the specified spatial region defined by weights\n",
    "                wmean, v, s, k = texture_utils.get_weighted_pixel_features(mag1, spatial_weights/np.sum(spatial_weights), device=device)\n",
    "                mean_magnitudes[batch_inds, ff, oo1] = torch.squeeze(wmean)\n",
    "                \n",
    "                mag1 = mag1 - torch.tile(torch.mean(torch.mean(mag1, axis=3, keepdim=True), axis=2, keepdim=True), [1,1,n_pix, n_pix])\n",
    "\n",
    "                # Real parts of the complex coefficients; simple cell-like responses\n",
    "                real1 = torch.real(fmaps_complex[ff][:,oo1,:,:].view([batch_size_actual,1,n_pix,n_pix])).float()    \n",
    "                \n",
    "                # Average of the real parts within the specified spatial region\n",
    "                wmean, v, s, k = texture_utils.get_weighted_pixel_features(real1, spatial_weights/np.sum(spatial_weights), device=device)\n",
    "                mean_realparts[batch_inds, ff, oo1] = torch.squeeze(wmean)\n",
    "\n",
    "                # Complex cell autocorrelation (correlation w spatially shifted versions of itself)     \n",
    "                auto_corr = texture_utils.weighted_auto_corr_2d(mag1, spatial_weights, patch_bbox=patch_bbox_square, output_pix = autocorr_output_pix[ff+1], subtract_patch_mean = True, enforce_size=True, device=device)       \n",
    "                magnitude_feature_autocorrs[batch_inds,ff,oo1,0:n_autocorr_vals[1+ff]] = torch.reshape(texture_utils.unique_autocorrs(auto_corr), [batch_size_actual, n_autocorr_vals[1+ff]])\n",
    "\n",
    "                # Within-scale correlations - comparing resp at orient==oo1 to responses at all other orientations, same scale.\n",
    "                for oo2 in np.arange(oo1+1, n_ori):            \n",
    "                    xx = xx+1 \n",
    "                    assert(oo1==ori_pairs[xx,0] and oo2==ori_pairs[xx,1])\n",
    "\n",
    "                    # Magnitude at the other orientation (oo2)\n",
    "                    mag2 = torch.abs(fmaps_complex[ff][:,oo2,:,:].view([batch_size_actual,1,n_pix,n_pix])).float()      \n",
    "                    mag2 = mag2 - torch.tile(torch.mean(torch.mean(mag2, axis=3, keepdim=True), axis=2, keepdim=True), [1,1,n_pix, n_pix])\n",
    "\n",
    "                    # Correlate the magnitude feature maps for the two orientations, within scale\n",
    "                    cross_corr = texture_utils.weighted_cross_corr_2d(mag1, mag2, spatial_weights, patch_bbox=None, subtract_patch_mean = True, device=device)/(n_pix*n_pix)\n",
    "                    magnitude_within_scale_crosscorrs[batch_inds,ff,xx] = torch.squeeze(cross_corr);\n",
    "\n",
    "                    # Real part at the other orientation (oo2)\n",
    "                    real2 = torch.real(fmaps_complex[ff][:,oo2,:,:].view([batch_size_actual,1,n_pix,n_pix])).float()                     \n",
    "\n",
    "                    # Correlate the real feature maps for the two orientations, within scale\n",
    "                    cross_corr = texture_utils.weighted_cross_corr_2d(real1, real2, spatial_weights, patch_bbox=None, subtract_patch_mean = True, device=device)/(n_pix*n_pix)\n",
    "                    real_within_scale_crosscorrs[batch_inds,ff,xx] = torch.squeeze(cross_corr);\n",
    "\n",
    "                # Cross-scale correlations - for these we care about same ori to same ori, so looping over all orientations.\n",
    "                # Going to compare coefficients at the current scale to those at a coarser scale (ff-1)\n",
    "                # If we're at first scale (ff=0), then will use a different method.\n",
    "                if ff>0:\n",
    "\n",
    "                    for oo2 in range(n_ori):\n",
    "\n",
    "                        # Get magnitude of coefficients for neighboring (coarser) scale                        \n",
    "                        mag_coarser2 = torch.abs(fmaps_coarser_upsampled[ff][:,oo2,:,:].view([batch_size_actual,1,n_pix,n_pix])).float()\n",
    "                        mag_coarser2 = mag_coarser2 - torch.tile(torch.mean(torch.mean(mag_coarser2, axis=3, keepdim=True), axis=2, keepdim=True), [1,1,n_pix, n_pix])\n",
    "\n",
    "                        # Correlate this with the finer scale\n",
    "                        cross_corr = texture_utils.weighted_cross_corr_2d(mag1, mag_coarser2, spatial_weights, patch_bbox=None, subtract_patch_mean = True, device=device)/(n_pix*n_pix)            \n",
    "                        magnitude_across_scale_crosscorrs[batch_inds,ff-1,oo1,oo2] = torch.squeeze(cross_corr)\n",
    "\n",
    "                        # Get the real and imaginary parts at coarser scale\n",
    "                        real_coarser2 = torch.real(fmaps_coarser_upsampled[ff][:,oo2,:,:].view([batch_size_actual,1,n_pix,n_pix])).float()\n",
    "                        imag_coarser2 = torch.imag(fmaps_coarser_upsampled[ff][:,oo2,:,:].view([batch_size_actual,1,n_pix,n_pix])).float()\n",
    "\n",
    "                        # Correlate each of these with real part at finer scale\n",
    "                        cross_corr = texture_utils.weighted_cross_corr_2d(real1, real_coarser2, spatial_weights, patch_bbox=None, subtract_patch_mean = True, device=device)/(n_pix*n_pix) \n",
    "                        real_imag_across_scale_crosscorrs[batch_inds,ff-1,0,oo1,oo2] = torch.squeeze(cross_corr)\n",
    "\n",
    "                        cross_corr = texture_utils.weighted_cross_corr_2d(real1, imag_coarser2, spatial_weights, patch_bbox=None, subtract_patch_mean = True, device=device)/(n_pix*n_pix) \n",
    "                        real_imag_across_scale_crosscorrs[batch_inds,ff-1,1,oo1,oo2] = torch.squeeze(cross_corr)\n",
    "\n",
    "                else:\n",
    "\n",
    "                    # instead of different orientations for the \"parent\" level here, have spatially shifted versions.\n",
    "                    real_coarser = torch.real(fmaps_coarser_upsampled[ff][:,0,:,:].view([batch_size_actual,1,n_pix,n_pix])).float()\n",
    "\n",
    "                    shifts = [[0,0],[1,3],[-1,3],[1,2],[-1,2]]\n",
    "                    for si1, shift1 in enumerate(shifts):\n",
    "\n",
    "                        ss,dd = shift1\n",
    "                        real_coarser_shifted1 = torch.roll(real_coarser, shifts=ss, dims=dd)               \n",
    "                        # Real part at the finer scale compared to spatially shifted at the coarser scale\n",
    "                        cross_corr = texture_utils.weighted_cross_corr_2d(real1, real_coarser_shifted1, spatial_weights, patch_bbox=None, subtract_patch_mean = True, device=device)/(n_pix*n_pix) \n",
    "                        real_spatshift_across_scale_crosscorrs[batch_inds,ff,oo1,si1] = torch.squeeze(cross_corr)\n",
    "\n",
    "                        for si2 in np.arange(si1+1, n_spatshifts):\n",
    "\n",
    "                            ss,dd = shifts[si2]\n",
    "                            real_coarser_shifted2 = torch.roll(real_coarser, shifts=ss, dims=dd) \n",
    "                            # Real parts at same scale, comparing spatially shifted.\n",
    "                            cross_corr = texture_utils.weighted_cross_corr_2d(real_coarser_shifted1, real_coarser_shifted2, spatial_weights, patch_bbox=None, subtract_patch_mean = True, device=device)/(n_pix*n_pix) \n",
    "                            real_spatshift_within_scale_crosscorrs[batch_inds,ff,si1,si2] = torch.squeeze(cross_corr)\n",
    "\n",
    "            \n",
    "    if not keep_orig_shape:\n",
    "        # Reshape everything to [ntrials x nfeatures]\n",
    "\n",
    "        mean_magnitudes = torch.reshape(mean_magnitudes, [n_trials, -1])\n",
    "        mean_realparts = torch.reshape(mean_realparts, [n_trials, -1])\n",
    "        marginal_stats_lowpass_recons = torch.reshape(marginal_stats_lowpass_recons, [n_trials, -1])\n",
    "        variance_highpass_resid =torch.reshape(variance_highpass_resid, [n_trials, -1])\n",
    "\n",
    "        magnitude_feature_autocorrs = torch.reshape(magnitude_feature_autocorrs, [n_trials, -1])\n",
    "        # take out the zero columns, which happen because of different size autocorr outputs.\n",
    "        magnitude_feature_autocorrs = magnitude_feature_autocorrs[:,torch.sum(magnitude_feature_autocorrs, axis=0)!=0]\n",
    "        assert(magnitude_feature_autocorrs.shape[1]==np.sum(n_autocorr_vals[1:]*n_ori))\n",
    "\n",
    "        lowpass_recon_autocorrs = torch.reshape(lowpass_recon_autocorrs, [n_trials, -1])\n",
    "        lowpass_recon_autocorrs = lowpass_recon_autocorrs[:,torch.sum(lowpass_recon_autocorrs, axis=0)!=0]\n",
    "        assert(lowpass_recon_autocorrs.shape[1]==np.sum(n_autocorr_vals))\n",
    "\n",
    "        highpass_resid_autocorrs = torch.reshape(highpass_resid_autocorrs, [n_trials, -1])\n",
    "\n",
    "        magnitude_within_scale_crosscorrs = torch.reshape(magnitude_within_scale_crosscorrs, [n_trials, -1])\n",
    "        real_within_scale_crosscorrs = torch.reshape(real_within_scale_crosscorrs, [n_trials, -1])\n",
    "        magnitude_across_scale_crosscorrs = torch.reshape(magnitude_across_scale_crosscorrs, [n_trials, -1])\n",
    "        real_imag_across_scale_crosscorrs = torch.reshape(real_imag_across_scale_crosscorrs, [n_trials, -1])\n",
    "        real_spatshift_within_scale_crosscorrs = torch.reshape(real_spatshift_within_scale_crosscorrs, [n_trials, -1])\n",
    "\n",
    "        real_spatshift_within_scale_crosscorrs = real_spatshift_within_scale_crosscorrs[:,torch.sum(real_spatshift_within_scale_crosscorrs, axis=0)!=0]\n",
    "        assert(real_spatshift_within_scale_crosscorrs.shape[1]==np.sum(np.arange(1,n_spatshifts)))\n",
    "\n",
    "        real_spatshift_across_scale_crosscorrs = torch.reshape(real_spatshift_across_scale_crosscorrs, [n_trials, -1])\n",
    "\n",
    "        \n",
    "    return pixel_stats, mean_magnitudes, mean_realparts, marginal_stats_lowpass_recons, variance_highpass_resid, \\\n",
    "            magnitude_feature_autocorrs, lowpass_recon_autocorrs, highpass_resid_autocorrs, \\\n",
    "            magnitude_within_scale_crosscorrs, real_within_scale_crosscorrs, magnitude_across_scale_crosscorrs, real_imag_across_scale_crosscorrs, \\\n",
    "            real_spatshift_within_scale_crosscorrs, real_spatshift_across_scale_crosscorrs\n",
    "\n"
   ]
  },
  {
   "cell_type": "code",
   "execution_count": 6,
   "id": "c55cbb18",
   "metadata": {},
   "outputs": [],
   "source": [
    "vind = 10315"
   ]
  },
  {
   "cell_type": "code",
   "execution_count": 6,
   "id": "70c37f63",
   "metadata": {},
   "outputs": [
    {
     "data": {
      "text/plain": [
       "(688, 14913)"
      ]
     },
     "execution_count": 6,
     "metadata": {},
     "output_type": "execute_result"
    }
   ],
   "source": [
    "trn_voxel_data.shape"
   ]
  },
  {
   "cell_type": "code",
   "execution_count": 10,
   "id": "8c34ac7b",
   "metadata": {},
   "outputs": [
    {
     "name": "stdout",
     "output_type": "stream",
     "text": [
      "dtype = <class 'numpy.float32'>\n",
      "device = cpu:0\n",
      "trn_size = 6122 (90.0%)\n",
      "Seeding random number generator: seed is 301725\n",
      "Initializing for fitting\n",
      "Clearing precomputed features from memory.\n",
      "Initializing for fitting\n",
      "Clearing features from memory\n",
      "---------------------------------------\n",
      "\n",
      "\n",
      "Getting features for prf 353: [x,y,sigma] is [0.20 0.43 0.0400]\n",
      "Loading pre-computed features for models [350 - 399] from /user_data/mmhender/features/pyramid_texture/S1_features_each_prf_4ori_4sf.h5py\n",
      "Took 106.04734 seconds to load file\n",
      "Index into batch for prf 353: 3\n",
      "Size of features array for this image set and prf is:\n",
      "(6803, 641)\n",
      "Final size of features concatenated is [6803 x 641]\n",
      "Feature types included are:\n",
      "['pixel_stats', 'mean_magnitudes', 'mean_realparts', 'marginal_stats_lowpass_recons', 'variance_highpass_resid', 'magnitude_feature_autocorrs', 'lowpass_recon_autocorrs', 'highpass_resid_autocorrs', 'magnitude_within_scale_crosscorrs', 'real_within_scale_crosscorrs', 'magnitude_across_scale_crosscorrs', 'real_imag_across_scale_crosscorrs', 'real_spatshift_within_scale_crosscorrs', 'real_spatshift_across_scale_crosscorrs']\n",
      "Final size of features concatenated is [6803 x 641]\n",
      "Final size of features concatenated is [6803 x 641]\n",
      "Loading pre-computed features from /user_data/mmhender/features/sketch_tokens/S1_features_each_prf.h5py\n",
      "Took 30.17881 seconds to load file\n",
      "Size of features array for this image set is:\n",
      "(6803, 151, 875)\n",
      "Final size of feature matrix is:\n",
      "(6803, 151)\n",
      "\n",
      "Fitting version 0 of 7: full_combined_model, \n",
      "fitting model  353 of 875 , voxels [     0:1     ] of 2\n",
      "Fitting version 1 of 7: just_pyramid_texture, \n",
      "fitting model  353 of 875 , voxels [     0:1     ] of 2\n",
      "Fitting version 2 of 7: pyramid_texture_just_lower-level_no_other_modules, \n",
      "fitting model  353 of 875 , voxels [     0:1     ] of 2\n",
      "Fitting version 3 of 7: pyramid_texture_just_higher-level_no_other_modules, \n",
      "fitting model  353 of 875 , voxels [     0:1     ] of 2\n",
      "Fitting version 4 of 7: pyramid_texture_just_lower-level_plus_other_modules, \n",
      "fitting model  353 of 875 , voxels [     0:1     ] of 2\n",
      "Fitting version 5 of 7: pyramid_texture_just_higher-level_plus_other_modules, \n",
      "fitting model  353 of 875 , voxels [     0:1     ] of 2\n",
      "Fitting version 6 of 7: just_sketch_tokens, \n",
      "fitting model  353 of 875 , voxels [     0:1     ] of 2\n",
      "---------------------------------------\n",
      "total time = 186.528431s\n",
      "total throughput = 93.264216s/voxel\n",
      "voxel throughput = 0.153358s/voxel\n",
      "setup throughput = 0.212825s/model\n",
      "Clearing precomputed features from memory.\n",
      "Clearing features from memory\n"
     ]
    }
   ],
   "source": [
    "# add an intercept\n",
    "vinds2use = np.arange(vind,vind+2)\n",
    "add_bias=True\n",
    "shuff_rnd_seed = 301725\n",
    "# determines whether to shuffle before separating the nested heldout data for lambda and param selection. \n",
    "# always using true.\n",
    "shuffle=True \n",
    "debug=True\n",
    "best_losses, best_lambdas, best_params, best_train_preds = fit_fwrf_model(trn_stim_data, trn_voxel_data[:,vinds2use], \\\n",
    "                                               _feature_extractor, models, \\\n",
    "                                               lambdas, zscore=zscore_features, add_bias=add_bias, \\\n",
    "                                               voxel_batch_size=voxel_batch_size, holdout_size=holdout_size, \\\n",
    "                                               shuffle=shuffle, shuff_rnd_seed=shuff_rnd_seed, device=device, \\\n",
    "                                               dtype=fpX, debug=debug)\n",
    "trn_voxel_data_pred = best_train_preds\n"
   ]
  },
  {
   "cell_type": "code",
   "execution_count": 26,
   "id": "1ec46e13",
   "metadata": {},
   "outputs": [
    {
     "data": {
      "text/plain": [
       "(2, 688, 7)"
      ]
     },
     "execution_count": 26,
     "metadata": {},
     "output_type": "execute_result"
    }
   ],
   "source": [
    "best_train_preds.shape"
   ]
  },
  {
   "cell_type": "code",
   "execution_count": 27,
   "id": "d6b028b2",
   "metadata": {},
   "outputs": [
    {
     "data": {
      "text/plain": [
       "(2, 688, 7)"
      ]
     },
     "execution_count": 27,
     "metadata": {},
     "output_type": "execute_result"
    }
   ],
   "source": [
    "trn_voxel_data_pred.shape"
   ]
  },
  {
   "cell_type": "code",
   "execution_count": 13,
   "id": "9927e117",
   "metadata": {},
   "outputs": [],
   "source": [
    "partial_masks, partial_version_names = _feature_extractor.get_partial_versions()"
   ]
  },
  {
   "cell_type": "code",
   "execution_count": 14,
   "id": "6fd9aaf9",
   "metadata": {},
   "outputs": [],
   "source": [
    "train_r2 = np.array([fwrf_predict.get_r2(trn_voxel_data[:,vinds2use], trn_voxel_data_pred[:,:,pp].T, axis=0) \\\n",
    "                     for pp in range(len(partial_version_names))]).T\n",
    "train_r2 = np.nan_to_num(train_r2)"
   ]
  },
  {
   "cell_type": "code",
   "execution_count": 15,
   "id": "f6dfc603",
   "metadata": {},
   "outputs": [
    {
     "data": {
      "text/plain": [
       "array([[0.04449748, 0.03165827, 0.01627288, 0.02577052, 0.01714725,\n",
       "        0.03935082, 0.01776428],\n",
       "       [0.039051  , 0.04142356, 0.01725943, 0.03289244, 0.0246268 ,\n",
       "        0.03337839, 0.00946633]])"
      ]
     },
     "execution_count": 15,
     "metadata": {},
     "output_type": "execute_result"
    }
   ],
   "source": [
    "train_r2"
   ]
  },
  {
   "cell_type": "code",
   "execution_count": null,
   "id": "362c67bf",
   "metadata": {},
   "outputs": [],
   "source": []
  },
  {
   "cell_type": "code",
   "execution_count": 11,
   "id": "360b4062",
   "metadata": {},
   "outputs": [
    {
     "data": {
      "text/plain": [
       "array([[ 1.6401262e-03,  5.0977776e-03, -7.4546100e-03, -9.8972814e-03,\n",
       "        -8.1759216e-03,  2.8009588e-02, -1.0462080e-02,  5.7993475e-03,\n",
       "         1.7332295e-02, -2.1222142e-05],\n",
       "       [ 4.2299046e-03, -1.9357121e-03, -1.4750212e-03,  1.3257230e-03,\n",
       "        -8.7215919e-03,  2.9065229e-02,  6.7223766e-04, -2.3211523e-04,\n",
       "         4.6826601e-03, -1.4878295e-03]], dtype=float32)"
      ]
     },
     "execution_count": 11,
     "metadata": {},
     "output_type": "execute_result"
    }
   ],
   "source": [
    "best_params[1][:,0:10,0]"
   ]
  },
  {
   "cell_type": "code",
   "execution_count": 36,
   "id": "346afe6d",
   "metadata": {},
   "outputs": [
    {
     "data": {
      "text/plain": [
       "array([[0.20263158, 0.43421053, 0.04      ],\n",
       "       [0.20263158, 0.43421053, 0.04      ]])"
      ]
     },
     "execution_count": 36,
     "metadata": {},
     "output_type": "execute_result"
    }
   ],
   "source": [
    "best_params[0][:,0,:]"
   ]
  },
  {
   "cell_type": "code",
   "execution_count": 16,
   "id": "bbaa7a5e",
   "metadata": {},
   "outputs": [
    {
     "data": {
      "text/plain": [
       "array([0.00710481, 0.00789994, 0.00949862, 0.00781368, 0.00460145,\n",
       "       0.0068873 , 0.006922  ], dtype=float32)"
      ]
     },
     "execution_count": 16,
     "metadata": {},
     "output_type": "execute_result"
    }
   ],
   "source": [
    "best_params[2][0,0:10]"
   ]
  },
  {
   "cell_type": "code",
   "execution_count": 43,
   "id": "6d16049d",
   "metadata": {},
   "outputs": [
    {
     "data": {
      "text/plain": [
       "array([ 0.01058049, -0.00195958, -0.08981813, -0.01121108, -0.04072094,\n",
       "       -0.00400919, -0.00668975], dtype=float32)"
      ]
     },
     "execution_count": 43,
     "metadata": {},
     "output_type": "execute_result"
    }
   ],
   "source": [
    "val_r2[0,:]"
   ]
  },
  {
   "cell_type": "code",
   "execution_count": 44,
   "id": "ce7bae31",
   "metadata": {},
   "outputs": [],
   "source": [
    "voxel_data = val_voxel_data[:,vinds2use]\n",
    "images = val_stim_data\n",
    "prf_models = models\n",
    "dtype=fpX\n",
    "\n",
    "params = best_params\n",
    "device = _feature_extractor.device\n",
    "\n",
    "n_trials, n_voxels = len(images), len(params[0])\n",
    "n_prfs = prf_models.shape[0]\n",
    "n_features = params[1].shape[1]  \n",
    "n_voxels = np.shape(voxel_data)[1]\n",
    "\n",
    "best_models, weights, bias, features_mt, features_st, best_model_inds = params\n",
    "masks, partial_version_names = _feature_extractor.get_partial_versions()\n",
    "masks = np.transpose(masks)    \n",
    "n_features_max = _feature_extractor.max_features\n",
    "n_partial_versions = len(partial_version_names)\n",
    "\n",
    "# val_cc is the correlation coefficient bw real and predicted responses across trials, for each voxel.\n",
    "val_cc  = np.zeros(shape=(n_voxels, n_partial_versions), dtype=dtype)\n",
    "val_r2 = np.zeros(shape=(n_voxels, n_partial_versions), dtype=dtype)\n",
    "\n",
    "pred_models = np.full(fill_value=0, shape=(n_trials, n_features_max, n_prfs), dtype=dtype)\n",
    "feature_inds_defined_each_prf = np.full(fill_value=0, shape=(n_features_max, n_prfs), dtype=bool)\n",
    "\n",
    "# Saving full trial-by-trial predictions for each voxel, each partial model.\n",
    "# Need these for stacking.\n",
    "pred_voxel_data = np.full(fill_value=0, shape=(n_trials, n_voxels, n_partial_versions), dtype=dtype)\n",
    "    "
   ]
  },
  {
   "cell_type": "code",
   "execution_count": 45,
   "id": "c3830ec8",
   "metadata": {},
   "outputs": [
    {
     "name": "stdout",
     "output_type": "stream",
     "text": [
      "Clearing precomputed features from memory.\n",
      "Clearing features from memory\n",
      "Getting features for prf 353: [x,y,sigma] is [0.20 0.43 0.0400]\n",
      "Loading pre-computed features for models [350 - 399] from /user_data/mmhender/features/pyramid_texture/S1_features_each_prf_4ori_4sf.h5py\n",
      "Took 93.82157 seconds to load file\n",
      "Index into batch for prf 353: 3\n",
      "Size of features array for this image set and prf is:\n",
      "(697, 641)\n",
      "Final size of features concatenated is [697 x 641]\n",
      "Feature types included are:\n",
      "['pixel_stats', 'mean_magnitudes', 'mean_realparts', 'marginal_stats_lowpass_recons', 'variance_highpass_resid', 'magnitude_feature_autocorrs', 'lowpass_recon_autocorrs', 'highpass_resid_autocorrs', 'magnitude_within_scale_crosscorrs', 'real_within_scale_crosscorrs', 'magnitude_across_scale_crosscorrs', 'real_imag_across_scale_crosscorrs', 'real_spatshift_within_scale_crosscorrs', 'real_spatshift_across_scale_crosscorrs']\n",
      "Final size of features concatenated is [697 x 641]\n",
      "Final size of features concatenated is [697 x 641]\n",
      "Loading pre-computed features from /user_data/mmhender/features/sketch_tokens/S1_features_each_prf.h5py\n",
      "Took 22.39029 seconds to load file\n",
      "Size of features array for this image set is:\n",
      "(697, 151, 875)\n",
      "Final size of feature matrix is:\n",
      "(697, 151)\n",
      "Clearing precomputed features from memory.\n",
      "Clearing features from memory\n"
     ]
    }
   ],
   "source": [
    "    \n",
    "start_time = time.time()    \n",
    "with torch.no_grad(): # make sure local gradients are off to save memory\n",
    "\n",
    "    # First gather texture features for all pRFs.\n",
    "\n",
    "    _feature_extractor.clear_big_features()\n",
    "\n",
    "    for mm in [353]:\n",
    "#         for mm in range(n_prfs):\n",
    "#             if mm>1 and debug:\n",
    "#                 break\n",
    "        print('Getting features for prf %d: [x,y,sigma] is [%.2f %.2f %.4f]'%(mm, prf_models[mm,0],  prf_models[mm,1],  prf_models[mm,2] ))\n",
    "        # all_feat_concat is size [ntrials x nfeatures]\n",
    "        # nfeatures may be less than n_features_max, because n_features_max is the largest number possible for any pRF.\n",
    "        # feature_inds_defined is length max_features, and tells which of the features in max_features are includes in features.\n",
    "        all_feat_concat, feature_inds_defined = _feature_extractor(images, prf_models[mm,:], mm, fitting_mode=False)\n",
    "\n",
    "        pred_models[:,feature_inds_defined,mm] = torch_utils.get_value(all_feat_concat)\n",
    "        feature_inds_defined_each_prf[:,mm] = feature_inds_defined\n",
    "\n",
    "    _feature_extractor.clear_big_features()"
   ]
  },
  {
   "cell_type": "code",
   "execution_count": 48,
   "id": "7ea909cd",
   "metadata": {},
   "outputs": [
    {
     "data": {
      "text/plain": [
       "(697, 792)"
      ]
     },
     "execution_count": 48,
     "metadata": {},
     "output_type": "execute_result"
    }
   ],
   "source": [
    "pred_models[:,feature_inds_defined,mm].shape"
   ]
  },
  {
   "cell_type": "code",
   "execution_count": 58,
   "id": "1d40aaad",
   "metadata": {},
   "outputs": [
    {
     "data": {
      "text/plain": [
       "['pixel_stats',\n",
       " 'mean_magnitudes',\n",
       " 'mean_realparts',\n",
       " 'marginal_stats_lowpass_recons',\n",
       " 'variance_highpass_resid',\n",
       " 'magnitude_feature_autocorrs',\n",
       " 'lowpass_recon_autocorrs',\n",
       " 'highpass_resid_autocorrs',\n",
       " 'magnitude_within_scale_crosscorrs',\n",
       " 'real_within_scale_crosscorrs',\n",
       " 'magnitude_across_scale_crosscorrs',\n",
       " 'real_imag_across_scale_crosscorrs',\n",
       " 'real_spatshift_within_scale_crosscorrs',\n",
       " 'real_spatshift_across_scale_crosscorrs']"
      ]
     },
     "execution_count": 58,
     "metadata": {},
     "output_type": "execute_result"
    }
   ],
   "source": [
    "_feature_extractor.modules[0].feature_types_include"
   ]
  },
  {
   "cell_type": "code",
   "execution_count": 68,
   "id": "35d31661",
   "metadata": {},
   "outputs": [
    {
     "data": {
      "text/plain": [
       "<matplotlib.colorbar.Colorbar at 0x7fde381db2b0>"
      ]
     },
     "execution_count": 68,
     "metadata": {},
     "output_type": "execute_result"
    },
    {
     "data": {
      "image/png": "[encoded data removed]",
      "text/plain": [
       "<Figure size 1440x1440 with 2 Axes>"
      ]
     },
     "metadata": {
      "needs_background": "light"
     },
     "output_type": "display_data"
    }
   ],
   "source": [
    "import scipy.stats\n",
    "plt.figure(figsize=(20,20));\n",
    "# plt.pcolormesh(scipy.stats.zscore(pred_models[:,feature_inds_defined,mm]))\n",
    "plt.pcolormesh(pred_models[:,feature_inds_defined,mm])\n",
    "plt.colorbar()"
   ]
  },
  {
   "cell_type": "code",
   "execution_count": 71,
   "id": "d6e4d2fa",
   "metadata": {},
   "outputs": [
    {
     "name": "stderr",
     "output_type": "stream",
     "text": [
      "/home/mmhender/myenv/lib/python3.7/site-packages/numpy/core/_methods.py:233: RuntimeWarning: overflow encountered in multiply\n",
      "  x = um.multiply(x, x, out=x)\n",
      "/home/mmhender/myenv/lib/python3.7/site-packages/numpy/core/_methods.py:244: RuntimeWarning: overflow encountered in reduce\n",
      "  ret = umr_sum(x, axis, dtype, out, keepdims=keepdims, where=where)\n"
     ]
    },
    {
     "data": {
      "text/plain": [
       "[<matplotlib.lines.Line2D at 0x7fde3806afd0>]"
      ]
     },
     "execution_count": 71,
     "metadata": {},
     "output_type": "execute_result"
    },
    {
     "data": {
      "image/png": "[encoded data removed]",
      "text/plain": [
       "<Figure size 432x288 with 1 Axes>"
      ]
     },
     "metadata": {
      "needs_background": "light"
     },
     "output_type": "display_data"
    }
   ],
   "source": [
    "plt.figure();\n",
    "zfeat = scipy.stats.zscore(pred_models[:,feature_inds_defined,mm])\n",
    "plt.plot(zfeat[533,:])"
   ]
  },
  {
   "cell_type": "code",
   "execution_count": 100,
   "id": "05a163cc",
   "metadata": {},
   "outputs": [
    {
     "data": {
      "text/plain": [
       "353"
      ]
     },
     "execution_count": 100,
     "metadata": {},
     "output_type": "execute_result"
    }
   ],
   "source": [
    "mm"
   ]
  },
  {
   "cell_type": "code",
   "execution_count": 78,
   "id": "021f43eb",
   "metadata": {},
   "outputs": [
    {
     "data": {
      "text/plain": [
       "2"
      ]
     },
     "execution_count": 78,
     "metadata": {},
     "output_type": "execute_result"
    }
   ],
   "source": [
    "np.argmin(zfeat[533,:])"
   ]
  },
  {
   "cell_type": "code",
   "execution_count": 110,
   "id": "6fff3f14",
   "metadata": {},
   "outputs": [
    {
     "data": {
      "text/plain": [
       "188"
      ]
     },
     "execution_count": 110,
     "metadata": {},
     "output_type": "execute_result"
    }
   ],
   "source": [
    "images[533]"
   ]
  },
  {
   "cell_type": "code",
   "execution_count": 111,
   "id": "d0c4592b",
   "metadata": {},
   "outputs": [
    {
     "data": {
      "text/plain": [
       "(697,)"
      ]
     },
     "execution_count": 111,
     "metadata": {},
     "output_type": "execute_result"
    }
   ],
   "source": [
    "images.shape"
   ]
  },
  {
   "cell_type": "code",
   "execution_count": 100,
   "id": "4c95b9fd",
   "metadata": {},
   "outputs": [],
   "source": [
    "from utils import nsd_utils\n",
    "from utils import prf_utils\n",
    "image_data = nsd_utils.get_image_data(subject=1)\n",
    "image_data = nsd_utils.image_uncolorize_fn(image_data)\n",
    "\n",
    "image_data.shape"
   ]
  },
  {
   "cell_type": "code",
   "execution_count": 102,
   "id": "9b1f5492",
   "metadata": {},
   "outputs": [
    {
     "ename": "AttributeError",
     "evalue": "module 'torch.nn' has no attribute 'Interpolate'",
     "output_type": "error",
     "traceback": [
      "\u001b[0;31m---------------------------------------------------------------------------\u001b[0m",
      "\u001b[0;31mAttributeError\u001b[0m                            Traceback (most recent call last)",
      "\u001b[0;32m<ipython-input-102-5be67a63cc0f>\u001b[0m in \u001b[0;36m<module>\u001b[0;34m\u001b[0m\n\u001b[1;32m      3\u001b[0m \u001b[0;31m# resample_fn = torch.nn.Upsample((process_at_size, \\\u001b[0m\u001b[0;34m\u001b[0m\u001b[0;34m\u001b[0m\u001b[0;34m\u001b[0m\u001b[0m\n\u001b[1;32m      4\u001b[0m \u001b[0;31m#                                  process_at_size), mode=\"bilinear\", align_corners=True)\u001b[0m\u001b[0;34m\u001b[0m\u001b[0;34m\u001b[0m\u001b[0;34m\u001b[0m\u001b[0m\n\u001b[0;32m----> 5\u001b[0;31m resample_fn = torch.nn.Interpolate((process_at_size, \\\n\u001b[0m\u001b[1;32m      6\u001b[0m                                  process_at_size), mode=\"bilinear\", align_corners=True)\n",
      "\u001b[0;31mAttributeError\u001b[0m: module 'torch.nn' has no attribute 'Interpolate'"
     ]
    }
   ],
   "source": [
    "# Need to have size a multiple of 8, for the pyramid to work right\n",
    "process_at_size=240\n",
    "# resample_fn = torch.nn.Upsample((process_at_size, \\\n",
    "#                                  process_at_size), mode=\"bilinear\", align_corners=True)\n"
   ]
  },
  {
   "cell_type": "code",
   "execution_count": 49,
   "id": "dc754bb4",
   "metadata": {},
   "outputs": [
    {
     "data": {
      "text/plain": [
       "torch.Size([3, 1, 240, 240])"
      ]
     },
     "execution_count": 49,
     "metadata": {},
     "output_type": "execute_result"
    }
   ],
   "source": [
    "image_batch_resam_cpu.shape"
   ]
  },
  {
   "cell_type": "code",
   "execution_count": 53,
   "id": "beaa0b55",
   "metadata": {},
   "outputs": [
    {
     "data": {
      "text/plain": [
       "tensor(1.7881e-07, device='cuda:0')"
      ]
     },
     "execution_count": 53,
     "metadata": {},
     "output_type": "execute_result"
    }
   ],
   "source": [
    "torch.max(image_batch_resam_cpu-image_batch_resam)"
   ]
  },
  {
   "cell_type": "code",
   "execution_count": 113,
   "id": "eb65ffa4",
   "metadata": {},
   "outputs": [],
   "source": [
    "import torchvision"
   ]
  },
  {
   "cell_type": "code",
   "execution_count": 116,
   "id": "f0e1535c",
   "metadata": {},
   "outputs": [],
   "source": [
    "import skimage"
   ]
  },
  {
   "cell_type": "code",
   "execution_count": 118,
   "id": "4a088171",
   "metadata": {},
   "outputs": [],
   "source": [
    "from skimage.transform import resize"
   ]
  },
  {
   "cell_type": "code",
   "execution_count": 140,
   "id": "9c9604b9",
   "metadata": {},
   "outputs": [],
   "source": [
    "import PIL\n",
    "from utils import texture_utils\n",
    "n_pix = 240    \n",
    "mm=353\n",
    "prf_models = models\n",
    "x,y,sigma = prf_models[mm,:]\n",
    "aperture=1.0\n",
    "g = prf_utils.make_gaussian_mass_stack([x], [y], [sigma], n_pix=n_pix, size=aperture, dtype=np.float64)\n",
    "spatial_weights = g[2][0]\n",
    "image_batch = torch.Tensor(image_data[187:190,:,:,:]).to(device)\n",
    "i = image_batch.cpu().numpy()[0,0,:,:]\n",
    "# image_batch_resam = resample_fn(image_batch)\n",
    "image_batch_resam = np.asarray(PIL.Image.fromarray(i).resize((process_at_size, \\\n",
    "                                 process_at_size), resample=PIL.Image.BILINEAR))\n",
    "image_batch_resam = torch.Tensor(image_batch_resam).to(device).view([1,1,process_at_size, process_at_size])\n",
    "# image_batch_resam = torch.nn.functional.interpolate(image_batch, (process_at_size, \\\n",
    "#                                  process_at_size), mode=\"bilinear\", align_corners=True)\n",
    "# image_batch_resam = resize(image_batch, (image_batch.shape[0], image_batch.shape[1], process_at_size, \\\n",
    "#                                  process_at_size), anti_aliasing=True)\n",
    "wmean, wvar, wskew, wkurt = \\\n",
    "    texture_utils.get_weighted_pixel_features(image_batch_resam, spatial_weights, device=device)\n",
    "\n",
    "# image_batch = torch.Tensor(image_data[187:190,:,:,:]).to('cpu:0')\n",
    "# image_batch_resam = np.asarray(PIL.Image.fromarray(image_batch.cpu().numpy()).resize(newsize, resample=PIL.Image.BILINEAR))\n",
    "# # image_batch_resam_cpu = resample_fn(image_batch)\n",
    "# # image_batch_resam_cpu  = torch.nn.functional.interpolate(image_batch, (process_at_size, \\\n",
    "# #                                  process_at_size), mode=\"bilinear\", align_corners=True)\n",
    "# # image_batch_resam_cpu = resize(image_batch, (image_batch.shape[0], image_batch.shape[1], process_at_size, \\\n",
    "# #                                  process_at_size), anti_aliasing=False)\n",
    "# # image_batch_resam_cpu = image_batch_resam_cpu.to(device)\n",
    "# wmean_cpu, wvar_cpu, wskew_cpu, wkurt_cpu = \\\n",
    "#     texture_utils.get_weighted_pixel_features(image_batch_resam_cpu, spatial_weights, device=device)\n"
   ]
  },
  {
   "cell_type": "code",
   "execution_count": 105,
   "id": "cc049388",
   "metadata": {},
   "outputs": [
    {
     "data": {
      "text/plain": [
       "[tensor([[0.8156],\n",
       "         [1.0000],\n",
       "         [0.3752]], device='cuda:0'),\n",
       " tensor([[0.8156],\n",
       "         [1.0000],\n",
       "         [0.3752]], device='cuda:0')]"
      ]
     },
     "execution_count": 105,
     "metadata": {},
     "output_type": "execute_result"
    }
   ],
   "source": [
    "[wmean_cpu, wmean]"
   ]
  },
  {
   "cell_type": "code",
   "execution_count": 141,
   "id": "703b575a",
   "metadata": {},
   "outputs": [
    {
     "data": {
      "text/plain": [
       "[tensor([[-1.8848e+00],\n",
       "         [-3.7891e+02],\n",
       "         [ 2.7598e-01]], device='cuda:0'),\n",
       " tensor([[-1.8954]], device='cuda:0')]"
      ]
     },
     "execution_count": 141,
     "metadata": {},
     "output_type": "execute_result"
    }
   ],
   "source": [
    "[wskew_cpu, wskew]"
   ]
  },
  {
   "cell_type": "code",
   "execution_count": 142,
   "id": "b1843158",
   "metadata": {},
   "outputs": [
    {
     "data": {
      "text/plain": [
       "tensor([[-1.8954]], device='cuda:0')"
      ]
     },
     "execution_count": 142,
     "metadata": {},
     "output_type": "execute_result"
    }
   ],
   "source": [
    "wskew"
   ]
  },
  {
   "cell_type": "code",
   "execution_count": 130,
   "id": "6f1d2968",
   "metadata": {},
   "outputs": [
    {
     "data": {
      "text/plain": [
       "(tensor([[6.1174e+00],\n",
       "         [3.6712e+10],\n",
       "         [5.8108e+00]], device='cuda:0'),\n",
       " tensor([[6.1704e+00],\n",
       "         [2.1856e+21],\n",
       "         [5.7683e+00]], device='cuda:0'))"
      ]
     },
     "execution_count": 130,
     "metadata": {},
     "output_type": "execute_result"
    }
   ],
   "source": [
    "wkurt_cpu, wkurt"
   ]
  },
  {
   "cell_type": "code",
   "execution_count": 39,
   "id": "299c7bd3",
   "metadata": {},
   "outputs": [
    {
     "data": {
      "text/plain": [
       "device(type='cpu')"
      ]
     },
     "execution_count": 39,
     "metadata": {},
     "output_type": "execute_result"
    }
   ],
   "source": [
    "wskew_cpu.device"
   ]
  },
  {
   "cell_type": "code",
   "execution_count": 54,
   "id": "dd40f5ed",
   "metadata": {},
   "outputs": [],
   "source": [
    "from utils import torch_utils\n",
    "\n",
    "image_batch = image_batch_resam\n",
    "\n",
    "if isinstance(image_batch, np.ndarray):\n",
    "    image_batch = torch_utils._to_torch(image_batch, device).contiguous()\n",
    "if isinstance(spatial_weights, np.ndarray):\n",
    "    spatial_weights = torch_utils._to_torch(spatial_weights, device)\n",
    "\n",
    "assert(image_batch.shape[2]==spatial_weights.shape[0] and image_batch.shape[3]==spatial_weights.shape[1])\n",
    "assert(image_batch.shape[1]==1)\n",
    "\n",
    "batch_size = image_batch.shape[0]\n",
    "n_channels = image_batch.shape[1]\n",
    "n_pix = image_batch.shape[2]\n",
    "\n",
    "image_batch = image_batch.view([batch_size, n_channels, n_pix**2])\n",
    "spatial_weights = spatial_weights/torch.sum(spatial_weights)\n",
    "spatial_weights = spatial_weights.view([1,1,n_pix**2]).expand([batch_size,n_channels,-1]) # [batch_size x n_channels x nPix x nPix]    \n",
    "\n",
    "ims_weighted = image_batch * spatial_weights\n",
    "\n",
    "wmean = torch.sum(ims_weighted, axis=2).view([batch_size,-1,1])\n",
    "\n",
    "wvar = torch.sum(spatial_weights * (image_batch - wmean.expand([-1,-1,n_pix**2]))**2, axis=2).view([batch_size,-1,1])\n",
    "\n",
    "wskew = torch.sum(spatial_weights *(image_batch - wmean.expand([-1,-1,n_pix**2]))**3 / (wvar**(3/2)), axis=2).view([batch_size,-1,1])\n",
    "\n",
    "wkurt = torch.sum(spatial_weights *(image_batch - wmean.expand([-1,-1,n_pix**2]))**4 / (wvar**(2)), axis=2).view([batch_size,-1,1])\n",
    "\n",
    "# correct for nans/inf values which happen when variance is very small (denominator)\n",
    "wskew[torch.isnan(wskew)] = 0.0\n",
    "wkurt[torch.isnan(wkurt)] = 0.0\n",
    "wskew[torch.isinf(wskew)] = 0.0\n",
    "wkurt[torch.isinf(wkurt)] = 0.0"
   ]
  },
  {
   "cell_type": "code",
   "execution_count": 55,
   "id": "9db94c93",
   "metadata": {},
   "outputs": [
    {
     "data": {
      "text/plain": [
       "tensor([[[-1.8848e+00]],\n",
       "\n",
       "        [[-4.4426e+10]],\n",
       "\n",
       "        [[ 2.7598e-01]]], device='cuda:0')"
      ]
     },
     "execution_count": 55,
     "metadata": {},
     "output_type": "execute_result"
    }
   ],
   "source": [
    "wskew"
   ]
  },
  {
   "cell_type": "code",
   "execution_count": 71,
   "id": "0cff7823",
   "metadata": {},
   "outputs": [
    {
     "data": {
      "text/plain": [
       "<matplotlib.colorbar.Colorbar at 0x7f27dcb16b70>"
      ]
     },
     "execution_count": 71,
     "metadata": {},
     "output_type": "execute_result"
    },
    {
     "data": {
      "image/png": "[encoded data removed]",
      "text/plain": [
       "<Figure size 1296x720 with 4 Axes>"
      ]
     },
     "metadata": {
      "needs_background": "light"
     },
     "output_type": "display_data"
    }
   ],
   "source": [
    "import matplotlib.pyplot as plt\n",
    "plt.figure(figsize=(18,10));\n",
    "plt.subplot(1,3,1)\n",
    "plt.pcolormesh(image_batch_resam[1,0,:].detach().cpu().numpy());\n",
    "plt.subplot(1,3,2)\n",
    "plt.pcolormesh(image_batch_resam_cpu[1,0,:].detach().cpu().numpy());\n",
    "plt.subplot(1,3,3)\n",
    "plt.pcolormesh(image_batch_resam[1,0,:].detach().cpu().numpy() - image_batch_resam_cpu[1,0,:].detach().cpu().numpy());\n",
    "plt.colorbar()"
   ]
  },
  {
   "cell_type": "code",
   "execution_count": 129,
   "id": "7ec72ea5",
   "metadata": {},
   "outputs": [
    {
     "ename": "AttributeError",
     "evalue": "'numpy.ndarray' object has no attribute 'detach'",
     "output_type": "error",
     "traceback": [
      "\u001b[0;31m---------------------------------------------------------------------------\u001b[0m",
      "\u001b[0;31mAttributeError\u001b[0m                            Traceback (most recent call last)",
      "\u001b[0;32m<ipython-input-129-714f0145b541>\u001b[0m in \u001b[0;36m<module>\u001b[0;34m\u001b[0m\n\u001b[1;32m      2\u001b[0m \u001b[0mplt\u001b[0m\u001b[0;34m.\u001b[0m\u001b[0mfigure\u001b[0m\u001b[0;34m(\u001b[0m\u001b[0mfigsize\u001b[0m\u001b[0;34m=\u001b[0m\u001b[0;34m(\u001b[0m\u001b[0;36m18\u001b[0m\u001b[0;34m,\u001b[0m\u001b[0;36m6\u001b[0m\u001b[0;34m)\u001b[0m\u001b[0;34m)\u001b[0m\u001b[0;34m;\u001b[0m\u001b[0;34m\u001b[0m\u001b[0;34m\u001b[0m\u001b[0m\n\u001b[1;32m      3\u001b[0m \u001b[0mplt\u001b[0m\u001b[0;34m.\u001b[0m\u001b[0msubplot\u001b[0m\u001b[0;34m(\u001b[0m\u001b[0;36m1\u001b[0m\u001b[0;34m,\u001b[0m\u001b[0;36m3\u001b[0m\u001b[0;34m,\u001b[0m\u001b[0;36m1\u001b[0m\u001b[0;34m)\u001b[0m\u001b[0;34m\u001b[0m\u001b[0;34m\u001b[0m\u001b[0m\n\u001b[0;32m----> 4\u001b[0;31m \u001b[0mplt\u001b[0m\u001b[0;34m.\u001b[0m\u001b[0mpcolormesh\u001b[0m\u001b[0;34m(\u001b[0m\u001b[0;34m(\u001b[0m\u001b[0mimage_batch_resam\u001b[0m\u001b[0;34m[\u001b[0m\u001b[0;36m1\u001b[0m\u001b[0;34m,\u001b[0m\u001b[0;36m0\u001b[0m\u001b[0;34m,\u001b[0m\u001b[0;34m:\u001b[0m\u001b[0;34m]\u001b[0m\u001b[0;34m.\u001b[0m\u001b[0mdetach\u001b[0m\u001b[0;34m(\u001b[0m\u001b[0;34m)\u001b[0m\u001b[0;34m.\u001b[0m\u001b[0mcpu\u001b[0m\u001b[0;34m(\u001b[0m\u001b[0;34m)\u001b[0m\u001b[0;34m.\u001b[0m\u001b[0mnumpy\u001b[0m\u001b[0;34m(\u001b[0m\u001b[0;34m)\u001b[0m\u001b[0;34m-\u001b[0m\u001b[0mwmean\u001b[0m\u001b[0;34m[\u001b[0m\u001b[0;36m1\u001b[0m\u001b[0;34m]\u001b[0m\u001b[0;34m.\u001b[0m\u001b[0mdetach\u001b[0m\u001b[0;34m(\u001b[0m\u001b[0;34m)\u001b[0m\u001b[0;34m.\u001b[0m\u001b[0mcpu\u001b[0m\u001b[0;34m(\u001b[0m\u001b[0;34m)\u001b[0m\u001b[0;34m.\u001b[0m\u001b[0mnumpy\u001b[0m\u001b[0;34m(\u001b[0m\u001b[0;34m)\u001b[0m\u001b[0;34m)\u001b[0m\u001b[0;34m*\u001b[0m\u001b[0mspatial_weights\u001b[0m\u001b[0;34m)\u001b[0m\u001b[0;34m;\u001b[0m\u001b[0;34m\u001b[0m\u001b[0;34m\u001b[0m\u001b[0m\n\u001b[0m\u001b[1;32m      5\u001b[0m \u001b[0mplt\u001b[0m\u001b[0;34m.\u001b[0m\u001b[0mcolorbar\u001b[0m\u001b[0;34m(\u001b[0m\u001b[0;34m)\u001b[0m\u001b[0;34m\u001b[0m\u001b[0;34m\u001b[0m\u001b[0m\n\u001b[1;32m      6\u001b[0m \u001b[0mplt\u001b[0m\u001b[0;34m.\u001b[0m\u001b[0maxis\u001b[0m\u001b[0;34m(\u001b[0m\u001b[0;34m'square'\u001b[0m\u001b[0;34m)\u001b[0m\u001b[0;34m\u001b[0m\u001b[0;34m\u001b[0m\u001b[0m\n",
      "\u001b[0;31mAttributeError\u001b[0m: 'numpy.ndarray' object has no attribute 'detach'"
     ]
    },
    {
     "data": {
      "image/png": "[encoded data removed]",
      "text/plain": [
       "<Figure size 1296x432 with 1 Axes>"
      ]
     },
     "metadata": {
      "needs_background": "light"
     },
     "output_type": "display_data"
    }
   ],
   "source": [
    "import matplotlib.pyplot as plt\n",
    "plt.figure(figsize=(18,6));\n",
    "plt.subplot(1,3,1)\n",
    "plt.pcolormesh((image_batch_resam[1,0,:].detach().cpu().numpy()-wmean[1].detach().cpu().numpy())*spatial_weights);\n",
    "plt.colorbar()\n",
    "plt.axis('square')\n",
    "plt.subplot(1,3,2)\n",
    "plt.pcolormesh((image_batch_resam_cpu[1,0,:].detach().cpu().numpy()-wmean[1].detach().cpu().numpy())*spatial_weights);\n",
    "plt.colorbar()\n",
    "plt.axis('square')\n",
    "plt.subplot(1,3,3)\n",
    "plt.pcolormesh((image_batch_resam[1,0,:].detach().cpu().numpy() - image_batch_resam_cpu[1,0,:].detach().cpu().numpy())*spatial_weights);\n",
    "plt.colorbar()\n",
    "plt.axis('square')"
   ]
  },
  {
   "cell_type": "code",
   "execution_count": 90,
   "id": "bcd55b49",
   "metadata": {},
   "outputs": [
    {
     "data": {
      "text/plain": [
       "<matplotlib.colorbar.Colorbar at 0x7f27dcdd04a8>"
      ]
     },
     "execution_count": 90,
     "metadata": {},
     "output_type": "execute_result"
    },
    {
     "data": {
      "image/png": "[encoded data removed]",
      "text/plain": [
       "<Figure size 432x288 with 2 Axes>"
      ]
     },
     "metadata": {
      "needs_background": "light"
     },
     "output_type": "display_data"
    }
   ],
   "source": [
    "plt.figure();\n",
    "plt.pcolormesh((image_batch_resam[1,0,:].detach().cpu().numpy()-wmean[1].detach().cpu().numpy()))\n",
    "plt.colorbar()"
   ]
  },
  {
   "cell_type": "code",
   "execution_count": 92,
   "id": "99f06a10",
   "metadata": {},
   "outputs": [
    {
     "data": {
      "text/plain": [
       "<matplotlib.colorbar.Colorbar at 0x7f27dcc56c18>"
      ]
     },
     "execution_count": 92,
     "metadata": {},
     "output_type": "execute_result"
    },
    {
     "data": {
      "image/png": "[encoded data removed]",
      "text/plain": [
       "<Figure size 432x288 with 2 Axes>"
      ]
     },
     "metadata": {
      "needs_background": "light"
     },
     "output_type": "display_data"
    }
   ],
   "source": [
    "plt.figure();\n",
    "plt.pcolormesh(spatial_weights*(image_batch_resam_cpu[1,0,:].detach().cpu().numpy()-wmean_cpu[1].detach().cpu().numpy()))\n",
    "plt.colorbar()"
   ]
  },
  {
   "cell_type": "code",
   "execution_count": 98,
   "id": "81c51801",
   "metadata": {},
   "outputs": [],
   "source": [
    "thing = spatial_weights*(image_batch_resam_cpu[1,0,:].detach().cpu().numpy()-wmean_cpu[1].detach().cpu().numpy())\n",
    "thing2 = spatial_weights*(image_batch_resam[1,0,:].detach().cpu().numpy()-wmean[1].detach().cpu().numpy())"
   ]
  },
  {
   "cell_type": "code",
   "execution_count": 99,
   "id": "056c2bb9",
   "metadata": {},
   "outputs": [
    {
     "data": {
      "text/plain": [
       "-39.55571801534067"
      ]
     },
     "execution_count": 99,
     "metadata": {},
     "output_type": "execute_result"
    }
   ],
   "source": [
    "import scipy.stats\n",
    "scipy.stats.skew(thing.ravel())\n",
    "scipy.stats.skew(thing2.ravel())"
   ]
  },
  {
   "cell_type": "code",
   "execution_count": 22,
   "id": "9aadf468",
   "metadata": {},
   "outputs": [],
   "source": [
    "spatial_weights_cpu = spatial_weights.cpu()\n",
    "image_batch_cpu = image_batch.cpu()\n",
    "wmean_cpu = wmean.cpu()\n",
    "wvar_cpu = wvar.cpu()"
   ]
  },
  {
   "cell_type": "code",
   "execution_count": 23,
   "id": "984e8815",
   "metadata": {},
   "outputs": [],
   "source": [
    "\n",
    "wskew_cpu = torch.sum(spatial_weights_cpu *(image_batch_cpu - wmean_cpu.expand([-1,-1,n_pix**2]))**3 / (wvar_cpu**(3/2)),\\\n",
    "                      axis=2).view([batch_size,-1,1])\n"
   ]
  },
  {
   "cell_type": "code",
   "execution_count": 27,
   "id": "06cce6cc",
   "metadata": {},
   "outputs": [
    {
     "data": {
      "text/plain": [
       "tensor([[[-1.8848e+00]],\n",
       "\n",
       "        [[-4.4426e+10]],\n",
       "\n",
       "        [[ 2.7598e-01]]])"
      ]
     },
     "execution_count": 27,
     "metadata": {},
     "output_type": "execute_result"
    }
   ],
   "source": [
    "wskew_cpu"
   ]
  },
  {
   "cell_type": "code",
   "execution_count": 157,
   "id": "7fc62c34",
   "metadata": {},
   "outputs": [
    {
     "data": {
      "text/plain": [
       "array([-1.88478065e+00, -4.44261007e+10,  2.75983393e-01])"
      ]
     },
     "execution_count": 157,
     "metadata": {},
     "output_type": "execute_result"
    }
   ],
   "source": [
    "values[187:190,2]"
   ]
  },
  {
   "cell_type": "code",
   "execution_count": 158,
   "id": "9b4020b6",
   "metadata": {},
   "outputs": [
    {
     "data": {
      "text/plain": [
       "tensor([[0.8156],\n",
       "        [1.0000],\n",
       "        [0.3752]])"
      ]
     },
     "execution_count": 158,
     "metadata": {},
     "output_type": "execute_result"
    }
   ],
   "source": [
    "wmean"
   ]
  },
  {
   "cell_type": "code",
   "execution_count": 159,
   "id": "6677231a",
   "metadata": {},
   "outputs": [
    {
     "data": {
      "text/plain": [
       "array([0.81560135, 1.        , 0.37517709])"
      ]
     },
     "execution_count": 159,
     "metadata": {},
     "output_type": "execute_result"
    }
   ],
   "source": [
    "values[187:190,0]"
   ]
  },
  {
   "cell_type": "code",
   "execution_count": 160,
   "id": "3f8c8a6e",
   "metadata": {},
   "outputs": [
    {
     "data": {
      "text/plain": [
       "torch.float32"
      ]
     },
     "execution_count": 160,
     "metadata": {},
     "output_type": "execute_result"
    }
   ],
   "source": [
    "wvar.dtype"
   ]
  },
  {
   "cell_type": "code",
   "execution_count": 155,
   "id": "8b06c867",
   "metadata": {},
   "outputs": [
    {
     "data": {
      "text/plain": [
       "dtype('float64')"
      ]
     },
     "execution_count": 155,
     "metadata": {},
     "output_type": "execute_result"
    }
   ],
   "source": [
    "values[187:190,1][0].dtype"
   ]
  },
  {
   "cell_type": "code",
   "execution_count": null,
   "id": "f1555c16",
   "metadata": {},
   "outputs": [],
   "source": []
  },
  {
   "cell_type": "code",
   "execution_count": 124,
   "id": "8b9e0acc",
   "metadata": {},
   "outputs": [
    {
     "data": {
      "text/plain": [
       "-44426100000.0"
      ]
     },
     "execution_count": 124,
     "metadata": {},
     "output_type": "execute_result"
    }
   ],
   "source": [
    "pred_models[533,2,mm]"
   ]
  },
  {
   "cell_type": "code",
   "execution_count": 99,
   "id": "4cb7d87c",
   "metadata": {},
   "outputs": [
    {
     "data": {
      "text/plain": [
       "torch.Size([2, 1, 240, 240])"
      ]
     },
     "execution_count": 99,
     "metadata": {},
     "output_type": "execute_result"
    }
   ],
   "source": [
    "image_batch.shape"
   ]
  },
  {
   "cell_type": "code",
   "execution_count": 84,
   "id": "ced9c9f9",
   "metadata": {},
   "outputs": [
    {
     "data": {
      "text/plain": [
       "[<matplotlib.lines.Line2D at 0x7fde33d864a8>]"
      ]
     },
     "execution_count": 84,
     "metadata": {},
     "output_type": "execute_result"
    },
    {
     "data": {
      "image/png": "[encoded data removed]",
      "text/plain": [
       "<Figure size 432x288 with 1 Axes>"
      ]
     },
     "metadata": {
      "needs_background": "light"
     },
     "output_type": "display_data"
    }
   ],
   "source": [
    "skewvals = pred_models[:,2,mm]\n",
    "plt.figure();\n",
    "# plt.hist(skewvals,100);\n",
    "plt.plot(skewvals, np.ones(np.shape(skewvals)),'.')"
   ]
  },
  {
   "cell_type": "code",
   "execution_count": 85,
   "id": "b6cfe1aa",
   "metadata": {},
   "outputs": [
    {
     "data": {
      "text/plain": [
       "array([0.20263158, 0.43421053, 0.04      ])"
      ]
     },
     "execution_count": 85,
     "metadata": {},
     "output_type": "execute_result"
    }
   ],
   "source": [
    "prf_models[mm]"
   ]
  },
  {
   "cell_type": "code",
   "execution_count": 88,
   "id": "a4c865ff",
   "metadata": {},
   "outputs": [],
   "source": [
    "# skewvals"
   ]
  },
  {
   "cell_type": "code",
   "execution_count": 53,
   "id": "5929f4cb",
   "metadata": {},
   "outputs": [
    {
     "data": {
      "text/plain": [
       "2"
      ]
     },
     "execution_count": 53,
     "metadata": {},
     "output_type": "execute_result"
    }
   ],
   "source": [
    "f= pred_models[533,feature_inds_defined,mm]\n",
    "np.argmin(f)"
   ]
  },
  {
   "cell_type": "code",
   "execution_count": 125,
   "id": "e124ccb2",
   "metadata": {},
   "outputs": [
    {
     "data": {
      "text/plain": [
       "353"
      ]
     },
     "execution_count": 125,
     "metadata": {},
     "output_type": "execute_result"
    }
   ],
   "source": [
    "mm"
   ]
  },
  {
   "cell_type": "code",
   "execution_count": 172,
   "id": "21d3b568",
   "metadata": {},
   "outputs": [
    {
     "name": "stdout",
     "output_type": "stream",
     "text": [
      "Took 99.72373 seconds to load file\n"
     ]
    }
   ],
   "source": [
    "import h5py\n",
    "t = time.time()\n",
    "with h5py.File(_feature_extractor.modules[0].features_file, 'r') as data_set:\n",
    "    values_old = np.copy(data_set['/features'][:,:,mm])\n",
    "    data_set.close() \n",
    "elapsed = time.time() - t\n",
    "print('Took %.5f seconds to load file'%elapsed)\n"
   ]
  },
  {
   "cell_type": "code",
   "execution_count": 173,
   "id": "4716a1e7",
   "metadata": {},
   "outputs": [
    {
     "data": {
      "text/plain": [
       "-44426100736.0"
      ]
     },
     "execution_count": 173,
     "metadata": {},
     "output_type": "execute_result"
    }
   ],
   "source": [
    "values_old[:,2][188]"
   ]
  },
  {
   "cell_type": "code",
   "execution_count": 40,
   "id": "55bd0695",
   "metadata": {},
   "outputs": [
    {
     "name": "stdout",
     "output_type": "stream",
     "text": [
      "Took 18.99672 seconds to load file\n"
     ]
    }
   ],
   "source": [
    "import h5py\n",
    "t = time.time()\n",
    "fn2load = '/user_data/mmhender/features/pyramid_texture/S1_features_each_prf_4ori_4sf_TEST.h5py'\n",
    "with h5py.File(fn2load, 'r') as data_set:\n",
    "    values = np.copy(data_set['/features'][:,:,mm])\n",
    "    data_set.close() \n",
    "elapsed = time.time() - t\n",
    "print('Took %.5f seconds to load file'%elapsed)\n"
   ]
  },
  {
   "cell_type": "code",
   "execution_count": 41,
   "id": "b026b1fb",
   "metadata": {},
   "outputs": [
    {
     "data": {
      "text/plain": [
       "-378.91162109375"
      ]
     },
     "execution_count": 41,
     "metadata": {},
     "output_type": "execute_result"
    }
   ],
   "source": [
    "values[:,2][188]"
   ]
  },
  {
   "cell_type": "code",
   "execution_count": 130,
   "id": "a3cb5cdc",
   "metadata": {},
   "outputs": [
    {
     "data": {
      "text/plain": [
       "(10000, 641)"
      ]
     },
     "execution_count": 130,
     "metadata": {},
     "output_type": "execute_result"
    }
   ],
   "source": [
    "values.shape"
   ]
  },
  {
   "cell_type": "code",
   "execution_count": 141,
   "id": "e70d5e79",
   "metadata": {},
   "outputs": [
    {
     "data": {
      "text/plain": [
       "-44426100736.0"
      ]
     },
     "execution_count": 141,
     "metadata": {},
     "output_type": "execute_result"
    }
   ],
   "source": [
    "values[188,2]"
   ]
  },
  {
   "cell_type": "code",
   "execution_count": 133,
   "id": "7a0274b4",
   "metadata": {},
   "outputs": [
    {
     "data": {
      "image/png": "[encoded data removed]",
      "text/plain": [
       "<Figure size 432x288 with 1 Axes>"
      ]
     },
     "metadata": {
      "needs_background": "light"
     },
     "output_type": "display_data"
    }
   ],
   "source": [
    "plt.figure();\n",
    "plt.hist(values[:,2],100);"
   ]
  },
  {
   "cell_type": "code",
   "execution_count": 140,
   "id": "2c51415a",
   "metadata": {},
   "outputs": [
    {
     "data": {
      "text/plain": [
       "3"
      ]
     },
     "execution_count": 140,
     "metadata": {},
     "output_type": "execute_result"
    }
   ],
   "source": [
    "np.sum(values[:,2]<-1000000)"
   ]
  },
  {
   "cell_type": "code",
   "execution_count": 120,
   "id": "a3435e28",
   "metadata": {},
   "outputs": [
    {
     "data": {
      "text/plain": [
       "(0.2026315789473685, 0.4342105263157895, 0.03999999910593033)"
      ]
     },
     "execution_count": 120,
     "metadata": {},
     "output_type": "execute_result"
    }
   ],
   "source": [
    "x,y,sigma"
   ]
  },
  {
   "cell_type": "code",
   "execution_count": 86,
   "id": "baa63a64",
   "metadata": {},
   "outputs": [],
   "source": [
    "# images[2]"
   ]
  },
  {
   "cell_type": "code",
   "execution_count": 60,
   "id": "e99f5a7b",
   "metadata": {},
   "outputs": [],
   "source": [
    "w = weights[0,:,2]"
   ]
  },
  {
   "cell_type": "code",
   "execution_count": 61,
   "id": "39886c5f",
   "metadata": {},
   "outputs": [
    {
     "data": {
      "text/plain": [
       "[<matplotlib.lines.Line2D at 0x7fde39cbf710>]"
      ]
     },
     "execution_count": 61,
     "metadata": {},
     "output_type": "execute_result"
    },
    {
     "data": {
      "image/png": "[encoded data removed]",
      "text/plain": [
       "<Figure size 432x288 with 1 Axes>"
      ]
     },
     "metadata": {
      "needs_background": "light"
     },
     "output_type": "display_data"
    }
   ],
   "source": [
    "plt.figure;\n",
    "plt.plot(w)"
   ]
  },
  {
   "cell_type": "code",
   "execution_count": 87,
   "id": "44f69fc3",
   "metadata": {},
   "outputs": [],
   "source": [
    "# w"
   ]
  },
  {
   "cell_type": "code",
   "execution_count": 42,
   "id": "57192368",
   "metadata": {},
   "outputs": [
    {
     "ename": "NameError",
     "evalue": "name 'prf_models' is not defined",
     "output_type": "error",
     "traceback": [
      "\u001b[0;31m---------------------------------------------------------------------------\u001b[0m",
      "\u001b[0;31mNameError\u001b[0m                                 Traceback (most recent call last)",
      "\u001b[0;32m<ipython-input-42-79496ee22f9d>\u001b[0m in \u001b[0;36m<module>\u001b[0;34m\u001b[0m\n\u001b[1;32m      5\u001b[0m \u001b[0;34m\u001b[0m\u001b[0m\n\u001b[1;32m      6\u001b[0m \u001b[0mn_trials\u001b[0m\u001b[0;34m,\u001b[0m \u001b[0mn_voxels\u001b[0m \u001b[0;34m=\u001b[0m \u001b[0mlen\u001b[0m\u001b[0;34m(\u001b[0m\u001b[0mimages\u001b[0m\u001b[0;34m)\u001b[0m\u001b[0;34m,\u001b[0m \u001b[0mlen\u001b[0m\u001b[0;34m(\u001b[0m\u001b[0mparams\u001b[0m\u001b[0;34m[\u001b[0m\u001b[0;36m0\u001b[0m\u001b[0;34m]\u001b[0m\u001b[0;34m)\u001b[0m\u001b[0;34m\u001b[0m\u001b[0;34m\u001b[0m\u001b[0m\n\u001b[0;32m----> 7\u001b[0;31m \u001b[0mn_prfs\u001b[0m \u001b[0;34m=\u001b[0m \u001b[0mprf_models\u001b[0m\u001b[0;34m.\u001b[0m\u001b[0mshape\u001b[0m\u001b[0;34m[\u001b[0m\u001b[0;36m0\u001b[0m\u001b[0;34m]\u001b[0m\u001b[0;34m\u001b[0m\u001b[0;34m\u001b[0m\u001b[0m\n\u001b[0m\u001b[1;32m      8\u001b[0m \u001b[0mn_features\u001b[0m \u001b[0;34m=\u001b[0m \u001b[0mparams\u001b[0m\u001b[0;34m[\u001b[0m\u001b[0;36m1\u001b[0m\u001b[0;34m]\u001b[0m\u001b[0;34m.\u001b[0m\u001b[0mshape\u001b[0m\u001b[0;34m[\u001b[0m\u001b[0;36m1\u001b[0m\u001b[0;34m]\u001b[0m\u001b[0;34m\u001b[0m\u001b[0;34m\u001b[0m\u001b[0m\n\u001b[1;32m      9\u001b[0m \u001b[0mn_voxels\u001b[0m \u001b[0;34m=\u001b[0m \u001b[0mnp\u001b[0m\u001b[0;34m.\u001b[0m\u001b[0mshape\u001b[0m\u001b[0;34m(\u001b[0m\u001b[0mvoxel_data\u001b[0m\u001b[0;34m)\u001b[0m\u001b[0;34m[\u001b[0m\u001b[0;36m1\u001b[0m\u001b[0;34m]\u001b[0m\u001b[0;34m\u001b[0m\u001b[0;34m\u001b[0m\u001b[0m\n",
      "\u001b[0;31mNameError\u001b[0m: name 'prf_models' is not defined"
     ]
    }
   ],
   "source": [
    "    vv=-1\n",
    "    ## Looping over voxels here in batches, will eventually go through all.\n",
    "    for rv, lv in numpy_utils.iterate_range(0, n_voxels, voxel_batch_size):\n",
    "        vv=vv+1\n",
    "        print('Getting predictions for voxels [%d-%d] of %d'%(rv[0],rv[-1],n_voxels))\n",
    "\n",
    "        if vv>1 and debug:\n",
    "            break\n",
    "\n",
    "        # Looping over versions of model w different features set to zero (variance partition)\n",
    "        for pp in range(n_partial_versions):\n",
    "\n",
    "            print('\\nEvaluating version %d of %d: %s'%(pp, n_partial_versions, partial_version_names[pp]))\n",
    "\n",
    "            # masks describes the indices of the features that are included in this partial model\n",
    "            # n_features_max in length\n",
    "            features_to_use = masks[:,pp]==1\n",
    "            print('Includes %d features'%np.sum(features_to_use))\n",
    "\n",
    "            # [trials x features x voxels]\n",
    "            features_full = pred_models[:,:,best_model_inds[rv,pp]]\n",
    "            # Take out the relevant features now\n",
    "            features_full = features_full[:,features_to_use,:]\n",
    "            # Note there may be some zeros in this matrix, if we used fewer than the max number of features.\n",
    "            # But they are zero in weight matrix too, so turns out ok.\n",
    "\n",
    "            _weights = torch_utils._to_torch(weights[rv,:,pp], device=device)   \n",
    "            _weights = _weights[:, features_to_use]\n",
    "            _bias = torch_utils._to_torch(bias[rv,pp], device=device)\n",
    "\n",
    "            print('number of zeros:')\n",
    "            print(np.sum(features_full[0,:,0]==0))\n",
    "\n",
    "            print('size of weights is:')\n",
    "            print(_weights.shape)\n",
    "\n",
    "            if features_mt is not None:\n",
    "                _features_m = torch_utils._to_torch(features_mt[rv,:], device=device)\n",
    "                _features_m = _features_m[:,features_to_use]\n",
    "            if features_st is not None:\n",
    "                _features_s = torch_utils._to_torch(features_st[rv,:], device=device)\n",
    "                _features_s = _features_s[:,features_to_use]\n",
    "\n",
    "            pred_block = np.full(fill_value=0, shape=(n_trials, lv), dtype=dtype)\n",
    "\n",
    "            # Now looping over validation set trials in batches\n",
    "            for rt, lt in numpy_utils.iterate_range(0, n_trials, sample_batch_size):\n",
    "\n",
    "                _features = torch_utils._to_torch(features_full[rt,:], device=device) # trials x features\n",
    "                if features_mt is not None:    \n",
    "                    # features_m is [nvoxels x nfeatures] - need [trials x features x voxels]\n",
    "                    _features = _features - torch.tile(torch.unsqueeze(_features_m, dim=0), [_features.shape[0], 1, 1]).moveaxis([1],[2])\n",
    "\n",
    "                if features_st is not None:\n",
    "                    _features = _features/torch.tile(torch.unsqueeze(_features_s, dim=0), [_features.shape[0], 1, 1]).moveaxis([1],[2])\n",
    "                    # if any entries in std are zero or nan, this gives bad result - fix these now.\n",
    "                    # these bad entries will also be zero in weights, so doesn't matter. just want to avoid nans.\n",
    "                    _features[torch.isnan(_features)] = 0.0 \n",
    "                    _features[torch.isinf(_features)] = 0.0\n",
    "\n",
    "                # features is [#samples, #features, #voxels] - swap dims to [#voxels, #samples, features]\n",
    "                _features = torch.transpose(torch.transpose(_features, 0, 2), 1, 2)\n",
    "                # weights is [#voxels, #features]\n",
    "                # _r will be [#voxels, #samples, 1] - then [#samples, #voxels]\n",
    "\n",
    "                _r = torch.squeeze(torch.bmm(_features, torch.unsqueeze(_weights, 2)), dim=2).t() \n",
    "\n",
    "                if _bias is not None:\n",
    "                    _r = _r + torch.tile(torch.unsqueeze(_bias, 0), [_r.shape[0],1])\n",
    "\n",
    "                pred_block[rt] = torch_utils.get_value(_r) \n",
    "\n",
    "            # Making sure to save these so that we can get stacking performance later.\n",
    "            pred_voxel_data[:,rv,pp] = pred_block\n",
    "\n",
    "            # Now for this batch of voxels and this partial version of the model, measure performance.\n",
    "            val_cc[rv,pp] = get_corrcoef(voxel_data[:,rv], pred_block, axis=0)\n",
    "            val_r2[rv,pp] = get_r2(voxel_data[:,rv], pred_block, axis=0)\n",
    "\n",
    "            sys.stdout.flush()\n",
    "\n",
    "# any nans become zeros here.\n",
    "val_cc = np.nan_to_num(val_cc)\n",
    "val_r2 = np.nan_to_num(val_r2) "
   ]
  },
  {
   "cell_type": "code",
   "execution_count": 17,
   "id": "b2b8c455",
   "metadata": {},
   "outputs": [
    {
     "name": "stdout",
     "output_type": "stream",
     "text": [
      "Clearing precomputed features from memory.\n",
      "Clearing features from memory\n",
      "Getting features for prf 353: [x,y,sigma] is [0.20 0.43 0.0400]\n",
      "Loading pre-computed features for models [350 - 399] from /user_data/mmhender/features/pyramid_texture/S1_features_each_prf_4ori_4sf.h5py\n",
      "Took 123.15037 seconds to load file\n",
      "Index into batch for prf 353: 3\n",
      "Size of features array for this image set and prf is:\n",
      "(697, 641)\n",
      "Final size of features concatenated is [697 x 641]\n",
      "Feature types included are:\n",
      "['pixel_stats', 'mean_magnitudes', 'mean_realparts', 'marginal_stats_lowpass_recons', 'variance_highpass_resid', 'magnitude_feature_autocorrs', 'lowpass_recon_autocorrs', 'highpass_resid_autocorrs', 'magnitude_within_scale_crosscorrs', 'real_within_scale_crosscorrs', 'magnitude_across_scale_crosscorrs', 'real_imag_across_scale_crosscorrs', 'real_spatshift_within_scale_crosscorrs', 'real_spatshift_across_scale_crosscorrs']\n",
      "Final size of features concatenated is [697 x 641]\n",
      "Final size of features concatenated is [697 x 641]\n",
      "Loading pre-computed features from /user_data/mmhender/features/sketch_tokens/S1_features_each_prf.h5py\n",
      "Took 34.70424 seconds to load file\n",
      "Size of features array for this image set is:\n",
      "(697, 151, 875)\n",
      "Final size of feature matrix is:\n",
      "(697, 151)\n",
      "Clearing precomputed features from memory.\n",
      "Clearing features from memory\n",
      "Getting predictions for voxels [0-1] of 2\n",
      "\n",
      "Evaluating version 0 of 7: full_combined_model\n",
      "Includes 792 features\n",
      "number of zeros:\n",
      "0\n",
      "size of weights is:\n",
      "torch.Size([2, 792])\n",
      "\n",
      "Evaluating version 1 of 7: just_pyramid_texture\n",
      "Includes 641 features\n",
      "number of zeros:\n",
      "0\n",
      "size of weights is:\n",
      "torch.Size([2, 641])\n",
      "\n",
      "Evaluating version 2 of 7: pyramid_texture_just_lower-level_no_other_modules\n",
      "Includes 49 features\n",
      "number of zeros:\n",
      "0\n",
      "size of weights is:\n",
      "torch.Size([2, 49])\n",
      "\n",
      "Evaluating version 3 of 7: pyramid_texture_just_higher-level_no_other_modules\n",
      "Includes 592 features\n",
      "number of zeros:\n",
      "0\n",
      "size of weights is:\n",
      "torch.Size([2, 592])\n",
      "\n",
      "Evaluating version 4 of 7: pyramid_texture_just_lower-level_plus_other_modules\n",
      "Includes 200 features\n",
      "number of zeros:\n",
      "0\n",
      "size of weights is:\n",
      "torch.Size([2, 200])\n",
      "\n",
      "Evaluating version 5 of 7: pyramid_texture_just_higher-level_plus_other_modules\n",
      "Includes 743 features\n",
      "number of zeros:\n",
      "0\n",
      "size of weights is:\n",
      "torch.Size([2, 743])\n",
      "\n",
      "Evaluating version 6 of 7: just_sketch_tokens\n",
      "Includes 151 features\n",
      "number of zeros:\n",
      "0\n",
      "size of weights is:\n",
      "torch.Size([2, 151])\n"
     ]
    }
   ],
   "source": [
    "val_cc, val_r2, val_voxel_data_pred  = validate_fwrf_model(best_params, models, val_voxel_data[:,vinds2use], \\\n",
    "                                                                                val_stim_data, _feature_extractor, \\\n",
    "                                   sample_batch_size=sample_batch_size, voxel_batch_size=voxel_batch_size, debug=debug, dtype=fpX)"
   ]
  },
  {
   "cell_type": "code",
   "execution_count": 18,
   "id": "d30f0386",
   "metadata": {},
   "outputs": [
    {
     "data": {
      "text/plain": [
       "array([[0.01777613, 0.01777613, 0.01777613, 0.02915171, 0.01777613,\n",
       "        0.04053882, 0.00893185],\n",
       "       [0.03447067, 0.03447067, 0.03447067, 0.03800093, 0.03447067,\n",
       "        0.08110691, 0.05354673]], dtype=float32)"
      ]
     },
     "execution_count": 18,
     "metadata": {},
     "output_type": "execute_result"
    }
   ],
   "source": [
    "val_cc"
   ]
  },
  {
   "cell_type": "code",
   "execution_count": 22,
   "id": "a9ce6a0b",
   "metadata": {},
   "outputs": [
    {
     "data": {
      "text/plain": [
       "-1.9178518e+17"
      ]
     },
     "execution_count": 22,
     "metadata": {},
     "output_type": "execute_result"
    }
   ],
   "source": [
    "val_r2[0,2]"
   ]
  },
  {
   "cell_type": "code",
   "execution_count": 28,
   "id": "468a44b3",
   "metadata": {},
   "outputs": [],
   "source": [
    "dat = val_voxel_data[:,vinds2use[0]]"
   ]
  },
  {
   "cell_type": "code",
   "execution_count": 29,
   "id": "7f8ffe03",
   "metadata": {},
   "outputs": [
    {
     "data": {
      "text/plain": [
       "(697,)"
      ]
     },
     "execution_count": 29,
     "metadata": {},
     "output_type": "execute_result"
    }
   ],
   "source": [
    "dat.shape"
   ]
  },
  {
   "cell_type": "code",
   "execution_count": 30,
   "id": "2025a520",
   "metadata": {},
   "outputs": [],
   "source": [
    "datpred = val_voxel_data_pred[:,0,2]"
   ]
  },
  {
   "cell_type": "code",
   "execution_count": 37,
   "id": "eb7379ac",
   "metadata": {},
   "outputs": [
    {
     "data": {
      "text/plain": [
       "[<matplotlib.lines.Line2D at 0x7fde39f38550>]"
      ]
     },
     "execution_count": 37,
     "metadata": {},
     "output_type": "execute_result"
    },
    {
     "data": {
      "image/png": "[encoded data removed]",
      "text/plain": [
       "<Figure size 432x288 with 1 Axes>"
      ]
     },
     "metadata": {
      "needs_background": "light"
     },
     "output_type": "display_data"
    }
   ],
   "source": [
    "import matplotlib.pyplot as plt\n",
    "plt.figure();\n",
    "# plt.plot(dat)\n",
    "plt.plot(datpred)"
   ]
  },
  {
   "cell_type": "code",
   "execution_count": 39,
   "id": "c51d2a66",
   "metadata": {},
   "outputs": [
    {
     "data": {
      "text/plain": [
       "533"
      ]
     },
     "execution_count": 39,
     "metadata": {},
     "output_type": "execute_result"
    }
   ],
   "source": [
    "np.argmin(datpred)"
   ]
  },
  {
   "cell_type": "code",
   "execution_count": 40,
   "id": "7670c4e2",
   "metadata": {},
   "outputs": [
    {
     "data": {
      "text/plain": [
       "-11646300000.0"
      ]
     },
     "execution_count": 40,
     "metadata": {},
     "output_type": "execute_result"
    }
   ],
   "source": [
    "datpred[533]"
   ]
  },
  {
   "cell_type": "code",
   "execution_count": 41,
   "id": "18328ddc",
   "metadata": {},
   "outputs": [
    {
     "data": {
      "text/plain": [
       "1"
      ]
     },
     "execution_count": 41,
     "metadata": {},
     "output_type": "execute_result"
    }
   ],
   "source": [
    "np.sum(datpred<-1000)"
   ]
  },
  {
   "cell_type": "code",
   "execution_count": 45,
   "id": "c082a822",
   "metadata": {},
   "outputs": [
    {
     "name": "stdout",
     "output_type": "stream",
     "text": [
      "Subsets of features that are going into the stacking analysis:\n",
      "['pyramid_texture_just_lower-level_no_other_modules', 'pyramid_texture_just_higher-level_no_other_modules', 'just_sketch_tokens']\n"
     ]
    }
   ],
   "source": [
    "n_voxels = trn_voxel_data.shape[1]\n",
    "\n",
    "# To get the \"features\" to use for stacking - i'm using the \"partial models\" that are defined \n",
    "# by the feature extractor. The first one is the full model, so we don't want to use that - just want \n",
    "# the ones that include just a subset of the full feature space.\n",
    "partial_masks, partial_version_names = _feature_extractor.get_partial_versions()\n",
    "partial_models_use = []\n",
    "hasattr(_feature_extractor, 'module_names')\n",
    "for mm in range(len(_feature_extractor.module_names)):\n",
    "    this_module = np.where([(_feature_extractor.module_names[mm] in pp) for pp in partial_version_names])[0]\n",
    "    if len(this_module)>1:\n",
    "        # this means there are 'subsets' of features within this module that we will want to consider separately.\n",
    "        # so finding just the ones that we want here.\n",
    "        partial_models_use += list(np.where([(_feature_extractor.module_names[mm] in pp and '_just' in pp and '_no_other_modules' in pp) \\\n",
    "                     for pp in partial_version_names])[0])\n",
    "    else:\n",
    "        partial_models_use += list(this_module)\n",
    "print('Subsets of features that are going into the stacking analysis:')\n",
    "print([partial_version_names[pp] for pp in partial_models_use])\n",
    "\n",
    "n_feature_groups = len(partial_models_use)\n",
    "\n",
    "# Creating a list where each element is predictions for one of the partial models - these will be \n",
    "# the 'features' elements input to stacking code.\n",
    "preds_train = [trn_voxel_data_pred[:,:,pp].T for pp in partial_models_use]\n",
    "preds_val = [val_voxel_data_pred[:,:,pp] for pp in partial_models_use]\n",
    "# Compute trial-wise training errors\n",
    "# each element of err is [ntrials x nvoxels]\n",
    "train_err = [trn_voxel_data[:,vinds2use] - trn_voxel_data_pred[:,:,pp].T for pp in partial_models_use]\n",
    "\n",
    "# Also computing the performance of each of the partial versions on training set data.\n",
    "# this is sort of a sanity check that things are working, since the performance of the partial models\n",
    "# should roughly predict what the stacking weights will be.\n",
    "train_r2 = np.array([get_r2(trn_voxel_data[:,vinds2use], trn_voxel_data_pred[:,:,pp].T, axis=0) \\\n",
    "                     for pp in range(len(partial_version_names))]).T\n",
    "train_r2 = np.nan_to_num(train_r2)\n",
    "train_cc = np.array([get_corrcoef(trn_voxel_data[:,vinds2use], trn_voxel_data_pred[:,:,pp].T, axis=0) \\\n",
    "                     for pp in range(len(partial_version_names))]).T\n",
    "train_cc = np.nan_to_num(train_cc)\n",
    "\n",
    "# First running stacking w all features included\n",
    "feat_use = np.arange(0,n_feature_groups)"
   ]
  },
  {
   "cell_type": "code",
   "execution_count": 46,
   "id": "ff11f3b3",
   "metadata": {},
   "outputs": [
    {
     "data": {
      "text/plain": [
       "array([[0.48238674, 0.41091463, 0.24397306, 0.31177798, 0.42447937,\n",
       "        0.4575612 , 0.38233986],\n",
       "       [0.41395876, 0.56622624, 0.34037608, 0.524405  , 0.39886725,\n",
       "        0.31344116, 0.2598045 ]], dtype=float32)"
      ]
     },
     "execution_count": 46,
     "metadata": {},
     "output_type": "execute_result"
    }
   ],
   "source": [
    "train_cc"
   ]
  },
  {
   "cell_type": "code",
   "execution_count": 49,
   "id": "a29e50e4",
   "metadata": {},
   "outputs": [
    {
     "name": "stdout",
     "output_type": "stream",
     "text": [
      "Running stacking, feat_use is:\n",
      "[0 1 2]\n"
     ]
    }
   ],
   "source": [
    "train_data=trn_voxel_data[:,vinds2use];\n",
    "val_data = val_voxel_data[:,vinds2use]; \n",
    "\n",
    "solvers.options[\"show_progress\"] = False\n",
    "\n",
    "print('Running stacking, feat_use is:')\n",
    "print(feat_use)\n",
    "n_voxels = train_data.shape[1]\n",
    "n_feature_groups = len(feat_use) # feat use is the sub-set of feature groups to stack.\n",
    "n_trials_train = train_data.shape[0]\n",
    "n_trials_val = preds_val[0].shape[0]\n",
    "\n",
    "dtype = train_data.dtype\n",
    "stacked_pred_train = np.full(fill_value=0, shape=(n_trials_train, n_voxels), dtype=dtype)\n",
    "stacked_pred_val = np.full(fill_value=0, shape=(n_trials_val, n_voxels), dtype=dtype)\n",
    "\n",
    "# calculate error matrix for stacking\n",
    "P = np.zeros((n_voxels, n_feature_groups, n_feature_groups))\n",
    "idI = 0\n",
    "for i in feat_use:\n",
    "    idJ = 0\n",
    "    for j in feat_use:\n",
    "        # err is the trialwise, voxelwise, error for each model.\n",
    "        # P will store the summed products of the error for each pair of models \n",
    "        # (if i=j, then it's the summed squared error).\n",
    "        P[:, idI, idJ] = np.mean(train_err[i] * train_err[j], 0)\n",
    "        idJ += 1\n",
    "    idI += 1\n",
    "\n",
    "idI = 0\n",
    "idJ = 0\n",
    "\n",
    "# PROGRAMATICALLY SET THIS FROM THE NUMBER OF FEATURES\n",
    "q = matrix(np.zeros((n_feature_groups)))\n",
    "G = matrix(-np.eye(n_feature_groups, n_feature_groups))\n",
    "h = matrix(np.zeros(n_feature_groups))\n",
    "A = matrix(np.ones((1, n_feature_groups)))\n",
    "b = matrix(np.ones(1))\n",
    "\n",
    "# Stacking weights will be stored here\n",
    "S = np.zeros((n_voxels, n_feature_groups))\n"
   ]
  },
  {
   "cell_type": "code",
   "execution_count": 66,
   "id": "8666288a",
   "metadata": {},
   "outputs": [
    {
     "data": {
      "text/plain": [
       "[2, 3, 6]"
      ]
     },
     "execution_count": 66,
     "metadata": {},
     "output_type": "execute_result"
    }
   ],
   "source": [
    "partial_models_use"
   ]
  },
  {
   "cell_type": "code",
   "execution_count": 67,
   "id": "42d1c71a",
   "metadata": {},
   "outputs": [
    {
     "data": {
      "text/plain": [
       "0.9353744378019074"
      ]
     },
     "execution_count": 67,
     "metadata": {},
     "output_type": "execute_result"
    }
   ],
   "source": [
    "np.mean((trn_voxel_data[:,vinds2use[0]]-trn_voxel_data_pred[0,:,2])**2)"
   ]
  },
  {
   "cell_type": "code",
   "execution_count": 60,
   "id": "300a5009",
   "metadata": {},
   "outputs": [
    {
     "data": {
      "text/plain": [
       "(2, 688, 7)"
      ]
     },
     "execution_count": 60,
     "metadata": {},
     "output_type": "execute_result"
    }
   ],
   "source": [
    "trn_voxel_data_pred.shape"
   ]
  },
  {
   "cell_type": "code",
   "execution_count": 52,
   "id": "096beac7",
   "metadata": {},
   "outputs": [
    {
     "data": {
      "text/plain": [
       "array([[0.93537444, 0.90591204, 0.86681897],\n",
       "       [0.90591204, 0.92387216, 0.86889361],\n",
       "       [0.86681897, 0.86889361, 0.87158037]])"
      ]
     },
     "execution_count": 52,
     "metadata": {},
     "output_type": "execute_result"
    }
   ],
   "source": [
    "P[0,:,:]"
   ]
  },
  {
   "cell_type": "code",
   "execution_count": 56,
   "id": "c4618ddc",
   "metadata": {},
   "outputs": [
    {
     "data": {
      "text/plain": [
       "array([0.05899372, 0.07056525, 0.12317189])"
      ]
     },
     "execution_count": 56,
     "metadata": {},
     "output_type": "execute_result"
    }
   ],
   "source": [
    "train_r2[0,partial_models_use]"
   ]
  },
  {
   "cell_type": "code",
   "execution_count": 9,
   "id": "aec64809",
   "metadata": {},
   "outputs": [],
   "source": [
    "from __future__ import division\n",
    "import sys\n",
    "import time\n",
    "import numpy as np\n",
    "import copy\n",
    "import torch\n",
    "from cvxopt import matrix, solvers\n",
    "\n",
    "from utils import numpy_utils, torch_utils\n",
    "\n",
    "\n",
    "def get_r2(actual,predicted,axis=0):\n",
    "    \"\"\"\n",
    "    This computes the coefficient of determination (R2).\n",
    "    Specify which axis to compute along (i.e. the trials/samples dimension)\n",
    "    \"\"\"\n",
    "    ssres = np.sum(np.power((predicted - actual),2), axis=0);\n",
    "    sstot = np.sum(np.power((actual - np.mean(actual)),2), axis=0);\n",
    "    r2 = 1-(ssres/sstot)\n",
    "    \n",
    "    return r2\n",
    "\n",
    "def get_corrcoef(actual,predicted,axis=0,dtype=np.float32):\n",
    "    \"\"\"\n",
    "    This computes the linear correlation coefficient.\n",
    "    Specify which axis to compute along (i.e. the trials/samples dimension)\n",
    "    Assume input is 2D.\n",
    "    \"\"\"\n",
    "    assert(len(actual.shape)==2)\n",
    "    loop_axis = 1-axis;\n",
    "    vals_cc = np.full(fill_value=0, shape=(actual.shape[loop_axis],), dtype=dtype)\n",
    "    for vv in range(actual.shape[loop_axis]):\n",
    "        vals_cc[vv] = np.corrcoef(actual[:,vv], predicted[:,vv])[0,1] \n",
    "    return vals_cc\n",
    " \n",
    "def validate_fwrf_model(best_params, prf_models, voxel_data, images, _feature_extractor, \\\n",
    "                                   sample_batch_size=100, voxel_batch_size=100, debug=False, dtype=np.float32):\n",
    "    \n",
    "    \"\"\" \n",
    "    Evaluate trained model, leaving out a subset of features at a time.\n",
    "    \"\"\"\n",
    "    \n",
    "    params = best_params\n",
    "    device = _feature_extractor.device\n",
    "    \n",
    "    n_trials, n_voxels = len(images), len(params[0])\n",
    "    n_prfs = prf_models.shape[0]\n",
    "    n_features = params[1].shape[1]  \n",
    "    n_voxels = np.shape(voxel_data)[1]\n",
    "\n",
    "    best_models, weights, bias, features_mt, features_st, best_model_inds = params\n",
    "    masks, partial_version_names = _feature_extractor.get_partial_versions()\n",
    "    masks = np.transpose(masks)    \n",
    "    n_features_max = _feature_extractor.max_features\n",
    "    n_partial_versions = len(partial_version_names)\n",
    "    \n",
    "    # val_cc is the correlation coefficient bw real and predicted responses across trials, for each voxel.\n",
    "    val_cc  = np.zeros(shape=(n_voxels, n_partial_versions), dtype=dtype)\n",
    "    val_r2 = np.zeros(shape=(n_voxels, n_partial_versions), dtype=dtype)\n",
    "\n",
    "    pred_models = np.full(fill_value=0, shape=(n_trials, n_features_max, n_prfs), dtype=dtype)\n",
    "    feature_inds_defined_each_prf = np.full(fill_value=0, shape=(n_features_max, n_prfs), dtype=bool)\n",
    "    \n",
    "    # Saving full trial-by-trial predictions for each voxel, each partial model.\n",
    "    # Need these for stacking.\n",
    "    pred_voxel_data = np.full(fill_value=0, shape=(n_trials, n_voxels, n_partial_versions), dtype=dtype)\n",
    "    \n",
    "    start_time = time.time()    \n",
    "    with torch.no_grad(): # make sure local gradients are off to save memory\n",
    "        \n",
    "        # First gather texture features for all pRFs.\n",
    "        \n",
    "        _feature_extractor.clear_big_features()\n",
    "        \n",
    "        for mm in [353]:\n",
    "#         for mm in range(n_prfs):\n",
    "#             if mm>1 and debug:\n",
    "#                 break\n",
    "            print('Getting features for prf %d: [x,y,sigma] is [%.2f %.2f %.4f]'%(mm, prf_models[mm,0],  prf_models[mm,1],  prf_models[mm,2] ))\n",
    "            # all_feat_concat is size [ntrials x nfeatures]\n",
    "            # nfeatures may be less than n_features_max, because n_features_max is the largest number possible for any pRF.\n",
    "            # feature_inds_defined is length max_features, and tells which of the features in max_features are includes in features.\n",
    "            all_feat_concat, feature_inds_defined = _feature_extractor(images, prf_models[mm,:], mm, fitting_mode=False)\n",
    "            \n",
    "            pred_models[:,feature_inds_defined,mm] = torch_utils.get_value(all_feat_concat)\n",
    "            feature_inds_defined_each_prf[:,mm] = feature_inds_defined\n",
    "            \n",
    "        _feature_extractor.clear_big_features()\n",
    "        \n",
    "        vv=-1\n",
    "        ## Looping over voxels here in batches, will eventually go through all.\n",
    "        for rv, lv in numpy_utils.iterate_range(0, n_voxels, voxel_batch_size):\n",
    "            vv=vv+1\n",
    "            print('Getting predictions for voxels [%d-%d] of %d'%(rv[0],rv[-1],n_voxels))\n",
    "\n",
    "            if vv>1 and debug:\n",
    "                break\n",
    "\n",
    "            # Looping over versions of model w different features set to zero (variance partition)\n",
    "            for pp in range(n_partial_versions):\n",
    "\n",
    "                print('\\nEvaluating version %d of %d: %s'%(pp, n_partial_versions, partial_version_names[pp]))\n",
    "\n",
    "                # masks describes the indices of the features that are included in this partial model\n",
    "                # n_features_max in length\n",
    "                features_to_use = masks[:,pp]==1\n",
    "                print('Includes %d features'%np.sum(features_to_use))\n",
    "\n",
    "                # [trials x features x voxels]\n",
    "                features_full = pred_models[:,:,best_model_inds[rv,pp]]\n",
    "                # Take out the relevant features now\n",
    "                features_full = features_full[:,features_to_use,:]\n",
    "                # Note there may be some zeros in this matrix, if we used fewer than the max number of features.\n",
    "                # But they are zero in weight matrix too, so turns out ok.\n",
    "\n",
    "                _weights = torch_utils._to_torch(weights[rv,:,pp], device=device)   \n",
    "                _weights = _weights[:, features_to_use]\n",
    "                _bias = torch_utils._to_torch(bias[rv,pp], device=device)\n",
    "\n",
    "                print('number of zeros:')\n",
    "                print(np.sum(features_full[0,:,0]==0))\n",
    "\n",
    "                print('size of weights is:')\n",
    "                print(_weights.shape)\n",
    "\n",
    "                if features_mt is not None:\n",
    "                    _features_m = torch_utils._to_torch(features_mt[rv,:], device=device)\n",
    "                    _features_m = _features_m[:,features_to_use]\n",
    "                if features_st is not None:\n",
    "                    _features_s = torch_utils._to_torch(features_st[rv,:], device=device)\n",
    "                    _features_s = _features_s[:,features_to_use]\n",
    "\n",
    "                pred_block = np.full(fill_value=0, shape=(n_trials, lv), dtype=dtype)\n",
    "\n",
    "                # Now looping over validation set trials in batches\n",
    "                for rt, lt in numpy_utils.iterate_range(0, n_trials, sample_batch_size):\n",
    "\n",
    "                    _features = torch_utils._to_torch(features_full[rt,:], device=device) # trials x features\n",
    "                    if features_mt is not None:    \n",
    "                        # features_m is [nvoxels x nfeatures] - need [trials x features x voxels]\n",
    "                        _features = _features - torch.tile(torch.unsqueeze(_features_m, dim=0), [_features.shape[0], 1, 1]).moveaxis([1],[2])\n",
    "\n",
    "                    if features_st is not None:\n",
    "                        _features = _features/torch.tile(torch.unsqueeze(_features_s, dim=0), [_features.shape[0], 1, 1]).moveaxis([1],[2])\n",
    "                        # if any entries in std are zero or nan, this gives bad result - fix these now.\n",
    "                        # these bad entries will also be zero in weights, so doesn't matter. just want to avoid nans.\n",
    "                        _features[torch.isnan(_features)] = 0.0 \n",
    "                        _features[torch.isinf(_features)] = 0.0\n",
    "                        \n",
    "                    # features is [#samples, #features, #voxels] - swap dims to [#voxels, #samples, features]\n",
    "                    _features = torch.transpose(torch.transpose(_features, 0, 2), 1, 2)\n",
    "                    # weights is [#voxels, #features]\n",
    "                    # _r will be [#voxels, #samples, 1] - then [#samples, #voxels]\n",
    "\n",
    "                    _r = torch.squeeze(torch.bmm(_features, torch.unsqueeze(_weights, 2)), dim=2).t() \n",
    "\n",
    "                    if _bias is not None:\n",
    "                        _r = _r + torch.tile(torch.unsqueeze(_bias, 0), [_r.shape[0],1])\n",
    "\n",
    "                    pred_block[rt] = torch_utils.get_value(_r) \n",
    "                \n",
    "                # Making sure to save these so that we can get stacking performance later.\n",
    "                pred_voxel_data[:,rv,pp] = pred_block\n",
    "                \n",
    "                # Now for this batch of voxels and this partial version of the model, measure performance.\n",
    "                val_cc[rv,pp] = get_corrcoef(voxel_data[:,rv], pred_block, axis=0)\n",
    "                val_r2[rv,pp] = get_r2(voxel_data[:,rv], pred_block, axis=0)\n",
    "\n",
    "                sys.stdout.flush()\n",
    "\n",
    "    # any nans become zeros here.\n",
    "    val_cc = np.nan_to_num(val_cc)\n",
    "    val_r2 = np.nan_to_num(val_r2) \n",
    "    \n",
    "    return val_cc, val_r2, pred_voxel_data\n",
    "\n",
    "\n",
    "def run_stacking(_feature_extractor, trn_voxel_data, val_voxel_data, trn_voxel_data_pred, val_voxel_data_pred, debug=False):   \n",
    "    \"\"\"\n",
    "    Get data organized to run stacking code (stacked_core)\n",
    "    \"\"\"\n",
    "    n_voxels = trn_voxel_data.shape[1]\n",
    "\n",
    "    # To get the \"features\" to use for stacking - i'm using the \"partial models\" that are defined \n",
    "    # by the feature extractor. The first one is the full model, so we don't want to use that - just want \n",
    "    # the ones that include just a subset of the full feature space.\n",
    "    partial_masks, partial_version_names = _feature_extractor.get_partial_versions()\n",
    "    partial_models_use = []\n",
    "    hasattr(_feature_extractor, 'module_names')\n",
    "    for mm in range(len(_feature_extractor.module_names)):\n",
    "        this_module = np.where([(_feature_extractor.module_names[mm] in pp) for pp in partial_version_names])[0]\n",
    "        if len(this_module)>1:\n",
    "            # this means there are 'subsets' of features within this module that we will want to consider separately.\n",
    "            # so finding just the ones that we want here.\n",
    "            partial_models_use += list(np.where([(_feature_extractor.module_names[mm] in pp and '_just' in pp and '_no_other_modules' in pp) \\\n",
    "                         for pp in partial_version_names])[0])\n",
    "        else:\n",
    "            partial_models_use += list(this_module)\n",
    "    print('Subsets of features that are going into the stacking analysis:')\n",
    "    print([partial_version_names[pp] for pp in partial_models_use])\n",
    "\n",
    "    n_feature_groups = len(partial_models_use)\n",
    "\n",
    "    # Creating a list where each element is predictions for one of the partial models - these will be \n",
    "    # the 'features' elements input to stacking code.\n",
    "    preds_train = [trn_voxel_data_pred[:,:,pp].T for pp in partial_models_use]\n",
    "    preds_val = [val_voxel_data_pred[:,:,pp] for pp in partial_models_use]\n",
    "    # Compute trial-wise training errors\n",
    "    # each element of err is [ntrials x nvoxels]\n",
    "    train_err = [trn_voxel_data - trn_voxel_data_pred[:,:,pp].T for pp in partial_models_use]\n",
    "\n",
    "    # Also computing the performance of each of the partial versions on training set data.\n",
    "    # this is sort of a sanity check that things are working, since the performance of the partial models\n",
    "    # should roughly predict what the stacking weights will be.\n",
    "    train_r2 = np.array([get_r2(trn_voxel_data, trn_voxel_data_pred[:,:,pp].T, axis=0) \\\n",
    "                         for pp in range(len(partial_version_names))]).T\n",
    "    train_r2 = np.nan_to_num(train_r2)\n",
    "    train_cc = np.array([get_corrcoef(trn_voxel_data, trn_voxel_data_pred[:,:,pp].T, axis=0) \\\n",
    "                         for pp in range(len(partial_version_names))]).T\n",
    "    train_cc = np.nan_to_num(train_cc)\n",
    "\n",
    "    # First running stacking w all features included\n",
    "    feat_use = np.arange(0,n_feature_groups)\n",
    "    # Stack result will be a tuple including the stacking weights, performance.\n",
    "    stack_result = stacked_core(feat_use, train_err, train_data=trn_voxel_data,\\\n",
    "                     val_data = val_voxel_data, preds_train = preds_train, preds_val = preds_val,\\\n",
    "                     debug=debug);\n",
    "\n",
    "    # Then going to repeat it leaving out one feature group at a time\n",
    "    # This will only make sense to do there are more than 2 feature groups, otherwise it's just single models.\n",
    "    if n_feature_groups>2:   \n",
    "        stack_result_lo = dict()\n",
    "        for leave_one in range(n_feature_groups):\n",
    "            feat_use_lo = list(copy.deepcopy(feat_use))\n",
    "            feat_use_lo.remove(leave_one)\n",
    "            tmp = stacked_core(feat_use_lo, train_err, train_data=trn_voxel_data,\\\n",
    "                             val_data = val_voxel_data, preds_train = preds_train, preds_val = preds_val,\\\n",
    "                             debug=debug);\n",
    "            stack_result_lo[leave_one] = tmp\n",
    "    else:       \n",
    "        stack_result_lo = None\n",
    "\n",
    "\n",
    "    return stack_result, stack_result_lo, partial_models_use, train_r2, train_cc\n",
    "\n",
    "\n",
    "def stacked_core(feat_use, train_err, train_data, val_data, preds_train, preds_val, debug=False):\n",
    "    \"\"\"\n",
    "    Compute weights for stacking models (linearly combining predictions of multiple encoding models).\n",
    "    Outputs weights and performance of the stacked model.\n",
    "    Code from Ruogu Lin (modified slightly for this project).\n",
    "    \"\"\"\n",
    "    \n",
    "    solvers.options[\"show_progress\"] = False\n",
    "\n",
    "    print('Running stacking, feat_use is:')\n",
    "    print(feat_use)\n",
    "    n_voxels = train_data.shape[1]\n",
    "    n_feature_groups = len(feat_use) # feat use is the sub-set of feature groups to stack.\n",
    "    n_trials_train = train_data.shape[0]\n",
    "    n_trials_val = preds_val[0].shape[0]\n",
    "        \n",
    "    dtype = train_data.dtype\n",
    "    stacked_pred_train = np.full(fill_value=0, shape=(n_trials_train, n_voxels), dtype=dtype)\n",
    "    stacked_pred_val = np.full(fill_value=0, shape=(n_trials_val, n_voxels), dtype=dtype)\n",
    "\n",
    "    # calculate error matrix for stacking\n",
    "    P = np.zeros((n_voxels, n_feature_groups, n_feature_groups))\n",
    "    idI = 0\n",
    "    for i in feat_use:\n",
    "        idJ = 0\n",
    "        for j in feat_use:\n",
    "            # err is the trialwise, voxelwise, error for each model.\n",
    "            # P will store the summed products of the error for each pair of models \n",
    "            # (if i=j, then it's the summed squared error).\n",
    "            P[:, idI, idJ] = np.mean(train_err[i] * train_err[j], 0)\n",
    "            idJ += 1\n",
    "        idI += 1\n",
    "\n",
    "    idI = 0\n",
    "    idJ = 0\n",
    "\n",
    "    # PROGRAMATICALLY SET THIS FROM THE NUMBER OF FEATURES\n",
    "    q = matrix(np.zeros((n_feature_groups)))\n",
    "    G = matrix(-np.eye(n_feature_groups, n_feature_groups))\n",
    "    h = matrix(np.zeros(n_feature_groups))\n",
    "    A = matrix(np.ones((1, n_feature_groups)))\n",
    "    b = matrix(np.ones(1))\n",
    "\n",
    "    # Stacking weights will be stored here\n",
    "    S = np.zeros((n_voxels, n_feature_groups))\n",
    "\n",
    "    for vv in range(0, n_voxels):\n",
    "        if debug and vv>1:\n",
    "            continue\n",
    "            \n",
    "        print('Solving for stacking weights for voxel %d of %d'%(vv, n_voxels))\n",
    "        PP = matrix(P[vv])\n",
    "        # solve for stacking weights for every voxel\n",
    "        # This essentially is minimizing the quantity x.T @ PP @ x, subject to the constraint that\n",
    "        # the elements of x have to be positive, and have to sum to 1. \n",
    "        # x will be the weights for the stacking model.\n",
    "        # Weights will be dependent on the error of each model individually (this is contained in PP).\n",
    "        S[vv, :] = np.array(solvers.qp(PP, q, G, h, A, b)[\"x\"]).reshape(n_feature_groups,)\n",
    "        if vv==0:\n",
    "            print('Stacking weights matrix is size:')\n",
    "            print(S.shape)\n",
    "            \n",
    "        # Combine the predictions from the individual feature spaces for voxel i\n",
    "        z = np.array([preds_val[feature_j][:, vv] for feature_j in feat_use])\n",
    "        # multiply the predictions by S[vv,:]\n",
    "        stacked_pred_val[:, vv] = np.dot(S[vv, :], z)\n",
    "        \n",
    "        # Same thing for the training trials\n",
    "        z = np.array([preds_train[feature_j][:, vv] for feature_j in feat_use])\n",
    "        stacked_pred_train[:, vv] = np.dot(S[vv, :], z)\n",
    "        \n",
    "        sys.stdout.flush()\n",
    "        \n",
    "    print('Computing performance of stacked models')\n",
    "    # Compute r2 of the stacked model for training data\n",
    "    stacked_r2_train = get_r2(stacked_pred_train, train_data, axis=0)\n",
    "    stacked_cc_train = get_corrcoef(stacked_pred_train, train_data, axis=0)\n",
    "    stacked_r2_train = np.nan_to_num(stacked_r2_train)\n",
    "    stacked_cc_train = np.nan_to_num(stacked_cc_train) \n",
    "    \n",
    "    # And for validation data\n",
    "    stacked_r2_val = get_r2(stacked_pred_val, val_data, axis=0)\n",
    "    stacked_cc_val = get_corrcoef(stacked_pred_val, val_data, axis=0)\n",
    "    stacked_r2_val = np.nan_to_num(stacked_r2_val)\n",
    "    stacked_cc_val = np.nan_to_num(stacked_cc_val) \n",
    "    \n",
    "    return S, stacked_r2_train, stacked_cc_train, stacked_r2_val, stacked_cc_val\n",
    "\n"
   ]
  },
  {
   "cell_type": "code",
   "execution_count": 8,
   "id": "970ddbf2",
   "metadata": {},
   "outputs": [],
   "source": [
    "import sys\n",
    "import time\n",
    "import copy\n",
    "import numpy as np\n",
    "\n",
    "import torch\n",
    "import torch.nn as nn\n",
    "import torch.nn.init as I\n",
    "import torch.nn.functional as F\n",
    "import torch.optim as optim\n",
    "\n",
    "from utils import numpy_utils, torch_utils, texture_utils\n",
    "\n",
    "\"\"\"\n",
    "General code for fitting a 'feature weighted receptive field' model to fmri data - looping over many candidate pRF \n",
    "models for each voxel, find a set of weights that best predict its responses based on feature space of interest.\n",
    "Can work for many different types of feature spaces, feature extraction implemented with nn.Module.\n",
    "\n",
    "Original source of some of this code is the github repository:\n",
    "https://github.com/styvesg/nsd\n",
    "It was modified by MH to work for this project.\n",
    "\"\"\"\n",
    "\n",
    "\n",
    "def _cofactor_fn_cpu(_x, lambdas):\n",
    "    '''\n",
    "    Generating a matrix needed to solve ridge regression model for each lambda value.\n",
    "    Ridge regression (Tikhonov) solution is :\n",
    "    w = (X^T*X + I*lambda)^-1 * X^T * Y\n",
    "    This func will return (X^T*X + I*lambda)^-1 * X^T. \n",
    "    So once we have that, can just multiply by training data (Y) to get weights.\n",
    "    returned size is [nLambdas x nFeatures x nTrials]\n",
    "    This version makes sure that the torch inverse operation is done on the cpu, and in floating point-64 precision.\n",
    "    Otherwise get bad results for small lambda values. This seems to be a torch-specific bug, noted around May 2021.\n",
    "    \n",
    "    '''\n",
    "    device_orig = _x.device\n",
    "    type_orig = _x.dtype\n",
    "    # switch to this specific format which works with inverse\n",
    "    _x = _x.to('cpu').to(torch.float64)\n",
    "    _f = torch.stack([(torch.mm(torch.t(_x), _x) + torch.eye(_x.size()[1], device='cpu', dtype=torch.float64) * l).inverse() for l in lambdas], axis=0) \n",
    "    \n",
    "    # [#lambdas, #feature, #feature] \n",
    "    cof = torch.tensordot(_f, _x, dims=[[2],[1]]) # [#lambdas, #feature, #sample]\n",
    "    \n",
    "    # put back to whatever way it was before, so that we can continue with other operations as usual\n",
    "    return cof.to(device_orig).to(type_orig)\n",
    "\n",
    "\n",
    "\n",
    "def _loss_fn(_cofactor, _vtrn, _xout, _vout):\n",
    "    '''\n",
    "    Calculate loss given \"cofactor\" from cofactor_fn, training data, held-out design matrix, held out data.\n",
    "    returns weights (betas) based on equation\n",
    "    w = (X^T*X + I*lambda)^-1 * X^T * Y\n",
    "    also returns loss for these weights w the held out data. SSE is loss func here.\n",
    "    '''\n",
    "\n",
    "    _beta = torch.tensordot(_cofactor, _vtrn, dims=[[2], [0]]) # [#lambdas, #feature, #voxel]\n",
    "    _pred = torch.tensordot(_xout, _beta, dims=[[1],[1]]) # [#samples, #lambdas, #voxels]\n",
    "    _loss = torch.sum(torch.pow(_vout[:,None,:] - _pred, 2), dim=0) # [#lambdas, #voxels]\n",
    "    return _beta, _loss\n",
    "\n",
    "\n",
    "\n",
    "def fit_fwrf_model(images, voxel_data, _feature_extractor, prf_models, lambdas, \\\n",
    "                   zscore=False, add_bias=False, voxel_batch_size=100, holdout_size=100, \\\n",
    "                       shuffle=True, shuff_rnd_seed=0, device=None, dtype=np.float32, debug=False):\n",
    "    \n",
    "    \"\"\"\n",
    "    Solve for encoding model weights using ridge regression.\n",
    "    Inputs:\n",
    "        images: the training images, [n_trials x 1 x height x width]\n",
    "            OR for models where features were pre-computed, this is a list of indices [n_trials,] into the 10,000 long feature array.\n",
    "        voxel_data: the training voxel data, [n_trials x n_voxels]\n",
    "        _feature_extractor_fn: module that maps from images to model features\n",
    "        prf_models: the list of possible pRFs to test, columns are [x, y, sigma]\n",
    "        lambdas: ridge lambda parameters to test\n",
    "        zscore: want to zscore each column of feature matrix before fitting?\n",
    "        add_bias: add a column of ones to feature matrix, for an additive bias?\n",
    "        voxel_batch_size: how many voxels to use at a time for model fitting\n",
    "        holdout_size: how many training trials to hold out for computing loss/lambda selection?\n",
    "        shuffle: do we shuffle training data order before holding trials out?      \n",
    "        shuff_rnd_seed: if we do shuffle training data (shuffle=True), what random seed to use? if zero, choose a new random seed in this code.\n",
    "        device: what device to use? cpu/cuda\n",
    "        debug: want to run a shortened version of this, to test it?\n",
    "    Outputs:\n",
    "        best_losses: loss value for each voxel (with best pRF and best lambda), eval on held out set\n",
    "        best_lambdas: best lambda for each voxel (chosen based on loss w held out set)\n",
    "        best_params: \n",
    "            [0] best pRF for each voxel [x,y,sigma]\n",
    "            [1] best weights for each voxel/feature\n",
    "            [2] if add_bias=True, best bias value for each voxel\n",
    "            [3] if zscore=True, the mean of each feature before z-score\n",
    "            [4] if zscore=True, the std of each feature before z-score\n",
    "            [5] index of the best pRF for each voxel (i.e. index of row in \"prf_models\")\n",
    "        \n",
    "    \"\"\"\n",
    "\n",
    "    if device is None:\n",
    "        device=torch.device('cpu:0')\n",
    "\n",
    "    print ('dtype = %s' % dtype)\n",
    "    print ('device = %s' % device)\n",
    "\n",
    "    n_trials = len(images)\n",
    "    n_prfs = len(prf_models)\n",
    "    n_voxels = voxel_data.shape[1]   \n",
    "\n",
    "    # Get train/holdout splits.\n",
    "    # Held-out data here is used for lamdba selection.\n",
    "    # This is the inner part of nested cross-validation; there is another portion of data ('val') which never enters this function.\n",
    "    trn_size = n_trials - holdout_size\n",
    "    assert trn_size>0, 'Training size needs to be greater than zero'\n",
    "    print ('trn_size = %d (%.1f%%)' % (trn_size, float(trn_size)*100/len(voxel_data)))\n",
    "    order = np.arange(len(voxel_data), dtype=int)\n",
    "    if shuffle:\n",
    "        if shuff_rnd_seed==0:\n",
    "            print('Computing a new random seed')\n",
    "            shuff_rnd_seed = int(time.strftime('%M%H%d', time.localtime()))\n",
    "        print('Seeding random number generator: seed is %d'%shuff_rnd_seed)\n",
    "        np.random.seed(shuff_rnd_seed)\n",
    "        np.random.shuffle(order)\n",
    "        \n",
    "    images = images[order]\n",
    "    voxel_data_shuff = copy.deepcopy(voxel_data)\n",
    "    voxel_data_shuff = voxel_data_shuff[order]  \n",
    "    trn_data = voxel_data_shuff[:trn_size]\n",
    "    out_data = voxel_data_shuff[trn_size:]\n",
    "\n",
    "    \n",
    "    # Here is where any model-specific additional initialization steps are done\n",
    "    # Includes initializing pca params arrays, if doing pca\n",
    "    if len(images.shape)>1:\n",
    "        image_size = images.shape[2:4]\n",
    "    else:\n",
    "        image_size = None\n",
    "    _feature_extractor.init_for_fitting(image_size, prf_models, dtype)\n",
    "    max_features = _feature_extractor.max_features\n",
    "\n",
    "    # Decide whether to do any \"partial\" versions of the models (leaving out subsets of features)\n",
    "    # Purpose is for variance partition\n",
    "    masks, partial_version_names = _feature_extractor.get_partial_versions()\n",
    "    n_partial_versions = len(partial_version_names) # will be one if skipping varpart\n",
    "    if add_bias:\n",
    "        masks = np.concatenate([masks, np.ones([masks.shape[0],1])], axis=1) # always include intercept \n",
    "    masks = np.transpose(masks)\n",
    "    # masks is [n_features_total (including intercept) x n_partial_versions]\n",
    "\n",
    "    # Initialize arrays to store model fitting params\n",
    "    best_w_params = np.zeros(shape=(n_voxels, max_features ,n_partial_versions), dtype=dtype)\n",
    "    best_prf_models = np.full(shape=(n_voxels,n_partial_versions), fill_value=-1, dtype=int)   \n",
    "    best_lambdas = np.full(shape=(n_voxels,n_partial_versions), fill_value=-1, dtype=int)\n",
    "    best_losses = np.full(fill_value=np.inf, shape=(n_voxels,n_partial_versions), dtype=dtype)\n",
    "\n",
    "    # Initialize arrays to store the trial-wise predictions (need these for stacking)\n",
    "    # Note that this is all training set trials - including the held out trials.\n",
    "    best_train_preds = np.zeros(shape=(n_voxels, n_trials, n_partial_versions), dtype=dtype)\n",
    "\n",
    "    # Additional params that are optional\n",
    "    if add_bias:\n",
    "        best_w_params = np.concatenate([best_w_params, np.zeros(shape=(n_voxels,1,n_partial_versions), dtype=dtype)], axis=1)\n",
    "\n",
    "    if zscore:\n",
    "        features_mean = np.zeros(shape=(n_voxels, max_features), dtype=dtype)\n",
    "        features_std  = np.zeros(shape=(n_voxels, max_features), dtype=dtype)\n",
    "    else:\n",
    "        features_mean = None\n",
    "        features_std = None\n",
    "\n",
    "    start_time = time.time()\n",
    "    vox_loop_time = 0\n",
    "\n",
    "    print ('---------------------------------------\\n')\n",
    "    \n",
    "    with torch.no_grad(): # make sure local gradients are off to save memory\n",
    "        \n",
    "        # Looping over prf_models (here prf_models are different spatial RF definitions)\n",
    "        for m in [353]:\n",
    "            x,y,sigma = prf_models[m]\n",
    "#         for m,(x,y,sigma) in enumerate(prf_models):\n",
    "#             if debug and m>1:\n",
    "#                 break\n",
    "                \n",
    "            print('\\nGetting features for prf %d: [x,y,sigma] is [%.2f %.2f %.4f]'%(m, prf_models[m,0],  prf_models[m,1],  prf_models[m,2]))\n",
    "\n",
    "            t = time.time()            \n",
    "\n",
    "            # Get features for the desired pRF, across all trn set image  \n",
    "            # Features is size [ntrials x nfeatures]\n",
    "            # nfeatures may be less than max_features, because max_features is the largest number possible for any pRF.\n",
    "            # feature_inds_defined is length max_features, and tells which of the features in max_features are includes in features.\n",
    "            features, feature_inds_defined = _feature_extractor(images, (x,y,sigma), m, fitting_mode=True)\n",
    "            features = features.detach().cpu().numpy() \n",
    "            \n",
    "            elapsed = time.time() - t\n",
    "\n",
    "            n_features_actual = features.shape[1]\n",
    "            \n",
    "            if zscore:  \n",
    "                features_m = np.mean(features, axis=0, keepdims=True) #[:trn_size]\n",
    "                features_s = np.std(features, axis=0, keepdims=True) + 1e-6          \n",
    "                features -= features_m\n",
    "                features /= features_s    \n",
    "\n",
    "            if add_bias:\n",
    "                features = np.concatenate([features, np.ones(shape=(len(features), 1), dtype=dtype)], axis=1)\n",
    "                feature_inds_defined = np.concatenate((feature_inds_defined, [True]), axis=0)\n",
    "                \n",
    "            trn_features = features[:trn_size,:]\n",
    "            out_features = features[trn_size:,:]\n",
    "            \n",
    "            \n",
    "            # Going to keep track of whether current prf is better than running best, for each voxel.\n",
    "            # This is for the full model only.\n",
    "            # Will use this to make sure for each partial model, we end up saving the params for the prf that was best w full model.\n",
    "            full_model_improved = np.zeros((n_voxels,),dtype=bool)\n",
    "\n",
    "            # Looping over versions of model w different features set to zero (variance partition)\n",
    "            for pp in range(n_partial_versions):\n",
    "\n",
    "                print('\\nFitting version %d of %d: %s, '%(pp, n_partial_versions, partial_version_names[pp]))\n",
    "\n",
    "                # nonzero_inds_full is length max_features (or max_features+1 if bias=True)\n",
    "                # same size as the final params matrices will be.\n",
    "                nonzero_inds_full = np.logical_and(masks[:,pp], feature_inds_defined)             \n",
    "                # nonzero_inds_full is restricted to just indices that are defined for this prf - ie same size as features.\n",
    "                nonzero_inds_short = masks[feature_inds_defined,pp]==1\n",
    "        \n",
    "                # Send matrices to gpu    \n",
    "                _xtrn = torch_utils._to_torch(trn_features[:, nonzero_inds_short], device=device)\n",
    "                _xout = torch_utils._to_torch(out_features[:, nonzero_inds_short], device=device)   \n",
    "\n",
    "                # Do part of the matrix math involved in ridge regression optimization out of the loop, \n",
    "                # because this part will be same for all the voxels.\n",
    "                _cof = _cofactor_fn_cpu(_xtrn, lambdas = lambdas) \n",
    "\n",
    "                # Now looping over batches of voxels (only reason is because can't store all in memory at same time)\n",
    "                vox_start = time.time()\n",
    "                vi=-1\n",
    "                for rv,lv in numpy_utils.iterate_range(0, n_voxels, voxel_batch_size):\n",
    "                    vi=vi+1\n",
    "                    sys.stdout.write('\\rfitting model %4d of %-4d, voxels [%6d:%-6d] of %d' % (m, n_prfs, rv[0], rv[-1], n_voxels))\n",
    "\n",
    "                    # Send matrices to gpu\n",
    "                    _vtrn = torch_utils._to_torch(trn_data[:,rv], device=device)\n",
    "                    _vout = torch_utils._to_torch(out_data[:,rv], device=device)\n",
    "\n",
    "                    # Here is where optimization happens - relatively simple matrix math inside loss fn.\n",
    "                    _betas, _loss = _loss_fn(_cof, _vtrn, _xout, _vout) #   [#lambda, #feature, #voxel, ], [#lambda, #voxel]\n",
    "                    \n",
    "                    # Get trial-by-trial predictions for each training set trial (need for stacking)\n",
    "                    _pred_train = torch.tensordot(_xtrn, _betas, dims=[[1],[1]]) # [#samples, #lambdas, #voxels]\n",
    "                    _pred_out = torch.tensordot(_xout, _betas, dims=[[1],[1]]) # [#samples, #lambdas, #voxels]\n",
    "                    pred_train = torch_utils.get_value(_pred_train)\n",
    "                    pred_out = torch_utils.get_value(_pred_out)\n",
    "                    # Going to combine the training and held out trials and re-create their original order here.\n",
    "                    preds_all_shuffled = np.concatenate((pred_train, pred_out), axis=0)\n",
    "                    preds_all_origorder = numpy_utils.unshuffle(preds_all_shuffled, order) # [#samples x lambdas x voxels]\n",
    "    \n",
    "                    # Now have a set of weights (in betas) and a loss value for every voxel and every lambda. \n",
    "                    # goal is then to choose for each voxel, what is the best lambda and what weights went with that lambda.\n",
    "\n",
    "                    # choose best lambda value and the loss that went with it.\n",
    "                    _loss_values, _lambda_index = torch.min(_loss, dim=0)\n",
    "                    loss_values, lambda_index = torch_utils.get_value(_loss_values), torch_utils.get_value(_lambda_index)\n",
    "                    betas = torch_utils.get_value(_betas)\n",
    "                    \n",
    "                    if pp==0:\n",
    "\n",
    "                        # comparing this loss to the other prf_models for each voxel (e.g. the other RF position/sizes)\n",
    "                        assert(partial_version_names[pp]=='full_model' or partial_version_names[pp]=='full_combined_model')               \n",
    "                        imp = loss_values<best_losses[rv,pp]\n",
    "                        full_model_improved[rv] = imp\n",
    "\n",
    "                    else:\n",
    "\n",
    "                        # for the partial models we don't actually care which was best for the partial model itself,\n",
    "                        # just care what was best for the full model\n",
    "                        imp = full_model_improved[rv]\n",
    "\n",
    "\n",
    "                    if np.sum(imp)>0:\n",
    "\n",
    "                        # for whichever voxels had improvement relative to previous prf_models, save parameters now\n",
    "                        # this means we won't have to save all params for all prf_models, just best.\n",
    "                        arv = np.array(rv)[imp]\n",
    "\n",
    "                        lambda_inds = lambda_index[imp]\n",
    "                        best_lambdas[arv,pp] = lambda_inds\n",
    "                        best_losses[arv,pp] = loss_values[imp]                        \n",
    "                        best_prf_models[arv,pp] = m\n",
    "                        if zscore and pp==0:\n",
    "                            \n",
    "                            # only need to update the mean/std if we're working with the full model, because those will be same for all partial versions.\n",
    "                            fmean_tmp = copy.deepcopy(features_mean[arv,:])\n",
    "                            fstd_tmp = copy.deepcopy(features_std[arv,:])\n",
    "                            fmean_tmp[:,nonzero_inds_full[0:-1]] = features_m[0,nonzero_inds_short[0:-1]] # broadcast over updated voxels\n",
    "                            fmean_tmp[:,~nonzero_inds_full[0:-1]] = 0.0\n",
    "                            fstd_tmp[:,nonzero_inds_full[0:-1]] = features_s[0,nonzero_inds_short[0:-1]] # broadcast over updated voxels\n",
    "                            fstd_tmp[:,~nonzero_inds_full[0:-1]] = 0.0\n",
    "                            features_mean[arv,:] = fmean_tmp\n",
    "                            features_std[arv,:] = fstd_tmp\n",
    "                            \n",
    "                        # taking the weights associated with the best lambda value\n",
    "                        # remember that they won't fill entire matrix, rest of values stay at zero\n",
    "                        best_w_tmp = copy.deepcopy(best_w_params[arv,:,pp])\n",
    "                        best_w_tmp[:,nonzero_inds_full] = numpy_utils.select_along_axis(betas[:,:,imp], lambda_inds, \\\n",
    "                                                                                        run_axis=2, choice_axis=0).T\n",
    "                        best_w_tmp[:,~nonzero_inds_full] = 0.0 # make sure to fill zeros here\n",
    "                        best_w_params[arv,:,pp] = best_w_tmp\n",
    "                        \n",
    "                        # Save the trialwise predictions for all trials in their original order.\n",
    "                        # Choosing predictions from whichever lambda was best.\n",
    "                        best_train_preds[arv,:,pp] = numpy_utils.select_along_axis(preds_all_origorder[:,:,imp], \\\n",
    "                                                                               lambda_inds, run_axis=2, choice_axis=1).T;\n",
    "\n",
    "                vox_loop_time += (time.time() - vox_start)\n",
    "                elapsed = (time.time() - vox_start)\n",
    "                sys.stdout.flush()\n",
    "\n",
    "    # Print information about how fitting went...\n",
    "    total_time = time.time() - start_time\n",
    "    inv_time = total_time - vox_loop_time\n",
    "    return_params = [best_w_params[:,0:max_features,:],]\n",
    "    if add_bias:\n",
    "        return_params += [best_w_params[:,-1,:],]\n",
    "    else: \n",
    "        return_params += [None,]\n",
    "    print ('\\n---------------------------------------')\n",
    "    print ('total time = %fs' % total_time)\n",
    "    print ('total throughput = %fs/voxel' % (total_time / n_voxels))\n",
    "    print ('voxel throughput = %fs/voxel' % (vox_loop_time / n_voxels))\n",
    "    print ('setup throughput = %fs/model' % (inv_time / n_prfs))\n",
    "    \n",
    "    # This step clears the big feature maps for training data from feature extractor (no longer needed)\n",
    "    _feature_extractor.clear_big_features()\n",
    "    \n",
    "    best_params = [prf_models[best_prf_models],]+return_params+[features_mean, features_std]+[best_prf_models]\n",
    "    sys.stdout.flush()\n",
    "\n",
    "    return best_losses, best_lambdas, best_params, best_train_preds"
   ]
  },
  {
   "cell_type": "code",
   "execution_count": 9,
   "id": "b4ab2556",
   "metadata": {},
   "outputs": [
    {
     "name": "stdout",
     "output_type": "stream",
     "text": [
      "Clearing precomputed features from memory.\n",
      "Clearing features from memory\n",
      "Getting features for prf 0: [x,y,sigma] is [-0.55 -0.55 0.0400]\n",
      "Loading pre-computed features for models [0 - 49] from /user_data/mmhender/features/pyramid_texture/S1_features_each_prf_4ori_4sf.h5py\n",
      "Took 104.68504 seconds to load file\n",
      "Index into batch for prf 0: 0\n",
      "Size of features array for this image set and prf is:\n",
      "(62, 641)\n",
      "Final size of features concatenated is [62 x 641]\n",
      "Feature types included are:\n",
      "['pixel_stats', 'mean_magnitudes', 'mean_realparts', 'marginal_stats_lowpass_recons', 'variance_highpass_resid', 'magnitude_feature_autocorrs', 'lowpass_recon_autocorrs', 'highpass_resid_autocorrs', 'magnitude_within_scale_crosscorrs', 'real_within_scale_crosscorrs', 'magnitude_across_scale_crosscorrs', 'real_imag_across_scale_crosscorrs', 'real_spatshift_within_scale_crosscorrs', 'real_spatshift_across_scale_crosscorrs']\n",
      "Final size of features concatenated is [62 x 641]\n",
      "Final size of features concatenated is [62 x 641]\n",
      "Loading pre-computed features from /user_data/mmhender/features/sketch_tokens/S1_features_each_prf.h5py\n",
      "Took 23.89861 seconds to load file\n",
      "Size of features array for this image set is:\n",
      "(62, 151, 875)\n",
      "Final size of feature matrix is:\n",
      "(62, 151)\n",
      "Getting features for prf 1: [x,y,sigma] is [-0.49 -0.55 0.0400]\n",
      "Index into batch for prf 1: 1\n",
      "Size of features array for this image set and prf is:\n",
      "(62, 641)\n",
      "Final size of features concatenated is [62 x 641]\n",
      "Feature types included are:\n",
      "['pixel_stats', 'mean_magnitudes', 'mean_realparts', 'marginal_stats_lowpass_recons', 'variance_highpass_resid', 'magnitude_feature_autocorrs', 'lowpass_recon_autocorrs', 'highpass_resid_autocorrs', 'magnitude_within_scale_crosscorrs', 'real_within_scale_crosscorrs', 'magnitude_across_scale_crosscorrs', 'real_imag_across_scale_crosscorrs', 'real_spatshift_within_scale_crosscorrs', 'real_spatshift_across_scale_crosscorrs']\n",
      "Final size of features concatenated is [62 x 641]\n",
      "Final size of features concatenated is [62 x 641]\n",
      "Final size of feature matrix is:\n",
      "(62, 151)\n",
      "Clearing precomputed features from memory.\n",
      "Clearing features from memory\n",
      "Getting predictions for voxels [0-99] of 14913\n",
      "\n",
      "Evaluating version 0 of 7: full_combined_model\n",
      "Includes 792 features\n",
      "number of zeros:\n",
      "0\n",
      "size of weights is:\n",
      "torch.Size([100, 792])\n",
      "\n",
      "Evaluating version 1 of 7: just_pyramid_texture\n",
      "Includes 641 features\n",
      "number of zeros:\n",
      "0\n",
      "size of weights is:\n",
      "torch.Size([100, 641])\n",
      "\n",
      "Evaluating version 2 of 7: pyramid_texture_just_lower-level_no_other_modules\n",
      "Includes 49 features\n",
      "number of zeros:\n",
      "0\n",
      "size of weights is:\n",
      "torch.Size([100, 49])\n",
      "\n",
      "Evaluating version 3 of 7: pyramid_texture_just_higher-level_no_other_modules\n",
      "Includes 592 features\n",
      "number of zeros:\n",
      "0\n",
      "size of weights is:\n",
      "torch.Size([100, 592])\n",
      "\n",
      "Evaluating version 4 of 7: pyramid_texture_just_lower-level_plus_other_modules\n",
      "Includes 200 features\n",
      "number of zeros:\n",
      "0\n",
      "size of weights is:\n",
      "torch.Size([100, 200])\n",
      "\n",
      "Evaluating version 5 of 7: pyramid_texture_just_higher-level_plus_other_modules\n",
      "Includes 743 features\n",
      "number of zeros:\n",
      "0\n",
      "size of weights is:\n",
      "torch.Size([100, 743])\n",
      "\n",
      "Evaluating version 6 of 7: just_sketch_tokens\n",
      "Includes 151 features\n",
      "number of zeros:\n",
      "0\n",
      "size of weights is:\n",
      "torch.Size([100, 151])\n",
      "Getting predictions for voxels [100-199] of 14913\n",
      "\n",
      "Evaluating version 0 of 7: full_combined_model\n",
      "Includes 792 features\n",
      "number of zeros:\n",
      "0\n",
      "size of weights is:\n",
      "torch.Size([100, 792])\n",
      "\n",
      "Evaluating version 1 of 7: just_pyramid_texture\n",
      "Includes 641 features\n",
      "number of zeros:\n",
      "0\n",
      "size of weights is:\n",
      "torch.Size([100, 641])\n",
      "\n",
      "Evaluating version 2 of 7: pyramid_texture_just_lower-level_no_other_modules\n",
      "Includes 49 features\n",
      "number of zeros:\n",
      "0\n",
      "size of weights is:\n",
      "torch.Size([100, 49])\n",
      "\n",
      "Evaluating version 3 of 7: pyramid_texture_just_higher-level_no_other_modules\n",
      "Includes 592 features\n",
      "number of zeros:\n",
      "0\n",
      "size of weights is:\n",
      "torch.Size([100, 592])\n",
      "\n",
      "Evaluating version 4 of 7: pyramid_texture_just_lower-level_plus_other_modules\n",
      "Includes 200 features\n",
      "number of zeros:\n",
      "0\n",
      "size of weights is:\n",
      "torch.Size([100, 200])\n",
      "\n",
      "Evaluating version 5 of 7: pyramid_texture_just_higher-level_plus_other_modules\n",
      "Includes 743 features\n",
      "number of zeros:\n",
      "0\n",
      "size of weights is:\n",
      "torch.Size([100, 743])\n",
      "\n",
      "Evaluating version 6 of 7: just_sketch_tokens\n",
      "Includes 151 features\n",
      "number of zeros:\n",
      "0\n",
      "size of weights is:\n",
      "torch.Size([100, 151])\n",
      "Getting predictions for voxels [200-299] of 14913\n"
     ]
    }
   ],
   "source": [
    " val_cc, val_r2, val_voxel_data_pred  = fwrf_predict.validate_fwrf_model(best_params, models, val_voxel_data, \\\n",
    "                                                                                val_stim_data, _feature_extractor, \\\n",
    "                                   sample_batch_size=sample_batch_size, voxel_batch_size=voxel_batch_size, debug=debug, dtype=fpX)"
   ]
  },
  {
   "cell_type": "code",
   "execution_count": 10,
   "id": "6790d606",
   "metadata": {},
   "outputs": [
    {
     "name": "stdout",
     "output_type": "stream",
     "text": [
      "Subsets of features that are going into the stacking analysis:\n",
      "['pyramid_texture_just_lower-level_no_other_modules', 'pyramid_texture_just_higher-level_no_other_modules', 'just_sketch_tokens']\n",
      "Running stacking, feat_use is:\n",
      "[0 1 2]\n",
      "Solving for stacking weights for voxel 0 of 14913\n",
      "Stacking weights matrix is size:\n",
      "(14913, 3)\n",
      "Solving for stacking weights for voxel 1 of 14913\n",
      "Computing performance of stacked models\n"
     ]
    },
    {
     "name": "stderr",
     "output_type": "stream",
     "text": [
      "/home/mmhender/myenv/lib/python3.7/site-packages/numpy/lib/function_base.py:2691: RuntimeWarning: invalid value encountered in true_divide\n",
      "  c /= stddev[:, None]\n",
      "/home/mmhender/myenv/lib/python3.7/site-packages/numpy/lib/function_base.py:2692: RuntimeWarning: invalid value encountered in true_divide\n",
      "  c /= stddev[None, :]\n"
     ]
    },
    {
     "name": "stdout",
     "output_type": "stream",
     "text": [
      "Running stacking, feat_use is:\n",
      "[1, 2]\n",
      "Solving for stacking weights for voxel 0 of 14913\n",
      "Stacking weights matrix is size:\n",
      "(14913, 2)\n",
      "Solving for stacking weights for voxel 1 of 14913\n",
      "Computing performance of stacked models\n",
      "Running stacking, feat_use is:\n",
      "[0, 2]\n",
      "Solving for stacking weights for voxel 0 of 14913\n",
      "Stacking weights matrix is size:\n",
      "(14913, 2)\n",
      "Solving for stacking weights for voxel 1 of 14913\n",
      "Computing performance of stacked models\n",
      "Running stacking, feat_use is:\n",
      "[0, 1]\n",
      "Solving for stacking weights for voxel 0 of 14913\n",
      "Stacking weights matrix is size:\n",
      "(14913, 2)\n",
      "Solving for stacking weights for voxel 1 of 14913\n",
      "Computing performance of stacked models\n"
     ]
    }
   ],
   "source": [
    "stack_result, stack_result_lo, partial_models_used_for_stack  = fwrf_predict.run_stacking(_feature_extractor, \\\n",
    "                                                     trn_voxel_data, val_voxel_data, trn_voxel_data_pred, val_voxel_data_pred, debug=debug)"
   ]
  },
  {
   "cell_type": "code",
   "execution_count": 24,
   "id": "a26dfc89",
   "metadata": {},
   "outputs": [
    {
     "data": {
      "text/plain": [
       "[2, 3, 6]"
      ]
     },
     "execution_count": 24,
     "metadata": {},
     "output_type": "execute_result"
    }
   ],
   "source": [
    "partial_models_used_for_stack"
   ]
  },
  {
   "cell_type": "code",
   "execution_count": 25,
   "id": "db2027d4",
   "metadata": {},
   "outputs": [],
   "source": [
    "out = torch.load('/user_data/mmhender/imStat/model_fits/S01/texture_pyramid_ridge_4ori_4sf_plus_sketch_tokens_stacked/Sep-25-2021_1718_53_DEBUG/all_fit_params')"
   ]
  },
  {
   "cell_type": "code",
   "execution_count": 29,
   "id": "77cb54de",
   "metadata": {},
   "outputs": [
    {
     "data": {
      "text/plain": [
       "[2, 3, 6]"
      ]
     },
     "execution_count": 29,
     "metadata": {},
     "output_type": "execute_result"
    }
   ],
   "source": [
    "out['partial_models_used_for_stack']"
   ]
  }
 ],
 "metadata": {
  "kernelspec": {
   "display_name": "Python 3",
   "language": "python",
   "name": "python3"
  },
  "language_info": {
   "codemirror_mode": {
    "name": "ipython",
    "version": 3
   },
   "file_extension": ".py",
   "mimetype": "text/x-python",
   "name": "python",
   "nbconvert_exporter": "python",
   "pygments_lexer": "ipython3",
   "version": "3.7.1"
  }
 },
 "nbformat": 4,
 "nbformat_minor": 5
}
