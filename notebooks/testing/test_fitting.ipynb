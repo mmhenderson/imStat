{
 "cells": [
  {
   "cell_type": "code",
   "execution_count": 28,
   "id": "5ce84ed5",
   "metadata": {},
   "outputs": [],
   "source": [
    "# import basic modules\n",
    "import sys\n",
    "import os\n",
    "import time\n",
    "import numpy as np\n",
    "from tqdm import tqdm\n",
    "import gc\n",
    "import torch\n",
    "import argparse\n",
    "import skimage.transform\n",
    "\n",
    "# import custom modules\n",
    "code_dir = '/user_data/mmhender/imStat/code/'\n",
    "sys.path.append(code_dir)\n",
    "from feature_extraction import texture_statistics_gabor, texture_statistics_pyramid, bdcn_features, sketch_token_features\n",
    "from utils import nsd_utils, roi_utils\n",
    "\n",
    "bdcn_path = '/user_data/mmhender/toolboxes/BDCN/'\n",
    "\n",
    "from model_fitting import initialize_fitting, merge_features, fwrf_fit, fwrf_predict\n",
    "\n",
    "fpX = np.float32\n",
    "device = 'cpu:0'\n",
    "# device = initialize_fitting.init_cuda()"
   ]
  },
  {
   "cell_type": "code",
   "execution_count": 29,
   "id": "0f8ebf90",
   "metadata": {},
   "outputs": [],
   "source": [
    "fitting_type='pyramid_texture'\n",
    "do_avg_pool=True\n",
    "subject=1\n",
    "volume_space = True\n",
    "up_to_sess = 1\n",
    "n_ori = 4\n",
    "n_sf = 4\n",
    "nonlin_fn = False\n",
    "padding_mode = 'circular';\n",
    "group_all_hl_feats = True; \\\n",
    "sample_batch_size = 50; voxel_batch_size = 100; \\\n",
    "zscore_features = True; ridge = True; \\\n",
    "shuffle_images = False; random_images = False; random_voxel_data = False; \\\n",
    "do_fitting = True; do_val = True; do_varpart = True; date_str = None;\n",
    "shuff_rnd_seed = 0; debug = True; \\\n",
    "do_pca = False; min_pct_var = 99; max_pc_to_retain = 400; map_ind = -1; \\\n",
    "n_prf_sd_out = 2; mult_patch_by_prf = True; \\\n",
    "downsample_factor = 1.0; do_nms = False"
   ]
  },
  {
   "cell_type": "code",
   "execution_count": 30,
   "id": "c5205784",
   "metadata": {},
   "outputs": [
    {
     "name": "stdout",
     "output_type": "stream",
     "text": [
      "Time Stamp: Sep-21-2021_2248_15\n",
      "\n",
      "Will save final output file to /user_data/mmhender/imStat/model_fits/S01/texture_pyramid_ridge_4ori_4sf/Sep-21-2021_2248_15_DEBUG/\n",
      "\n",
      "\n",
      "Volume space: ROI defs are located at: /lab_data/tarrlab/common/datasets/NSD/nsddata/ppdata/subj01/func1pt8mm/roi\n",
      "\n",
      "3794 voxels of overlap between kastner and prf definitions, using prf defs\n",
      "unique values in retino labels:\n",
      "[-1.  0.  1.  2.  3.  4.  5.  6.  7.  8.  9. 10. 11. 12. 13. 14. 15. 16.\n",
      " 17. 18. 19. 20. 21. 22. 23. 24. 25.]\n",
      "0 voxels of overlap between face and place definitions, using place defs\n",
      "unique values in categ labels:\n",
      "[-1.  0. 26. 27. 28. 30. 31. 32. 33.]\n",
      "1535 voxels are defined (differently) in both retinotopic areas and category areas\n",
      "\n",
      "14913 voxels are defined across all areas, and will be used for analysis\n",
      "\n",
      "Loading numerical label/name mappings for all ROIs:\n",
      "[1, 2, 3, 4, 5, 6, 7]\n",
      "['V1v', 'V1d', 'V2v', 'V2d', 'V3v', 'V3d', 'hV4']\n",
      "[1, 2, 3, 4, 5, 6, 7, 8, 9, 10, 11, 12, 13, 14, 15, 16, 17, 18, 19, 20, 21, 22, 23, 24, 25]\n",
      "['V1v', 'V1d', 'V2v', 'V2d', 'V3v', 'V3d', 'hV4', 'VO1', 'VO2', 'PHC1', 'PHC2', 'TO2', 'TO1', 'LO2', 'LO1', 'V3B', 'V3A', 'IPS0', 'IPS1', 'IPS2', 'IPS3', 'IPS4', 'IPS5', 'SPL1', 'FEF']\n",
      "[1, 2, 3, 4, 5]\n",
      "['OFA', 'FFA-1', 'FFA-2', 'mTL-faces', 'aTL-faces']\n",
      "[1, 2, 3]\n",
      "['OPA', 'PPA', 'RSC']\n",
      "\n",
      "Sizes of all defined ROIs in this subject:\n",
      "Region V1 has 2392 voxels. Includes subregions:\n",
      "['V1v', 'V1d']\n",
      "Region V2 has 2096 voxels. Includes subregions:\n",
      "['V2v', 'V2d']\n",
      "Region V3 has 1674 voxels. Includes subregions:\n",
      "['V3v', 'V3d']\n",
      "Region hV4 has 721 voxels. Includes subregions:\n",
      "['hV4']\n",
      "Region VO1-2 has 482 voxels. Includes subregions:\n",
      "['VO1', 'VO2']\n",
      "Region PHC1-2 has 382 voxels. Includes subregions:\n",
      "['PHC1', 'PHC2']\n",
      "Region LO1-2 has 488 voxels. Includes subregions:\n",
      "['LO2', 'LO1']\n",
      "Region TO1-2 has 339 voxels. Includes subregions:\n",
      "['TO2', 'TO1']\n",
      "Region V3ab has 965 voxels. Includes subregions:\n",
      "['V3B', 'V3A']\n",
      "Region IPS0-5 has 2155 voxels. Includes subregions:\n",
      "['IPS0', 'IPS1', 'IPS2', 'IPS3', 'IPS4', 'IPS5']\n",
      "Region SPL1 has 164 voxels. Includes subregions:\n",
      "['SPL1']\n",
      "Region FEF has 72 voxels. Includes subregions:\n",
      "['FEF']\n",
      "\n",
      "\n",
      "Region OFA has 355 voxels.\n",
      "Region FFA-1 has 484 voxels.\n",
      "Region FFA-2 has 310 voxels.\n",
      "Region mTL-faces has 0 voxels.\n",
      "Region aTL-faces has 159 voxels.\n",
      "Region OPA has 1611 voxels.\n",
      "Region PPA has 1033 voxels.\n",
      "Region RSC has 566 voxels.\n",
      "\n",
      "Loading images for subject 1\n",
      "\n",
      "image data size: (10000, 3, 227, 227) , dtype: uint8 , value range: 0 255\n",
      "Loading data for sessions:\n",
      "[1]\n",
      "Data is located in: /lab_data/tarrlab/common/datasets/NSD/nsddata_betas/ppdata/subj01/func1pt8mm/betas_fithrf_GLMdenoise_RR...\n",
      "Loading from /lab_data/tarrlab/common/datasets/NSD/nsddata_betas/ppdata/subj01/func1pt8mm/betas_fithrf_GLMdenoise_RR/betas_session01.nii.gz...\n",
      "Raw data:\n",
      "float64 -32768.0 32767.0 (750, 81, 104, 83)\n",
      "Adjusted data (divided by 300):\n",
      "float32 -109.22667 109.223335 (750, 699192)\n",
      "z-scoring beta weights within this session...\n",
      "mean = 1.237, sigma = 1.391\n",
      "\n",
      "Size of full data set [nTrials x nVoxels] is:\n",
      "(750, 14913)\n"
     ]
    }
   ],
   "source": [
    "if 'pyramid' in fitting_type:\n",
    "    model_name = initialize_fitting.get_pyramid_model_name(ridge, n_ori, n_sf)\n",
    "    feature_types_exclude = []        \n",
    "    name1 = 'pyramid_texture'\n",
    "\n",
    "elif 'gabor_texture' in fitting_type:        \n",
    "    model_name = initialize_fitting.get_gabor_texture_model_name(ridge, n_ori, n_sf)\n",
    "    feature_types_exclude = []\n",
    "    name1 = 'gabor_texture'\n",
    "\n",
    "elif 'gabor_solo' in fitting_type:        \n",
    "    model_name = initialize_fitting.get_gabor_solo_model_name(ridge, n_ori, n_sf)\n",
    "    feature_types_exclude = ['pixel', 'simple_feature_means', 'autocorrs', 'crosscorrs']\n",
    "    name1 = 'gabor_solo'\n",
    "\n",
    "elif 'bdcn' in fitting_type:\n",
    "    model_name = initialize_fitting.get_bdcn_model_name(do_pca, map_ind)   \n",
    "    name1 = 'bdcn'\n",
    "\n",
    "elif 'sketch_tokens' in fitting_type:\n",
    "    model_name = initialize_fitting.get_sketch_tokens_model_name(do_pca)   \n",
    "    name1 = 'sketch_tokens'\n",
    "\n",
    "else:\n",
    "    raise ValueError('your string for fitting_type was not recognized')\n",
    "\n",
    "if 'plus_sketch_tokens' in fitting_type:\n",
    "    model_name2 = initialize_fitting.get_sketch_tokens_model_name(do_pca)\n",
    "    model_name = model_name + '_plus_' + model_name2\n",
    "elif 'plus_bdcn' in fitting_type:\n",
    "    model_name2 = initialize_fitting.get_bdcn_model_name(do_pca, map_ind)\n",
    "    model_name = model_name + '_plus_' + model_name2\n",
    "\n",
    "\n",
    "output_dir, fn2save = initialize_fitting.get_save_path(subject, volume_space, model_name, shuffle_images, random_images, random_voxel_data, debug, date_str)\n",
    "\n",
    "# decide what voxels to use  \n",
    "voxel_mask, voxel_index, voxel_roi, voxel_ncsnr, brain_nii_shape = roi_utils.get_voxel_roi_info(subject, volume_space)\n",
    "\n",
    "sessions = np.arange(0,up_to_sess)\n",
    "zscore_betas_within_sess = True\n",
    "# get all data and corresponding images, in two splits. always fixed set that gets left out\n",
    "trn_stim_data, trn_voxel_data, val_stim_data, val_voxel_data, \\\n",
    "        image_order, image_order_trn, image_order_val = nsd_utils.get_data_splits(subject, sessions=sessions, \\\n",
    "                                                                     voxel_mask=voxel_mask, volume_space=volume_space, \\\n",
    "                                                                      zscore_betas_within_sess=zscore_betas_within_sess, \\\n",
    "                                                                      shuffle_images=shuffle_images, random_images=random_images, \\\n",
    "                                                                                         random_voxel_data=random_voxel_data)\n",
    "\n",
    "\n",
    "if 'gabor' in fitting_type or 'sketch_tokens' in fitting_type or 'pyramid' in fitting_type:\n",
    "    # For this model, the features are pre-computed, so we will just load them rather than passing in images.\n",
    "    # Going to pass the image indices (into 10,000 dim array) instead of images to fitting and val functions, \n",
    "    # which will tell which features to load.\n",
    "    trn_stim_data = image_order_trn\n",
    "    val_stim_data = image_order_val\n"
   ]
  },
  {
   "cell_type": "code",
   "execution_count": 31,
   "id": "1551090b",
   "metadata": {},
   "outputs": [
    {
     "name": "stdout",
     "output_type": "stream",
     "text": [
      "\n",
      "Possible lambda values are:\n",
      "[1.0000000e+00 4.2169652e+00 1.7782795e+01 7.4989418e+01 3.1622775e+02\n",
      " 1.3335215e+03 5.6234131e+03 2.3713736e+04 1.0000000e+05]\n",
      "most extreme RF positions:\n",
      "[-0.55 -0.55  0.04]\n",
      "[0.55       0.55       0.40000001]\n"
     ]
    }
   ],
   "source": [
    "     \n",
    "# More params for fitting\n",
    "holdout_size, lambdas = initialize_fitting.get_fitting_pars(trn_voxel_data, zscore_features, ridge=ridge)\n",
    "# Params for the spatial aspect of the model (possible pRFs)\n",
    "aperture_rf_range = 1.1\n",
    "aperture, models = initialize_fitting.get_prf_models(aperture_rf_range=aperture_rf_range)    \n",
    "    "
   ]
  },
  {
   "cell_type": "code",
   "execution_count": 7,
   "id": "69773d9a",
   "metadata": {},
   "outputs": [
    {
     "name": "stdout",
     "output_type": "stream",
     "text": [
      "Feature types to exclude from the model:\n",
      "[]\n"
     ]
    }
   ],
   "source": [
    " \n",
    "do_pca_pyr_hl = True\n",
    "do_pca_st = True\n",
    "\n",
    "group_all_hl_feats = True\n",
    "feature_types_exclude =[]\n",
    "# Set up the pyramid\n",
    "compute_features = False\n",
    "_fmaps_fn = steerable_pyramid_extractor(pyr_height = n_sf, n_ori = n_ori)\n",
    "# Initialize the \"texture\" model which builds on first level feature maps\n",
    "_feature_extractor1 = texture_feature_extractor(_fmaps_fn,sample_batch_size=sample_batch_size, \\\n",
    "                  subject=subject, feature_types_exclude=feature_types_exclude, n_prf_sd_out=n_prf_sd_out, \\\n",
    "                                               aperture=aperture, do_varpart = do_varpart, \\\n",
    "                              group_all_hl_feats = group_all_hl_feats, compute_features = compute_features, \\\n",
    "                               do_pca_hl=do_pca_pyr_hl, min_pct_var = min_pct_var, max_pc_to_retain = max_pc_to_retain, \\\n",
    "                               device=device)\n",
    "# feature_info = [_feature_extractor.feature_column_labels, _feature_extractor.feature_types_include]\n",
    "        "
   ]
  },
  {
   "cell_type": "code",
   "execution_count": 72,
   "id": "4777ba29",
   "metadata": {},
   "outputs": [],
   "source": [
    "do_pca_pyr_hl = True\n",
    "do_pca_st = True\n",
    "\n",
    "map_resolution = 227\n",
    "_feature_extractor = sketch_token_feature_extractor(subject, device, map_resolution=map_resolution, \\\n",
    "                                                                           aperture = aperture, \\\n",
    "                                                     n_prf_sd_out = n_prf_sd_out, \\\n",
    "                               batch_size=sample_batch_size, mult_patch_by_prf=mult_patch_by_prf, do_avg_pool = do_avg_pool,\\\n",
    "                                           do_pca = do_pca_st, min_pct_var = min_pct_var, max_pc_to_retain = max_pc_to_retain)\n",
    "# _feature_extractor = merge_features.combined_feature_extractor([_feature_extractor1, _feature_extractor2], \\\n",
    "#                                                                    [name1,'sketch_tokens'], do_varpart = do_varpart)\n"
   ]
  },
  {
   "cell_type": "code",
   "execution_count": 82,
   "id": "0eedf4c9",
   "metadata": {},
   "outputs": [
    {
     "name": "stdout",
     "output_type": "stream",
     "text": [
      "Initializing for fitting\n",
      "Initializing arrays for PCA params\n",
      "Clearing features from memory\n",
      "Loading pre-computed features from /user_data/mmhender/features/sketch_tokens/S1_features_each_prf.h5py\n"
     ]
    },
    {
     "name": "stderr",
     "output_type": "stream",
     "text": [
      "/home/mmhender/myenv/lib/python3.7/site-packages/ipykernel_launcher.py:71: DeprecationWarning: `np.int` is a deprecated alias for the builtin `int`. To silence this warning, use `int` by itself. Doing this will not modify any behavior and is safe. When replacing `np.int`, you may wish to use e.g. `np.int64` or `np.int32` to specify the precision. If you wish to review your current use, check the release note link for additional information.\n",
      "Deprecated in NumPy 1.20; for more details and guidance: https://numpy.org/devdocs/release/1.20.0-notes.html#deprecations\n"
     ]
    },
    {
     "name": "stdout",
     "output_type": "stream",
     "text": [
      "Took 16.80951 seconds to load file\n",
      "Size of features array for this image set is:\n",
      "(62, 151, 875)\n",
      "Preparing for PCA: original dims of features:\n",
      "(62, 151)\n",
      "Running PCA...\n",
      "Retaining 22 components to expl 99 pct var\n",
      "Final size of feature matrix is:\n",
      "(62, 22)\n"
     ]
    }
   ],
   "source": [
    "mm=2\n",
    "_feature_extractor.init_for_fitting((240,240), models, dtype=np.float32)\n",
    "feats, defined = _feature_extractor(val_stim_data, models[mm], mm, fitting_mode=True)"
   ]
  },
  {
   "cell_type": "code",
   "execution_count": 83,
   "id": "4fd1c910",
   "metadata": {},
   "outputs": [
    {
     "name": "stdout",
     "output_type": "stream",
     "text": [
      "Preparing for PCA: original dims of features:\n",
      "(62, 151)\n",
      "Applying pre-computed PCA matrix...\n",
      "Final size of feature matrix is:\n",
      "(62, 22)\n"
     ]
    }
   ],
   "source": [
    "feats, defined = _feature_extractor(val_stim_data, models[mm], mm, fitting_mode=False)"
   ]
  },
  {
   "cell_type": "code",
   "execution_count": 84,
   "id": "847cfd79",
   "metadata": {},
   "outputs": [
    {
     "data": {
      "text/plain": [
       "torch.Size([62, 22])"
      ]
     },
     "execution_count": 84,
     "metadata": {},
     "output_type": "execute_result"
    }
   ],
   "source": [
    "feats.shape"
   ]
  },
  {
   "cell_type": "code",
   "execution_count": 71,
   "id": "a8aee5ca",
   "metadata": {},
   "outputs": [],
   "source": [
    "import numpy as np\n",
    "import sys, os\n",
    "import torch\n",
    "import time\n",
    "import h5py\n",
    "import torch.nn as nn\n",
    "from sklearn import decomposition\n",
    "\n",
    "from utils import prf_utils, torch_utils, texture_utils, default_paths\n",
    "sketch_token_feat_path = default_paths.sketch_token_feat_path\n",
    "\n",
    "class sketch_token_feature_extractor(nn.Module):\n",
    "    \n",
    "    def __init__(self, subject, device, map_resolution=227, aperture = 1.0, n_prf_sd_out = 2, \\\n",
    "                 batch_size=100, mult_patch_by_prf=True, do_avg_pool = True, \\\n",
    "                 do_pca = True, min_pct_var = 99, max_pc_to_retain = 100):\n",
    "        \n",
    "        super(sketch_token_feature_extractor, self).__init__()\n",
    "        \n",
    "        self.subject = subject\n",
    "        \n",
    "        self.features_file = os.path.join(sketch_token_feat_path, 'S%d_features_each_prf.h5py'%(subject))\n",
    "        if not os.path.exists(self.features_file):\n",
    "            raise RuntimeError('Looking at %s for precomputed features, not found.'%self.features_file)\n",
    "        with h5py.File(self.features_file, 'r') as data_set:\n",
    "            ds_size = np.shape(data_set['/features'])\n",
    "        self.n_features = ds_size[1]\n",
    "        self.device = device\n",
    "          \n",
    "        self.map_resolution = map_resolution\n",
    "        self.aperture = aperture\n",
    "        self.n_prf_sd_out = n_prf_sd_out\n",
    "        self.batch_size = batch_size\n",
    "        self.mult_patch_by_prf = mult_patch_by_prf\n",
    "        self.do_avg_pool = do_avg_pool # else max pool\n",
    "        \n",
    "        self.do_pca = do_pca\n",
    "        if self.do_pca:\n",
    "            self.min_pct_var = min_pct_var\n",
    "            self.max_pc_to_retain = np.min([self.n_features, max_pc_to_retain])\n",
    "        else:\n",
    "            self.min_pct_var = None\n",
    "            self.max_pc_to_retain = None  \n",
    "            \n",
    "        self.do_varpart=False # only one set of features in this model for now, not doing variance partition\n",
    "        self.features_each_prf = None\n",
    "        \n",
    "    def init_for_fitting(self, image_size, models, dtype):\n",
    "\n",
    "        \"\"\"\n",
    "        Additional initialization operations which can only be done once we know image size and\n",
    "        desired set of candidate prfs.\n",
    "        \"\"\"\n",
    "        \n",
    "        print('Initializing for fitting')\n",
    "        n_prfs = len(models)\n",
    "        n_feat_each_prf = self.n_features * np.ones(shape=(n_prfs,),dtype=int)      \n",
    "        self.n_feat_each_prf = n_feat_each_prf\n",
    "        \n",
    "        if self.do_pca:\n",
    "            \n",
    "            print('Initializing arrays for PCA params')\n",
    "            # will need to save pca parameters to reproduce it during validation stage\n",
    "            # max pc to retain is just to save space, otherwise the \"pca_wts\" variable becomes huge  \n",
    "            self.max_features = self.max_pc_to_retain\n",
    "            self.pca_wts = [np.zeros(shape=(self.max_pc_to_retain, n_feat_each_prf[mm]), dtype=dtype) for mm in range(n_prfs)] \n",
    "            self.pca_pre_z_mean = [np.zeros(shape=(n_feat_each_prf[mm],), dtype=dtype) for mm in range(n_prfs)]\n",
    "            self.pca_pre_z_std = [np.zeros(shape=(n_feat_each_prf[mm],), dtype=dtype) for mm in range(n_prfs)]\n",
    "            self.pca_pre_mean = [np.zeros(shape=(n_feat_each_prf[mm],), dtype=dtype) for mm in range(n_prfs)]\n",
    "            self.pct_var_expl = np.zeros(shape=(self.max_pc_to_retain, n_prfs), dtype=dtype)\n",
    "            self.n_comp_needed = np.full(shape=(n_prfs), fill_value=-1, dtype=int)\n",
    "\n",
    "        else:\n",
    "            self.max_features = np.max(n_feat_each_prf)\n",
    "       \n",
    "        self.clear_big_features()\n",
    "        \n",
    "    def get_partial_versions(self):\n",
    "\n",
    "        if not hasattr(self, 'max_features'):\n",
    "            raise RuntimeError('need to run init_for_fitting first')\n",
    "           \n",
    "        partial_version_names = ['full_model']\n",
    "        masks = np.ones([1,self.max_features])\n",
    "\n",
    "        return masks, partial_version_names\n",
    "\n",
    "    def load_precomputed_features(self, image_inds):\n",
    "        \n",
    "        print('Loading pre-computed features from %s'%self.features_file)\n",
    "        t = time.time()\n",
    "        with h5py.File(self.features_file, 'r') as data_set:\n",
    "            values = np.copy(data_set['/features'])\n",
    "            data_set.close() \n",
    "        elapsed = time.time() - t\n",
    "        print('Took %.5f seconds to load file'%elapsed)\n",
    "        \n",
    "        self.features_each_prf = values[image_inds,:,:]\n",
    "        \n",
    "        print('Size of features array for this image set is:')\n",
    "        print(self.features_each_prf.shape)\n",
    "        \n",
    "    def clear_big_features(self):\n",
    "        \n",
    "        print('Clearing features from memory')\n",
    "        self.features_each_prf = None \n",
    "    \n",
    "    def forward(self, image_inds, prf_params, prf_model_index, fitting_mode = True):\n",
    "        \n",
    "        if self.features_each_prf is None:\n",
    "            self.load_precomputed_features(image_inds)\n",
    "        else:\n",
    "            assert(self.features_each_prf.shape[0]==len(image_inds))\n",
    "            \n",
    "        # Taking the features for the desired prf model\n",
    "        features = self.features_each_prf[:,:,prf_model_index]\n",
    "        \n",
    "        if self.do_pca:    \n",
    "            features = self.reduce_pca(features, prf_model_index, fitting_mode)\n",
    "\n",
    "        print('Final size of feature matrix is:')\n",
    "        print(features.shape)\n",
    "        \n",
    "        features = torch_utils._to_torch(features, self.device)\n",
    "        \n",
    "        feature_inds_defined = np.zeros((self.max_features,), dtype=bool)\n",
    "        feature_inds_defined[0:features.shape[1]] = 1\n",
    "            \n",
    "        return features, feature_inds_defined\n",
    "     \n",
    "        \n",
    "    def reduce_pca(self, features, prf_model_index, fitting_mode=True):\n",
    "        \n",
    "        if torch.is_tensor(features):\n",
    "            features = features.detach().cpu().numpy()\n",
    "            was_tensor=True\n",
    "        else:\n",
    "            was_tensor=False\n",
    "            \n",
    "        n_trials = features.shape[0]\n",
    "        n_features_actual = features.shape[1]\n",
    "        assert(n_features_actual == self.n_feat_each_prf[prf_model_index])\n",
    "        print('Preparing for PCA: original dims of features:')\n",
    "        print(features.shape)\n",
    "        \n",
    "        if fitting_mode:\n",
    "            \n",
    "            # Going to perform pca on the raw features\n",
    "            # First make sure it hasn't been done yet!\n",
    "            assert(self.n_comp_needed[prf_model_index]==-1) \n",
    "            print('Running PCA...')\n",
    "            pca = decomposition.PCA(n_components = np.min([np.min([self.max_pc_to_retain, n_features_actual]), n_trials]), copy=False)\n",
    "            # for this model, need to normalize the columns otherwise the last one dominates...\n",
    "            features_m = np.mean(features, axis=0, keepdims=True) #[:trn_size]\n",
    "            features_s = np.std(features, axis=0, keepdims=True) + 1e-6          \n",
    "            features -= features_m\n",
    "            features /= features_s \n",
    "            self.pca_pre_z_mean[prf_model_index][0:n_features_actual] = features_m\n",
    "            self.pca_pre_z_std[prf_model_index][0:n_features_actual] = features_s\n",
    "            \n",
    "            # Perform PCA to decorrelate feats and reduce dimensionality\n",
    "            scores = pca.fit_transform(features)           \n",
    "            features = None            \n",
    "            wts = pca.components_\n",
    "            ev = pca.explained_variance_\n",
    "            ev = ev/np.sum(ev)*100\n",
    "            # wts/components goes [ncomponents x nfeatures]. \n",
    "            # nfeatures is always actual number of raw features\n",
    "            # ncomponents is min(ntrials, nfeatures)\n",
    "            # to save space, only going to save up to some max number of components.\n",
    "            n_components_actual = np.min([wts.shape[0], self.max_pc_to_retain])\n",
    "            # save a record of the transformation to be used for validating model\n",
    "            self.pca_wts[prf_model_index][0:n_components_actual,0:n_features_actual] = wts[0:n_components_actual,:] \n",
    "            # mean of each feature, nfeatures long - needed to reproduce transformation\n",
    "            self.pca_pre_mean[prf_model_index][0:n_features_actual] = pca.mean_ \n",
    "            # max len of ev is the number of components\n",
    "            self.pct_var_expl[0:n_components_actual,prf_model_index] = ev[0:n_components_actual]  \n",
    "            n_components_reduced = int(np.where(np.cumsum(ev)>self.min_pct_var)[0][0] if np.any(np.cumsum(ev)>self.min_pct_var) else len(ev))\n",
    "            n_components_reduced = np.max([n_components_reduced, 1])\n",
    "            self.n_comp_needed[prf_model_index] = n_components_reduced\n",
    "            print('Retaining %d components to expl %d pct var'%(n_components_reduced, self.min_pct_var))\n",
    "            assert(n_components_reduced<=self.max_pc_to_retain)            \n",
    "            features_reduced = scores[:,0:n_components_reduced]\n",
    "           \n",
    "        else:\n",
    "            \n",
    "            # This is a validation pass, going to use the pca pars that were computed on training set\n",
    "            # Make sure it has been done already!\n",
    "            assert(self.n_comp_needed[prf_model_index]!=-1)\n",
    "            print('Applying pre-computed PCA matrix...')\n",
    "            # Apply the PCA transformation, just as it was done during training\n",
    "            features -= np.tile(np.expand_dims(self.pca_pre_z_mean[prf_model_index], axis=0), [n_trials, 1])\n",
    "            features /= np.tile(np.expand_dims(self.pca_pre_z_std[prf_model_index], axis=0), [n_trials, 1])\n",
    "            \n",
    "            features_submean = features - np.tile(np.expand_dims(self.pca_pre_mean[prf_model_index][0:n_features_actual], axis=0), [n_trials, 1])\n",
    "            features_reduced = features_submean @ np.transpose(self.pca_wts[prf_model_index][0:self.n_comp_needed[prf_model_index],0:n_features_actual])               \n",
    "                       \n",
    "        features = None\n",
    "        \n",
    "        if was_tensor:\n",
    "            features_reduced = torch.tensor(features_reduced).to(self.device)\n",
    "        \n",
    "        return features_reduced\n",
    "    \n",
    "\n",
    "def get_features_each_prf(features_file, models, mult_patch_by_prf=True, do_avg_pool=True, \\\n",
    "                          batch_size=100, aperture=1.0, debug=False, device=None):\n",
    "    \"\"\"\n",
    "    Extract the portion of the feature maps corresponding to each prf in 'models'\n",
    "    Start with loading the feature maps h5py file (generated by get_st_features.m)\n",
    "    Save smaller features as an h5py file [n_images x n_features x n_prfs]\n",
    "    \"\"\"\n",
    "    if device is None:\n",
    "        device = 'cpu:0'\n",
    "        \n",
    "    with h5py.File(features_file, 'r') as data_set:\n",
    "        ds_size = data_set['/features'].shape\n",
    "    n_images = ds_size[3]\n",
    "    n_features = ds_size[0]\n",
    "    map_resolution = ds_size[1]\n",
    "    n_prfs = models.shape[0]\n",
    "    features_each_prf = np.zeros((n_images, n_features, n_prfs))\n",
    "    n_batches = int(np.ceil(n_images/batch_size))\n",
    "\n",
    "    for bb in range(n_batches):\n",
    "\n",
    "        if debug and bb>1:\n",
    "            continue\n",
    "\n",
    "        batch_inds = np.arange(batch_size * bb, np.min([batch_size * (bb+1), n_images]))\n",
    "\n",
    "        print('Loading features for images [%d - %d]'%(batch_inds[0], batch_inds[-1]))\n",
    "        st = time.time()\n",
    "        with h5py.File(features_file, 'r') as data_set:\n",
    "            # Note this order is reversed from how it was saved in matlab originally.\n",
    "            # The dimensions go [features x h x w x images]\n",
    "            # Luckily h and w are swapped matlab to python anyway, so can just switch the first and last.\n",
    "            values = np.copy(data_set['/features'][:,:,:,batch_inds])\n",
    "            data_set.close()  \n",
    "        fmaps_batch = np.moveaxis(values, [0,1,2,3],[3,1,2,0])\n",
    "\n",
    "        elapsed = time.time() - st\n",
    "        print('Took %.5f sec to load feature maps'%elapsed)\n",
    "\n",
    "        maps_full_field = torch_utils._to_torch(fmaps_batch, device=device)\n",
    "\n",
    "        for mm in range(n_prfs):\n",
    "\n",
    "            if debug and mm>1:\n",
    "                continue\n",
    "\n",
    "            prf_params = models[mm,:]\n",
    "            x,y,sigma = prf_params\n",
    "            print('Getting features for pRF [x,y,sigma]:')\n",
    "            print([x,y,sigma])\n",
    "            n_pix = map_resolution\n",
    "\n",
    "             # Define the RF for this \"model\" version\n",
    "            prf = torch_utils._to_torch(prf_utils.make_gaussian_mass(x, y, sigma, n_pix, size=aperture, \\\n",
    "                                      dtype=np.float32)[2], device=device)\n",
    "            minval = torch.min(prf)\n",
    "            maxval = torch.max(prf-minval)\n",
    "            prf_scaled = (prf - minval)/maxval\n",
    "\n",
    "            if mult_patch_by_prf:         \n",
    "                # This effectively restricts the spatial location, so no need to crop\n",
    "                maps = maps_full_field * prf_scaled.view([1,map_resolution,map_resolution,1])\n",
    "            else:\n",
    "                # This is a coarser way of choosing which spatial region to look at\n",
    "                # Crop the patch +/- n SD away from center\n",
    "                n_pf_sd_out = 2\n",
    "                bbox = texture_utils.get_bbox_from_prf(prf_params, prf.shape, n_prf_sd_out, min_pix=None, verbose=False, force_square=False)\n",
    "                print('bbox to crop is:')\n",
    "                print(bbox)\n",
    "                maps = maps_full_field[:,bbox[0]:bbox[1], bbox[2]:bbox[3],:]\n",
    "\n",
    "            if do_avg_pool:\n",
    "                features_batch = torch.mean(maps, dim=(1,2))\n",
    "            else:\n",
    "                features_batch = torch.max(maps, dim=(1,2))\n",
    "                \n",
    "            print('model %d, min/max of features in batch: [%s, %s]'%(mm, torch.min(features_batch), torch.max(features_batch))) \n",
    "\n",
    "            features_each_prf[batch_inds,:,mm] = torch_utils.get_value(features_batch)\n",
    "                      \n",
    "    return features_each_prf"
   ]
  },
  {
   "cell_type": "code",
   "execution_count": 65,
   "id": "2d046063",
   "metadata": {},
   "outputs": [
    {
     "name": "stdout",
     "output_type": "stream",
     "text": [
      "Preparing for PCA: original dims of features:\n",
      "(62, 151)\n"
     ]
    }
   ],
   "source": [
    "features = feats\n",
    "prf_model_index = mm\n",
    "fitting_mode = True\n",
    "if torch.is_tensor(features):\n",
    "    features = features.detach().cpu().numpy()\n",
    "    was_tensor=True\n",
    "else:\n",
    "    was_tensor=False\n",
    "\n",
    "n_trials = features.shape[0]\n",
    "n_features_actual = features.shape[1]\n",
    "assert(n_features_actual == _feature_extractor.n_feat_each_prf[prf_model_index])\n",
    "print('Preparing for PCA: original dims of features:')\n",
    "print(features.shape)"
   ]
  },
  {
   "cell_type": "code",
   "execution_count": 54,
   "id": "af1e9be7",
   "metadata": {},
   "outputs": [],
   "source": [
    "_feature_extractor.max_pc_to_retain = 400\n",
    "_feature_extractor.min_pct_var = 99"
   ]
  },
  {
   "cell_type": "code",
   "execution_count": 62,
   "id": "362aa16b",
   "metadata": {},
   "outputs": [
    {
     "name": "stdout",
     "output_type": "stream",
     "text": [
      "Running PCA...\n",
      "Retaining 1 components to expl 99 pct var\n"
     ]
    }
   ],
   "source": [
    "# Going to perform pca on the raw features\n",
    "# First make sure it hasn't been done yet!\n",
    "# assert(_feature_extractor.n_comp_needed[prf_model_index]==-1) \n",
    "print('Running PCA...')\n",
    "pca = decomposition.PCA(n_components = np.min([np.min([_feature_extractor.max_pc_to_retain, n_features_actual]), n_trials]), copy=False)\n",
    "# Perform PCA to decorrelate feats and reduce dimensionality\n",
    "scores = pca.fit_transform(features)           \n",
    "features = None            \n",
    "wts = pca.components_\n",
    "ev = pca.explained_variance_\n",
    "ev = ev/np.sum(ev)*100\n",
    "# wts/components goes [ncomponents x nfeatures]. \n",
    "# nfeatures is always actual number of raw features\n",
    "# ncomponents is min(ntrials, nfeatures)\n",
    "# to save space, only going to save up to some max number of components.\n",
    "n_components_actual = np.min([wts.shape[0], _feature_extractor.max_pc_to_retain])\n",
    "# save a record of the transformation to be used for validating model\n",
    "# _feature_extractor.pca_wts[prf_model_index][0:n_components_actual,0:n_features_actual] = wts[0:n_components_actual,:] \n",
    "# mean of each feature, nfeatures long - needed to reproduce transformation\n",
    "# _feature_extractor.pca_pre_mean[prf_model_index][0:n_features_actual] = pca.mean_ \n",
    "# max len of ev is the number of components\n",
    "# _feature_extractor.pct_var_expl[0:n_components_actual,prf_model_index] = ev[0:n_components_actual]  \n",
    "n_components_reduced = int(np.where(np.cumsum(ev)>_feature_extractor.min_pct_var)[0][0] if np.any(np.cumsum(ev)>_feature_extractor.min_pct_var) else len(ev))\n",
    "n_components_reduced = np.max([n_components_reduced, 1])\n",
    "# _feature_extractor.n_comp_needed[prf_model_index] = n_components_reduced\n",
    "print('Retaining %d components to expl %d pct var'%(n_components_reduced, _feature_extractor.min_pct_var))\n",
    "assert(n_components_reduced<=_feature_extractor.max_pc_to_retain)            \n",
    "features_reduced = scores[:,0:n_components_reduced]"
   ]
  },
  {
   "cell_type": "code",
   "execution_count": 70,
   "id": "f5634a2e",
   "metadata": {},
   "outputs": [
    {
     "data": {
      "text/plain": [
       "<matplotlib.collections.QuadMesh at 0x7fe52b2fcfd0>"
      ]
     },
     "execution_count": 70,
     "metadata": {},
     "output_type": "execute_result"
    },
    {
     "data": {
      "image/png": "[encoded data removed]",
      "text/plain": [
       "<Figure size 1008x1008 with 1 Axes>"
      ]
     },
     "metadata": {
      "needs_background": "light"
     },
     "output_type": "display_data"
    }
   ],
   "source": [
    "plt.figure(figsize=(14,14));\n",
    "plt.pcolormesh(features[:,0:150])"
   ]
  },
  {
   "cell_type": "code",
   "execution_count": 68,
   "id": "d73311bc",
   "metadata": {},
   "outputs": [
    {
     "data": {
      "text/plain": [
       "array([-1.5815306e-14, -3.3005855e-14, -2.0170245e-14, -2.2462319e-14,\n",
       "       -4.4007807e-14,  9.1682931e-15, -1.1001952e-14, -4.0340490e-14,\n",
       "        0.0000000e+00, -1.8336586e-14,  3.6673172e-15, -2.7504879e-14,\n",
       "       -1.1001952e-14,  3.6673172e-14,  0.0000000e+00, -3.6673172e-14,\n",
       "        3.6673172e-15, -6.4178052e-15, -1.4669269e-14, -1.8336586e-14,\n",
       "        3.6673172e-14, -3.6673172e-15, -2.2003903e-14, -5.8677076e-14,\n",
       "       -3.6673172e-15,  2.2003903e-14,  2.2003903e-14,  1.9253416e-14,\n",
       "        2.9338538e-14,  0.0000000e+00, -3.6673172e-15,  2.7504879e-14,\n",
       "        2.2003903e-14,  2.7504879e-15,  1.1918781e-14,  1.1918781e-13,\n",
       "       -2.5671221e-14,  3.3005855e-14, -3.3005855e-14,  3.1172198e-14,\n",
       "        8.0680979e-14,  1.4669269e-14,  7.3346345e-15, -3.6673172e-15,\n",
       "        5.3176102e-14,  5.1342441e-14,  3.6673172e-15, -4.7675124e-14,\n",
       "       -2.9338538e-14,  2.5671221e-14, -4.0340490e-14,  8.0680979e-14,\n",
       "        2.9338538e-14,  3.6673172e-14, -4.4007807e-14,  4.4007807e-14,\n",
       "        6.6011710e-14,  4.7675124e-14, -1.1001952e-14,  1.4669269e-14,\n",
       "       -3.2272392e-13, -7.3346345e-15, -7.3346345e-15, -5.8677076e-14,\n",
       "       -5.5009759e-14,  3.7876511e-14, -2.7504879e-14,  3.6673172e-14,\n",
       "       -1.8336587e-13, -8.0680979e-14, -6.6011710e-14,  4.4007807e-14,\n",
       "       -2.2003903e-14,  3.0713784e-14, -2.9338538e-14,  9.1682931e-15,\n",
       "       -2.2003903e-14,  2.9338538e-14,  3.3005855e-14, -4.0340490e-14,\n",
       "       -1.4669269e-14, -2.5671221e-14, -2.5671221e-14,  0.0000000e+00,\n",
       "       -1.0085122e-14, -7.3346345e-15, -1.8336586e-14,  0.0000000e+00,\n",
       "       -1.6502929e-13,  5.5009759e-14,  9.5350248e-14, -7.3346345e-15,\n",
       "       -2.1087075e-14,  4.4007807e-14, -4.4007807e-14,  4.7675124e-14,\n",
       "       -7.3346345e-15, -5.1342441e-14,  4.4007807e-14,  6.6011710e-14,\n",
       "        2.9338538e-14,  4.4007807e-14,  8.7098789e-15,  2.2003903e-14,\n",
       "       -5.1342441e-14, -2.2003903e-14, -1.2835610e-14, -6.2344396e-14,\n",
       "        1.4669269e-14,  2.2003903e-14, -5.1342441e-14, -3.6673172e-15,\n",
       "       -3.3005855e-14,  0.0000000e+00, -2.2003903e-14, -2.2920733e-16,\n",
       "        2.2003903e-14, -5.5009759e-15,  5.8677076e-14,  6.6011710e-14,\n",
       "       -1.8336586e-14, -2.9338538e-14,  2.2003903e-14,  3.6673172e-14,\n",
       "        4.0340490e-14,  4.7675124e-14, -3.6673172e-15, -3.3005855e-14,\n",
       "       -6.6011710e-14,  1.4669269e-14, -2.9338538e-14, -7.3346345e-15,\n",
       "        3.6673172e-15, -4.3090978e-14, -3.6673172e-14, -2.2003903e-14,\n",
       "        9.5350248e-14, -7.3346345e-15,  1.5127685e-14,  0.0000000e+00,\n",
       "       -6.6011710e-14, -4.0340490e-14, -2.9338538e-14, -2.2003903e-14,\n",
       "        2.9338538e-14,  4.7675124e-14,  2.2003903e-14,  4.0340490e-14,\n",
       "        2.2003903e-14, -2.2003903e-14,  8.9189160e-12], dtype=float32)"
      ]
     },
     "execution_count": 68,
     "metadata": {},
     "output_type": "execute_result"
    }
   ],
   "source": [
    "np.mean(features, axis=0)"
   ]
  },
  {
   "cell_type": "code",
   "execution_count": 41,
   "id": "87b5fb38",
   "metadata": {},
   "outputs": [
    {
     "data": {
      "text/plain": [
       "array([[ 0.00245485,  0.00672593,  0.00492353, ...,  0.00344858,\n",
       "         0.00668965, -0.99591285],\n",
       "       [-0.04739868,  0.08239121, -0.04661044, ..., -0.05576875,\n",
       "        -0.06590424,  0.03195803],\n",
       "       [ 0.06343289, -0.01247802,  0.03169131, ...,  0.10604736,\n",
       "         0.04479181, -0.00742254],\n",
       "       ...,\n",
       "       [ 0.        ,  0.        ,  0.        , ...,  0.        ,\n",
       "         0.        ,  0.        ],\n",
       "       [ 0.        ,  0.        ,  0.        , ...,  0.        ,\n",
       "         0.        ,  0.        ],\n",
       "       [ 0.        ,  0.        ,  0.        , ...,  0.        ,\n",
       "         0.        ,  0.        ]], dtype=float32)"
      ]
     },
     "execution_count": 41,
     "metadata": {},
     "output_type": "execute_result"
    }
   ],
   "source": [
    "_feature_extractor.pca_wts[2]"
   ]
  },
  {
   "cell_type": "code",
   "execution_count": 42,
   "id": "9c5e2ce7",
   "metadata": {},
   "outputs": [
    {
     "data": {
      "text/plain": [
       "<matplotlib.collections.QuadMesh at 0x7fe5382b21d0>"
      ]
     },
     "execution_count": 42,
     "metadata": {},
     "output_type": "execute_result"
    },
    {
     "data": {
      "image/png": "[encoded data removed]",
      "text/plain": [
       "<Figure size 432x288 with 1 Axes>"
      ]
     },
     "metadata": {
      "needs_background": "light"
     },
     "output_type": "display_data"
    }
   ],
   "source": [
    "import matplotlib.pyplot as plt\n",
    "plt.pcolormesh(_feature_extractor.pca_wts[2])"
   ]
  },
  {
   "cell_type": "code",
   "execution_count": 38,
   "id": "b83c1135",
   "metadata": {},
   "outputs": [
    {
     "data": {
      "text/plain": [
       "array([98.770065, 99.39865 , 99.55419 , 99.66115 , 99.74617 , 99.806885,\n",
       "       99.84795 , 99.88618 , 99.90486 , 99.91882 , 99.930244, 99.94002 ,\n",
       "       99.94772 , 99.9545  , 99.96038 , 99.96571 , 99.97029 , 99.9743  ,\n",
       "       99.97815 , 99.98136 , 99.98441 , 99.986946, 99.98938 , 99.9914  ,\n",
       "       99.99295 , 99.994316, 99.99519 , 99.99603 , 99.99686 , 99.99754 ,\n",
       "       99.99811 , 99.998505, 99.998856, 99.999176, 99.99936 , 99.99951 ,\n",
       "       99.99963 , 99.99974 , 99.99982 , 99.999886, 99.99994 , 99.99997 ,\n",
       "       99.999985, 99.99999 , 99.99999 , 99.99999 , 99.99999 , 99.99999 ,\n",
       "       99.99999 , 99.99999 , 99.99999 , 99.99999 , 99.99999 , 99.99999 ,\n",
       "       99.99999 , 99.99999 , 99.99999 , 99.99999 , 99.99999 , 99.99999 ,\n",
       "       99.99999 , 99.99999 , 99.99999 , 99.99999 , 99.99999 , 99.99999 ,\n",
       "       99.99999 , 99.99999 , 99.99999 , 99.99999 , 99.99999 , 99.99999 ,\n",
       "       99.99999 , 99.99999 , 99.99999 , 99.99999 , 99.99999 , 99.99999 ,\n",
       "       99.99999 , 99.99999 , 99.99999 , 99.99999 , 99.99999 , 99.99999 ,\n",
       "       99.99999 , 99.99999 , 99.99999 , 99.99999 , 99.99999 , 99.99999 ,\n",
       "       99.99999 , 99.99999 , 99.99999 , 99.99999 , 99.99999 , 99.99999 ,\n",
       "       99.99999 , 99.99999 , 99.99999 , 99.99999 , 99.99999 , 99.99999 ,\n",
       "       99.99999 , 99.99999 , 99.99999 , 99.99999 , 99.99999 , 99.99999 ,\n",
       "       99.99999 , 99.99999 , 99.99999 , 99.99999 , 99.99999 , 99.99999 ,\n",
       "       99.99999 , 99.99999 , 99.99999 , 99.99999 , 99.99999 , 99.99999 ,\n",
       "       99.99999 , 99.99999 , 99.99999 , 99.99999 , 99.99999 , 99.99999 ,\n",
       "       99.99999 , 99.99999 , 99.99999 , 99.99999 , 99.99999 , 99.99999 ,\n",
       "       99.99999 , 99.99999 , 99.99999 , 99.99999 , 99.99999 , 99.99999 ,\n",
       "       99.99999 , 99.99999 , 99.99999 , 99.99999 , 99.99999 , 99.99999 ,\n",
       "       99.99999 , 99.99999 , 99.99999 , 99.99999 , 99.99999 , 99.99999 ,\n",
       "       99.99999 ], dtype=float32)"
      ]
     },
     "execution_count": 38,
     "metadata": {},
     "output_type": "execute_result"
    }
   ],
   "source": [
    "# np.cumsum(_feature_extractor.pct_var_expl[:,mm])"
   ]
  },
  {
   "cell_type": "code",
   "execution_count": 15,
   "id": "fbca14cf",
   "metadata": {},
   "outputs": [
    {
     "name": "stdout",
     "output_type": "stream",
     "text": [
      "Index into batch for prf 2: 2\n",
      "Size of features array for this image set and prf is:\n",
      "(62, 641)\n",
      "Final size of features concatenated is [62 x 641]\n",
      "Feature types included are:\n",
      "['pixel_stats', 'mean_magnitudes', 'mean_realparts', 'marginal_stats_lowpass_recons', 'variance_highpass_resid', 'magnitude_feature_autocorrs', 'lowpass_recon_autocorrs', 'highpass_resid_autocorrs', 'magnitude_within_scale_crosscorrs', 'real_within_scale_crosscorrs', 'magnitude_across_scale_crosscorrs', 'real_imag_across_scale_crosscorrs', 'real_spatshift_within_scale_crosscorrs', 'real_spatshift_across_scale_crosscorrs']\n",
      "Final size of features concatenated is [62 x 641]\n",
      "Running PCA on higher-level features...\n",
      "Preparing for PCA: original dims of features:\n",
      "(62, 592)\n",
      "Applying pre-computed PCA matrix...\n",
      "Final size of features concatenated is [62 x 51]\n",
      "Preparing for PCA: original dims of features:\n",
      "(62, 151)\n",
      "Applying pre-computed PCA matrix...\n",
      "Final size of feature matrix is:\n",
      "(62, 1)\n"
     ]
    }
   ],
   "source": [
    "feats, defined = _feature_extractor(val_stim_data, models[mm], mm, fitting_mode=False)"
   ]
  },
  {
   "cell_type": "code",
   "execution_count": 16,
   "id": "70772683",
   "metadata": {},
   "outputs": [
    {
     "data": {
      "text/plain": [
       "(600,)"
      ]
     },
     "execution_count": 16,
     "metadata": {},
     "output_type": "execute_result"
    }
   ],
   "source": [
    "defined.shape"
   ]
  },
  {
   "cell_type": "code",
   "execution_count": 28,
   "id": "d3f432b9",
   "metadata": {},
   "outputs": [
    {
     "data": {
      "text/plain": [
       "449"
      ]
     },
     "execution_count": 28,
     "metadata": {},
     "output_type": "execute_result"
    }
   ],
   "source": [
    "_feature_extractor.modules[0].max_features"
   ]
  },
  {
   "cell_type": "code",
   "execution_count": 29,
   "id": "0493399d",
   "metadata": {},
   "outputs": [
    {
     "data": {
      "text/plain": [
       "151"
      ]
     },
     "execution_count": 29,
     "metadata": {},
     "output_type": "execute_result"
    }
   ],
   "source": [
    "_feature_extractor.modules[1].max_features"
   ]
  },
  {
   "cell_type": "code",
   "execution_count": 17,
   "id": "1ca6d847",
   "metadata": {},
   "outputs": [],
   "source": [
    "pc = []\n",
    "for m in _feature_extractor.modules:           \n",
    "    if hasattr(m, 'pct_var_expl'):\n",
    "        pcm = [m.pct_var_expl, m.min_pct_var,  m.n_comp_needed]                  \n",
    "    else:\n",
    "        pcm = None\n",
    "    pc.append(pcm)"
   ]
  },
  {
   "cell_type": "code",
   "execution_count": 23,
   "id": "e82add01",
   "metadata": {},
   "outputs": [
    {
     "data": {
      "text/plain": [
       "array([[ 0.        ,  0.        , 98.06194   , ...,  0.        ,\n",
       "         0.        ,  0.        ],\n",
       "       [ 0.        ,  0.        ,  0.7108457 , ...,  0.        ,\n",
       "         0.        ,  0.        ],\n",
       "       [ 0.        ,  0.        ,  0.49869698, ...,  0.        ,\n",
       "         0.        ,  0.        ],\n",
       "       ...,\n",
       "       [ 0.        ,  0.        ,  0.        , ...,  0.        ,\n",
       "         0.        ,  0.        ],\n",
       "       [ 0.        ,  0.        ,  0.        , ...,  0.        ,\n",
       "         0.        ,  0.        ],\n",
       "       [ 0.        ,  0.        ,  0.        , ...,  0.        ,\n",
       "         0.        ,  0.        ]], dtype=float32)"
      ]
     },
     "execution_count": 23,
     "metadata": {},
     "output_type": "execute_result"
    }
   ],
   "source": [
    "pc[0][0]"
   ]
  },
  {
   "cell_type": "code",
   "execution_count": 17,
   "id": "534acd89",
   "metadata": {},
   "outputs": [
    {
     "data": {
      "text/plain": [
       "tensor([[ 4.1239e-01,  4.9881e-03,  3.6118e-02,  ..., -1.7653e+02,\n",
       "         -1.7898e+01, -7.5757e-05],\n",
       "        [ 3.7503e-02,  6.5405e-03,  2.0029e+00,  ..., -1.8690e+02,\n",
       "         -1.1006e+01,  1.4115e-04],\n",
       "        [ 2.0118e-01,  4.4240e-03,  1.1431e+00,  ..., -1.7151e+02,\n",
       "         -1.0463e+01,  2.8603e-05],\n",
       "        ...,\n",
       "        [ 1.5854e-02,  5.0241e-05,  1.2342e+00,  ...,  1.2241e+03,\n",
       "          6.5767e+00, -3.6620e-04],\n",
       "        [ 2.7447e-01,  1.8736e-02,  1.6470e+00,  ..., -2.3180e+01,\n",
       "         -1.4085e+01,  3.3083e-04],\n",
       "        [ 5.7150e-02,  1.9648e-05,  2.8961e+00,  ..., -1.9614e+02,\n",
       "         -1.2480e+01, -4.2701e-04]])"
      ]
     },
     "execution_count": 17,
     "metadata": {},
     "output_type": "execute_result"
    }
   ],
   "source": [
    "torch.cat((feats, feats2), axis=1)"
   ]
  },
  {
   "cell_type": "code",
   "execution_count": 38,
   "id": "fc1785ee",
   "metadata": {},
   "outputs": [
    {
     "name": "stdout",
     "output_type": "stream",
     "text": [
      "Index into batch for prf 2: 2\n",
      "Size of features array for this image set and prf is:\n",
      "(62, 641)\n",
      "Final size of features concatenated is [62 x 641]\n",
      "Feature types included are:\n",
      "['pixel_stats', 'mean_magnitudes', 'mean_realparts', 'marginal_stats_lowpass_recons', 'variance_highpass_resid', 'magnitude_feature_autocorrs', 'lowpass_recon_autocorrs', 'highpass_resid_autocorrs', 'magnitude_within_scale_crosscorrs', 'real_within_scale_crosscorrs', 'magnitude_across_scale_crosscorrs', 'real_imag_across_scale_crosscorrs', 'real_spatshift_within_scale_crosscorrs', 'real_spatshift_across_scale_crosscorrs']\n",
      "Final size of features concatenated is [62 x 641]\n",
      "Running PCA on higher-level features...\n",
      "Preparing for PCA: original dims of features:\n",
      "(62, 592)\n",
      "Applying pre-computed PCA matrix...\n",
      "Final size of features concatenated is [62 x 51]\n"
     ]
    }
   ],
   "source": [
    "feats, defined = _feature_extractor(val_stim_data, models[mm], mm, fitting_mode=False)"
   ]
  },
  {
   "cell_type": "code",
   "execution_count": 27,
   "id": "beae0311",
   "metadata": {},
   "outputs": [
    {
     "data": {
      "text/plain": [
       "(3, 641)"
      ]
     },
     "execution_count": 27,
     "metadata": {},
     "output_type": "execute_result"
    }
   ],
   "source": [
    "_feature_extractor.modules[0].get_partial_versions()[0].shape"
   ]
  },
  {
   "cell_type": "code",
   "execution_count": 36,
   "id": "a9f74d95",
   "metadata": {},
   "outputs": [
    {
     "data": {
      "text/plain": [
       "51"
      ]
     },
     "execution_count": 36,
     "metadata": {},
     "output_type": "execute_result"
    }
   ],
   "source": [
    "np.where(defined==False)[0][0]"
   ]
  },
  {
   "cell_type": "code",
   "execution_count": 64,
   "id": "02954be5",
   "metadata": {},
   "outputs": [],
   "source": [
    "# _feature_extractor.n_comp_needed"
   ]
  },
  {
   "cell_type": "code",
   "execution_count": 66,
   "id": "8461273c",
   "metadata": {},
   "outputs": [
    {
     "data": {
      "text/plain": [
       "False"
      ]
     },
     "execution_count": 66,
     "metadata": {},
     "output_type": "execute_result"
    }
   ],
   "source": [
    "hasattr(_feature_extractor, 'pct_kdfvar_expl')"
   ]
  }
 ],
 "metadata": {
  "kernelspec": {
   "display_name": "Python 3",
   "language": "python",
   "name": "python3"
  },
  "language_info": {
   "codemirror_mode": {
    "name": "ipython",
    "version": 3
   },
   "file_extension": ".py",
   "mimetype": "text/x-python",
   "name": "python",
   "nbconvert_exporter": "python",
   "pygments_lexer": "ipython3",
   "version": "3.7.1"
  }
 },
 "nbformat": 4,
 "nbformat_minor": 5
}
