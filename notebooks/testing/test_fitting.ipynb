{
 "cells": [
  {
   "cell_type": "code",
   "execution_count": 3,
   "id": "97f9114a",
   "metadata": {},
   "outputs": [],
   "source": [
    "# import basic modules\n",
    "import sys\n",
    "import os\n",
    "import time\n",
    "import numpy as np\n",
    "from tqdm import tqdm\n",
    "import gc\n",
    "import torch\n",
    "import argparse\n",
    "import skimage.transform\n",
    "\n",
    "# import custom modules\n",
    "code_dir = '/user_data/mmhender/imStat/code/'\n",
    "sys.path.append(code_dir)\n",
    "from feature_extraction import texture_statistics_gabor, texture_statistics_pyramid, bdcn_features, sketch_token_features\n",
    "from utils import nsd_utils, roi_utils\n",
    "\n",
    "bdcn_path = '/user_data/mmhender/toolboxes/BDCN/'\n",
    "\n",
    "from model_fitting import initialize_fitting, merge_features, fwrf_fit, fwrf_predict\n",
    "\n",
    "fpX = np.float32\n",
    "device = 'cpu:0'\n",
    "# device = initialize_fitting.init_cuda()"
   ]
  },
  {
   "cell_type": "code",
   "execution_count": 4,
   "id": "6d1aed79",
   "metadata": {},
   "outputs": [],
   "source": [
    "fitting_type='gabor_texture'\n",
    "do_avg_pool=True\n",
    "subject=1\n",
    "volume_space = True\n",
    "up_to_sess = 1\n",
    "n_ori = 4\n",
    "n_sf = 4\n",
    "nonlin_fn = False\n",
    "padding_mode = 'circular';\n",
    "group_all_hl_feats = True; \\\n",
    "sample_batch_size = 50; voxel_batch_size = 100; \\\n",
    "zscore_features = True; ridge = True; \\\n",
    "shuffle_images = False; random_images = False; random_voxel_data = False; \\\n",
    "do_fitting = True; do_val = True; do_varpart = True; date_str = None;\n",
    "shuff_rnd_seed = 0; debug = True; \\\n",
    "do_pca = False; min_pct_var = 99; max_pc_to_retain = 400; map_ind = -1; \\\n",
    "n_prf_sd_out = 2; mult_patch_by_prf = True; \\\n",
    "downsample_factor = 1.0; do_nms = False"
   ]
  },
  {
   "cell_type": "code",
   "execution_count": null,
   "id": "6a24f08e",
   "metadata": {},
   "outputs": [],
   "source": []
  },
  {
   "cell_type": "code",
   "execution_count": 5,
   "id": "bdb13b3c",
   "metadata": {},
   "outputs": [
    {
     "name": "stdout",
     "output_type": "stream",
     "text": [
      "Time Stamp: Sep-19-2021_1203_15\n",
      "\n",
      "Will save final output file to /user_data/mmhender/imStat/model_fits/S01/texture_gabor_ridge_4ori_4sf/Sep-19-2021_1203_15_DEBUG/\n",
      "\n",
      "\n",
      "Volume space: ROI defs are located at: /lab_data/tarrlab/common/datasets/NSD/nsddata/ppdata/subj01/func1pt8mm/roi\n",
      "\n",
      "3794 voxels of overlap between kastner and prf definitions, using prf defs\n",
      "unique values in retino labels:\n",
      "[-1.  0.  1.  2.  3.  4.  5.  6.  7.  8.  9. 10. 11. 12. 13. 14. 15. 16.\n",
      " 17. 18. 19. 20. 21. 22. 23. 24. 25.]\n",
      "0 voxels of overlap between face and place definitions, using place defs\n",
      "unique values in categ labels:\n",
      "[-1.  0. 26. 27. 28. 30. 31. 32. 33.]\n",
      "1535 voxels are defined (differently) in both retinotopic areas and category areas\n",
      "\n",
      "14913 voxels are defined across all areas, and will be used for analysis\n",
      "\n",
      "Loading numerical label/name mappings for all ROIs:\n",
      "[1, 2, 3, 4, 5, 6, 7]\n",
      "['V1v', 'V1d', 'V2v', 'V2d', 'V3v', 'V3d', 'hV4']\n",
      "[1, 2, 3, 4, 5, 6, 7, 8, 9, 10, 11, 12, 13, 14, 15, 16, 17, 18, 19, 20, 21, 22, 23, 24, 25]\n",
      "['V1v', 'V1d', 'V2v', 'V2d', 'V3v', 'V3d', 'hV4', 'VO1', 'VO2', 'PHC1', 'PHC2', 'TO2', 'TO1', 'LO2', 'LO1', 'V3B', 'V3A', 'IPS0', 'IPS1', 'IPS2', 'IPS3', 'IPS4', 'IPS5', 'SPL1', 'FEF']\n",
      "[1, 2, 3, 4, 5]\n",
      "['OFA', 'FFA-1', 'FFA-2', 'mTL-faces', 'aTL-faces']\n",
      "[1, 2, 3]\n",
      "['OPA', 'PPA', 'RSC']\n",
      "\n",
      "Sizes of all defined ROIs in this subject:\n",
      "Region V1 has 2392 voxels. Includes subregions:\n",
      "['V1v', 'V1d']\n",
      "Region V2 has 2096 voxels. Includes subregions:\n",
      "['V2v', 'V2d']\n",
      "Region V3 has 1674 voxels. Includes subregions:\n",
      "['V3v', 'V3d']\n",
      "Region hV4 has 721 voxels. Includes subregions:\n",
      "['hV4']\n",
      "Region VO1-2 has 482 voxels. Includes subregions:\n",
      "['VO1', 'VO2']\n",
      "Region PHC1-2 has 382 voxels. Includes subregions:\n",
      "['PHC1', 'PHC2']\n",
      "Region LO1-2 has 488 voxels. Includes subregions:\n",
      "['LO2', 'LO1']\n",
      "Region TO1-2 has 339 voxels. Includes subregions:\n",
      "['TO2', 'TO1']\n",
      "Region V3ab has 965 voxels. Includes subregions:\n",
      "['V3B', 'V3A']\n",
      "Region IPS0-5 has 2155 voxels. Includes subregions:\n",
      "['IPS0', 'IPS1', 'IPS2', 'IPS3', 'IPS4', 'IPS5']\n",
      "Region SPL1 has 164 voxels. Includes subregions:\n",
      "['SPL1']\n",
      "Region FEF has 72 voxels. Includes subregions:\n",
      "['FEF']\n",
      "\n",
      "\n",
      "Region OFA has 355 voxels.\n",
      "Region FFA-1 has 484 voxels.\n",
      "Region FFA-2 has 310 voxels.\n",
      "Region mTL-faces has 0 voxels.\n",
      "Region aTL-faces has 159 voxels.\n",
      "Region OPA has 1611 voxels.\n",
      "Region PPA has 1033 voxels.\n",
      "Region RSC has 566 voxels.\n",
      "\n",
      "Loading images for subject 1\n",
      "\n",
      "image data size: (10000, 3, 227, 227) , dtype: uint8 , value range: 0 255\n",
      "Loading data for sessions:\n",
      "[6 9]\n",
      "Data is located in: /lab_data/tarrlab/common/datasets/NSD/nsddata_betas/ppdata/subj01/func1pt8mm/betas_fithrf_GLMdenoise_RR...\n",
      "Loading from /lab_data/tarrlab/common/datasets/NSD/nsddata_betas/ppdata/subj01/func1pt8mm/betas_fithrf_GLMdenoise_RR/betas_session06.nii.gz...\n",
      "Raw data:\n",
      "float64 -32768.0 32767.0 (750, 81, 104, 83)\n",
      "Adjusted data (divided by 300):\n",
      "float32 -109.22667 109.223335 (750, 699192)\n",
      "z-scoring beta weights within this session...\n",
      "mean = 1.312, sigma = 1.477\n",
      "Loading from /lab_data/tarrlab/common/datasets/NSD/nsddata_betas/ppdata/subj01/func1pt8mm/betas_fithrf_GLMdenoise_RR/betas_session09.nii.gz...\n",
      "Raw data:\n",
      "float64 -32768.0 32767.0 (750, 81, 104, 83)\n",
      "Adjusted data (divided by 300):\n",
      "float32 -109.22667 109.223335 (750, 699192)\n",
      "z-scoring beta weights within this session...\n",
      "mean = 1.260, sigma = 1.503\n",
      "\n",
      "Size of full data set [nTrials x nVoxels] is:\n",
      "(1500, 14913)\n"
     ]
    }
   ],
   "source": [
    "if 'pyramid' in fitting_type:\n",
    "    model_name = initialize_fitting.get_pyramid_model_name(ridge, n_ori, n_sf)\n",
    "    feature_types_exclude = []\n",
    "        \n",
    "    if 'plus_bdcn' in fitting_type:\n",
    "        model_name2 = initialize_fitting.get_bdcn_model_name(do_pca, map_ind)\n",
    "        model_name = model_name + '_plus_' + model_name2\n",
    "\n",
    "elif 'bdcn' in fitting_type:\n",
    "    model_name = initialize_fitting.get_bdcn_model_name(do_pca, map_ind)\n",
    "\n",
    "elif 'sketch_tokens' in fitting_type:\n",
    "    model_name = initialize_fitting.get_sketch_tokens_model_name(do_pca)\n",
    "     \n",
    "elif 'gabor_texture' in fitting_type:\n",
    "\n",
    "    model_name = initialize_fitting.get_gabor_texture_model_name(ridge, n_ori, n_sf)\n",
    "    feature_types_exclude = []\n",
    "\n",
    "elif 'gabor_solo' in fitting_type:\n",
    "\n",
    "    model_name = initialize_fitting.get_gabor_solo_model_name(ridge, n_ori, n_sf)\n",
    "    feature_types_exclude = ['pixel', 'simple_feature_means', 'autocorrs', 'crosscorrs']\n",
    "else:     \n",
    "    raise ValueError('your string for fitting_type was not recognized')\n",
    "\n",
    "output_dir, fn2save = initialize_fitting.get_save_path(subject, volume_space, model_name, shuffle_images, random_images, random_voxel_data, debug, date_str)\n",
    "\n",
    "# decide what voxels to use  \n",
    "voxel_mask, voxel_index, voxel_roi, voxel_ncsnr, brain_nii_shape = roi_utils.get_voxel_roi_info(subject, volume_space)\n",
    "\n",
    "# sessions = np.arange(0,up_to_sess)\n",
    "sessions = [5,8]\n",
    "zscore_betas_within_sess = True\n",
    "# get all data and corresponding images, in two splits. always fixed set that gets left out\n",
    "trn_stim_data, trn_voxel_data, val_stim_data, val_voxel_data, \\\n",
    "            image_order, image_order_trn, image_order_val = nsd_utils.get_data_splits(subject, sessions=sessions, \\\n",
    "                                                                         voxel_mask=voxel_mask, volume_space=volume_space, \\\n",
    "                                                                          zscore_betas_within_sess=zscore_betas_within_sess, \\\n",
    "                                                                          shuffle_images=shuffle_images, random_images=random_images, \\\n",
    "                                                                                             random_voxel_data=random_voxel_data)\n",
    "    "
   ]
  },
  {
   "cell_type": "code",
   "execution_count": 18,
   "id": "e206de52",
   "metadata": {},
   "outputs": [
    {
     "data": {
      "text/plain": [
       "1"
      ]
     },
     "execution_count": 18,
     "metadata": {},
     "output_type": "execute_result"
    }
   ],
   "source": [
    "len(image_order_trn.shape)"
   ]
  },
  {
   "cell_type": "code",
   "execution_count": 4,
   "id": "a22757ab",
   "metadata": {},
   "outputs": [
    {
     "name": "stdout",
     "output_type": "stream",
     "text": [
      "\n",
      "Possible lambda values are:\n",
      "[1.0000000e+00 4.2169652e+00 1.7782795e+01 7.4989418e+01 3.1622775e+02\n",
      " 1.3335215e+03 5.6234131e+03 2.3713736e+04 1.0000000e+05]\n",
      "most extreme RF positions:\n",
      "[-0.55 -0.55  0.04]\n",
      "[0.55       0.55       0.40000001]\n"
     ]
    }
   ],
   "source": [
    "if 'sketch_tokens' in fitting_type:\n",
    "        # For this model, the features are pre-computed, so we will just load them rather than passing in images.\n",
    "        # Going to pass the image indices (into 10,000 dim array) instead of images to fitting and val functions, \n",
    "        # which will tell which features to load.\n",
    "        trn_stim_data = image_order_trn\n",
    "        val_stim_data = image_order_val\n",
    "        \n",
    "# More params for fitting\n",
    "holdout_size, lambdas = initialize_fitting.get_fitting_pars(trn_voxel_data, zscore_features, ridge=ridge)\n",
    "# Params for the spatial aspect of the model (possible pRFs)\n",
    "aperture_rf_range = 1.1\n",
    "aperture, models = initialize_fitting.get_prf_models(aperture_rf_range=aperture_rf_range)    \n",
    "    "
   ]
  },
  {
   "cell_type": "code",
   "execution_count": 5,
   "id": "0e396d7b",
   "metadata": {},
   "outputs": [],
   "source": [
    "\n",
    "map_resolution = 227\n",
    "_feature_extractor = sketch_token_features.sketch_token_feature_extractor(subject, device, map_resolution=map_resolution, aperture = aperture, \\\n",
    "                                                     n_prf_sd_out = n_prf_sd_out, \\\n",
    "                                     batch_size=sample_batch_size, mult_patch_by_prf=mult_patch_by_prf, do_avg_pool = do_avg_pool, \\\n",
    "                                     do_pca = do_pca, min_pct_var = min_pct_var, max_pc_to_retain = max_pc_to_retain)\n"
   ]
  },
  {
   "cell_type": "code",
   "execution_count": 7,
   "id": "615bd700",
   "metadata": {},
   "outputs": [
    {
     "data": {
      "text/plain": [
       "<bound method sketch_token_feature_extractor.forward of sketch_token_feature_extractor()>"
      ]
     },
     "execution_count": 7,
     "metadata": {},
     "output_type": "execute_result"
    }
   ],
   "source": [
    "_feature_extractor.forward"
   ]
  },
  {
   "cell_type": "code",
   "execution_count": 6,
   "id": "f7ab3916",
   "metadata": {},
   "outputs": [
    {
     "name": "stdout",
     "output_type": "stream",
     "text": [
      "dtype = <class 'numpy.float32'>\n",
      "device = cpu:0\n",
      "trn_size = 1210 (90.0%)\n",
      "Computing a new random seed\n",
      "Seeding random number generator: seed is 421216\n",
      "Initializing for fitting\n",
      "Clearing features from memory\n",
      "---------------------------------------\n",
      "\n",
      "\n",
      "Getting features for prf 0: [x,y,sigma] is [-0.55 -0.55 0.0400]\n",
      "Loading pre-computed features from /user_data/mmhender/features/sketch_tokens/S1_features_each_prf.h5py\n",
      "Took 15.11594 seconds to load file\n",
      "Size of features array for this image set is:\n",
      "(1345, 151, 875)\n",
      "Final size of feature matrix is:\n",
      "(1345, 151)\n",
      "\n",
      "Fitting version 0 of 1: full_model, \n",
      "fitting model    0 of 875 , voxels [ 14900:14912 ] of 14913\n",
      "Getting features for prf 1: [x,y,sigma] is [-0.49 -0.55 0.0400]\n",
      "Final size of feature matrix is:\n",
      "(1345, 151)\n",
      "\n",
      "Fitting version 0 of 1: full_model, \n",
      "fitting model    1 of 875 , voxels [ 14900:14912 ] of 14913\n",
      "---------------------------------------\n",
      "total time = 20.116570s\n",
      "total throughput = 0.001349s/voxel\n",
      "voxel throughput = 0.000271s/voxel\n",
      "setup throughput = 0.018375s/model\n",
      "Clearing features from memory\n"
     ]
    }
   ],
   "source": [
    "# add an intercept\n",
    "add_bias=True\n",
    "# determines whether to shuffle before separating the nested heldout data for lambda and param selection. \n",
    "# always using true.\n",
    "shuffle=True \n",
    "sample_batch_size=100\n",
    "best_losses, best_lambdas, best_params = fwrf_fit.fit_fwrf_model(trn_stim_data, trn_voxel_data, _feature_extractor, models, \\\n",
    "                                               lambdas, zscore=zscore_features, add_bias=add_bias, \\\n",
    "                                               voxel_batch_size=voxel_batch_size, holdout_size=holdout_size, \\\n",
    "                                               shuffle=shuffle, shuff_rnd_seed=shuff_rnd_seed, device=device, \\\n",
    "                                               dtype=fpX, debug=debug)\n"
   ]
  },
  {
   "cell_type": "code",
   "execution_count": 13,
   "id": "a80cbde2",
   "metadata": {},
   "outputs": [
    {
     "data": {
      "text/plain": [
       "True"
      ]
     },
     "execution_count": 13,
     "metadata": {},
     "output_type": "execute_result"
    }
   ],
   "source": [
    "zscore_features"
   ]
  },
  {
   "cell_type": "code",
   "execution_count": 7,
   "id": "e287e046",
   "metadata": {},
   "outputs": [
    {
     "data": {
      "text/plain": [
       "array([[139.42769 ],\n",
       "       [153.0108  ],\n",
       "       [113.51092 ],\n",
       "       ...,\n",
       "       [128.69508 ],\n",
       "       [114.174614],\n",
       "       [103.69032 ]], dtype=float32)"
      ]
     },
     "execution_count": 7,
     "metadata": {},
     "output_type": "execute_result"
    }
   ],
   "source": [
    "best_losses"
   ]
  },
  {
   "cell_type": "code",
   "execution_count": 11,
   "id": "0830915a",
   "metadata": {},
   "outputs": [
    {
     "data": {
      "text/plain": [
       "array([[[-5.9103139e-11],\n",
       "        [ 9.1786148e-11],\n",
       "        [-4.4165206e-11],\n",
       "        ...,\n",
       "        [-7.2541209e-11],\n",
       "        [-8.0176137e-11],\n",
       "        [ 1.3179347e-09]],\n",
       "\n",
       "       [[-1.0445406e-07],\n",
       "        [ 2.1558332e-08],\n",
       "        [-8.1119353e-08],\n",
       "        ...,\n",
       "        [-1.1369220e-07],\n",
       "        [-1.0098479e-07],\n",
       "        [ 9.6808626e-06]],\n",
       "\n",
       "       [[ 2.6421698e-11],\n",
       "        [ 9.7884999e-12],\n",
       "        [ 4.3789229e-11],\n",
       "        ...,\n",
       "        [ 4.3280674e-12],\n",
       "        [ 4.8803218e-11],\n",
       "        [-7.7500140e-09]],\n",
       "\n",
       "       ...,\n",
       "\n",
       "       [[-4.3056489e-11],\n",
       "        [-9.8471530e-11],\n",
       "        [-2.9640321e-11],\n",
       "        ...,\n",
       "        [-6.0766954e-11],\n",
       "        [-4.7329831e-11],\n",
       "        [ 1.1012556e-08]],\n",
       "\n",
       "       [[ 7.0764475e-12],\n",
       "        [ 7.0934821e-11],\n",
       "        [ 7.0353185e-12],\n",
       "        ...,\n",
       "        [-3.5245234e-11],\n",
       "        [ 1.3029000e-11],\n",
       "        [-7.3201183e-09]],\n",
       "\n",
       "       [[ 1.6755065e-06],\n",
       "        [-8.1694616e-06],\n",
       "        [-1.4743752e-06],\n",
       "        ...,\n",
       "        [ 4.5739307e-06],\n",
       "        [-2.7872034e-07],\n",
       "        [ 8.6360722e-04]]], dtype=float32)"
      ]
     },
     "execution_count": 11,
     "metadata": {},
     "output_type": "execute_result"
    }
   ],
   "source": [
    "best_params[1]"
   ]
  }
 ],
 "metadata": {
  "kernelspec": {
   "display_name": "Python 3",
   "language": "python",
   "name": "python3"
  },
  "language_info": {
   "codemirror_mode": {
    "name": "ipython",
    "version": 3
   },
   "file_extension": ".py",
   "mimetype": "text/x-python",
   "name": "python",
   "nbconvert_exporter": "python",
   "pygments_lexer": "ipython3",
   "version": "3.7.1"
  }
 },
 "nbformat": 4,
 "nbformat_minor": 5
}
