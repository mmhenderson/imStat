{
 "cells": [
  {
   "cell_type": "code",
   "execution_count": 1,
   "id": "2f12f919",
   "metadata": {},
   "outputs": [
    {
     "name": "stdout",
     "output_type": "stream",
     "text": [
      "#device: 1\n",
      "device#: 0\n",
      "device name: GeForce GTX TITAN X\n",
      "\n",
      "torch: 1.8.1+cu111\n",
      "cuda:  11.1\n",
      "cudnn: 8005\n",
      "dtype: torch.float32\n"
     ]
    }
   ],
   "source": [
    "# import basic modules\n",
    "import sys\n",
    "import os\n",
    "import time\n",
    "import numpy as np\n",
    "from tqdm import tqdm\n",
    "import gc\n",
    "import torch\n",
    "import argparse\n",
    "import skimage.transform\n",
    "\n",
    "# import custom modules\n",
    "code_dir = '/user_data/mmhender/imStat/code/'\n",
    "# code_dir = '/Users/margarethenderson/Box Sync/imStat/code/'\n",
    "sys.path.append(code_dir)\n",
    "from feature_extraction import texture_statistics_gabor, sketch_token_features\n",
    "from feature_extraction import texture_statistics_pyramid2 as texture_statistics_pyramid\n",
    "from utils import nsd_utils, roi_utils, default_paths\n",
    "\n",
    "from model_fitting import initialize_fitting, arg_parser, merge_features, fwrf_fit, fwrf_predict\n",
    "\n",
    "fpX = np.float32\n",
    "# device = 'cpu:0'\n",
    "device = initialize_fitting.init_cuda()"
   ]
  },
  {
   "cell_type": "code",
   "execution_count": 17,
   "id": "97adcdfa",
   "metadata": {},
   "outputs": [],
   "source": [
    "thing = torch.load('/user_data/mmhender/imStat/model_fits/S01/texture_pyramid_ridge_4ori_4sf_plus_sketch_tokens_stacked/Sep-28-2021_1821_00_DEBUG/all_fit_params')\n",
    "\n"
   ]
  },
  {
   "cell_type": "code",
   "execution_count": 18,
   "id": "e5638a5f",
   "metadata": {},
   "outputs": [
    {
     "data": {
      "text/plain": [
       "array([-0.11677142, -0.10574128, -0.00305698, ..., -0.01937585,\n",
       "       -0.00568796, -0.01261542])"
      ]
     },
     "execution_count": 18,
     "metadata": {},
     "output_type": "execute_result"
    }
   ],
   "source": [
    "thing['stack_result'][1]"
   ]
  },
  {
   "cell_type": "code",
   "execution_count": 2,
   "id": "b9fc365f",
   "metadata": {},
   "outputs": [],
   "source": [
    "# Testing fitting code\n",
    "fitting_type='pyramid_texture_plus_sketch_tokens'\n",
    "do_avg_pool=True\n",
    "subject=1\n",
    "volume_space = True\n",
    "up_to_sess = 1\n",
    "n_ori = 4\n",
    "n_sf = 4\n",
    "nonlin_fn = False\n",
    "padding_mode = 'circular';\n",
    "group_all_hl_feats = True; \\\n",
    "sample_batch_size = 50; voxel_batch_size = 100; \\\n",
    "zscore_features = True; ridge = True; \\\n",
    "shuffle_images = False; random_images = False; random_voxel_data = False; \\\n",
    "do_fitting = True; do_val = True; do_varpart = True; do_stack=True; date_str = None;\n",
    "shuff_rnd_seed = 0; debug = True; \\\n",
    "do_pca_pyr_hl=False; do_pca_st=False; do_pca_st=False;  \n",
    "min_pct_var = 99; max_pc_to_retain = 400; map_ind = -1; \\\n",
    "n_prf_sd_out = 2; mult_patch_by_prf = True; \\\n",
    "downsample_factor = 1.0; do_nms = False"
   ]
  },
  {
   "cell_type": "code",
   "execution_count": 3,
   "id": "dedc87d3",
   "metadata": {},
   "outputs": [
    {
     "name": "stdout",
     "output_type": "stream",
     "text": [
      "Time Stamp: Sep-28-2021_1811_11\n",
      "\n",
      "Will save final output file to /user_data/mmhender/imStat/model_fits/S01/texture_pyramid_ridge_4ori_4sf_plus_sketch_tokens_stacked/Sep-28-2021_1811_11_DEBUG/\n",
      "\n",
      "\n",
      "Volume space: ROI defs are located at: /lab_data/tarrlab/common/datasets/NSD/nsddata/ppdata/subj01/func1pt8mm/roi\n",
      "\n",
      "3794 voxels of overlap between kastner and prf definitions, using prf defs\n",
      "unique values in retino labels:\n",
      "[-1.  0.  1.  2.  3.  4.  5.  6.  7.  8.  9. 10. 11. 12. 13. 14. 15. 16.\n",
      " 17. 18. 19. 20. 21. 22. 23. 24. 25.]\n",
      "0 voxels of overlap between face and place definitions, using place defs\n",
      "unique values in categ labels:\n",
      "[-1.  0. 26. 27. 28. 30. 31. 32. 33.]\n",
      "1535 voxels are defined (differently) in both retinotopic areas and category areas\n",
      "\n",
      "14913 voxels are defined across all areas, and will be used for analysis\n",
      "\n",
      "Loading numerical label/name mappings for all ROIs:\n",
      "[1, 2, 3, 4, 5, 6, 7]\n",
      "['V1v', 'V1d', 'V2v', 'V2d', 'V3v', 'V3d', 'hV4']\n",
      "[1, 2, 3, 4, 5, 6, 7, 8, 9, 10, 11, 12, 13, 14, 15, 16, 17, 18, 19, 20, 21, 22, 23, 24, 25]\n",
      "['V1v', 'V1d', 'V2v', 'V2d', 'V3v', 'V3d', 'hV4', 'VO1', 'VO2', 'PHC1', 'PHC2', 'TO2', 'TO1', 'LO2', 'LO1', 'V3B', 'V3A', 'IPS0', 'IPS1', 'IPS2', 'IPS3', 'IPS4', 'IPS5', 'SPL1', 'FEF']\n",
      "[1, 2, 3, 4, 5]\n",
      "['OFA', 'FFA-1', 'FFA-2', 'mTL-faces', 'aTL-faces']\n",
      "[1, 2, 3]\n",
      "['OPA', 'PPA', 'RSC']\n",
      "\n",
      "Sizes of all defined ROIs in this subject:\n",
      "Region V1 has 2392 voxels. Includes subregions:\n",
      "['V1v', 'V1d']\n",
      "Region V2 has 2096 voxels. Includes subregions:\n",
      "['V2v', 'V2d']\n",
      "Region V3 has 1674 voxels. Includes subregions:\n",
      "['V3v', 'V3d']\n",
      "Region hV4 has 721 voxels. Includes subregions:\n",
      "['hV4']\n",
      "Region VO1-2 has 482 voxels. Includes subregions:\n",
      "['VO1', 'VO2']\n",
      "Region PHC1-2 has 382 voxels. Includes subregions:\n",
      "['PHC1', 'PHC2']\n",
      "Region LO1-2 has 488 voxels. Includes subregions:\n",
      "['LO2', 'LO1']\n",
      "Region TO1-2 has 339 voxels. Includes subregions:\n",
      "['TO2', 'TO1']\n",
      "Region V3ab has 965 voxels. Includes subregions:\n",
      "['V3B', 'V3A']\n",
      "Region IPS0-5 has 2155 voxels. Includes subregions:\n",
      "['IPS0', 'IPS1', 'IPS2', 'IPS3', 'IPS4', 'IPS5']\n",
      "Region SPL1 has 164 voxels. Includes subregions:\n",
      "['SPL1']\n",
      "Region FEF has 72 voxels. Includes subregions:\n",
      "['FEF']\n",
      "\n",
      "\n",
      "Region OFA has 355 voxels.\n",
      "Region FFA-1 has 484 voxels.\n",
      "Region FFA-2 has 310 voxels.\n",
      "Region mTL-faces has 0 voxels.\n",
      "Region aTL-faces has 159 voxels.\n",
      "Region OPA has 1611 voxels.\n",
      "Region PPA has 1033 voxels.\n",
      "Region RSC has 566 voxels.\n",
      "\n",
      "Loading images for subject 1\n",
      "\n",
      "image data size: (10000, 3, 240, 240) , dtype: uint8 , value range: 0 255\n",
      "Loading data for sessions:\n",
      "[1]\n",
      "Data is located in: /lab_data/tarrlab/common/datasets/NSD/nsddata_betas/ppdata/subj01/func1pt8mm/betas_fithrf_GLMdenoise_RR...\n",
      "Loading from /lab_data/tarrlab/common/datasets/NSD/nsddata_betas/ppdata/subj01/func1pt8mm/betas_fithrf_GLMdenoise_RR/betas_session01.nii.gz...\n",
      "Raw data:\n",
      "float64 -32768.0 32767.0 (750, 81, 104, 83)\n",
      "Adjusted data (divided by 300):\n",
      "float32 -109.22667 109.223335 (750, 699192)\n",
      "z-scoring beta weights within this session...\n",
      "mean = 1.237, sigma = 1.391\n",
      "\n",
      "Size of full data set [nTrials x nVoxels] is:\n",
      "(750, 14913)\n",
      "\n",
      "Possible lambda values are:\n",
      "[1.0000000e+00 4.2169652e+00 1.7782795e+01 7.4989418e+01 3.1622775e+02\n",
      " 1.3335215e+03 5.6234131e+03 2.3713736e+04 1.0000000e+05]\n",
      "most extreme RF positions:\n",
      "[-0.55 -0.55  0.04]\n",
      "[0.55       0.55       0.40000001]\n"
     ]
    }
   ],
   "source": [
    "if 'pyramid' in fitting_type:\n",
    "    model_name = initialize_fitting.get_pyramid_model_name(ridge, n_ori, n_sf, do_pca_hl = do_pca_pyr_hl)\n",
    "#         feature_types_exclude = []\n",
    "    feature_types_exclude = ['pixel']\n",
    "    name1 = 'pyramid_texture'\n",
    "\n",
    "elif 'gabor_texture' in fitting_type:        \n",
    "    model_name = initialize_fitting.get_gabor_texture_model_name(ridge, n_ori, n_sf)\n",
    "    feature_types_exclude = []\n",
    "    name1 = 'gabor_texture'\n",
    "\n",
    "elif 'gabor_solo' in fitting_type:        \n",
    "    model_name = initialize_fitting.get_gabor_solo_model_name(ridge, n_ori, n_sf)\n",
    "    feature_types_exclude = ['pixel', 'simple_feature_means', 'autocorrs', 'crosscorrs']\n",
    "    name1 = 'gabor_solo'\n",
    "\n",
    "elif 'bdcn' in fitting_type:\n",
    "    model_name = initialize_fitting.get_bdcn_model_name(do_pca_bdcn, map_ind)   \n",
    "    name1 = 'bdcn'\n",
    "\n",
    "elif 'sketch_tokens' in fitting_type:\n",
    "    model_name = initialize_fitting.get_sketch_tokens_model_name(do_pca_st)   \n",
    "    name1 = 'sketch_tokens'\n",
    "\n",
    "else:\n",
    "    raise ValueError('your string for fitting_type was not recognized')\n",
    "\n",
    "if 'plus_sketch_tokens' in fitting_type:\n",
    "    model_name2 = initialize_fitting.get_sketch_tokens_model_name(do_pca_st)\n",
    "    model_name = model_name + '_plus_' + model_name2\n",
    "elif 'plus_bdcn' in fitting_type:\n",
    "    model_name2 = initialize_fitting.get_bdcn_model_name(do_pca_bdcn, map_ind)\n",
    "    model_name = model_name + '_plus_' + model_name2\n",
    "\n",
    "if do_stack:\n",
    "    model_name += '_stacked'\n",
    "\n",
    "output_dir, fn2save = initialize_fitting.get_save_path(subject, volume_space, model_name, shuffle_images, random_images, random_voxel_data, debug, date_str)\n",
    "\n",
    "# decide what voxels to use  \n",
    "voxel_mask, voxel_index, voxel_roi, voxel_ncsnr, brain_nii_shape = roi_utils.get_voxel_roi_info(subject, volume_space)\n",
    "\n",
    "sessions = np.arange(0,up_to_sess)\n",
    "zscore_betas_within_sess = True\n",
    "# get all data and corresponding images, in two splits. always fixed set that gets left out\n",
    "trn_stim_data, trn_voxel_data, val_stim_data, val_voxel_data, \\\n",
    "        image_order, image_order_trn, image_order_val = nsd_utils.get_data_splits(subject, sessions=sessions, \\\n",
    "                                                             voxel_mask=voxel_mask, volume_space=volume_space, \\\n",
    "                                                              zscore_betas_within_sess=zscore_betas_within_sess, \\\n",
    "                                                              shuffle_images=shuffle_images, random_images=random_images, \\\n",
    "                                                                                         random_voxel_data=random_voxel_data)\n",
    "\n",
    "\n",
    "if 'gabor' in fitting_type or 'sketch_tokens' in fitting_type or 'pyramid' in fitting_type:\n",
    "    # For this model, the features are pre-computed, so we will just load them rather than passing in images.\n",
    "    # Going to pass the image indices (into 10,000 dim array) instead of images to fitting and val functions, \n",
    "    # which will tell which features to load.\n",
    "    trn_stim_data = image_order_trn\n",
    "    val_stim_data = image_order_val\n",
    "\n",
    "# More params for fitting\n",
    "holdout_size, lambdas = initialize_fitting.get_fitting_pars(trn_voxel_data, zscore_features, ridge=ridge)\n",
    "# Params for the spatial aspect of the model (possible pRFs)\n",
    "aperture_rf_range = 1.1\n",
    "aperture, models = initialize_fitting.get_prf_models(aperture_rf_range=aperture_rf_range)    \n"
   ]
  },
  {
   "cell_type": "code",
   "execution_count": 4,
   "id": "7bc88ec2",
   "metadata": {},
   "outputs": [],
   "source": [
    "trn_stim_data = trn_stim_data[0:100]\n",
    "val_stim_data = val_stim_data[0:50]\n",
    "\n",
    "trn_voxel_data = trn_voxel_data[0:100,0:60]\n",
    "val_voxel_data = val_voxel_data[0:50,0:60]\n",
    "\n",
    "holdout_size=20"
   ]
  },
  {
   "cell_type": "code",
   "execution_count": 5,
   "id": "15e69e62",
   "metadata": {},
   "outputs": [
    {
     "name": "stdout",
     "output_type": "stream",
     "text": [
      "Feature types to exclude from the model:\n",
      "['pixel', 'pixel_stats']\n",
      "[ True  True  True  True False False False False False False False False\n",
      " False]\n",
      "Grouping lower level features:\n",
      "['mean_magnitudes' 'mean_realparts' 'marginal_stats_lowpass_recons'\n",
      " 'variance_highpass_resid']\n",
      "Grouping higher level features:\n",
      "['magnitude_feature_autocorrs' 'lowpass_recon_autocorrs'\n",
      " 'highpass_resid_autocorrs' 'magnitude_within_scale_crosscorrs'\n",
      " 'real_within_scale_crosscorrs' 'magnitude_across_scale_crosscorrs'\n",
      " 'real_imag_across_scale_crosscorrs'\n",
      " 'real_spatshift_within_scale_crosscorrs'\n",
      " 'real_spatshift_across_scale_crosscorrs']\n"
     ]
    }
   ],
   "source": [
    "# Set up the pyramid\n",
    "compute_features = False\n",
    "_fmaps_fn = texture_statistics_pyramid.steerable_pyramid_extractor(pyr_height = n_sf, n_ori = n_ori)\n",
    "# Initialize the \"texture\" model which builds on first level feature maps\n",
    "_feature_extractor = texture_statistics_pyramid.texture_feature_extractor(_fmaps_fn,sample_batch_size=sample_batch_size, \\\n",
    "                              subject=subject, feature_types_exclude=feature_types_exclude, n_prf_sd_out=n_prf_sd_out,\\\n",
    "                              aperture=aperture, do_varpart = do_varpart, \\\n",
    "                              group_all_hl_feats = group_all_hl_feats, compute_features = compute_features, \\\n",
    "                              do_pca_hl = do_pca_pyr_hl, min_pct_var = min_pct_var, max_pc_to_retain = max_pc_to_retain, \\\n",
    "                                                                          device=device)\n",
    "feature_info = [_feature_extractor.feature_column_labels, _feature_extractor.feature_types_include]\n",
    "\n",
    "\n",
    "map_resolution = 227\n",
    "_feature_extractor2 = sketch_token_features.sketch_token_feature_extractor(subject, device, map_resolution=map_resolution, \\\n",
    "                                                                           aperture = aperture, \\\n",
    "                                                     n_prf_sd_out = n_prf_sd_out, \\\n",
    "                               batch_size=sample_batch_size, mult_patch_by_prf=mult_patch_by_prf, do_avg_pool = do_avg_pool,\\\n",
    "                                           do_pca = do_pca_st, min_pct_var = min_pct_var, max_pc_to_retain = max_pc_to_retain)\n",
    "_feature_extractor = merge_features.combined_feature_extractor([_feature_extractor, _feature_extractor2], \\\n",
    "                                                                   [name1,'sketch_tokens'], do_varpart = do_varpart)\n",
    "\n"
   ]
  },
  {
   "cell_type": "code",
   "execution_count": 8,
   "id": "4109f611",
   "metadata": {},
   "outputs": [
    {
     "name": "stdout",
     "output_type": "stream",
     "text": [
      "dtype = <class 'numpy.float32'>\n",
      "device = cuda:0\n",
      "trn_size = 80 (80.0%)\n",
      "Computing a new random seed\n",
      "Seeding random number generator: seed is 121828\n",
      "(20, 60)\n",
      "[ 0.80709505 -1.15641749  0.0264453  -0.39558113 -0.54220062  0.30317307\n",
      "  0.93786377 -0.18291682]\n",
      "Initializing for fitting\n",
      "Clearing precomputed features from memory.\n",
      "Initializing for fitting\n",
      "Clearing features from memory\n",
      "---------------------------------------\n",
      "\n",
      "\n",
      "Getting features for prf 0: [x,y,sigma] is [-0.55 -0.55 0.0400]\n",
      "Loading pre-computed features for models [0 - 49] from /user_data/mmhender/features/pyramid_texture/S1_features_each_prf_4ori_4sf_ORIG.h5py\n",
      "Took 72.31873 seconds to load file\n",
      "Index into batch for prf 0: 0\n",
      "Size of features array for this image set and prf is:\n",
      "(100, 641)\n",
      "Final size of features concatenated is [100 x 635]\n",
      "Feature types included are:\n",
      "['mean_magnitudes', 'mean_realparts', 'marginal_stats_lowpass_recons', 'variance_highpass_resid', 'magnitude_feature_autocorrs', 'lowpass_recon_autocorrs', 'highpass_resid_autocorrs', 'magnitude_within_scale_crosscorrs', 'real_within_scale_crosscorrs', 'magnitude_across_scale_crosscorrs', 'real_imag_across_scale_crosscorrs', 'real_spatshift_within_scale_crosscorrs', 'real_spatshift_across_scale_crosscorrs']\n",
      "Final size of features concatenated is [100 x 635]\n",
      "Final size of features concatenated is [100 x 635]\n",
      "Loading pre-computed features from /user_data/mmhender/features/sketch_tokens/S1_features_each_prf.h5py\n",
      "Took 16.81662 seconds to load file\n",
      "Size of features array for this image set is:\n",
      "(100, 151, 875)\n",
      "Final size of feature matrix is:\n",
      "(100, 151)\n",
      "\n",
      "Fitting version 0 of 7: full_combined_model, \n",
      "fitting model    0 of 875 , voxels [     0:59    ] of 60\n",
      "Fitting version 1 of 7: just_pyramid_texture, \n",
      "fitting model    0 of 875 , voxels [     0:59    ] of 60\n",
      "Fitting version 2 of 7: pyramid_texture_just_lower-level_no_other_modules, \n",
      "fitting model    0 of 875 , voxels [     0:59    ] of 60\n",
      "Fitting version 3 of 7: pyramid_texture_just_higher-level_no_other_modules, \n",
      "fitting model    0 of 875 , voxels [     0:59    ] of 60\n",
      "Fitting version 4 of 7: pyramid_texture_just_lower-level_plus_other_modules, \n",
      "fitting model    0 of 875 , voxels [     0:59    ] of 60\n",
      "Fitting version 5 of 7: pyramid_texture_just_higher-level_plus_other_modules, \n",
      "fitting model    0 of 875 , voxels [     0:59    ] of 60\n",
      "Fitting version 6 of 7: just_sketch_tokens, \n",
      "fitting model    0 of 875 , voxels [     0:59    ] of 60\n",
      "Getting features for prf 1: [x,y,sigma] is [-0.49 -0.55 0.0400]\n",
      "Index into batch for prf 1: 1\n",
      "Size of features array for this image set and prf is:\n",
      "(100, 641)\n",
      "Final size of features concatenated is [100 x 635]\n",
      "Feature types included are:\n",
      "['mean_magnitudes', 'mean_realparts', 'marginal_stats_lowpass_recons', 'variance_highpass_resid', 'magnitude_feature_autocorrs', 'lowpass_recon_autocorrs', 'highpass_resid_autocorrs', 'magnitude_within_scale_crosscorrs', 'real_within_scale_crosscorrs', 'magnitude_across_scale_crosscorrs', 'real_imag_across_scale_crosscorrs', 'real_spatshift_within_scale_crosscorrs', 'real_spatshift_across_scale_crosscorrs']\n",
      "Final size of features concatenated is [100 x 635]\n",
      "Final size of features concatenated is [100 x 635]\n",
      "Final size of feature matrix is:\n",
      "(100, 151)\n",
      "\n",
      "Fitting version 0 of 7: full_combined_model, \n",
      "fitting model    1 of 875 , voxels [     0:59    ] of 60\n",
      "Fitting version 1 of 7: just_pyramid_texture, \n",
      "fitting model    1 of 875 , voxels [     0:59    ] of 60\n",
      "Fitting version 2 of 7: pyramid_texture_just_lower-level_no_other_modules, \n",
      "fitting model    1 of 875 , voxels [     0:59    ] of 60\n",
      "Fitting version 3 of 7: pyramid_texture_just_higher-level_no_other_modules, \n",
      "fitting model    1 of 875 , voxels [     0:59    ] of 60\n",
      "Fitting version 4 of 7: pyramid_texture_just_lower-level_plus_other_modules, \n",
      "fitting model    1 of 875 , voxels [     0:59    ] of 60\n",
      "Fitting version 5 of 7: pyramid_texture_just_higher-level_plus_other_modules, \n",
      "fitting model    1 of 875 , voxels [     0:59    ] of 60\n",
      "Fitting version 6 of 7: just_sketch_tokens, \n",
      "fitting model    1 of 875 , voxels [     0:59    ] of 60\n",
      "---------------------------------------\n",
      "total time = 95.306068s\n",
      "total throughput = 1.588434s/voxel\n",
      "voxel throughput = 0.007255s/voxel\n",
      "setup throughput = 0.108424s/model\n",
      "Clearing precomputed features from memory.\n",
      "Clearing features from memory\n"
     ]
    }
   ],
   "source": [
    " # add an intercept\n",
    "add_bias=True\n",
    "# determines whether to shuffle before separating the nested heldout data for lambda and param selection. \n",
    "# always using true.\n",
    "shuffle=True \n",
    "best_losses, best_lambdas, best_params, best_train_holdout_preds, holdout_trial_order = fit_fwrf_model(trn_stim_data, trn_voxel_data, \\\n",
    "                                               _feature_extractor, models, \\\n",
    "                                               lambdas, zscore=zscore_features, add_bias=add_bias, \\\n",
    "                                               voxel_batch_size=voxel_batch_size, holdout_size=holdout_size, \\\n",
    "                                               shuffle=shuffle, shuff_rnd_seed=shuff_rnd_seed, device=device, \\\n",
    "                                               dtype=fpX, debug=debug)\n",
    "trn_holdout_voxel_data_pred = best_train_holdout_preds\n",
    "        "
   ]
  },
  {
   "cell_type": "code",
   "execution_count": 9,
   "id": "d8321847",
   "metadata": {},
   "outputs": [
    {
     "name": "stdout",
     "output_type": "stream",
     "text": [
      "Clearing precomputed features from memory.\n",
      "Clearing features from memory\n",
      "Getting features for prf 0: [x,y,sigma] is [-0.55 -0.55 0.0400]\n",
      "Loading pre-computed features for models [0 - 49] from /user_data/mmhender/features/pyramid_texture/S1_features_each_prf_4ori_4sf_ORIG.h5py\n",
      "Took 74.99301 seconds to load file\n",
      "Index into batch for prf 0: 0\n",
      "Size of features array for this image set and prf is:\n",
      "(50, 641)\n",
      "Final size of features concatenated is [50 x 635]\n",
      "Feature types included are:\n",
      "['mean_magnitudes', 'mean_realparts', 'marginal_stats_lowpass_recons', 'variance_highpass_resid', 'magnitude_feature_autocorrs', 'lowpass_recon_autocorrs', 'highpass_resid_autocorrs', 'magnitude_within_scale_crosscorrs', 'real_within_scale_crosscorrs', 'magnitude_across_scale_crosscorrs', 'real_imag_across_scale_crosscorrs', 'real_spatshift_within_scale_crosscorrs', 'real_spatshift_across_scale_crosscorrs']\n",
      "Final size of features concatenated is [50 x 635]\n",
      "Final size of features concatenated is [50 x 635]\n",
      "Loading pre-computed features from /user_data/mmhender/features/sketch_tokens/S1_features_each_prf.h5py\n",
      "Took 15.89916 seconds to load file\n",
      "Size of features array for this image set is:\n",
      "(50, 151, 875)\n",
      "Final size of feature matrix is:\n",
      "(50, 151)\n",
      "Getting features for prf 1: [x,y,sigma] is [-0.49 -0.55 0.0400]\n",
      "Index into batch for prf 1: 1\n",
      "Size of features array for this image set and prf is:\n",
      "(50, 641)\n",
      "Final size of features concatenated is [50 x 635]\n",
      "Feature types included are:\n",
      "['mean_magnitudes', 'mean_realparts', 'marginal_stats_lowpass_recons', 'variance_highpass_resid', 'magnitude_feature_autocorrs', 'lowpass_recon_autocorrs', 'highpass_resid_autocorrs', 'magnitude_within_scale_crosscorrs', 'real_within_scale_crosscorrs', 'magnitude_across_scale_crosscorrs', 'real_imag_across_scale_crosscorrs', 'real_spatshift_within_scale_crosscorrs', 'real_spatshift_across_scale_crosscorrs']\n",
      "Final size of features concatenated is [50 x 635]\n",
      "Final size of features concatenated is [50 x 635]\n",
      "Final size of feature matrix is:\n",
      "(50, 151)\n",
      "Clearing precomputed features from memory.\n",
      "Clearing features from memory\n",
      "Getting predictions for voxels [0-59] of 60\n",
      "\n",
      "Evaluating version 0 of 7: full_combined_model\n",
      "Includes 786 features\n",
      "number of zeros:\n",
      "0\n",
      "size of weights is:\n",
      "torch.Size([60, 786])\n",
      "\n",
      "Evaluating version 1 of 7: just_pyramid_texture\n",
      "Includes 635 features\n",
      "number of zeros:\n",
      "0\n",
      "size of weights is:\n",
      "torch.Size([60, 635])\n",
      "\n",
      "Evaluating version 2 of 7: pyramid_texture_just_lower-level_no_other_modules\n",
      "Includes 43 features\n",
      "number of zeros:\n",
      "0\n",
      "size of weights is:\n",
      "torch.Size([60, 43])\n",
      "\n",
      "Evaluating version 3 of 7: pyramid_texture_just_higher-level_no_other_modules\n",
      "Includes 592 features\n",
      "number of zeros:\n",
      "0\n",
      "size of weights is:\n",
      "torch.Size([60, 592])\n",
      "\n",
      "Evaluating version 4 of 7: pyramid_texture_just_lower-level_plus_other_modules\n",
      "Includes 194 features\n",
      "number of zeros:\n",
      "0\n",
      "size of weights is:\n",
      "torch.Size([60, 194])\n",
      "\n",
      "Evaluating version 5 of 7: pyramid_texture_just_higher-level_plus_other_modules\n",
      "Includes 743 features\n",
      "number of zeros:\n",
      "0\n",
      "size of weights is:\n",
      "torch.Size([60, 743])\n",
      "\n",
      "Evaluating version 6 of 7: just_sketch_tokens\n",
      "Includes 151 features\n",
      "number of zeros:\n",
      "0\n",
      "size of weights is:\n",
      "torch.Size([60, 151])\n"
     ]
    }
   ],
   "source": [
    "val_cc, val_r2, val_voxel_data_pred  = validate_fwrf_model(best_params, models, val_voxel_data, \\\n",
    "                                                                                val_stim_data, _feature_extractor, \\\n",
    "                                   sample_batch_size=sample_batch_size, voxel_batch_size=voxel_batch_size, debug=debug, dtype=fpX)\n",
    "                                     "
   ]
  },
  {
   "cell_type": "code",
   "execution_count": 11,
   "id": "6a8bdef0",
   "metadata": {},
   "outputs": [
    {
     "name": "stdout",
     "output_type": "stream",
     "text": [
      "[ 0.80709505 -1.15641749  0.0264453  -0.39558113 -0.54220062  0.30317307\n",
      "  0.93786377 -0.18291682]\n",
      "Subsets of features that are going into the stacking analysis:\n",
      "['pyramid_texture_just_lower-level_no_other_modules', 'pyramid_texture_just_higher-level_no_other_modules', 'just_sketch_tokens']\n",
      "Running stacking, feat_use is:\n",
      "[0 1 2]\n",
      "Solving for stacking weights for voxel 0 of 60\n",
      "Stacking weights matrix is size:\n",
      "(60, 3)\n",
      "Solving for stacking weights for voxel 1 of 60\n",
      "Computing performance of stacked models\n",
      "Running stacking, feat_use is:\n",
      "[1, 2]\n",
      "Solving for stacking weights for voxel 0 of 60\n",
      "Stacking weights matrix is size:\n",
      "(60, 2)\n",
      "Solving for stacking weights for voxel 1 of 60\n",
      "Computing performance of stacked models\n",
      "Running stacking, feat_use is:\n",
      "[0, 2]\n",
      "Solving for stacking weights for voxel 0 of 60\n",
      "Stacking weights matrix is size:\n",
      "(60, 2)\n",
      "Solving for stacking weights for voxel 1 of 60\n",
      "Computing performance of stacked models\n",
      "Running stacking, feat_use is:\n",
      "[0, 1]\n",
      "Solving for stacking weights for voxel 0 of 60\n",
      "Stacking weights matrix is size:\n",
      "(60, 2)\n",
      "Solving for stacking weights for voxel 1 of 60\n",
      "Computing performance of stacked models\n"
     ]
    },
    {
     "name": "stderr",
     "output_type": "stream",
     "text": [
      "/home/mmhender/myenv/lib/python3.7/site-packages/numpy/lib/function_base.py:2691: RuntimeWarning: invalid value encountered in true_divide\n",
      "  c /= stddev[:, None]\n",
      "/home/mmhender/myenv/lib/python3.7/site-packages/numpy/lib/function_base.py:2692: RuntimeWarning: invalid value encountered in true_divide\n",
      "  c /= stddev[None, :]\n"
     ]
    }
   ],
   "source": [
    "trn_holdout_voxel_data = trn_voxel_data[holdout_trial_order,:]\n",
    "print(trn_holdout_voxel_data[12:22,50])\n",
    "    \n",
    "stack_result, stack_result_lo, partial_models_used_for_stack, train_r2, train_cc  = \\\n",
    "    run_stacking(_feature_extractor, trn_holdout_voxel_data, val_voxel_data, \\\n",
    "                              trn_holdout_voxel_data_pred, val_voxel_data_pred, debug=debug)\n"
   ]
  },
  {
   "cell_type": "code",
   "execution_count": 16,
   "id": "b1e824a6",
   "metadata": {},
   "outputs": [
    {
     "data": {
      "text/plain": [
       "array([-5.26315917e-02, -4.62908050e-02, -2.62408837e-03, -6.07615317e-02,\n",
       "       -1.01287647e-02, -9.17175043e-02, -9.39392650e-02, -7.95202105e-02,\n",
       "       -1.12732850e-02, -2.07749869e-03, -1.14126367e-02, -2.50766370e-02,\n",
       "       -1.02011610e-01, -1.60518818e-02, -1.52835831e-02, -1.77044515e-02,\n",
       "       -2.83743689e-03, -4.00177756e-04, -7.46232942e-03, -1.75062070e-03,\n",
       "       -3.36067794e-03, -7.81333173e-02, -5.38365109e-02, -3.96638584e-02,\n",
       "       -2.32216005e-03, -4.95832293e-02, -4.43139936e-02, -1.54228590e-02,\n",
       "       -4.34484407e-02, -1.24379220e-02, -3.22776357e-03, -4.97895328e-02,\n",
       "       -7.15954113e-02, -5.76862499e-02, -1.91732384e-02, -2.80904796e-03,\n",
       "       -4.60958938e-02, -9.79228991e-02, -6.65136244e-02, -2.68351298e-02,\n",
       "       -1.00542142e-02, -1.19577166e-02, -1.40260590e-01, -4.54332790e-02,\n",
       "       -6.10647437e-03, -1.02578080e-02, -1.45051368e-02, -7.08481216e-02,\n",
       "       -6.69709902e-03, -8.22444503e-03, -5.08720573e-03, -2.50734419e-04,\n",
       "       -2.60339017e-02, -1.61424790e-02, -1.63689881e-02, -5.49696886e-02,\n",
       "       -1.25403897e-02, -7.12689927e-05, -2.93263473e-02, -8.28971432e-02])"
      ]
     },
     "execution_count": 16,
     "metadata": {},
     "output_type": "execute_result"
    }
   ],
   "source": [
    "stack_result[3][0:100]"
   ]
  },
  {
   "cell_type": "code",
   "execution_count": 17,
   "id": "91033ee2",
   "metadata": {},
   "outputs": [
    {
     "name": "stdout",
     "output_type": "stream",
     "text": [
      "Subsets of features that are going into the stacking analysis:\n",
      "['pyramid_texture_just_lower-level_no_other_modules', 'pyramid_texture_just_higher-level_no_other_modules', 'just_sketch_tokens']\n"
     ]
    }
   ],
   "source": [
    "n_voxels = trn_voxel_data.shape[1]\n",
    "\n",
    "# To get the \"features\" to use for stacking - i'm using the \"partial models\" that are defined \n",
    "# by the feature extractor. The first one is the full model, so we don't want to use that - just want \n",
    "# the ones that include just a subset of the full feature space.\n",
    "partial_masks, partial_version_names = _feature_extractor.get_partial_versions()\n",
    "partial_models_use = []\n",
    "hasattr(_feature_extractor, 'module_names')\n",
    "for mm in range(len(_feature_extractor.module_names)):\n",
    "    this_module = np.where([(_feature_extractor.module_names[mm] in pp) for pp in partial_version_names])[0]\n",
    "    if len(this_module)>1:\n",
    "        # this means there are 'subsets' of features within this module that we will want to consider separately.\n",
    "        # so finding just the ones that we want here.\n",
    "        partial_models_use += list(np.where([(_feature_extractor.module_names[mm] in pp and '_just' in pp and '_no_other_modules' in pp) \\\n",
    "                     for pp in partial_version_names])[0])\n",
    "    else:\n",
    "        partial_models_use += list(this_module)\n",
    "print('Subsets of features that are going into the stacking analysis:')\n",
    "print([partial_version_names[pp] for pp in partial_models_use])\n",
    "\n",
    "n_feature_groups = len(partial_models_use)\n",
    "\n",
    "# Creating a list where each element is predictions for one of the partial models - these will be \n",
    "# the 'features' elements input to stacking code.\n",
    "preds_train = [trn_voxel_data_pred[:,:,pp].T for pp in partial_models_use]\n",
    "preds_val = [val_voxel_data_pred[:,:,pp] for pp in partial_models_use]\n",
    "# Compute trial-wise training errors\n",
    "# each element of err is [ntrials x nvoxels]\n",
    "train_err = [trn_voxel_data - trn_voxel_data_pred[:,:,pp].T for pp in partial_models_use]\n",
    "\n",
    "# Also computing the performance of each of the partial versions on training set data.\n",
    "# this is sort of a sanity check that things are working, since the performance of the partial models\n",
    "# should roughly predict what the stacking weights will be.\n",
    "train_r2 = np.array([get_r2(trn_voxel_data, trn_voxel_data_pred[:,:,pp].T) \\\n",
    "                     for pp in range(len(partial_version_names))]).T\n",
    "train_r2 = np.nan_to_num(train_r2)\n",
    "train_cc = np.array([get_corrcoef(trn_voxel_data, trn_voxel_data_pred[:,:,pp].T) \\\n",
    "                     for pp in range(len(partial_version_names))]).T\n",
    "train_cc = np.nan_to_num(train_cc)\n",
    "\n",
    "# First running stacking w all features included\n",
    "feat_use = np.arange(0,n_feature_groups)\n",
    "# Stack result will be a tuple including the stacking weights, performance.\n",
    "# stack_result = stacked_core(feat_use, train_err, train_data=trn_voxel_data,\\\n",
    "#                  val_data = val_voxel_data, preds_train = preds_train, preds_val = preds_val,\\\n",
    "#                  debug=debug);"
   ]
  },
  {
   "cell_type": "code",
   "execution_count": 109,
   "id": "4c5591e0",
   "metadata": {},
   "outputs": [
    {
     "ename": "IndexError",
     "evalue": "list index out of range",
     "output_type": "error",
     "traceback": [
      "\u001b[0;31m---------------------------------------------------------------------------\u001b[0m",
      "\u001b[0;31mIndexError\u001b[0m                                Traceback (most recent call last)",
      "\u001b[0;32m<ipython-input-109-32d2833c8d8e>\u001b[0m in \u001b[0;36m<module>\u001b[0;34m\u001b[0m\n\u001b[0;32m----> 1\u001b[0;31m \u001b[0;34m[\u001b[0m\u001b[0mnp\u001b[0m\u001b[0;34m.\u001b[0m\u001b[0many\u001b[0m\u001b[0;34m(\u001b[0m\u001b[0mpreds_val\u001b[0m\u001b[0;34m[\u001b[0m\u001b[0mpp\u001b[0m\u001b[0;34m]\u001b[0m\u001b[0;34m[\u001b[0m\u001b[0;34m:\u001b[0m\u001b[0;34m,\u001b[0m\u001b[0;36m0\u001b[0m\u001b[0;34m:\u001b[0m\u001b[0;36m200\u001b[0m\u001b[0;34m]\u001b[0m\u001b[0;34m==\u001b[0m\u001b[0;36m0\u001b[0m\u001b[0;34m)\u001b[0m \u001b[0;32mfor\u001b[0m \u001b[0mpp\u001b[0m \u001b[0;32min\u001b[0m \u001b[0mrange\u001b[0m\u001b[0;34m(\u001b[0m\u001b[0;36m7\u001b[0m\u001b[0;34m)\u001b[0m\u001b[0;34m]\u001b[0m\u001b[0;34m\u001b[0m\u001b[0;34m\u001b[0m\u001b[0m\n\u001b[0m",
      "\u001b[0;32m<ipython-input-109-32d2833c8d8e>\u001b[0m in \u001b[0;36m<listcomp>\u001b[0;34m(.0)\u001b[0m\n\u001b[0;32m----> 1\u001b[0;31m \u001b[0;34m[\u001b[0m\u001b[0mnp\u001b[0m\u001b[0;34m.\u001b[0m\u001b[0many\u001b[0m\u001b[0;34m(\u001b[0m\u001b[0mpreds_val\u001b[0m\u001b[0;34m[\u001b[0m\u001b[0mpp\u001b[0m\u001b[0;34m]\u001b[0m\u001b[0;34m[\u001b[0m\u001b[0;34m:\u001b[0m\u001b[0;34m,\u001b[0m\u001b[0;36m0\u001b[0m\u001b[0;34m:\u001b[0m\u001b[0;36m200\u001b[0m\u001b[0;34m]\u001b[0m\u001b[0;34m==\u001b[0m\u001b[0;36m0\u001b[0m\u001b[0;34m)\u001b[0m \u001b[0;32mfor\u001b[0m \u001b[0mpp\u001b[0m \u001b[0;32min\u001b[0m \u001b[0mrange\u001b[0m\u001b[0;34m(\u001b[0m\u001b[0;36m7\u001b[0m\u001b[0;34m)\u001b[0m\u001b[0;34m]\u001b[0m\u001b[0;34m\u001b[0m\u001b[0;34m\u001b[0m\u001b[0m\n\u001b[0m",
      "\u001b[0;31mIndexError\u001b[0m: list index out of range"
     ]
    }
   ],
   "source": [
    "[np.any(preds_val[pp][:,0:200]==0) for pp in range(7)]"
   ]
  },
  {
   "cell_type": "code",
   "execution_count": 105,
   "id": "73cfc77a",
   "metadata": {},
   "outputs": [
    {
     "data": {
      "text/plain": [
       "[False, False, False, False, False, False, False]"
      ]
     },
     "execution_count": 105,
     "metadata": {},
     "output_type": "execute_result"
    }
   ],
   "source": [
    "[np.any(val_voxel_data_pred[:,0:200,pp]==0) for pp in range(7)]"
   ]
  },
  {
   "cell_type": "code",
   "execution_count": 104,
   "id": "57a89bd8",
   "metadata": {},
   "outputs": [
    {
     "data": {
      "text/plain": [
       "(array([  200,   201,   202, ..., 14910, 14911, 14912]),)"
      ]
     },
     "execution_count": 104,
     "metadata": {},
     "output_type": "execute_result"
    }
   ],
   "source": [
    "np.where(val_voxel_data_pred[0,:,0]==0)"
   ]
  },
  {
   "cell_type": "code",
   "execution_count": 64,
   "id": "b0197691",
   "metadata": {},
   "outputs": [
    {
     "data": {
      "text/plain": [
       "[2, 3, 6]"
      ]
     },
     "execution_count": 64,
     "metadata": {},
     "output_type": "execute_result"
    }
   ],
   "source": [
    "partial_models_use"
   ]
  },
  {
   "cell_type": "code",
   "execution_count": 67,
   "id": "82a7c269",
   "metadata": {},
   "outputs": [
    {
     "data": {
      "text/plain": [
       "1.4491654355078936"
      ]
     },
     "execution_count": 67,
     "metadata": {},
     "output_type": "execute_result"
    }
   ],
   "source": [
    "ti = 400\n",
    "vi = 1000\n",
    "trn_voxel_data[ti,vi] - trn_voxel_data_pred[vi,ti,6]"
   ]
  },
  {
   "cell_type": "code",
   "execution_count": 68,
   "id": "561201e0",
   "metadata": {},
   "outputs": [
    {
     "data": {
      "text/plain": [
       "1.4491654355078936"
      ]
     },
     "execution_count": 68,
     "metadata": {},
     "output_type": "execute_result"
    }
   ],
   "source": [
    "train_err[2][ti,vi]"
   ]
  },
  {
   "cell_type": "code",
   "execution_count": 72,
   "id": "598509b7",
   "metadata": {},
   "outputs": [
    {
     "data": {
      "text/plain": [
       "array([0.98496226, 1.01183355, 0.95645017, 1.01328482, 0.95244019,\n",
       "       0.9404517 , 0.93954749, 0.95748219, 0.96806985, 0.98379155])"
      ]
     },
     "execution_count": 72,
     "metadata": {},
     "output_type": "execute_result"
    }
   ],
   "source": [
    "np.mean(train_err[0] * train_err[1], axis=0)[0:10]"
   ]
  },
  {
   "cell_type": "code",
   "execution_count": 73,
   "id": "97d780c1",
   "metadata": {},
   "outputs": [
    {
     "data": {
      "text/plain": [
       "(688, 14913)"
      ]
     },
     "execution_count": 73,
     "metadata": {},
     "output_type": "execute_result"
    }
   ],
   "source": [
    "train_err[0].shape"
   ]
  },
  {
   "cell_type": "code",
   "execution_count": 70,
   "id": "3e4b7531",
   "metadata": {},
   "outputs": [
    {
     "data": {
      "text/plain": [
       "array([0.98496226, 1.01183355, 0.95645017, 1.01328482, 0.95244019,\n",
       "       0.9404517 , 0.93954749, 0.95748219, 0.96806985, 0.98379155])"
      ]
     },
     "execution_count": 70,
     "metadata": {},
     "output_type": "execute_result"
    }
   ],
   "source": [
    "P[0:10,0,1]"
   ]
  },
  {
   "cell_type": "code",
   "execution_count": 54,
   "id": "adaead4f",
   "metadata": {},
   "outputs": [
    {
     "name": "stdout",
     "output_type": "stream",
     "text": [
      "Running stacking, feat_use is:\n",
      "[0 1 2]\n"
     ]
    }
   ],
   "source": [
    "from __future__ import division\n",
    "import sys\n",
    "import time\n",
    "import numpy as np\n",
    "import copy\n",
    "import torch\n",
    "from cvxopt import matrix, solvers\n",
    "\n",
    "from utils import numpy_utils, torch_utils\n",
    "\n",
    "\n",
    "train_data = trn_voxel_data;\n",
    "val_data = val_voxel_data;\n",
    "\n",
    "solvers.options[\"show_progress\"] = False\n",
    "\n",
    "print('Running stacking, feat_use is:')\n",
    "print(feat_use)\n",
    "n_voxels = train_data.shape[1]\n",
    "n_feature_groups = len(feat_use) # feat use is the sub-set of feature groups to stack.\n",
    "n_trials_train = train_data.shape[0]\n",
    "n_trials_val = preds_val[0].shape[0]\n",
    "\n",
    "dtype = train_data.dtype\n",
    "stacked_pred_train = np.full(fill_value=0, shape=(n_trials_train, n_voxels), dtype=dtype)\n",
    "stacked_pred_val = np.full(fill_value=0, shape=(n_trials_val, n_voxels), dtype=dtype)\n",
    "\n",
    "# calculate error matrix for stacking\n",
    "P = np.zeros((n_voxels, n_feature_groups, n_feature_groups))\n",
    "idI = 0\n",
    "for i in feat_use:\n",
    "    idJ = 0\n",
    "    for j in feat_use:\n",
    "        # err is the trialwise, voxelwise, error for each model.\n",
    "        # P will store the summed products of the error for each pair of models \n",
    "        # (if i=j, then it's the summed squared error).\n",
    "        P[:, idI, idJ] = np.mean(train_err[i] * train_err[j], 0)\n",
    "        idJ += 1\n",
    "    idI += 1\n",
    "\n",
    "idI = 0\n",
    "idJ = 0\n"
   ]
  },
  {
   "cell_type": "code",
   "execution_count": 111,
   "id": "f60ea596",
   "metadata": {},
   "outputs": [
    {
     "name": "stdout",
     "output_type": "stream",
     "text": [
      "Solving for stacking weights for voxel 0 of 14913\n",
      "Stacking weights matrix is size:\n",
      "(14913, 3)\n",
      "Solving for stacking weights for voxel 1 of 14913\n"
     ]
    }
   ],
   "source": [
    "# PROGRAMATICALLY SET THIS FROM THE NUMBER OF FEATURES\n",
    "q = matrix(np.zeros((n_feature_groups)))\n",
    "G = matrix(-np.eye(n_feature_groups, n_feature_groups))\n",
    "h = matrix(np.zeros(n_feature_groups))\n",
    "A = matrix(np.ones((1, n_feature_groups)))\n",
    "b = matrix(np.ones(1))\n",
    "\n",
    "# Stacking weights will be stored here\n",
    "S = np.zeros((n_voxels, n_feature_groups))\n",
    "\n",
    "for vv in range(0, n_voxels):\n",
    "    if debug and vv>1:\n",
    "        continue\n",
    "\n",
    "    print('Solving for stacking weights for voxel %d of %d'%(vv, n_voxels))\n",
    "    PP = matrix(P[vv])\n",
    "    # solve for stacking weights for every voxel\n",
    "    # This essentially is minimizing the quantity x.T @ PP @ x, subject to the constraint that\n",
    "    # the elements of x have to be positive, and have to sum to 1. \n",
    "    # x will be the weights for the stacking model.\n",
    "    # Weights will be dependent on the error of each model individually (this is contained in PP).\n",
    "    S[vv, :] = np.array(solvers.qp(PP, q, G, h, A, b)[\"x\"]).reshape(n_feature_groups,)\n",
    "    if vv==0:\n",
    "        print('Stacking weights matrix is size:')\n",
    "        print(S.shape)\n",
    "\n",
    "    # Combine the predictions from the individual feature spaces for voxel i\n",
    "    z = np.array([preds_val[feature_j][:, vv] for feature_j in feat_use])\n",
    "    # multiply the predictions by S[vv,:]\n",
    "    stacked_pred_val[:, vv] = np.dot(S[vv, :], z)\n",
    "\n",
    "    # Same thing for the training trials\n",
    "    z = np.array([preds_train[feature_j][:, vv] for feature_j in feat_use])\n",
    "    stacked_pred_train[:, vv] = np.dot(S[vv, :], z)\n",
    "\n",
    "    sys.stdout.flush()\n"
   ]
  },
  {
   "cell_type": "code",
   "execution_count": null,
   "id": "d9e51b7d",
   "metadata": {},
   "outputs": [],
   "source": []
  },
  {
   "cell_type": "code",
   "execution_count": 141,
   "id": "09ebdd4f",
   "metadata": {},
   "outputs": [
    {
     "data": {
      "text/plain": [
       "(688, 14913)"
      ]
     },
     "execution_count": 141,
     "metadata": {},
     "output_type": "execute_result"
    }
   ],
   "source": [
    "stacked_pred_train.shape"
   ]
  },
  {
   "cell_type": "code",
   "execution_count": 142,
   "id": "12fcb640",
   "metadata": {},
   "outputs": [
    {
     "data": {
      "text/plain": [
       "(688, 14913)"
      ]
     },
     "execution_count": 142,
     "metadata": {},
     "output_type": "execute_result"
    }
   ],
   "source": [
    "train_data.shape"
   ]
  },
  {
   "cell_type": "code",
   "execution_count": 125,
   "id": "0fd9da72",
   "metadata": {},
   "outputs": [
    {
     "data": {
      "text/plain": [
       "0.0039898904395518926"
      ]
     },
     "execution_count": 125,
     "metadata": {},
     "output_type": "execute_result"
    }
   ],
   "source": [
    "z = np.array([preds_train[feature_j][:, vv] for feature_j in feat_use])\n",
    "np.sum( S[vv,:] * z[:,0] )"
   ]
  },
  {
   "cell_type": "code",
   "execution_count": 126,
   "id": "aec416af",
   "metadata": {},
   "outputs": [
    {
     "data": {
      "text/plain": [
       "0.0039898904395518926"
      ]
     },
     "execution_count": 126,
     "metadata": {},
     "output_type": "execute_result"
    }
   ],
   "source": [
    "d = np.dot(S[vv, :], z)\n",
    "d[0]"
   ]
  },
  {
   "cell_type": "code",
   "execution_count": 130,
   "id": "b72804d3",
   "metadata": {},
   "outputs": [
    {
     "data": {
      "text/plain": [
       "(3, 688)"
      ]
     },
     "execution_count": 130,
     "metadata": {},
     "output_type": "execute_result"
    }
   ],
   "source": [
    "z.shape"
   ]
  },
  {
   "cell_type": "code",
   "execution_count": 144,
   "id": "c52593b4",
   "metadata": {},
   "outputs": [
    {
     "data": {
      "text/plain": [
       "[<matplotlib.lines.Line2D at 0x7ff4e29543c8>]"
      ]
     },
     "execution_count": 144,
     "metadata": {},
     "output_type": "execute_result"
    },
    {
     "data": {
      "image/png": "[encoded data removed]",
      "text/plain": [
       "<Figure size 432x288 with 1 Axes>"
      ]
     },
     "metadata": {
      "needs_background": "light"
     },
     "output_type": "display_data"
    }
   ],
   "source": [
    "plt.figure;\n",
    "# plt.plot(z[[1],:].T);\n",
    "plt.plot(train_data[:, vv],'c')\n",
    "plt.plot(stacked_pred_train[:, vv],'k')"
   ]
  },
  {
   "cell_type": "code",
   "execution_count": 151,
   "id": "f98c6443",
   "metadata": {},
   "outputs": [
    {
     "data": {
      "text/plain": [
       "array([ 0.00410191, -0.00032977])"
      ]
     },
     "execution_count": 151,
     "metadata": {},
     "output_type": "execute_result"
    }
   ],
   "source": [
    "actual = train_data[:, vv:vv+2]\n",
    "predicted = stacked_pred_train[:, vv:vv+2]\n",
    "\n",
    "ssres = np.sum((actual-predicted)**2, axis=0)\n",
    "sstot = np.sum((actual - np.mean(actual, axis=0))**2, axis=0)\n",
    "r2 = 1-(ssres/sstot)\n",
    "\n",
    "r2"
   ]
  },
  {
   "cell_type": "code",
   "execution_count": 152,
   "id": "cf43c7c8",
   "metadata": {},
   "outputs": [
    {
     "data": {
      "text/plain": [
       "array([ 0.00410191, -0.00032977])"
      ]
     },
     "execution_count": 152,
     "metadata": {},
     "output_type": "execute_result"
    }
   ],
   "source": [
    "ssres = np.sum(np.power((predicted - actual),2), axis=0);\n",
    "sstot = np.sum(np.power((actual - np.mean(actual, axis=0)),2), axis=0);\n",
    "r2 = 1-(ssres/sstot)\n",
    "r2  "
   ]
  },
  {
   "cell_type": "code",
   "execution_count": 154,
   "id": "064069dd",
   "metadata": {},
   "outputs": [
    {
     "data": {
      "text/plain": [
       "array([ 0.00410191, -0.00032977])"
      ]
     },
     "execution_count": 154,
     "metadata": {},
     "output_type": "execute_result"
    }
   ],
   "source": [
    "get_r2(train_data[:,1:3], stacked_pred_train[:,1:3])"
   ]
  },
  {
   "cell_type": "code",
   "execution_count": 139,
   "id": "a71773ec",
   "metadata": {},
   "outputs": [
    {
     "data": {
      "text/plain": [
       "array([1.74853640e-06, 9.99997069e-01, 1.18233591e-06])"
      ]
     },
     "execution_count": 139,
     "metadata": {},
     "output_type": "execute_result"
    }
   ],
   "source": [
    "S[vv,:]"
   ]
  },
  {
   "cell_type": "code",
   "execution_count": 123,
   "id": "5d9208cb",
   "metadata": {},
   "outputs": [
    {
     "data": {
      "text/plain": [
       "[<matplotlib.lines.Line2D at 0x7ff4e2fae438>]"
      ]
     },
     "execution_count": 123,
     "metadata": {},
     "output_type": "execute_result"
    },
    {
     "data": {
      "image/png": "[encoded data removed]",
      "text/plain": [
       "<Figure size 432x288 with 1 Axes>"
      ]
     },
     "metadata": {
      "needs_background": "light"
     },
     "output_type": "display_data"
    }
   ],
   "source": [
    "plt.figure;\n",
    "plt.plot(z.T);\n",
    "plt.plot(stacked_pred_val[:, vv],'k')"
   ]
  },
  {
   "cell_type": "code",
   "execution_count": 124,
   "id": "152abdbc",
   "metadata": {},
   "outputs": [
    {
     "data": {
      "text/plain": [
       "array([1.74853640e-06, 9.99997069e-01, 1.18233591e-06])"
      ]
     },
     "execution_count": 124,
     "metadata": {},
     "output_type": "execute_result"
    }
   ],
   "source": [
    "S[vv,:]"
   ]
  },
  {
   "cell_type": "code",
   "execution_count": 113,
   "id": "fb5bc172",
   "metadata": {},
   "outputs": [],
   "source": [
    "vv=1\n",
    "z = np.array([preds_val[feature_j][:, vv] for feature_j in feat_use])"
   ]
  },
  {
   "cell_type": "code",
   "execution_count": 117,
   "id": "a26f54bd",
   "metadata": {},
   "outputs": [],
   "source": [
    "# z"
   ]
  },
  {
   "cell_type": "code",
   "execution_count": 89,
   "id": "2106878c",
   "metadata": {},
   "outputs": [
    {
     "data": {
      "text/plain": [
       "(3, 62)"
      ]
     },
     "execution_count": 89,
     "metadata": {},
     "output_type": "execute_result"
    }
   ],
   "source": [
    "np.array([preds_val[feature_j][:, vv] for feature_j in feat_use]).shape"
   ]
  },
  {
   "cell_type": "code",
   "execution_count": 91,
   "id": "02b8f549",
   "metadata": {},
   "outputs": [
    {
     "data": {
      "text/plain": [
       "(3, 62)"
      ]
     },
     "execution_count": 91,
     "metadata": {},
     "output_type": "execute_result"
    }
   ],
   "source": [
    "z = np.array([preds_val[feature_j][:, vv] for feature_j in feat_use])\n",
    "z.shape"
   ]
  },
  {
   "cell_type": "code",
   "execution_count": 90,
   "id": "eead7bd4",
   "metadata": {},
   "outputs": [
    {
     "data": {
      "text/plain": [
       "(3,)"
      ]
     },
     "execution_count": 90,
     "metadata": {},
     "output_type": "execute_result"
    }
   ],
   "source": [
    "S[vv, :].shape"
   ]
  },
  {
   "cell_type": "code",
   "execution_count": 118,
   "id": "d53c8763",
   "metadata": {},
   "outputs": [
    {
     "data": {
      "text/plain": [
       "0.0010613116374658625"
      ]
     },
     "execution_count": 118,
     "metadata": {},
     "output_type": "execute_result"
    }
   ],
   "source": [
    "np.sum( S[vv,:] * z[:,0] )"
   ]
  },
  {
   "cell_type": "code",
   "execution_count": 119,
   "id": "e815513a",
   "metadata": {},
   "outputs": [
    {
     "data": {
      "text/plain": [
       "0.0010613116374658625"
      ]
     },
     "execution_count": 119,
     "metadata": {},
     "output_type": "execute_result"
    }
   ],
   "source": [
    "d = np.dot(S[vv, :], z)\n",
    "d[0]"
   ]
  },
  {
   "cell_type": "code",
   "execution_count": 85,
   "id": "2e0d0b49",
   "metadata": {},
   "outputs": [
    {
     "data": {
      "text/plain": [
       "array([[1.74853640e-06],\n",
       "       [9.99997069e-01],\n",
       "       [1.18233591e-06]])"
      ]
     },
     "execution_count": 85,
     "metadata": {},
     "output_type": "execute_result"
    }
   ],
   "source": [
    "np.array(solvers.qp(PP, q, G, h, A, b)[\"x\"])"
   ]
  },
  {
   "cell_type": "code",
   "execution_count": 77,
   "id": "94464af1",
   "metadata": {},
   "outputs": [
    {
     "data": {
      "text/plain": [
       "array([1.74853640e-06, 9.99997069e-01, 1.18233591e-06])"
      ]
     },
     "execution_count": 77,
     "metadata": {},
     "output_type": "execute_result"
    }
   ],
   "source": [
    "S[1,:]"
   ]
  },
  {
   "cell_type": "code",
   "execution_count": 82,
   "id": "415b5b29",
   "metadata": {},
   "outputs": [
    {
     "data": {
      "text/plain": [
       "array([[1.]])"
      ]
     },
     "execution_count": 82,
     "metadata": {},
     "output_type": "execute_result"
    }
   ],
   "source": [
    "np.array(b)"
   ]
  },
  {
   "cell_type": "code",
   "execution_count": 58,
   "id": "93a84c1f",
   "metadata": {},
   "outputs": [
    {
     "data": {
      "text/plain": [
       "array([-0.28985824, -0.00172333,  0.72818593,  1.66770975, -0.80773051,\n",
       "       -1.04650661, -0.03157353,  0.59092905,  1.02570213,  0.41884224])"
      ]
     },
     "execution_count": 58,
     "metadata": {},
     "output_type": "execute_result"
    }
   ],
   "source": [
    "train_err[0][0:10,0]"
   ]
  },
  {
   "cell_type": "code",
   "execution_count": 59,
   "id": "182806cb",
   "metadata": {},
   "outputs": [
    {
     "data": {
      "text/plain": [
       "array([-0.32472779, -0.07617345,  0.62728888,  1.59864692, -0.82370633,\n",
       "       -1.06031112,  0.17408476,  0.63630368,  0.96768875,  0.45144197])"
      ]
     },
     "execution_count": 59,
     "metadata": {},
     "output_type": "execute_result"
    }
   ],
   "source": [
    "train_err[1][0:10,0]"
   ]
  },
  {
   "cell_type": "code",
   "execution_count": 60,
   "id": "87c318f7",
   "metadata": {},
   "outputs": [
    {
     "data": {
      "text/plain": [
       "array([-0.32739561, -0.07287778,  0.65540668,  1.57803739, -0.86243693,\n",
       "       -1.01823853,  0.14716078,  0.63106169,  0.89224941,  0.45367834])"
      ]
     },
     "execution_count": 60,
     "metadata": {},
     "output_type": "execute_result"
    }
   ],
   "source": [
    "train_err[2][0:10,0]"
   ]
  },
  {
   "cell_type": "code",
   "execution_count": 52,
   "id": "57267373",
   "metadata": {},
   "outputs": [
    {
     "data": {
      "text/plain": [
       "(14913, 688, 7)"
      ]
     },
     "execution_count": 52,
     "metadata": {},
     "output_type": "execute_result"
    }
   ],
   "source": [
    "trn_voxel_data_pred.shape"
   ]
  },
  {
   "cell_type": "code",
   "execution_count": 50,
   "id": "22d6522a",
   "metadata": {},
   "outputs": [
    {
     "data": {
      "text/plain": [
       "[<matplotlib.lines.Line2D at 0x7ff4e3253f28>]"
      ]
     },
     "execution_count": 50,
     "metadata": {},
     "output_type": "execute_result"
    },
    {
     "data": {
      "image/png": "[encoded data removed]",
      "text/plain": [
       "<Figure size 432x288 with 1 Axes>"
      ]
     },
     "metadata": {
      "needs_background": "light"
     },
     "output_type": "display_data"
    }
   ],
   "source": [
    "import matplotlib.pyplot as plt\n",
    "plt.figure();\n",
    "vind=1000\n",
    "plt.plot(trn_voxel_data[0:1000,vind])\n",
    "plt.plot(trn_voxel_data_pred[vind,0:1000,2])\n",
    "# plt.plot(trn_voxel_data_pred[vind,0:1000,2])\n",
    "plt.plot(trn_voxel_data_pred[vind,0:1000,6])"
   ]
  },
  {
   "cell_type": "code",
   "execution_count": 6,
   "id": "b016c2ab",
   "metadata": {},
   "outputs": [],
   "source": [
    "import sys\n",
    "import time\n",
    "import copy\n",
    "import numpy as np\n",
    "\n",
    "import torch\n",
    "import torch.nn as nn\n",
    "import torch.nn.init as I\n",
    "import torch.nn.functional as F\n",
    "import torch.optim as optim\n",
    "\n",
    "from utils import numpy_utils, torch_utils, texture_utils\n",
    "\n",
    "\"\"\"\n",
    "General code for fitting a 'feature weighted receptive field' model to fmri data - looping over many candidate pRF \n",
    "models for each voxel, find a set of weights that best predict its responses based on feature space of interest.\n",
    "Can work for many different types of feature spaces, feature extraction implemented with nn.Module.\n",
    "\n",
    "Original source of some of this code is the github repository:\n",
    "https://github.com/styvesg/nsd\n",
    "It was modified by MH to work for this project.\n",
    "\"\"\"\n",
    "\n",
    "\n",
    "def _cofactor_fn_cpu(_x, lambdas):\n",
    "    '''\n",
    "    Generating a matrix needed to solve ridge regression model for each lambda value.\n",
    "    Ridge regression (Tikhonov) solution is :\n",
    "    w = (X^T*X + I*lambda)^-1 * X^T * Y\n",
    "    This func will return (X^T*X + I*lambda)^-1 * X^T. \n",
    "    So once we have that, can just multiply by training data (Y) to get weights.\n",
    "    returned size is [nLambdas x nFeatures x nTrials]\n",
    "    This version makes sure that the torch inverse operation is done on the cpu, and in floating point-64 precision.\n",
    "    Otherwise get bad results for small lambda values. This seems to be a torch-specific bug, noted around May 2021.\n",
    "    \n",
    "    '''\n",
    "    device_orig = _x.device\n",
    "    type_orig = _x.dtype\n",
    "    # switch to this specific format which works with inverse\n",
    "    _x = _x.to('cpu').to(torch.float64)\n",
    "    _f = torch.stack([(torch.mm(torch.t(_x), _x) + torch.eye(_x.size()[1], device='cpu', dtype=torch.float64) * l).inverse() for l in lambdas], axis=0) \n",
    "    \n",
    "    # [#lambdas, #feature, #feature] \n",
    "    cof = torch.tensordot(_f, _x, dims=[[2],[1]]) # [#lambdas, #feature, #sample]\n",
    "    \n",
    "    # put back to whatever way it was before, so that we can continue with other operations as usual\n",
    "    return cof.to(device_orig).to(type_orig)\n",
    "\n",
    "\n",
    "\n",
    "def _loss_fn(_cofactor, _vtrn, _xout, _vout):\n",
    "    '''\n",
    "    Calculate loss given \"cofactor\" from cofactor_fn, training data, held-out design matrix, held out data.\n",
    "    returns weights (betas) based on equation\n",
    "    w = (X^T*X + I*lambda)^-1 * X^T * Y\n",
    "    also returns loss for these weights w the held out data. SSE is loss func here.\n",
    "    '''\n",
    "\n",
    "    _beta = torch.tensordot(_cofactor, _vtrn, dims=[[2], [0]]) # [#lambdas, #feature, #voxel]\n",
    "    _pred = torch.tensordot(_xout, _beta, dims=[[1],[1]]) # [#samples, #lambdas, #voxels]\n",
    "    _loss = torch.sum(torch.pow(_vout[:,None,:] - _pred, 2), dim=0) # [#lambdas, #voxels]\n",
    "    return _beta, _loss, _pred\n",
    "\n",
    "\n",
    "\n",
    "def fit_fwrf_model(images, voxel_data, _feature_extractor, prf_models, lambdas, \\\n",
    "                   zscore=False, add_bias=False, voxel_batch_size=100, holdout_size=100, \\\n",
    "                       shuffle=True, shuff_rnd_seed=0, device=None, dtype=np.float32, debug=False):\n",
    "    \n",
    "    \"\"\"\n",
    "    Solve for encoding model weights using ridge regression.\n",
    "    Inputs:\n",
    "        images: the training images, [n_trials x 1 x height x width]\n",
    "            OR for models where features were pre-computed, this is a list of indices [n_trials,] into the 10,000 long feature array.\n",
    "        voxel_data: the training voxel data, [n_trials x n_voxels]\n",
    "        _feature_extractor_fn: module that maps from images to model features\n",
    "        prf_models: the list of possible pRFs to test, columns are [x, y, sigma]\n",
    "        lambdas: ridge lambda parameters to test\n",
    "        zscore: want to zscore each column of feature matrix before fitting?\n",
    "        add_bias: add a column of ones to feature matrix, for an additive bias?\n",
    "        voxel_batch_size: how many voxels to use at a time for model fitting\n",
    "        holdout_size: how many training trials to hold out for computing loss/lambda selection?\n",
    "        shuffle: do we shuffle training data order before holding trials out?      \n",
    "        shuff_rnd_seed: if we do shuffle training data (shuffle=True), what random seed to use? if zero, choose a new random seed in this code.\n",
    "        device: what device to use? cpu/cuda\n",
    "        debug: want to run a shortened version of this, to test it?\n",
    "    Outputs:\n",
    "        best_losses: loss value for each voxel (with best pRF and best lambda), eval on held out set\n",
    "        best_lambdas: best lambda for each voxel (chosen based on loss w held out set)\n",
    "        best_params: \n",
    "            [0] best pRF for each voxel [x,y,sigma]\n",
    "            [1] best weights for each voxel/feature\n",
    "            [2] if add_bias=True, best bias value for each voxel\n",
    "            [3] if zscore=True, the mean of each feature before z-score\n",
    "            [4] if zscore=True, the std of each feature before z-score\n",
    "            [5] index of the best pRF for each voxel (i.e. index of row in \"prf_models\")\n",
    "        \n",
    "    \"\"\"\n",
    "\n",
    "    if device is None:\n",
    "        device=torch.device('cpu:0')\n",
    "\n",
    "    print ('dtype = %s' % dtype)\n",
    "    print ('device = %s' % device)\n",
    "\n",
    "    n_trials = len(images)\n",
    "    n_prfs = len(prf_models)\n",
    "    n_voxels = voxel_data.shape[1]   \n",
    "\n",
    "    # Get train/holdout splits.\n",
    "    # Held-out data here is used for lamdba selection.\n",
    "    # This is the inner part of nested cross-validation; there is another portion of data ('val') which never enters this function.\n",
    "    trn_size = n_trials - holdout_size\n",
    "    assert trn_size>0, 'Training size needs to be greater than zero'\n",
    "    print ('trn_size = %d (%.1f%%)' % (trn_size, float(trn_size)*100/len(voxel_data)))\n",
    "    order = np.arange(len(voxel_data), dtype=int)\n",
    "    if shuffle:\n",
    "        if shuff_rnd_seed==0:\n",
    "            print('Computing a new random seed')\n",
    "            shuff_rnd_seed = int(time.strftime('%M%H%d', time.localtime()))\n",
    "        print('Seeding random number generator: seed is %d'%shuff_rnd_seed)\n",
    "        np.random.seed(shuff_rnd_seed)\n",
    "        np.random.shuffle(order)\n",
    "        \n",
    "    images = images[order]\n",
    "    \n",
    "    train_trial_order = order[:trn_size]\n",
    "    holdout_trial_order = order[trn_size:]\n",
    "\n",
    "    trn_data = copy.deepcopy(voxel_data[train_trial_order,:])\n",
    "    out_data = copy.deepcopy(voxel_data[holdout_trial_order,:])\n",
    "    \n",
    "    print(out_data.shape)\n",
    "    print(out_data[12:22,50])\n",
    "    \n",
    "    # Here is where any model-specific additional initialization steps are done\n",
    "    # Includes initializing pca params arrays, if doing pca\n",
    "    if len(images.shape)>1:\n",
    "        image_size = images.shape[2:4]\n",
    "    else:\n",
    "        image_size = None\n",
    "    _feature_extractor.init_for_fitting(image_size, prf_models, dtype)\n",
    "    max_features = _feature_extractor.max_features\n",
    "\n",
    "    # Decide whether to do any \"partial\" versions of the models (leaving out subsets of features)\n",
    "    # Purpose is for variance partition\n",
    "    masks, partial_version_names = _feature_extractor.get_partial_versions()\n",
    "    n_partial_versions = len(partial_version_names) # will be one if skipping varpart\n",
    "    if add_bias:\n",
    "        masks = np.concatenate([masks, np.ones([masks.shape[0],1])], axis=1) # always include intercept \n",
    "    masks = np.transpose(masks)\n",
    "    # masks is [n_features_total (including intercept) x n_partial_versions]\n",
    "\n",
    "    # Initialize arrays to store model fitting params\n",
    "    best_w_params = np.zeros(shape=(n_voxels, max_features ,n_partial_versions), dtype=dtype)\n",
    "    best_prf_models = np.full(shape=(n_voxels,n_partial_versions), fill_value=-1, dtype=int)   \n",
    "    best_lambdas = np.full(shape=(n_voxels,n_partial_versions), fill_value=-1, dtype=int)\n",
    "    best_losses = np.full(fill_value=np.inf, shape=(n_voxels,n_partial_versions), dtype=dtype)\n",
    "\n",
    "    # Initialize arrays to store the trial-wise predictions (need these for stacking)\n",
    "    # Using JUST the held out trials here so the errors are always cross-validated\n",
    "    best_train_holdout_preds = np.zeros(shape=(n_voxels, holdout_size, n_partial_versions), dtype=dtype)\n",
    "\n",
    "    # Additional params that are optional\n",
    "    if add_bias:\n",
    "        best_w_params = np.concatenate([best_w_params, np.zeros(shape=(n_voxels,1,n_partial_versions), dtype=dtype)], axis=1)\n",
    "\n",
    "    if zscore:\n",
    "        features_mean = np.zeros(shape=(n_voxels, max_features), dtype=dtype)\n",
    "        features_std  = np.zeros(shape=(n_voxels, max_features), dtype=dtype)\n",
    "    else:\n",
    "        features_mean = None\n",
    "        features_std = None\n",
    "\n",
    "    start_time = time.time()\n",
    "    vox_loop_time = 0\n",
    "\n",
    "    print ('---------------------------------------\\n')\n",
    "    \n",
    "    with torch.no_grad(): # make sure local gradients are off to save memory\n",
    "        \n",
    "        # Looping over prf_models (here prf_models are different spatial RF definitions)\n",
    "        for m,(x,y,sigma) in enumerate(prf_models):\n",
    "            if debug and m>1:\n",
    "                break\n",
    "                \n",
    "            print('\\nGetting features for prf %d: [x,y,sigma] is [%.2f %.2f %.4f]'%(m, prf_models[m,0],  prf_models[m,1],  prf_models[m,2]))\n",
    "\n",
    "            t = time.time()            \n",
    "\n",
    "            # Get features for the desired pRF, across all trn set image  \n",
    "            # Features is size [ntrials x nfeatures]\n",
    "            # nfeatures may be less than max_features, because max_features is the largest number possible for any pRF.\n",
    "            # feature_inds_defined is length max_features, and tells which of the features in max_features are includes in features.\n",
    "            features, feature_inds_defined = _feature_extractor(images, (x,y,sigma), m, fitting_mode=True)\n",
    "            features = features.detach().cpu().numpy() \n",
    "            \n",
    "            elapsed = time.time() - t\n",
    "\n",
    "            n_features_actual = features.shape[1]\n",
    "            \n",
    "            if zscore:  \n",
    "                features_m = np.mean(features, axis=0, keepdims=True) #[:trn_size]\n",
    "                features_s = np.std(features, axis=0, keepdims=True) + 1e-6          \n",
    "                features -= features_m\n",
    "                features /= features_s    \n",
    "\n",
    "            if add_bias:\n",
    "                features = np.concatenate([features, np.ones(shape=(len(features), 1), dtype=dtype)], axis=1)\n",
    "                feature_inds_defined = np.concatenate((feature_inds_defined, [True]), axis=0)\n",
    "                \n",
    "            trn_features = features[:trn_size,:]\n",
    "            out_features = features[trn_size:,:]\n",
    "            \n",
    "            \n",
    "            # Going to keep track of whether current prf is better than running best, for each voxel.\n",
    "            # This is for the full model only.\n",
    "            # Will use this to make sure for each partial model, we end up saving the params for the prf that was best w full model.\n",
    "            full_model_improved = np.zeros((n_voxels,),dtype=bool)\n",
    "\n",
    "            # Looping over versions of model w different features set to zero (variance partition)\n",
    "            for pp in range(n_partial_versions):\n",
    "\n",
    "                print('\\nFitting version %d of %d: %s, '%(pp, n_partial_versions, partial_version_names[pp]))\n",
    "\n",
    "                # nonzero_inds_full is length max_features (or max_features+1 if bias=True)\n",
    "                # same size as the final params matrices will be.\n",
    "                nonzero_inds_full = np.logical_and(masks[:,pp], feature_inds_defined)             \n",
    "                # nonzero_inds_full is restricted to just indices that are defined for this prf - ie same size as features.\n",
    "                nonzero_inds_short = masks[feature_inds_defined,pp]==1\n",
    "        \n",
    "                # Send matrices to gpu    \n",
    "                _xtrn = torch_utils._to_torch(trn_features[:, nonzero_inds_short], device=device)\n",
    "                _xout = torch_utils._to_torch(out_features[:, nonzero_inds_short], device=device)   \n",
    "\n",
    "                # Do part of the matrix math involved in ridge regression optimization out of the loop, \n",
    "                # because this part will be same for all the voxels.\n",
    "                _cof = _cofactor_fn_cpu(_xtrn, lambdas = lambdas) \n",
    "\n",
    "                # Now looping over batches of voxels (only reason is because can't store all in memory at same time)\n",
    "                vox_start = time.time()\n",
    "                vi=-1\n",
    "                for rv,lv in numpy_utils.iterate_range(0, n_voxels, voxel_batch_size):\n",
    "                    vi=vi+1\n",
    "                    sys.stdout.write('\\rfitting model %4d of %-4d, voxels [%6d:%-6d] of %d' % (m, n_prfs, rv[0], rv[-1], n_voxels))\n",
    "\n",
    "                    # Send matrices to gpu\n",
    "                    _vtrn = torch_utils._to_torch(trn_data[:,rv], device=device)\n",
    "                    _vout = torch_utils._to_torch(out_data[:,rv], device=device)\n",
    "\n",
    "                    # Here is where optimization happens - relatively simple matrix math inside loss fn.\n",
    "                    _betas, _loss, _pred_out = _loss_fn(_cof, _vtrn, _xout, _vout) #   [#lambda, #feature, #voxel, ], [#lambda, #voxel], [trials x lambdas x voxels]\n",
    "                    # Keep trial-by-trial predictions for each held-out set trial (need for stacking)\n",
    "                    pred_out = torch_utils.get_value(_pred_out) \n",
    "                    # Note these trials are still in their SHUFFLED order, so we when we want to get R2 \n",
    "                    # will need to make the actual data match this order.\n",
    "            \n",
    "                    \n",
    "                    \n",
    "#                     _pred_train = torch.tensordot(_xtrn, _betas, dims=[[1],[1]]) # [#samples, #lambdas, #voxels]\n",
    "#                     _pred_out = torch.tensordot(_xout, _betas, dims=[[1],[1]]) # [#samples, #lambdas, #voxels]\n",
    "#                     pred_train = torch_utils.get_value(_pred_train)\n",
    "                    \n",
    "                    # Going to combine the training and held out trials and re-create their original order here.\n",
    "#                     preds_all_shuffled = np.concatenate((pred_train, pred_out), axis=0)\n",
    "#                     preds_all_origorder = numpy_utils.unshuffle(preds_all_shuffled, order) # [#samples x lambdas x voxels]\n",
    "    \n",
    "                    # Now have a set of weights (in betas) and a loss value for every voxel and every lambda. \n",
    "                    # goal is then to choose for each voxel, what is the best lambda and what weights went with that lambda.\n",
    "\n",
    "                    # choose best lambda value and the loss that went with it.\n",
    "                    _loss_values, _lambda_index = torch.min(_loss, dim=0)\n",
    "                    loss_values, lambda_index = torch_utils.get_value(_loss_values), torch_utils.get_value(_lambda_index)\n",
    "                    betas = torch_utils.get_value(_betas)\n",
    "                    \n",
    "                    if pp==0:\n",
    "\n",
    "                        # comparing this loss to the other prf_models for each voxel (e.g. the other RF position/sizes)\n",
    "                        assert(partial_version_names[pp]=='full_model' or partial_version_names[pp]=='full_combined_model')               \n",
    "                        imp = loss_values<best_losses[rv,pp]\n",
    "                        full_model_improved[rv] = imp\n",
    "\n",
    "                    else:\n",
    "\n",
    "                        # for the partial models we don't actually care which was best for the partial model itself,\n",
    "                        # just care what was best for the full model\n",
    "                        imp = full_model_improved[rv]\n",
    "\n",
    "\n",
    "                    if np.sum(imp)>0:\n",
    "\n",
    "                        # for whichever voxels had improvement relative to previous prf_models, save parameters now\n",
    "                        # this means we won't have to save all params for all prf_models, just best.\n",
    "                        arv = np.array(rv)[imp]\n",
    "\n",
    "                        lambda_inds = lambda_index[imp]\n",
    "                        best_lambdas[arv,pp] = lambda_inds\n",
    "                        best_losses[arv,pp] = loss_values[imp]                        \n",
    "                        best_prf_models[arv,pp] = m\n",
    "                        if zscore and pp==0:\n",
    "                            \n",
    "                            # only need to update the mean/std if we're working with the full model, because those will be same for all partial versions.\n",
    "                            fmean_tmp = copy.deepcopy(features_mean[arv,:])\n",
    "                            fstd_tmp = copy.deepcopy(features_std[arv,:])\n",
    "                            fmean_tmp[:,nonzero_inds_full[0:-1]] = features_m[0,nonzero_inds_short[0:-1]] # broadcast over updated voxels\n",
    "                            fmean_tmp[:,~nonzero_inds_full[0:-1]] = 0.0\n",
    "                            fstd_tmp[:,nonzero_inds_full[0:-1]] = features_s[0,nonzero_inds_short[0:-1]] # broadcast over updated voxels\n",
    "                            fstd_tmp[:,~nonzero_inds_full[0:-1]] = 0.0\n",
    "                            features_mean[arv,:] = fmean_tmp\n",
    "                            features_std[arv,:] = fstd_tmp\n",
    "                            \n",
    "                        # taking the weights associated with the best lambda value\n",
    "                        # remember that they won't fill entire matrix, rest of values stay at zero\n",
    "                        best_w_tmp = copy.deepcopy(best_w_params[arv,:,pp])\n",
    "                        best_w_tmp[:,nonzero_inds_full] = numpy_utils.select_along_axis(betas[:,:,imp], lambda_inds, \\\n",
    "                                                                                        run_axis=2, choice_axis=0).T\n",
    "                        best_w_tmp[:,~nonzero_inds_full] = 0.0 # make sure to fill zeros here\n",
    "                        best_w_params[arv,:,pp] = best_w_tmp\n",
    "                        \n",
    "                        # Save the trialwise predictions for all trials in their original order.\n",
    "                        # Choosing predictions from whichever lambda was best.\n",
    "                        best_train_holdout_preds[arv,:,pp] = numpy_utils.select_along_axis(pred_out[:,:,imp], \\\n",
    "                                                                               lambda_inds, run_axis=2, choice_axis=1).T;\n",
    "\n",
    "                vox_loop_time += (time.time() - vox_start)\n",
    "                elapsed = (time.time() - vox_start)\n",
    "                sys.stdout.flush()\n",
    "\n",
    "    # Print information about how fitting went...\n",
    "    total_time = time.time() - start_time\n",
    "    inv_time = total_time - vox_loop_time\n",
    "    return_params = [best_w_params[:,0:max_features,:],]\n",
    "    if add_bias:\n",
    "        return_params += [best_w_params[:,-1,:],]\n",
    "    else: \n",
    "        return_params += [None,]\n",
    "    print ('\\n---------------------------------------')\n",
    "    print ('total time = %fs' % total_time)\n",
    "    print ('total throughput = %fs/voxel' % (total_time / n_voxels))\n",
    "    print ('voxel throughput = %fs/voxel' % (vox_loop_time / n_voxels))\n",
    "    print ('setup throughput = %fs/model' % (inv_time / n_prfs))\n",
    "    \n",
    "    # This step clears the big feature maps for training data from feature extractor (no longer needed)\n",
    "    _feature_extractor.clear_big_features()\n",
    "    \n",
    "    best_params = [prf_models[best_prf_models],]+return_params+[features_mean, features_std]+[best_prf_models]\n",
    "    sys.stdout.flush()\n",
    "\n",
    "    return best_losses, best_lambdas, best_params, best_train_holdout_preds, holdout_trial_order"
   ]
  },
  {
   "cell_type": "code",
   "execution_count": 7,
   "id": "722b87da",
   "metadata": {},
   "outputs": [],
   "source": [
    "from __future__ import division\n",
    "import sys\n",
    "import time\n",
    "import numpy as np\n",
    "import copy\n",
    "import torch\n",
    "from cvxopt import matrix, solvers\n",
    "\n",
    "from utils import numpy_utils, torch_utils\n",
    "\n",
    "\n",
    "def get_r2(actual,predicted):\n",
    "    \"\"\"\n",
    "    This computes the coefficient of determination (R2).\n",
    "    Always goes along first dimension (i.e. the trials/samples dimension)\n",
    "    MAKE SURE INPUTS ARE ACTUAL AND THEN PREDICTED, NOT FLIPPED\n",
    "    \"\"\"\n",
    "    ssres = np.sum(np.power((predicted - actual),2), axis=0);\n",
    "    sstot = np.sum(np.power((actual - np.mean(actual, axis=0)),2), axis=0);\n",
    "    r2 = 1-(ssres/sstot)\n",
    "    \n",
    "    return r2\n",
    "\n",
    "def get_corrcoef(actual,predicted,dtype=np.float32):\n",
    "    \"\"\"\n",
    "    This computes the linear correlation coefficient.\n",
    "    Always goes along first dimension (i.e. the trials/samples dimension)\n",
    "    Assume input is 2D.\n",
    "    \"\"\"\n",
    "    assert(len(actual.shape)==2)\n",
    "    vals_cc = np.full(fill_value=0, shape=(actual.shape[1],), dtype=dtype)\n",
    "    for vv in range(actual.shape[1]):\n",
    "        vals_cc[vv] = np.corrcoef(actual[:,vv], predicted[:,vv])[0,1] \n",
    "    return vals_cc\n",
    " \n",
    "def validate_fwrf_model(best_params, prf_models, voxel_data, images, _feature_extractor, \\\n",
    "                                   sample_batch_size=100, voxel_batch_size=100, debug=False, dtype=np.float32):\n",
    "    \n",
    "    \"\"\" \n",
    "    Evaluate trained model, leaving out a subset of features at a time.\n",
    "    \"\"\"\n",
    "    \n",
    "    params = best_params\n",
    "    device = _feature_extractor.device\n",
    "    \n",
    "    n_trials, n_voxels = len(images), len(params[0])\n",
    "    n_prfs = prf_models.shape[0]\n",
    "    n_features = params[1].shape[1]  \n",
    "    n_voxels = np.shape(voxel_data)[1]\n",
    "\n",
    "    best_models, weights, bias, features_mt, features_st, best_model_inds = params\n",
    "    masks, partial_version_names = _feature_extractor.get_partial_versions()\n",
    "    masks = np.transpose(masks)    \n",
    "    n_features_max = _feature_extractor.max_features\n",
    "    n_partial_versions = len(partial_version_names)\n",
    "    \n",
    "    # val_cc is the correlation coefficient bw real and predicted responses across trials, for each voxel.\n",
    "    val_cc  = np.zeros(shape=(n_voxels, n_partial_versions), dtype=dtype)\n",
    "    val_r2 = np.zeros(shape=(n_voxels, n_partial_versions), dtype=dtype)\n",
    "\n",
    "    pred_models = np.full(fill_value=0, shape=(n_trials, n_features_max, n_prfs), dtype=dtype)\n",
    "    feature_inds_defined_each_prf = np.full(fill_value=0, shape=(n_features_max, n_prfs), dtype=bool)\n",
    "    \n",
    "    # Saving full trial-by-trial predictions for each voxel, each partial model.\n",
    "    # Need these for stacking.\n",
    "    pred_voxel_data = np.full(fill_value=0, shape=(n_trials, n_voxels, n_partial_versions), dtype=dtype)\n",
    "    \n",
    "    start_time = time.time()    \n",
    "    with torch.no_grad(): # make sure local gradients are off to save memory\n",
    "        \n",
    "        # First gather texture features for all pRFs.\n",
    "        \n",
    "        _feature_extractor.clear_big_features()\n",
    "        \n",
    "        for mm in range(n_prfs):\n",
    "            if mm>1 and debug:\n",
    "                break\n",
    "            print('Getting features for prf %d: [x,y,sigma] is [%.2f %.2f %.4f]'%(mm, prf_models[mm,0],  prf_models[mm,1],  prf_models[mm,2] ))\n",
    "            # all_feat_concat is size [ntrials x nfeatures]\n",
    "            # nfeatures may be less than n_features_max, because n_features_max is the largest number possible for any pRF.\n",
    "            # feature_inds_defined is length max_features, and tells which of the features in max_features are includes in features.\n",
    "            all_feat_concat, feature_inds_defined = _feature_extractor(images, prf_models[mm,:], mm, fitting_mode=False)\n",
    "            \n",
    "            pred_models[:,feature_inds_defined,mm] = torch_utils.get_value(all_feat_concat)\n",
    "            feature_inds_defined_each_prf[:,mm] = feature_inds_defined\n",
    "            \n",
    "        _feature_extractor.clear_big_features()\n",
    "        \n",
    "        vv=-1\n",
    "        ## Looping over voxels here in batches, will eventually go through all.\n",
    "        for rv, lv in numpy_utils.iterate_range(0, n_voxels, voxel_batch_size):\n",
    "            vv=vv+1\n",
    "            print('Getting predictions for voxels [%d-%d] of %d'%(rv[0],rv[-1],n_voxels))\n",
    "\n",
    "            if vv>1 and debug:\n",
    "                break\n",
    "\n",
    "            # Looping over versions of model w different features set to zero (variance partition)\n",
    "            for pp in range(n_partial_versions):\n",
    "\n",
    "                print('\\nEvaluating version %d of %d: %s'%(pp, n_partial_versions, partial_version_names[pp]))\n",
    "\n",
    "                # masks describes the indices of the features that are included in this partial model\n",
    "                # n_features_max in length\n",
    "                features_to_use = masks[:,pp]==1\n",
    "                print('Includes %d features'%np.sum(features_to_use))\n",
    "\n",
    "                # [trials x features x voxels]\n",
    "                features_full = pred_models[:,:,best_model_inds[rv,pp]]\n",
    "                # Take out the relevant features now\n",
    "                features_full = features_full[:,features_to_use,:]\n",
    "                # Note there may be some zeros in this matrix, if we used fewer than the max number of features.\n",
    "                # But they are zero in weight matrix too, so turns out ok.\n",
    "\n",
    "                _weights = torch_utils._to_torch(weights[rv,:,pp], device=device)   \n",
    "                _weights = _weights[:, features_to_use]\n",
    "                _bias = torch_utils._to_torch(bias[rv,pp], device=device)\n",
    "\n",
    "                print('number of zeros:')\n",
    "                print(np.sum(features_full[0,:,0]==0))\n",
    "\n",
    "                print('size of weights is:')\n",
    "                print(_weights.shape)\n",
    "\n",
    "                if features_mt is not None:\n",
    "                    _features_m = torch_utils._to_torch(features_mt[rv,:], device=device)\n",
    "                    _features_m = _features_m[:,features_to_use]\n",
    "                if features_st is not None:\n",
    "                    _features_s = torch_utils._to_torch(features_st[rv,:], device=device)\n",
    "                    _features_s = _features_s[:,features_to_use]\n",
    "\n",
    "                pred_block = np.full(fill_value=0, shape=(n_trials, lv), dtype=dtype)\n",
    "\n",
    "                # Now looping over validation set trials in batches\n",
    "                for rt, lt in numpy_utils.iterate_range(0, n_trials, sample_batch_size):\n",
    "\n",
    "                    _features = torch_utils._to_torch(features_full[rt,:], device=device) # trials x features\n",
    "                    if features_mt is not None:    \n",
    "                        # features_m is [nvoxels x nfeatures] - need [trials x features x voxels]\n",
    "                        _features = _features - torch.tile(torch.unsqueeze(_features_m, dim=0), [_features.shape[0], 1, 1]).moveaxis([1],[2])\n",
    "\n",
    "                    if features_st is not None:\n",
    "                        _features = _features/torch.tile(torch.unsqueeze(_features_s, dim=0), [_features.shape[0], 1, 1]).moveaxis([1],[2])\n",
    "                        # if any entries in std are zero or nan, this gives bad result - fix these now.\n",
    "                        # these bad entries will also be zero in weights, so doesn't matter. just want to avoid nans.\n",
    "                        _features[torch.isnan(_features)] = 0.0 \n",
    "                        _features[torch.isinf(_features)] = 0.0\n",
    "                        \n",
    "                    # features is [#samples, #features, #voxels] - swap dims to [#voxels, #samples, features]\n",
    "                    _features = torch.transpose(torch.transpose(_features, 0, 2), 1, 2)\n",
    "                    # weights is [#voxels, #features]\n",
    "                    # _r will be [#voxels, #samples, 1] - then [#samples, #voxels]\n",
    "\n",
    "                    _r = torch.squeeze(torch.bmm(_features, torch.unsqueeze(_weights, 2)), dim=2).t() \n",
    "\n",
    "                    if _bias is not None:\n",
    "                        _r = _r + torch.tile(torch.unsqueeze(_bias, 0), [_r.shape[0],1])\n",
    "\n",
    "                    pred_block[rt] = torch_utils.get_value(_r) \n",
    "                \n",
    "                # Making sure to save these so that we can get stacking performance later.\n",
    "                pred_voxel_data[:,rv,pp] = pred_block\n",
    "                \n",
    "                # Now for this batch of voxels and this partial version of the model, measure performance.\n",
    "                val_cc[rv,pp] = get_corrcoef(voxel_data[:,rv], pred_block)\n",
    "                val_r2[rv,pp] = get_r2(voxel_data[:,rv], pred_block)\n",
    "\n",
    "                sys.stdout.flush()\n",
    "\n",
    "    # any nans become zeros here.\n",
    "    val_cc = np.nan_to_num(val_cc)\n",
    "    val_r2 = np.nan_to_num(val_r2) \n",
    "    \n",
    "    return val_cc, val_r2, pred_voxel_data\n",
    "\n",
    "\n",
    "def run_stacking(_feature_extractor, trn_holdout_voxel_data, val_voxel_data, trn_holdout_voxel_data_pred, val_voxel_data_pred, debug=False):   \n",
    "    \"\"\"\n",
    "    Get data organized to run stacking code (stacked_core)\n",
    "    \"\"\"\n",
    "    n_voxels = trn_holdout_voxel_data.shape[1]\n",
    "\n",
    "    # To get the \"features\" to use for stacking - i'm using the \"partial models\" that are defined \n",
    "    # by the feature extractor. The first one is the full model, so we don't want to use that - just want \n",
    "    # the ones that include just a subset of the full feature space.\n",
    "    partial_masks, partial_version_names = _feature_extractor.get_partial_versions()\n",
    "    partial_models_use = []\n",
    "    hasattr(_feature_extractor, 'module_names')\n",
    "    for mm in range(len(_feature_extractor.module_names)):\n",
    "        this_module = np.where([(_feature_extractor.module_names[mm] in pp) for pp in partial_version_names])[0]\n",
    "        if len(this_module)>1:\n",
    "            # this means there are 'subsets' of features within this module that we will want to consider separately.\n",
    "            # so finding just the ones that we want here.\n",
    "            partial_models_use += list(np.where([(_feature_extractor.module_names[mm] in pp and '_just' in pp and '_no_other_modules' in pp) \\\n",
    "                         for pp in partial_version_names])[0])\n",
    "        else:\n",
    "            partial_models_use += list(this_module)\n",
    "    print('Subsets of features that are going into the stacking analysis:')\n",
    "    print([partial_version_names[pp] for pp in partial_models_use])\n",
    "\n",
    "    n_feature_groups = len(partial_models_use)\n",
    "\n",
    "    # Creating a list where each element is predictions for one of the partial models - these will be \n",
    "    # the 'features' elements input to stacking code.\n",
    "    preds_train = [trn_holdout_voxel_data_pred[:,:,pp].T for pp in partial_models_use]\n",
    "    preds_val = [val_voxel_data_pred[:,:,pp] for pp in partial_models_use]\n",
    "    # Compute trial-wise training errors\n",
    "    # each element of err is [ntrials x nvoxels]\n",
    "    train_err = [trn_holdout_voxel_data - trn_holdout_voxel_data_pred[:,:,pp].T for pp in partial_models_use]\n",
    "\n",
    "    # Also computing the performance of each of the partial versions on training set data.\n",
    "    # this is sort of a sanity check that things are working, since the performance of the partial models\n",
    "    # should roughly predict what the stacking weights will be.\n",
    "    train_r2 = np.array([get_r2(trn_holdout_voxel_data, trn_holdout_voxel_data_pred[:,:,pp].T) \\\n",
    "                         for pp in range(len(partial_version_names))]).T\n",
    "    train_r2 = np.nan_to_num(train_r2)\n",
    "    train_cc = np.array([get_corrcoef(trn_holdout_voxel_data, trn_holdout_voxel_data_pred[:,:,pp].T) \\\n",
    "                         for pp in range(len(partial_version_names))]).T\n",
    "    train_cc = np.nan_to_num(train_cc)\n",
    "\n",
    "    # First running stacking w all features included\n",
    "    feat_use = np.arange(0,n_feature_groups)\n",
    "    # Stack result will be a tuple including the stacking weights, performance.\n",
    "    stack_result = stacked_core(feat_use, train_err, train_data=trn_holdout_voxel_data,\\\n",
    "                     val_data = val_voxel_data, preds_train = preds_train, preds_val = preds_val,\\\n",
    "                     debug=debug);\n",
    "\n",
    "    # Then going to repeat it leaving out one feature group at a time\n",
    "    # This will only make sense to do there are more than 2 feature groups, otherwise it's just single models.\n",
    "    if n_feature_groups>2:   \n",
    "        stack_result_lo = dict()\n",
    "        for leave_one in range(n_feature_groups):\n",
    "            feat_use_lo = list(copy.deepcopy(feat_use))\n",
    "            feat_use_lo.remove(leave_one)\n",
    "            tmp = stacked_core(feat_use_lo, train_err, train_data=trn_holdout_voxel_data,\\\n",
    "                             val_data = val_voxel_data, preds_train = preds_train, preds_val = preds_val,\\\n",
    "                             debug=debug);\n",
    "            stack_result_lo[leave_one] = tmp\n",
    "    else:       \n",
    "        stack_result_lo = None\n",
    "\n",
    "\n",
    "    return stack_result, stack_result_lo, partial_models_use, train_r2, train_cc\n",
    "\n",
    "\n",
    "def stacked_core(feat_use, train_err, train_data, val_data, preds_train, preds_val, debug=False):\n",
    "    \"\"\"\n",
    "    Compute weights for stacking models (linearly combining predictions of multiple encoding models).\n",
    "    Outputs weights and performance of the stacked model.\n",
    "    Code from Ruogu Lin (modified slightly for this project).\n",
    "    \"\"\"\n",
    "    \n",
    "    solvers.options[\"show_progress\"] = False\n",
    "\n",
    "    print('Running stacking, feat_use is:')\n",
    "    print(feat_use)\n",
    "    n_voxels = train_data.shape[1]\n",
    "    n_feature_groups = len(feat_use) # feat use is the sub-set of feature groups to stack.\n",
    "    n_trials_train = train_data.shape[0]\n",
    "    n_trials_val = preds_val[0].shape[0]\n",
    "        \n",
    "    dtype = train_data.dtype\n",
    "    stacked_pred_train = np.full(fill_value=0, shape=(n_trials_train, n_voxels), dtype=dtype)\n",
    "    stacked_pred_val = np.full(fill_value=0, shape=(n_trials_val, n_voxels), dtype=dtype)\n",
    "\n",
    "    # calculate error matrix for stacking\n",
    "    P = np.zeros((n_voxels, n_feature_groups, n_feature_groups))\n",
    "    idI = 0\n",
    "    for i in feat_use:\n",
    "        idJ = 0\n",
    "        for j in feat_use:\n",
    "            # err is the trialwise, voxelwise, error for each model.\n",
    "            # P will store the summed products of the error for each pair of models \n",
    "            # (if i=j, then it's the summed squared error).\n",
    "            P[:, idI, idJ] = np.mean(train_err[i] * train_err[j], 0)\n",
    "            idJ += 1\n",
    "        idI += 1\n",
    "\n",
    "    idI = 0\n",
    "    idJ = 0\n",
    "\n",
    "    # PROGRAMATICALLY SET THIS FROM THE NUMBER OF FEATURES\n",
    "    q = matrix(np.zeros((n_feature_groups)))\n",
    "    G = matrix(-np.eye(n_feature_groups, n_feature_groups))\n",
    "    h = matrix(np.zeros(n_feature_groups))\n",
    "    A = matrix(np.ones((1, n_feature_groups)))\n",
    "    b = matrix(np.ones(1))\n",
    "\n",
    "    # Stacking weights will be stored here\n",
    "    S = np.zeros((n_voxels, n_feature_groups))\n",
    "\n",
    "    for vv in range(0, n_voxels):\n",
    "        if debug and vv>1:\n",
    "            continue\n",
    "            \n",
    "        print('Solving for stacking weights for voxel %d of %d'%(vv, n_voxels))\n",
    "        PP = matrix(P[vv])\n",
    "        # solve for stacking weights for every voxel\n",
    "        # This essentially is minimizing the quantity x.T @ PP @ x, subject to the constraint that\n",
    "        # the elements of x have to be positive, and have to sum to 1. \n",
    "        # x will be the weights for the stacking model.\n",
    "        # Weights will be dependent on the error of each model individually (this is contained in PP).\n",
    "        S[vv, :] = np.array(solvers.qp(PP, q, G, h, A, b)[\"x\"]).reshape(n_feature_groups,)\n",
    "        if vv==0:\n",
    "            print('Stacking weights matrix is size:')\n",
    "            print(S.shape)\n",
    "            \n",
    "        # Combine the predictions from the individual feature spaces for voxel i\n",
    "        z = np.array([preds_val[feature_j][:, vv] for feature_j in feat_use])\n",
    "        # multiply the predictions by S[vv,:]\n",
    "        stacked_pred_val[:, vv] = np.dot(S[vv, :], z)\n",
    "        \n",
    "        # Same thing for the training trials\n",
    "        z = np.array([preds_train[feature_j][:, vv] for feature_j in feat_use])\n",
    "        stacked_pred_train[:, vv] = np.dot(S[vv, :], z)\n",
    "        \n",
    "        sys.stdout.flush()\n",
    "        \n",
    "    print('Computing performance of stacked models')\n",
    "    # Compute r2 of the stacked model for training data\n",
    "    stacked_r2_train = get_r2(train_data, stacked_pred_train)\n",
    "    stacked_cc_train = get_corrcoef(train_data, stacked_pred_train)\n",
    "    stacked_r2_train = np.nan_to_num(stacked_r2_train)\n",
    "    stacked_cc_train = np.nan_to_num(stacked_cc_train) \n",
    "    \n",
    "    # And for validation data\n",
    "    stacked_r2_val = get_r2(val_data, stacked_pred_val)\n",
    "    stacked_cc_val = get_corrcoef(val_data, stacked_pred_val)\n",
    "    stacked_r2_val = np.nan_to_num(stacked_r2_val)\n",
    "    stacked_cc_val = np.nan_to_num(stacked_cc_val) \n",
    "    \n",
    "    return S, stacked_r2_train, stacked_cc_train, stacked_r2_val, stacked_cc_val\n",
    "\n"
   ]
  }
 ],
 "metadata": {
  "kernelspec": {
   "display_name": "Python 3",
   "language": "python",
   "name": "python3"
  },
  "language_info": {
   "codemirror_mode": {
    "name": "ipython",
    "version": 3
   },
   "file_extension": ".py",
   "mimetype": "text/x-python",
   "name": "python",
   "nbconvert_exporter": "python",
   "pygments_lexer": "ipython3",
   "version": "3.7.1"
  }
 },
 "nbformat": 4,
 "nbformat_minor": 5
}
