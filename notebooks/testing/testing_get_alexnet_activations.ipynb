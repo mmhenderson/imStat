{
 "cells": [
  {
   "cell_type": "code",
   "execution_count": 1,
   "id": "bf537cb0",
   "metadata": {},
   "outputs": [],
   "source": [
    "\n",
    "import sys\n",
    "import os\n",
    "import numpy as np\n",
    "import struct\n",
    "import time\n",
    "import torch\n",
    "import argparse\n",
    "import copy\n",
    "from collections import OrderedDict\n",
    "import torchvision.models as models\n",
    "\n",
    "sys.path.append('/user_data/mmhender/imStat/code/')\n",
    "from utils import default_paths, torch_utils, nsd_utils\n",
    "from model_fitting import initialize_fitting\n",
    "\n",
    "alexnet_conv_layer_names = ['Conv1','Conv1_ReLU','Conv1_MaxPool', \\\n",
    "                       'Conv2','Conv2_ReLU','Conv2_MaxPool', \\\n",
    "                       'Conv3','Conv3_ReLU', \\\n",
    "                       'Conv4','Conv4_ReLU', \\\n",
    "                       'Conv5','Conv5_ReLU','Conv5_MaxPool']\n",
    "\n",
    "alexnet_fc_layer_names = ['Dropout6','FC6','FC6_ReLU','Dropout7','FC7','FC7_ReLU','FC8']\n",
    "\n",
    "# Define sets of alexnet layers\n",
    "n_feature_layers = len(alexnet_conv_layer_names)\n",
    "n_classif_layers = len(alexnet_fc_layer_names)\n",
    "n_total_layers = n_feature_layers + n_classif_layers\n",
    "alexnet_layer_names = copy.deepcopy(alexnet_conv_layer_names)\n",
    "alexnet_layer_names.extend(alexnet_fc_layer_names)\n"
   ]
  },
  {
   "cell_type": "code",
   "execution_count": 2,
   "id": "9852dfca",
   "metadata": {
    "scrolled": true
   },
   "outputs": [
    {
     "name": "stdout",
     "output_type": "stream",
     "text": [
      "#device: 1\n",
      "device#: 0\n",
      "device name: GeForce GTX TITAN X\n",
      "\n",
      "torch: 1.8.1+cu111\n",
      "cuda:  11.1\n",
      "cudnn: 8005\n",
      "dtype: torch.float32\n"
     ]
    }
   ],
   "source": [
    "print ('#device:', torch.cuda.device_count())\n",
    "print ('device#:', torch.cuda.current_device())\n",
    "print ('device name:', torch.cuda.get_device_name(torch.cuda.current_device()))\n",
    "\n",
    "torch.manual_seed(time.time())\n",
    "device = torch.device(\"cuda:0\") #cuda\n",
    "torch.backends.cudnn.enabled=True\n",
    "\n",
    "print ('\\ntorch:', torch.__version__)\n",
    "print ('cuda: ', torch.version.cuda)\n",
    "print ('cudnn:', torch.backends.cudnn.version())\n",
    "print ('dtype:', torch.get_default_dtype())\n",
    "#torch.set_default_dtype(torch.float64)"
   ]
  },
  {
   "cell_type": "code",
   "execution_count": 37,
   "id": "1debad99",
   "metadata": {},
   "outputs": [],
   "source": [
    "def get_NCHW_coords(shape, order='F'):\n",
    "    \n",
    "    \"\"\"\n",
    "    Return coordinates (channel index, position in width dimension, position in height dimension) of feature map units. \n",
    "    For feature maps that originally had NCHW shape specified in 'shape', and have been reshaped into a long list of all features.\n",
    "    Can specify which way the array was reshaped (i.e. when combining all features into a single list) as 'F' or 'C' \n",
    "    (see np.reshape for meaning of these)\n",
    "    \"\"\"\n",
    "    \n",
    "    N = shape[0]\n",
    "    C = shape[1]\n",
    "    H = shape[2]\n",
    "    W = shape[3]\n",
    "    if order=='F':\n",
    "        clabs = np.expand_dims(np.tile(np.arange(0,C), W*H), axis=1)\n",
    "        wlabs = np.expand_dims(np.repeat(np.arange(0,W),C*H),axis=1)  \n",
    "        hlabs = np.expand_dims(np.repeat(np.tile(np.expand_dims(np.arange(0,H),axis=1),[W,1]), C),axis=1)        \n",
    "    elif order=='C':\n",
    "        clabs = np.expand_dims(np.repeat(np.arange(0,C), W*H), axis=1)        \n",
    "        wlabs = np.expand_dims(np.tile(np.arange(0,W),C*H),axis=1)  \n",
    "        hlabs = np.expand_dims(np.repeat(np.tile(np.expand_dims(np.arange(0,H),axis=1),[C,1]), W),axis=1)       \n",
    "       \n",
    "    # the coords matrix goes [nUnits x 3] where columns are [H,W,C]\n",
    "    coords = np.concatenate((clabs,hlabs,wlabs),axis=1) \n",
    "    print(len(np.unique(coords, axis=0)))\n",
    "    assert(len(np.unique(coords, axis=0))==C*H*W)\n",
    "\n",
    "    return coords"
   ]
  },
  {
   "cell_type": "code",
   "execution_count": 36,
   "id": "95b000db",
   "metadata": {},
   "outputs": [
    {
     "name": "stdout",
     "output_type": "stream",
     "text": [
      "60\n",
      "(6, 5, 4, 3)\n",
      "0.3581937444865425\n",
      "(6, 60)\n",
      "0.3581937444865425\n"
     ]
    }
   ],
   "source": [
    "# Testing this function.\n",
    "\n",
    "order='F'\n",
    "order='C'\n",
    "\n",
    "shap = [6,5,4,3]\n",
    "image_ind = 1\n",
    "coord_ind = 12\n",
    "\n",
    "coords = get_NCHW_coords(shap, order=order)\n",
    "\n",
    "\n",
    "thing = np.random.normal(0,1,shap)\n",
    "print(thing.shape)\n",
    "print(thing[image_ind,coords[coord_ind,0],coords[coord_ind,1],coords[coord_ind,2]])\n",
    "\n",
    "thingr = np.reshape(thing, [6,-1], order=order)\n",
    "print(thingr.shape)\n",
    "print(thingr[image_ind,coord_ind])"
   ]
  },
  {
   "cell_type": "code",
   "execution_count": 38,
   "id": "db2e7c39",
   "metadata": {},
   "outputs": [],
   "source": [
    "def get_alexnet_nsd_activations(layer_name, nsd_indices, batch_size=100, debug=False, device=None):\n",
    "\n",
    "    \"\"\"\n",
    "    Get activations for images in NSD, passed through pretrained AlexNet.\n",
    "    Specify which NSD images to look at, and which layer to return.\n",
    "    \"\"\"\n",
    "\n",
    "    if device is None:\n",
    "        device = torch.device('cpu:0')\n",
    "       \n",
    "    # first loading pre-trained model from torch model zoo\n",
    "    model = models.alexnet(pretrained=True).double().to(device)\n",
    "    model.eval()\n",
    "    model_name='AlexNet'\n",
    "    \n",
    "    dset = nsd_utils.nsd_dataset(transform=nsd_utils.get_transform(224), device=device, nsd_inds_include=nsd_indices)\n",
    "    dloader = nsd_utils.nsd_dataloader(dset, batch_size=batch_size, shuffle=False)\n",
    "    dgenerator = iter(dloader)\n",
    "    n_batches = dloader.n_batches\n",
    "    n_total_images = len(dset)\n",
    "    \n",
    "    layer_index = np.where(np.array(alexnet_layer_names)==layer_name)[0][0]\n",
    "    is_fc = 'FC' in layer_name or 'fc' in layer_name\n",
    "    \n",
    "    # first making this subfunction that is needed to get the activation on a forward pass\n",
    "    def get_activ_fwd_hook(ii):\n",
    "        def hook(self, input, output):            \n",
    "            print('hook for %s'%layer_name)           \n",
    "            activ[ii] = torch_utils.get_value(output)\n",
    "            print(output.shape)\n",
    "        return hook\n",
    "    \n",
    "    for bb in range(n_batches):\n",
    "        if bb>1 and debug:\n",
    "            break\n",
    "\n",
    "        print('\\nGetting activs for batch %d of %d'%(bb, n_batches))\n",
    "        curr_batch = next(dgenerator)\n",
    "\n",
    "        # get image and labels for this batch\n",
    "        # image_tensors is [batch_size x 3 x 224 x 224]\n",
    "        image_tensors =  curr_batch['image']\n",
    "        activ = list([[]])\n",
    "        hook = None\n",
    "\n",
    "        model.eval()\n",
    "\n",
    "        # adding this \"hook\" to the module corresponding to each layer, so we'll save activations at each layer\n",
    "        # this only modifies the \"graph\" e.g. what the model code does when run, but doesn't actually run it yet.\n",
    "        ii=0\n",
    "        if not is_fc:\n",
    "            hook = model.features[layer_index].register_forward_hook(get_activ_fwd_hook(ii))\n",
    "        else:\n",
    "            hook = model.classifier[layer_index-n_feature_layers].register_forward_hook(get_activ_fwd_hook(ii))\n",
    "\n",
    "        # do the forward pass of model, which now includes the forward hooks\n",
    "        # now the \"activ\" variable will get modified, because it gets altered during the hook function\n",
    "        model(image_tensors)\n",
    "        print(activ[ii].shape)\n",
    "        hook.remove()\n",
    "        \n",
    "        if bb==0:\n",
    "            activ_all = np.zeros([n_total_images, np.prod(activ[ii].shape[1:])])\n",
    "            if not is_fc:\n",
    "                coords = get_NCHW_coords(activ[ii].shape, order='F')\n",
    "            else:\n",
    "                coords = np.expand_dims(np.arange(0,np.prod(activ[ii].shape[1:])), axis=1)\n",
    "#         print(activ_all.shape)        \n",
    "#         print(np.reshape(activ[ii], [batch_size_actual, -1], order='F').shape)\n",
    "        # full activ here is NCHW format: Batch Size x Channels x Height (top to bottom) x Width (left to right)\n",
    "        # new activ will be nIms x nFeatures\n",
    "        batch_size_actual = activ[ii].shape[0]\n",
    "        activ_all[bb*batch_size:(bb+1)*batch_size,:] = np.reshape(activ[ii], [batch_size_actual, -1], order='F')\n",
    "  \n",
    "    return activ_all, coords\n"
   ]
  },
  {
   "cell_type": "code",
   "execution_count": 41,
   "id": "9abe9ee0",
   "metadata": {},
   "outputs": [
    {
     "name": "stdout",
     "output_type": "stream",
     "text": [
      "#device: 1\n",
      "device#: 0\n",
      "device name: GeForce GTX TITAN X\n",
      "\n",
      "torch: 1.8.1+cu111\n",
      "cuda:  11.1\n",
      "cudnn: 8005\n",
      "dtype: torch.float32\n",
      "initializing iterator at first batch for nsd dataset\n",
      "initializing iterator at first batch for nsd dataset\n",
      "\n",
      "Getting activs for batch 0 of 2\n",
      "\n",
      "Loading images from brick file at /lab_data/tarrlab/common/datasets/NSD/nsddata_stimuli/stimuli/nsd/nsd_stimuli.hdf5\n",
      "elapsed time (loading ims): 0.00\n",
      "block size: (10, 425, 425, 3) , dtype: uint8 , value range: 0 255\n",
      "\n",
      "Before transformation:\n",
      "block size: torch.Size([10, 3, 425, 425]) , dtype: torch.float64 , device: cuda:0 , value range: ( 0.0 1.0 )\n",
      "\n",
      "After transformation:\n",
      "block size: torch.Size([10, 3, 224, 224]) , dtype: torch.float64 , device: cuda:0 , value range: ( -2.1176664750234155 2.6381327600484634 )\n",
      "hook for Conv1\n",
      "torch.Size([10, 64, 55, 55])\n",
      "(10, 64, 55, 55)\n",
      "193600\n",
      "\n",
      "Getting activs for batch 1 of 2\n",
      "\n",
      "Loading images from brick file at /lab_data/tarrlab/common/datasets/NSD/nsddata_stimuli/stimuli/nsd/nsd_stimuli.hdf5\n",
      "elapsed time (loading ims): 0.00\n",
      "block size: (5, 425, 425, 3) , dtype: uint8 , value range: 0 255\n",
      "\n",
      "Before transformation:\n",
      "block size: torch.Size([5, 3, 425, 425]) , dtype: torch.float64 , device: cuda:0 , value range: ( 0.0 1.0 )\n",
      "\n",
      "After transformation:\n",
      "block size: torch.Size([5, 3, 224, 224]) , dtype: torch.float64 , device: cuda:0 , value range: ( -2.1176654511422472 2.6399999999999997 )\n",
      "hook for Conv1\n",
      "torch.Size([5, 64, 55, 55])\n",
      "(5, 64, 55, 55)\n"
     ]
    }
   ],
   "source": [
    "debug=True\n",
    "batch_size=10\n",
    "\n",
    "device = initialize_fitting.init_cuda()\n",
    "save_activ_dir = default_paths.alexnet_activ_path\n",
    "\n",
    "layer_name = alexnet_layer_names[0]\n",
    "nsd_indices = np.arange(0,15)\n",
    "\n",
    "activ_all, coords = get_alexnet_nsd_activations(layer_name, nsd_indices, batch_size=batch_size, debug=debug, device=device)\n",
    "    "
   ]
  },
  {
   "cell_type": "code",
   "execution_count": 44,
   "id": "c2b07c62",
   "metadata": {},
   "outputs": [
    {
     "data": {
      "text/plain": [
       "array([[ 0.10294267, -7.74049302, -1.10614025, ...,  9.20178958,\n",
       "        -2.66798662,  0.39063138],\n",
       "       [-0.55865028, -9.07925466, -0.33250228, ..., -1.4809709 ,\n",
       "        -0.34680771, -0.2029671 ],\n",
       "       [-3.79777378,  0.30770858,  2.21982316, ..., -2.63813201,\n",
       "         0.17459358,  0.28763262],\n",
       "       ...,\n",
       "       [-0.44539814, -5.33055049, -0.48034564, ...,  2.59915765,\n",
       "        -0.6873804 ,  0.2110964 ],\n",
       "       [-1.65875898,  0.18734353,  1.10895879, ..., -6.15296477,\n",
       "         0.07651833, -0.21054986],\n",
       "       [-1.19561475,  4.34638999, -0.16303708, ..., -9.77393091,\n",
       "        -1.43407062, -0.84796302]])"
      ]
     },
     "execution_count": 44,
     "metadata": {},
     "output_type": "execute_result"
    }
   ],
   "source": [
    "activ_all"
   ]
  },
  {
   "cell_type": "code",
   "execution_count": 24,
   "id": "03d8c228",
   "metadata": {},
   "outputs": [
    {
     "name": "stdout",
     "output_type": "stream",
     "text": [
      "(1000000, 100, 10)\n",
      "8000000136\n",
      "8000000000\n",
      "8.0\n"
     ]
    }
   ],
   "source": [
    "# a = np.random.normal(0,1,(1000,64,55,55))\n",
    "a = np.random.normal(0,1,(1000000,100,10))\n",
    "print(a.dtype)\n",
    "print(a.shape)\n",
    "print(sys.getsizeof(a))\n",
    "print(a.nbytes)\n",
    "print(a.nbytes/10**9)\n",
    "\n",
    "tstsave = os.path.join('/user_data/mmhender/imStat/notebooks/testing/tst.npy')\n",
    "np.save(tstsave, a)"
   ]
  },
  {
   "cell_type": "code",
   "execution_count": 27,
   "id": "8ed503e2",
   "metadata": {},
   "outputs": [
    {
     "name": "stdout",
     "output_type": "stream",
     "text": [
      "float32\n",
      "(1000000, 100, 10)\n",
      "4000000136\n",
      "4000000000\n",
      "4.0\n"
     ]
    }
   ],
   "source": [
    "a=a.astype('float32')\n",
    "print(a.dtype)\n",
    "print(a.shape)\n",
    "print(sys.getsizeof(a))\n",
    "print(a.nbytes)\n",
    "print(a.nbytes/10**9)"
   ]
  },
  {
   "cell_type": "code",
   "execution_count": 43,
   "id": "c0b8324e",
   "metadata": {},
   "outputs": [
    {
     "data": {
      "text/plain": [
       "7.744"
      ]
     },
     "execution_count": 43,
     "metadata": {},
     "output_type": "execute_result"
    }
   ],
   "source": [
    "a = np.full(shape=(10000,64,55,55), fill_value=1, dtype='float32')\n",
    "get_size_gb(a)"
   ]
  },
  {
   "cell_type": "code",
   "execution_count": 31,
   "id": "a64eb15f",
   "metadata": {},
   "outputs": [],
   "source": [
    "def get_size_gb(numpy_array):\n",
    "    \n",
    "    return numpy_array.nbytes/10**9"
   ]
  },
  {
   "cell_type": "code",
   "execution_count": 36,
   "id": "444e36f3",
   "metadata": {},
   "outputs": [],
   "source": [
    "thing = np.load(os.path.join('/lab_data/tarrlab/common/datasets/features/NSD/alexnet', 'feat_alexnet_conv1_avgpool.npy'))"
   ]
  },
  {
   "cell_type": "code",
   "execution_count": 40,
   "id": "53164638",
   "metadata": {},
   "outputs": [
    {
     "name": "stdout",
     "output_type": "stream",
     "text": [
      "float32\n",
      "(73000, 9216)\n",
      "2.691072\n"
     ]
    }
   ],
   "source": [
    "print(thing.dtype)\n",
    "print(thing.shape)\n",
    "print(get_size_gb(thing))"
   ]
  },
  {
   "cell_type": "code",
   "execution_count": 41,
   "id": "d70c9ca8",
   "metadata": {},
   "outputs": [
    {
     "data": {
      "text/plain": [
       "144.0"
      ]
     },
     "execution_count": 41,
     "metadata": {},
     "output_type": "execute_result"
    }
   ],
   "source": [
    "64*55*55/"
   ]
  },
  {
   "cell_type": "code",
   "execution_count": 26,
   "id": "35a97272",
   "metadata": {},
   "outputs": [],
   "source": [
    "tstsave = os.path.join('/user_data/mmhender/imStat/notebooks/testing/tst.npy')\n",
    "np.save(tstsave, a.astype('float32'))"
   ]
  },
  {
   "cell_type": "code",
   "execution_count": 44,
   "id": "aa0af290",
   "metadata": {},
   "outputs": [
    {
     "data": {
      "text/plain": [
       "AlexNet(\n",
       "  (features): Sequential(\n",
       "    (0): Conv2d(3, 64, kernel_size=(11, 11), stride=(4, 4), padding=(2, 2))\n",
       "    (1): ReLU(inplace=True)\n",
       "    (2): MaxPool2d(kernel_size=3, stride=2, padding=0, dilation=1, ceil_mode=False)\n",
       "    (3): Conv2d(64, 192, kernel_size=(5, 5), stride=(1, 1), padding=(2, 2))\n",
       "    (4): ReLU(inplace=True)\n",
       "    (5): MaxPool2d(kernel_size=3, stride=2, padding=0, dilation=1, ceil_mode=False)\n",
       "    (6): Conv2d(192, 384, kernel_size=(3, 3), stride=(1, 1), padding=(1, 1))\n",
       "    (7): ReLU(inplace=True)\n",
       "    (8): Conv2d(384, 256, kernel_size=(3, 3), stride=(1, 1), padding=(1, 1))\n",
       "    (9): ReLU(inplace=True)\n",
       "    (10): Conv2d(256, 256, kernel_size=(3, 3), stride=(1, 1), padding=(1, 1))\n",
       "    (11): ReLU(inplace=True)\n",
       "    (12): MaxPool2d(kernel_size=3, stride=2, padding=0, dilation=1, ceil_mode=False)\n",
       "  )\n",
       "  (avgpool): AdaptiveAvgPool2d(output_size=(6, 6))\n",
       "  (classifier): Sequential(\n",
       "    (0): Dropout(p=0.5, inplace=False)\n",
       "    (1): Linear(in_features=9216, out_features=4096, bias=True)\n",
       "    (2): ReLU(inplace=True)\n",
       "    (3): Dropout(p=0.5, inplace=False)\n",
       "    (4): Linear(in_features=4096, out_features=4096, bias=True)\n",
       "    (5): ReLU(inplace=True)\n",
       "    (6): Linear(in_features=4096, out_features=1000, bias=True)\n",
       "  )\n",
       ")"
      ]
     },
     "execution_count": 44,
     "metadata": {},
     "output_type": "execute_result"
    }
   ],
   "source": [
    "model = models.alexnet(pretrained=True).double().to(device)\n",
    "model"
   ]
  },
  {
   "cell_type": "code",
   "execution_count": 49,
   "id": "2d9661d6",
   "metadata": {},
   "outputs": [],
   "source": []
  },
  {
   "cell_type": "code",
   "execution_count": 19,
   "id": "36687b2b",
   "metadata": {},
   "outputs": [
    {
     "data": {
      "text/plain": [
       "[[], [], [], [], [], [], [], [], []]"
      ]
     },
     "execution_count": 19,
     "metadata": {},
     "output_type": "execute_result"
    }
   ],
   "source": []
  },
  {
   "cell_type": "code",
   "execution_count": 33,
   "id": "4e24f4b2",
   "metadata": {},
   "outputs": [],
   "source": [
    "\n",
    "def merge_alexnet_nsd_activations(save_activ_dir, n_batches, batch_size, alexnet_layer_names, layers2save=None, debug=False):\n",
    "\n",
    "    \"\"\"\n",
    "    Take the output of \"get_alexnet_nsd_activations\", restructure it into big arrays, and save.\n",
    "    \"\"\"\n",
    "    \n",
    "    # figure out number of images/number of batches based on dim of the input\n",
    "#     nbatches = len(all_activ)\n",
    "    batch_size = np.shape(all_activ[0][0])[0]\n",
    "    nims = (nbatches-1)*batch_size + np.shape(all_activ[nbatches-1][0])[0]\n",
    "    nlayers = len(all_activ[0])\n",
    "    \n",
    "    if layers2save is None:\n",
    "        layers2save = np.arange(0,nlayers)\n",
    "    elif isinstance(layers2save,list):\n",
    "        layers2save = np.array(layers2save)\n",
    "\n",
    "    print('Going to save activs for layers:')\n",
    "    print(np.array(alexnet_layer_names)[layers2save])\n",
    "    \n",
    "    model_name='AlexNet'\n",
    "\n",
    "    # looping over layers, will save separate files for each layer\n",
    "    for ll in range(nlayers):\n",
    "        if ll in layers2save:\n",
    "\n",
    "            # going to loop over batches and put the whole big matrix back together \n",
    "            if len(all_activ[0][ll].shape)==2:\n",
    "                activ= np.zeros([nims, np.shape(all_activ[0][ll])[1]])\n",
    "            else:\n",
    "                activ= np.zeros([nims, np.shape(all_activ[0][ll])[1], \n",
    "                                 np.shape(all_activ[0][ll])[2],np.shape(all_activ[0][ll])[3]])\n",
    "            for bb in range(nbatches):\n",
    "                if bb>1 and debug:\n",
    "                    break\n",
    "                if len(all_activ[0][ll].shape)==2:\n",
    "                    activ[bb*batch_size:(bb+1)*batch_size,:] = torch_utils.get_value(all_activ[bb][ll])\n",
    "                else:\n",
    "                    activ[bb*batch_size:(bb+1)*batch_size,:,:,:] = torch_utils.get_value(all_activ[bb][ll])\n",
    "\n",
    "            # note these are very big files! probably don't want to save every layer.\n",
    "            print('\\nsaving activs for layer %s, size is:'%alexnet_layer_names[ll])\n",
    "            print(np.shape(activ))\n",
    "            fn2save = os.path.join(save_activ_dir, '%s_%s_fullactiv.npy'%(model_name,alexnet_layer_names[ll]))\n",
    "            np.save(fn2save, activ)\n",
    "            print('saved!')\n",
    "            \n",
    "        else:\n",
    "            continue\n",
    "            \n",
    "    print('done saving!')\n",
    "    "
   ]
  },
  {
   "cell_type": "code",
   "execution_count": null,
   "id": "58888f03",
   "metadata": {},
   "outputs": [],
   "source": [
    "def get_alexnet_nsd_activations(save_activ_dir, batch_size=100, nsd_inds_include=None, debug=False, device=None):\n",
    "\n",
    "    \"\"\"\n",
    "    Get activations for images in NSD, passed through pretrained AlexNet.\n",
    "    can specify which nsd images to look at - if nsd_inds_include=None, then using all.\n",
    "    Returns a nested ordered dict of activations, put this into array format with 'save_alexnet_nsd_activations'\n",
    "    \"\"\"\n",
    "\n",
    "    if device is None:\n",
    "        device = torch.device('cpu:0')\n",
    "        \n",
    "    # first loading pre-trained model from torch model zoo\n",
    "    model = models.alexnet(pretrained=True).double().to(device)\n",
    "    model.eval()\n",
    "\n",
    "    dset = nsd_utils.nsd_dataset(transform=nsd_utils.get_transform(224), device=device, nsd_inds_include=nsd_inds_include)\n",
    "    dloader = nsd_utils.nsd_dataloader(dset, batch_size=batch_size, shuffle=False)\n",
    "    dgenerator = iter(dloader)\n",
    "    n_batches = dloader.n_batches\n",
    "\n",
    "    # will loop over all the layers in the \"features\" module (which is a Sequential container of modules)\n",
    "    n_feature_layers = len(alexnet_conv_layer_names)\n",
    "    n_classif_layers = len(alexnet_fc_layer_names)\n",
    "    n_total_layers = n_feature_layers + n_classif_layers\n",
    "    alexnet_layer_names = copy.deepcopy(alexnet_conv_layer_names)\n",
    "    alexnet_layer_names.extend(alexnet_fc_layer_names)\n",
    "\n",
    "    # first making this subfunction that is needed to get the activation on a forward pass\n",
    "    def get_activ_fwd_hook(ii):\n",
    "        def hook(self, input, output):            \n",
    "#             print('hook for %s'%alexnet_layer_names[ii])           \n",
    "#             activ[ii] = output\n",
    "            activ[ii] = torch_utils.get_value(output)\n",
    "#             print(output.shape)\n",
    "        return hook\n",
    "    \n",
    "    # initialize this - will be big nested ordereddict to store all activs\n",
    "#     all_activ = [[np.zeros((n_total_images, )]\n",
    "#     all_activ = list([[] for ii in range(n_batches)])\n",
    "#     n_total_images = \n",
    "#     all_activ = np.zeros((n_total_images))\n",
    "\n",
    "    for bb in range(n_batches):\n",
    "        if bb>1 and debug:\n",
    "            break\n",
    "\n",
    "        print('\\nGetting activs for batch %d of %d'%(bb, n_batches))\n",
    "        curr_batch = next(dgenerator)\n",
    "\n",
    "        # get image and labels for this batch\n",
    "        # image_tensors is [batch_size x 3 x 224 x 224]\n",
    "        image_tensors =  curr_batch['image']\n",
    "        hooks = list([[] for ii in range(n_total_layers)])\n",
    "        activ = list([[] for ii in range(n_total_layers)])\n",
    "\n",
    "        model.eval()\n",
    "        # adding this \"hook\" to the module corresponding to each layer, so we'll save activations at each layer\n",
    "        # this only modifies the \"graph\" e.g. what the model code does when run, but doesn't actually run it yet.\n",
    "        for ii in range(n_total_layers):  \n",
    "            if ii<n_feature_layers:\n",
    "                hooks[ii] = model.features[ii].register_forward_hook(get_activ_fwd_hook(ii))\n",
    "            else:\n",
    "                hooks[ii] = model.classifier[ii-n_feature_layers].register_forward_hook(get_activ_fwd_hook(ii))\n",
    "\n",
    "        # do the forward pass of model, which now includes the forward hooks\n",
    "        # now the \"activ\" variable will get modified, because it gets altered during the hook function\n",
    "        model(image_tensors)\n",
    "\n",
    "#         all_activ[bb] = activ\n",
    "        \n",
    "#         if bb==0:\n",
    "#             if np.shape(activ)\n",
    "#             all_activ.append(np.w)\n",
    "        # removing the hooks now, because otherwise they get added multiple times\n",
    "        for ii in range(n_total_layers):\n",
    "            hooks[ii].remove()\n",
    "            \n",
    "        # now save the files (temporarily)\n",
    "        for ll in range(nlayers):\n",
    "            if ll in layers2save:\n",
    "                # note these are very big files! probably don't want to save every layer.\n",
    "                print('\\nsaving activs for layer %s, size is:'%alexnet_layer_names[ll])\n",
    "                print(np.shape(activ))\n",
    "                fn2save = os.path.join(save_activ_dir, 'batches_tmp','batch%d_%s_%s_fullactiv.npy'%(bb,model_name,alexnet_layer_names[ll]))\n",
    "                np.save(fn2save, activ[ll])\n",
    "                print('saved!')\n",
    "            else:\n",
    "                continue\n"
   ]
  },
  {
   "cell_type": "code",
   "execution_count": 17,
   "id": "057762aa",
   "metadata": {},
   "outputs": [
    {
     "data": {
      "text/plain": [
       "torch.Size([100, 4096])"
      ]
     },
     "execution_count": 17,
     "metadata": {},
     "output_type": "execute_result"
    }
   ],
   "source": [
    "all_activ[0][18].shape"
   ]
  },
  {
   "cell_type": "code",
   "execution_count": 34,
   "id": "db4a88b5",
   "metadata": {},
   "outputs": [
    {
     "name": "stdout",
     "output_type": "stream",
     "text": [
      "initializing iterator at first batch for nsd dataset\n",
      "initializing iterator at first batch for nsd dataset\n",
      "\n",
      "Getting activs for batch 0 of 730\n",
      "\n",
      "Loading images from brick file at /lab_data/tarrlab/common/datasets/NSD/nsddata_stimuli/stimuli/nsd/nsd_stimuli.hdf5\n",
      "elapsed time (loading ims): 0.08\n",
      "block size: (100, 425, 425, 3) , dtype: uint8 , value range: 0 255\n",
      "\n",
      "Before transformation:\n",
      "block size: torch.Size([100, 3, 425, 425]) , dtype: torch.float64 , device: cpu , value range: ( 0.0 1.0 )\n",
      "\n",
      "After transformation:\n",
      "block size: torch.Size([100, 3, 224, 224]) , dtype: torch.float64 , device: cpu , value range: ( -2.1176664750234155 2.6381327600484634 )\n",
      "\n",
      "Getting activs for batch 1 of 730\n",
      "\n",
      "Loading images from brick file at /lab_data/tarrlab/common/datasets/NSD/nsddata_stimuli/stimuli/nsd/nsd_stimuli.hdf5\n",
      "elapsed time (loading ims): 0.08\n",
      "block size: (100, 425, 425, 3) , dtype: uint8 , value range: 0 255\n",
      "\n",
      "Before transformation:\n",
      "block size: torch.Size([100, 3, 425, 425]) , dtype: torch.float64 , device: cpu , value range: ( 0.0 1.0 )\n",
      "\n",
      "After transformation:\n",
      "block size: torch.Size([100, 3, 224, 224]) , dtype: torch.float64 , device: cpu , value range: ( -2.093236670350454 2.6083811024409758 )\n"
     ]
    }
   ],
   "source": [
    "all_activ, alexnet_layer_names = get_alexnet_nsd_activations(batch_size=100, nsd_inds_include=None, debug=True)"
   ]
  },
  {
   "cell_type": "code",
   "execution_count": 35,
   "id": "13c533ff",
   "metadata": {},
   "outputs": [
    {
     "name": "stdout",
     "output_type": "stream",
     "text": [
      "Going to save activs for layers:\n",
      "['Conv1_ReLU' 'Conv2_ReLU' 'Conv3_ReLU' 'Conv4_ReLU' 'Conv5_ReLU'\n",
      " 'FC6_ReLU' 'FC7_ReLU']\n",
      "\n",
      "saving activs for layer Conv1_ReLU, size is:\n",
      "(200, 64, 55, 55)\n",
      "saved!\n",
      "\n",
      "saving activs for layer Conv2_ReLU, size is:\n",
      "(200, 192, 27, 27)\n",
      "saved!\n",
      "\n",
      "saving activs for layer Conv3_ReLU, size is:\n",
      "(200, 384, 13, 13)\n",
      "saved!\n",
      "\n",
      "saving activs for layer Conv4_ReLU, size is:\n",
      "(200, 256, 13, 13)\n",
      "saved!\n",
      "\n",
      "saving activs for layer Conv5_ReLU, size is:\n",
      "(200, 256, 13, 13)\n",
      "saved!\n",
      "\n",
      "saving activs for layer FC6_ReLU, size is:\n",
      "(200, 4096)\n",
      "saved!\n",
      "\n",
      "saving activs for layer FC7_ReLU, size is:\n",
      "(200, 4096)\n",
      "saved!\n",
      "done saving!\n"
     ]
    }
   ],
   "source": [
    "save_activ_dir = default_paths.alexnet_activ_path\n",
    "layers2save = [1,4,7,9,11,15,18]\n",
    "save_alexnet_nsd_activations(save_activ_dir=save_activ_dir, all_activ=all_activ, alexnet_layer_names=alexnet_layer_names, layers2save = layers2save, debug=True)"
   ]
  },
  {
   "cell_type": "code",
   "execution_count": 12,
   "id": "3149ac8b",
   "metadata": {},
   "outputs": [
    {
     "name": "stdout",
     "output_type": "stream",
     "text": [
      "loading images from brick file at /lab_data/tarrlab/common/datasets/NSD/nsddata_stimuli/stimuli/nsd/nsd_stimuli.hdf5\n",
      "elapsed time (loading ims): 0.15\n",
      "block size: (200, 425, 425, 3) , dtype: uint8 , value range: 0 255\n",
      "elapsed time is 3.55580\n"
     ]
    }
   ],
   "source": [
    "nd = nsd_dataset(transform=get_transform(224), device=device)\n",
    "nd.nsd_brick_file\n",
    "t = time.time()\n",
    "item = nd[np.arange(0,200)]\n",
    "elapsed = time.time()-t\n",
    "print('elapsed time is %.5f'%elapsed)"
   ]
  },
  {
   "cell_type": "code",
   "execution_count": 31,
   "id": "392056a7",
   "metadata": {},
   "outputs": [
    {
     "data": {
      "text/plain": [
       "Index(['cocoId', 'cocoSplit', 'cropBox', 'loss', 'nsdId', 'flagged',\n",
       "       'BOLD5000', 'shared1000', 'subject1', 'subject2', 'subject3',\n",
       "       'subject4', 'subject5', 'subject6', 'subject7', 'subject8',\n",
       "       'subject1_rep0', 'subject1_rep1', 'subject1_rep2', 'subject2_rep0',\n",
       "       'subject2_rep1', 'subject2_rep2', 'subject3_rep0', 'subject3_rep1',\n",
       "       'subject3_rep2', 'subject4_rep0', 'subject4_rep1', 'subject4_rep2',\n",
       "       'subject5_rep0', 'subject5_rep1', 'subject5_rep2', 'subject6_rep0',\n",
       "       'subject6_rep1', 'subject6_rep2', 'subject7_rep0', 'subject7_rep1',\n",
       "       'subject7_rep2', 'subject8_rep0', 'subject8_rep1', 'subject8_rep2'],\n",
       "      dtype='object')"
      ]
     },
     "execution_count": 31,
     "metadata": {},
     "output_type": "execute_result"
    }
   ],
   "source": [
    "nd.stim_info.keys()"
   ]
  },
  {
   "cell_type": "code",
   "execution_count": 37,
   "id": "e00222a5",
   "metadata": {},
   "outputs": [
    {
     "name": "stdout",
     "output_type": "stream",
     "text": [
      "[   10    12   200     1     5 70000]\n",
      "initializing iterator at first batch for nsd dataset\n",
      "initializing iterator at first batch for nsd dataset\n",
      "batch inds:\n",
      "[0 1 2 3 4]\n",
      "5\n",
      "sample inds:\n",
      "[0 1 2 3 4]\n",
      "5\n",
      "[ 10  12 200   1   5]\n",
      "loading images from brick file at /lab_data/tarrlab/common/datasets/NSD/nsddata_stimuli/stimuli/nsd/nsd_stimuli.hdf5\n",
      "elapsed time (loading ims): 0.01\n",
      "block size: (5, 425, 425, 3) , dtype: float64 , value range: 0.0 255.0\n",
      "\n",
      "Before transformation:\n",
      "block size: torch.Size([5, 3, 425, 425]) , dtype: torch.float64 , device: cuda:0 , value range: ( 0.0 1.0 )\n",
      "\n",
      "After transformation:\n",
      "block size: torch.Size([5, 3, 224, 224]) , dtype: torch.float64 , device: cuda:0 , value range: ( -2.1176654511422472 2.6399999999999997 )\n",
      "elapsed time is 0.03068\n",
      "10     376856\n",
      "12     372349\n",
      "200    459662\n",
      "1      245764\n",
      "5      475150\n",
      "Name: cocoId, dtype: int64\n",
      "10      10\n",
      "12      12\n",
      "200    200\n",
      "1        1\n",
      "5        5\n",
      "Name: nsdId, dtype: int64\n"
     ]
    }
   ],
   "source": [
    "\n",
    "nd = nsd_dataset(transform=get_transform(224), device=device, nsd_inds_include = np.array((10,12,200,1,5,70000)))\n",
    "batch_size=5\n",
    "dloader = nsd_dataloader(nd, batch_size=batch_size, shuffle=False)\n",
    "dgenerator = iter(dloader)\n",
    "\n",
    "t = time.time()\n",
    "item = next(dgenerator)\n",
    "elapsed = time.time()-t\n",
    "print('elapsed time is %.5f'%elapsed)\n",
    "\n",
    "print(item['coco_id'])\n",
    "print(item['nsd_id'])\n",
    "# t = time.time()\n",
    "# next(dgenerator)\n",
    "# elapsed = time.time()-t\n",
    "# print('elapsed time is %.5f'%elapsed)\n",
    "\n",
    "# t = time.time()\n",
    "# next(dgenerator)\n",
    "# elapsed = time.time()-t\n",
    "# print('elapsed time is %.5f'%elapsed)"
   ]
  },
  {
   "cell_type": "code",
   "execution_count": 42,
   "id": "cec422e6",
   "metadata": {},
   "outputs": [
    {
     "name": "stdout",
     "output_type": "stream",
     "text": [
      "[    0     1     2 ... 72997 72998 72999]\n",
      "initializing iterator at first batch for nsd dataset\n",
      "initializing iterator at first batch for nsd dataset\n",
      "batch inds:\n",
      "[0 1 2 3 4]\n",
      "5\n",
      "sample inds:\n",
      "[0 1 2 3 4]\n",
      "5\n",
      "[0 1 2 3 4]\n",
      "loading images from brick file at /lab_data/tarrlab/common/datasets/NSD/nsddata_stimuli/stimuli/nsd/nsd_stimuli.hdf5\n",
      "elapsed time (loading ims): 0.00\n",
      "block size: (5, 425, 425, 3) , dtype: uint8 , value range: 0 255\n",
      "\n",
      "Before transformation:\n",
      "block size: torch.Size([5, 3, 425, 425]) , dtype: torch.float64 , device: cuda:0 , value range: ( 0.0 1.0 )\n",
      "\n",
      "After transformation:\n",
      "block size: torch.Size([5, 3, 224, 224]) , dtype: torch.float64 , device: cuda:0 , value range: ( -2.1176664750234155 2.6381327600484634 )\n",
      "elapsed time is 0.02393\n",
      "0    532481\n",
      "1    245764\n",
      "2    385029\n",
      "3    311303\n",
      "4    393226\n",
      "Name: cocoId, dtype: int64\n",
      "0    0\n",
      "1    1\n",
      "2    2\n",
      "3    3\n",
      "4    4\n",
      "Name: nsdId, dtype: int64\n"
     ]
    }
   ],
   "source": [
    "\n",
    "nd = nsd_dataset(transform=get_transform(224), device=device)\n",
    "batch_size=5\n",
    "dloader = nsd_dataloader(nd, batch_size=batch_size, shuffle=False)\n",
    "dgenerator = iter(dloader)\n",
    "\n",
    "t = time.time()\n",
    "item = next(dgenerator)\n",
    "elapsed = time.time()-t\n",
    "print('elapsed time is %.5f'%elapsed)\n",
    "\n",
    "print(item['coco_id'])\n",
    "print(item['nsd_id'])\n",
    "# t = time.time()\n",
    "# next(dgenerator)\n",
    "# elapsed = time.time()-t\n",
    "# print('elapsed time is %.5f'%elapsed)\n",
    "\n",
    "# t = time.time()\n",
    "# next(dgenerator)\n",
    "# elapsed = time.time()-t\n",
    "# print('elapsed time is %.5f'%elapsed)"
   ]
  },
  {
   "cell_type": "code",
   "execution_count": 39,
   "id": "af27d993",
   "metadata": {},
   "outputs": [
    {
     "data": {
      "text/plain": [
       "2"
      ]
     },
     "execution_count": 39,
     "metadata": {},
     "output_type": "execute_result"
    }
   ],
   "source": [
    "len(dgenerator)"
   ]
  },
  {
   "cell_type": "code",
   "execution_count": 28,
   "id": "de4db930",
   "metadata": {},
   "outputs": [
    {
     "data": {
      "text/plain": [
       "10       376856\n",
       "12       372349\n",
       "200      459662\n",
       "1        245764\n",
       "5        475150\n",
       "70000    244206\n",
       "Name: cocoId, dtype: int64"
      ]
     },
     "execution_count": 28,
     "metadata": {},
     "output_type": "execute_result"
    }
   ],
   "source": [
    "stim_info['cocoId'][np.array((10,12,200,1,5,70000))]"
   ]
  },
  {
   "cell_type": "code",
   "execution_count": null,
   "id": "48c07c16",
   "metadata": {},
   "outputs": [],
   "source": [
    "for bb in dloader.n_batches:\n",
    "    \n",
    "    next(iter(dloader))"
   ]
  },
  {
   "cell_type": "code",
   "execution_count": null,
   "id": "7f84f45d",
   "metadata": {},
   "outputs": [],
   "source": [
    "np.all(np.diff(nsd_indices)==1) or len(nsd_indices)==1"
   ]
  },
  {
   "cell_type": "code",
   "execution_count": 40,
   "id": "8a6205fe",
   "metadata": {},
   "outputs": [],
   "source": [
    "#"
   ]
  },
  {
   "cell_type": "code",
   "execution_count": 180,
   "id": "662ea8b5",
   "metadata": {},
   "outputs": [
    {
     "data": {
      "text/plain": [
       "365.0"
      ]
     },
     "execution_count": 180,
     "metadata": {},
     "output_type": "execute_result"
    }
   ],
   "source": [
    "73000/200"
   ]
  },
  {
   "cell_type": "code",
   "execution_count": 170,
   "id": "1a8c3cb1",
   "metadata": {},
   "outputs": [],
   "source": [
    "\n",
    "# create a dataloader object that breaks whole set into smaller batches\n",
    "batch_size=200\n",
    "# note this is NOT shuffled, so we will know exactly which images are in which batch\n",
    "dloader = DataLoader(nd, batch_size = batch_size, shuffle=False)\n",
    "dgenerator = iter(dloader)\n",
    "nbatches = len(dloader)\n"
   ]
  },
  {
   "cell_type": "code",
   "execution_count": 41,
   "id": "b2be8cae",
   "metadata": {},
   "outputs": [
    {
     "name": "stdout",
     "output_type": "stream",
     "text": [
      "elapsed time is 0.00004\n"
     ]
    }
   ],
   "source": [
    "t=time.time()\n",
    "# dgenerator.next()\n",
    "elapsed = time.time()-t\n",
    "print('elapsed time is %.5f'%elapsed)"
   ]
  },
  {
   "cell_type": "code",
   "execution_count": 113,
   "id": "cef7b2bf",
   "metadata": {},
   "outputs": [
    {
     "data": {
      "text/plain": [
       "<matplotlib.colorbar.Colorbar at 0x7f8f30d44ac8>"
      ]
     },
     "execution_count": 113,
     "metadata": {},
     "output_type": "execute_result"
    },
    {
     "data": {
      "image/png": "[encoded data removed]",
      "text/plain": [
       "<Figure size 432x288 with 2 Axes>"
      ]
     },
     "metadata": {
      "needs_background": "light"
     },
     "output_type": "display_data"
    }
   ],
   "source": [
    "im1 = torch_utils.get_value(item['image'][2,0])\n",
    "np.mean(im1)\n",
    "\n",
    "plt.figure();\n",
    "plt.imshow(im1);\n",
    "plt.colorbar()"
   ]
  },
  {
   "cell_type": "code",
   "execution_count": 114,
   "id": "4c2248a2",
   "metadata": {},
   "outputs": [
    {
     "data": {
      "text/plain": [
       "(array([ 1530.,  6500.,  5317.,  3741.,  5514., 13281.,  9594.,  3237.,\n",
       "         1239.,   223.]),\n",
       " array([-2.11741016, -1.68121756, -1.24502496, -0.80883236, -0.37263976,\n",
       "         0.06355284,  0.49974544,  0.93593804,  1.37213064,  1.80832325,\n",
       "         2.24451585]),\n",
       " <BarContainer object of 10 artists>)"
      ]
     },
     "execution_count": 114,
     "metadata": {},
     "output_type": "execute_result"
    },
    {
     "data": {
      "image/png": "[encoded data removed]",
      "text/plain": [
       "<Figure size 432x288 with 1 Axes>"
      ]
     },
     "metadata": {
      "needs_background": "light"
     },
     "output_type": "display_data"
    }
   ],
   "source": [
    "plt.figure();\n",
    "plt.hist(np.ravel(im1))"
   ]
  },
  {
   "cell_type": "code",
   "execution_count": 137,
   "id": "da11f5eb",
   "metadata": {},
   "outputs": [
    {
     "data": {
      "text/plain": [
       "torch.Size([10, 1, 3, 224, 224])"
      ]
     },
     "execution_count": 137,
     "metadata": {},
     "output_type": "execute_result"
    }
   ],
   "source": [
    "\n",
    "t = time.time()\n",
    "item = next(dgenerator)\n",
    "elapsed = time.time()-t\n",
    "print('elapsed time is %.5f'%elapsed)"
   ]
  },
  {
   "cell_type": "code",
   "execution_count": 67,
   "id": "cd8cc227",
   "metadata": {},
   "outputs": [
    {
     "data": {
      "text/plain": [
       "Sequential(\n",
       "  (0): Dropout(p=0.5, inplace=False)\n",
       "  (1): Linear(in_features=9216, out_features=4096, bias=True)\n",
       "  (2): ReLU(inplace=True)\n",
       "  (3): Dropout(p=0.5, inplace=False)\n",
       "  (4): Linear(in_features=4096, out_features=4096, bias=True)\n",
       "  (5): ReLU(inplace=True)\n",
       "  (6): Linear(in_features=4096, out_features=1000, bias=True)\n",
       ")"
      ]
     },
     "execution_count": 67,
     "metadata": {},
     "output_type": "execute_result"
    }
   ],
   "source": [
    "model.classifier"
   ]
  },
  {
   "cell_type": "code",
   "execution_count": 66,
   "id": "e4cb48bb",
   "metadata": {},
   "outputs": [
    {
     "data": {
      "text/plain": [
       "Sequential(\n",
       "  (0): Conv2d(3, 64, kernel_size=(11, 11), stride=(4, 4), padding=(2, 2))\n",
       "  (1): ReLU(inplace=True)\n",
       "  (2): MaxPool2d(kernel_size=3, stride=2, padding=0, dilation=1, ceil_mode=False)\n",
       "  (3): Conv2d(64, 192, kernel_size=(5, 5), stride=(1, 1), padding=(2, 2))\n",
       "  (4): ReLU(inplace=True)\n",
       "  (5): MaxPool2d(kernel_size=3, stride=2, padding=0, dilation=1, ceil_mode=False)\n",
       "  (6): Conv2d(192, 384, kernel_size=(3, 3), stride=(1, 1), padding=(1, 1))\n",
       "  (7): ReLU(inplace=True)\n",
       "  (8): Conv2d(384, 256, kernel_size=(3, 3), stride=(1, 1), padding=(1, 1))\n",
       "  (9): ReLU(inplace=True)\n",
       "  (10): Conv2d(256, 256, kernel_size=(3, 3), stride=(1, 1), padding=(1, 1))\n",
       "  (11): ReLU(inplace=True)\n",
       "  (12): MaxPool2d(kernel_size=3, stride=2, padding=0, dilation=1, ceil_mode=False)\n",
       ")"
      ]
     },
     "execution_count": 66,
     "metadata": {},
     "output_type": "execute_result"
    }
   ],
   "source": [
    "model.features"
   ]
  },
  {
   "cell_type": "code",
   "execution_count": 76,
   "id": "4126729b",
   "metadata": {},
   "outputs": [
    {
     "data": {
      "text/plain": [
       "20"
      ]
     },
     "execution_count": 76,
     "metadata": {},
     "output_type": "execute_result"
    }
   ],
   "source": [
    "n_feature_layers"
   ]
  },
  {
   "cell_type": "code",
   "execution_count": 18,
   "id": "bd6f9802",
   "metadata": {},
   "outputs": [
    {
     "name": "stdout",
     "output_type": "stream",
     "text": [
      "Conv1\n",
      "torch.Size([100, 64, 55, 55])\n",
      "Conv1_ReLU\n",
      "torch.Size([100, 64, 55, 55])\n",
      "Conv1_MaxPool\n",
      "torch.Size([100, 64, 27, 27])\n",
      "Conv2\n",
      "torch.Size([100, 192, 27, 27])\n",
      "Conv2_ReLU\n",
      "torch.Size([100, 192, 27, 27])\n",
      "Conv2_MaxPool\n",
      "torch.Size([100, 192, 13, 13])\n",
      "Conv3\n",
      "torch.Size([100, 384, 13, 13])\n",
      "Conv3_ReLU\n",
      "torch.Size([100, 384, 13, 13])\n",
      "Conv4\n",
      "torch.Size([100, 256, 13, 13])\n",
      "Conv4_ReLU\n",
      "torch.Size([100, 256, 13, 13])\n",
      "Conv5\n",
      "torch.Size([100, 256, 13, 13])\n",
      "Conv5_ReLU\n",
      "torch.Size([100, 256, 13, 13])\n",
      "Conv5_MaxPool\n",
      "torch.Size([100, 256, 6, 6])\n",
      "Dropout6\n",
      "torch.Size([100, 9216])\n",
      "FC6\n",
      "torch.Size([100, 4096])\n",
      "FC6_ReLU\n",
      "torch.Size([100, 4096])\n",
      "Dropout7\n",
      "torch.Size([100, 4096])\n",
      "FC7\n",
      "torch.Size([100, 4096])\n",
      "FC7_ReLU\n",
      "torch.Size([100, 4096])\n",
      "FC8\n",
      "torch.Size([100, 1000])\n"
     ]
    }
   ],
   "source": [
    "for ll in range(len(alexnet_layer_names)):\n",
    "    print(alexnet_layer_names[ll])\n",
    "    print(all_activ[0][ll].shape)"
   ]
  },
  {
   "cell_type": "code",
   "execution_count": 19,
   "id": "fd6b31db",
   "metadata": {},
   "outputs": [
    {
     "data": {
      "text/plain": [
       "2"
      ]
     },
     "execution_count": 19,
     "metadata": {},
     "output_type": "execute_result"
    }
   ],
   "source": [
    "len(all_activ[0][ll].shape)"
   ]
  }
 ],
 "metadata": {
  "kernelspec": {
   "display_name": "Python 3",
   "language": "python",
   "name": "python3"
  },
  "language_info": {
   "codemirror_mode": {
    "name": "ipython",
    "version": 3
   },
   "file_extension": ".py",
   "mimetype": "text/x-python",
   "name": "python",
   "nbconvert_exporter": "python",
   "pygments_lexer": "ipython3",
   "version": "3.7.1"
  }
 },
 "nbformat": 4,
 "nbformat_minor": 5
}
