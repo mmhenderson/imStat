{
 "cells": [
  {
   "cell_type": "code",
   "execution_count": 18,
   "id": "1e64f2f9",
   "metadata": {},
   "outputs": [
    {
     "name": "stdout",
     "output_type": "stream",
     "text": [
      "(10000, 641, 1114)\n",
      "Took 89.05967 seconds to load file\n"
     ]
    },
    {
     "data": {
      "text/plain": [
       "array([[ 4.52046663e-01,  8.41336176e-02,  1.08330309e-01, ...,\n",
       "        -3.33649991e-03, -2.58855941e-03,  1.36148639e-03],\n",
       "       [ 3.89485002e-01,  7.25870132e-02,  3.76383066e-01, ...,\n",
       "        -1.61202811e-03, -1.41469855e-03,  5.11511171e-05],\n",
       "       [ 6.30354822e-01,  1.81474369e-02, -1.31636858e+00, ...,\n",
       "         2.13078863e-04,  8.57799139e-04,  1.28161605e-03],\n",
       "       ...,\n",
       "       [ 2.04624474e-01,  3.10997497e-02,  2.27002358e+00, ...,\n",
       "         1.56933675e-04,  2.54149054e-04, -6.39250575e-05],\n",
       "       [ 5.46117723e-01,  7.27616698e-02, -7.43180513e-01, ...,\n",
       "        -6.03583816e-04,  5.44253213e-04,  2.51140073e-03],\n",
       "       [ 2.91480720e-01,  3.64610516e-02,  8.07258010e-01, ...,\n",
       "        -4.48623847e-04, -5.60720764e-06,  1.02754519e-03]])"
      ]
     },
     "execution_count": 18,
     "metadata": {},
     "output_type": "execute_result"
    }
   ],
   "source": [
    "import h5py\n",
    "import time\n",
    "import numpy as np\n",
    "\n",
    "fn = '/user_data/mmhender/features/pyramid_texture/S1_features_each_prf_4ori_4sf_grid3.h5py'\n",
    "# fn = '/user_data/mmhender/features/sketch_tokens/S1_features_each_prf_grid4.h5py'\n",
    "t = time.time()\n",
    "with h5py.File(fn, 'r') as data_set:\n",
    "    print(data_set['/features'].shape)\n",
    "    values = np.copy(data_set['/features'][:,:,900])\n",
    "    \n",
    "    data_set.close() \n",
    "elapsed = time.time() - t\n",
    "print('Took %.5f seconds to load file'%elapsed)\n",
    "\n",
    "values"
   ]
  },
  {
   "cell_type": "code",
   "execution_count": 11,
   "id": "7f53e923",
   "metadata": {},
   "outputs": [],
   "source": [
    "import torch\n",
    "thing = torch.load('/user_data/mmhender/imStat/model_fits/S01/sketch_tokens/Nov-04-2021_0115_51/all_fit_params')\n",
    "                   "
   ]
  },
  {
   "cell_type": "code",
   "execution_count": 8,
   "id": "8e852c86",
   "metadata": {},
   "outputs": [
    {
     "data": {
      "text/plain": [
       "3"
      ]
     },
     "execution_count": 8,
     "metadata": {},
     "output_type": "execute_result"
    }
   ],
   "source": [
    "thing['which_prf_grid']"
   ]
  },
  {
   "cell_type": "code",
   "execution_count": 9,
   "id": "831beee2",
   "metadata": {},
   "outputs": [],
   "source": [
    "thing = torch.load('/user_data/mmhender/imStat/model_fits/S01/sketch_tokens/Nov-03-2021_1939_00/all_fit_params')\n"
   ]
  },
  {
   "cell_type": "code",
   "execution_count": 10,
   "id": "a992a3de",
   "metadata": {},
   "outputs": [
    {
     "data": {
      "text/plain": [
       "3"
      ]
     },
     "execution_count": 10,
     "metadata": {},
     "output_type": "execute_result"
    }
   ],
   "source": [
    "thing['which_prf_grid']"
   ]
  },
  {
   "cell_type": "code",
   "execution_count": 13,
   "id": "f54dd74d",
   "metadata": {},
   "outputs": [
    {
     "data": {
      "text/plain": [
       "(1114, 3)"
      ]
     },
     "execution_count": 13,
     "metadata": {},
     "output_type": "execute_result"
    }
   ],
   "source": [
    "thing['models'].shape"
   ]
  }
 ],
 "metadata": {
  "kernelspec": {
   "display_name": "Python 3",
   "language": "python",
   "name": "python3"
  },
  "language_info": {
   "codemirror_mode": {
    "name": "ipython",
    "version": 3
   },
   "file_extension": ".py",
   "mimetype": "text/x-python",
   "name": "python",
   "nbconvert_exporter": "python",
   "pygments_lexer": "ipython3",
   "version": "3.7.1"
  }
 },
 "nbformat": 4,
 "nbformat_minor": 5
}
