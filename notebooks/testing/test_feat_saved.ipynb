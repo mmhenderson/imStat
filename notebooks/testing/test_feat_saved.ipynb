{
 "cells": [
  {
   "cell_type": "code",
   "execution_count": 16,
   "id": "b78bc52b",
   "metadata": {},
   "outputs": [
    {
     "name": "stdout",
     "output_type": "stream",
     "text": [
      "(10000, 641, 1684)\n",
      "Took 177.04977 seconds to load file\n"
     ]
    },
    {
     "data": {
      "text/plain": [
       "array([[ 4.16415066e-01,  9.09044072e-02,  4.59312588e-01, ...,\n",
       "         1.06103730e-03,  1.95454154e-03,  6.08158240e-04],\n",
       "       [ 3.44673097e-01,  5.49562648e-02,  4.56028581e-01, ...,\n",
       "        -1.34354644e-03, -1.97047507e-03,  1.37371896e-03],\n",
       "       [ 5.94552875e-01,  1.37478728e-02, -2.91111767e-01, ...,\n",
       "        -2.61576090e-04, -1.79742608e-04,  6.55574040e-05],\n",
       "       ...,\n",
       "       [ 2.32561976e-01,  6.31573945e-02,  9.95919704e-01, ...,\n",
       "         4.50909865e-04,  3.83792358e-04, -3.49073031e-04],\n",
       "       [ 5.66214800e-01,  7.35960454e-02, -8.24019790e-01, ...,\n",
       "         1.76712626e-03,  1.61567179e-03,  9.28799855e-04],\n",
       "       [ 2.62730122e-01,  4.71838117e-02,  7.70779848e-01, ...,\n",
       "        -1.76993679e-04, -9.65679355e-05,  2.06515688e-05]])"
      ]
     },
     "execution_count": 16,
     "metadata": {},
     "output_type": "execute_result"
    }
   ],
   "source": [
    "import h5py\n",
    "import time\n",
    "import numpy as np\n",
    "\n",
    "fn = '/user_data/mmhender/features/pyramid_texture/S1_features_each_prf_4ori_4sf_grid4.h5py'\n",
    "# fn = '/user_data/mmhender/features/sketch_tokens/S1_features_each_prf_grid4.h5py'\n",
    "t = time.time()\n",
    "with h5py.File(fn, 'r') as data_set:\n",
    "    print(data_set['/features'].shape)\n",
    "    values = np.copy(data_set['/features'][:,:,1500])\n",
    "    \n",
    "    data_set.close() \n",
    "elapsed = time.time() - t\n",
    "print('Took %.5f seconds to load file'%elapsed)\n",
    "\n",
    "values"
   ]
  },
  {
   "cell_type": "code",
   "execution_count": 11,
   "id": "a2adbceb",
   "metadata": {},
   "outputs": [],
   "source": [
    "import torch\n",
    "thing = torch.load('/user_data/mmhender/imStat/model_fits/S01/sketch_tokens/Nov-04-2021_0115_51/all_fit_params')\n",
    "                   "
   ]
  },
  {
   "cell_type": "code",
   "execution_count": 8,
   "id": "6269690d",
   "metadata": {},
   "outputs": [
    {
     "data": {
      "text/plain": [
       "3"
      ]
     },
     "execution_count": 8,
     "metadata": {},
     "output_type": "execute_result"
    }
   ],
   "source": [
    "thing['which_prf_grid']"
   ]
  },
  {
   "cell_type": "code",
   "execution_count": 9,
   "id": "fa880ddd",
   "metadata": {},
   "outputs": [],
   "source": [
    "thing = torch.load('/user_data/mmhender/imStat/model_fits/S01/sketch_tokens/Nov-03-2021_1939_00/all_fit_params')\n"
   ]
  },
  {
   "cell_type": "code",
   "execution_count": 10,
   "id": "44ba1dd0",
   "metadata": {},
   "outputs": [
    {
     "data": {
      "text/plain": [
       "3"
      ]
     },
     "execution_count": 10,
     "metadata": {},
     "output_type": "execute_result"
    }
   ],
   "source": [
    "thing['which_prf_grid']"
   ]
  },
  {
   "cell_type": "code",
   "execution_count": 13,
   "id": "d7cec2d9",
   "metadata": {},
   "outputs": [
    {
     "data": {
      "text/plain": [
       "(1114, 3)"
      ]
     },
     "execution_count": 13,
     "metadata": {},
     "output_type": "execute_result"
    }
   ],
   "source": [
    "thing['models'].shape"
   ]
  }
 ],
 "metadata": {
  "kernelspec": {
   "display_name": "Python 3",
   "language": "python",
   "name": "python3"
  },
  "language_info": {
   "codemirror_mode": {
    "name": "ipython",
    "version": 3
   },
   "file_extension": ".py",
   "mimetype": "text/x-python",
   "name": "python",
   "nbconvert_exporter": "python",
   "pygments_lexer": "ipython3",
   "version": "3.7.1"
  }
 },
 "nbformat": 4,
 "nbformat_minor": 5
}
