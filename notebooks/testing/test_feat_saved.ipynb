{
 "cells": [
  {
   "cell_type": "code",
   "execution_count": 1,
   "id": "2d0180c1",
   "metadata": {},
   "outputs": [],
   "source": [
    "import h5py\n",
    "import time\n",
    "import numpy as np"
   ]
  },
  {
   "cell_type": "code",
   "execution_count": 19,
   "id": "d3c7322b",
   "metadata": {},
   "outputs": [],
   "source": [
    "import sys\n",
    "sys.path.append('/user_data/mmhender/imStat/code')\n",
    "from utils import default_paths, torch_utils\n",
    "alexnet_feat_path = default_paths.alexnet_feat_path\n",
    "from feature_extraction import extract_alexnet_features\n",
    "alexnet_layer_names  = extract_alexnet_features.alexnet_layer_names\n",
    "n_features_each_layer = extract_alexnet_features.n_features_each_layer\n",
    "n_features_each_conv_layer = np.array(n_features_each_layer)[[0,3,6,8,10]]\n"
   ]
  },
  {
   "cell_type": "code",
   "execution_count": 32,
   "id": "284a53cb",
   "metadata": {},
   "outputs": [
    {
     "data": {
      "text/plain": [
       "256"
      ]
     },
     "execution_count": 32,
     "metadata": {},
     "output_type": "execute_result"
    }
   ],
   "source": [
    "layer_name = 'Conv5_ReLU'\n",
    "layer_ind = np.where([layer_name==a for a in alexnet_layer_names])[0][0]\n",
    "n_features = n_features_each_layer[layer_ind]\n",
    "n_features"
   ]
  },
  {
   "cell_type": "code",
   "execution_count": null,
   "id": "8888ebfe",
   "metadata": {},
   "outputs": [],
   "source": []
  },
  {
   "cell_type": "code",
   "execution_count": 23,
   "id": "fefd9b2d",
   "metadata": {},
   "outputs": [
    {
     "data": {
      "text/plain": [
       "array([ 64, 192, 384, 256, 256])"
      ]
     },
     "execution_count": 23,
     "metadata": {},
     "output_type": "execute_result"
    }
   ],
   "source": [
    "n_features_each_conv_layer"
   ]
  },
  {
   "cell_type": "code",
   "execution_count": 33,
   "id": "2663bc3e",
   "metadata": {},
   "outputs": [
    {
     "data": {
      "text/plain": [
       "4"
      ]
     },
     "execution_count": 33,
     "metadata": {},
     "output_type": "execute_result"
    }
   ],
   "source": [
    "thing = np.load('/user_data/mmhender/features/alexnet/PCA/S1_Conv5_ReLU_reflect_PCA_grid5.npy', allow_pickle=True).item()\n",
    "len(thing)"
   ]
  },
  {
   "cell_type": "code",
   "execution_count": 37,
   "id": "0240ea74",
   "metadata": {},
   "outputs": [
    {
     "data": {
      "text/plain": [
       "array([10.65921018,  9.12704504,  6.82578433,  5.86768018,  4.10458271,\n",
       "        3.77086435,  2.94552876,  2.77036935,  2.54095377,  2.25131669,\n",
       "        2.15204078,  2.09023986,  1.88605626,  1.78459746,  1.60203153,\n",
       "        1.56450253,  1.40537405,  1.32529805,  1.21248032,  1.1808592 ,\n",
       "        1.16631347,  1.02679477,  0.94018071,  0.92075687,  0.91498053,\n",
       "        0.89659724,  0.84008568,  0.78308307,  0.77586108,  0.74835052,\n",
       "        0.72796603,  0.70791987,  0.67316675,  0.66389788,  0.63665009,\n",
       "        0.61408536,  0.58307404,  0.56916286,  0.54287948,  0.53851429,\n",
       "        0.53220415,  0.50014204,  0.49626051,  0.47717274,  0.46665622,\n",
       "        0.45328805,  0.43532197,  0.43112208,  0.41918914,  0.40554264,\n",
       "        0.40147422,  0.38750104,  0.38306851,  0.37550485,  0.36649125,\n",
       "        0.3524414 ,  0.34992323,  0.34790978,  0.34380652,  0.33198522,\n",
       "        0.33098749,  0.32505638,  0.31454304,  0.31208772,  0.30121908,\n",
       "        0.29515563,  0.29130454,  0.28747054,  0.28041961,  0.27566133,\n",
       "        0.26988407,  0.26757407,  0.25699821,  0.25437095,  0.25144306,\n",
       "        0.24641194,  0.24448138,  0.24110792,  0.2367612 ,  0.23333637,\n",
       "        0.22988285,  0.2262658 ,  0.21950857,  0.21587979,  0.21265791,\n",
       "        0.21054595,  0.20686208,  0.20106419,  0.19814683,  0.19438979,\n",
       "        0.19263702,  0.18715531,  0.18587861,  0.18189445,  0.17907628,\n",
       "        0.17450967,  0.17207252,  0.1700587 ,  0.16699332,  0.16410425])"
      ]
     },
     "execution_count": 37,
     "metadata": {},
     "output_type": "execute_result"
    }
   ],
   "source": [
    "thing['ev'][1]"
   ]
  },
  {
   "cell_type": "code",
   "execution_count": 13,
   "id": "d9e99e13",
   "metadata": {},
   "outputs": [
    {
     "data": {
      "text/plain": [
       "4"
      ]
     },
     "execution_count": 13,
     "metadata": {},
     "output_type": "execute_result"
    }
   ],
   "source": [
    "thing = np.load('/user_data/mmhender/features/sketch_tokens/PCA/S1_PCA_grid5.npy', allow_pickle=True).item()\n",
    "len(thing)"
   ]
  },
  {
   "cell_type": "code",
   "execution_count": 14,
   "id": "a210e243",
   "metadata": {},
   "outputs": [
    {
     "data": {
      "text/plain": [
       "1456"
      ]
     },
     "execution_count": 14,
     "metadata": {},
     "output_type": "execute_result"
    }
   ],
   "source": [
    "len(thing['scores'])"
   ]
  },
  {
   "cell_type": "code",
   "execution_count": 12,
   "id": "61efe824",
   "metadata": {},
   "outputs": [
    {
     "name": "stdout",
     "output_type": "stream",
     "text": [
      "(10000, 384, 1456)\n"
     ]
    }
   ],
   "source": [
    "fn = '/user_data/mmhender/features/alexnet/S1_Conv3_ReLU_reflect_features_each_prf_grid5.h5py'\n",
    "with h5py.File(fn,'r') as data_set:\n",
    "    dsize = data_set['/features'].shape\n",
    "print(dsize)"
   ]
  },
  {
   "cell_type": "code",
   "execution_count": 18,
   "id": "3d5998b5",
   "metadata": {},
   "outputs": [
    {
     "name": "stdout",
     "output_type": "stream",
     "text": [
      "(10000, 641, 1114)\n",
      "Took 89.05967 seconds to load file\n"
     ]
    },
    {
     "data": {
      "text/plain": [
       "array([[ 4.52046663e-01,  8.41336176e-02,  1.08330309e-01, ...,\n",
       "        -3.33649991e-03, -2.58855941e-03,  1.36148639e-03],\n",
       "       [ 3.89485002e-01,  7.25870132e-02,  3.76383066e-01, ...,\n",
       "        -1.61202811e-03, -1.41469855e-03,  5.11511171e-05],\n",
       "       [ 6.30354822e-01,  1.81474369e-02, -1.31636858e+00, ...,\n",
       "         2.13078863e-04,  8.57799139e-04,  1.28161605e-03],\n",
       "       ...,\n",
       "       [ 2.04624474e-01,  3.10997497e-02,  2.27002358e+00, ...,\n",
       "         1.56933675e-04,  2.54149054e-04, -6.39250575e-05],\n",
       "       [ 5.46117723e-01,  7.27616698e-02, -7.43180513e-01, ...,\n",
       "        -6.03583816e-04,  5.44253213e-04,  2.51140073e-03],\n",
       "       [ 2.91480720e-01,  3.64610516e-02,  8.07258010e-01, ...,\n",
       "        -4.48623847e-04, -5.60720764e-06,  1.02754519e-03]])"
      ]
     },
     "execution_count": 18,
     "metadata": {},
     "output_type": "execute_result"
    }
   ],
   "source": [
    "fn = '/user_data/mmhender/features/pyramid_texture/S1_features_each_prf_4ori_4sf_grid3.h5py'\n",
    "# fn = '/user_data/mmhender/features/sketch_tokens/S1_features_each_prf_grid4.h5py'\n",
    "t = time.time()\n",
    "with h5py.File(fn, 'r') as data_set:\n",
    "    print(data_set['/features'].shape)\n",
    "    values = np.copy(data_set['/features'][:,:,900])\n",
    "    \n",
    "    data_set.close() \n",
    "elapsed = time.time() - t\n",
    "print('Took %.5f seconds to load file'%elapsed)\n",
    "\n",
    "values"
   ]
  },
  {
   "cell_type": "code",
   "execution_count": 11,
   "id": "a53103b1",
   "metadata": {},
   "outputs": [],
   "source": [
    "import torch\n",
    "thing = torch.load('/user_data/mmhender/imStat/model_fits/S01/sketch_tokens/Nov-04-2021_0115_51/all_fit_params')\n",
    "                   "
   ]
  },
  {
   "cell_type": "code",
   "execution_count": 8,
   "id": "cc7a273d",
   "metadata": {},
   "outputs": [
    {
     "data": {
      "text/plain": [
       "3"
      ]
     },
     "execution_count": 8,
     "metadata": {},
     "output_type": "execute_result"
    }
   ],
   "source": [
    "thing['which_prf_grid']"
   ]
  },
  {
   "cell_type": "code",
   "execution_count": 9,
   "id": "4f301527",
   "metadata": {},
   "outputs": [],
   "source": [
    "thing = torch.load('/user_data/mmhender/imStat/model_fits/S01/sketch_tokens/Nov-03-2021_1939_00/all_fit_params')\n"
   ]
  },
  {
   "cell_type": "code",
   "execution_count": 10,
   "id": "8df54a98",
   "metadata": {},
   "outputs": [
    {
     "data": {
      "text/plain": [
       "3"
      ]
     },
     "execution_count": 10,
     "metadata": {},
     "output_type": "execute_result"
    }
   ],
   "source": [
    "thing['which_prf_grid']"
   ]
  },
  {
   "cell_type": "code",
   "execution_count": 13,
   "id": "bb224094",
   "metadata": {},
   "outputs": [
    {
     "data": {
      "text/plain": [
       "(1114, 3)"
      ]
     },
     "execution_count": 13,
     "metadata": {},
     "output_type": "execute_result"
    }
   ],
   "source": [
    "thing['models'].shape"
   ]
  }
 ],
 "metadata": {
  "kernelspec": {
   "display_name": "Python 3",
   "language": "python",
   "name": "python3"
  },
  "language_info": {
   "codemirror_mode": {
    "name": "ipython",
    "version": 3
   },
   "file_extension": ".py",
   "mimetype": "text/x-python",
   "name": "python",
   "nbconvert_exporter": "python",
   "pygments_lexer": "ipython3",
   "version": "3.7.1"
  }
 },
 "nbformat": 4,
 "nbformat_minor": 5
}
