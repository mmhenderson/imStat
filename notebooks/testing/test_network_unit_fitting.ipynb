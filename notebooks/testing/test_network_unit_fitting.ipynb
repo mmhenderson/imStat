{
 "cells": [
  {
   "cell_type": "code",
   "execution_count": 1,
   "id": "2ebf7739",
   "metadata": {},
   "outputs": [],
   "source": [
    "import sys\n",
    "import os\n",
    "import struct\n",
    "import time\n",
    "import numpy as np\n",
    "import h5py\n",
    "from scipy.io import loadmat\n",
    "from scipy.stats import pearsonr\n",
    "from tqdm import tqdm\n",
    "import pickle\n",
    "import math\n",
    "import matplotlib.pyplot as plt\n",
    "from matplotlib import cm\n",
    "import seaborn as sns\n",
    "%matplotlib inline\n",
    "\n",
    "sys.path.append('/user_data/mmhender/toolboxes/coco_annot/cocoapi/PythonAPI')\n",
    "from pycocotools.coco import COCO\n",
    "\n",
    "fpX = np.float32\n",
    "\n",
    "import torch \n",
    "sys.path.append('/user_data/mmhender/imStat/code/')\n",
    "from utils import numpy_utility, torch_utils, file_utility, load_nsd, roi_utils, default_paths\n",
    "from model_fitting import initialize_fitting\n",
    "from model_src import alexnet_features"
   ]
  },
  {
   "cell_type": "code",
   "execution_count": 2,
   "id": "058b9534",
   "metadata": {
    "scrolled": true
   },
   "outputs": [
    {
     "name": "stdout",
     "output_type": "stream",
     "text": [
      "#device: 1\n",
      "device#: 0\n",
      "device name: GeForce GTX TITAN X\n",
      "\n",
      "torch: 1.8.1+cu111\n",
      "cuda:  11.1\n",
      "cudnn: 8005\n",
      "dtype: torch.float32\n"
     ]
    }
   ],
   "source": [
    "print ('#device:', torch.cuda.device_count())\n",
    "print ('device#:', torch.cuda.current_device())\n",
    "print ('device name:', torch.cuda.get_device_name(torch.cuda.current_device()))\n",
    "\n",
    "torch.manual_seed(time.time())\n",
    "device = torch.device(\"cuda:0\") #cuda\n",
    "torch.backends.cudnn.enabled=True\n",
    "\n",
    "print ('\\ntorch:', torch.__version__)\n",
    "print ('cuda: ', torch.version.cuda)\n",
    "print ('cudnn:', torch.backends.cudnn.version())\n",
    "print ('dtype:', torch.get_default_dtype())\n",
    "#torch.set_default_dtype(torch.float64)"
   ]
  },
  {
   "cell_type": "code",
   "execution_count": 5,
   "id": "4bf2d9f2",
   "metadata": {},
   "outputs": [
    {
     "name": "stdout",
     "output_type": "stream",
     "text": [
      "#device: 1\n",
      "device#: 0\n",
      "device name: GeForce GTX TITAN X\n",
      "\n",
      "torch: 1.8.1+cu111\n",
      "cuda:  11.1\n",
      "cudnn: 8005\n",
      "dtype: torch.float32\n",
      "initializing iterator at first batch for nsd dataset\n",
      "initializing iterator at first batch for nsd dataset\n",
      "\n",
      "Getting activs for batch 0 of 10\n",
      "\n",
      "Loading images from brick file at /lab_data/tarrlab/common/datasets/NSD/nsddata_stimuli/stimuli/nsd/nsd_stimuli.hdf5\n",
      "elapsed time (loading ims): 0.00\n",
      "block size: (10, 425, 425, 3) , dtype: uint8 , value range: 0 255\n",
      "\n",
      "Before transformation:\n",
      "block size: torch.Size([10, 3, 425, 425]) , dtype: torch.float64 , device: cuda:0 , value range: ( 0.0 1.0 )\n",
      "\n",
      "After transformation:\n",
      "block size: torch.Size([10, 3, 224, 224]) , dtype: torch.float64 , device: cuda:0 , value range: ( -2.1176664750234155 2.6381327600484634 )\n",
      "hook for Conv1\n",
      "torch.Size([10, 64, 55, 55])\n",
      "(10, 64, 55, 55)\n",
      "193600\n",
      "\n",
      "Getting activs for batch 1 of 10\n",
      "\n",
      "Loading images from brick file at /lab_data/tarrlab/common/datasets/NSD/nsddata_stimuli/stimuli/nsd/nsd_stimuli.hdf5\n",
      "elapsed time (loading ims): 0.00\n",
      "block size: (10, 425, 425, 3) , dtype: uint8 , value range: 0 255\n",
      "\n",
      "Before transformation:\n",
      "block size: torch.Size([10, 3, 425, 425]) , dtype: torch.float64 , device: cuda:0 , value range: ( 0.0 1.0 )\n",
      "\n",
      "After transformation:\n",
      "block size: torch.Size([10, 3, 224, 224]) , dtype: torch.float64 , device: cuda:0 , value range: ( -2.1176654511422472 2.6399999999999997 )\n",
      "hook for Conv1\n",
      "torch.Size([10, 64, 55, 55])\n",
      "(10, 64, 55, 55)\n"
     ]
    }
   ],
   "source": [
    "# layer_name = alexnet_features.alexnet_layer_names[0]\n",
    "layer_name = 'Conv1'\n",
    "nsd_indices = np.arange(0,100)\n",
    "\n",
    "debug=True\n",
    "batch_size=10\n",
    "\n",
    "device = initialize_fitting.init_cuda()\n",
    "save_activ_dir = default_paths.alexnet_activ_path\n",
    "\n",
    "\n",
    "activ_all, coords = alexnet_features.get_alexnet_nsd_activations(layer_name, nsd_indices, batch_size=batch_size, debug=debug, device=device)\n",
    "   "
   ]
  },
  {
   "cell_type": "code",
   "execution_count": 13,
   "id": "709ba2c9",
   "metadata": {},
   "outputs": [
    {
     "data": {
      "text/plain": [
       "array([[ 1.02942674e-01, -7.74049302e+00, -1.10614025e+00,\n",
       "        -1.08651087e-02,  7.51471844e-01],\n",
       "       [-5.58650278e-01, -9.07925466e+00, -3.32502284e-01,\n",
       "        -5.38572385e-01, -1.19235147e-02],\n",
       "       [-3.79777378e+00,  3.07708584e-01,  2.21982316e+00,\n",
       "        -8.82278526e-02, -1.81775514e+00],\n",
       "       [-4.07043054e-01, -8.63801367e-01, -2.64892880e+00,\n",
       "         5.42920311e-01,  2.78685778e+00],\n",
       "       [-5.51545028e-02, -8.64180376e+00, -1.07533735e+00,\n",
       "         3.61530798e-01,  1.01957296e+00],\n",
       "       [-1.13598923e+00, -4.91636900e+00,  4.85851543e-02,\n",
       "         2.73793717e+00, -3.47115487e-02],\n",
       "       [-6.55252888e-01, -1.25266443e+01, -3.53510658e-01,\n",
       "        -4.69662528e-01,  6.28147922e-02],\n",
       "       [ 1.25311217e+00, -3.44184814e+00, -2.95582577e-01,\n",
       "        -1.23954553e+00,  5.96762306e-01],\n",
       "       [ 5.32458425e+00, -9.34181625e+00,  9.27512499e-01,\n",
       "         3.82711766e+00,  3.16905465e+00],\n",
       "       [-2.38230616e-01, -1.31973405e+01, -5.58239271e-01,\n",
       "        -1.94249122e-01,  8.95819017e-02],\n",
       "       [ 1.82515946e+00, -7.55687643e+00, -3.58725768e+00,\n",
       "        -1.27950044e-01,  4.44127918e+00],\n",
       "       [-2.00695097e+00, -3.76135617e+00, -3.17151746e-01,\n",
       "        -5.52195648e-02, -4.82142517e-01],\n",
       "       [-4.45398142e-01, -5.33055049e+00, -4.80345644e-01,\n",
       "         8.34053111e-01,  4.25475116e-01],\n",
       "       [-1.65875898e+00,  1.87343533e-01,  1.10895879e+00,\n",
       "        -3.28324833e-01, -1.57338104e+00],\n",
       "       [-1.19561475e+00,  4.34638999e+00, -1.63037077e-01,\n",
       "        -6.80841538e-01,  8.92415755e-01],\n",
       "       [-1.90932571e-01, -1.30836481e+01, -6.65213325e-01,\n",
       "        -2.08829594e-01,  3.40108324e-01],\n",
       "       [-3.70875283e+00, -6.56143325e+00,  3.27396965e+00,\n",
       "         4.98967454e-01, -3.55608476e+00],\n",
       "       [-1.27467850e+00,  3.51530941e+00, -2.75577549e-01,\n",
       "         3.72687413e-01,  8.61887755e-01],\n",
       "       [-2.40471728e-01, -1.31607441e+01, -5.32361673e-01,\n",
       "        -2.12361806e-01, -7.19231433e-04],\n",
       "       [-1.07965343e+00,  3.57444141e+00, -2.37550996e-01,\n",
       "         2.40644739e+00,  4.94488845e-01],\n",
       "       [ 0.00000000e+00,  0.00000000e+00,  0.00000000e+00,\n",
       "         0.00000000e+00,  0.00000000e+00],\n",
       "       [ 0.00000000e+00,  0.00000000e+00,  0.00000000e+00,\n",
       "         0.00000000e+00,  0.00000000e+00]])"
      ]
     },
     "execution_count": 13,
     "metadata": {},
     "output_type": "execute_result"
    }
   ],
   "source": [
    "activ_all[0:22,0:5]"
   ]
  }
 ],
 "metadata": {
  "kernelspec": {
   "display_name": "Python 3",
   "language": "python",
   "name": "python3"
  },
  "language_info": {
   "codemirror_mode": {
    "name": "ipython",
    "version": 3
   },
   "file_extension": ".py",
   "mimetype": "text/x-python",
   "name": "python",
   "nbconvert_exporter": "python",
   "pygments_lexer": "ipython3",
   "version": "3.7.1"
  }
 },
 "nbformat": 4,
 "nbformat_minor": 5
}
