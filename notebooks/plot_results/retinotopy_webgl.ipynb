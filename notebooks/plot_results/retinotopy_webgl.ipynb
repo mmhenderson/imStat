{
 "cells": [
  {
   "cell_type": "code",
   "execution_count": 1,
   "metadata": {
    "collapsed": false,
    "jupyter": {
     "outputs_hidden": false
    }
   },
   "outputs": [],
   "source": [
    "%matplotlib inline"
   ]
  },
  {
   "cell_type": "markdown",
   "metadata": {},
   "source": [
    "\n",
    "# Plot Example Retinotopy in Web Viewer\n",
    "\n",
    "This demo shows how to plot example retinotopy data onto a subject's brain\n",
    "in a web viewer. In order for this demo to work, you need to download this\n",
    "dataset_, but that can also be done automatically through the `urllib`\n",
    "command that is included.\n",
    "\n",
    "\n",
    "S1 is the example subject that comes with pycortex, but if you want to plot\n",
    "data onto a different subject, you will need to have them in your filestore.\n",
    "\n",
    "This demo will not actually open the web viewer for you, but if you run it\n",
    "yourself you will get a viewer showing something like the following.\n",
    "\n",
    "<img src=\"file://../../webgl/angle_left.png\">\n"
   ]
  },
  {
   "cell_type": "code",
   "execution_count": 4,
   "metadata": {
    "collapsed": false,
    "jupyter": {
     "outputs_hidden": false
    }
   },
   "outputs": [],
   "source": [
    "import cortex\n",
    "try: #  python 2\n",
    "    from urllib import urlretrieve\n",
    "except ImportError:  # python 3\n",
    "    from urllib.request import urlretrieve\n",
    "\n",
    "\n",
    "# Download and load in retinotopy data\n",
    "_ = urlretrieve(\"http://gallantlab.org/pycortex/S1_retinotopy.hdf\",\n",
    "                \"S1_retinotopy.hdf\")\n",
    "ret_data = cortex.load(\"S1_retinotopy.hdf\")"
   ]
  },
  {
   "cell_type": "code",
   "execution_count": 6,
   "metadata": {},
   "outputs": [
    {
     "data": {
      "text/plain": [
       "<Thick masked movie data for (S1, retinotopy)>"
      ]
     },
     "execution_count": 6,
     "metadata": {},
     "output_type": "execute_result"
    }
   ],
   "source": [
    "ret_data['movie']"
   ]
  },
  {
   "cell_type": "code",
   "execution_count": null,
   "metadata": {
    "collapsed": false,
    "jupyter": {
     "outputs_hidden": false
    }
   },
   "outputs": [
    {
     "name": "stdout",
     "output_type": "stream",
     "text": [
      "Started server on port 30001\n"
     ]
    }
   ],
   "source": [
    "# Open the webviewer\n",
    "cortex.webshow(ret_data, open_browser=True, port=30001)"
   ]
  }
 ],
 "metadata": {
  "kernelspec": {
   "display_name": "Python 3",
   "language": "python",
   "name": "python3"
  },
  "language_info": {
   "codemirror_mode": {
    "name": "ipython",
    "version": 3
   },
   "file_extension": ".py",
   "mimetype": "text/x-python",
   "name": "python",
   "nbconvert_exporter": "python",
   "pygments_lexer": "ipython3",
   "version": "3.7.1"
  }
 },
 "nbformat": 4,
 "nbformat_minor": 4
}
