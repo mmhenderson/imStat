{
 "cells": [
  {
   "cell_type": "code",
   "execution_count": 6,
   "metadata": {},
   "outputs": [],
   "source": [
    "import cortex\n",
    "pts, polys = cortex.db.get_surf('subj01', 'wm', merge=True)\n",
    "cortex.database.default_filestore\n",
    "\n",
    "import torch\n",
    "import sys\n",
    "import numpy as np\n",
    "from copy import deepcopy\n",
    "\n",
    "sys.path.append('/user_data/mmhender/imStat/code/')\n",
    "from utils import nsd_utils, plot_utils\n",
    "from utils.plot_utils import get_full_surface"
   ]
  },
  {
   "cell_type": "code",
   "execution_count": 5,
   "metadata": {},
   "outputs": [],
   "source": [
    "# fit_fn = '/user_data/mmhender/imStat/model_fits/S01_surface/texture_pyramid_ridge_4ori_4sf/Aug-31-2021_1835_32/all_fit_params'\n",
    "fit_fn = '/user_data/mmhender/imStat/model_fits/S01_surface/bdcn_pca_fused/Sep-08-2021_0032_26/all_fit_params'\n",
    "out = torch.load(fit_fn)\n",
    "\n",
    "voxel_mask = out['voxel_mask']\n",
    "brain_nii_shape = out['brain_nii_shape']\n",
    "image_order = out['image_order']\n",
    "voxel_idx = out['voxel_index'][0]\n",
    "voxel_ncsnr = out['voxel_ncsnr'].ravel()[voxel_idx]\n",
    "noise_ceiling = nsd_utils.ncsnr_to_nc(voxel_ncsnr)\n",
    "\n",
    "best_lambdas = out['best_lambdas']\n",
    "best_losses = out['best_losses']\n",
    "lambdas = out['lambdas']\n",
    "\n",
    "val_cc_partial = out['val_cc']\n",
    "# Note i'm NOT using the thing that actually is in the field val_r2, \n",
    "# bc that is coefficient of determination which gives poor results for ridge regression.\n",
    "# instead using the signed squared correlation coefficient for r2/var explained.\n",
    "val_r2_partial = np.sign(val_cc_partial)*val_cc_partial**2\n",
    "\n",
    "# feature_info = deepcopy(out['feature_info'])\n",
    "# feature_type_labels, feature_type_names = feature_info\n",
    "# n_feature_types = len(feature_type_names)\n",
    "\n",
    "# Compute variance explained by each feature type - how well does the model without that feature type\n",
    "# do, compared to the model with all features? \n",
    "# var_expl = np.tile(np.expand_dims(val_r2_partial[:,0], axis=1), [1,n_feature_types]) - val_r2_partial[:,1:] \n",
    "# feature_adj_labels = np.arange(0, n_feature_types,1)\n",
    " \n",
    "best_params = out['best_params']\n",
    "best_models, weights, bias, features_mt, features_st, best_model_inds = best_params\n",
    "\n",
    "best_models_partial = best_models\n",
    "best_models = best_models[:,0,:] # using only the \"full\" model for now\n",
    "val_cc = val_cc_partial[:,0]\n",
    "val_r2 = val_r2_partial[:,0]\n",
    "best_lambdas = best_lambdas[:,0]\n",
    "best_losses = best_losses[:,0]\n",
    "\n",
    "best_ecc  = np.sqrt(np.square(best_models[:,0]) + np.square(best_models[:,1]))\n",
    "best_ang  = np.arctan2(best_models[:,1], best_models[:,0])\n",
    "best_size = best_models[:,2]\n",
    "\n",
    "n_voxels = np.shape(weights)[0]\n",
    "n_features_total = np.shape(weights)[1]\n",
    "n_partial_models = np.shape(weights)[2]"
   ]
  },
  {
   "cell_type": "code",
   "execution_count": 2,
   "metadata": {},
   "outputs": [
    {
     "ename": "ModuleNotFoundError",
     "evalue": "No module named 'utils'",
     "output_type": "error",
     "traceback": [
      "\u001b[0;31m---------------------------------------------------------------------------\u001b[0m",
      "\u001b[0;31mModuleNotFoundError\u001b[0m                       Traceback (most recent call last)",
      "\u001b[0;32m<ipython-input-2-6059d71f331b>\u001b[0m in \u001b[0;36m<module>\u001b[0;34m\u001b[0m\n\u001b[0;32m----> 1\u001b[0;31m \u001b[0;32mfrom\u001b[0m \u001b[0mutils\u001b[0m\u001b[0;34m.\u001b[0m\u001b[0mplot_utils\u001b[0m \u001b[0;32mimport\u001b[0m \u001b[0mget_full_surface\u001b[0m\u001b[0;34m\u001b[0m\u001b[0;34m\u001b[0m\u001b[0m\n\u001b[0m",
      "\u001b[0;31mModuleNotFoundError\u001b[0m: No module named 'utils'"
     ]
    }
   ],
   "source": [
    "from utils.plot_utils import get_full_surface\n"
   ]
  },
  {
   "cell_type": "code",
   "execution_count": 8,
   "metadata": {},
   "outputs": [
    {
     "data": {
      "text/plain": [
       "dict_keys(['pRF eccentricity', 'pRF angle', 'pRF size', 'Correlation (validation set)', 'R2 (validation set)'])"
      ]
     },
     "execution_count": 8,
     "metadata": {},
     "output_type": "execute_result"
    }
   ],
   "source": [
    "substr = 'subj01'\n",
    "\n",
    "cmin = 0.0\n",
    "cmax = 0.8\n",
    "rmin = 0.0\n",
    "rmax = 0.6\n",
    "vemin = -0.05\n",
    "vemax = 0.05\n",
    "\n",
    "eccen_deg = 8.4\n",
    "\n",
    "dat2plot = {'pRF eccentricity': cortex.Vertex(data = get_full_surface(best_ecc*eccen_deg, voxel_mask), subject=substr, cmap='PRGn', vmin=0, vmax=7), \\\n",
    "            'pRF angle': cortex.Vertex(data = get_full_surface(best_ang*180/np.pi, voxel_mask), subject=substr, cmap='Retinotopy_RYBCR', vmin=-180, vmax=180), \\\n",
    "            'pRF size': cortex.Vertex(data = get_full_surface(best_size*eccen_deg, voxel_mask), subject=substr, cmap='PRGn', vmin=0, vmax=4), \\\n",
    "            'Correlation (validation set)': cortex.Vertex(data = get_full_surface(val_cc, voxel_mask), subject=substr, cmap='PuBu', vmin=cmin, vmax=cmax), \\\n",
    "            'R2 (validation set)': cortex.Vertex(data = get_full_surface(val_r2, voxel_mask), subject=substr, cmap='PuBu', vmin=rmin, vmax=rmax), \\\n",
    "           }\n",
    "\n",
    "# for fi, ff in enumerate(feature_info[1]):\n",
    "#     dat2plot['Var expl: %s'%ff] = cortex.Vertex(data = get_full_surface(var_expl[:,fi], voxel_mask), subject=substr, vmin=vemin, vmax=vemax)\n",
    "    \n",
    "dat2plot.keys()"
   ]
  },
  {
   "cell_type": "code",
   "execution_count": 9,
   "metadata": {},
   "outputs": [
    {
     "name": "stdout",
     "output_type": "stream",
     "text": [
      "Started server on port 44445\n"
     ]
    },
    {
     "data": {
      "text/plain": [
       "<JS: window.viewer>"
      ]
     },
     "execution_count": 9,
     "metadata": {},
     "output_type": "execute_result"
    },
    {
     "name": "stdout",
     "output_type": "stream",
     "text": [
      "Stopping server\n"
     ]
    }
   ],
   "source": [
    "# Open the webviewer\n",
    "# fitting_type = 'Steerable pyramid texture model'\n",
    "fitting_type = 'BDCN edge map features'\n",
    "cortex.webshow(dat2plot, open_browser=True, port=44445, description = '%s NSD, %s'%(substr, fitting_type))"
   ]
  },
  {
   "cell_type": "code",
   "execution_count": 6,
   "metadata": {},
   "outputs": [
    {
     "data": {
      "text/plain": [
       "array([1.23986685, 1.23986685, 1.41784199, ...,        nan,        nan,\n",
       "              nan])"
      ]
     },
     "execution_count": 6,
     "metadata": {},
     "output_type": "execute_result"
    }
   ],
   "source": [
    "get_full_surface(best_ecc*eccen_deg, voxel_mask)"
   ]
  }
 ],
 "metadata": {
  "kernelspec": {
   "display_name": "Python 3",
   "language": "python",
   "name": "python3"
  },
  "language_info": {
   "codemirror_mode": {
    "name": "ipython",
    "version": 3
   },
   "file_extension": ".py",
   "mimetype": "text/x-python",
   "name": "python",
   "nbconvert_exporter": "python",
   "pygments_lexer": "ipython3",
   "version": "3.7.1"
  }
 },
 "nbformat": 4,
 "nbformat_minor": 4
}
