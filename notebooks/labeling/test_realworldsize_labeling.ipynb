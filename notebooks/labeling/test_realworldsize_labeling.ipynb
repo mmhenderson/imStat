{
 "cells": [
  {
   "cell_type": "code",
   "execution_count": 1,
   "id": "2837b1fa",
   "metadata": {},
   "outputs": [],
   "source": [
    "# import basic modules\n",
    "import sys\n",
    "import os\n",
    "import numpy as np\n",
    "import pandas as pd\n",
    "import PIL\n",
    "\n",
    "from utils import default_paths, nsd_utils, prf_utils, segmentation_utils\n",
    "from model_fitting import initialize_fitting\n",
    "\n",
    "# import coco api tools\n",
    "coco_api_path = default_paths.coco_api_path\n",
    "sys.path.append(os.path.join(coco_api_path,'cocoapi','PythonAPI'))\n",
    "from pycocotools.coco import COCO\n"
   ]
  },
  {
   "cell_type": "code",
   "execution_count": 44,
   "id": "2a9e6049",
   "metadata": {},
   "outputs": [
    {
     "data": {
      "text/html": [
       "<div>\n",
       "<style scoped>\n",
       "    .dataframe tbody tr th:only-of-type {\n",
       "        vertical-align: middle;\n",
       "    }\n",
       "\n",
       "    .dataframe tbody tr th {\n",
       "        vertical-align: top;\n",
       "    }\n",
       "\n",
       "    .dataframe thead th {\n",
       "        text-align: right;\n",
       "    }\n",
       "</style>\n",
       "<table border=\"1\" class=\"dataframe\">\n",
       "  <thead>\n",
       "    <tr style=\"text-align: right;\">\n",
       "      <th></th>\n",
       "      <th>has_small</th>\n",
       "      <th>has_medium</th>\n",
       "      <th>has_large</th>\n",
       "    </tr>\n",
       "  </thead>\n",
       "  <tbody>\n",
       "    <tr>\n",
       "      <th>0</th>\n",
       "      <td>True</td>\n",
       "      <td>True</td>\n",
       "      <td>False</td>\n",
       "    </tr>\n",
       "    <tr>\n",
       "      <th>1</th>\n",
       "      <td>True</td>\n",
       "      <td>True</td>\n",
       "      <td>True</td>\n",
       "    </tr>\n",
       "    <tr>\n",
       "      <th>2</th>\n",
       "      <td>False</td>\n",
       "      <td>True</td>\n",
       "      <td>False</td>\n",
       "    </tr>\n",
       "    <tr>\n",
       "      <th>3</th>\n",
       "      <td>False</td>\n",
       "      <td>True</td>\n",
       "      <td>True</td>\n",
       "    </tr>\n",
       "    <tr>\n",
       "      <th>4</th>\n",
       "      <td>True</td>\n",
       "      <td>False</td>\n",
       "      <td>False</td>\n",
       "    </tr>\n",
       "    <tr>\n",
       "      <th>...</th>\n",
       "      <td>...</td>\n",
       "      <td>...</td>\n",
       "      <td>...</td>\n",
       "    </tr>\n",
       "    <tr>\n",
       "      <th>9995</th>\n",
       "      <td>True</td>\n",
       "      <td>True</td>\n",
       "      <td>False</td>\n",
       "    </tr>\n",
       "    <tr>\n",
       "      <th>9996</th>\n",
       "      <td>True</td>\n",
       "      <td>True</td>\n",
       "      <td>True</td>\n",
       "    </tr>\n",
       "    <tr>\n",
       "      <th>9997</th>\n",
       "      <td>True</td>\n",
       "      <td>True</td>\n",
       "      <td>False</td>\n",
       "    </tr>\n",
       "    <tr>\n",
       "      <th>9998</th>\n",
       "      <td>False</td>\n",
       "      <td>True</td>\n",
       "      <td>True</td>\n",
       "    </tr>\n",
       "    <tr>\n",
       "      <th>9999</th>\n",
       "      <td>True</td>\n",
       "      <td>True</td>\n",
       "      <td>True</td>\n",
       "    </tr>\n",
       "  </tbody>\n",
       "</table>\n",
       "<p>10000 rows × 3 columns</p>\n",
       "</div>"
      ],
      "text/plain": [
       "      has_small  has_medium  has_large\n",
       "0          True        True      False\n",
       "1          True        True       True\n",
       "2         False        True      False\n",
       "3         False        True       True\n",
       "4          True       False      False\n",
       "...         ...         ...        ...\n",
       "9995       True        True      False\n",
       "9996       True        True       True\n",
       "9997       True        True      False\n",
       "9998      False        True       True\n",
       "9999       True        True       True\n",
       "\n",
       "[10000 rows x 3 columns]"
      ]
     },
     "execution_count": 44,
     "metadata": {},
     "output_type": "execute_result"
    }
   ],
   "source": [
    "size_fn = '/user_data/mmhender/nsd/labels/S1_within_prf_grid5/S1_realworldsize_prf1455.csv'\n",
    "size_df = pd.read_csv(size_fn, index_col=0)\n",
    "size_df"
   ]
  },
  {
   "cell_type": "code",
   "execution_count": 48,
   "id": "960573fa",
   "metadata": {},
   "outputs": [],
   "source": [
    "labels = np.array(size_df)[:,[0,2]].astype(np.float32)\n",
    "colnames = [size_df.keys()[0], size_df.keys()[2]]\n",
    "    "
   ]
  },
  {
   "cell_type": "code",
   "execution_count": 50,
   "id": "92ae66ce",
   "metadata": {},
   "outputs": [
    {
     "data": {
      "text/plain": [
       "['has_small', 'has_large']"
      ]
     },
     "execution_count": 50,
     "metadata": {},
     "output_type": "execute_result"
    }
   ],
   "source": [
    "colnames"
   ]
  },
  {
   "cell_type": "code",
   "execution_count": 49,
   "id": "965b0a87",
   "metadata": {},
   "outputs": [
    {
     "data": {
      "text/plain": [
       "array([[1., 0.],\n",
       "       [1., 1.],\n",
       "       [0., 0.],\n",
       "       ...,\n",
       "       [1., 0.],\n",
       "       [0., 1.],\n",
       "       [1., 1.]], dtype=float32)"
      ]
     },
     "execution_count": 49,
     "metadata": {},
     "output_type": "execute_result"
    }
   ],
   "source": [
    "labels"
   ]
  },
  {
   "cell_type": "code",
   "execution_count": 39,
   "id": "90882fd1",
   "metadata": {},
   "outputs": [
    {
     "data": {
      "text/plain": [
       "{'person': 1,\n",
       " 'bicycle': 1,\n",
       " 'car': 2,\n",
       " 'motorcycle': 1,\n",
       " 'airplane': 2,\n",
       " 'bus': 2,\n",
       " 'train': 2,\n",
       " 'truck': 2,\n",
       " 'boat': 2,\n",
       " 'traffic light': 1,\n",
       " 'fire hydrant': 1,\n",
       " 'stop sign': 1,\n",
       " 'parking meter': 1,\n",
       " 'bench': 2,\n",
       " 'bird': 0,\n",
       " 'cat': 0,\n",
       " 'dog': 0,\n",
       " 'horse': 2,\n",
       " 'sheep': 1,\n",
       " 'cow': 2,\n",
       " 'elephant': 2,\n",
       " 'bear': 2,\n",
       " 'zebra': 2,\n",
       " 'giraffe': 2,\n",
       " 'backpack': 0,\n",
       " 'umbrella': 0,\n",
       " 'handbag': 0,\n",
       " 'tie': 0,\n",
       " 'suitcase': 1,\n",
       " 'frisbee': 0,\n",
       " 'skis': 1,\n",
       " 'snowboard': 1,\n",
       " 'sports ball': 0,\n",
       " 'kite': 1,\n",
       " 'baseball bat': 0,\n",
       " 'baseball glove': 0,\n",
       " 'skateboard': 0,\n",
       " 'surfboard': 1,\n",
       " 'tennis racket': 0,\n",
       " 'bottle': 0,\n",
       " 'wine glass': 0,\n",
       " 'cup': 0,\n",
       " 'fork': 0,\n",
       " 'knife': 0,\n",
       " 'spoon': 0,\n",
       " 'bowl': 0,\n",
       " 'banana': 0,\n",
       " 'apple': 0,\n",
       " 'sandwich': 0,\n",
       " 'orange': 0,\n",
       " 'broccoli': 0,\n",
       " 'carrot': 0,\n",
       " 'hot dog': 0,\n",
       " 'pizza': 0,\n",
       " 'donut': 0,\n",
       " 'cake': 0,\n",
       " 'chair': 2,\n",
       " 'couch': 2,\n",
       " 'potted plant': 0,\n",
       " 'bed': 2,\n",
       " 'dining table': 2,\n",
       " 'toilet': 1,\n",
       " 'tv': 1,\n",
       " 'laptop': 0,\n",
       " 'mouse': 0,\n",
       " 'remote': 0,\n",
       " 'keyboard': 0,\n",
       " 'cell phone': 0,\n",
       " 'microwave': 1,\n",
       " 'oven': 1,\n",
       " 'toaster': 0,\n",
       " 'sink': 1,\n",
       " 'refrigerator': 2,\n",
       " 'book': 0,\n",
       " 'clock': 0,\n",
       " 'vase': 0,\n",
       " 'scissors': 0,\n",
       " 'teddy bear': 0,\n",
       " 'hair drier': 0,\n",
       " 'toothbrush': 0}"
      ]
     },
     "execution_count": 39,
     "metadata": {},
     "output_type": "execute_result"
    }
   ],
   "source": [
    "names_to_sizes = np.load(fn2save, allow_pickle=True).item()\n",
    "names_to_sizes"
   ]
  },
  {
   "cell_type": "code",
   "execution_count": 40,
   "id": "16005339",
   "metadata": {},
   "outputs": [],
   "source": [
    "# make [3 x ncateg] one-hot array of size labels for each categ\n",
    "categ_size_labels = np.array([[names_to_sizes[kk]==ii for kk in names_to_sizes.keys()] \\\n",
    "                          for ii in range(3)])"
   ]
  },
  {
   "cell_type": "code",
   "execution_count": 42,
   "id": "5b2c67a8",
   "metadata": {},
   "outputs": [
    {
     "name": "stdout",
     "output_type": "stream",
     "text": [
      "things categories with size 0:\n",
      "['bird' 'cat' 'dog' 'backpack' 'umbrella' 'handbag' 'tie' 'frisbee'\n",
      " 'sports ball' 'baseball bat' 'baseball glove' 'skateboard'\n",
      " 'tennis racket' 'bottle' 'wine glass' 'cup' 'fork' 'knife' 'spoon' 'bowl'\n",
      " 'banana' 'apple' 'sandwich' 'orange' 'broccoli' 'carrot' 'hot dog'\n",
      " 'pizza' 'donut' 'cake' 'potted plant' 'laptop' 'mouse' 'remote'\n",
      " 'keyboard' 'cell phone' 'toaster' 'book' 'clock' 'vase' 'scissors'\n",
      " 'teddy bear' 'hair drier' 'toothbrush']\n",
      "things categories with size 1:\n",
      "['person' 'bicycle' 'motorcycle' 'traffic light' 'fire hydrant'\n",
      " 'stop sign' 'parking meter' 'sheep' 'suitcase' 'skis' 'snowboard' 'kite'\n",
      " 'surfboard' 'toilet' 'tv' 'microwave' 'oven' 'sink']\n",
      "things categories with size 2:\n",
      "['car' 'airplane' 'bus' 'train' 'truck' 'boat' 'bench' 'horse' 'cow'\n",
      " 'elephant' 'bear' 'zebra' 'giraffe' 'chair' 'couch' 'bed' 'dining table'\n",
      " 'refrigerator']\n"
     ]
    }
   ],
   "source": [
    "# print size lists as a sanity check\n",
    "for ii in range(3):\n",
    "    print('things categories with size %d:'%ii)\n",
    "    print(np.array(cat_names)[categ_size_labels[ii,:]])\n"
   ]
  }
 ],
 "metadata": {
  "kernelspec": {
   "display_name": "Python 3",
   "language": "python",
   "name": "python3"
  },
  "language_info": {
   "codemirror_mode": {
    "name": "ipython",
    "version": 3
   },
   "file_extension": ".py",
   "mimetype": "text/x-python",
   "name": "python",
   "nbconvert_exporter": "python",
   "pygments_lexer": "ipython3",
   "version": "3.7.1"
  }
 },
 "nbformat": 4,
 "nbformat_minor": 5
}
