{
 "cells": [
  {
   "cell_type": "code",
   "execution_count": 1,
   "id": "2bedbe80",
   "metadata": {},
   "outputs": [],
   "source": [
    "import os,sys\n",
    "import numpy as np\n",
    "import copy\n",
    "import time\n",
    "import h5py\n",
    "import pandas as pd\n",
    "\n",
    "\n",
    "from sklearn import decomposition\n",
    "from sklearn.discriminant_analysis import LinearDiscriminantAnalysis\n",
    "\n",
    "codepath = '/user_data/mmhender/imStat/code'\n",
    "sys.path.append(codepath)\n",
    "from utils import nsd_utils, default_paths\n",
    "# import coco_utils\n",
    "import PIL\n",
    "import matplotlib.pyplot as plt\n",
    "from matplotlib import cm\n",
    "from model_fitting import initialize_fitting\n",
    "from plotting_and_analysis import plot_utils\n",
    "from feature_extraction import pca_feats\n",
    "from utils import numpy_utils"
   ]
  },
  {
   "cell_type": "code",
   "execution_count": 2,
   "id": "f5613823",
   "metadata": {},
   "outputs": [],
   "source": [
    "# cat_objects, cat_names, cat_ids, supcat_names, ids_each_supcat = coco_utils.get_coco_cat_info()\n",
    "\n",
    "subject = 1;\n",
    "fn2load = os.path.join(default_paths.sketch_token_feat_path, 'LDA','S%d_LDA_all_supcat.npy'%subject)\n",
    "result = np.load(fn2load, allow_pickle=True).item()\n",
    "\n",
    "lda_scores_each_prf = result['scores']\n",
    "lda_wts_each_prf = result['wts']\n",
    "lda_pre_mean_each_prf = result['pre_mean']\n",
    "\n",
    "trn_acc_each_prf = result['trn_acc']\n",
    "trn_acc_each_prf = result['trn_dprime']\n",
    "val_acc_each_prf = result['val_acc']\n",
    "val_acc_each_prf = result['val_dprime']\n",
    "labels_pred_each_prf = result['labels_pred'];\n",
    "labels_actual_each_prf = result['labels_actual'];\n"
   ]
  },
  {
   "cell_type": "code",
   "execution_count": 3,
   "id": "8edadd85",
   "metadata": {},
   "outputs": [],
   "source": [
    "\n",
    "subject = 1;\n",
    "fn2load = os.path.join(default_paths.sketch_token_feat_path, 'PCA','S%d_PCA.npy'%subject)\n",
    "pc_result = np.load(fn2load, allow_pickle=True).item()\n",
    "\n",
    "pca_scores_each_prf = pc_result['scores']\n",
    "pca_wts_each_prf = pc_result['wts']\n",
    "pca_pre_mean_each_prf = pc_result['pre_mean']\n",
    "\n",
    "ev_each_prf = pc_result['ev']"
   ]
  },
  {
   "cell_type": "code",
   "execution_count": 4,
   "id": "62f2653d",
   "metadata": {},
   "outputs": [],
   "source": [
    "# training / validation data always split the same way - shared 1000 inds are validation.\n",
    "subject_df = nsd_utils.get_subj_df(subject)\n",
    "valinds = np.array(subject_df['shared1000'])\n",
    "trninds = np.array(subject_df['shared1000']==False)"
   ]
  },
  {
   "cell_type": "code",
   "execution_count": 5,
   "id": "83182a5a",
   "metadata": {},
   "outputs": [
    {
     "name": "stdout",
     "output_type": "stream",
     "text": [
      "Loading pre-computed features from /user_data/mmhender/features/sketch_tokens/S1_features_each_prf.h5py\n",
      "Took 23.07056 seconds to load file\n"
     ]
    }
   ],
   "source": [
    "mm=697\n",
    "\n",
    "path_to_load = default_paths.sketch_token_feat_path\n",
    "features_file = os.path.join(path_to_load, 'S%d_features_each_prf.h5py'%(subject))\n",
    "print('Loading pre-computed features from %s'%features_file)\n",
    "t = time.time()\n",
    "with h5py.File(features_file, 'r') as data_set:\n",
    "    values = np.copy(data_set['/features'][:,:,mm])\n",
    "    data_set.close() \n",
    "elapsed = time.time() - t\n",
    "print('Took %.5f seconds to load file'%elapsed)\n",
    "features_each_prf = values[:,:,np.newaxis]"
   ]
  },
  {
   "cell_type": "code",
   "execution_count": 6,
   "id": "6b10deb2",
   "metadata": {},
   "outputs": [],
   "source": [
    "pca_scores = pca_scores_each_prf[mm]\n",
    "pca_wts = pca_wts_each_prf[mm]\n",
    "pca_pre_mean = pca_pre_mean_each_prf[mm]\n",
    "\n",
    "features_in_prf = features_each_prf[:,:,0]\n",
    "zgroup_labels = np.concatenate([np.zeros(shape=(1,150)), np.ones(shape=(1,1))], axis=1)\n",
    "features_in_prf_z = numpy_utils.zscore_in_groups(features_in_prf, zgroup_labels)"
   ]
  },
  {
   "cell_type": "code",
   "execution_count": 7,
   "id": "3fc8d156",
   "metadata": {},
   "outputs": [],
   "source": [
    "n = np.sum(trninds)\n",
    "var_each_comp = np.var(pca_scores[trninds,:], axis=0)\n",
    "sv = np.sqrt((var_each_comp)*(n-1))\n",
    "expl_var_trn = sv**2/np.sum(sv**2)*100"
   ]
  },
  {
   "cell_type": "code",
   "execution_count": 8,
   "id": "78dd2289",
   "metadata": {},
   "outputs": [],
   "source": [
    "n = np.sum(trninds)\n",
    "var_each_comp = np.var(pca_scores[valinds,:], axis=0)\n",
    "sv = np.sqrt((var_each_comp)*(n-1))\n",
    "expl_var_val = sv**2/np.sum(sv**2)*100"
   ]
  },
  {
   "cell_type": "code",
   "execution_count": 9,
   "id": "5373eb68",
   "metadata": {},
   "outputs": [],
   "source": [
    "ncomp_max = pca_scores.shape[1]\n",
    "ncomp_vals = np.arange(0, ncomp_max)\n",
    "pca_r2_trn_by_ncomp = np.zeros((len(ncomp_vals),))\n",
    "for ii, nc in enumerate(ncomp_vals):\n",
    "    recon_trn = pca_scores[trninds,0:nc] @ pca_wts[0:nc,:] + \\\n",
    "                    np.tile(pca_pre_mean[np.newaxis,:], [np.sum(trninds),1])\n",
    "    ssr = np.sum((recon_trn-features_in_prf_z[trninds,:])**2)\n",
    "    sst = np.sum((features_in_prf_z[trninds,:] - np.mean(features_in_prf_z[trninds,:]))**2)\n",
    "    r2_trn = 1-ssr/sst\n",
    "    pca_r2_trn_by_ncomp[ii] = r2_trn"
   ]
  },
  {
   "cell_type": "code",
   "execution_count": 10,
   "id": "1326f822",
   "metadata": {},
   "outputs": [],
   "source": [
    "ncomp_max = pca_scores.shape[1]\n",
    "ncomp_vals = np.arange(0, ncomp_max)\n",
    "pca_r2_val_by_ncomp = np.zeros((len(ncomp_vals),))\n",
    "for ii, nc in enumerate(ncomp_vals):\n",
    "    recon_val = pca_scores[valinds,0:nc] @ pca_wts[0:nc,:] + \\\n",
    "                    np.tile(pca_pre_mean[np.newaxis,:], [np.sum(valinds),1])\n",
    "    ssr = np.sum((recon_val-features_in_prf_z[valinds,:])**2)\n",
    "    sst = np.sum((features_in_prf_z[valinds,:] - np.mean(features_in_prf_z[valinds,:]))**2)\n",
    "    r2_val = 1-ssr/sst\n",
    "    pca_r2_val_by_ncomp[ii] = r2_val"
   ]
  },
  {
   "cell_type": "code",
   "execution_count": 11,
   "id": "0894e03b",
   "metadata": {},
   "outputs": [
    {
     "data": {
      "image/png": "[encoded data removed]",
      "text/plain": [
       "<Figure size 432x288 with 1 Axes>"
      ]
     },
     "metadata": {
      "needs_background": "light"
     },
     "output_type": "display_data"
    }
   ],
   "source": [
    "plt.figure();\n",
    "plt.plot(ncomp_vals[0:20], pca_r2_trn_by_ncomp[0:20],'.')\n",
    "plt.plot(ncomp_vals[0:20], pca_r2_val_by_ncomp[0:20],'.')\n",
    "plt.xlabel('n components included');\n",
    "plt.ylabel('reconstruction performance (R2)');"
   ]
  },
  {
   "cell_type": "code",
   "execution_count": 12,
   "id": "3b50c82c",
   "metadata": {},
   "outputs": [],
   "source": [
    "lda_scores = lda_scores_each_prf[mm]\n",
    "lda_wts = lda_wts_each_prf[mm]\n",
    "lda_pre_mean = lda_pre_mean_each_prf[mm]\n",
    "\n",
    "features_in_prf = features_each_prf[:,:,0]\n",
    "zgroup_labels = np.concatenate([np.zeros(shape=(1,150)), np.ones(shape=(1,1))], axis=1)\n",
    "features_in_prf_z = numpy_utils.zscore_in_groups(features_in_prf, zgroup_labels)"
   ]
  },
  {
   "cell_type": "code",
   "execution_count": 13,
   "id": "752f9beb",
   "metadata": {},
   "outputs": [
    {
     "data": {
      "text/plain": [
       "[<matplotlib.lines.Line2D at 0x7f2a27d3c828>]"
      ]
     },
     "execution_count": 13,
     "metadata": {},
     "output_type": "execute_result"
    },
    {
     "data": {
      "image/png": "[encoded data removed]",
      "text/plain": [
       "<Figure size 432x288 with 1 Axes>"
      ]
     },
     "metadata": {
      "needs_background": "light"
     },
     "output_type": "display_data"
    }
   ],
   "source": [
    "n = np.sum(trninds)\n",
    "var_each_comp = np.var(lda_scores[trninds,:], axis=0)\n",
    "sv = np.sqrt((var_each_comp)*(n-1))\n",
    "expl_var_trn = sv**2/np.sum(sv**2)*100\n",
    "\n",
    "n = np.sum(trninds)\n",
    "var_each_comp = np.var(lda_scores[valinds,:], axis=0)\n",
    "sv = np.sqrt((var_each_comp)*(n-1))\n",
    "expl_var_val = sv**2/np.sum(sv**2)*100\n",
    "\n",
    "plt.figure();\n",
    "plt.plot(expl_var_trn[0:20],'.')\n",
    "plt.plot(expl_var_val[0:20],'.')"
   ]
  },
  {
   "cell_type": "code",
   "execution_count": 15,
   "id": "75a458f0",
   "metadata": {},
   "outputs": [],
   "source": [
    "ncomp_max = lda_scores.shape[1]\n",
    "ncomp_vals = np.arange(0, ncomp_max)\n",
    "lda_r2_trn_by_ncomp = np.zeros((len(ncomp_vals),))\n",
    "for ii, nc in enumerate(ncomp_vals):\n",
    "    pinvwts = np.linalg.pinv(lda_wts)\n",
    "    recon_trn = (lda_scores[trninds,0:nc] @ pinvwts[0:nc,:]) + \\\n",
    "                    np.tile(lda_pre_mean[np.newaxis,:], [np.sum(trninds), 1])\n",
    "    \n",
    "#     recon_trn = (lda_scores[trninds,0:nc] @ np.linalg.pinv(lda_wts[:,0:nc])) + \\\n",
    "#                     np.tile(lda_pre_mean[np.newaxis,:], [np.sum(trninds), 1])\n",
    "    \n",
    "    ssr = np.sum((recon_trn-features_in_prf_z[trninds,:])**2)\n",
    "    sst = np.sum((features_in_prf_z[trninds,:] - np.mean(features_in_prf_z[trninds,:]))**2)\n",
    "    r2_trn = 1-ssr/sst\n",
    "    lda_r2_trn_by_ncomp[ii] = r2_trn"
   ]
  },
  {
   "cell_type": "code",
   "execution_count": 16,
   "id": "6cdf8e6f",
   "metadata": {},
   "outputs": [],
   "source": [
    "ncomp_max = lda_scores.shape[1]\n",
    "ncomp_vals = np.arange(0, ncomp_max)\n",
    "lda_r2_val_by_ncomp = np.zeros((len(ncomp_vals),))\n",
    "for ii, nc in enumerate(ncomp_vals):\n",
    "    pinvwts = np.linalg.pinv(lda_wts)\n",
    "    recon_val = (lda_scores[valinds,0:nc] @ pinvwts[0:nc,:]) + \\\n",
    "                    np.tile(lda_pre_mean[np.newaxis,:], [np.sum(valinds), 1])\n",
    "#     recon_val = (lda_scores[valinds,0:nc] @ np.linalg.pinv(lda_wts[:,0:nc])) + \\\n",
    "#                     np.tile(lda_pre_mean[np.newaxis,:], [np.sum(valinds), 1])\n",
    "    \n",
    "    ssr = np.sum((recon_val-features_in_prf_z[valinds,:])**2)\n",
    "    sst = np.sum((features_in_prf_z[valinds,:] - np.mean(features_in_prf_z[valinds,:]))**2)\n",
    "    r2_val = 1-ssr/sst\n",
    "    lda_r2_val_by_ncomp[ii] = r2_val"
   ]
  },
  {
   "cell_type": "code",
   "execution_count": 17,
   "id": "08d29d16",
   "metadata": {},
   "outputs": [
    {
     "data": {
      "image/png": "[encoded data removed]",
      "text/plain": [
       "<Figure size 432x288 with 1 Axes>"
      ]
     },
     "metadata": {
      "needs_background": "light"
     },
     "output_type": "display_data"
    }
   ],
   "source": [
    "plt.figure();\n",
    "plt.plot(ncomp_vals[0:20], lda_r2_trn_by_ncomp[0:20],'.')\n",
    "plt.plot(ncomp_vals[0:20], lda_r2_val_by_ncomp[0:20],'.')\n",
    "plt.xlabel('n components included');\n",
    "plt.ylabel('reconstruction performance (R2)');"
   ]
  },
  {
   "cell_type": "code",
   "execution_count": 18,
   "id": "04b92373",
   "metadata": {},
   "outputs": [
    {
     "data": {
      "text/plain": [
       "<matplotlib.lines.Line2D at 0x7f2a27c43f60>"
      ]
     },
     "execution_count": 18,
     "metadata": {},
     "output_type": "execute_result"
    },
    {
     "data": {
      "image/png": "[encoded data removed]",
      "text/plain": [
       "<Figure size 432x288 with 1 Axes>"
      ]
     },
     "metadata": {
      "needs_background": "light"
     },
     "output_type": "display_data"
    }
   ],
   "source": [
    "plt.figure();\n",
    "# plt.plot(np.arange(0,151),pca_r2_trn_by_ncomp,'.')\n",
    "plt.plot(np.arange(0,151), pca_r2_val_by_ncomp,'.',color=[0.8, 0.8, 0.8])\n",
    "# plt.plot(np.arange(0,11), lda_r2_trn_by_ncomp,'.')\n",
    "plt.plot(np.arange(0,11), lda_r2_val_by_ncomp,'.',color = 'r')\n",
    "plt.xlabel('n components included');\n",
    "plt.ylabel('reconstruction performance (R2)');\n",
    "\n",
    "plt.legend(['pca','lda'])\n",
    "plt.axhline(0, color=[0.7, 0.7, 0.7])"
   ]
  },
  {
   "cell_type": "code",
   "execution_count": 19,
   "id": "da089d9a",
   "metadata": {},
   "outputs": [
    {
     "name": "stdout",
     "output_type": "stream",
     "text": [
      "[[ 1.6340455 ]\n",
      " [ 0.96209578]\n",
      " [ 1.46722522]\n",
      " [ 0.81974413]\n",
      " [ 0.02923954]\n",
      " [-0.63274642]\n",
      " [-0.06363498]\n",
      " [-0.429099  ]\n",
      " [ 0.07198993]\n",
      " [-0.23907837]]\n",
      "[[ 0.23105185  0.13603906  0.20746369  0.11591072  0.00413443 -0.0894695\n",
      "  -0.0089979  -0.06067403  0.01017928 -0.03380536]]\n"
     ]
    }
   ],
   "source": [
    "v = np.random.normal(0,1,(10,1))\n",
    "pv = np.linalg.pinv(v)\n",
    "print(v)\n",
    "print(pv)"
   ]
  },
  {
   "cell_type": "code",
   "execution_count": 69,
   "id": "4f9f5b55",
   "metadata": {},
   "outputs": [
    {
     "data": {
      "text/plain": [
       "<matplotlib.colorbar.Colorbar at 0x7f2a22de0ac8>"
      ]
     },
     "execution_count": 69,
     "metadata": {},
     "output_type": "execute_result"
    },
    {
     "data": {
      "image/png": "[encoded data removed]",
      "text/plain": [
       "<Figure size 432x288 with 2 Axes>"
      ]
     },
     "metadata": {
      "needs_background": "light"
     },
     "output_type": "display_data"
    }
   ],
   "source": [
    "covmat = np.cov(lda_scores.T)\n",
    "plt.figure();\n",
    "plt.pcolormesh(covmat)\n",
    "plt.colorbar()"
   ]
  },
  {
   "cell_type": "code",
   "execution_count": 71,
   "id": "a93e8983",
   "metadata": {},
   "outputs": [
    {
     "data": {
      "text/plain": [
       "<matplotlib.colorbar.Colorbar at 0x7f2a22c69b00>"
      ]
     },
     "execution_count": 71,
     "metadata": {},
     "output_type": "execute_result"
    },
    {
     "data": {
      "image/png": "[encoded data removed]",
      "text/plain": [
       "<Figure size 432x288 with 2 Axes>"
      ]
     },
     "metadata": {
      "needs_background": "light"
     },
     "output_type": "display_data"
    }
   ],
   "source": [
    "covmat = np.cov(pca_scores.T)\n",
    "plt.figure();\n",
    "plt.pcolormesh(covmat[0:11,0:11])\n",
    "plt.colorbar()"
   ]
  },
  {
   "cell_type": "code",
   "execution_count": 46,
   "id": "ab351fc0",
   "metadata": {},
   "outputs": [],
   "source": [
    "# Testing with random data to verify it can perfectly reconstruct\n",
    "\n",
    "tst_features = np.random.normal(0,1,[100,10])\n",
    "zgroup_labels = np.concatenate([np.zeros(shape=(1,9)), np.ones(shape=(1,1))], axis=1)\n",
    "tstfeatures_z = numpy_utils.zscore_in_groups(tst_features, zgroup_labels)\n",
    "\n",
    "pca = decomposition.PCA(n_components = 10, copy=True)\n",
    "scores = pca.fit_transform(tstfeatures_z) \n",
    "wts = pca.components_\n",
    "ev = pca.explained_variance_\n",
    "ev = ev/np.sum(ev)*100\n",
    "premean = pca.mean_ "
   ]
  },
  {
   "cell_type": "code",
   "execution_count": 47,
   "id": "b6ff7395",
   "metadata": {},
   "outputs": [
    {
     "name": "stdout",
     "output_type": "stream",
     "text": [
      "0.010645192364625466\n",
      "0.16778763250686757\n",
      "0.3167233804996147\n",
      "0.43338968495282326\n",
      "0.5422695372444777\n",
      "0.6476951111196647\n",
      "0.7385332550966794\n",
      "0.8225796923804662\n",
      "0.8913248845155058\n",
      "0.9518487505939864\n",
      "1.0\n"
     ]
    }
   ],
   "source": [
    "ncomp = np.arange(0,11)\n",
    "r2 = np.zeros((len(ncomp), ))\n",
    "for ii, nc in enumerate(ncomp):\n",
    "\n",
    "    tstfeat_pred = scores[:,0:nc] @ wts[0:nc,:] + np.tile(premean[np.newaxis,:], [100,1])\n",
    "\n",
    "    ssr = np.sum((tstfeat_pred-tstfeatures_z)**2)\n",
    "    sst = np.sum((tstfeatures_z - np.mean(tstfeatures_z))**2)\n",
    "    print(1-ssr/sst)\n",
    "    \n",
    "    r2[ii] = 1-ssr/sst"
   ]
  },
  {
   "cell_type": "code",
   "execution_count": 48,
   "id": "a140fb04",
   "metadata": {},
   "outputs": [
    {
     "data": {
      "text/plain": [
       "[<matplotlib.lines.Line2D at 0x7f067d189198>]"
      ]
     },
     "execution_count": 48,
     "metadata": {},
     "output_type": "execute_result"
    },
    {
     "data": {
      "image/png": "[encoded data removed]",
      "text/plain": [
       "<Figure size 432x288 with 1 Axes>"
      ]
     },
     "metadata": {
      "needs_background": "light"
     },
     "output_type": "display_data"
    }
   ],
   "source": [
    "plt.figure();\n",
    "plt.plot(ncomp, r2)"
   ]
  },
  {
   "cell_type": "code",
   "execution_count": 49,
   "id": "f03f696b",
   "metadata": {},
   "outputs": [
    {
     "data": {
      "text/plain": [
       "[<matplotlib.lines.Line2D at 0x7f067d1451d0>]"
      ]
     },
     "execution_count": 49,
     "metadata": {},
     "output_type": "execute_result"
    },
    {
     "data": {
      "image/png": "[encoded data removed]",
      "text/plain": [
       "<Figure size 432x288 with 1 Axes>"
      ]
     },
     "metadata": {
      "needs_background": "light"
     },
     "output_type": "display_data"
    }
   ],
   "source": [
    "plt.figure();\n",
    "plt.plot(tstfeatures_z[0,:])\n",
    "plt.plot(tstfeat_pred[0,:])"
   ]
  },
  {
   "cell_type": "code",
   "execution_count": 60,
   "id": "99076cce",
   "metadata": {},
   "outputs": [],
   "source": [
    "# Testing LDA reconstruction - can be perfect when nclasses = nfeat+1\n",
    "# but much worse when fewer classes...\n",
    "nfeat = 139\n",
    "ntrials = 300\n",
    "nclasses = 140\n",
    "tst_features = np.random.normal(0,1,[ntrials,nfeat])\n",
    "zgroup_labels = np.concatenate([np.zeros(shape=(1,nfeat-1)), np.ones(shape=(1,1))], axis=1)\n",
    "tstfeatures_z = numpy_utils.zscore_in_groups(tst_features, zgroup_labels)\n"
   ]
  },
  {
   "cell_type": "code",
   "execution_count": 61,
   "id": "5c54d958",
   "metadata": {},
   "outputs": [],
   "source": [
    "\n",
    "X = tstfeatures_z; y = np.tile(np.arange(nclasses),int(np.ceil(ntrials/nclasses)))[0:X.shape[0]]\n",
    "clf = LinearDiscriminantAnalysis(solver='svd')\n",
    "clf.fit(X, y)\n",
    "\n",
    "scores = clf.transform(X)   \n",
    "\n",
    "scalings = clf.scalings_\n",
    "xbar = clf.xbar_\n",
    "coef = clf.coef_"
   ]
  },
  {
   "cell_type": "code",
   "execution_count": 63,
   "id": "52c9e953",
   "metadata": {},
   "outputs": [],
   "source": [
    "nc = 140\n",
    "pinvw = np.linalg.pinv(scalings)\n",
    "recon = (scores[:,0:nc] @ pinvw[0:nc,:]) + np.tile(xbar[np.newaxis,:], [ntrials, 1])"
   ]
  },
  {
   "cell_type": "code",
   "execution_count": 64,
   "id": "55a79292",
   "metadata": {},
   "outputs": [
    {
     "name": "stdout",
     "output_type": "stream",
     "text": [
      "1.0\n"
     ]
    }
   ],
   "source": [
    "ssr = np.sum((recon-tstfeatures_z)**2)\n",
    "sst = np.sum((tstfeatures_z - np.mean(tstfeatures_z))**2)\n",
    "print(1-ssr/sst)"
   ]
  },
  {
   "cell_type": "code",
   "execution_count": 65,
   "id": "62141bbd",
   "metadata": {},
   "outputs": [
    {
     "data": {
      "text/plain": [
       "[<matplotlib.lines.Line2D at 0x7f2a22ea5d30>]"
      ]
     },
     "execution_count": 65,
     "metadata": {},
     "output_type": "execute_result"
    },
    {
     "data": {
      "image/png": "[encoded data removed]",
      "text/plain": [
       "<Figure size 432x288 with 1 Axes>"
      ]
     },
     "metadata": {
      "needs_background": "light"
     },
     "output_type": "display_data"
    }
   ],
   "source": [
    "plt.figure();\n",
    "plt.plot(tstfeatures_z[0,:])\n",
    "plt.plot(recon[0,:])"
   ]
  },
  {
   "cell_type": "code",
   "execution_count": 33,
   "id": "984442db",
   "metadata": {},
   "outputs": [],
   "source": [
    "# recon = (scores @ np.linalg.pinv(scalings)) + np.tile(xbar[np.newaxis,:], [ntrials, 1])"
   ]
  },
  {
   "cell_type": "code",
   "execution_count": 25,
   "id": "f6b0c2a1",
   "metadata": {},
   "outputs": [],
   "source": [
    "# nc = 130\n",
    "# recon = (scores[:,0:nc] @ np.linalg.pinv(scalings[:,0:nc])) + np.tile(xbar[np.newaxis,:], [ntrials, 1])"
   ]
  },
  {
   "cell_type": "code",
   "execution_count": 26,
   "id": "8c0086f7",
   "metadata": {},
   "outputs": [],
   "source": [
    "# ssr = np.sum((recon-tstfeatures_z)**2)\n",
    "# sst = np.sum((tstfeatures_z - np.mean(tstfeatures_z))**2)\n",
    "# print(1-ssr/sst)"
   ]
  },
  {
   "cell_type": "code",
   "execution_count": 27,
   "id": "5912da2a",
   "metadata": {},
   "outputs": [],
   "source": [
    "# pinvw.shape"
   ]
  }
 ],
 "metadata": {
  "kernelspec": {
   "display_name": "Python 3",
   "language": "python",
   "name": "python3"
  },
  "language_info": {
   "codemirror_mode": {
    "name": "ipython",
    "version": 3
   },
   "file_extension": ".py",
   "mimetype": "text/x-python",
   "name": "python",
   "nbconvert_exporter": "python",
   "pygments_lexer": "ipython3",
   "version": "3.7.1"
  }
 },
 "nbformat": 4,
 "nbformat_minor": 5
}
