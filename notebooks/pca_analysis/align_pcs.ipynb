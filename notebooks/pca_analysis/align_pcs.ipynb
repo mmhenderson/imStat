{
 "cells": [
  {
   "cell_type": "code",
   "execution_count": 1,
   "id": "a796b1d3",
   "metadata": {},
   "outputs": [],
   "source": [
    "import os,sys\n",
    "import numpy as np\n",
    "import copy\n",
    "\n",
    "codepath = '/user_data/mmhender/imStat/code'\n",
    "sys.path.append(codepath)\n",
    "from utils import nsd_utils, default_paths, coco_utils\n",
    "import PIL\n",
    "import matplotlib.pyplot as plt\n",
    "from matplotlib import cm\n",
    "from model_fitting import initialize_fitting\n",
    "from plotting_and_analysis import plot_utils "
   ]
  },
  {
   "cell_type": "code",
   "execution_count": 2,
   "id": "0c9b542c",
   "metadata": {},
   "outputs": [],
   "source": [
    "subject = 1;\n",
    "fn2load = os.path.join(default_paths.sketch_token_feat_path, 'PCA','S%d_PCA.npy'%subject)\n",
    "pc_result = np.load(fn2load, allow_pickle=True).item()\n",
    "\n",
    "scores_each_prf = pc_result['scores']\n",
    "wts_each_prf = pc_result['wts']\n",
    "ev_each_prf = pc_result['ev']"
   ]
  },
  {
   "cell_type": "code",
   "execution_count": 3,
   "id": "ff8ed64e",
   "metadata": {},
   "outputs": [
    {
     "name": "stdout",
     "output_type": "stream",
     "text": [
      "most extreme RF positions:\n",
      "[-0.55 -0.55  0.04]\n",
      "[0.55       0.55       0.40000001]\n"
     ]
    }
   ],
   "source": [
    "# Params for the spatial aspect of the model (possible pRFs)\n",
    "aperture_rf_range = 1.1\n",
    "aperture, models = initialize_fitting.get_prf_models(aperture_rf_range=aperture_rf_range)  \n",
    "n_prfs = models.shape[0]"
   ]
  },
  {
   "cell_type": "code",
   "execution_count": 107,
   "id": "8747eb78",
   "metadata": {},
   "outputs": [],
   "source": [
    "mm1 = 0\n",
    "mm2 = 100\n",
    "up_to_pc = 8"
   ]
  },
  {
   "cell_type": "code",
   "execution_count": 108,
   "id": "52df3e68",
   "metadata": {},
   "outputs": [
    {
     "data": {
      "image/png": "[encoded data removed]",
      "text/plain": [
       "<Figure size 864x432 with 2 Axes>"
      ]
     },
     "metadata": {
      "needs_background": "light"
     },
     "output_type": "display_data"
    }
   ],
   "source": [
    "plot_utils.set_all_font_sizes(15)\n",
    "plt.figure(figsize=(12,6));\n",
    "\n",
    "mm2plot = [mm1, mm2]\n",
    "npx = 1\n",
    "npy = 2\n",
    "\n",
    "for mi, mm in enumerate(mm2plot):\n",
    "    wts = wts_each_prf[mm]\n",
    "    # wts is components x features\n",
    "    plt.subplot(npx,npy,mi+1)\n",
    "    \n",
    "    plt.pcolormesh(wts[0:up_to_pc,:])\n",
    "\n",
    "    plt.xticks([]) \n",
    "    plt.ylabel('Components')\n",
    "    plt.xlabel('Features')\n",
    "    \n",
    "    plt.title('x,y,sigma=[%.2f, %.2f, %.2f]'\n",
    "          %(models[mm,0], models[mm,1], models[mm,2]));\n",
    "    "
   ]
  },
  {
   "cell_type": "code",
   "execution_count": 109,
   "id": "caac4ed3",
   "metadata": {},
   "outputs": [],
   "source": [
    "def test_pc_match(w1, w2, up_to_pc=None):\n",
    "\n",
    "    n_pcs = w1.shape[0]\n",
    "    assert(w2.shape[0]==n_pcs)\n",
    "    if up_to_pc is not None:\n",
    "        n_pcs = np.min([up_to_pc, n_pcs])\n",
    "   \n",
    "    if len(w2.shape)<3:\n",
    "        w2 = w2[:,:,np.newaxis]\n",
    "    n_trfs = w2.shape[2]\n",
    "    \n",
    "    wdot = np.tensordot(w1, w2, axes=(1,1))\n",
    "\n",
    "        \n",
    "    good_match = np.zeros((n_pcs,n_trfs))==1\n",
    "    for pc in range(n_pcs):\n",
    "        # check to see if any other pc weight vectors are a better match for it than the one at same position.\n",
    "        is_max_in_column = pc==np.argmax(wdot[:,pc,:], axis=0)\n",
    "        is_max_in_row = pc==np.argmax(wdot[pc,:,:], axis=0)\n",
    "        good_match[pc,:] = is_max_in_column & is_max_in_row\n",
    "\n",
    "    \n",
    "    return good_match"
   ]
  },
  {
   "cell_type": "code",
   "execution_count": 104,
   "id": "e0bf8cfb",
   "metadata": {},
   "outputs": [],
   "source": [
    " \n",
    "def find_best_trf(w1, w2, max_iter=100):\n",
    "    \n",
    "    up_to_pc = w1.shape[0]\n",
    "    assert(w2.shape[0]==up_to_pc)\n",
    "    \n",
    "    # List all the possible ways to multiply some set of PCs by -1 \n",
    "    all_combs = []\n",
    "    for n in range(up_to_pc+1):\n",
    "        combs_n = list(itertools.combinations(np.arange(up_to_pc),n))\n",
    "        all_combs+=combs_n\n",
    "\n",
    "    negate_elements = np.array([np.isin(np.arange(0,up_to_pc), comb).astype(int) for comb in all_combs])\n",
    "    negate_elements[negate_elements==1] = -1\n",
    "    negate_elements[negate_elements==0] = 1\n",
    "    assert(np.unique(negate_elements, axis=1).shape[0]==negate_elements.shape[0])\n",
    "\n",
    "    # List all the possible ways to swap pairs of PC with one another\n",
    "    flip_combs = list(itertools.combinations(np.arange(up_to_pc),2))  \n",
    "\n",
    "    best_trf_m = np.eye(up_to_pc).astype(np.int64)\n",
    "    best_match_list = test_pc_match(w1, best_trf_m @ w2, up_to_pc=up_to_pc)\n",
    "    best_n_mismatched = np.sum(~best_match_list)\n",
    "    best_first_mismatch = np.where(~best_match_list)[0][0]\n",
    "    \n",
    "    print('Initialization:')\n",
    "    print('best trf has %d mismatched'%best_n_mismatched)\n",
    "    print('best trf has %d matched before first mismatch'%best_first_mismatch)\n",
    "    print('best trf matrix:')\n",
    "    print(best_trf_m)\n",
    "    \n",
    "    ii=0\n",
    "    while best_n_mismatched>0 and ii<max_iter:\n",
    "        ii+=1\n",
    "\n",
    "        best_m_iter = best_trf_m\n",
    "\n",
    "        print('iter %d: trying all the pairwise flips'%ii)\n",
    "        for flip_inds in flip_combs:\n",
    "\n",
    "            curr_m = copy.deepcopy(best_m_iter)\n",
    "            curr_m[[flip_inds],:] = curr_m[[flip_inds[1], flip_inds[0]],:]\n",
    "\n",
    "            poss_transforms = np.tile(curr_m[:,:,np.newaxis], [1,1,negate_elements.shape[0]]) * negate_elements.T[np.newaxis, :,:]\n",
    "            w2_poss_transforms = np.moveaxis(np.tensordot(w2, poss_transforms, axes=(0,1)), [0,1,2], [1,0,2])\n",
    "\n",
    "            good_match = test_pc_match(w1, w2_poss_transforms, up_to_pc=up_to_pc)\n",
    "\n",
    "            n_mismatched_each_trf = np.sum(~good_match, axis=0)\n",
    "            \n",
    "#             print([np.where(~good_match[:,cc])[0] for cc in range(good_match.shape[1])])\n",
    "            first_mismatch = np.array([np.where(~good_match[:,cc])[0][0] if np.any(~good_match[:,cc]) \\\n",
    "                              else up_to_pc for cc in range(good_match.shape[1]) ])\n",
    "                              \n",
    "#             print(first_mismatch)\n",
    "#             if any(n_mismatched_each_trf < best_n_mismatched):\n",
    "            if any(first_mismatch > best_first_mismatch):\n",
    "\n",
    "                print('found better transform')\n",
    "\n",
    "                min_mismatched = np.min(n_mismatched_each_trf)\n",
    "                if np.sum(n_mismatched_each_trf==min_mismatched)>1:\n",
    "                    print('there is a tie for best transformation')\n",
    "\n",
    "                best_trf_ind = np.argmin(n_mismatched_each_trf)\n",
    "                curr_m = poss_transforms[:,:, best_trf_ind]\n",
    "\n",
    "    #             print(curr_m)\n",
    "                best_trf_m = curr_m\n",
    "                best_n_mismatched = min_mismatched\n",
    "                best_match_list = good_match[:,best_trf_ind]\n",
    "                best_first_mismatch = first_mismatch[best_trf_ind]\n",
    "\n",
    "    print('best trf has %d mismatched'%best_n_mismatched)\n",
    "    print('best trf has %d matched before first mismatch'%best_first_mismatch)\n",
    "    print('best trf matrix:')\n",
    "    print(best_trf_m)\n",
    "    \n",
    "    return best_trf_m, best_match_list"
   ]
  },
  {
   "cell_type": "code",
   "execution_count": 110,
   "id": "e824763a",
   "metadata": {},
   "outputs": [
    {
     "name": "stdout",
     "output_type": "stream",
     "text": [
      "Initialization:\n",
      "best trf has 4 mismatched\n",
      "best trf has 3 matched before first mismatch\n",
      "best trf matrix:\n",
      "[[1 0 0 0 0 0 0 0]\n",
      " [0 1 0 0 0 0 0 0]\n",
      " [0 0 1 0 0 0 0 0]\n",
      " [0 0 0 1 0 0 0 0]\n",
      " [0 0 0 0 1 0 0 0]\n",
      " [0 0 0 0 0 1 0 0]\n",
      " [0 0 0 0 0 0 1 0]\n",
      " [0 0 0 0 0 0 0 1]]\n",
      "iter 1: trying all the pairwise flips\n",
      "iter 2: trying all the pairwise flips\n",
      "iter 3: trying all the pairwise flips\n",
      "iter 4: trying all the pairwise flips\n",
      "iter 5: trying all the pairwise flips\n",
      "iter 6: trying all the pairwise flips\n",
      "iter 7: trying all the pairwise flips\n",
      "iter 8: trying all the pairwise flips\n",
      "iter 9: trying all the pairwise flips\n",
      "iter 10: trying all the pairwise flips\n",
      "iter 11: trying all the pairwise flips\n",
      "iter 12: trying all the pairwise flips\n",
      "iter 13: trying all the pairwise flips\n",
      "iter 14: trying all the pairwise flips\n",
      "iter 15: trying all the pairwise flips\n",
      "iter 16: trying all the pairwise flips\n",
      "iter 17: trying all the pairwise flips\n",
      "iter 18: trying all the pairwise flips\n",
      "iter 19: trying all the pairwise flips\n",
      "iter 20: trying all the pairwise flips\n",
      "iter 21: trying all the pairwise flips\n",
      "iter 22: trying all the pairwise flips\n",
      "iter 23: trying all the pairwise flips\n",
      "iter 24: trying all the pairwise flips\n",
      "iter 25: trying all the pairwise flips\n",
      "iter 26: trying all the pairwise flips\n",
      "iter 27: trying all the pairwise flips\n",
      "iter 28: trying all the pairwise flips\n",
      "iter 29: trying all the pairwise flips\n",
      "iter 30: trying all the pairwise flips\n",
      "iter 31: trying all the pairwise flips\n",
      "iter 32: trying all the pairwise flips\n",
      "iter 33: trying all the pairwise flips\n",
      "iter 34: trying all the pairwise flips\n",
      "iter 35: trying all the pairwise flips\n",
      "iter 36: trying all the pairwise flips\n",
      "iter 37: trying all the pairwise flips\n",
      "iter 38: trying all the pairwise flips\n",
      "iter 39: trying all the pairwise flips\n",
      "iter 40: trying all the pairwise flips\n",
      "iter 41: trying all the pairwise flips\n",
      "iter 42: trying all the pairwise flips\n",
      "iter 43: trying all the pairwise flips\n",
      "iter 44: trying all the pairwise flips\n",
      "iter 45: trying all the pairwise flips\n",
      "iter 46: trying all the pairwise flips\n",
      "iter 47: trying all the pairwise flips\n",
      "iter 48: trying all the pairwise flips\n",
      "iter 49: trying all the pairwise flips\n",
      "iter 50: trying all the pairwise flips\n",
      "iter 51: trying all the pairwise flips\n",
      "iter 52: trying all the pairwise flips\n",
      "iter 53: trying all the pairwise flips\n",
      "iter 54: trying all the pairwise flips\n",
      "iter 55: trying all the pairwise flips\n",
      "iter 56: trying all the pairwise flips\n",
      "iter 57: trying all the pairwise flips\n",
      "iter 58: trying all the pairwise flips\n",
      "iter 59: trying all the pairwise flips\n",
      "iter 60: trying all the pairwise flips\n",
      "iter 61: trying all the pairwise flips\n",
      "iter 62: trying all the pairwise flips\n",
      "iter 63: trying all the pairwise flips\n",
      "iter 64: trying all the pairwise flips\n",
      "iter 65: trying all the pairwise flips\n",
      "iter 66: trying all the pairwise flips\n",
      "iter 67: trying all the pairwise flips\n",
      "iter 68: trying all the pairwise flips\n",
      "iter 69: trying all the pairwise flips\n",
      "iter 70: trying all the pairwise flips\n",
      "iter 71: trying all the pairwise flips\n",
      "iter 72: trying all the pairwise flips\n",
      "iter 73: trying all the pairwise flips\n",
      "iter 74: trying all the pairwise flips\n",
      "iter 75: trying all the pairwise flips\n",
      "iter 76: trying all the pairwise flips\n",
      "iter 77: trying all the pairwise flips\n",
      "iter 78: trying all the pairwise flips\n",
      "iter 79: trying all the pairwise flips\n",
      "iter 80: trying all the pairwise flips\n",
      "iter 81: trying all the pairwise flips\n",
      "iter 82: trying all the pairwise flips\n",
      "iter 83: trying all the pairwise flips\n",
      "iter 84: trying all the pairwise flips\n",
      "iter 85: trying all the pairwise flips\n",
      "iter 86: trying all the pairwise flips\n",
      "iter 87: trying all the pairwise flips\n",
      "iter 88: trying all the pairwise flips\n",
      "iter 89: trying all the pairwise flips\n",
      "iter 90: trying all the pairwise flips\n",
      "iter 91: trying all the pairwise flips\n",
      "iter 92: trying all the pairwise flips\n",
      "iter 93: trying all the pairwise flips\n",
      "iter 94: trying all the pairwise flips\n",
      "iter 95: trying all the pairwise flips\n",
      "iter 96: trying all the pairwise flips\n",
      "iter 97: trying all the pairwise flips\n",
      "iter 98: trying all the pairwise flips\n",
      "iter 99: trying all the pairwise flips\n",
      "iter 100: trying all the pairwise flips\n",
      "best trf has 4 mismatched\n",
      "best trf has 3 matched before first mismatch\n",
      "best trf matrix:\n",
      "[[1 0 0 0 0 0 0 0]\n",
      " [0 1 0 0 0 0 0 0]\n",
      " [0 0 1 0 0 0 0 0]\n",
      " [0 0 0 1 0 0 0 0]\n",
      " [0 0 0 0 1 0 0 0]\n",
      " [0 0 0 0 0 1 0 0]\n",
      " [0 0 0 0 0 0 1 0]\n",
      " [0 0 0 0 0 0 0 1]]\n"
     ]
    }
   ],
   "source": [
    "import itertools\n",
    "\n",
    "w1 = copy.deepcopy(wts_each_prf[mm1][0:up_to_pc,:])\n",
    "w2 = copy.deepcopy(wts_each_prf[mm2][0:up_to_pc,:])  \n",
    "\n",
    "best_trf_m, best_match_list = find_best_trf(w1, w2)"
   ]
  },
  {
   "cell_type": "code",
   "execution_count": 106,
   "id": "a89a16e9",
   "metadata": {},
   "outputs": [
    {
     "data": {
      "text/plain": [
       "array([[ True],\n",
       "       [ True],\n",
       "       [ True],\n",
       "       [ True],\n",
       "       [ True],\n",
       "       [ True],\n",
       "       [ True],\n",
       "       [ True]])"
      ]
     },
     "execution_count": 106,
     "metadata": {},
     "output_type": "execute_result"
    },
    {
     "data": {
      "image/png": "[encoded data removed]",
      "text/plain": [
       "<Figure size 576x576 with 1 Axes>"
      ]
     },
     "metadata": {
      "needs_background": "light"
     },
     "output_type": "display_data"
    }
   ],
   "source": [
    "# Visualize the best alignment\n",
    "\n",
    "w1 = copy.deepcopy(wts_each_prf[mm1][0:8,:])\n",
    "w2 = copy.deepcopy(wts_each_prf[mm2][0:8,:])   \n",
    "\n",
    "w2 = best_trf_m @ w2[0:10,:]\n",
    "\n",
    "wdot = np.tensordot(w1, w2, axes=(1,1))\n",
    "\n",
    "plt.figure(figsize=(8,8));\n",
    "plt.pcolormesh(wdot[0:10,0:10])\n",
    "\n",
    "test_pc_match(w1, w2, up_to_pc=10)"
   ]
  },
  {
   "cell_type": "code",
   "execution_count": 100,
   "id": "89765ea6",
   "metadata": {},
   "outputs": [
    {
     "data": {
      "image/png": "[encoded data removed]",
      "text/plain": [
       "<Figure size 864x432 with 2 Axes>"
      ]
     },
     "metadata": {
      "needs_background": "light"
     },
     "output_type": "display_data"
    }
   ],
   "source": [
    "plot_utils.set_all_font_sizes(15)\n",
    "plt.figure(figsize=(12,6));\n",
    "\n",
    "mm2plot = [0,2]\n",
    "npx = 1\n",
    "npy = 2\n",
    "\n",
    "for mi, mm in enumerate(mm2plot):\n",
    "    wts = copy.deepcopy(wts_each_prf[mm][0:up_to_pc,:])\n",
    "    \n",
    "    if mi==1:\n",
    "\n",
    "        wts = best_trf_m @ wts\n",
    "    \n",
    "    # wts is components x features\n",
    "    plt.subplot(npx,npy,mi+1)\n",
    "    \n",
    "    plt.pcolormesh(wts[0:up_to_pc,:])\n",
    "\n",
    "    plt.xticks([]) \n",
    "    plt.ylabel('Components')\n",
    "    plt.xlabel('Features')\n",
    "    \n",
    "    plt.title('x,y,sigma=[%.2f, %.2f, %.2f]'\n",
    "          %(models[mm,0], models[mm,1], models[mm,2]));\n",
    "    "
   ]
  },
  {
   "cell_type": "code",
   "execution_count": 4,
   "id": "4dec98e1",
   "metadata": {},
   "outputs": [
    {
     "data": {
      "text/plain": [
       "(10000, 100)"
      ]
     },
     "execution_count": 4,
     "metadata": {},
     "output_type": "execute_result"
    }
   ],
   "source": [
    "scores_each_prf[0].shape"
   ]
  },
  {
   "cell_type": "code",
   "execution_count": 11,
   "id": "0b4947e6",
   "metadata": {},
   "outputs": [
    {
     "data": {
      "text/plain": [
       "array([[-0.15714286, -0.47142857,  0.05557982],\n",
       "       [-0.15714286, -0.31428571,  0.05557982],\n",
       "       [-0.31428571,  0.        ,  0.05557982],\n",
       "       [-0.15714286,  0.15714286,  0.05557982],\n",
       "       [ 0.44      ,  0.11      ,  0.07722791],\n",
       "       [ 0.39285714, -0.07857143,  0.10730783],\n",
       "       [-0.11      ,  0.11      ,  0.14910375],\n",
       "       [ 0.18333333, -0.18333333,  0.207179  ],\n",
       "       [ 0.55      ,  0.55      ,  0.28787428]])"
      ]
     },
     "execution_count": 11,
     "metadata": {},
     "output_type": "execute_result"
    }
   ],
   "source": [
    "models[np.array([420, 450, 508, 540, 700, 776, 830, 852, 870])]"
   ]
  },
  {
   "cell_type": "code",
   "execution_count": 12,
   "id": "6101370d",
   "metadata": {},
   "outputs": [
    {
     "data": {
      "text/plain": [
       "(array([416, 417, 418, 419, 420, 421, 422, 423, 424, 425, 426, 427, 428,\n",
       "        431, 432, 433, 434, 435, 436, 437, 438, 439, 440, 441, 442, 443,\n",
       "        446, 447, 448, 449, 450, 451, 452, 453, 454, 455, 456, 457, 458,\n",
       "        461, 462, 463, 464, 465, 466, 467, 468, 469, 470, 471, 472, 473,\n",
       "        476, 477, 478, 479, 480, 481, 482, 483, 484, 485, 486, 487, 488,\n",
       "        491, 492, 493, 494, 495, 496, 497, 498, 499, 500, 501, 502, 503,\n",
       "        506, 507, 508, 509, 510, 511, 512, 513, 514, 515, 516, 517, 518,\n",
       "        521, 522, 523, 524, 525, 526, 527, 528, 529, 530, 531, 532, 533,\n",
       "        536, 537, 538, 539, 540, 541, 542, 543, 544, 545, 546, 547, 548,\n",
       "        551, 552, 553, 554, 555, 556, 557, 558, 559, 560, 561, 562, 563,\n",
       "        566, 567, 568, 569, 570, 571, 572, 573, 574, 575, 576, 577, 578,\n",
       "        581, 582, 583, 584, 585, 586, 587, 588, 589, 590, 591, 592, 593,\n",
       "        596, 597, 598, 599, 600, 601, 602, 603, 604, 605, 606, 607, 608,\n",
       "        637, 638, 639, 640, 641, 642, 643, 644, 645, 648, 649, 650, 651,\n",
       "        652, 653, 654, 655, 656, 659, 660, 661, 662, 663, 664, 665, 666,\n",
       "        667, 670, 671, 672, 673, 674, 675, 676, 677, 678, 681, 682, 683,\n",
       "        684, 685, 686, 687, 688, 689, 692, 693, 694, 695, 696, 697, 698,\n",
       "        699, 700, 703, 704, 705, 706, 707, 708, 709, 710, 711, 714, 715,\n",
       "        716, 717, 718, 719, 720, 721, 722, 725, 726, 727, 728, 729, 730,\n",
       "        731, 732, 733, 755, 756, 757, 758, 759, 760, 763, 764, 765, 766,\n",
       "        767, 768, 771, 772, 773, 774, 775, 776, 779, 780, 781, 782, 783,\n",
       "        784, 787, 788, 789, 790, 791, 792, 795, 796, 797, 798, 799, 800,\n",
       "        817, 818, 819, 820, 823, 824, 825, 826, 829, 830, 831, 832, 835,\n",
       "        836, 837, 838, 851, 852, 855, 856, 866]),)"
      ]
     },
     "execution_count": 12,
     "metadata": {},
     "output_type": "execute_result"
    }
   ],
   "source": [
    "np.where(np.logical_and(np.logical_and(np.abs(models[:,0])<0.5,np.abs(models[:,1])<0.5), np.abs(models[:,2])>0.04))"
   ]
  }
 ],
 "metadata": {
  "kernelspec": {
   "display_name": "Python 3",
   "language": "python",
   "name": "python3"
  },
  "language_info": {
   "codemirror_mode": {
    "name": "ipython",
    "version": 3
   },
   "file_extension": ".py",
   "mimetype": "text/x-python",
   "name": "python",
   "nbconvert_exporter": "python",
   "pygments_lexer": "ipython3",
   "version": "3.7.1"
  }
 },
 "nbformat": 4,
 "nbformat_minor": 5
}
