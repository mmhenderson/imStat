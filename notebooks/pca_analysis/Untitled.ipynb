{
 "cells": [
  {
   "cell_type": "code",
   "execution_count": 1,
   "id": "8fac5a19",
   "metadata": {},
   "outputs": [],
   "source": [
    "tstfn = '/lab_data/tarrlab/common/datasets/NSD/nsddata/ppdata/subj01/func1pt8mm/roi/nsdgeneral.nii.gz'"
   ]
  },
  {
   "cell_type": "code",
   "execution_count": 3,
   "id": "c294273f",
   "metadata": {},
   "outputs": [],
   "source": [
    "import numpy as np\n",
    "import os, sys\n",
    "import pandas as pd\n",
    "import nibabel as nib\n",
    "\n",
    "ret_group_names = ['V1', 'V2', 'V3','hV4','VO1-2','PHC1-2','LO1-2','TO1-2','V3ab','IPS0-5','SPL1','FEF']\n",
    "ret_group_inds = [[1,2],[3,4],[5,6],[7],[8,9],[10,11],[14,15],[12,13],[16,17],[18,19,20,21,22,23],[24],[25]]\n",
    "\n",
    "sys.path.append('/user_data/mmhender/imStat/code/')\n",
    "from utils import default_paths\n",
    "from utils import nsd_utils\n",
    "from utils.nsd_utils import load_from_nii, load_from_mgz\n",
    "\n"
   ]
  },
  {
   "cell_type": "code",
   "execution_count": 4,
   "id": "cad574cd",
   "metadata": {},
   "outputs": [],
   "source": [
    "labs  = load_from_nii(tstfn)"
   ]
  },
  {
   "cell_type": "code",
   "execution_count": 7,
   "id": "1b3c2139",
   "metadata": {},
   "outputs": [
    {
     "data": {
      "text/plain": [
       "15724"
      ]
     },
     "execution_count": 7,
     "metadata": {},
     "output_type": "execute_result"
    }
   ],
   "source": [
    "np.sum(labs==1)"
   ]
  }
 ],
 "metadata": {
  "kernelspec": {
   "display_name": "Python 3",
   "language": "python",
   "name": "python3"
  },
  "language_info": {
   "codemirror_mode": {
    "name": "ipython",
    "version": 3
   },
   "file_extension": ".py",
   "mimetype": "text/x-python",
   "name": "python",
   "nbconvert_exporter": "python",
   "pygments_lexer": "ipython3",
   "version": "3.7.1"
  }
 },
 "nbformat": 4,
 "nbformat_minor": 5
}
