{
 "cells": [
  {
   "cell_type": "code",
   "execution_count": 8,
   "id": "26034236",
   "metadata": {},
   "outputs": [],
   "source": [
    "import numpy as np\n",
    "import sys, os\n",
    "from utils import default_paths\n",
    "import pandas as pd"
   ]
  },
  {
   "cell_type": "code",
   "execution_count": 19,
   "id": "6746e912",
   "metadata": {},
   "outputs": [
    {
     "data": {
      "text/plain": [
       "array([5002.,  243.,  859.,  258.,  273.,  315.,  321.,  452.,  271.,\n",
       "        313.,  127.,  143.,   52.,  423.,  283.,  366.,  374.,  231.,\n",
       "        128.,  186.,  207.,  111.,  171.,  266.,  384.,  296.,  469.,\n",
       "        306.,  173.,  178.,  322.,  147.,  332.,  188.,  186.,  219.,\n",
       "        260.,  353.,  299.,  617.,  187.,  670.,  230.,  296.,  278.,\n",
       "        570.,  202.,  126.,  169.,  120.,  162.,  131.,   93.,  258.,\n",
       "        139.,  206.,  944.,  288.,  342.,  317.,  882.,  293.,  306.,\n",
       "        236.,  130.,  191.,  142.,  338.,  136.,  250.,   16.,  415.,\n",
       "        177.,  406.,  393.,  266.,   71.,  151.,   20.,   83.])"
      ]
     },
     "execution_count": 19,
     "metadata": {},
     "output_type": "execute_result"
    }
   ],
   "source": [
    "fn2load = os.path.join('/user_data/mmhender/nsd/labels/S1_within_prf_grid5_backup', \\\n",
    "                       'S1_cocolabs_binary_prf999.csv')\n",
    "counts_old = pd.read_csv(fn2load, index_col=0)\n",
    "sums = np.array(np.sum(counts_old))[12:92]\n",
    "sums"
   ]
  },
  {
   "cell_type": "code",
   "execution_count": 20,
   "id": "d84795b7",
   "metadata": {},
   "outputs": [
    {
     "data": {
      "text/plain": [
       "array([2164,   41,  109,  148,  166,  198,  244,  150,   79,   15,   36,\n",
       "         57,   17,  114,   64,  247,  183,  122,   43,   87,  163,   82,\n",
       "        109,  159,   12,   74,   21,   15,   75,   11,    3,    6,    1,\n",
       "         20,    1,    6,   13,   38,    6,   33,   10,   52,    1,    3,\n",
       "          1,  150,   72,   26,   98,   23,   46,   13,   46,  177,   51,\n",
       "         97,  123,  156,   60,  267,  560,  105,   93,   99,    5,    9,\n",
       "         39,   32,   31,   86,    4,   49,   96,   46,   29,   45,   12,\n",
       "         87,    2,    6])"
      ]
     },
     "execution_count": 20,
     "metadata": {},
     "output_type": "execute_result"
    }
   ],
   "source": [
    "new_sums = out['things_cat_counts'][0,999,:]\n",
    "new_sums.astype(int)"
   ]
  },
  {
   "cell_type": "code",
   "execution_count": 21,
   "id": "d6dd9c5a",
   "metadata": {},
   "outputs": [
    {
     "data": {
      "text/plain": [
       "array([ True,  True,  True,  True,  True,  True,  True,  True,  True,\n",
       "        True,  True,  True,  True,  True,  True,  True,  True,  True,\n",
       "        True,  True,  True,  True,  True,  True,  True,  True,  True,\n",
       "        True,  True,  True,  True,  True,  True,  True,  True,  True,\n",
       "        True,  True,  True,  True,  True,  True,  True,  True,  True,\n",
       "        True,  True,  True,  True,  True,  True,  True,  True,  True,\n",
       "        True,  True,  True,  True,  True,  True,  True,  True,  True,\n",
       "        True,  True,  True,  True,  True,  True,  True,  True,  True,\n",
       "        True,  True,  True,  True,  True,  True,  True,  True])"
      ]
     },
     "execution_count": 21,
     "metadata": {},
     "output_type": "execute_result"
    }
   ],
   "source": [
    "sums>new_sums"
   ]
  },
  {
   "cell_type": "code",
   "execution_count": 30,
   "id": "3c26d993",
   "metadata": {},
   "outputs": [
    {
     "data": {
      "text/plain": [
       "array([  38,   13,   33,   26,  469,   99,  105,   58,   29,   23,   16,\n",
       "          2,   11,   87,  221,   64,   12,   49,   31,  135,   73,  150,\n",
       "          7,   30,   14,   38,   42,   37,   42,   82,   28,  137,  414,\n",
       "         21,   63,   51,   70,   18,   21,    3,  159,   56,    4,   96,\n",
       "          3,    9,   26,   52,  144,    6,   78,   54,   13,  169,   15,\n",
       "         17,   51,  154,   33,   15,    3,   14,   85,  328,   46,  483,\n",
       "         44,  239,   10,   12,   26,   22,   37,   89,   10,   66,   12,\n",
       "        654,   34,   56,  462,  237,   28,   11,  165,   74,   54,    4,\n",
       "         16,  103,   35, 6843])"
      ]
     },
     "execution_count": 30,
     "metadata": {},
     "output_type": "execute_result"
    }
   ],
   "source": [
    "fn2load = os.path.join('/user_data/mmhender/nsd/labels/S1_within_prf_grid5_backup', \\\n",
    "                       'S1_cocolabs_stuff_binary_prf0.csv')\n",
    "counts_old = pd.read_csv(fn2load, index_col=0)\n",
    "sums = np.array(np.sum(counts_old))[16:108]\n",
    "sums.astype(int)"
   ]
  },
  {
   "cell_type": "code",
   "execution_count": 31,
   "id": "40f0e9b6",
   "metadata": {},
   "outputs": [
    {
     "data": {
      "text/plain": [
       "array([  29,    8,   30,   23,  425,   79,   87,   50,   26,   18,   13,\n",
       "          1,    6,   56,  195,   53,    7,   44,   28,  111,   64,  122,\n",
       "          4,   24,   14,   30,   35,   33,   35,   77,   21,   96,  343,\n",
       "         15,   51,   45,   57,   13,   17,    3,  126,   53,    4,   86,\n",
       "          3,    6,   22,   43,  123,    3,   66,   40,    9,  158,    9,\n",
       "         13,   40,  122,   29,   12,    3,   12,   71,  303,   39,  436,\n",
       "         37,  214,    9,    9,   24,   17,   32,   72,    6,   52,    7,\n",
       "        560,   27,   48,  403,  205,   22,    9,  153,   63,   51,    2,\n",
       "         13,   89,   27, 6473])"
      ]
     },
     "execution_count": 31,
     "metadata": {},
     "output_type": "execute_result"
    }
   ],
   "source": [
    "new_sums = out['stuff_cat_counts'][0,0,:]\n",
    "new_sums.astype(int)"
   ]
  },
  {
   "cell_type": "code",
   "execution_count": 32,
   "id": "e0fc6329",
   "metadata": {},
   "outputs": [
    {
     "data": {
      "text/plain": [
       "array([ True,  True,  True,  True,  True,  True,  True,  True,  True,\n",
       "        True,  True,  True,  True,  True,  True,  True,  True,  True,\n",
       "        True,  True,  True,  True,  True,  True, False,  True,  True,\n",
       "        True,  True,  True,  True,  True,  True,  True,  True,  True,\n",
       "        True,  True,  True, False,  True,  True, False,  True, False,\n",
       "        True,  True,  True,  True,  True,  True,  True,  True,  True,\n",
       "        True,  True,  True,  True,  True,  True, False,  True,  True,\n",
       "        True,  True,  True,  True,  True,  True,  True,  True,  True,\n",
       "        True,  True,  True,  True,  True,  True,  True,  True,  True,\n",
       "        True,  True,  True,  True,  True,  True,  True,  True,  True,\n",
       "        True,  True])"
      ]
     },
     "execution_count": 32,
     "metadata": {},
     "output_type": "execute_result"
    }
   ],
   "source": [
    "sums>new_sums"
   ]
  },
  {
   "cell_type": "code",
   "execution_count": 2,
   "id": "0a55d2f0",
   "metadata": {},
   "outputs": [
    {
     "data": {
      "text/plain": [
       "dict_keys(['things_supcat_counts', 'things_cat_counts', 'stuff_supcat_counts', 'stuff_cat_counts', 'things_supcat_counts_trntrials', 'things_cat_counts_trntrials', 'stuff_supcat_counts_trntrials', 'stuff_cat_counts_trntrials', 'things_supcat_counts_valtrials', 'things_cat_counts_valtrials', 'stuff_supcat_counts_valtrials', 'stuff_cat_counts_valtrials'])"
      ]
     },
     "execution_count": 2,
     "metadata": {},
     "output_type": "execute_result"
    }
   ],
   "source": [
    "labels_folder = os.path.join(default_paths.stim_labels_root)\n",
    "which_prf_grid=5\n",
    "fn2save = os.path.join(default_paths.stim_labels_root, \\\n",
    "                       'Coco_label_counts_all_prf_grid%d.npy'%(which_prf_grid))      \n",
    "out = np.load(fn2save, allow_pickle=True).item()\n",
    "out.keys()"
   ]
  },
  {
   "cell_type": "code",
   "execution_count": 2,
   "id": "5fd286d9",
   "metadata": {},
   "outputs": [
    {
     "data": {
      "text/plain": [
       "dict_keys(['things_supcat_counts', 'things_cat_counts', 'stuff_supcat_counts', 'stuff_cat_counts', 'things_supcat_counts_trntrials', 'things_cat_counts_trntrials', 'stuff_supcat_counts_trntrials', 'stuff_cat_counts_trntrials', 'things_supcat_counts_valtrials', 'things_cat_counts_valtrials', 'stuff_supcat_counts_valtrials', 'stuff_cat_counts_valtrials'])"
      ]
     },
     "execution_count": 2,
     "metadata": {},
     "output_type": "execute_result"
    }
   ],
   "source": [
    "labels_folder = os.path.join(default_paths.stim_labels_root)\n",
    "which_prf_grid=5\n",
    "fn2save = os.path.join(default_paths.stim_labels_root, \\\n",
    "                       'Coco_label_counts_all_prf_grid%d.npy'%(which_prf_grid))      \n",
    "out = np.load(fn2save, allow_pickle=True).item()\n",
    "out.keys()"
   ]
  },
  {
   "cell_type": "code",
   "execution_count": 4,
   "id": "b7585d4a",
   "metadata": {},
   "outputs": [
    {
     "data": {
      "text/plain": [
       "(8, 1456, 80)"
      ]
     },
     "execution_count": 4,
     "metadata": {},
     "output_type": "execute_result"
    }
   ],
   "source": [
    "out['things_cat_counts'].shape"
   ]
  },
  {
   "cell_type": "code",
   "execution_count": 7,
   "id": "c7e0485d",
   "metadata": {},
   "outputs": [
    {
     "data": {
      "text/plain": [
       "array([[2173,   35,   80,  119,  177,  187,  236,  141,   95,   13,   47,\n",
       "          44,   13,   72,   95,  230,  194,  129,   68,  106,  155,   88,\n",
       "         125,  145,   25,   75,   35,   38,   60,   17,   11,    5,    3,\n",
       "          35,    6,   14,   19,   59,   16,   40,   18,   57,    4,   10,\n",
       "           7,  141,   63,   35,   80,   23,   48,   24,   44,  156,   63,\n",
       "          82,  105,   60,   51,  123,  335,   80,   68,   68,    1,   14,\n",
       "          27,   37,   25,   65,    1,   44,   64,   37,   49,   56,   17,\n",
       "          76,    1,    8],\n",
       "       [2103,   42,   83,  111,  197,  194,  259,  140,   86,   21,   42,\n",
       "          33,   18,   81,   91,  215,  159,  127,   72,  121,  180,   87,\n",
       "         135,  145,   25,   61,   31,   30,   57,   10,    5,    8,    8,\n",
       "          20,    8,   17,   25,   52,   21,   53,   24,   59,    3,    7,\n",
       "           9,  128,   66,   33,   89,   36,   51,   25,   33,  166,   49,\n",
       "          90,   94,   51,   59,  127,  348,   69,   61,   78,    3,   13,\n",
       "          25,   28,   18,   58,    3,   42,   53,   46,   63,   56,   19,\n",
       "          64,    1,    4],\n",
       "       [2108,   34,  104,  110,  191,  188,  222,  136,   90,   33,   50,\n",
       "          34,   16,   79,   97,  235,  153,  147,   65,   88,  153,   85,\n",
       "         124,  156,   23,   73,   34,   36,   47,   13,    7,   11,    4,\n",
       "          24,    8,   12,   18,   56,   19,   44,   28,   64,    9,    5,\n",
       "          10,  139,   73,   24,   81,   27,   62,   24,   41,  143,   60,\n",
       "          79,  106,   63,   50,  120,  348,   62,   59,   61,    7,   13,\n",
       "          20,   30,   25,   57,    2,   33,   59,   46,   73,   55,   15,\n",
       "          79,    0,    6],\n",
       "       [2107,   23,   80,  119,  185,  199,  271,  143,   75,   27,   48,\n",
       "          39,   19,   66,  110,  201,  156,  128,   78,   87,  150,   64,\n",
       "         141,  173,   27,   58,   26,   39,   63,    9,    6,   13,    3,\n",
       "          23,    7,   14,   26,   61,   17,   38,   31,   54,    6,    7,\n",
       "           7,  129,   63,   38,   86,   32,   59,   23,   40,  156,   59,\n",
       "          96,   77,   62,   47,  137,  321,   71,   75,   52,    1,   20,\n",
       "          23,   32,   20,   76,    3,   40,   64,   43,   71,   61,   15,\n",
       "          70,    1,    4],\n",
       "       [2000,   36,  105,  124,  167,  180,  239,  164,   75,   18,   49,\n",
       "          50,   14,   65,   90,  208,  164,  126,   69,  108,  157,   81,\n",
       "         139,  155,   29,   44,   32,   26,   56,   15,    8,   18,    6,\n",
       "          21,    8,    9,   26,   56,   15,   53,   26,   50,   11,    8,\n",
       "          11,  125,   63,   28,   85,   43,   60,   30,   43,  166,   62,\n",
       "         106,   97,   78,   54,  126,  334,   69,   66,   61,    7,   14,\n",
       "          33,   29,   28,   74,    1,   39,   54,   50,   72,   51,   15,\n",
       "          62,    1,    1],\n",
       "       [2065,   40,   87,  132,  196,  206,  231,  111,   69,   30,   55,\n",
       "          40,   18,   75,  114,  214,  167,  135,   72,   95,  155,   89,\n",
       "         137,  139,   26,   53,   26,   44,   53,   11,    6,   11,    1,\n",
       "          28,    6,    8,   22,   47,   16,   29,   24,   47,    7,   13,\n",
       "          10,  143,   76,   27,   91,   28,   70,   20,   39,  144,   47,\n",
       "          96,   85,   56,   48,  144,  351,   83,   79,   73,    8,   11,\n",
       "          24,   36,   24,   60,    1,   26,   54,   42,   75,   51,   12,\n",
       "          92,    1,    7],\n",
       "       [2043,   30,   93,   93,  205,  192,  245,  146,   75,   25,   44,\n",
       "          42,   12,   60,   98,  189,  172,  137,   70,   90,  171,   98,\n",
       "         146,  157,   21,   64,   18,   46,   57,   20,    6,   11,    5,\n",
       "          30,    4,   12,   22,   55,   17,   36,   19,   47,   10,   13,\n",
       "           7,  140,   76,   28,   97,   36,   64,   30,   43,  174,   56,\n",
       "          93,  106,   55,   60,  111,  334,   87,   80,   63,    7,   14,\n",
       "          22,   26,   18,   72,    0,   33,   68,   32,   73,   64,   20,\n",
       "          79,    0,    5],\n",
       "       [2110,   38,   97,  127,  157,  184,  247,  126,   77,   18,   49,\n",
       "          31,   20,   61,  102,  207,  164,  140,   56,  100,  161,   86,\n",
       "         138,  176,   23,   62,   14,   34,   54,   12,   10,   10,    7,\n",
       "          33,   11,   12,   12,   54,   22,   49,   13,   43,    9,    6,\n",
       "           8,  132,   68,   27,   80,   37,   64,   32,   36,  138,   59,\n",
       "          88,   91,   72,   56,  129,  322,   83,   72,   68,    2,   12,\n",
       "          28,   31,   16,   77,    1,   45,   61,   43,   77,   51,   20,\n",
       "          83,    0,    9]])"
      ]
     },
     "execution_count": 7,
     "metadata": {},
     "output_type": "execute_result"
    }
   ],
   "source": [
    "out['things_cat_counts'][:,0,:].astype(int)"
   ]
  }
 ],
 "metadata": {
  "kernelspec": {
   "display_name": "Python 3",
   "language": "python",
   "name": "python3"
  },
  "language_info": {
   "codemirror_mode": {
    "name": "ipython",
    "version": 3
   },
   "file_extension": ".py",
   "mimetype": "text/x-python",
   "name": "python",
   "nbconvert_exporter": "python",
   "pygments_lexer": "ipython3",
   "version": "3.7.1"
  }
 },
 "nbformat": 4,
 "nbformat_minor": 5
}
